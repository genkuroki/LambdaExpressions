{
 "cells": [
  {
   "cell_type": "markdown",
   "metadata": {},
   "source": [
    "# LispLikeEval.ipynb\n",
    "\n",
    "* Author: Gen Kuroki\n",
    "* Date: 2020-10-19\n",
    "* Repository: https://github.com/genkuroki/LispLikeEval.jl\n",
    "\n",
    "**Installation**\n",
    "```\n",
    "pkg> add https://github.com/genkuroki/LispLikeEval.jl\n",
    "```"
   ]
  },
  {
   "cell_type": "markdown",
   "metadata": {
    "toc": true
   },
   "source": [
    "<h1>Table of Contents<span class=\"tocSkip\"></span></h1>\n",
    "<div class=\"toc\"><ul class=\"toc-item\"><li><span><a href=\"#Examples\" data-toc-modified-id=\"Examples-1\"><span class=\"toc-item-num\">1&nbsp;&nbsp;</span>Examples</a></span></li><li><span><a href=\"#Plot-example-of-MetaUtils.@teval\" data-toc-modified-id=\"Plot-example-of-MetaUtils.@teval-2\"><span class=\"toc-item-num\">2&nbsp;&nbsp;</span>Plot example of MetaUtils.@teval</a></span></li><li><span><a href=\"#Documents\" data-toc-modified-id=\"Documents-3\"><span class=\"toc-item-num\">3&nbsp;&nbsp;</span>Documents</a></span></li></ul></div>"
   ]
  },
  {
   "cell_type": "code",
   "execution_count": 1,
   "metadata": {},
   "outputs": [
    {
     "name": "stderr",
     "output_type": "stream",
     "text": [
      "\u001b[32m\u001b[1m Activating\u001b[22m\u001b[39m environment at `C:\\Users\\genkuroki\\OneDrive\\work\\LispLikeEval.jl\\Project.toml`\n"
     ]
    }
   ],
   "source": [
    "if isfile(\"Project.toml\")\n",
    "    using Pkg\n",
    "    Pkg.activate(\".\")\n",
    "    using Revise\n",
    "end"
   ]
  },
  {
   "cell_type": "code",
   "execution_count": 2,
   "metadata": {},
   "outputs": [
    {
     "name": "stderr",
     "output_type": "stream",
     "text": [
      "┌ Info: Precompiling LispLikeEval [75a861b3-8f1b-477e-b3cd-11ffebdbd227]\n",
      "└ @ Base loading.jl:1278\n"
     ]
    }
   ],
   "source": [
    "using LispLikeEval\n",
    "using MetaUtils"
   ]
  },
  {
   "cell_type": "markdown",
   "metadata": {},
   "source": [
    "## Examples"
   ]
  },
  {
   "cell_type": "code",
   "execution_count": 3,
   "metadata": {},
   "outputs": [
    {
     "name": "stdout",
     "output_type": "stream",
     "text": [
      ":((lambda((x, y), x + y))(1, 2))\n",
      "\n",
      "(:call, \n",
      "    (:call, :lambda, \n",
      "        (:tuple, :x, :y), \n",
      "        (:call, :+, :x, :y)), 1, 2)\n",
      "\n",
      "|\n",
      "V\n",
      "\n",
      ":(let\n",
      "      x = 1\n",
      "      y = 2\n",
      "      x + y\n",
      "  end)\n",
      "\n",
      "(:let, \n",
      "    (:block,), \n",
      "    (:block, \n",
      "        (:(=), :x, 1), \n",
      "        (:(=), :y, 2), \n",
      "        (:call, :+, :x, :y)))\n",
      "\n"
     ]
    },
    {
     "data": {
      "text/plain": [
       "3"
      ]
     },
     "execution_count": 3,
     "metadata": {},
     "output_type": "execute_result"
    }
   ],
   "source": [
    "lexpr = :(lambda((x, y), x+y)(1, 2))\n",
    "show(lexpr); println(\"\\n\")\n",
    "show_texpr(lexpr); println(\"\\n\")\n",
    "\n",
    "println(\"|\\nV\\n\")\n",
    "\n",
    "expr = lexpr2expr(lexpr)\n",
    "show(expr); println(\"\\n\")\n",
    "show_texpr(expr); println(\"\\n\")\n",
    "\n",
    "@leval lambda((x, y), x+y)(1, 2)"
   ]
  },
  {
   "cell_type": "code",
   "execution_count": 4,
   "metadata": {},
   "outputs": [
    {
     "name": "stdout",
     "output_type": "stream",
     "text": [
      ":((lambda((f, x), f(x)))(lambda(x, cond((iszero(x), 1), (true, x * f(x - 1)))), 10))\n",
      "\n",
      "(:call, \n",
      "    (:call, :lambda, \n",
      "        (:tuple, :f, :x), \n",
      "        (:call, :f, :x)), \n",
      "    (:call, :lambda, :x, \n",
      "        (:call, :cond, \n",
      "            (:tuple, \n",
      "                (:call, :iszero, :x), 1), \n",
      "            (:tuple, true, \n",
      "                (:call, :*, :x, \n",
      "                    (:call, :f, \n",
      "                        (:call, :-, :x, 1)))))), 10)\n",
      "\n",
      "|\n",
      "V\n",
      "\n",
      ":(let\n",
      "      f = (x->if iszero(x)\n",
      "                  1\n",
      "              elseif true\n",
      "                  x * f(x - 1)\n",
      "              end)\n",
      "      x = 10\n",
      "      f(x)\n",
      "  end)\n",
      "\n",
      "(:let, \n",
      "    (:block,), \n",
      "    (:block, \n",
      "        (:(=), :f, \n",
      "            (:->, :x, \n",
      "                (:if, \n",
      "                    (:call, :iszero, :x), \n",
      "                    (:block, 1), \n",
      "                    (:elseif, \n",
      "                        (:block, true), \n",
      "                        (:block, \n",
      "                            (:call, :*, :x, \n",
      "                                (:call, :f, \n",
      "                                    (:call, :-, :x, 1)))))))), \n",
      "        (:(=), :x, 10), \n",
      "        (:call, :f, :x)))\n",
      "\n"
     ]
    },
    {
     "data": {
      "text/plain": [
       "3628800"
      ]
     },
     "execution_count": 4,
     "metadata": {},
     "output_type": "execute_result"
    }
   ],
   "source": [
    "lexpr = :(lambda((f, x), f(x))(\n",
    "        lambda(x, cond((iszero(x), 1), (true, x*f(x-1)))),\n",
    "        10))\n",
    "show(lexpr); println(\"\\n\")\n",
    "show_texpr(lexpr); println(\"\\n\")\n",
    "\n",
    "println(\"|\\nV\\n\")\n",
    "\n",
    "expr = lexpr2expr(lexpr)\n",
    "show(expr); println(\"\\n\")\n",
    "show_texpr(expr); println(\"\\n\")\n",
    "\n",
    "@leval lambda((f, x), f(x))(\n",
    "    lambda(x, cond((iszero(x), 1), (true, x*f(x-1)))),\n",
    "    10)"
   ]
  },
  {
   "cell_type": "code",
   "execution_count": 5,
   "metadata": {},
   "outputs": [
    {
     "data": {
      "text/plain": [
       ":(let\n",
       "      assoc = ((k, v)->if eq(v, nil)\n",
       "                  nil\n",
       "              elseif eq(car(car(v)), k)\n",
       "                  car(v)\n",
       "              elseif true\n",
       "                  assoc(k, cdr(v))\n",
       "              end)\n",
       "      k = :Orange\n",
       "      v = (:Apple => 120, :Orange => 210, :Lemmon => 180)\n",
       "      assoc(k, v)\n",
       "  end)"
      ]
     },
     "execution_count": 5,
     "metadata": {},
     "output_type": "execute_result"
    }
   ],
   "source": [
    "@lexpr2expr lambda((assoc, k, v), assoc(k, v))(\n",
    "    lambda((k, v), cond(\n",
    "            (eq(v, nil), nil),\n",
    "            (eq(car(car(v)), k), car(v)), \n",
    "            (true, assoc(k, cdr(v))))),\n",
    "    :Orange,\n",
    "    (:Apple=>120, :Orange=>210, :Lemmon=>180))"
   ]
  },
  {
   "cell_type": "code",
   "execution_count": 6,
   "metadata": {},
   "outputs": [
    {
     "data": {
      "text/plain": [
       ":Apple => 120"
      ]
     },
     "execution_count": 6,
     "metadata": {},
     "output_type": "execute_result"
    }
   ],
   "source": [
    "@leval lambda((assoc, k, v), assoc(k, v))(\n",
    "    lambda((k, v), cond(\n",
    "            (eq(v, nil), nil),\n",
    "            (eq(car(car(v)), k), car(v)), \n",
    "            (true, assoc(k, cdr(v))))),\n",
    "    :Apple,\n",
    "    (:Apple=>120, :Orange=>210, :Lemmon=>180))"
   ]
  },
  {
   "cell_type": "code",
   "execution_count": 7,
   "metadata": {},
   "outputs": [
    {
     "data": {
      "text/plain": [
       ":Orange => 210"
      ]
     },
     "execution_count": 7,
     "metadata": {},
     "output_type": "execute_result"
    }
   ],
   "source": [
    "@leval lambda((assoc, k, v), assoc(k, v))(\n",
    "    lambda((k, v), cond(\n",
    "            (eq(v, nil), nil),\n",
    "            (eq(car(car(v)), k), car(v)), \n",
    "            (true, assoc(k, cdr(v))))),\n",
    "    :Orange,\n",
    "    (:Apple=>120, :Orange=>210, :Lemmon=>180))"
   ]
  },
  {
   "cell_type": "code",
   "execution_count": 8,
   "metadata": {},
   "outputs": [
    {
     "data": {
      "text/plain": [
       ":Lemmon => 180"
      ]
     },
     "execution_count": 8,
     "metadata": {},
     "output_type": "execute_result"
    }
   ],
   "source": [
    "@leval lambda((assoc, k, v), assoc(k, v))(\n",
    "    lambda((k, v), cond(\n",
    "            (eq(v, nil), nil),\n",
    "            (eq(car(car(v)), k), car(v)), \n",
    "            (true, assoc(k, cdr(v))))),\n",
    "    :Lemmon,\n",
    "    (:Apple=>120, :Orange=>210, :Lemmon=>180))"
   ]
  },
  {
   "cell_type": "code",
   "execution_count": 9,
   "metadata": {},
   "outputs": [
    {
     "data": {
      "text/plain": [
       "nil"
      ]
     },
     "execution_count": 9,
     "metadata": {},
     "output_type": "execute_result"
    }
   ],
   "source": [
    "@leval lambda((assoc, k, v), assoc(k, v))(\n",
    "    lambda((k, v), cond(\n",
    "            (eq(v, nil), nil),\n",
    "            (eq(car(car(v)), k), car(v)), \n",
    "            (true, assoc(k, cdr(v))))),\n",
    "    :Melon,\n",
    "    (:Apple=>120, :Orange=>210, :Lemmon=>180))"
   ]
  },
  {
   "cell_type": "code",
   "execution_count": 10,
   "metadata": {},
   "outputs": [
    {
     "data": {
      "text/plain": [
       "texpr_exmaple4 (generic function with 1 method)"
      ]
     },
     "execution_count": 10,
     "metadata": {},
     "output_type": "execute_result"
    }
   ],
   "source": [
    "texpr_exmaple4(x) = (:call, \n",
    "    (:lambda, (:tuple, :assoc, :k, :v), (:call, :assoc, :k, :v)), \n",
    "    (:lambda, (:tuple, :k, :v), (:cond, \n",
    "            (:tuple, (:eq, :v, :nil), :nil), \n",
    "            (:tuple, (:eq, (:car, (:car, :v)), :k), (:car, :v)), \n",
    "            (:tuple, true, (:call, :assoc, :k, (:cdr, :v))))), \n",
    "    QuoteNode(x), \n",
    "    :((:Apple=>120, :Orange=>210, :Lemmon=>180)))"
   ]
  },
  {
   "cell_type": "code",
   "execution_count": 11,
   "metadata": {},
   "outputs": [
    {
     "data": {
      "text/plain": [
       ":Apple => 120"
      ]
     },
     "execution_count": 11,
     "metadata": {},
     "output_type": "execute_result"
    }
   ],
   "source": [
    "texpr_exmaple4(:Apple) |> texpr2expr |> leval"
   ]
  },
  {
   "cell_type": "code",
   "execution_count": 12,
   "metadata": {},
   "outputs": [
    {
     "data": {
      "text/plain": [
       ":Orange => 210"
      ]
     },
     "execution_count": 12,
     "metadata": {},
     "output_type": "execute_result"
    }
   ],
   "source": [
    "texpr_exmaple4(:Orange) |> texpr2expr |> leval"
   ]
  },
  {
   "cell_type": "code",
   "execution_count": 13,
   "metadata": {},
   "outputs": [
    {
     "data": {
      "text/plain": [
       ":Lemmon => 180"
      ]
     },
     "execution_count": 13,
     "metadata": {},
     "output_type": "execute_result"
    }
   ],
   "source": [
    "texpr_exmaple4(:Lemmon) |> texpr2expr |> leval"
   ]
  },
  {
   "cell_type": "code",
   "execution_count": 14,
   "metadata": {},
   "outputs": [
    {
     "data": {
      "text/plain": [
       "nil"
      ]
     },
     "execution_count": 14,
     "metadata": {},
     "output_type": "execute_result"
    }
   ],
   "source": [
    "texpr_exmaple4(:Melon) |> texpr2expr |> leval"
   ]
  },
  {
   "cell_type": "markdown",
   "metadata": {},
   "source": [
    "## Plot example of MetaUtils.@teval"
   ]
  },
  {
   "cell_type": "code",
   "execution_count": 15,
   "metadata": {},
   "outputs": [
    {
     "data": {
      "image/svg+xml": [
       "<?xml version=\"1.0\" encoding=\"utf-8\"?>\n",
       "<svg xmlns=\"http://www.w3.org/2000/svg\" xmlns:xlink=\"http://www.w3.org/1999/xlink\" width=\"600\" height=\"400\" viewBox=\"0 0 2400 1600\">\n",
       "<defs>\n",
       "  <clipPath id=\"clip660\">\n",
       "    <rect x=\"0\" y=\"0\" width=\"2400\" height=\"1600\"/>\n",
       "  </clipPath>\n",
       "</defs>\n",
       "<path clip-path=\"url(#clip660)\" d=\"\n",
       "M0 1600 L2400 1600 L2400 0 L0 0  Z\n",
       "  \" fill=\"#ffffff\" fill-rule=\"evenodd\" fill-opacity=\"1\"/>\n",
       "<defs>\n",
       "  <clipPath id=\"clip661\">\n",
       "    <rect x=\"480\" y=\"0\" width=\"1681\" height=\"1600\"/>\n",
       "  </clipPath>\n",
       "</defs>\n",
       "<path clip-path=\"url(#clip660)\" d=\"\n",
       "M179.654 1486.45 L2352.76 1486.45 L2352.76 47.2441 L179.654 47.2441  Z\n",
       "  \" fill=\"#ffffff\" fill-rule=\"evenodd\" fill-opacity=\"1\"/>\n",
       "<defs>\n",
       "  <clipPath id=\"clip662\">\n",
       "    <rect x=\"179\" y=\"47\" width=\"2174\" height=\"1440\"/>\n",
       "  </clipPath>\n",
       "</defs>\n",
       "<polyline clip-path=\"url(#clip662)\" style=\"stroke:#000000; stroke-width:2; stroke-opacity:0.1; fill:none\" points=\"\n",
       "  287.356,1486.45 287.356,47.2441 \n",
       "  \"/>\n",
       "<polyline clip-path=\"url(#clip662)\" style=\"stroke:#000000; stroke-width:2; stroke-opacity:0.1; fill:none\" points=\"\n",
       "  613.639,1486.45 613.639,47.2441 \n",
       "  \"/>\n",
       "<polyline clip-path=\"url(#clip662)\" style=\"stroke:#000000; stroke-width:2; stroke-opacity:0.1; fill:none\" points=\"\n",
       "  939.922,1486.45 939.922,47.2441 \n",
       "  \"/>\n",
       "<polyline clip-path=\"url(#clip662)\" style=\"stroke:#000000; stroke-width:2; stroke-opacity:0.1; fill:none\" points=\"\n",
       "  1266.2,1486.45 1266.2,47.2441 \n",
       "  \"/>\n",
       "<polyline clip-path=\"url(#clip662)\" style=\"stroke:#000000; stroke-width:2; stroke-opacity:0.1; fill:none\" points=\"\n",
       "  1592.49,1486.45 1592.49,47.2441 \n",
       "  \"/>\n",
       "<polyline clip-path=\"url(#clip662)\" style=\"stroke:#000000; stroke-width:2; stroke-opacity:0.1; fill:none\" points=\"\n",
       "  1918.77,1486.45 1918.77,47.2441 \n",
       "  \"/>\n",
       "<polyline clip-path=\"url(#clip662)\" style=\"stroke:#000000; stroke-width:2; stroke-opacity:0.1; fill:none\" points=\"\n",
       "  2245.05,1486.45 2245.05,47.2441 \n",
       "  \"/>\n",
       "<polyline clip-path=\"url(#clip660)\" style=\"stroke:#000000; stroke-width:4; stroke-opacity:1; fill:none\" points=\"\n",
       "  179.654,1486.45 2352.76,1486.45 \n",
       "  \"/>\n",
       "<polyline clip-path=\"url(#clip660)\" style=\"stroke:#000000; stroke-width:4; stroke-opacity:1; fill:none\" points=\"\n",
       "  287.356,1486.45 287.356,1469.18 \n",
       "  \"/>\n",
       "<polyline clip-path=\"url(#clip660)\" style=\"stroke:#000000; stroke-width:4; stroke-opacity:1; fill:none\" points=\"\n",
       "  613.639,1486.45 613.639,1469.18 \n",
       "  \"/>\n",
       "<polyline clip-path=\"url(#clip660)\" style=\"stroke:#000000; stroke-width:4; stroke-opacity:1; fill:none\" points=\"\n",
       "  939.922,1486.45 939.922,1469.18 \n",
       "  \"/>\n",
       "<polyline clip-path=\"url(#clip660)\" style=\"stroke:#000000; stroke-width:4; stroke-opacity:1; fill:none\" points=\"\n",
       "  1266.2,1486.45 1266.2,1469.18 \n",
       "  \"/>\n",
       "<polyline clip-path=\"url(#clip660)\" style=\"stroke:#000000; stroke-width:4; stroke-opacity:1; fill:none\" points=\"\n",
       "  1592.49,1486.45 1592.49,1469.18 \n",
       "  \"/>\n",
       "<polyline clip-path=\"url(#clip660)\" style=\"stroke:#000000; stroke-width:4; stroke-opacity:1; fill:none\" points=\"\n",
       "  1918.77,1486.45 1918.77,1469.18 \n",
       "  \"/>\n",
       "<polyline clip-path=\"url(#clip660)\" style=\"stroke:#000000; stroke-width:4; stroke-opacity:1; fill:none\" points=\"\n",
       "  2245.05,1486.45 2245.05,1469.18 \n",
       "  \"/>\n",
       "<path clip-path=\"url(#clip660)\" d=\"M 0 0 M259.335 1530.29 L289.011 1530.29 L289.011 1534.23 L259.335 1534.23 L259.335 1530.29 Z\" fill=\"#000000\" fill-rule=\"evenodd\" fill-opacity=\"1\" /><path clip-path=\"url(#clip660)\" d=\"M 0 0 M308.247 1528.49 Q311.603 1529.2 313.478 1531.47 Q315.377 1533.74 315.377 1537.07 Q315.377 1542.19 311.858 1544.99 Q308.34 1547.79 301.858 1547.79 Q299.682 1547.79 297.367 1547.35 Q295.076 1546.93 292.622 1546.08 L292.622 1541.56 Q294.566 1542.7 296.881 1543.28 Q299.196 1543.86 301.719 1543.86 Q306.117 1543.86 308.409 1542.12 Q310.724 1540.38 310.724 1537.07 Q310.724 1534.02 308.571 1532.31 Q306.441 1530.57 302.622 1530.57 L298.594 1530.57 L298.594 1526.73 L302.807 1526.73 Q306.256 1526.73 308.085 1525.36 Q309.914 1523.97 309.914 1521.38 Q309.914 1518.72 308.015 1517.31 Q306.14 1515.87 302.622 1515.87 Q300.701 1515.87 298.502 1516.29 Q296.303 1516.7 293.664 1517.58 L293.664 1513.42 Q296.326 1512.68 298.64 1512.31 Q300.978 1511.93 303.039 1511.93 Q308.363 1511.93 311.465 1514.37 Q314.566 1516.77 314.566 1520.89 Q314.566 1523.76 312.923 1525.75 Q311.279 1527.72 308.247 1528.49 Z\" fill=\"#000000\" fill-rule=\"evenodd\" fill-opacity=\"1\" /><path clip-path=\"url(#clip660)\" d=\"M 0 0 M586.093 1530.29 L615.768 1530.29 L615.768 1534.23 L586.093 1534.23 L586.093 1530.29 Z\" fill=\"#000000\" fill-rule=\"evenodd\" fill-opacity=\"1\" /><path clip-path=\"url(#clip660)\" d=\"M 0 0 M624.866 1543.18 L641.185 1543.18 L641.185 1547.12 L619.241 1547.12 L619.241 1543.18 Q621.903 1540.43 626.486 1535.8 Q631.092 1531.15 632.273 1529.81 Q634.518 1527.28 635.398 1525.55 Q636.301 1523.79 636.301 1522.1 Q636.301 1519.34 634.356 1517.61 Q632.435 1515.87 629.333 1515.87 Q627.134 1515.87 624.68 1516.63 Q622.25 1517.4 619.472 1518.95 L619.472 1514.23 Q622.296 1513.09 624.75 1512.51 Q627.204 1511.93 629.241 1511.93 Q634.611 1511.93 637.805 1514.62 Q641 1517.31 641 1521.8 Q641 1523.93 640.19 1525.85 Q639.403 1527.74 637.296 1530.34 Q636.717 1531.01 633.616 1534.23 Q630.514 1537.42 624.866 1543.18 Z\" fill=\"#000000\" fill-rule=\"evenodd\" fill-opacity=\"1\" /><path clip-path=\"url(#clip660)\" d=\"M 0 0 M912.19 1530.29 L941.866 1530.29 L941.866 1534.23 L912.19 1534.23 L912.19 1530.29 Z\" fill=\"#000000\" fill-rule=\"evenodd\" fill-opacity=\"1\" /><path clip-path=\"url(#clip660)\" d=\"M 0 0 M947.746 1543.18 L955.385 1543.18 L955.385 1516.82 L947.075 1518.49 L947.075 1514.23 L955.338 1512.56 L960.014 1512.56 L960.014 1543.18 L967.653 1543.18 L967.653 1547.12 L947.746 1547.12 L947.746 1543.18 Z\" fill=\"#000000\" fill-rule=\"evenodd\" fill-opacity=\"1\" /><path clip-path=\"url(#clip660)\" d=\"M 0 0 M1266.2 1515.64 Q1262.59 1515.64 1260.77 1519.2 Q1258.96 1522.75 1258.96 1529.87 Q1258.96 1536.98 1260.77 1540.55 Q1262.59 1544.09 1266.2 1544.09 Q1269.84 1544.09 1271.64 1540.55 Q1273.47 1536.98 1273.47 1529.87 Q1273.47 1522.75 1271.64 1519.2 Q1269.84 1515.64 1266.2 1515.64 M1266.2 1511.93 Q1272.01 1511.93 1275.07 1516.54 Q1278.15 1521.12 1278.15 1529.87 Q1278.15 1538.6 1275.07 1543.21 Q1272.01 1547.79 1266.2 1547.79 Q1260.39 1547.79 1257.32 1543.21 Q1254.26 1538.6 1254.26 1529.87 Q1254.26 1521.12 1257.32 1516.54 Q1260.39 1511.93 1266.2 1511.93 Z\" fill=\"#000000\" fill-rule=\"evenodd\" fill-opacity=\"1\" /><path clip-path=\"url(#clip660)\" d=\"M 0 0 M1582.87 1543.18 L1590.51 1543.18 L1590.51 1516.82 L1582.2 1518.49 L1582.2 1514.23 L1590.46 1512.56 L1595.14 1512.56 L1595.14 1543.18 L1602.78 1543.18 L1602.78 1547.12 L1582.87 1547.12 L1582.87 1543.18 Z\" fill=\"#000000\" fill-rule=\"evenodd\" fill-opacity=\"1\" /><path clip-path=\"url(#clip660)\" d=\"M 0 0 M1913.42 1543.18 L1929.74 1543.18 L1929.74 1547.12 L1907.8 1547.12 L1907.8 1543.18 Q1910.46 1540.43 1915.04 1535.8 Q1919.65 1531.15 1920.83 1529.81 Q1923.08 1527.28 1923.96 1525.55 Q1924.86 1523.79 1924.86 1522.1 Q1924.86 1519.34 1922.91 1517.61 Q1920.99 1515.87 1917.89 1515.87 Q1915.69 1515.87 1913.24 1516.63 Q1910.81 1517.4 1908.03 1518.95 L1908.03 1514.23 Q1910.85 1513.09 1913.31 1512.51 Q1915.76 1511.93 1917.8 1511.93 Q1923.17 1511.93 1926.36 1514.62 Q1929.56 1517.31 1929.56 1521.8 Q1929.56 1523.93 1928.75 1525.85 Q1927.96 1527.74 1925.85 1530.34 Q1925.28 1531.01 1922.17 1534.23 Q1919.07 1537.42 1913.42 1543.18 Z\" fill=\"#000000\" fill-rule=\"evenodd\" fill-opacity=\"1\" /><path clip-path=\"url(#clip660)\" d=\"M 0 0 M2249.3 1528.49 Q2252.66 1529.2 2254.53 1531.47 Q2256.43 1533.74 2256.43 1537.07 Q2256.43 1542.19 2252.91 1544.99 Q2249.39 1547.79 2242.91 1547.79 Q2240.74 1547.79 2238.42 1547.35 Q2236.13 1546.93 2233.68 1546.08 L2233.68 1541.56 Q2235.62 1542.7 2237.94 1543.28 Q2240.25 1543.86 2242.77 1543.86 Q2247.17 1543.86 2249.46 1542.12 Q2251.78 1540.38 2251.78 1537.07 Q2251.78 1534.02 2249.63 1532.31 Q2247.5 1530.57 2243.68 1530.57 L2239.65 1530.57 L2239.65 1526.73 L2243.86 1526.73 Q2247.31 1526.73 2249.14 1525.36 Q2250.97 1523.97 2250.97 1521.38 Q2250.97 1518.72 2249.07 1517.31 Q2247.19 1515.87 2243.68 1515.87 Q2241.76 1515.87 2239.56 1516.29 Q2237.36 1516.7 2234.72 1517.58 L2234.72 1513.42 Q2237.38 1512.68 2239.69 1512.31 Q2242.03 1511.93 2244.09 1511.93 Q2249.42 1511.93 2252.52 1514.37 Q2255.62 1516.77 2255.62 1520.89 Q2255.62 1523.76 2253.98 1525.75 Q2252.33 1527.72 2249.3 1528.49 Z\" fill=\"#000000\" fill-rule=\"evenodd\" fill-opacity=\"1\" /><polyline clip-path=\"url(#clip662)\" style=\"stroke:#000000; stroke-width:2; stroke-opacity:0.1; fill:none\" points=\"\n",
       "  179.654,1394.06 2352.76,1394.06 \n",
       "  \"/>\n",
       "<polyline clip-path=\"url(#clip662)\" style=\"stroke:#000000; stroke-width:2; stroke-opacity:0.1; fill:none\" points=\"\n",
       "  179.654,1086.9 2352.76,1086.9 \n",
       "  \"/>\n",
       "<polyline clip-path=\"url(#clip662)\" style=\"stroke:#000000; stroke-width:2; stroke-opacity:0.1; fill:none\" points=\"\n",
       "  179.654,779.727 2352.76,779.727 \n",
       "  \"/>\n",
       "<polyline clip-path=\"url(#clip662)\" style=\"stroke:#000000; stroke-width:2; stroke-opacity:0.1; fill:none\" points=\"\n",
       "  179.654,472.559 2352.76,472.559 \n",
       "  \"/>\n",
       "<polyline clip-path=\"url(#clip662)\" style=\"stroke:#000000; stroke-width:2; stroke-opacity:0.1; fill:none\" points=\"\n",
       "  179.654,165.39 2352.76,165.39 \n",
       "  \"/>\n",
       "<polyline clip-path=\"url(#clip660)\" style=\"stroke:#000000; stroke-width:4; stroke-opacity:1; fill:none\" points=\"\n",
       "  179.654,1486.45 179.654,47.2441 \n",
       "  \"/>\n",
       "<polyline clip-path=\"url(#clip660)\" style=\"stroke:#000000; stroke-width:4; stroke-opacity:1; fill:none\" points=\"\n",
       "  179.654,1394.06 205.731,1394.06 \n",
       "  \"/>\n",
       "<polyline clip-path=\"url(#clip660)\" style=\"stroke:#000000; stroke-width:4; stroke-opacity:1; fill:none\" points=\"\n",
       "  179.654,1086.9 205.731,1086.9 \n",
       "  \"/>\n",
       "<polyline clip-path=\"url(#clip660)\" style=\"stroke:#000000; stroke-width:4; stroke-opacity:1; fill:none\" points=\"\n",
       "  179.654,779.727 205.731,779.727 \n",
       "  \"/>\n",
       "<polyline clip-path=\"url(#clip660)\" style=\"stroke:#000000; stroke-width:4; stroke-opacity:1; fill:none\" points=\"\n",
       "  179.654,472.559 205.731,472.559 \n",
       "  \"/>\n",
       "<polyline clip-path=\"url(#clip660)\" style=\"stroke:#000000; stroke-width:4; stroke-opacity:1; fill:none\" points=\"\n",
       "  179.654,165.39 205.731,165.39 \n",
       "  \"/>\n",
       "<path clip-path=\"url(#clip660)\" d=\"M 0 0 M51.2236 1394.52 L80.8994 1394.52 L80.8994 1398.45 L51.2236 1398.45 L51.2236 1394.52 Z\" fill=\"#000000\" fill-rule=\"evenodd\" fill-opacity=\"1\" /><path clip-path=\"url(#clip660)\" d=\"M 0 0 M86.779 1407.41 L94.4178 1407.41 L94.4178 1381.04 L86.1077 1382.71 L86.1077 1378.45 L94.3715 1376.78 L99.0474 1376.78 L99.0474 1407.41 L106.686 1407.41 L106.686 1411.34 L86.779 1411.34 L86.779 1407.41 Z\" fill=\"#000000\" fill-rule=\"evenodd\" fill-opacity=\"1\" /><path clip-path=\"url(#clip660)\" d=\"M 0 0 M111.756 1405.46 L116.64 1405.46 L116.64 1411.34 L111.756 1411.34 L111.756 1405.46 Z\" fill=\"#000000\" fill-rule=\"evenodd\" fill-opacity=\"1\" /><path clip-path=\"url(#clip660)\" d=\"M 0 0 M131.709 1379.86 Q128.098 1379.86 126.27 1383.43 Q124.464 1386.97 124.464 1394.1 Q124.464 1401.21 126.27 1404.77 Q128.098 1408.31 131.709 1408.31 Q135.344 1408.31 137.149 1404.77 Q138.978 1401.21 138.978 1394.1 Q138.978 1386.97 137.149 1383.43 Q135.344 1379.86 131.709 1379.86 M131.709 1376.16 Q137.519 1376.16 140.575 1380.77 Q143.654 1385.35 143.654 1394.1 Q143.654 1402.83 140.575 1407.43 Q137.519 1412.02 131.709 1412.02 Q125.899 1412.02 122.82 1407.43 Q119.765 1402.83 119.765 1394.1 Q119.765 1385.35 122.82 1380.77 Q125.899 1376.16 131.709 1376.16 Z\" fill=\"#000000\" fill-rule=\"evenodd\" fill-opacity=\"1\" /><path clip-path=\"url(#clip660)\" d=\"M 0 0 M50.9921 1087.35 L80.6679 1087.35 L80.6679 1091.28 L50.9921 1091.28 L50.9921 1087.35 Z\" fill=\"#000000\" fill-rule=\"evenodd\" fill-opacity=\"1\" /><path clip-path=\"url(#clip660)\" d=\"M 0 0 M95.7373 1072.69 Q92.1262 1072.69 90.2975 1076.26 Q88.4919 1079.8 88.4919 1086.93 Q88.4919 1094.04 90.2975 1097.6 Q92.1262 1101.14 95.7373 1101.14 Q99.3715 1101.14 101.177 1097.6 Q103.006 1094.04 103.006 1086.93 Q103.006 1079.8 101.177 1076.26 Q99.3715 1072.69 95.7373 1072.69 M95.7373 1068.99 Q101.547 1068.99 104.603 1073.6 Q107.682 1078.18 107.682 1086.93 Q107.682 1095.66 104.603 1100.26 Q101.547 1104.85 95.7373 1104.85 Q89.9271 1104.85 86.8484 1100.26 Q83.7929 1095.66 83.7929 1086.93 Q83.7929 1078.18 86.8484 1073.6 Q89.9271 1068.99 95.7373 1068.99 Z\" fill=\"#000000\" fill-rule=\"evenodd\" fill-opacity=\"1\" /><path clip-path=\"url(#clip660)\" d=\"M 0 0 M112.751 1098.3 L117.635 1098.3 L117.635 1104.18 L112.751 1104.18 L112.751 1098.3 Z\" fill=\"#000000\" fill-rule=\"evenodd\" fill-opacity=\"1\" /><path clip-path=\"url(#clip660)\" d=\"M 0 0 M122.751 1069.62 L141.107 1069.62 L141.107 1073.55 L127.033 1073.55 L127.033 1082.02 Q128.052 1081.68 129.07 1081.51 Q130.089 1081.33 131.107 1081.33 Q136.894 1081.33 140.274 1084.5 Q143.654 1087.67 143.654 1093.09 Q143.654 1098.67 140.181 1101.77 Q136.709 1104.85 130.39 1104.85 Q128.214 1104.85 125.945 1104.48 Q123.7 1104.11 121.293 1103.37 L121.293 1098.67 Q123.376 1099.8 125.598 1100.36 Q127.82 1100.91 130.297 1100.91 Q134.302 1100.91 136.64 1098.81 Q138.978 1096.7 138.978 1093.09 Q138.978 1089.48 136.64 1087.37 Q134.302 1085.26 130.297 1085.26 Q128.422 1085.26 126.547 1085.68 Q124.695 1086.1 122.751 1086.98 L122.751 1069.62 Z\" fill=\"#000000\" fill-rule=\"evenodd\" fill-opacity=\"1\" /><path clip-path=\"url(#clip660)\" d=\"M 0 0 M94.7419 765.526 Q91.1308 765.526 89.3021 769.091 Q87.4966 772.632 87.4966 779.762 Q87.4966 786.868 89.3021 790.433 Q91.1308 793.975 94.7419 793.975 Q98.3761 793.975 100.182 790.433 Q102.01 786.868 102.01 779.762 Q102.01 772.632 100.182 769.091 Q98.3761 765.526 94.7419 765.526 M94.7419 761.822 Q100.552 761.822 103.608 766.429 Q106.686 771.012 106.686 779.762 Q106.686 788.489 103.608 793.095 Q100.552 797.679 94.7419 797.679 Q88.9317 797.679 85.8531 793.095 Q82.7975 788.489 82.7975 779.762 Q82.7975 771.012 85.8531 766.429 Q88.9317 761.822 94.7419 761.822 Z\" fill=\"#000000\" fill-rule=\"evenodd\" fill-opacity=\"1\" /><path clip-path=\"url(#clip660)\" d=\"M 0 0 M111.756 791.128 L116.64 791.128 L116.64 797.007 L111.756 797.007 L111.756 791.128 Z\" fill=\"#000000\" fill-rule=\"evenodd\" fill-opacity=\"1\" /><path clip-path=\"url(#clip660)\" d=\"M 0 0 M131.709 765.526 Q128.098 765.526 126.27 769.091 Q124.464 772.632 124.464 779.762 Q124.464 786.868 126.27 790.433 Q128.098 793.975 131.709 793.975 Q135.344 793.975 137.149 790.433 Q138.978 786.868 138.978 779.762 Q138.978 772.632 137.149 769.091 Q135.344 765.526 131.709 765.526 M131.709 761.822 Q137.519 761.822 140.575 766.429 Q143.654 771.012 143.654 779.762 Q143.654 788.489 140.575 793.095 Q137.519 797.679 131.709 797.679 Q125.899 797.679 122.82 793.095 Q119.765 788.489 119.765 779.762 Q119.765 771.012 122.82 766.429 Q125.899 761.822 131.709 761.822 Z\" fill=\"#000000\" fill-rule=\"evenodd\" fill-opacity=\"1\" /><path clip-path=\"url(#clip660)\" d=\"M 0 0 M95.7373 458.358 Q92.1262 458.358 90.2975 461.922 Q88.4919 465.464 88.4919 472.594 Q88.4919 479.7 90.2975 483.265 Q92.1262 486.806 95.7373 486.806 Q99.3715 486.806 101.177 483.265 Q103.006 479.7 103.006 472.594 Q103.006 465.464 101.177 461.922 Q99.3715 458.358 95.7373 458.358 M95.7373 454.654 Q101.547 454.654 104.603 459.26 Q107.682 463.844 107.682 472.594 Q107.682 481.32 104.603 485.927 Q101.547 490.51 95.7373 490.51 Q89.9271 490.51 86.8484 485.927 Q83.7929 481.32 83.7929 472.594 Q83.7929 463.844 86.8484 459.26 Q89.9271 454.654 95.7373 454.654 Z\" fill=\"#000000\" fill-rule=\"evenodd\" fill-opacity=\"1\" /><path clip-path=\"url(#clip660)\" d=\"M 0 0 M112.751 483.959 L117.635 483.959 L117.635 489.839 L112.751 489.839 L112.751 483.959 Z\" fill=\"#000000\" fill-rule=\"evenodd\" fill-opacity=\"1\" /><path clip-path=\"url(#clip660)\" d=\"M 0 0 M122.751 455.279 L141.107 455.279 L141.107 459.214 L127.033 459.214 L127.033 467.686 Q128.052 467.339 129.07 467.177 Q130.089 466.992 131.107 466.992 Q136.894 466.992 140.274 470.163 Q143.654 473.334 143.654 478.751 Q143.654 484.33 140.181 487.431 Q136.709 490.51 130.39 490.51 Q128.214 490.51 125.945 490.14 Q123.7 489.769 121.293 489.029 L121.293 484.33 Q123.376 485.464 125.598 486.019 Q127.82 486.575 130.297 486.575 Q134.302 486.575 136.64 484.469 Q138.978 482.362 138.978 478.751 Q138.978 475.14 136.64 473.033 Q134.302 470.927 130.297 470.927 Q128.422 470.927 126.547 471.344 Q124.695 471.76 122.751 472.64 L122.751 455.279 Z\" fill=\"#000000\" fill-rule=\"evenodd\" fill-opacity=\"1\" /><path clip-path=\"url(#clip660)\" d=\"M 0 0 M86.779 178.735 L94.4178 178.735 L94.4178 152.37 L86.1077 154.036 L86.1077 149.777 L94.3715 148.11 L99.0474 148.11 L99.0474 178.735 L106.686 178.735 L106.686 182.67 L86.779 182.67 L86.779 178.735 Z\" fill=\"#000000\" fill-rule=\"evenodd\" fill-opacity=\"1\" /><path clip-path=\"url(#clip660)\" d=\"M 0 0 M111.756 176.791 L116.64 176.791 L116.64 182.67 L111.756 182.67 L111.756 176.791 Z\" fill=\"#000000\" fill-rule=\"evenodd\" fill-opacity=\"1\" /><path clip-path=\"url(#clip660)\" d=\"M 0 0 M131.709 151.189 Q128.098 151.189 126.27 154.754 Q124.464 158.296 124.464 165.425 Q124.464 172.532 126.27 176.096 Q128.098 179.638 131.709 179.638 Q135.344 179.638 137.149 176.096 Q138.978 172.532 138.978 165.425 Q138.978 158.296 137.149 154.754 Q135.344 151.189 131.709 151.189 M131.709 147.485 Q137.519 147.485 140.575 152.092 Q143.654 156.675 143.654 165.425 Q143.654 174.152 140.575 178.758 Q137.519 183.342 131.709 183.342 Q125.899 183.342 122.82 178.758 Q119.765 174.152 119.765 165.425 Q119.765 156.675 122.82 152.092 Q125.899 147.485 131.709 147.485 Z\" fill=\"#000000\" fill-rule=\"evenodd\" fill-opacity=\"1\" /><circle clip-path=\"url(#clip662)\" cx=\"241.157\" cy=\"563.107\" r=\"14\" fill=\"#009af9\" fill-rule=\"evenodd\" fill-opacity=\"1\" stroke=\"#000000\" stroke-opacity=\"1\" stroke-width=\"3.2\"/>\n",
       "<circle clip-path=\"url(#clip662)\" cx=\"349.056\" cy=\"914.799\" r=\"14\" fill=\"#009af9\" fill-rule=\"evenodd\" fill-opacity=\"1\" stroke=\"#000000\" stroke-opacity=\"1\" stroke-width=\"3.2\"/>\n",
       "<circle clip-path=\"url(#clip662)\" cx=\"456.956\" cy=\"1445.72\" r=\"14\" fill=\"#009af9\" fill-rule=\"evenodd\" fill-opacity=\"1\" stroke=\"#000000\" stroke-opacity=\"1\" stroke-width=\"3.2\"/>\n",
       "<circle clip-path=\"url(#clip662)\" cx=\"564.856\" cy=\"1396.8\" r=\"14\" fill=\"#009af9\" fill-rule=\"evenodd\" fill-opacity=\"1\" stroke=\"#000000\" stroke-opacity=\"1\" stroke-width=\"3.2\"/>\n",
       "<circle clip-path=\"url(#clip662)\" cx=\"672.756\" cy=\"1087.89\" r=\"14\" fill=\"#009af9\" fill-rule=\"evenodd\" fill-opacity=\"1\" stroke=\"#000000\" stroke-opacity=\"1\" stroke-width=\"3.2\"/>\n",
       "<circle clip-path=\"url(#clip662)\" cx=\"780.656\" cy=\"1369.15\" r=\"14\" fill=\"#009af9\" fill-rule=\"evenodd\" fill-opacity=\"1\" stroke=\"#000000\" stroke-opacity=\"1\" stroke-width=\"3.2\"/>\n",
       "<circle clip-path=\"url(#clip662)\" cx=\"888.555\" cy=\"1291.98\" r=\"14\" fill=\"#009af9\" fill-rule=\"evenodd\" fill-opacity=\"1\" stroke=\"#000000\" stroke-opacity=\"1\" stroke-width=\"3.2\"/>\n",
       "<circle clip-path=\"url(#clip662)\" cx=\"996.455\" cy=\"900.196\" r=\"14\" fill=\"#009af9\" fill-rule=\"evenodd\" fill-opacity=\"1\" stroke=\"#000000\" stroke-opacity=\"1\" stroke-width=\"3.2\"/>\n",
       "<circle clip-path=\"url(#clip662)\" cx=\"1104.36\" cy=\"858.388\" r=\"14\" fill=\"#009af9\" fill-rule=\"evenodd\" fill-opacity=\"1\" stroke=\"#000000\" stroke-opacity=\"1\" stroke-width=\"3.2\"/>\n",
       "<circle clip-path=\"url(#clip662)\" cx=\"1212.25\" cy=\"893.562\" r=\"14\" fill=\"#009af9\" fill-rule=\"evenodd\" fill-opacity=\"1\" stroke=\"#000000\" stroke-opacity=\"1\" stroke-width=\"3.2\"/>\n",
       "<circle clip-path=\"url(#clip662)\" cx=\"1320.15\" cy=\"1114.56\" r=\"14\" fill=\"#009af9\" fill-rule=\"evenodd\" fill-opacity=\"1\" stroke=\"#000000\" stroke-opacity=\"1\" stroke-width=\"3.2\"/>\n",
       "<circle clip-path=\"url(#clip662)\" cx=\"1428.05\" cy=\"391.2\" r=\"14\" fill=\"#009af9\" fill-rule=\"evenodd\" fill-opacity=\"1\" stroke=\"#000000\" stroke-opacity=\"1\" stroke-width=\"3.2\"/>\n",
       "<circle clip-path=\"url(#clip662)\" cx=\"1535.95\" cy=\"386.899\" r=\"14\" fill=\"#009af9\" fill-rule=\"evenodd\" fill-opacity=\"1\" stroke=\"#000000\" stroke-opacity=\"1\" stroke-width=\"3.2\"/>\n",
       "<circle clip-path=\"url(#clip662)\" cx=\"1643.85\" cy=\"87.9763\" r=\"14\" fill=\"#009af9\" fill-rule=\"evenodd\" fill-opacity=\"1\" stroke=\"#000000\" stroke-opacity=\"1\" stroke-width=\"3.2\"/>\n",
       "<circle clip-path=\"url(#clip662)\" cx=\"1751.75\" cy=\"303\" r=\"14\" fill=\"#009af9\" fill-rule=\"evenodd\" fill-opacity=\"1\" stroke=\"#000000\" stroke-opacity=\"1\" stroke-width=\"3.2\"/>\n",
       "<circle clip-path=\"url(#clip662)\" cx=\"1859.65\" cy=\"139.753\" r=\"14\" fill=\"#009af9\" fill-rule=\"evenodd\" fill-opacity=\"1\" stroke=\"#000000\" stroke-opacity=\"1\" stroke-width=\"3.2\"/>\n",
       "<circle clip-path=\"url(#clip662)\" cx=\"1967.55\" cy=\"364.464\" r=\"14\" fill=\"#009af9\" fill-rule=\"evenodd\" fill-opacity=\"1\" stroke=\"#000000\" stroke-opacity=\"1\" stroke-width=\"3.2\"/>\n",
       "<circle clip-path=\"url(#clip662)\" cx=\"2075.45\" cy=\"624.13\" r=\"14\" fill=\"#009af9\" fill-rule=\"evenodd\" fill-opacity=\"1\" stroke=\"#000000\" stroke-opacity=\"1\" stroke-width=\"3.2\"/>\n",
       "<circle clip-path=\"url(#clip662)\" cx=\"2183.35\" cy=\"268.342\" r=\"14\" fill=\"#009af9\" fill-rule=\"evenodd\" fill-opacity=\"1\" stroke=\"#000000\" stroke-opacity=\"1\" stroke-width=\"3.2\"/>\n",
       "<circle clip-path=\"url(#clip662)\" cx=\"2291.25\" cy=\"945.762\" r=\"14\" fill=\"#009af9\" fill-rule=\"evenodd\" fill-opacity=\"1\" stroke=\"#000000\" stroke-opacity=\"1\" stroke-width=\"3.2\"/>\n",
       "<polyline clip-path=\"url(#clip662)\" style=\"stroke:#0000ff; stroke-width:4; stroke-opacity:1; fill:none\" stroke-dasharray=\"16, 10\" points=\"\n",
       "  241.157,779.727 246.295,789.401 251.433,799.072 256.571,808.739 261.709,818.398 266.847,828.048 271.985,837.686 277.123,847.309 282.261,856.916 287.399,866.504 \n",
       "  292.537,876.07 297.676,885.612 302.814,895.128 307.952,904.615 313.09,914.071 318.228,923.494 323.366,932.881 328.504,942.231 333.642,951.54 338.78,960.806 \n",
       "  343.918,970.028 349.056,979.202 354.194,988.327 359.333,997.4 364.471,1006.42 369.609,1015.38 374.747,1024.29 379.885,1033.13 385.023,1041.91 390.161,1050.63 \n",
       "  395.299,1059.28 400.437,1067.86 405.575,1076.36 410.713,1084.8 415.851,1093.16 420.99,1101.44 426.128,1109.64 431.266,1117.76 436.404,1125.8 441.542,1133.75 \n",
       "  446.68,1141.61 451.818,1149.38 456.956,1157.06 462.094,1164.65 467.232,1172.14 472.37,1179.53 477.509,1186.83 482.647,1194.02 487.785,1201.12 492.923,1208.1 \n",
       "  498.061,1214.98 503.199,1221.76 508.337,1228.42 513.475,1234.97 518.613,1241.41 523.751,1247.74 528.889,1253.94 534.027,1260.04 539.166,1266.01 544.304,1271.86 \n",
       "  549.442,1277.59 554.58,1283.19 559.718,1288.67 564.856,1294.03 569.994,1299.26 575.132,1304.36 580.27,1309.32 585.408,1314.16 590.546,1318.87 595.685,1323.44 \n",
       "  600.823,1327.87 605.961,1332.17 611.099,1336.34 616.237,1340.36 621.375,1344.25 626.513,1347.99 631.651,1351.6 636.789,1355.06 641.927,1358.38 647.065,1361.56 \n",
       "  652.203,1364.59 657.342,1367.48 662.48,1370.22 667.618,1372.82 672.756,1375.27 677.894,1377.57 683.032,1379.72 688.17,1381.72 693.308,1383.58 698.446,1385.28 \n",
       "  703.584,1386.84 708.722,1388.24 713.861,1389.49 718.999,1390.6 724.137,1391.55 729.275,1392.35 734.413,1392.99 739.551,1393.49 744.689,1393.83 749.827,1394.02 \n",
       "  754.965,1394.06 760.103,1393.95 765.241,1393.68 770.379,1393.26 775.518,1392.69 780.656,1391.97 785.794,1391.09 790.932,1390.06 796.07,1388.89 801.208,1387.56 \n",
       "  806.346,1386.08 811.484,1384.45 816.622,1382.67 821.76,1380.74 826.898,1378.66 832.036,1376.43 837.175,1374.06 842.313,1371.54 847.451,1368.87 852.589,1366.05 \n",
       "  857.727,1363.09 862.865,1359.99 868.003,1356.74 873.141,1353.35 878.279,1349.81 883.417,1346.14 888.555,1342.32 893.694,1338.36 898.832,1334.27 903.97,1330.04 \n",
       "  909.108,1325.67 914.246,1321.17 919.384,1316.53 924.522,1311.76 929.66,1306.86 934.798,1301.82 939.936,1296.66 945.074,1291.37 950.212,1285.95 955.351,1280.41 \n",
       "  960.489,1274.74 965.627,1268.95 970.765,1263.04 975.903,1257 981.041,1250.85 986.179,1244.59 991.317,1238.21 996.455,1231.71 1001.59,1225.1 1006.73,1218.38 \n",
       "  1011.87,1211.56 1017.01,1204.62 1022.15,1197.58 1027.28,1190.44 1032.42,1183.19 1037.56,1175.85 1042.7,1168.41 1047.84,1160.87 1052.97,1153.23 1058.11,1145.51 \n",
       "  1063.25,1137.69 1068.39,1129.78 1073.53,1121.79 1078.66,1113.71 1083.8,1105.55 1088.94,1097.31 1094.08,1088.99 1099.22,1080.59 1104.36,1072.12 1109.49,1063.58 \n",
       "  1114.63,1054.96 1119.77,1046.28 1124.91,1037.53 1130.05,1028.72 1135.18,1019.84 1140.32,1010.91 1145.46,1001.92 1150.6,992.87 1155.74,983.771 1160.87,974.621 \n",
       "  1166.01,965.423 1171.15,956.178 1176.29,946.89 1181.43,937.561 1186.56,928.192 1191.7,918.787 1196.84,909.347 1201.98,899.875 1207.12,890.373 1212.25,880.844 \n",
       "  1217.39,871.289 1222.53,861.712 1227.67,852.115 1232.81,842.5 1237.95,832.869 1243.08,823.225 1248.22,813.57 1253.36,803.906 1258.5,794.237 1263.64,784.564 \n",
       "  1268.77,774.89 1273.91,765.217 1279.05,755.548 1284.19,745.885 1289.33,736.23 1294.46,726.586 1299.6,716.955 1304.74,707.34 1309.88,697.742 1315.02,688.165 \n",
       "  1320.15,678.611 1325.29,669.081 1330.43,659.58 1335.57,650.108 1340.71,640.668 1345.85,631.262 1350.98,621.894 1356.12,612.564 1361.26,603.276 1366.4,594.032 \n",
       "  1371.54,584.834 1376.67,575.684 1381.81,566.584 1386.95,557.538 1392.09,548.547 1397.23,539.613 1402.36,530.738 1407.5,521.925 1412.64,513.177 1417.78,504.494 \n",
       "  1422.92,495.879 1428.05,487.335 1433.19,478.864 1438.33,470.467 1443.47,462.146 1448.61,453.905 1453.74,445.744 1458.88,437.666 1464.02,429.673 1469.16,421.767 \n",
       "  1474.3,413.949 1479.44,406.223 1484.57,398.588 1489.71,391.049 1494.85,383.605 1499.99,376.26 1505.13,369.015 1510.26,361.872 1515.4,354.833 1520.54,347.898 \n",
       "  1525.68,341.071 1530.82,334.353 1535.95,327.745 1541.09,321.249 1546.23,314.867 1551.37,308.6 1556.51,302.45 1561.64,296.418 1566.78,290.507 1571.92,284.716 \n",
       "  1577.06,279.048 1582.2,273.505 1587.34,268.087 1592.47,262.795 1597.61,257.632 1602.75,252.599 1607.89,247.696 1613.03,242.925 1618.16,238.287 1623.3,233.784 \n",
       "  1628.44,229.416 1633.58,225.184 1638.72,221.09 1643.85,217.134 1648.99,213.318 1654.13,209.642 1659.27,206.108 1664.41,202.716 1669.54,199.467 1674.68,196.362 \n",
       "  1679.82,193.401 1684.96,190.586 1690.1,187.917 1695.23,185.395 1700.37,183.02 1705.51,180.793 1710.65,178.715 1715.79,176.785 1720.93,175.006 1726.06,173.376 \n",
       "  1731.2,171.896 1736.34,170.568 1741.48,169.39 1746.62,168.364 1751.75,167.489 1756.89,166.766 1762.03,166.195 1767.17,165.776 1772.31,165.509 1777.44,165.395 \n",
       "  1782.58,165.433 1787.72,165.624 1792.86,165.966 1798,166.461 1803.13,167.108 1808.27,167.907 1813.41,168.858 1818.55,169.96 1823.69,171.213 1828.83,172.617 \n",
       "  1833.96,174.172 1839.1,175.877 1844.24,177.731 1849.38,179.735 1854.52,181.888 1859.65,184.189 1864.79,186.638 1869.93,189.233 1875.07,191.975 1880.21,194.863 \n",
       "  1885.34,197.896 1890.48,201.073 1895.62,204.394 1900.76,207.857 1905.9,211.462 1911.03,215.208 1916.17,219.094 1921.31,223.12 1926.45,227.283 1931.59,231.583 \n",
       "  1936.73,236.019 1941.86,240.589 1947,245.294 1952.14,250.131 1957.28,255.099 1962.42,260.198 1967.55,265.425 1972.69,270.78 1977.83,276.261 1982.97,281.867 \n",
       "  1988.11,287.596 1993.24,293.447 1998.38,299.419 2003.52,305.51 2008.66,311.719 2013.8,318.044 2018.93,324.483 2024.07,331.035 2029.21,337.698 2034.35,344.471 \n",
       "  2039.49,351.352 2044.62,358.339 2049.76,365.431 2054.9,372.625 2060.04,379.92 2065.18,387.315 2070.32,394.807 2075.45,402.394 2080.59,410.075 2085.73,417.847 \n",
       "  2090.87,425.709 2096.01,433.659 2101.14,441.695 2106.28,449.814 2111.42,458.016 2116.56,466.297 2121.7,474.656 2126.83,483.09 2131.97,491.598 2137.11,500.178 \n",
       "  2142.25,508.827 2147.39,517.543 2152.52,526.324 2157.66,535.168 2162.8,544.072 2167.94,553.035 2173.08,562.054 2178.22,571.128 2183.35,580.252 2188.49,589.427 \n",
       "  2193.63,598.648 2198.77,607.915 2203.91,617.224 2209.04,626.573 2214.18,635.96 2219.32,645.383 2224.46,654.84 2229.6,664.327 2234.73,673.843 2239.87,683.385 \n",
       "  2245.01,692.951 2250.15,702.539 2255.29,712.145 2260.42,721.769 2265.56,731.406 2270.7,741.056 2275.84,750.716 2280.98,760.382 2286.11,770.054 2291.25,779.727 \n",
       "  \n",
       "  \"/>\n",
       "<polyline clip-path=\"url(#clip662)\" style=\"stroke:#ff0000; stroke-width:8; stroke-opacity:1; fill:none\" points=\"\n",
       "  241.157,669.733 246.295,686.1 251.433,702.228 256.571,718.117 261.709,733.769 266.847,749.185 271.985,764.365 277.123,779.313 282.261,794.027 287.399,808.51 \n",
       "  292.537,822.764 297.676,836.788 302.814,850.585 307.952,864.155 313.09,877.5 318.228,890.621 323.366,903.519 328.504,916.196 333.642,928.652 338.78,940.889 \n",
       "  343.918,952.907 349.056,964.71 354.194,976.296 359.333,987.668 364.471,998.828 369.609,1009.77 374.747,1020.51 379.885,1031.04 385.023,1041.36 390.161,1051.47 \n",
       "  395.299,1061.37 400.437,1071.07 405.575,1080.57 410.713,1089.87 415.851,1098.96 420.99,1107.86 426.128,1116.55 431.266,1125.05 436.404,1133.35 441.542,1141.46 \n",
       "  446.68,1149.37 451.818,1157.09 456.956,1164.62 462.094,1171.96 467.232,1179.11 472.37,1186.07 477.509,1192.85 482.647,1199.44 487.785,1205.85 492.923,1212.07 \n",
       "  498.061,1218.11 503.199,1223.97 508.337,1229.66 513.475,1235.16 518.613,1240.49 523.751,1245.64 528.889,1250.62 534.027,1255.42 539.166,1260.05 544.304,1264.51 \n",
       "  549.442,1268.8 554.58,1272.93 559.718,1276.88 564.856,1280.67 569.994,1284.3 575.132,1287.76 580.27,1291.06 585.408,1294.2 590.546,1297.18 595.685,1300 \n",
       "  600.823,1302.66 605.961,1305.16 611.099,1307.52 616.237,1309.71 621.375,1311.76 626.513,1313.65 631.651,1315.39 636.789,1316.98 641.927,1318.43 647.065,1319.73 \n",
       "  652.203,1320.88 657.342,1321.89 662.48,1322.76 667.618,1323.48 672.756,1324.07 677.894,1324.51 683.032,1324.82 688.17,1324.99 693.308,1325.02 698.446,1324.92 \n",
       "  703.584,1324.69 708.722,1324.32 713.861,1323.83 718.999,1323.2 724.137,1322.45 729.275,1321.56 734.413,1320.55 739.551,1319.42 744.689,1318.16 749.827,1316.79 \n",
       "  754.965,1315.29 760.103,1313.67 765.241,1311.93 770.379,1310.07 775.518,1308.1 780.656,1306.01 785.794,1303.81 790.932,1301.49 796.07,1299.07 801.208,1296.53 \n",
       "  806.346,1293.88 811.484,1291.13 816.622,1288.27 821.76,1285.3 826.898,1282.23 832.036,1279.06 837.175,1275.78 842.313,1272.41 847.451,1268.93 852.589,1265.36 \n",
       "  857.727,1261.69 862.865,1257.92 868.003,1254.06 873.141,1250.11 878.279,1246.06 883.417,1241.93 888.555,1237.7 893.694,1233.38 898.832,1228.98 903.97,1224.49 \n",
       "  909.108,1219.92 914.246,1215.26 919.384,1210.52 924.522,1205.7 929.66,1200.8 934.798,1195.82 939.936,1190.76 945.074,1185.62 950.212,1180.41 955.351,1175.13 \n",
       "  960.489,1169.77 965.627,1164.35 970.765,1158.85 975.903,1153.28 981.041,1147.64 986.179,1141.94 991.317,1136.17 996.455,1130.34 1001.59,1124.45 1006.73,1118.49 \n",
       "  1011.87,1112.47 1017.01,1106.39 1022.15,1100.26 1027.28,1094.06 1032.42,1087.81 1037.56,1081.51 1042.7,1075.15 1047.84,1068.74 1052.97,1062.28 1058.11,1055.77 \n",
       "  1063.25,1049.22 1068.39,1042.61 1073.53,1035.96 1078.66,1029.26 1083.8,1022.52 1088.94,1015.73 1094.08,1008.91 1099.22,1002.04 1104.36,995.14 1109.49,988.198 \n",
       "  1114.63,981.22 1119.77,974.206 1124.91,967.158 1130.05,960.077 1135.18,952.965 1140.32,945.822 1145.46,938.65 1150.6,931.45 1155.74,924.222 1160.87,916.97 \n",
       "  1166.01,909.693 1171.15,902.392 1176.29,895.07 1181.43,887.727 1186.56,880.364 1191.7,872.983 1196.84,865.585 1201.98,858.17 1207.12,850.741 1212.25,843.299 \n",
       "  1217.39,835.844 1222.53,828.378 1227.67,820.902 1232.81,813.418 1237.95,805.926 1243.08,798.427 1248.22,790.924 1253.36,783.417 1258.5,775.907 1263.64,768.395 \n",
       "  1268.77,760.884 1273.91,753.373 1279.05,745.865 1284.19,738.36 1289.33,730.859 1294.46,723.365 1299.6,715.877 1304.74,708.398 1309.88,700.928 1315.02,693.469 \n",
       "  1320.15,686.021 1325.29,678.587 1330.43,671.167 1335.57,663.762 1340.71,656.375 1345.85,649.005 1350.98,641.654 1356.12,634.324 1361.26,627.015 1366.4,619.729 \n",
       "  1371.54,612.466 1376.67,605.229 1381.81,598.019 1386.95,590.836 1392.09,583.682 1397.23,576.557 1402.36,569.464 1407.5,562.404 1412.64,555.377 1417.78,548.385 \n",
       "  1422.92,541.429 1428.05,534.51 1433.19,527.63 1438.33,520.79 1443.47,513.99 1448.61,507.232 1453.74,500.518 1458.88,493.848 1464.02,487.225 1469.16,480.648 \n",
       "  1474.3,474.119 1479.44,467.639 1484.57,461.21 1489.71,454.833 1494.85,448.509 1499.99,442.239 1505.13,436.025 1510.26,429.867 1515.4,423.767 1520.54,417.726 \n",
       "  1525.68,411.745 1530.82,405.826 1535.95,399.97 1541.09,394.177 1546.23,388.449 1551.37,382.788 1556.51,377.194 1561.64,371.669 1566.78,366.214 1571.92,360.83 \n",
       "  1577.06,355.519 1582.2,350.281 1587.34,345.117 1592.47,340.03 1597.61,335.02 1602.75,330.088 1607.89,325.236 1613.03,320.465 1618.16,315.776 1623.3,311.17 \n",
       "  1628.44,306.648 1633.58,302.213 1638.72,297.864 1643.85,293.603 1648.99,289.431 1654.13,285.35 1659.27,281.361 1664.41,277.464 1669.54,273.662 1674.68,269.955 \n",
       "  1679.82,266.344 1684.96,262.832 1690.1,259.418 1695.23,256.104 1700.37,252.892 1705.51,249.783 1710.65,246.777 1715.79,243.876 1720.93,241.082 1726.06,238.394 \n",
       "  1731.2,235.816 1736.34,233.347 1741.48,230.99 1746.62,228.745 1751.75,226.613 1756.89,224.596 1762.03,222.695 1767.17,220.911 1772.31,219.245 1777.44,217.699 \n",
       "  1782.58,216.273 1787.72,214.97 1792.86,213.79 1798,212.734 1803.13,211.803 1808.27,211 1813.41,210.324 1818.55,209.778 1823.69,209.362 1828.83,209.078 \n",
       "  1833.96,208.926 1839.1,208.909 1844.24,209.027 1849.38,209.281 1854.52,209.673 1859.65,210.204 1864.79,210.875 1869.93,211.687 1875.07,212.642 1880.21,213.741 \n",
       "  1885.34,214.984 1890.48,216.374 1895.62,217.911 1900.76,219.596 1905.9,221.432 1911.03,223.418 1916.17,225.556 1921.31,227.848 1926.45,230.295 1931.59,232.897 \n",
       "  1936.73,235.657 1941.86,238.574 1947,241.652 1952.14,244.889 1957.28,248.289 1962.42,251.852 1967.55,255.579 1972.69,259.471 1977.83,263.531 1982.97,267.758 \n",
       "  1988.11,272.154 1993.24,276.721 1998.38,281.459 2003.52,286.37 2008.66,291.455 2013.8,296.715 2018.93,302.152 2024.07,307.766 2029.21,313.559 2034.35,319.532 \n",
       "  2039.49,325.686 2044.62,332.023 2049.76,338.543 2054.9,345.248 2060.04,352.139 2065.18,359.218 2070.32,366.485 2075.45,373.941 2080.59,381.589 2085.73,389.429 \n",
       "  2090.87,397.462 2096.01,405.689 2101.14,414.113 2106.28,422.733 2111.42,431.551 2116.56,440.569 2121.7,449.788 2126.83,459.208 2131.97,468.831 2137.11,478.659 \n",
       "  2142.25,488.692 2147.39,498.931 2152.52,509.378 2157.66,520.035 2162.8,530.901 2167.94,541.98 2173.08,553.27 2178.22,564.775 2183.35,576.495 2188.49,588.431 \n",
       "  2193.63,600.585 2198.77,612.957 2203.91,625.55 2209.04,638.363 2214.18,651.399 2219.32,664.658 2224.46,678.143 2229.6,691.853 2234.73,705.79 2239.87,719.956 \n",
       "  2245.01,734.352 2250.15,748.978 2255.29,763.836 2260.42,778.928 2265.56,794.254 2270.7,809.815 2275.84,825.614 2280.98,841.651 2286.11,857.927 2291.25,874.443 \n",
       "  \n",
       "  \"/>\n",
       "<path clip-path=\"url(#clip660)\" d=\"\n",
       "M252.09 337.138 L923.174 337.138 L923.174 95.2176 L252.09 95.2176  Z\n",
       "  \" fill=\"#ffffff\" fill-rule=\"evenodd\" fill-opacity=\"1\"/>\n",
       "<polyline clip-path=\"url(#clip660)\" style=\"stroke:#000000; stroke-width:4; stroke-opacity:1; fill:none\" points=\"\n",
       "  252.09,337.138 923.174,337.138 923.174,95.2176 252.09,95.2176 252.09,337.138 \n",
       "  \"/>\n",
       "<circle clip-path=\"url(#clip660)\" cx=\"348.673\" cy=\"155.698\" r=\"23\" fill=\"#009af9\" fill-rule=\"evenodd\" fill-opacity=\"1\" stroke=\"#000000\" stroke-opacity=\"1\" stroke-width=\"5.12\"/>\n",
       "<path clip-path=\"url(#clip660)\" d=\"M 0 0 M463.681 147.816 L463.681 151.843 Q461.875 150.917 459.931 150.455 Q457.986 149.992 455.903 149.992 Q452.732 149.992 451.135 150.964 Q449.561 151.936 449.561 153.88 Q449.561 155.362 450.695 156.218 Q451.829 157.052 455.255 157.816 L456.713 158.14 Q461.25 159.112 463.148 160.894 Q465.07 162.654 465.07 165.825 Q465.07 169.436 462.199 171.542 Q459.352 173.649 454.352 173.649 Q452.269 173.649 450 173.232 Q447.755 172.839 445.255 172.028 L445.255 167.63 Q447.616 168.857 449.908 169.482 Q452.199 170.084 454.445 170.084 Q457.454 170.084 459.074 169.066 Q460.695 168.024 460.695 166.149 Q460.695 164.413 459.514 163.487 Q458.357 162.561 454.399 161.704 L452.917 161.357 Q448.959 160.524 447.199 158.811 Q445.44 157.075 445.44 154.066 Q445.44 150.408 448.033 148.418 Q450.625 146.427 455.394 146.427 Q457.755 146.427 459.838 146.774 Q461.922 147.121 463.681 147.816 Z\" fill=\"#000000\" fill-rule=\"evenodd\" fill-opacity=\"1\" /><path clip-path=\"url(#clip660)\" d=\"M 0 0 M481.32 159.945 Q476.158 159.945 474.167 161.126 Q472.176 162.306 472.176 165.154 Q472.176 167.422 473.658 168.765 Q475.162 170.084 477.732 170.084 Q481.273 170.084 483.403 167.584 Q485.556 165.061 485.556 160.894 L485.556 159.945 L481.32 159.945 M489.815 158.186 L489.815 172.978 L485.556 172.978 L485.556 169.042 Q484.097 171.403 481.922 172.538 Q479.746 173.649 476.597 173.649 Q472.616 173.649 470.255 171.427 Q467.917 169.181 467.917 165.431 Q467.917 161.056 470.834 158.834 Q473.773 156.612 479.584 156.612 L485.556 156.612 L485.556 156.195 Q485.556 153.255 483.611 151.658 Q481.69 150.038 478.195 150.038 Q475.972 150.038 473.866 150.57 Q471.76 151.103 469.815 152.167 L469.815 148.232 Q472.153 147.33 474.352 146.89 Q476.551 146.427 478.635 146.427 Q484.259 146.427 487.037 149.343 Q489.815 152.26 489.815 158.186 Z\" fill=\"#000000\" fill-rule=\"evenodd\" fill-opacity=\"1\" /><path clip-path=\"url(#clip660)\" d=\"M 0 0 M514.468 152.029 Q516.065 149.158 518.287 147.793 Q520.509 146.427 523.519 146.427 Q527.569 146.427 529.768 149.274 Q531.968 152.098 531.968 157.329 L531.968 172.978 L527.685 172.978 L527.685 157.468 Q527.685 153.742 526.366 151.936 Q525.046 150.13 522.338 150.13 Q519.028 150.13 517.107 152.33 Q515.185 154.529 515.185 158.325 L515.185 172.978 L510.903 172.978 L510.903 157.468 Q510.903 153.718 509.583 151.936 Q508.264 150.13 505.509 150.13 Q502.245 150.13 500.324 152.353 Q498.403 154.552 498.403 158.325 L498.403 172.978 L494.121 172.978 L494.121 147.052 L498.403 147.052 L498.403 151.08 Q499.861 148.695 501.898 147.561 Q503.935 146.427 506.736 146.427 Q509.56 146.427 511.528 147.862 Q513.519 149.297 514.468 152.029 Z\" fill=\"#000000\" fill-rule=\"evenodd\" fill-opacity=\"1\" /><path clip-path=\"url(#clip660)\" d=\"M 0 0 M540.555 169.089 L540.555 182.839 L536.273 182.839 L536.273 147.052 L540.555 147.052 L540.555 150.987 Q541.898 148.672 543.935 147.561 Q545.995 146.427 548.842 146.427 Q553.565 146.427 556.504 150.177 Q559.467 153.927 559.467 160.038 Q559.467 166.149 556.504 169.899 Q553.565 173.649 548.842 173.649 Q545.995 173.649 543.935 172.538 Q541.898 171.403 540.555 169.089 M555.046 160.038 Q555.046 155.339 553.102 152.677 Q551.18 149.992 547.801 149.992 Q544.421 149.992 542.477 152.677 Q540.555 155.339 540.555 160.038 Q540.555 164.737 542.477 167.422 Q544.421 170.084 547.801 170.084 Q551.18 170.084 553.102 167.422 Q555.046 164.737 555.046 160.038 Z\" fill=\"#000000\" fill-rule=\"evenodd\" fill-opacity=\"1\" /><path clip-path=\"url(#clip660)\" d=\"M 0 0 M563.935 136.959 L568.194 136.959 L568.194 172.978 L563.935 172.978 L563.935 136.959 Z\" fill=\"#000000\" fill-rule=\"evenodd\" fill-opacity=\"1\" /><path clip-path=\"url(#clip660)\" d=\"M 0 0 M594.838 158.95 L594.838 161.033 L575.254 161.033 Q575.532 165.431 577.893 167.746 Q580.277 170.038 584.514 170.038 Q586.967 170.038 589.259 169.436 Q591.574 168.834 593.842 167.63 L593.842 171.658 Q591.551 172.63 589.143 173.14 Q586.736 173.649 584.259 173.649 Q578.055 173.649 574.421 170.038 Q570.81 166.427 570.81 160.269 Q570.81 153.904 574.236 150.177 Q577.685 146.427 583.518 146.427 Q588.75 146.427 591.782 149.806 Q594.838 153.163 594.838 158.95 M590.578 157.7 Q590.532 154.205 588.611 152.121 Q586.713 150.038 583.564 150.038 Q580 150.038 577.847 152.052 Q575.717 154.066 575.393 157.723 L590.578 157.7 Z\" fill=\"#000000\" fill-rule=\"evenodd\" fill-opacity=\"1\" /><polyline clip-path=\"url(#clip660)\" style=\"stroke:#0000ff; stroke-width:4; stroke-opacity:1; fill:none\" stroke-dasharray=\"16, 10\" points=\"\n",
       "  276.236,216.178 421.109,216.178 \n",
       "  \"/>\n",
       "<path clip-path=\"url(#clip660)\" d=\"M 0 0 M463.681 208.296 L463.681 212.323 Q461.875 211.397 459.931 210.935 Q457.986 210.472 455.903 210.472 Q452.732 210.472 451.135 211.444 Q449.561 212.416 449.561 214.36 Q449.561 215.842 450.695 216.698 Q451.829 217.532 455.255 218.296 L456.713 218.62 Q461.25 219.592 463.148 221.374 Q465.07 223.134 465.07 226.305 Q465.07 229.916 462.199 232.022 Q459.352 234.129 454.352 234.129 Q452.269 234.129 450 233.712 Q447.755 233.319 445.255 232.508 L445.255 228.11 Q447.616 229.337 449.908 229.962 Q452.199 230.564 454.445 230.564 Q457.454 230.564 459.074 229.546 Q460.695 228.504 460.695 226.629 Q460.695 224.893 459.514 223.967 Q458.357 223.041 454.399 222.184 L452.917 221.837 Q448.959 221.004 447.199 219.291 Q445.44 217.555 445.44 214.546 Q445.44 210.888 448.033 208.898 Q450.625 206.907 455.394 206.907 Q457.755 206.907 459.838 207.254 Q461.922 207.601 463.681 208.296 Z\" fill=\"#000000\" fill-rule=\"evenodd\" fill-opacity=\"1\" /><path clip-path=\"url(#clip660)\" d=\"M 0 0 M469.537 207.532 L473.797 207.532 L473.797 233.458 L469.537 233.458 L469.537 207.532 M469.537 197.439 L473.797 197.439 L473.797 202.833 L469.537 202.833 L469.537 197.439 Z\" fill=\"#000000\" fill-rule=\"evenodd\" fill-opacity=\"1\" /><path clip-path=\"url(#clip660)\" d=\"M 0 0 M499.815 217.809 L499.815 233.458 L495.556 233.458 L495.556 217.948 Q495.556 214.268 494.121 212.439 Q492.685 210.61 489.815 210.61 Q486.366 210.61 484.375 212.81 Q482.384 215.009 482.384 218.805 L482.384 233.458 L478.102 233.458 L478.102 207.532 L482.384 207.532 L482.384 211.56 Q483.912 209.222 485.972 208.064 Q488.056 206.907 490.764 206.907 Q495.232 206.907 497.523 209.685 Q499.815 212.439 499.815 217.809 Z\" fill=\"#000000\" fill-rule=\"evenodd\" fill-opacity=\"1\" /><path clip-path=\"url(#clip660)\" d=\"M 0 0 M514.514 197.486 Q511.412 202.81 509.907 208.018 Q508.403 213.226 508.403 218.573 Q508.403 223.921 509.907 229.175 Q511.435 234.407 514.514 239.708 L510.81 239.708 Q507.338 234.268 505.602 229.013 Q503.889 223.759 503.889 218.573 Q503.889 213.411 505.602 208.18 Q507.315 202.948 510.81 197.486 L514.514 197.486 Z\" fill=\"#000000\" fill-rule=\"evenodd\" fill-opacity=\"1\" /><path clip-path=\"url(#clip660)\" d=\"M 0 0 M540.532 207.532 L531.157 220.147 L541.018 233.458 L535.995 233.458 L528.449 223.272 L520.903 233.458 L515.88 233.458 L525.949 219.893 L516.736 207.532 L521.759 207.532 L528.634 216.768 L535.509 207.532 L540.532 207.532 Z\" fill=\"#000000\" fill-rule=\"evenodd\" fill-opacity=\"1\" /><path clip-path=\"url(#clip660)\" d=\"M 0 0 M544.815 197.486 L548.518 197.486 Q551.991 202.948 553.704 208.18 Q555.44 213.411 555.44 218.573 Q555.44 223.759 553.704 229.013 Q551.991 234.268 548.518 239.708 L544.815 239.708 Q547.893 234.407 549.398 229.175 Q550.926 223.921 550.926 218.573 Q550.926 213.226 549.398 208.018 Q547.893 202.81 544.815 197.486 Z\" fill=\"#000000\" fill-rule=\"evenodd\" fill-opacity=\"1\" /><polyline clip-path=\"url(#clip660)\" style=\"stroke:#ff0000; stroke-width:4; stroke-opacity:1; fill:none\" points=\"\n",
       "  276.236,276.658 421.109,276.658 \n",
       "  \"/>\n",
       "<path clip-path=\"url(#clip660)\" d=\"M 0 0 M464.167 271.947 L464.167 257.919 L468.426 257.919 L468.426 293.938 L464.167 293.938 L464.167 290.049 Q462.824 292.363 460.764 293.498 Q458.727 294.609 455.857 294.609 Q451.158 294.609 448.195 290.859 Q445.255 287.109 445.255 280.998 Q445.255 274.887 448.195 271.137 Q451.158 267.387 455.857 267.387 Q458.727 267.387 460.764 268.521 Q462.824 269.632 464.167 271.947 M449.653 280.998 Q449.653 285.697 451.574 288.382 Q453.519 291.044 456.899 291.044 Q460.278 291.044 462.223 288.382 Q464.167 285.697 464.167 280.998 Q464.167 276.299 462.223 273.637 Q460.278 270.952 456.899 270.952 Q453.519 270.952 451.574 273.637 Q449.653 276.299 449.653 280.998 Z\" fill=\"#000000\" fill-rule=\"evenodd\" fill-opacity=\"1\" /><path clip-path=\"url(#clip660)\" d=\"M 0 0 M495.07 279.91 L495.07 281.993 L475.486 281.993 Q475.764 286.391 478.125 288.706 Q480.509 290.998 484.746 290.998 Q487.199 290.998 489.491 290.396 Q491.806 289.794 494.074 288.59 L494.074 292.618 Q491.783 293.59 489.375 294.1 Q486.968 294.609 484.491 294.609 Q478.287 294.609 474.653 290.998 Q471.042 287.387 471.042 281.229 Q471.042 274.864 474.468 271.137 Q477.917 267.387 483.75 267.387 Q488.982 267.387 492.014 270.766 Q495.07 274.123 495.07 279.91 M490.81 278.66 Q490.764 275.165 488.843 273.081 Q486.945 270.998 483.797 270.998 Q480.232 270.998 478.079 273.012 Q475.949 275.026 475.625 278.683 L490.81 278.66 Z\" fill=\"#000000\" fill-rule=\"evenodd\" fill-opacity=\"1\" /><path clip-path=\"url(#clip660)\" d=\"M 0 0 M516.597 280.674 Q516.597 276.044 514.676 273.498 Q512.778 270.952 509.329 270.952 Q505.903 270.952 503.982 273.498 Q502.083 276.044 502.083 280.674 Q502.083 285.28 503.982 287.826 Q505.903 290.373 509.329 290.373 Q512.778 290.373 514.676 287.826 Q516.597 285.28 516.597 280.674 M520.856 290.72 Q520.856 297.34 517.917 300.558 Q514.977 303.799 508.912 303.799 Q506.667 303.799 504.676 303.451 Q502.685 303.127 500.81 302.433 L500.81 298.289 Q502.685 299.308 504.514 299.794 Q506.343 300.28 508.241 300.28 Q512.431 300.28 514.514 298.081 Q516.597 295.905 516.597 291.484 L516.597 289.377 Q515.278 291.669 513.218 292.803 Q511.157 293.938 508.287 293.938 Q503.519 293.938 500.602 290.303 Q497.685 286.669 497.685 280.674 Q497.685 274.655 500.602 271.021 Q503.519 267.387 508.287 267.387 Q511.157 267.387 513.218 268.521 Q515.278 269.655 516.597 271.947 L516.597 268.012 L520.856 268.012 L520.856 290.72 Z\" fill=\"#000000\" fill-rule=\"evenodd\" fill-opacity=\"1\" /><path clip-path=\"url(#clip660)\" d=\"M 0 0 M540.347 271.993 Q539.63 271.577 538.773 271.391 Q537.94 271.183 536.921 271.183 Q533.31 271.183 531.366 273.544 Q529.444 275.882 529.444 280.28 L529.444 293.938 L525.162 293.938 L525.162 268.012 L529.444 268.012 L529.444 272.04 Q530.787 269.678 532.94 268.544 Q535.093 267.387 538.171 267.387 Q538.611 267.387 539.143 267.456 Q539.676 267.503 540.324 267.618 L540.347 271.993 Z\" fill=\"#000000\" fill-rule=\"evenodd\" fill-opacity=\"1\" /><path clip-path=\"url(#clip660)\" d=\"M 0 0 M565.949 279.91 L565.949 281.993 L546.366 281.993 Q546.643 286.391 549.004 288.706 Q551.389 290.998 555.625 290.998 Q558.079 290.998 560.37 290.396 Q562.685 289.794 564.953 288.59 L564.953 292.618 Q562.662 293.59 560.254 294.1 Q557.847 294.609 555.37 294.609 Q549.167 294.609 545.532 290.998 Q541.921 287.387 541.921 281.229 Q541.921 274.864 545.347 271.137 Q548.796 267.387 554.629 267.387 Q559.861 267.387 562.893 270.766 Q565.949 274.123 565.949 279.91 M561.69 278.66 Q561.643 275.165 559.722 273.081 Q557.824 270.998 554.676 270.998 Q551.111 270.998 548.958 273.012 Q546.829 275.026 546.505 278.683 L561.69 278.66 Z\" fill=\"#000000\" fill-rule=\"evenodd\" fill-opacity=\"1\" /><path clip-path=\"url(#clip660)\" d=\"M 0 0 M592.592 279.91 L592.592 281.993 L573.009 281.993 Q573.287 286.391 575.648 288.706 Q578.032 290.998 582.268 290.998 Q584.722 290.998 587.014 290.396 Q589.328 289.794 591.597 288.59 L591.597 292.618 Q589.305 293.59 586.898 294.1 Q584.49 294.609 582.014 294.609 Q575.81 294.609 572.176 290.998 Q568.565 287.387 568.565 281.229 Q568.565 274.864 571.99 271.137 Q575.44 267.387 581.273 267.387 Q586.504 267.387 589.537 270.766 Q592.592 274.123 592.592 279.91 M588.333 278.66 Q588.287 275.165 586.365 273.081 Q584.467 270.998 581.319 270.998 Q577.754 270.998 575.602 273.012 Q573.472 275.026 573.148 278.683 L588.333 278.66 Z\" fill=\"#000000\" fill-rule=\"evenodd\" fill-opacity=\"1\" /><path clip-path=\"url(#clip660)\" d=\"M 0 0 M594.907 279.053 L607.384 279.053 L607.384 282.85 L594.907 282.85 L594.907 279.053 Z\" fill=\"#000000\" fill-rule=\"evenodd\" fill-opacity=\"1\" /><path clip-path=\"url(#clip660)\" d=\"M 0 0 M626.62 275.303 Q629.976 276.021 631.851 278.289 Q633.749 280.558 633.749 283.891 Q633.749 289.007 630.231 291.808 Q626.712 294.609 620.231 294.609 Q618.055 294.609 615.74 294.169 Q613.449 293.752 610.995 292.896 L610.995 288.382 Q612.939 289.516 615.254 290.095 Q617.569 290.674 620.092 290.674 Q624.49 290.674 626.782 288.938 Q629.097 287.201 629.097 283.891 Q629.097 280.836 626.944 279.123 Q624.814 277.387 620.995 277.387 L616.967 277.387 L616.967 273.544 L621.18 273.544 Q624.629 273.544 626.458 272.178 Q628.286 270.79 628.286 268.197 Q628.286 265.535 626.388 264.123 Q624.513 262.688 620.995 262.688 Q619.074 262.688 616.875 263.104 Q614.675 263.521 612.037 264.401 L612.037 260.234 Q614.699 259.493 617.013 259.123 Q619.351 258.753 621.412 258.753 Q626.736 258.753 629.837 261.183 Q632.939 263.59 632.939 267.711 Q632.939 270.581 631.296 272.572 Q629.652 274.54 626.62 275.303 Z\" fill=\"#000000\" fill-rule=\"evenodd\" fill-opacity=\"1\" /><path clip-path=\"url(#clip660)\" d=\"M 0 0 M657.407 290.049 L657.407 303.799 L653.124 303.799 L653.124 268.012 L657.407 268.012 L657.407 271.947 Q658.749 269.632 660.786 268.521 Q662.846 267.387 665.694 267.387 Q670.416 267.387 673.356 271.137 Q676.319 274.887 676.319 280.998 Q676.319 287.109 673.356 290.859 Q670.416 294.609 665.694 294.609 Q662.846 294.609 660.786 293.498 Q658.749 292.363 657.407 290.049 M671.897 280.998 Q671.897 276.299 669.953 273.637 Q668.032 270.952 664.652 270.952 Q661.272 270.952 659.328 273.637 Q657.407 276.299 657.407 280.998 Q657.407 285.697 659.328 288.382 Q661.272 291.044 664.652 291.044 Q668.032 291.044 669.953 288.382 Q671.897 285.697 671.897 280.998 Z\" fill=\"#000000\" fill-rule=\"evenodd\" fill-opacity=\"1\" /><path clip-path=\"url(#clip660)\" d=\"M 0 0 M690.832 270.998 Q687.407 270.998 685.416 273.683 Q683.425 276.345 683.425 280.998 Q683.425 285.651 685.393 288.336 Q687.383 290.998 690.832 290.998 Q694.235 290.998 696.226 288.313 Q698.217 285.627 698.217 280.998 Q698.217 276.391 696.226 273.706 Q694.235 270.998 690.832 270.998 M690.832 267.387 Q696.388 267.387 699.559 270.998 Q702.731 274.609 702.731 280.998 Q702.731 287.364 699.559 290.998 Q696.388 294.609 690.832 294.609 Q685.254 294.609 682.082 290.998 Q678.934 287.364 678.934 280.998 Q678.934 274.609 682.082 270.998 Q685.254 267.387 690.832 267.387 Z\" fill=\"#000000\" fill-rule=\"evenodd\" fill-opacity=\"1\" /><path clip-path=\"url(#clip660)\" d=\"M 0 0 M707.198 257.919 L711.457 257.919 L711.457 293.938 L707.198 293.938 L707.198 257.919 Z\" fill=\"#000000\" fill-rule=\"evenodd\" fill-opacity=\"1\" /><path clip-path=\"url(#clip660)\" d=\"M 0 0 M726.712 296.345 Q724.906 300.975 723.193 302.387 Q721.48 303.799 718.61 303.799 L715.207 303.799 L715.207 300.234 L717.707 300.234 Q719.467 300.234 720.439 299.4 Q721.411 298.567 722.592 295.465 L723.355 293.521 L712.869 268.012 L717.383 268.012 L725.485 288.289 L733.587 268.012 L738.101 268.012 L726.712 296.345 Z\" fill=\"#000000\" fill-rule=\"evenodd\" fill-opacity=\"1\" /><path clip-path=\"url(#clip660)\" d=\"M 0 0 M764.119 278.289 L764.119 293.938 L759.86 293.938 L759.86 278.428 Q759.86 274.748 758.425 272.919 Q756.989 271.09 754.119 271.09 Q750.67 271.09 748.679 273.29 Q746.689 275.489 746.689 279.285 L746.689 293.938 L742.406 293.938 L742.406 268.012 L746.689 268.012 L746.689 272.04 Q748.216 269.702 750.277 268.544 Q752.36 267.387 755.068 267.387 Q759.536 267.387 761.827 270.165 Q764.119 272.919 764.119 278.289 Z\" fill=\"#000000\" fill-rule=\"evenodd\" fill-opacity=\"1\" /><path clip-path=\"url(#clip660)\" d=\"M 0 0 M778.633 270.998 Q775.207 270.998 773.216 273.683 Q771.226 276.345 771.226 280.998 Q771.226 285.651 773.193 288.336 Q775.184 290.998 778.633 290.998 Q782.036 290.998 784.026 288.313 Q786.017 285.627 786.017 280.998 Q786.017 276.391 784.026 273.706 Q782.036 270.998 778.633 270.998 M778.633 267.387 Q784.188 267.387 787.36 270.998 Q790.531 274.609 790.531 280.998 Q790.531 287.364 787.36 290.998 Q784.188 294.609 778.633 294.609 Q773.054 294.609 769.883 290.998 Q766.735 287.364 766.735 280.998 Q766.735 274.609 769.883 270.998 Q773.054 267.387 778.633 267.387 Z\" fill=\"#000000\" fill-rule=\"evenodd\" fill-opacity=\"1\" /><path clip-path=\"url(#clip660)\" d=\"M 0 0 M815.184 272.989 Q816.781 270.118 819.003 268.753 Q821.225 267.387 824.235 267.387 Q828.285 267.387 830.484 270.234 Q832.684 273.058 832.684 278.289 L832.684 293.938 L828.401 293.938 L828.401 278.428 Q828.401 274.702 827.082 272.896 Q825.762 271.09 823.054 271.09 Q819.744 271.09 817.822 273.29 Q815.901 275.489 815.901 279.285 L815.901 293.938 L811.619 293.938 L811.619 278.428 Q811.619 274.678 810.299 272.896 Q808.98 271.09 806.225 271.09 Q802.961 271.09 801.04 273.313 Q799.119 275.512 799.119 279.285 L799.119 293.938 L794.837 293.938 L794.837 268.012 L799.119 268.012 L799.119 272.04 Q800.577 269.655 802.614 268.521 Q804.651 267.387 807.452 267.387 Q810.276 267.387 812.244 268.822 Q814.235 270.257 815.184 272.989 Z\" fill=\"#000000\" fill-rule=\"evenodd\" fill-opacity=\"1\" /><path clip-path=\"url(#clip660)\" d=\"M 0 0 M837.151 268.012 L841.41 268.012 L841.41 293.938 L837.151 293.938 L837.151 268.012 M837.151 257.919 L841.41 257.919 L841.41 263.313 L837.151 263.313 L837.151 257.919 Z\" fill=\"#000000\" fill-rule=\"evenodd\" fill-opacity=\"1\" /><path clip-path=\"url(#clip660)\" d=\"M 0 0 M857.66 280.905 Q852.498 280.905 850.508 282.086 Q848.517 283.266 848.517 286.114 Q848.517 288.382 849.998 289.725 Q851.503 291.044 854.072 291.044 Q857.614 291.044 859.744 288.544 Q861.896 286.021 861.896 281.854 L861.896 280.905 L857.66 280.905 M866.156 279.146 L866.156 293.938 L861.896 293.938 L861.896 290.002 Q860.438 292.363 858.262 293.498 Q856.086 294.609 852.938 294.609 Q848.957 294.609 846.595 292.387 Q844.258 290.141 844.258 286.391 Q844.258 282.016 847.174 279.794 Q850.114 277.572 855.924 277.572 L861.896 277.572 L861.896 277.155 Q861.896 274.215 859.952 272.618 Q858.031 270.998 854.535 270.998 Q852.313 270.998 850.207 271.53 Q848.1 272.063 846.156 273.127 L846.156 269.192 Q848.494 268.29 850.693 267.85 Q852.892 267.387 854.975 267.387 Q860.6 267.387 863.378 270.303 Q866.156 273.22 866.156 279.146 Z\" fill=\"#000000\" fill-rule=\"evenodd\" fill-opacity=\"1\" /><path clip-path=\"url(#clip660)\" d=\"M 0 0 M870.623 257.919 L874.882 257.919 L874.882 293.938 L870.623 293.938 L870.623 257.919 Z\" fill=\"#000000\" fill-rule=\"evenodd\" fill-opacity=\"1\" /></svg>\n"
      ]
     },
     "execution_count": 15,
     "metadata": {},
     "output_type": "execute_result"
    }
   ],
   "source": [
    "begin\n",
    "    using Plots\n",
    "    n = 20\n",
    "    x = range(-π, π; length=20)\n",
    "    noise = 0.3randn(n)\n",
    "    y = sin.(x) + noise\n",
    "    X = hcat((x.^k for k in 0:3)...)\n",
    "    b = X\\y\n",
    "    f(x) = sum(b[k+1]*x^k for k in 0:3)\n",
    "    xs = range(-π, π; length=400)\n",
    "    plot(; legend=:topleft)\n",
    "    scatter!(x, y; label=\"sample\")\n",
    "    plot!(xs, sin.(xs); label=\"sin(x)\", color=:blue, ls=:dash)\n",
    "    plot!(xs, f.(xs); label=\"degree-3 polynomial\", color=:red, lw=2)\n",
    "end"
   ]
  },
  {
   "cell_type": "code",
   "execution_count": 16,
   "metadata": {},
   "outputs": [
    {
     "name": "stdout",
     "output_type": "stream",
     "text": [
      "(:block, \n",
      "    (:using, \n",
      "        (:., :Plots)), \n",
      "    (:(=), :n, 20), \n",
      "    (:(=), :x, \n",
      "        (:call, :range, \n",
      "            (:parameters, \n",
      "                (:kw, :length, 20)), \n",
      "            (:call, :-, :π), :π)), \n",
      "    (:(=), :noise, \n",
      "        (:call, :*, 0.3, \n",
      "            (:call, :randn, :n))), \n",
      "    (:(=), :y, \n",
      "        (:call, :+, \n",
      "            (:., :sin, \n",
      "                (:tuple, :x)), :noise)), \n",
      "    (:(=), :X, \n",
      "        (:call, :hcat, \n",
      "            (:..., \n",
      "                (:generator, \n",
      "                    (:call, :.^, :x, :k), \n",
      "                    (:(=), :k, \n",
      "                        (:call, :(:), 0, 3)))))), \n",
      "    (:(=), :b, \n",
      "        (:call, :\\, :X, :y)), \n",
      "    (:(=), \n",
      "        (:call, :f, :x), \n",
      "        (:block, \n",
      "            (:call, :sum, \n",
      "                (:generator, \n",
      "                    (:call, :*, \n",
      "                        (:ref, :b, \n",
      "                            (:call, :+, :k, 1)), \n",
      "                        (:call, :^, :x, :k)), \n",
      "                    (:(=), :k, \n",
      "                        (:call, :(:), 0, 3)))))), \n",
      "    (:(=), :xs, \n",
      "        (:call, :range, \n",
      "            (:parameters, \n",
      "                (:kw, :length, 400)), \n",
      "            (:call, :-, :π), :π)), \n",
      "    (:call, :plot, \n",
      "        (:parameters, \n",
      "            (:kw, :legend, QuoteNode(:topleft)))), \n",
      "    (:call, :scatter!, \n",
      "        (:parameters, \n",
      "            (:kw, :label, \"sample\")), :x, :y), \n",
      "    (:call, :plot!, \n",
      "        (:parameters, \n",
      "            (:kw, :label, \"sin(x)\"), \n",
      "            (:kw, :color, QuoteNode(:blue)), \n",
      "            (:kw, :ls, QuoteNode(:dash))), :xs, \n",
      "        (:., :sin, \n",
      "            (:tuple, :xs))), \n",
      "    (:call, :plot!, \n",
      "        (:parameters, \n",
      "            (:kw, :label, \"degree-3 polynomial\"), \n",
      "            (:kw, :color, QuoteNode(:red)), \n",
      "            (:kw, :lw, 2)), :xs, \n",
      "        (:., :f, \n",
      "            (:tuple, :xs))))"
     ]
    }
   ],
   "source": [
    "@show_texpr begin\n",
    "    using Plots\n",
    "    n = 20\n",
    "    x = range(-π, π; length=20)\n",
    "    noise = 0.3randn(n)\n",
    "    y = sin.(x) + noise\n",
    "    X = hcat((x.^k for k in 0:3)...)\n",
    "    b = X\\y\n",
    "    f(x) = sum(b[k+1]*x^k for k in 0:3)\n",
    "    xs = range(-π, π; length=400)\n",
    "    plot(; legend=:topleft)\n",
    "    scatter!(x, y; label=\"sample\")\n",
    "    plot!(xs, sin.(xs); label=\"sin(x)\", color=:blue, ls=:dash)\n",
    "    plot!(xs, f.(xs); label=\"degree-3 polynomial\", color=:red, lw=2)\n",
    "end"
   ]
  },
  {
   "cell_type": "code",
   "execution_count": 17,
   "metadata": {},
   "outputs": [
    {
     "data": {
      "image/svg+xml": [
       "<?xml version=\"1.0\" encoding=\"utf-8\"?>\n",
       "<svg xmlns=\"http://www.w3.org/2000/svg\" xmlns:xlink=\"http://www.w3.org/1999/xlink\" width=\"600\" height=\"400\" viewBox=\"0 0 2400 1600\">\n",
       "<defs>\n",
       "  <clipPath id=\"clip700\">\n",
       "    <rect x=\"0\" y=\"0\" width=\"2400\" height=\"1600\"/>\n",
       "  </clipPath>\n",
       "</defs>\n",
       "<path clip-path=\"url(#clip700)\" d=\"\n",
       "M0 1600 L2400 1600 L2400 0 L0 0  Z\n",
       "  \" fill=\"#ffffff\" fill-rule=\"evenodd\" fill-opacity=\"1\"/>\n",
       "<defs>\n",
       "  <clipPath id=\"clip701\">\n",
       "    <rect x=\"480\" y=\"0\" width=\"1681\" height=\"1600\"/>\n",
       "  </clipPath>\n",
       "</defs>\n",
       "<path clip-path=\"url(#clip700)\" d=\"\n",
       "M179.654 1486.45 L2352.76 1486.45 L2352.76 47.2441 L179.654 47.2441  Z\n",
       "  \" fill=\"#ffffff\" fill-rule=\"evenodd\" fill-opacity=\"1\"/>\n",
       "<defs>\n",
       "  <clipPath id=\"clip702\">\n",
       "    <rect x=\"179\" y=\"47\" width=\"2174\" height=\"1440\"/>\n",
       "  </clipPath>\n",
       "</defs>\n",
       "<polyline clip-path=\"url(#clip702)\" style=\"stroke:#000000; stroke-width:2; stroke-opacity:0.1; fill:none\" points=\"\n",
       "  287.356,1486.45 287.356,47.2441 \n",
       "  \"/>\n",
       "<polyline clip-path=\"url(#clip702)\" style=\"stroke:#000000; stroke-width:2; stroke-opacity:0.1; fill:none\" points=\"\n",
       "  613.639,1486.45 613.639,47.2441 \n",
       "  \"/>\n",
       "<polyline clip-path=\"url(#clip702)\" style=\"stroke:#000000; stroke-width:2; stroke-opacity:0.1; fill:none\" points=\"\n",
       "  939.922,1486.45 939.922,47.2441 \n",
       "  \"/>\n",
       "<polyline clip-path=\"url(#clip702)\" style=\"stroke:#000000; stroke-width:2; stroke-opacity:0.1; fill:none\" points=\"\n",
       "  1266.2,1486.45 1266.2,47.2441 \n",
       "  \"/>\n",
       "<polyline clip-path=\"url(#clip702)\" style=\"stroke:#000000; stroke-width:2; stroke-opacity:0.1; fill:none\" points=\"\n",
       "  1592.49,1486.45 1592.49,47.2441 \n",
       "  \"/>\n",
       "<polyline clip-path=\"url(#clip702)\" style=\"stroke:#000000; stroke-width:2; stroke-opacity:0.1; fill:none\" points=\"\n",
       "  1918.77,1486.45 1918.77,47.2441 \n",
       "  \"/>\n",
       "<polyline clip-path=\"url(#clip702)\" style=\"stroke:#000000; stroke-width:2; stroke-opacity:0.1; fill:none\" points=\"\n",
       "  2245.05,1486.45 2245.05,47.2441 \n",
       "  \"/>\n",
       "<polyline clip-path=\"url(#clip700)\" style=\"stroke:#000000; stroke-width:4; stroke-opacity:1; fill:none\" points=\"\n",
       "  179.654,1486.45 2352.76,1486.45 \n",
       "  \"/>\n",
       "<polyline clip-path=\"url(#clip700)\" style=\"stroke:#000000; stroke-width:4; stroke-opacity:1; fill:none\" points=\"\n",
       "  287.356,1486.45 287.356,1469.18 \n",
       "  \"/>\n",
       "<polyline clip-path=\"url(#clip700)\" style=\"stroke:#000000; stroke-width:4; stroke-opacity:1; fill:none\" points=\"\n",
       "  613.639,1486.45 613.639,1469.18 \n",
       "  \"/>\n",
       "<polyline clip-path=\"url(#clip700)\" style=\"stroke:#000000; stroke-width:4; stroke-opacity:1; fill:none\" points=\"\n",
       "  939.922,1486.45 939.922,1469.18 \n",
       "  \"/>\n",
       "<polyline clip-path=\"url(#clip700)\" style=\"stroke:#000000; stroke-width:4; stroke-opacity:1; fill:none\" points=\"\n",
       "  1266.2,1486.45 1266.2,1469.18 \n",
       "  \"/>\n",
       "<polyline clip-path=\"url(#clip700)\" style=\"stroke:#000000; stroke-width:4; stroke-opacity:1; fill:none\" points=\"\n",
       "  1592.49,1486.45 1592.49,1469.18 \n",
       "  \"/>\n",
       "<polyline clip-path=\"url(#clip700)\" style=\"stroke:#000000; stroke-width:4; stroke-opacity:1; fill:none\" points=\"\n",
       "  1918.77,1486.45 1918.77,1469.18 \n",
       "  \"/>\n",
       "<polyline clip-path=\"url(#clip700)\" style=\"stroke:#000000; stroke-width:4; stroke-opacity:1; fill:none\" points=\"\n",
       "  2245.05,1486.45 2245.05,1469.18 \n",
       "  \"/>\n",
       "<path clip-path=\"url(#clip700)\" d=\"M 0 0 M259.335 1530.29 L289.011 1530.29 L289.011 1534.23 L259.335 1534.23 L259.335 1530.29 Z\" fill=\"#000000\" fill-rule=\"evenodd\" fill-opacity=\"1\" /><path clip-path=\"url(#clip700)\" d=\"M 0 0 M308.247 1528.49 Q311.603 1529.2 313.478 1531.47 Q315.377 1533.74 315.377 1537.07 Q315.377 1542.19 311.858 1544.99 Q308.34 1547.79 301.858 1547.79 Q299.682 1547.79 297.367 1547.35 Q295.076 1546.93 292.622 1546.08 L292.622 1541.56 Q294.566 1542.7 296.881 1543.28 Q299.196 1543.86 301.719 1543.86 Q306.117 1543.86 308.409 1542.12 Q310.724 1540.38 310.724 1537.07 Q310.724 1534.02 308.571 1532.31 Q306.441 1530.57 302.622 1530.57 L298.594 1530.57 L298.594 1526.73 L302.807 1526.73 Q306.256 1526.73 308.085 1525.36 Q309.914 1523.97 309.914 1521.38 Q309.914 1518.72 308.015 1517.31 Q306.14 1515.87 302.622 1515.87 Q300.701 1515.87 298.502 1516.29 Q296.303 1516.7 293.664 1517.58 L293.664 1513.42 Q296.326 1512.68 298.64 1512.31 Q300.978 1511.93 303.039 1511.93 Q308.363 1511.93 311.465 1514.37 Q314.566 1516.77 314.566 1520.89 Q314.566 1523.76 312.923 1525.75 Q311.279 1527.72 308.247 1528.49 Z\" fill=\"#000000\" fill-rule=\"evenodd\" fill-opacity=\"1\" /><path clip-path=\"url(#clip700)\" d=\"M 0 0 M586.093 1530.29 L615.768 1530.29 L615.768 1534.23 L586.093 1534.23 L586.093 1530.29 Z\" fill=\"#000000\" fill-rule=\"evenodd\" fill-opacity=\"1\" /><path clip-path=\"url(#clip700)\" d=\"M 0 0 M624.866 1543.18 L641.185 1543.18 L641.185 1547.12 L619.241 1547.12 L619.241 1543.18 Q621.903 1540.43 626.486 1535.8 Q631.092 1531.15 632.273 1529.81 Q634.518 1527.28 635.398 1525.55 Q636.301 1523.79 636.301 1522.1 Q636.301 1519.34 634.356 1517.61 Q632.435 1515.87 629.333 1515.87 Q627.134 1515.87 624.68 1516.63 Q622.25 1517.4 619.472 1518.95 L619.472 1514.23 Q622.296 1513.09 624.75 1512.51 Q627.204 1511.93 629.241 1511.93 Q634.611 1511.93 637.805 1514.62 Q641 1517.31 641 1521.8 Q641 1523.93 640.19 1525.85 Q639.403 1527.74 637.296 1530.34 Q636.717 1531.01 633.616 1534.23 Q630.514 1537.42 624.866 1543.18 Z\" fill=\"#000000\" fill-rule=\"evenodd\" fill-opacity=\"1\" /><path clip-path=\"url(#clip700)\" d=\"M 0 0 M912.19 1530.29 L941.866 1530.29 L941.866 1534.23 L912.19 1534.23 L912.19 1530.29 Z\" fill=\"#000000\" fill-rule=\"evenodd\" fill-opacity=\"1\" /><path clip-path=\"url(#clip700)\" d=\"M 0 0 M947.746 1543.18 L955.385 1543.18 L955.385 1516.82 L947.075 1518.49 L947.075 1514.23 L955.338 1512.56 L960.014 1512.56 L960.014 1543.18 L967.653 1543.18 L967.653 1547.12 L947.746 1547.12 L947.746 1543.18 Z\" fill=\"#000000\" fill-rule=\"evenodd\" fill-opacity=\"1\" /><path clip-path=\"url(#clip700)\" d=\"M 0 0 M1266.2 1515.64 Q1262.59 1515.64 1260.77 1519.2 Q1258.96 1522.75 1258.96 1529.87 Q1258.96 1536.98 1260.77 1540.55 Q1262.59 1544.09 1266.2 1544.09 Q1269.84 1544.09 1271.64 1540.55 Q1273.47 1536.98 1273.47 1529.87 Q1273.47 1522.75 1271.64 1519.2 Q1269.84 1515.64 1266.2 1515.64 M1266.2 1511.93 Q1272.01 1511.93 1275.07 1516.54 Q1278.15 1521.12 1278.15 1529.87 Q1278.15 1538.6 1275.07 1543.21 Q1272.01 1547.79 1266.2 1547.79 Q1260.39 1547.79 1257.32 1543.21 Q1254.26 1538.6 1254.26 1529.87 Q1254.26 1521.12 1257.32 1516.54 Q1260.39 1511.93 1266.2 1511.93 Z\" fill=\"#000000\" fill-rule=\"evenodd\" fill-opacity=\"1\" /><path clip-path=\"url(#clip700)\" d=\"M 0 0 M1582.87 1543.18 L1590.51 1543.18 L1590.51 1516.82 L1582.2 1518.49 L1582.2 1514.23 L1590.46 1512.56 L1595.14 1512.56 L1595.14 1543.18 L1602.78 1543.18 L1602.78 1547.12 L1582.87 1547.12 L1582.87 1543.18 Z\" fill=\"#000000\" fill-rule=\"evenodd\" fill-opacity=\"1\" /><path clip-path=\"url(#clip700)\" d=\"M 0 0 M1913.42 1543.18 L1929.74 1543.18 L1929.74 1547.12 L1907.8 1547.12 L1907.8 1543.18 Q1910.46 1540.43 1915.04 1535.8 Q1919.65 1531.15 1920.83 1529.81 Q1923.08 1527.28 1923.96 1525.55 Q1924.86 1523.79 1924.86 1522.1 Q1924.86 1519.34 1922.91 1517.61 Q1920.99 1515.87 1917.89 1515.87 Q1915.69 1515.87 1913.24 1516.63 Q1910.81 1517.4 1908.03 1518.95 L1908.03 1514.23 Q1910.85 1513.09 1913.31 1512.51 Q1915.76 1511.93 1917.8 1511.93 Q1923.17 1511.93 1926.36 1514.62 Q1929.56 1517.31 1929.56 1521.8 Q1929.56 1523.93 1928.75 1525.85 Q1927.96 1527.74 1925.85 1530.34 Q1925.28 1531.01 1922.17 1534.23 Q1919.07 1537.42 1913.42 1543.18 Z\" fill=\"#000000\" fill-rule=\"evenodd\" fill-opacity=\"1\" /><path clip-path=\"url(#clip700)\" d=\"M 0 0 M2249.3 1528.49 Q2252.66 1529.2 2254.53 1531.47 Q2256.43 1533.74 2256.43 1537.07 Q2256.43 1542.19 2252.91 1544.99 Q2249.39 1547.79 2242.91 1547.79 Q2240.74 1547.79 2238.42 1547.35 Q2236.13 1546.93 2233.68 1546.08 L2233.68 1541.56 Q2235.62 1542.7 2237.94 1543.28 Q2240.25 1543.86 2242.77 1543.86 Q2247.17 1543.86 2249.46 1542.12 Q2251.78 1540.38 2251.78 1537.07 Q2251.78 1534.02 2249.63 1532.31 Q2247.5 1530.57 2243.68 1530.57 L2239.65 1530.57 L2239.65 1526.73 L2243.86 1526.73 Q2247.31 1526.73 2249.14 1525.36 Q2250.97 1523.97 2250.97 1521.38 Q2250.97 1518.72 2249.07 1517.31 Q2247.19 1515.87 2243.68 1515.87 Q2241.76 1515.87 2239.56 1516.29 Q2237.36 1516.7 2234.72 1517.58 L2234.72 1513.42 Q2237.38 1512.68 2239.69 1512.31 Q2242.03 1511.93 2244.09 1511.93 Q2249.42 1511.93 2252.52 1514.37 Q2255.62 1516.77 2255.62 1520.89 Q2255.62 1523.76 2253.98 1525.75 Q2252.33 1527.72 2249.3 1528.49 Z\" fill=\"#000000\" fill-rule=\"evenodd\" fill-opacity=\"1\" /><polyline clip-path=\"url(#clip702)\" style=\"stroke:#000000; stroke-width:2; stroke-opacity:0.1; fill:none\" points=\"\n",
       "  179.654,1253.81 2352.76,1253.81 \n",
       "  \"/>\n",
       "<polyline clip-path=\"url(#clip702)\" style=\"stroke:#000000; stroke-width:2; stroke-opacity:0.1; fill:none\" points=\"\n",
       "  179.654,997.644 2352.76,997.644 \n",
       "  \"/>\n",
       "<polyline clip-path=\"url(#clip702)\" style=\"stroke:#000000; stroke-width:2; stroke-opacity:0.1; fill:none\" points=\"\n",
       "  179.654,741.474 2352.76,741.474 \n",
       "  \"/>\n",
       "<polyline clip-path=\"url(#clip702)\" style=\"stroke:#000000; stroke-width:2; stroke-opacity:0.1; fill:none\" points=\"\n",
       "  179.654,485.303 2352.76,485.303 \n",
       "  \"/>\n",
       "<polyline clip-path=\"url(#clip702)\" style=\"stroke:#000000; stroke-width:2; stroke-opacity:0.1; fill:none\" points=\"\n",
       "  179.654,229.133 2352.76,229.133 \n",
       "  \"/>\n",
       "<polyline clip-path=\"url(#clip700)\" style=\"stroke:#000000; stroke-width:4; stroke-opacity:1; fill:none\" points=\"\n",
       "  179.654,1486.45 179.654,47.2441 \n",
       "  \"/>\n",
       "<polyline clip-path=\"url(#clip700)\" style=\"stroke:#000000; stroke-width:4; stroke-opacity:1; fill:none\" points=\"\n",
       "  179.654,1253.81 205.731,1253.81 \n",
       "  \"/>\n",
       "<polyline clip-path=\"url(#clip700)\" style=\"stroke:#000000; stroke-width:4; stroke-opacity:1; fill:none\" points=\"\n",
       "  179.654,997.644 205.731,997.644 \n",
       "  \"/>\n",
       "<polyline clip-path=\"url(#clip700)\" style=\"stroke:#000000; stroke-width:4; stroke-opacity:1; fill:none\" points=\"\n",
       "  179.654,741.474 205.731,741.474 \n",
       "  \"/>\n",
       "<polyline clip-path=\"url(#clip700)\" style=\"stroke:#000000; stroke-width:4; stroke-opacity:1; fill:none\" points=\"\n",
       "  179.654,485.303 205.731,485.303 \n",
       "  \"/>\n",
       "<polyline clip-path=\"url(#clip700)\" style=\"stroke:#000000; stroke-width:4; stroke-opacity:1; fill:none\" points=\"\n",
       "  179.654,229.133 205.731,229.133 \n",
       "  \"/>\n",
       "<path clip-path=\"url(#clip700)\" d=\"M 0 0 M51.2236 1254.27 L80.8994 1254.27 L80.8994 1258.2 L51.2236 1258.2 L51.2236 1254.27 Z\" fill=\"#000000\" fill-rule=\"evenodd\" fill-opacity=\"1\" /><path clip-path=\"url(#clip700)\" d=\"M 0 0 M86.779 1267.16 L94.4178 1267.16 L94.4178 1240.79 L86.1077 1242.46 L86.1077 1238.2 L94.3715 1236.53 L99.0474 1236.53 L99.0474 1267.16 L106.686 1267.16 L106.686 1271.09 L86.779 1271.09 L86.779 1267.16 Z\" fill=\"#000000\" fill-rule=\"evenodd\" fill-opacity=\"1\" /><path clip-path=\"url(#clip700)\" d=\"M 0 0 M111.756 1265.22 L116.64 1265.22 L116.64 1271.09 L111.756 1271.09 L111.756 1265.22 Z\" fill=\"#000000\" fill-rule=\"evenodd\" fill-opacity=\"1\" /><path clip-path=\"url(#clip700)\" d=\"M 0 0 M131.709 1239.61 Q128.098 1239.61 126.27 1243.18 Q124.464 1246.72 124.464 1253.85 Q124.464 1260.96 126.27 1264.52 Q128.098 1268.06 131.709 1268.06 Q135.344 1268.06 137.149 1264.52 Q138.978 1260.96 138.978 1253.85 Q138.978 1246.72 137.149 1243.18 Q135.344 1239.61 131.709 1239.61 M131.709 1235.91 Q137.519 1235.91 140.575 1240.52 Q143.654 1245.1 143.654 1253.85 Q143.654 1262.58 140.575 1267.18 Q137.519 1271.77 131.709 1271.77 Q125.899 1271.77 122.82 1267.18 Q119.765 1262.58 119.765 1253.85 Q119.765 1245.1 122.82 1240.52 Q125.899 1235.91 131.709 1235.91 Z\" fill=\"#000000\" fill-rule=\"evenodd\" fill-opacity=\"1\" /><path clip-path=\"url(#clip700)\" d=\"M 0 0 M50.9921 998.096 L80.6679 998.096 L80.6679 1002.03 L50.9921 1002.03 L50.9921 998.096 Z\" fill=\"#000000\" fill-rule=\"evenodd\" fill-opacity=\"1\" /><path clip-path=\"url(#clip700)\" d=\"M 0 0 M95.7373 983.443 Q92.1262 983.443 90.2975 987.008 Q88.4919 990.549 88.4919 997.679 Q88.4919 1004.79 90.2975 1008.35 Q92.1262 1011.89 95.7373 1011.89 Q99.3715 1011.89 101.177 1008.35 Q103.006 1004.79 103.006 997.679 Q103.006 990.549 101.177 987.008 Q99.3715 983.443 95.7373 983.443 M95.7373 979.739 Q101.547 979.739 104.603 984.346 Q107.682 988.929 107.682 997.679 Q107.682 1006.41 104.603 1011.01 Q101.547 1015.6 95.7373 1015.6 Q89.9271 1015.6 86.8484 1011.01 Q83.7929 1006.41 83.7929 997.679 Q83.7929 988.929 86.8484 984.346 Q89.9271 979.739 95.7373 979.739 Z\" fill=\"#000000\" fill-rule=\"evenodd\" fill-opacity=\"1\" /><path clip-path=\"url(#clip700)\" d=\"M 0 0 M112.751 1009.04 L117.635 1009.04 L117.635 1014.92 L112.751 1014.92 L112.751 1009.04 Z\" fill=\"#000000\" fill-rule=\"evenodd\" fill-opacity=\"1\" /><path clip-path=\"url(#clip700)\" d=\"M 0 0 M122.751 980.364 L141.107 980.364 L141.107 984.299 L127.033 984.299 L127.033 992.772 Q128.052 992.424 129.07 992.262 Q130.089 992.077 131.107 992.077 Q136.894 992.077 140.274 995.248 Q143.654 998.42 143.654 1003.84 Q143.654 1009.42 140.181 1012.52 Q136.709 1015.6 130.39 1015.6 Q128.214 1015.6 125.945 1015.23 Q123.7 1014.85 121.293 1014.11 L121.293 1009.42 Q123.376 1010.55 125.598 1011.1 Q127.82 1011.66 130.297 1011.66 Q134.302 1011.66 136.64 1009.55 Q138.978 1007.45 138.978 1003.84 Q138.978 1000.23 136.64 998.119 Q134.302 996.012 130.297 996.012 Q128.422 996.012 126.547 996.429 Q124.695 996.846 122.751 997.725 L122.751 980.364 Z\" fill=\"#000000\" fill-rule=\"evenodd\" fill-opacity=\"1\" /><path clip-path=\"url(#clip700)\" d=\"M 0 0 M94.7419 727.273 Q91.1308 727.273 89.3021 730.837 Q87.4966 734.379 87.4966 741.509 Q87.4966 748.615 89.3021 752.18 Q91.1308 755.721 94.7419 755.721 Q98.3761 755.721 100.182 752.18 Q102.01 748.615 102.01 741.509 Q102.01 734.379 100.182 730.837 Q98.3761 727.273 94.7419 727.273 M94.7419 723.569 Q100.552 723.569 103.608 728.175 Q106.686 732.759 106.686 741.509 Q106.686 750.235 103.608 754.842 Q100.552 759.425 94.7419 759.425 Q88.9317 759.425 85.8531 754.842 Q82.7975 750.235 82.7975 741.509 Q82.7975 732.759 85.8531 728.175 Q88.9317 723.569 94.7419 723.569 Z\" fill=\"#000000\" fill-rule=\"evenodd\" fill-opacity=\"1\" /><path clip-path=\"url(#clip700)\" d=\"M 0 0 M111.756 752.874 L116.64 752.874 L116.64 758.754 L111.756 758.754 L111.756 752.874 Z\" fill=\"#000000\" fill-rule=\"evenodd\" fill-opacity=\"1\" /><path clip-path=\"url(#clip700)\" d=\"M 0 0 M131.709 727.273 Q128.098 727.273 126.27 730.837 Q124.464 734.379 124.464 741.509 Q124.464 748.615 126.27 752.18 Q128.098 755.721 131.709 755.721 Q135.344 755.721 137.149 752.18 Q138.978 748.615 138.978 741.509 Q138.978 734.379 137.149 730.837 Q135.344 727.273 131.709 727.273 M131.709 723.569 Q137.519 723.569 140.575 728.175 Q143.654 732.759 143.654 741.509 Q143.654 750.235 140.575 754.842 Q137.519 759.425 131.709 759.425 Q125.899 759.425 122.82 754.842 Q119.765 750.235 119.765 741.509 Q119.765 732.759 122.82 728.175 Q125.899 723.569 131.709 723.569 Z\" fill=\"#000000\" fill-rule=\"evenodd\" fill-opacity=\"1\" /><path clip-path=\"url(#clip700)\" d=\"M 0 0 M95.7373 471.102 Q92.1262 471.102 90.2975 474.667 Q88.4919 478.209 88.4919 485.338 Q88.4919 492.445 90.2975 496.009 Q92.1262 499.551 95.7373 499.551 Q99.3715 499.551 101.177 496.009 Q103.006 492.445 103.006 485.338 Q103.006 478.209 101.177 474.667 Q99.3715 471.102 95.7373 471.102 M95.7373 467.398 Q101.547 467.398 104.603 472.005 Q107.682 476.588 107.682 485.338 Q107.682 494.065 104.603 498.671 Q101.547 503.255 95.7373 503.255 Q89.9271 503.255 86.8484 498.671 Q83.7929 494.065 83.7929 485.338 Q83.7929 476.588 86.8484 472.005 Q89.9271 467.398 95.7373 467.398 Z\" fill=\"#000000\" fill-rule=\"evenodd\" fill-opacity=\"1\" /><path clip-path=\"url(#clip700)\" d=\"M 0 0 M112.751 496.704 L117.635 496.704 L117.635 502.583 L112.751 502.583 L112.751 496.704 Z\" fill=\"#000000\" fill-rule=\"evenodd\" fill-opacity=\"1\" /><path clip-path=\"url(#clip700)\" d=\"M 0 0 M122.751 468.023 L141.107 468.023 L141.107 471.959 L127.033 471.959 L127.033 480.431 Q128.052 480.084 129.07 479.922 Q130.089 479.736 131.107 479.736 Q136.894 479.736 140.274 482.908 Q143.654 486.079 143.654 491.496 Q143.654 497.074 140.181 500.176 Q136.709 503.255 130.39 503.255 Q128.214 503.255 125.945 502.884 Q123.7 502.514 121.293 501.773 L121.293 497.074 Q123.376 498.209 125.598 498.764 Q127.82 499.32 130.297 499.32 Q134.302 499.32 136.64 497.213 Q138.978 495.107 138.978 491.496 Q138.978 487.884 136.64 485.778 Q134.302 483.672 130.297 483.672 Q128.422 483.672 126.547 484.088 Q124.695 484.505 122.751 485.385 L122.751 468.023 Z\" fill=\"#000000\" fill-rule=\"evenodd\" fill-opacity=\"1\" /><path clip-path=\"url(#clip700)\" d=\"M 0 0 M86.779 242.478 L94.4178 242.478 L94.4178 216.112 L86.1077 217.779 L86.1077 213.52 L94.3715 211.853 L99.0474 211.853 L99.0474 242.478 L106.686 242.478 L106.686 246.413 L86.779 246.413 L86.779 242.478 Z\" fill=\"#000000\" fill-rule=\"evenodd\" fill-opacity=\"1\" /><path clip-path=\"url(#clip700)\" d=\"M 0 0 M111.756 240.534 L116.64 240.534 L116.64 246.413 L111.756 246.413 L111.756 240.534 Z\" fill=\"#000000\" fill-rule=\"evenodd\" fill-opacity=\"1\" /><path clip-path=\"url(#clip700)\" d=\"M 0 0 M131.709 214.932 Q128.098 214.932 126.27 218.497 Q124.464 222.038 124.464 229.168 Q124.464 236.274 126.27 239.839 Q128.098 243.381 131.709 243.381 Q135.344 243.381 137.149 239.839 Q138.978 236.274 138.978 229.168 Q138.978 222.038 137.149 218.497 Q135.344 214.932 131.709 214.932 M131.709 211.228 Q137.519 211.228 140.575 215.835 Q143.654 220.418 143.654 229.168 Q143.654 237.895 140.575 242.501 Q137.519 247.084 131.709 247.084 Q125.899 247.084 122.82 242.501 Q119.765 237.895 119.765 229.168 Q119.765 220.418 122.82 215.835 Q125.899 211.228 131.709 211.228 Z\" fill=\"#000000\" fill-rule=\"evenodd\" fill-opacity=\"1\" /><circle clip-path=\"url(#clip702)\" cx=\"241.157\" cy=\"717.538\" r=\"14\" fill=\"#009af9\" fill-rule=\"evenodd\" fill-opacity=\"1\" stroke=\"#000000\" stroke-opacity=\"1\" stroke-width=\"3.2\"/>\n",
       "<circle clip-path=\"url(#clip702)\" cx=\"349.056\" cy=\"803.705\" r=\"14\" fill=\"#009af9\" fill-rule=\"evenodd\" fill-opacity=\"1\" stroke=\"#000000\" stroke-opacity=\"1\" stroke-width=\"3.2\"/>\n",
       "<circle clip-path=\"url(#clip702)\" cx=\"456.956\" cy=\"1080.93\" r=\"14\" fill=\"#009af9\" fill-rule=\"evenodd\" fill-opacity=\"1\" stroke=\"#000000\" stroke-opacity=\"1\" stroke-width=\"3.2\"/>\n",
       "<circle clip-path=\"url(#clip702)\" cx=\"564.856\" cy=\"1228.02\" r=\"14\" fill=\"#009af9\" fill-rule=\"evenodd\" fill-opacity=\"1\" stroke=\"#000000\" stroke-opacity=\"1\" stroke-width=\"3.2\"/>\n",
       "<circle clip-path=\"url(#clip702)\" cx=\"672.756\" cy=\"1240.36\" r=\"14\" fill=\"#009af9\" fill-rule=\"evenodd\" fill-opacity=\"1\" stroke=\"#000000\" stroke-opacity=\"1\" stroke-width=\"3.2\"/>\n",
       "<circle clip-path=\"url(#clip702)\" cx=\"780.656\" cy=\"1445.72\" r=\"14\" fill=\"#009af9\" fill-rule=\"evenodd\" fill-opacity=\"1\" stroke=\"#000000\" stroke-opacity=\"1\" stroke-width=\"3.2\"/>\n",
       "<circle clip-path=\"url(#clip702)\" cx=\"888.555\" cy=\"1372.49\" r=\"14\" fill=\"#009af9\" fill-rule=\"evenodd\" fill-opacity=\"1\" stroke=\"#000000\" stroke-opacity=\"1\" stroke-width=\"3.2\"/>\n",
       "<circle clip-path=\"url(#clip702)\" cx=\"996.455\" cy=\"1080.81\" r=\"14\" fill=\"#009af9\" fill-rule=\"evenodd\" fill-opacity=\"1\" stroke=\"#000000\" stroke-opacity=\"1\" stroke-width=\"3.2\"/>\n",
       "<circle clip-path=\"url(#clip702)\" cx=\"1104.36\" cy=\"938.179\" r=\"14\" fill=\"#009af9\" fill-rule=\"evenodd\" fill-opacity=\"1\" stroke=\"#000000\" stroke-opacity=\"1\" stroke-width=\"3.2\"/>\n",
       "<circle clip-path=\"url(#clip702)\" cx=\"1212.25\" cy=\"1031.93\" r=\"14\" fill=\"#009af9\" fill-rule=\"evenodd\" fill-opacity=\"1\" stroke=\"#000000\" stroke-opacity=\"1\" stroke-width=\"3.2\"/>\n",
       "<circle clip-path=\"url(#clip702)\" cx=\"1320.15\" cy=\"958.843\" r=\"14\" fill=\"#009af9\" fill-rule=\"evenodd\" fill-opacity=\"1\" stroke=\"#000000\" stroke-opacity=\"1\" stroke-width=\"3.2\"/>\n",
       "<circle clip-path=\"url(#clip702)\" cx=\"1428.05\" cy=\"764.602\" r=\"14\" fill=\"#009af9\" fill-rule=\"evenodd\" fill-opacity=\"1\" stroke=\"#000000\" stroke-opacity=\"1\" stroke-width=\"3.2\"/>\n",
       "<circle clip-path=\"url(#clip702)\" cx=\"1535.95\" cy=\"461.963\" r=\"14\" fill=\"#009af9\" fill-rule=\"evenodd\" fill-opacity=\"1\" stroke=\"#000000\" stroke-opacity=\"1\" stroke-width=\"3.2\"/>\n",
       "<circle clip-path=\"url(#clip702)\" cx=\"1643.85\" cy=\"87.9763\" r=\"14\" fill=\"#009af9\" fill-rule=\"evenodd\" fill-opacity=\"1\" stroke=\"#000000\" stroke-opacity=\"1\" stroke-width=\"3.2\"/>\n",
       "<circle clip-path=\"url(#clip702)\" cx=\"1751.75\" cy=\"151.968\" r=\"14\" fill=\"#009af9\" fill-rule=\"evenodd\" fill-opacity=\"1\" stroke=\"#000000\" stroke-opacity=\"1\" stroke-width=\"3.2\"/>\n",
       "<circle clip-path=\"url(#clip702)\" cx=\"1859.65\" cy=\"416.313\" r=\"14\" fill=\"#009af9\" fill-rule=\"evenodd\" fill-opacity=\"1\" stroke=\"#000000\" stroke-opacity=\"1\" stroke-width=\"3.2\"/>\n",
       "<circle clip-path=\"url(#clip702)\" cx=\"1967.55\" cy=\"339.785\" r=\"14\" fill=\"#009af9\" fill-rule=\"evenodd\" fill-opacity=\"1\" stroke=\"#000000\" stroke-opacity=\"1\" stroke-width=\"3.2\"/>\n",
       "<circle clip-path=\"url(#clip702)\" cx=\"2075.45\" cy=\"254.092\" r=\"14\" fill=\"#009af9\" fill-rule=\"evenodd\" fill-opacity=\"1\" stroke=\"#000000\" stroke-opacity=\"1\" stroke-width=\"3.2\"/>\n",
       "<circle clip-path=\"url(#clip702)\" cx=\"2183.35\" cy=\"674.865\" r=\"14\" fill=\"#009af9\" fill-rule=\"evenodd\" fill-opacity=\"1\" stroke=\"#000000\" stroke-opacity=\"1\" stroke-width=\"3.2\"/>\n",
       "<circle clip-path=\"url(#clip702)\" cx=\"2291.25\" cy=\"686.436\" r=\"14\" fill=\"#009af9\" fill-rule=\"evenodd\" fill-opacity=\"1\" stroke=\"#000000\" stroke-opacity=\"1\" stroke-width=\"3.2\"/>\n",
       "<polyline clip-path=\"url(#clip702)\" style=\"stroke:#0000ff; stroke-width:4; stroke-opacity:1; fill:none\" stroke-dasharray=\"16, 10\" points=\"\n",
       "  241.157,741.474 246.295,749.542 251.433,757.607 256.571,765.669 261.709,773.725 266.847,781.772 271.985,789.81 277.123,797.836 282.261,805.847 287.399,813.843 \n",
       "  292.537,821.821 297.676,829.779 302.814,837.715 307.952,845.627 313.09,853.513 318.228,861.372 323.366,869.2 328.504,876.998 333.642,884.761 338.78,892.489 \n",
       "  343.918,900.179 349.056,907.831 354.194,915.441 359.333,923.007 364.471,930.529 369.609,938.004 374.747,945.43 379.885,952.806 385.023,960.129 390.161,967.398 \n",
       "  395.299,974.611 400.437,981.766 405.575,988.861 410.713,995.896 415.851,1002.87 420.99,1009.77 426.128,1016.61 431.266,1023.38 436.404,1030.09 441.542,1036.72 \n",
       "  446.68,1043.27 451.818,1049.75 456.956,1056.16 462.094,1062.49 467.232,1068.74 472.37,1074.9 477.509,1080.99 482.647,1086.99 487.785,1092.9 492.923,1098.73 \n",
       "  498.061,1104.47 503.199,1110.11 508.337,1115.67 513.475,1121.14 518.613,1126.51 523.751,1131.78 528.889,1136.96 534.027,1142.04 539.166,1147.02 544.304,1151.9 \n",
       "  549.442,1156.68 554.58,1161.35 559.718,1165.92 564.856,1170.39 569.994,1174.75 575.132,1179 580.27,1183.14 585.408,1187.18 590.546,1191.1 595.685,1194.91 \n",
       "  600.823,1198.61 605.961,1202.2 611.099,1205.67 616.237,1209.03 621.375,1212.27 626.513,1215.39 631.651,1218.4 636.789,1221.29 641.927,1224.06 647.065,1226.71 \n",
       "  652.203,1229.24 657.342,1231.64 662.48,1233.93 667.618,1236.1 672.756,1238.14 677.894,1240.06 683.032,1241.85 688.17,1243.52 693.308,1245.07 698.446,1246.49 \n",
       "  703.584,1247.79 708.722,1248.96 713.861,1250 718.999,1250.92 724.137,1251.72 729.275,1252.38 734.413,1252.92 739.551,1253.33 744.689,1253.62 749.827,1253.78 \n",
       "  754.965,1253.81 760.103,1253.72 765.241,1253.49 770.379,1253.14 775.518,1252.67 780.656,1252.06 785.794,1251.34 790.932,1250.48 796.07,1249.5 801.208,1248.39 \n",
       "  806.346,1247.16 811.484,1245.8 816.622,1244.31 821.76,1242.7 826.898,1240.97 832.036,1239.11 837.175,1237.13 842.313,1235.03 847.451,1232.8 852.589,1230.45 \n",
       "  857.727,1227.99 862.865,1225.4 868.003,1222.69 873.141,1219.86 878.279,1216.91 883.417,1213.84 888.555,1210.66 893.694,1207.36 898.832,1203.95 903.97,1200.42 \n",
       "  909.108,1196.78 914.246,1193.02 919.384,1189.15 924.522,1185.17 929.66,1181.09 934.798,1176.89 939.936,1172.58 945.074,1168.17 950.212,1163.65 955.351,1159.03 \n",
       "  960.489,1154.3 965.627,1149.47 970.765,1144.54 975.903,1139.51 981.041,1134.38 986.179,1129.16 991.317,1123.83 996.455,1118.42 1001.59,1112.9 1006.73,1107.3 \n",
       "  1011.87,1101.61 1017.01,1095.82 1022.15,1089.95 1027.28,1084 1032.42,1077.95 1037.56,1071.83 1042.7,1065.62 1047.84,1059.33 1052.97,1052.97 1058.11,1046.52 \n",
       "  1063.25,1040 1068.39,1033.41 1073.53,1026.74 1078.66,1020.01 1083.8,1013.2 1088.94,1006.33 1094.08,999.389 1099.22,992.386 1104.36,985.321 1109.49,978.196 \n",
       "  1114.63,971.011 1119.77,963.77 1124.91,956.474 1130.05,949.124 1135.18,941.723 1140.32,934.273 1145.46,926.774 1150.6,919.229 1155.74,911.641 1160.87,904.01 \n",
       "  1166.01,896.339 1171.15,888.63 1176.29,880.884 1181.43,873.103 1186.56,865.29 1191.7,857.446 1196.84,849.573 1201.98,841.674 1207.12,833.75 1212.25,825.802 \n",
       "  1217.39,817.834 1222.53,809.847 1227.67,801.843 1232.81,793.824 1237.95,785.792 1243.08,777.749 1248.22,769.698 1253.36,761.639 1258.5,753.575 1263.64,745.508 \n",
       "  1268.77,737.44 1273.91,729.373 1279.05,721.309 1284.19,713.25 1289.33,705.198 1294.46,697.155 1299.6,689.123 1304.74,681.104 1309.88,673.1 1315.02,665.113 \n",
       "  1320.15,657.145 1325.29,649.198 1330.43,641.274 1335.57,633.374 1340.71,625.502 1345.85,617.658 1350.98,609.845 1356.12,602.064 1361.26,594.318 1366.4,586.609 \n",
       "  1371.54,578.938 1376.67,571.307 1381.81,563.718 1386.95,556.174 1392.09,548.675 1397.23,541.224 1402.36,533.823 1407.5,526.474 1412.64,519.178 1417.78,511.936 \n",
       "  1422.92,504.752 1428.05,497.627 1433.19,490.562 1438.33,483.559 1443.47,476.62 1448.61,469.747 1453.74,462.941 1458.88,456.204 1464.02,449.538 1469.16,442.944 \n",
       "  1474.3,436.425 1479.44,429.981 1484.57,423.614 1489.71,417.326 1494.85,411.119 1499.99,404.993 1505.13,398.951 1510.26,392.994 1515.4,387.123 1520.54,381.34 \n",
       "  1525.68,375.646 1530.82,370.043 1535.95,364.533 1541.09,359.115 1546.23,353.793 1551.37,348.566 1556.51,343.437 1561.64,338.407 1566.78,333.477 1571.92,328.648 \n",
       "  1577.06,323.921 1582.2,319.298 1587.34,314.779 1592.47,310.366 1597.61,306.06 1602.75,301.863 1607.89,297.774 1613.03,293.795 1618.16,289.927 1623.3,286.171 \n",
       "  1628.44,282.528 1633.58,278.999 1638.72,275.585 1643.85,272.286 1648.99,269.103 1654.13,266.038 1659.27,263.09 1664.41,260.261 1669.54,257.552 1674.68,254.962 \n",
       "  1679.82,252.493 1684.96,250.146 1690.1,247.92 1695.23,245.816 1700.37,243.836 1705.51,241.979 1710.65,240.245 1715.79,238.636 1720.93,237.152 1726.06,235.793 \n",
       "  1731.2,234.559 1736.34,233.451 1741.48,232.468 1746.62,231.613 1751.75,230.883 1756.89,230.28 1762.03,229.804 1767.17,229.455 1772.31,229.232 1777.44,229.137 \n",
       "  1782.58,229.169 1787.72,229.328 1792.86,229.613 1798,230.026 1803.13,230.566 1808.27,231.232 1813.41,232.025 1818.55,232.944 1823.69,233.989 1828.83,235.16 \n",
       "  1833.96,236.457 1839.1,237.878 1844.24,239.425 1849.38,241.096 1854.52,242.892 1859.65,244.811 1864.79,246.853 1869.93,249.017 1875.07,251.304 1880.21,253.713 \n",
       "  1885.34,256.242 1890.48,258.892 1895.62,261.661 1900.76,264.549 1905.9,267.556 1911.03,270.68 1916.17,273.921 1921.31,277.278 1926.45,280.75 1931.59,284.336 \n",
       "  1936.73,288.035 1941.86,291.847 1947,295.771 1952.14,299.804 1957.28,303.948 1962.42,308.2 1967.55,312.559 1972.69,317.025 1977.83,321.596 1982.97,326.271 \n",
       "  1988.11,331.049 1993.24,335.929 1998.38,340.91 2003.52,345.989 2008.66,351.167 2013.8,356.442 2018.93,361.812 2024.07,367.276 2029.21,372.833 2034.35,378.482 \n",
       "  2039.49,384.22 2044.62,390.047 2049.76,395.962 2054.9,401.961 2060.04,408.045 2065.18,414.212 2070.32,420.46 2075.45,426.788 2080.59,433.193 2085.73,439.675 \n",
       "  2090.87,446.232 2096.01,452.862 2101.14,459.564 2106.28,466.335 2111.42,473.175 2116.56,480.081 2121.7,487.052 2126.83,494.086 2131.97,501.182 2137.11,508.337 \n",
       "  2142.25,515.55 2147.39,522.819 2152.52,530.142 2157.66,537.518 2162.8,544.944 2167.94,552.419 2173.08,559.94 2178.22,567.507 2183.35,575.117 2188.49,582.768 \n",
       "  2193.63,590.459 2198.77,598.187 2203.91,605.95 2209.04,613.747 2214.18,621.576 2219.32,629.435 2224.46,637.321 2229.6,645.233 2234.73,653.169 2239.87,661.127 \n",
       "  2245.01,669.105 2250.15,677.1 2255.29,685.112 2260.42,693.138 2265.56,701.176 2270.7,709.223 2275.84,717.279 2280.98,725.341 2286.11,733.406 2291.25,741.474 \n",
       "  \n",
       "  \"/>\n",
       "<polyline clip-path=\"url(#clip702)\" style=\"stroke:#ff0000; stroke-width:8; stroke-opacity:1; fill:none\" points=\"\n",
       "  241.157,595.737 246.295,612.856 251.433,629.741 256.571,646.393 261.709,662.813 266.847,679.002 271.985,694.961 277.123,710.691 282.261,726.194 287.399,741.47 \n",
       "  292.537,756.521 297.676,771.348 302.814,785.951 307.952,800.333 313.09,814.494 318.228,828.435 323.366,842.158 328.504,855.663 333.642,868.953 338.78,882.027 \n",
       "  343.918,894.887 349.056,907.534 354.194,919.97 359.333,932.195 364.471,944.211 369.609,956.019 374.747,967.619 379.885,979.013 385.023,990.203 390.161,1001.19 \n",
       "  395.299,1011.97 400.437,1022.55 405.575,1032.93 410.713,1043.12 415.851,1053.1 420.99,1062.89 426.128,1072.48 431.266,1081.88 436.404,1091.08 441.542,1100.09 \n",
       "  446.68,1108.91 451.818,1117.54 456.956,1125.98 462.094,1134.24 467.232,1142.3 472.37,1150.18 477.509,1157.88 482.647,1165.39 487.785,1172.72 492.923,1179.87 \n",
       "  498.061,1186.84 503.199,1193.63 508.337,1200.25 513.475,1206.69 518.613,1212.95 523.751,1219.04 528.889,1224.95 534.027,1230.69 539.166,1236.27 544.304,1241.67 \n",
       "  549.442,1246.9 554.58,1251.97 559.718,1256.87 564.856,1261.61 569.994,1266.18 575.132,1270.59 580.27,1274.83 585.408,1278.92 590.546,1282.85 595.685,1286.62 \n",
       "  600.823,1290.23 605.961,1293.68 611.099,1296.99 616.237,1300.13 621.375,1303.13 626.513,1305.97 631.651,1308.66 636.789,1311.21 641.927,1313.6 647.065,1315.85 \n",
       "  652.203,1317.96 657.342,1319.91 662.48,1321.73 667.618,1323.4 672.756,1324.93 677.894,1326.32 683.032,1327.58 688.17,1328.69 693.308,1329.67 698.446,1330.51 \n",
       "  703.584,1331.22 708.722,1331.8 713.861,1332.24 718.999,1332.55 724.137,1332.73 729.275,1332.78 734.413,1332.71 739.551,1332.51 744.689,1332.18 749.827,1331.73 \n",
       "  754.965,1331.16 760.103,1330.46 765.241,1329.65 770.379,1328.71 775.518,1327.66 780.656,1326.49 785.794,1325.2 790.932,1323.8 796.07,1322.28 801.208,1320.65 \n",
       "  806.346,1318.91 811.484,1317.06 816.622,1315.1 821.76,1313.03 826.898,1310.85 832.036,1308.57 837.175,1306.18 842.313,1303.69 847.451,1301.1 852.589,1298.41 \n",
       "  857.727,1295.61 862.865,1292.72 868.003,1289.72 873.141,1286.63 878.279,1283.45 883.417,1280.17 888.555,1276.8 893.694,1273.33 898.832,1269.78 903.97,1266.13 \n",
       "  909.108,1262.39 914.246,1258.57 919.384,1254.66 924.522,1250.67 929.66,1246.59 934.798,1242.42 939.936,1238.18 945.074,1233.85 950.212,1229.45 955.351,1224.96 \n",
       "  960.489,1220.4 965.627,1215.76 970.765,1211.05 975.903,1206.26 981.041,1201.4 986.179,1196.47 991.317,1191.46 996.455,1186.39 1001.59,1181.25 1006.73,1176.04 \n",
       "  1011.87,1170.76 1017.01,1165.42 1022.15,1160.02 1027.28,1154.55 1032.42,1149.02 1037.56,1143.43 1042.7,1137.78 1047.84,1132.08 1052.97,1126.31 1058.11,1120.49 \n",
       "  1063.25,1114.62 1068.39,1108.69 1073.53,1102.71 1078.66,1096.68 1083.8,1090.6 1088.94,1084.46 1094.08,1078.28 1099.22,1072.06 1104.36,1065.79 1109.49,1059.47 \n",
       "  1114.63,1053.11 1119.77,1046.71 1124.91,1040.26 1130.05,1033.78 1135.18,1027.25 1140.32,1020.69 1145.46,1014.1 1150.6,1007.46 1155.74,1000.8 1160.87,994.097 \n",
       "  1166.01,987.364 1171.15,980.601 1176.29,973.808 1181.43,966.986 1186.56,960.136 1191.7,953.261 1196.84,946.359 1201.98,939.434 1207.12,932.486 1212.25,925.516 \n",
       "  1217.39,918.525 1222.53,911.514 1227.67,904.486 1232.81,897.439 1237.95,890.377 1243.08,883.299 1248.22,876.208 1253.36,869.104 1258.5,861.988 1263.64,854.862 \n",
       "  1268.77,847.726 1273.91,840.582 1279.05,833.431 1284.19,826.275 1289.33,819.113 1294.46,811.947 1299.6,804.78 1304.74,797.61 1309.88,790.441 1315.02,783.272 \n",
       "  1320.15,776.105 1325.29,768.942 1330.43,761.782 1335.57,754.628 1340.71,747.481 1345.85,740.341 1350.98,733.21 1356.12,726.09 1361.26,718.98 1366.4,711.882 \n",
       "  1371.54,704.798 1376.67,697.728 1381.81,690.674 1386.95,683.637 1392.09,676.618 1397.23,669.618 1402.36,662.637 1407.5,655.679 1412.64,648.742 1417.78,641.83 \n",
       "  1422.92,634.942 1428.05,628.08 1433.19,621.245 1438.33,614.438 1443.47,607.66 1448.61,600.913 1453.74,594.197 1458.88,587.514 1464.02,580.865 1469.16,574.251 \n",
       "  1474.3,567.673 1479.44,561.132 1484.57,554.63 1489.71,548.167 1494.85,541.744 1499.99,535.364 1505.13,529.026 1510.26,522.733 1515.4,516.484 1520.54,510.282 \n",
       "  1525.68,504.128 1530.82,498.022 1535.95,491.966 1541.09,485.96 1546.23,480.007 1551.37,474.107 1556.51,468.261 1561.64,462.471 1566.78,456.737 1571.92,451.061 \n",
       "  1577.06,445.443 1582.2,439.886 1587.34,434.39 1592.47,428.956 1597.61,423.585 1602.75,418.279 1607.89,413.038 1613.03,407.865 1618.16,402.759 1623.3,397.722 \n",
       "  1628.44,392.756 1633.58,387.861 1638.72,383.038 1643.85,378.289 1648.99,373.615 1654.13,369.016 1659.27,364.495 1664.41,360.052 1669.54,355.688 1674.68,351.404 \n",
       "  1679.82,347.202 1684.96,343.083 1690.1,339.048 1695.23,335.097 1700.37,331.233 1705.51,327.456 1710.65,323.767 1715.79,320.168 1720.93,316.659 1726.06,313.243 \n",
       "  1731.2,309.919 1736.34,306.689 1741.48,303.555 1746.62,300.517 1751.75,297.576 1756.89,294.734 1762.03,291.992 1767.17,289.35 1772.31,286.811 1777.44,284.375 \n",
       "  1782.58,282.043 1787.72,279.816 1792.86,277.696 1798,275.684 1803.13,273.781 1808.27,271.987 1813.41,270.305 1818.55,268.735 1823.69,267.278 1828.83,265.936 \n",
       "  1833.96,264.71 1839.1,263.6 1844.24,262.609 1849.38,261.736 1854.52,260.984 1859.65,260.353 1864.79,259.844 1869.93,259.459 1875.07,259.199 1880.21,259.065 \n",
       "  1885.34,259.057 1890.48,259.178 1895.62,259.428 1900.76,259.809 1905.9,260.321 1911.03,260.966 1916.17,261.745 1921.31,262.659 1926.45,263.709 1931.59,264.896 \n",
       "  1936.73,266.222 1941.86,267.687 1947,269.292 1952.14,271.04 1957.28,272.931 1962.42,274.965 1967.55,277.145 1972.69,279.471 1977.83,281.945 1982.97,284.567 \n",
       "  1988.11,287.339 1993.24,290.262 1998.38,293.337 2003.52,296.565 2008.66,299.948 2013.8,303.486 2018.93,307.18 2024.07,311.032 2029.21,315.044 2034.35,319.215 \n",
       "  2039.49,323.547 2044.62,328.041 2049.76,332.699 2054.9,337.522 2060.04,342.51 2065.18,347.665 2070.32,352.987 2075.45,358.479 2080.59,364.141 2085.73,369.975 \n",
       "  2090.87,375.981 2096.01,382.161 2101.14,388.515 2106.28,395.045 2111.42,401.753 2116.56,408.638 2121.7,415.703 2126.83,422.948 2131.97,430.375 2137.11,437.985 \n",
       "  2142.25,445.778 2147.39,453.757 2152.52,461.922 2157.66,470.273 2162.8,478.814 2167.94,487.544 2173.08,496.464 2178.22,505.576 2183.35,514.882 2188.49,524.381 \n",
       "  2193.63,534.076 2198.77,543.967 2203.91,554.055 2209.04,564.342 2214.18,574.829 2219.32,585.517 2224.46,596.407 2229.6,607.5 2234.73,618.797 2239.87,630.3 \n",
       "  2245.01,642.009 2250.15,653.927 2255.29,666.053 2260.42,678.389 2265.56,690.936 2270.7,703.695 2275.84,716.668 2280.98,729.855 2286.11,743.258 2291.25,756.878 \n",
       "  \n",
       "  \"/>\n",
       "<path clip-path=\"url(#clip700)\" d=\"\n",
       "M252.09 337.138 L923.174 337.138 L923.174 95.2176 L252.09 95.2176  Z\n",
       "  \" fill=\"#ffffff\" fill-rule=\"evenodd\" fill-opacity=\"1\"/>\n",
       "<polyline clip-path=\"url(#clip700)\" style=\"stroke:#000000; stroke-width:4; stroke-opacity:1; fill:none\" points=\"\n",
       "  252.09,337.138 923.174,337.138 923.174,95.2176 252.09,95.2176 252.09,337.138 \n",
       "  \"/>\n",
       "<circle clip-path=\"url(#clip700)\" cx=\"348.673\" cy=\"155.698\" r=\"23\" fill=\"#009af9\" fill-rule=\"evenodd\" fill-opacity=\"1\" stroke=\"#000000\" stroke-opacity=\"1\" stroke-width=\"5.12\"/>\n",
       "<path clip-path=\"url(#clip700)\" d=\"M 0 0 M463.681 147.816 L463.681 151.843 Q461.875 150.917 459.931 150.455 Q457.986 149.992 455.903 149.992 Q452.732 149.992 451.135 150.964 Q449.561 151.936 449.561 153.88 Q449.561 155.362 450.695 156.218 Q451.829 157.052 455.255 157.816 L456.713 158.14 Q461.25 159.112 463.148 160.894 Q465.07 162.654 465.07 165.825 Q465.07 169.436 462.199 171.542 Q459.352 173.649 454.352 173.649 Q452.269 173.649 450 173.232 Q447.755 172.839 445.255 172.028 L445.255 167.63 Q447.616 168.857 449.908 169.482 Q452.199 170.084 454.445 170.084 Q457.454 170.084 459.074 169.066 Q460.695 168.024 460.695 166.149 Q460.695 164.413 459.514 163.487 Q458.357 162.561 454.399 161.704 L452.917 161.357 Q448.959 160.524 447.199 158.811 Q445.44 157.075 445.44 154.066 Q445.44 150.408 448.033 148.418 Q450.625 146.427 455.394 146.427 Q457.755 146.427 459.838 146.774 Q461.922 147.121 463.681 147.816 Z\" fill=\"#000000\" fill-rule=\"evenodd\" fill-opacity=\"1\" /><path clip-path=\"url(#clip700)\" d=\"M 0 0 M481.32 159.945 Q476.158 159.945 474.167 161.126 Q472.176 162.306 472.176 165.154 Q472.176 167.422 473.658 168.765 Q475.162 170.084 477.732 170.084 Q481.273 170.084 483.403 167.584 Q485.556 165.061 485.556 160.894 L485.556 159.945 L481.32 159.945 M489.815 158.186 L489.815 172.978 L485.556 172.978 L485.556 169.042 Q484.097 171.403 481.922 172.538 Q479.746 173.649 476.597 173.649 Q472.616 173.649 470.255 171.427 Q467.917 169.181 467.917 165.431 Q467.917 161.056 470.834 158.834 Q473.773 156.612 479.584 156.612 L485.556 156.612 L485.556 156.195 Q485.556 153.255 483.611 151.658 Q481.69 150.038 478.195 150.038 Q475.972 150.038 473.866 150.57 Q471.76 151.103 469.815 152.167 L469.815 148.232 Q472.153 147.33 474.352 146.89 Q476.551 146.427 478.635 146.427 Q484.259 146.427 487.037 149.343 Q489.815 152.26 489.815 158.186 Z\" fill=\"#000000\" fill-rule=\"evenodd\" fill-opacity=\"1\" /><path clip-path=\"url(#clip700)\" d=\"M 0 0 M514.468 152.029 Q516.065 149.158 518.287 147.793 Q520.509 146.427 523.519 146.427 Q527.569 146.427 529.768 149.274 Q531.968 152.098 531.968 157.329 L531.968 172.978 L527.685 172.978 L527.685 157.468 Q527.685 153.742 526.366 151.936 Q525.046 150.13 522.338 150.13 Q519.028 150.13 517.107 152.33 Q515.185 154.529 515.185 158.325 L515.185 172.978 L510.903 172.978 L510.903 157.468 Q510.903 153.718 509.583 151.936 Q508.264 150.13 505.509 150.13 Q502.245 150.13 500.324 152.353 Q498.403 154.552 498.403 158.325 L498.403 172.978 L494.121 172.978 L494.121 147.052 L498.403 147.052 L498.403 151.08 Q499.861 148.695 501.898 147.561 Q503.935 146.427 506.736 146.427 Q509.56 146.427 511.528 147.862 Q513.519 149.297 514.468 152.029 Z\" fill=\"#000000\" fill-rule=\"evenodd\" fill-opacity=\"1\" /><path clip-path=\"url(#clip700)\" d=\"M 0 0 M540.555 169.089 L540.555 182.839 L536.273 182.839 L536.273 147.052 L540.555 147.052 L540.555 150.987 Q541.898 148.672 543.935 147.561 Q545.995 146.427 548.842 146.427 Q553.565 146.427 556.504 150.177 Q559.467 153.927 559.467 160.038 Q559.467 166.149 556.504 169.899 Q553.565 173.649 548.842 173.649 Q545.995 173.649 543.935 172.538 Q541.898 171.403 540.555 169.089 M555.046 160.038 Q555.046 155.339 553.102 152.677 Q551.18 149.992 547.801 149.992 Q544.421 149.992 542.477 152.677 Q540.555 155.339 540.555 160.038 Q540.555 164.737 542.477 167.422 Q544.421 170.084 547.801 170.084 Q551.18 170.084 553.102 167.422 Q555.046 164.737 555.046 160.038 Z\" fill=\"#000000\" fill-rule=\"evenodd\" fill-opacity=\"1\" /><path clip-path=\"url(#clip700)\" d=\"M 0 0 M563.935 136.959 L568.194 136.959 L568.194 172.978 L563.935 172.978 L563.935 136.959 Z\" fill=\"#000000\" fill-rule=\"evenodd\" fill-opacity=\"1\" /><path clip-path=\"url(#clip700)\" d=\"M 0 0 M594.838 158.95 L594.838 161.033 L575.254 161.033 Q575.532 165.431 577.893 167.746 Q580.277 170.038 584.514 170.038 Q586.967 170.038 589.259 169.436 Q591.574 168.834 593.842 167.63 L593.842 171.658 Q591.551 172.63 589.143 173.14 Q586.736 173.649 584.259 173.649 Q578.055 173.649 574.421 170.038 Q570.81 166.427 570.81 160.269 Q570.81 153.904 574.236 150.177 Q577.685 146.427 583.518 146.427 Q588.75 146.427 591.782 149.806 Q594.838 153.163 594.838 158.95 M590.578 157.7 Q590.532 154.205 588.611 152.121 Q586.713 150.038 583.564 150.038 Q580 150.038 577.847 152.052 Q575.717 154.066 575.393 157.723 L590.578 157.7 Z\" fill=\"#000000\" fill-rule=\"evenodd\" fill-opacity=\"1\" /><polyline clip-path=\"url(#clip700)\" style=\"stroke:#0000ff; stroke-width:4; stroke-opacity:1; fill:none\" stroke-dasharray=\"16, 10\" points=\"\n",
       "  276.236,216.178 421.109,216.178 \n",
       "  \"/>\n",
       "<path clip-path=\"url(#clip700)\" d=\"M 0 0 M463.681 208.296 L463.681 212.323 Q461.875 211.397 459.931 210.935 Q457.986 210.472 455.903 210.472 Q452.732 210.472 451.135 211.444 Q449.561 212.416 449.561 214.36 Q449.561 215.842 450.695 216.698 Q451.829 217.532 455.255 218.296 L456.713 218.62 Q461.25 219.592 463.148 221.374 Q465.07 223.134 465.07 226.305 Q465.07 229.916 462.199 232.022 Q459.352 234.129 454.352 234.129 Q452.269 234.129 450 233.712 Q447.755 233.319 445.255 232.508 L445.255 228.11 Q447.616 229.337 449.908 229.962 Q452.199 230.564 454.445 230.564 Q457.454 230.564 459.074 229.546 Q460.695 228.504 460.695 226.629 Q460.695 224.893 459.514 223.967 Q458.357 223.041 454.399 222.184 L452.917 221.837 Q448.959 221.004 447.199 219.291 Q445.44 217.555 445.44 214.546 Q445.44 210.888 448.033 208.898 Q450.625 206.907 455.394 206.907 Q457.755 206.907 459.838 207.254 Q461.922 207.601 463.681 208.296 Z\" fill=\"#000000\" fill-rule=\"evenodd\" fill-opacity=\"1\" /><path clip-path=\"url(#clip700)\" d=\"M 0 0 M469.537 207.532 L473.797 207.532 L473.797 233.458 L469.537 233.458 L469.537 207.532 M469.537 197.439 L473.797 197.439 L473.797 202.833 L469.537 202.833 L469.537 197.439 Z\" fill=\"#000000\" fill-rule=\"evenodd\" fill-opacity=\"1\" /><path clip-path=\"url(#clip700)\" d=\"M 0 0 M499.815 217.809 L499.815 233.458 L495.556 233.458 L495.556 217.948 Q495.556 214.268 494.121 212.439 Q492.685 210.61 489.815 210.61 Q486.366 210.61 484.375 212.81 Q482.384 215.009 482.384 218.805 L482.384 233.458 L478.102 233.458 L478.102 207.532 L482.384 207.532 L482.384 211.56 Q483.912 209.222 485.972 208.064 Q488.056 206.907 490.764 206.907 Q495.232 206.907 497.523 209.685 Q499.815 212.439 499.815 217.809 Z\" fill=\"#000000\" fill-rule=\"evenodd\" fill-opacity=\"1\" /><path clip-path=\"url(#clip700)\" d=\"M 0 0 M514.514 197.486 Q511.412 202.81 509.907 208.018 Q508.403 213.226 508.403 218.573 Q508.403 223.921 509.907 229.175 Q511.435 234.407 514.514 239.708 L510.81 239.708 Q507.338 234.268 505.602 229.013 Q503.889 223.759 503.889 218.573 Q503.889 213.411 505.602 208.18 Q507.315 202.948 510.81 197.486 L514.514 197.486 Z\" fill=\"#000000\" fill-rule=\"evenodd\" fill-opacity=\"1\" /><path clip-path=\"url(#clip700)\" d=\"M 0 0 M540.532 207.532 L531.157 220.147 L541.018 233.458 L535.995 233.458 L528.449 223.272 L520.903 233.458 L515.88 233.458 L525.949 219.893 L516.736 207.532 L521.759 207.532 L528.634 216.768 L535.509 207.532 L540.532 207.532 Z\" fill=\"#000000\" fill-rule=\"evenodd\" fill-opacity=\"1\" /><path clip-path=\"url(#clip700)\" d=\"M 0 0 M544.815 197.486 L548.518 197.486 Q551.991 202.948 553.704 208.18 Q555.44 213.411 555.44 218.573 Q555.44 223.759 553.704 229.013 Q551.991 234.268 548.518 239.708 L544.815 239.708 Q547.893 234.407 549.398 229.175 Q550.926 223.921 550.926 218.573 Q550.926 213.226 549.398 208.018 Q547.893 202.81 544.815 197.486 Z\" fill=\"#000000\" fill-rule=\"evenodd\" fill-opacity=\"1\" /><polyline clip-path=\"url(#clip700)\" style=\"stroke:#ff0000; stroke-width:4; stroke-opacity:1; fill:none\" points=\"\n",
       "  276.236,276.658 421.109,276.658 \n",
       "  \"/>\n",
       "<path clip-path=\"url(#clip700)\" d=\"M 0 0 M464.167 271.947 L464.167 257.919 L468.426 257.919 L468.426 293.938 L464.167 293.938 L464.167 290.049 Q462.824 292.363 460.764 293.498 Q458.727 294.609 455.857 294.609 Q451.158 294.609 448.195 290.859 Q445.255 287.109 445.255 280.998 Q445.255 274.887 448.195 271.137 Q451.158 267.387 455.857 267.387 Q458.727 267.387 460.764 268.521 Q462.824 269.632 464.167 271.947 M449.653 280.998 Q449.653 285.697 451.574 288.382 Q453.519 291.044 456.899 291.044 Q460.278 291.044 462.223 288.382 Q464.167 285.697 464.167 280.998 Q464.167 276.299 462.223 273.637 Q460.278 270.952 456.899 270.952 Q453.519 270.952 451.574 273.637 Q449.653 276.299 449.653 280.998 Z\" fill=\"#000000\" fill-rule=\"evenodd\" fill-opacity=\"1\" /><path clip-path=\"url(#clip700)\" d=\"M 0 0 M495.07 279.91 L495.07 281.993 L475.486 281.993 Q475.764 286.391 478.125 288.706 Q480.509 290.998 484.746 290.998 Q487.199 290.998 489.491 290.396 Q491.806 289.794 494.074 288.59 L494.074 292.618 Q491.783 293.59 489.375 294.1 Q486.968 294.609 484.491 294.609 Q478.287 294.609 474.653 290.998 Q471.042 287.387 471.042 281.229 Q471.042 274.864 474.468 271.137 Q477.917 267.387 483.75 267.387 Q488.982 267.387 492.014 270.766 Q495.07 274.123 495.07 279.91 M490.81 278.66 Q490.764 275.165 488.843 273.081 Q486.945 270.998 483.797 270.998 Q480.232 270.998 478.079 273.012 Q475.949 275.026 475.625 278.683 L490.81 278.66 Z\" fill=\"#000000\" fill-rule=\"evenodd\" fill-opacity=\"1\" /><path clip-path=\"url(#clip700)\" d=\"M 0 0 M516.597 280.674 Q516.597 276.044 514.676 273.498 Q512.778 270.952 509.329 270.952 Q505.903 270.952 503.982 273.498 Q502.083 276.044 502.083 280.674 Q502.083 285.28 503.982 287.826 Q505.903 290.373 509.329 290.373 Q512.778 290.373 514.676 287.826 Q516.597 285.28 516.597 280.674 M520.856 290.72 Q520.856 297.34 517.917 300.558 Q514.977 303.799 508.912 303.799 Q506.667 303.799 504.676 303.451 Q502.685 303.127 500.81 302.433 L500.81 298.289 Q502.685 299.308 504.514 299.794 Q506.343 300.28 508.241 300.28 Q512.431 300.28 514.514 298.081 Q516.597 295.905 516.597 291.484 L516.597 289.377 Q515.278 291.669 513.218 292.803 Q511.157 293.938 508.287 293.938 Q503.519 293.938 500.602 290.303 Q497.685 286.669 497.685 280.674 Q497.685 274.655 500.602 271.021 Q503.519 267.387 508.287 267.387 Q511.157 267.387 513.218 268.521 Q515.278 269.655 516.597 271.947 L516.597 268.012 L520.856 268.012 L520.856 290.72 Z\" fill=\"#000000\" fill-rule=\"evenodd\" fill-opacity=\"1\" /><path clip-path=\"url(#clip700)\" d=\"M 0 0 M540.347 271.993 Q539.63 271.577 538.773 271.391 Q537.94 271.183 536.921 271.183 Q533.31 271.183 531.366 273.544 Q529.444 275.882 529.444 280.28 L529.444 293.938 L525.162 293.938 L525.162 268.012 L529.444 268.012 L529.444 272.04 Q530.787 269.678 532.94 268.544 Q535.093 267.387 538.171 267.387 Q538.611 267.387 539.143 267.456 Q539.676 267.503 540.324 267.618 L540.347 271.993 Z\" fill=\"#000000\" fill-rule=\"evenodd\" fill-opacity=\"1\" /><path clip-path=\"url(#clip700)\" d=\"M 0 0 M565.949 279.91 L565.949 281.993 L546.366 281.993 Q546.643 286.391 549.004 288.706 Q551.389 290.998 555.625 290.998 Q558.079 290.998 560.37 290.396 Q562.685 289.794 564.953 288.59 L564.953 292.618 Q562.662 293.59 560.254 294.1 Q557.847 294.609 555.37 294.609 Q549.167 294.609 545.532 290.998 Q541.921 287.387 541.921 281.229 Q541.921 274.864 545.347 271.137 Q548.796 267.387 554.629 267.387 Q559.861 267.387 562.893 270.766 Q565.949 274.123 565.949 279.91 M561.69 278.66 Q561.643 275.165 559.722 273.081 Q557.824 270.998 554.676 270.998 Q551.111 270.998 548.958 273.012 Q546.829 275.026 546.505 278.683 L561.69 278.66 Z\" fill=\"#000000\" fill-rule=\"evenodd\" fill-opacity=\"1\" /><path clip-path=\"url(#clip700)\" d=\"M 0 0 M592.592 279.91 L592.592 281.993 L573.009 281.993 Q573.287 286.391 575.648 288.706 Q578.032 290.998 582.268 290.998 Q584.722 290.998 587.014 290.396 Q589.328 289.794 591.597 288.59 L591.597 292.618 Q589.305 293.59 586.898 294.1 Q584.49 294.609 582.014 294.609 Q575.81 294.609 572.176 290.998 Q568.565 287.387 568.565 281.229 Q568.565 274.864 571.99 271.137 Q575.44 267.387 581.273 267.387 Q586.504 267.387 589.537 270.766 Q592.592 274.123 592.592 279.91 M588.333 278.66 Q588.287 275.165 586.365 273.081 Q584.467 270.998 581.319 270.998 Q577.754 270.998 575.602 273.012 Q573.472 275.026 573.148 278.683 L588.333 278.66 Z\" fill=\"#000000\" fill-rule=\"evenodd\" fill-opacity=\"1\" /><path clip-path=\"url(#clip700)\" d=\"M 0 0 M594.907 279.053 L607.384 279.053 L607.384 282.85 L594.907 282.85 L594.907 279.053 Z\" fill=\"#000000\" fill-rule=\"evenodd\" fill-opacity=\"1\" /><path clip-path=\"url(#clip700)\" d=\"M 0 0 M626.62 275.303 Q629.976 276.021 631.851 278.289 Q633.749 280.558 633.749 283.891 Q633.749 289.007 630.231 291.808 Q626.712 294.609 620.231 294.609 Q618.055 294.609 615.74 294.169 Q613.449 293.752 610.995 292.896 L610.995 288.382 Q612.939 289.516 615.254 290.095 Q617.569 290.674 620.092 290.674 Q624.49 290.674 626.782 288.938 Q629.097 287.201 629.097 283.891 Q629.097 280.836 626.944 279.123 Q624.814 277.387 620.995 277.387 L616.967 277.387 L616.967 273.544 L621.18 273.544 Q624.629 273.544 626.458 272.178 Q628.286 270.79 628.286 268.197 Q628.286 265.535 626.388 264.123 Q624.513 262.688 620.995 262.688 Q619.074 262.688 616.875 263.104 Q614.675 263.521 612.037 264.401 L612.037 260.234 Q614.699 259.493 617.013 259.123 Q619.351 258.753 621.412 258.753 Q626.736 258.753 629.837 261.183 Q632.939 263.59 632.939 267.711 Q632.939 270.581 631.296 272.572 Q629.652 274.54 626.62 275.303 Z\" fill=\"#000000\" fill-rule=\"evenodd\" fill-opacity=\"1\" /><path clip-path=\"url(#clip700)\" d=\"M 0 0 M657.407 290.049 L657.407 303.799 L653.124 303.799 L653.124 268.012 L657.407 268.012 L657.407 271.947 Q658.749 269.632 660.786 268.521 Q662.846 267.387 665.694 267.387 Q670.416 267.387 673.356 271.137 Q676.319 274.887 676.319 280.998 Q676.319 287.109 673.356 290.859 Q670.416 294.609 665.694 294.609 Q662.846 294.609 660.786 293.498 Q658.749 292.363 657.407 290.049 M671.897 280.998 Q671.897 276.299 669.953 273.637 Q668.032 270.952 664.652 270.952 Q661.272 270.952 659.328 273.637 Q657.407 276.299 657.407 280.998 Q657.407 285.697 659.328 288.382 Q661.272 291.044 664.652 291.044 Q668.032 291.044 669.953 288.382 Q671.897 285.697 671.897 280.998 Z\" fill=\"#000000\" fill-rule=\"evenodd\" fill-opacity=\"1\" /><path clip-path=\"url(#clip700)\" d=\"M 0 0 M690.832 270.998 Q687.407 270.998 685.416 273.683 Q683.425 276.345 683.425 280.998 Q683.425 285.651 685.393 288.336 Q687.383 290.998 690.832 290.998 Q694.235 290.998 696.226 288.313 Q698.217 285.627 698.217 280.998 Q698.217 276.391 696.226 273.706 Q694.235 270.998 690.832 270.998 M690.832 267.387 Q696.388 267.387 699.559 270.998 Q702.731 274.609 702.731 280.998 Q702.731 287.364 699.559 290.998 Q696.388 294.609 690.832 294.609 Q685.254 294.609 682.082 290.998 Q678.934 287.364 678.934 280.998 Q678.934 274.609 682.082 270.998 Q685.254 267.387 690.832 267.387 Z\" fill=\"#000000\" fill-rule=\"evenodd\" fill-opacity=\"1\" /><path clip-path=\"url(#clip700)\" d=\"M 0 0 M707.198 257.919 L711.457 257.919 L711.457 293.938 L707.198 293.938 L707.198 257.919 Z\" fill=\"#000000\" fill-rule=\"evenodd\" fill-opacity=\"1\" /><path clip-path=\"url(#clip700)\" d=\"M 0 0 M726.712 296.345 Q724.906 300.975 723.193 302.387 Q721.48 303.799 718.61 303.799 L715.207 303.799 L715.207 300.234 L717.707 300.234 Q719.467 300.234 720.439 299.4 Q721.411 298.567 722.592 295.465 L723.355 293.521 L712.869 268.012 L717.383 268.012 L725.485 288.289 L733.587 268.012 L738.101 268.012 L726.712 296.345 Z\" fill=\"#000000\" fill-rule=\"evenodd\" fill-opacity=\"1\" /><path clip-path=\"url(#clip700)\" d=\"M 0 0 M764.119 278.289 L764.119 293.938 L759.86 293.938 L759.86 278.428 Q759.86 274.748 758.425 272.919 Q756.989 271.09 754.119 271.09 Q750.67 271.09 748.679 273.29 Q746.689 275.489 746.689 279.285 L746.689 293.938 L742.406 293.938 L742.406 268.012 L746.689 268.012 L746.689 272.04 Q748.216 269.702 750.277 268.544 Q752.36 267.387 755.068 267.387 Q759.536 267.387 761.827 270.165 Q764.119 272.919 764.119 278.289 Z\" fill=\"#000000\" fill-rule=\"evenodd\" fill-opacity=\"1\" /><path clip-path=\"url(#clip700)\" d=\"M 0 0 M778.633 270.998 Q775.207 270.998 773.216 273.683 Q771.226 276.345 771.226 280.998 Q771.226 285.651 773.193 288.336 Q775.184 290.998 778.633 290.998 Q782.036 290.998 784.026 288.313 Q786.017 285.627 786.017 280.998 Q786.017 276.391 784.026 273.706 Q782.036 270.998 778.633 270.998 M778.633 267.387 Q784.188 267.387 787.36 270.998 Q790.531 274.609 790.531 280.998 Q790.531 287.364 787.36 290.998 Q784.188 294.609 778.633 294.609 Q773.054 294.609 769.883 290.998 Q766.735 287.364 766.735 280.998 Q766.735 274.609 769.883 270.998 Q773.054 267.387 778.633 267.387 Z\" fill=\"#000000\" fill-rule=\"evenodd\" fill-opacity=\"1\" /><path clip-path=\"url(#clip700)\" d=\"M 0 0 M815.184 272.989 Q816.781 270.118 819.003 268.753 Q821.225 267.387 824.235 267.387 Q828.285 267.387 830.484 270.234 Q832.684 273.058 832.684 278.289 L832.684 293.938 L828.401 293.938 L828.401 278.428 Q828.401 274.702 827.082 272.896 Q825.762 271.09 823.054 271.09 Q819.744 271.09 817.822 273.29 Q815.901 275.489 815.901 279.285 L815.901 293.938 L811.619 293.938 L811.619 278.428 Q811.619 274.678 810.299 272.896 Q808.98 271.09 806.225 271.09 Q802.961 271.09 801.04 273.313 Q799.119 275.512 799.119 279.285 L799.119 293.938 L794.837 293.938 L794.837 268.012 L799.119 268.012 L799.119 272.04 Q800.577 269.655 802.614 268.521 Q804.651 267.387 807.452 267.387 Q810.276 267.387 812.244 268.822 Q814.235 270.257 815.184 272.989 Z\" fill=\"#000000\" fill-rule=\"evenodd\" fill-opacity=\"1\" /><path clip-path=\"url(#clip700)\" d=\"M 0 0 M837.151 268.012 L841.41 268.012 L841.41 293.938 L837.151 293.938 L837.151 268.012 M837.151 257.919 L841.41 257.919 L841.41 263.313 L837.151 263.313 L837.151 257.919 Z\" fill=\"#000000\" fill-rule=\"evenodd\" fill-opacity=\"1\" /><path clip-path=\"url(#clip700)\" d=\"M 0 0 M857.66 280.905 Q852.498 280.905 850.508 282.086 Q848.517 283.266 848.517 286.114 Q848.517 288.382 849.998 289.725 Q851.503 291.044 854.072 291.044 Q857.614 291.044 859.744 288.544 Q861.896 286.021 861.896 281.854 L861.896 280.905 L857.66 280.905 M866.156 279.146 L866.156 293.938 L861.896 293.938 L861.896 290.002 Q860.438 292.363 858.262 293.498 Q856.086 294.609 852.938 294.609 Q848.957 294.609 846.595 292.387 Q844.258 290.141 844.258 286.391 Q844.258 282.016 847.174 279.794 Q850.114 277.572 855.924 277.572 L861.896 277.572 L861.896 277.155 Q861.896 274.215 859.952 272.618 Q858.031 270.998 854.535 270.998 Q852.313 270.998 850.207 271.53 Q848.1 272.063 846.156 273.127 L846.156 269.192 Q848.494 268.29 850.693 267.85 Q852.892 267.387 854.975 267.387 Q860.6 267.387 863.378 270.303 Q866.156 273.22 866.156 279.146 Z\" fill=\"#000000\" fill-rule=\"evenodd\" fill-opacity=\"1\" /><path clip-path=\"url(#clip700)\" d=\"M 0 0 M870.623 257.919 L874.882 257.919 L874.882 293.938 L870.623 293.938 L870.623 257.919 Z\" fill=\"#000000\" fill-rule=\"evenodd\" fill-opacity=\"1\" /></svg>\n"
      ]
     },
     "execution_count": 17,
     "metadata": {},
     "output_type": "execute_result"
    }
   ],
   "source": [
    "@teval (:block, \n",
    "    (:using, (:., :Plots)), \n",
    "    (:(=), :n, 20), \n",
    "    (:(=), :x, (:range, (:parameters, (:kw, :length, 20)), (:-, :π), :π)), \n",
    "    (:(=), :noise, (:*, 0.3, (:randn, :n))), \n",
    "    (:(=), :y, (:+, (:., :sin, (:tuple, :x)), :noise)), \n",
    "    (:(=), :X, \n",
    "        (:hcat, (:..., (:generator, (:call, :.^, :x, :k), (:(=), :k, (:(:), 0, 3)))))), \n",
    "    (:(=), :b, (:\\, :X, :y)), \n",
    "    (:(=), (:call, :f, :x), \n",
    "        (:sum, (:generator, (:*, (:ref, :b, (:+, :k, 1)), (:^, :x, :k)), \n",
    "            (:(=), :k, (:(:), 0, 3))))), \n",
    "    (:(=), :xs, (:range, (:parameters, (:kw, :length, 400)), (:-, :π), :π)), \n",
    "    (:plot, (:parameters, (:kw, :legend, QuoteNode(:topleft)))), \n",
    "    (:scatter!, (:parameters, (:kw, :label, \"sample\")), :x, :y), \n",
    "    (:plot!, (:parameters, \n",
    "            (:kw, :label, \"sin(x)\"), \n",
    "            (:kw, :color, QuoteNode(:blue)), \n",
    "            (:kw, :ls, QuoteNode(:dash))), \n",
    "        :xs, (:., :sin, (:tuple, :xs))), \n",
    "    (:plot!, (:parameters, \n",
    "            (:kw, :label, \"degree-3 polynomial\"), \n",
    "            (:kw, :color, QuoteNode(:red)), \n",
    "            (:kw, :lw, 2)), \n",
    "        :xs, (:., :f, (:tuple, :xs))))"
   ]
  },
  {
   "cell_type": "code",
   "execution_count": 18,
   "metadata": {},
   "outputs": [
    {
     "data": {
      "text/markdown": [
       "```julia\n",
       "begin\n",
       "    using Plots\n",
       "    n = 20\n",
       "    x = range(-π, π; length = 20)\n",
       "    noise = 0.3 * randn(n)\n",
       "    y = sin.(x) + noise\n",
       "    X = hcat((x .^ k for k = 0:3)...)\n",
       "    b = X \\ y\n",
       "    f(x) = sum((b[k + 1] * x ^ k for k = 0:3))\n",
       "    xs = range(-π, π; length = 400)\n",
       "    plot(; legend = :topleft)\n",
       "    scatter!(x, y; label = \"sample\")\n",
       "    plot!(xs, sin.(xs); label = \"sin(x)\", color = :blue, ls = :dash)\n",
       "    plot!(xs, f.(xs); label = \"degree-3 polynomial\", color = :red, lw = 2)\n",
       "end\n",
       "```"
      ]
     },
     "metadata": {},
     "output_type": "display_data"
    }
   ],
   "source": [
    "(:block, \n",
    "    (:using, (:., :Plots)), \n",
    "    (:(=), :n, 20), \n",
    "    (:(=), :x, (:range, (:parameters, (:kw, :length, 20)), (:-, :π), :π)), \n",
    "    (:(=), :noise, (:*, 0.3, (:randn, :n))), \n",
    "    (:(=), :y, (:+, (:., :sin, (:tuple, :x)), :noise)), \n",
    "    (:(=), :X, \n",
    "        (:hcat, (:..., (:generator, (:call, :.^, :x, :k), (:(=), :k, (:(:), 0, 3)))))), \n",
    "    (:(=), :b, (:\\, :X, :y)), \n",
    "    (:(=), (:call, :f, :x), \n",
    "        (:sum, (:generator, (:*, (:ref, :b, (:+, :k, 1)), (:^, :x, :k)), \n",
    "            (:(=), :k, (:(:), 0, 3))))), \n",
    "    (:(=), :xs, (:range, (:parameters, (:kw, :length, 400)), (:-, :π), :π)), \n",
    "    (:plot, (:parameters, (:kw, :legend, QuoteNode(:topleft)))), \n",
    "    (:scatter!, (:parameters, (:kw, :label, \"sample\")), :x, :y), \n",
    "    (:plot!, (:parameters, \n",
    "            (:kw, :label, \"sin(x)\"), \n",
    "            (:kw, :color, QuoteNode(:blue)), \n",
    "            (:kw, :ls, QuoteNode(:dash))), \n",
    "        :xs, (:., :sin, (:tuple, :xs))), \n",
    "    (:plot!, (:parameters, \n",
    "            (:kw, :label, \"degree-3 polynomial\"), \n",
    "            (:kw, :color, QuoteNode(:red)), \n",
    "            (:kw, :lw, 2)), \n",
    "        :xs, (:., :f, (:tuple, :xs)))) |> texpr2expr |> \n",
    "x -> display(\"text/markdown\", \"```julia\\n$x\\n```\")"
   ]
  },
  {
   "cell_type": "markdown",
   "metadata": {},
   "source": [
    "## Documents"
   ]
  },
  {
   "cell_type": "code",
   "execution_count": 19,
   "metadata": {},
   "outputs": [
    {
     "data": {
      "text/latex": [
       "\\texttt{lambda} is a Lisp-like dummy function to be translated to Julia expression by \\texttt{lexpr2expr}.\n",
       "\n",
       "For example, \\texttt{lambda((x, y), f(x, y))(a, b)} is translated to\n",
       "\n",
       "\\begin{verbatim}\n",
       "let\n",
       "    x = a\n",
       "    y = b\n",
       "    f(x, y)\n",
       "end\n",
       "\\end{verbatim}\n",
       "\\texttt{lambda((x, y), f(x, y))} without arguments (a, b) is translated to\n",
       "\n",
       "\\begin{verbatim}\n",
       "(x, y) -> f(x, y)\n",
       "\\end{verbatim}\n"
      ],
      "text/markdown": [
       "`lambda` is a Lisp-like dummy function to be translated to Julia expression by `lexpr2expr`.\n",
       "\n",
       "For example, `lambda((x, y), f(x, y))(a, b)` is translated to\n",
       "\n",
       "```julia\n",
       "let\n",
       "    x = a\n",
       "    y = b\n",
       "    f(x, y)\n",
       "end\n",
       "```\n",
       "\n",
       "`lambda((x, y), f(x, y))` without arguments (a, b) is translated to\n",
       "\n",
       "```julia\n",
       "(x, y) -> f(x, y)\n",
       "```\n"
      ],
      "text/plain": [
       "  \u001b[36mlambda\u001b[39m is a Lisp-like dummy function to be translated to Julia expression by\n",
       "  \u001b[36mlexpr2expr\u001b[39m.\n",
       "\n",
       "  For example, \u001b[36mlambda((x, y), f(x, y))(a, b)\u001b[39m is translated to\n",
       "\n",
       "\u001b[36m  let\u001b[39m\n",
       "\u001b[36m      x = a\u001b[39m\n",
       "\u001b[36m      y = b\u001b[39m\n",
       "\u001b[36m      f(x, y)\u001b[39m\n",
       "\u001b[36m  end\u001b[39m\n",
       "\n",
       "  \u001b[36mlambda((x, y), f(x, y))\u001b[39m without arguments (a, b) is translated to\n",
       "\n",
       "\u001b[36m  (x, y) -> f(x, y)\u001b[39m"
      ]
     },
     "execution_count": 19,
     "metadata": {},
     "output_type": "execute_result"
    }
   ],
   "source": [
    "@doc lambda"
   ]
  },
  {
   "cell_type": "code",
   "execution_count": 20,
   "metadata": {},
   "outputs": [
    {
     "data": {
      "text/latex": [
       "\\texttt{cond} is a Lisp-like dummy function to be translated to Julia expression by \\texttt{lexpr2expr}.\n",
       "\n",
       "For example, \\texttt{cond((a, A), (b, B), (c, C))} is translated to\n",
       "\n",
       "\\begin{verbatim}\n",
       "if a\n",
       "    A\n",
       "elseif b\n",
       "    B\n",
       "elseif c\n",
       "    C\n",
       "end\n",
       "\\end{verbatim}\n"
      ],
      "text/markdown": [
       "`cond` is a Lisp-like dummy function to be translated to Julia expression by `lexpr2expr`.\n",
       "\n",
       "For example, `cond((a, A), (b, B), (c, C))` is translated to\n",
       "\n",
       "```julia\n",
       "if a\n",
       "    A\n",
       "elseif b\n",
       "    B\n",
       "elseif c\n",
       "    C\n",
       "end\n",
       "```\n"
      ],
      "text/plain": [
       "  \u001b[36mcond\u001b[39m is a Lisp-like dummy function to be translated to Julia expression by\n",
       "  \u001b[36mlexpr2expr\u001b[39m.\n",
       "\n",
       "  For example, \u001b[36mcond((a, A), (b, B), (c, C))\u001b[39m is translated to\n",
       "\n",
       "\u001b[36m  if a\u001b[39m\n",
       "\u001b[36m      A\u001b[39m\n",
       "\u001b[36m  elseif b\u001b[39m\n",
       "\u001b[36m      B\u001b[39m\n",
       "\u001b[36m  elseif c\u001b[39m\n",
       "\u001b[36m      C\u001b[39m\n",
       "\u001b[36m  end\u001b[39m"
      ]
     },
     "execution_count": 20,
     "metadata": {},
     "output_type": "execute_result"
    }
   ],
   "source": [
    "@doc cond"
   ]
  },
  {
   "cell_type": "code",
   "execution_count": 21,
   "metadata": {},
   "outputs": [
    {
     "data": {
      "text/latex": [
       "\\begin{verbatim}\n",
       "lexpr2expr(x)\n",
       "\\end{verbatim}\n",
       "translates a Lisp-like expression \\texttt{x} to the corresponding Julia expression.\n",
       "\n"
      ],
      "text/markdown": [
       "```\n",
       "lexpr2expr(x)\n",
       "```\n",
       "\n",
       "translates a Lisp-like expression `x` to the corresponding Julia expression.\n"
      ],
      "text/plain": [
       "\u001b[36m  lexpr2expr(x)\u001b[39m\n",
       "\n",
       "  translates a Lisp-like expression \u001b[36mx\u001b[39m to the corresponding Julia expression."
      ]
     },
     "execution_count": 21,
     "metadata": {},
     "output_type": "execute_result"
    }
   ],
   "source": [
    "@doc lexpr2expr"
   ]
  },
  {
   "cell_type": "code",
   "execution_count": 22,
   "metadata": {},
   "outputs": [
    {
     "data": {
      "text/latex": [
       "\\texttt{@lexpr2expr(x)} is the macro version of \\texttt{lexpr2expr(x)}.\n",
       "\n"
      ],
      "text/markdown": [
       "`@lexpr2expr(x)` is the macro version of `lexpr2expr(x)`.\n"
      ],
      "text/plain": [
       "  \u001b[36m@lexpr2expr(x)\u001b[39m is the macro version of \u001b[36mlexpr2expr(x)\u001b[39m."
      ]
     },
     "execution_count": 22,
     "metadata": {},
     "output_type": "execute_result"
    }
   ],
   "source": [
    "@doc @lexpr2expr"
   ]
  },
  {
   "cell_type": "code",
   "execution_count": 23,
   "metadata": {},
   "outputs": [
    {
     "data": {
      "text/latex": [
       "\\texttt{leval(x, m::Module=Main)} is the function version of \\texttt{@leval(x)}\n",
       "\n"
      ],
      "text/markdown": [
       "`leval(x, m::Module=Main)` is the function version of `@leval(x)`\n"
      ],
      "text/plain": [
       "  \u001b[36mleval(x, m::Module=Main)\u001b[39m is the function version of \u001b[36m@leval(x)\u001b[39m"
      ]
     },
     "execution_count": 23,
     "metadata": {},
     "output_type": "execute_result"
    }
   ],
   "source": [
    "@doc leval"
   ]
  },
  {
   "cell_type": "code",
   "execution_count": 24,
   "metadata": {},
   "outputs": [
    {
     "data": {
      "text/latex": [
       "\\begin{verbatim}\n",
       "@leval x\n",
       "\\end{verbatim}\n",
       "evaluates a Lisp-like expression \\texttt{x}.\n",
       "\n"
      ],
      "text/markdown": [
       "```\n",
       "@leval x\n",
       "```\n",
       "\n",
       "evaluates a Lisp-like expression `x`.\n"
      ],
      "text/plain": [
       "\u001b[36m  @leval x\u001b[39m\n",
       "\n",
       "  evaluates a Lisp-like expression \u001b[36mx\u001b[39m."
      ]
     },
     "execution_count": 24,
     "metadata": {},
     "output_type": "execute_result"
    }
   ],
   "source": [
    "@doc @leval"
   ]
  },
  {
   "cell_type": "code",
   "execution_count": 25,
   "metadata": {},
   "outputs": [
    {
     "data": {
      "text/latex": [
       "\\texttt{Nil} is the type of \\texttt{nil}.\n",
       "\n"
      ],
      "text/markdown": [
       "`Nil` is the type of `nil`.\n"
      ],
      "text/plain": [
       "  \u001b[36mNil\u001b[39m is the type of \u001b[36mnil\u001b[39m."
      ]
     },
     "execution_count": 25,
     "metadata": {},
     "output_type": "execute_result"
    }
   ],
   "source": [
    "@doc Nil"
   ]
  },
  {
   "cell_type": "code",
   "execution_count": 26,
   "metadata": {},
   "outputs": [
    {
     "data": {
      "text/latex": [
       "\\texttt{nil} is the singleton of type \\texttt{Nil} regarded as the Lisp-like nil.\n",
       "\n"
      ],
      "text/markdown": [
       "`nil` is the singleton of type `Nil` regarded as the Lisp-like nil.\n"
      ],
      "text/plain": [
       "  \u001b[36mnil\u001b[39m is the singleton of type \u001b[36mNil\u001b[39m regarded as the Lisp-like nil."
      ]
     },
     "execution_count": 26,
     "metadata": {},
     "output_type": "execute_result"
    }
   ],
   "source": [
    "@doc nil"
   ]
  },
  {
   "cell_type": "code",
   "execution_count": 27,
   "metadata": {},
   "outputs": [
    {
     "data": {
      "text/latex": [
       "\\texttt{null(x)} returns \\texttt{true} if x is equal to \\texttt{nil} and \\texttt{false} otherwise.\n",
       "\n"
      ],
      "text/markdown": [
       "`null(x)` returns `true` if x is equal to `nil` and `false` otherwise.\n"
      ],
      "text/plain": [
       "  \u001b[36mnull(x)\u001b[39m returns \u001b[36mtrue\u001b[39m if x is equal to \u001b[36mnil\u001b[39m and \u001b[36mfalse\u001b[39m otherwise."
      ]
     },
     "execution_count": 27,
     "metadata": {},
     "output_type": "execute_result"
    }
   ],
   "source": [
    "@doc null"
   ]
  },
  {
   "cell_type": "code",
   "execution_count": 28,
   "metadata": {},
   "outputs": [
    {
     "data": {
      "text/latex": [
       "\\texttt{eq(x, y)} returns \\texttt{true} if x is equal to y and false otherwise, where \\texttt{()} is considered to be equal to \\texttt{nil}.\n",
       "\n"
      ],
      "text/markdown": [
       "`eq(x, y)` returns `true` if x is equal to y and false otherwise, where `()` is considered to be equal to `nil`.\n"
      ],
      "text/plain": [
       "  \u001b[36meq(x, y)\u001b[39m returns \u001b[36mtrue\u001b[39m if x is equal to y and false otherwise, where \u001b[36m()\u001b[39m is\n",
       "  considered to be equal to \u001b[36mnil\u001b[39m."
      ]
     },
     "execution_count": 28,
     "metadata": {},
     "output_type": "execute_result"
    }
   ],
   "source": [
    "@doc eq"
   ]
  },
  {
   "cell_type": "code",
   "execution_count": 29,
   "metadata": {},
   "outputs": [
    {
     "data": {
      "text/latex": [
       "\\texttt{cons(x, y)} is a Lisp-like cons function.\n",
       "\n",
       "\\begin{itemize}\n",
       "\\item The S-expression (a b c d) is represented by the tuple (a, b, c, d).\n",
       "\n",
       "\n",
       "\\item The S-expression (a b c . d) is represented by the tuple (a, b, c=>d).\n",
       "\n",
       "\\end{itemize}\n"
      ],
      "text/markdown": [
       "`cons(x, y)` is a Lisp-like cons function.\n",
       "\n",
       "  * The S-expression (a b c d) is represented by the tuple (a, b, c, d).\n",
       "  * The S-expression (a b c . d) is represented by the tuple (a, b, c=>d).\n"
      ],
      "text/plain": [
       "  \u001b[36mcons(x, y)\u001b[39m is a Lisp-like cons function.\n",
       "\n",
       "    •    The S-expression (a b c d) is represented by the tuple (a, b, c,\n",
       "        d).\n",
       "\n",
       "    •    The S-expression (a b c . d) is represented by the tuple (a, b,\n",
       "        c=>d)."
      ]
     },
     "execution_count": 29,
     "metadata": {},
     "output_type": "execute_result"
    }
   ],
   "source": [
    "@doc cons"
   ]
  },
  {
   "cell_type": "code",
   "execution_count": 30,
   "metadata": {},
   "outputs": [
    {
     "data": {
      "text/latex": [
       "\\texttt{car(x)} is a Lisp-like car function.\n",
       "\n"
      ],
      "text/markdown": [
       "`car(x)` is a Lisp-like car function.\n"
      ],
      "text/plain": [
       "  \u001b[36mcar(x)\u001b[39m is a Lisp-like car function."
      ]
     },
     "execution_count": 30,
     "metadata": {},
     "output_type": "execute_result"
    }
   ],
   "source": [
    "@doc car"
   ]
  },
  {
   "cell_type": "code",
   "execution_count": 31,
   "metadata": {},
   "outputs": [
    {
     "data": {
      "text/latex": [
       "\\texttt{cdr(x)} is a Lisp-like cdr function.\n",
       "\n"
      ],
      "text/markdown": [
       "`cdr(x)` is a Lisp-like cdr function.\n"
      ],
      "text/plain": [
       "  \u001b[36mcdr(x)\u001b[39m is a Lisp-like cdr function."
      ]
     },
     "execution_count": 31,
     "metadata": {},
     "output_type": "execute_result"
    }
   ],
   "source": [
    "@doc cdr"
   ]
  },
  {
   "cell_type": "code",
   "execution_count": 32,
   "metadata": {},
   "outputs": [
    {
     "data": {
      "text/latex": [
       "\\texttt{caar(x)} is a Lisp-like caar function.\n",
       "\n"
      ],
      "text/markdown": [
       "`caar(x)` is a Lisp-like caar function.\n"
      ],
      "text/plain": [
       "  \u001b[36mcaar(x)\u001b[39m is a Lisp-like caar function."
      ]
     },
     "execution_count": 32,
     "metadata": {},
     "output_type": "execute_result"
    }
   ],
   "source": [
    "@doc caar"
   ]
  },
  {
   "cell_type": "code",
   "execution_count": 33,
   "metadata": {},
   "outputs": [
    {
     "data": {
      "text/latex": [
       "\\texttt{cadr(x)} is a Lisp-like cadr function.\n",
       "\n"
      ],
      "text/markdown": [
       "`cadr(x)` is a Lisp-like cadr function.\n"
      ],
      "text/plain": [
       "  \u001b[36mcadr(x)\u001b[39m is a Lisp-like cadr function."
      ]
     },
     "execution_count": 33,
     "metadata": {},
     "output_type": "execute_result"
    }
   ],
   "source": [
    "@doc cadr"
   ]
  },
  {
   "cell_type": "code",
   "execution_count": 34,
   "metadata": {},
   "outputs": [
    {
     "data": {
      "text/latex": [
       "\\texttt{cdar(x)} is a Lisp-like cdar function.\n",
       "\n"
      ],
      "text/markdown": [
       "`cdar(x)` is a Lisp-like cdar function.\n"
      ],
      "text/plain": [
       "  \u001b[36mcdar(x)\u001b[39m is a Lisp-like cdar function."
      ]
     },
     "execution_count": 34,
     "metadata": {},
     "output_type": "execute_result"
    }
   ],
   "source": [
    "@doc cdar"
   ]
  },
  {
   "cell_type": "code",
   "execution_count": 35,
   "metadata": {},
   "outputs": [
    {
     "data": {
      "text/latex": [
       "\\texttt{cddr(x)} is a Lisp-like cddr function.\n",
       "\n"
      ],
      "text/markdown": [
       "`cddr(x)` is a Lisp-like cddr function.\n"
      ],
      "text/plain": [
       "  \u001b[36mcddr(x)\u001b[39m is a Lisp-like cddr function."
      ]
     },
     "execution_count": 35,
     "metadata": {},
     "output_type": "execute_result"
    }
   ],
   "source": [
    "@doc cddr"
   ]
  },
  {
   "cell_type": "code",
   "execution_count": 36,
   "metadata": {},
   "outputs": [
    {
     "data": {
      "text/latex": [
       "\\texttt{list(x...)} is a Lisp-like list function.\n",
       "\n"
      ],
      "text/markdown": [
       "`list(x...)` is a Lisp-like list function.\n"
      ],
      "text/plain": [
       "  \u001b[36mlist(x...)\u001b[39m is a Lisp-like list function."
      ]
     },
     "execution_count": 36,
     "metadata": {},
     "output_type": "execute_result"
    }
   ],
   "source": [
    "@doc list"
   ]
  },
  {
   "cell_type": "code",
   "execution_count": null,
   "metadata": {},
   "outputs": [],
   "source": []
  }
 ],
 "metadata": {
  "@webio": {
   "lastCommId": null,
   "lastKernelId": null
  },
  "jupytext": {
   "formats": "ipynb,md"
  },
  "kernelspec": {
   "display_name": "Julia MKL depwarn -O3 1.5.2",
   "language": "julia",
   "name": "julia-mkl-depwarn--o3-1.5"
  },
  "language_info": {
   "file_extension": ".jl",
   "mimetype": "application/julia",
   "name": "julia",
   "version": "1.5.2"
  },
  "toc": {
   "base_numbering": 1,
   "nav_menu": {},
   "number_sections": true,
   "sideBar": true,
   "skip_h1_title": true,
   "title_cell": "Table of Contents",
   "title_sidebar": "Contents",
   "toc_cell": true,
   "toc_position": {},
   "toc_section_display": true,
   "toc_window_display": false
  }
 },
 "nbformat": 4,
 "nbformat_minor": 4
}
