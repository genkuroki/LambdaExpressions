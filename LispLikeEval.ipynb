{
 "cells": [
  {
   "cell_type": "markdown",
   "metadata": {},
   "source": [
    "# LispLikeEval.ipynb\n",
    "\n",
    "* Author: Gen Kuroki\n",
    "* Date: 2020-10-19\n",
    "* Repository: https://github.com/genkuroki/LispLikeEval.jl\n",
    "\n",
    "**Installation**\n",
    "```\n",
    "pkg> add https://github.com/genkuroki/LispLikeEval.jl\n",
    "```"
   ]
  },
  {
   "cell_type": "markdown",
   "metadata": {
    "toc": true
   },
   "source": [
    "<h1>Table of Contents<span class=\"tocSkip\"></span></h1>\n",
    "<div class=\"toc\"><ul class=\"toc-item\"><li><span><a href=\"#Lisp-like-functions\" data-toc-modified-id=\"Lisp-like-functions-1\"><span class=\"toc-item-num\">1&nbsp;&nbsp;</span>Lisp-like functions</a></span></li><li><span><a href=\"#@leval-examples\" data-toc-modified-id=\"@leval-examples-2\"><span class=\"toc-item-num\">2&nbsp;&nbsp;</span>@leval examples</a></span><ul class=\"toc-item\"><li><span><a href=\"#lambda-expression-of-addition\" data-toc-modified-id=\"lambda-expression-of-addition-2.1\"><span class=\"toc-item-num\">2.1&nbsp;&nbsp;</span>lambda expression of addition</a></span></li><li><span><a href=\"#factorial\" data-toc-modified-id=\"factorial-2.2\"><span class=\"toc-item-num\">2.2&nbsp;&nbsp;</span>factorial</a></span></li><li><span><a href=\"#more-Lisp-like-example\" data-toc-modified-id=\"more-Lisp-like-example-2.3\"><span class=\"toc-item-num\">2.3&nbsp;&nbsp;</span>more Lisp-like example</a></span></li></ul></li><li><span><a href=\"#Documents\" data-toc-modified-id=\"Documents-3\"><span class=\"toc-item-num\">3&nbsp;&nbsp;</span>Documents</a></span></li></ul></div>"
   ]
  },
  {
   "cell_type": "code",
   "execution_count": 1,
   "metadata": {},
   "outputs": [
    {
     "name": "stderr",
     "output_type": "stream",
     "text": [
      "\u001b[32m\u001b[1m Activating\u001b[22m\u001b[39m environment at `C:\\Users\\genkuroki\\OneDrive\\work\\LispLikeEval.jl\\Project.toml`\n"
     ]
    }
   ],
   "source": [
    "if isfile(\"Project.toml\")\n",
    "    using Pkg\n",
    "    Pkg.activate(\".\")\n",
    "    using Revise\n",
    "end"
   ]
  },
  {
   "cell_type": "code",
   "execution_count": 2,
   "metadata": {},
   "outputs": [
    {
     "name": "stderr",
     "output_type": "stream",
     "text": [
      "┌ Info: Precompiling LispLikeEval [75a861b3-8f1b-477e-b3cd-11ffebdbd227]\n",
      "└ @ Base loading.jl:1278\n"
     ]
    }
   ],
   "source": [
    "using LispLikeEval\n",
    "using MetaUtils"
   ]
  },
  {
   "cell_type": "markdown",
   "metadata": {},
   "source": [
    "## Lisp-like functions"
   ]
  },
  {
   "cell_type": "code",
   "execution_count": 3,
   "metadata": {},
   "outputs": [
    {
     "data": {
      "text/plain": [
       ":(let\n",
       "      x = a\n",
       "      y = b\n",
       "      f(x, y)\n",
       "  end)"
      ]
     },
     "execution_count": 3,
     "metadata": {},
     "output_type": "execute_result"
    }
   ],
   "source": [
    "@lexpr2expr lambda((x, y), f(x, y))(a, b)"
   ]
  },
  {
   "cell_type": "code",
   "execution_count": 4,
   "metadata": {},
   "outputs": [
    {
     "data": {
      "text/plain": [
       ":((x, y)->f(x, y))"
      ]
     },
     "execution_count": 4,
     "metadata": {},
     "output_type": "execute_result"
    }
   ],
   "source": [
    "@lexpr2expr lambda((x, y), f(x, y))"
   ]
  },
  {
   "cell_type": "code",
   "execution_count": 5,
   "metadata": {},
   "outputs": [
    {
     "data": {
      "text/plain": [
       ":(if a\n",
       "      A\n",
       "  elseif b\n",
       "      B\n",
       "  elseif c\n",
       "      C\n",
       "  end)"
      ]
     },
     "execution_count": 5,
     "metadata": {},
     "output_type": "execute_result"
    }
   ],
   "source": [
    "@lexpr2expr cond((a, A), (b, B), (c, C))"
   ]
  },
  {
   "cell_type": "code",
   "execution_count": 6,
   "metadata": {},
   "outputs": [
    {
     "name": "stdout",
     "output_type": "stream",
     "text": [
      "null(nil) = true\n",
      "null(1) = false\n"
     ]
    }
   ],
   "source": [
    "@show null(nil)\n",
    "@show null(1)\n",
    ";"
   ]
  },
  {
   "cell_type": "code",
   "execution_count": 7,
   "metadata": {},
   "outputs": [
    {
     "name": "stdout",
     "output_type": "stream",
     "text": [
      "eq(1, 1) = true\n",
      "eq(1, 2) = false\n",
      "eq(nil, nil) = true\n",
      "eq(nil, ()) = true\n",
      "eq((), nil) = true\n"
     ]
    }
   ],
   "source": [
    "@show eq(1, 1)\n",
    "@show eq(1, 2)\n",
    "@show eq(nil, nil)\n",
    "@show eq(nil, ())\n",
    "@show eq((), nil)\n",
    ";"
   ]
  },
  {
   "cell_type": "code",
   "execution_count": 8,
   "metadata": {},
   "outputs": [
    {
     "name": "stdout",
     "output_type": "stream",
     "text": [
      "a = cons(2, 1) = (2 => 1,)\n",
      "b = cons(3, a) = (3, 2 => 1)\n",
      "c = cons(4, b) = (4, 3, 2 => 1)\n",
      "d = cons(5, c) = (5, 4, 3, 2 => 1)\n"
     ]
    }
   ],
   "source": [
    "@show a = cons(2, 1)\n",
    "@show b = cons(3, a)\n",
    "@show c = cons(4, b)\n",
    "@show d = cons(5, c)\n",
    ";"
   ]
  },
  {
   "cell_type": "code",
   "execution_count": 9,
   "metadata": {},
   "outputs": [
    {
     "name": "stdout",
     "output_type": "stream",
     "text": [
      "a = cons(1, nil) = (1,)\n",
      "b = cons(2, a) = (2, 1)\n",
      "c = cons(3, b) = (3, 2, 1)\n",
      "d = cons(4, c) = (4, 3, 2, 1)\n"
     ]
    }
   ],
   "source": [
    "@show a = cons(1, nil)\n",
    "@show b = cons(2, a)\n",
    "@show c = cons(3, b)\n",
    "@show d = cons(4, c)\n",
    ";"
   ]
  },
  {
   "cell_type": "code",
   "execution_count": 10,
   "metadata": {},
   "outputs": [
    {
     "name": "stdout",
     "output_type": "stream",
     "text": [
      "car(1) = nil\n",
      "car((1 => 2,)) = 1\n",
      "car((1, 2 => 3)) = 1\n",
      "car((1, 2, 3 => 4)) = 1\n"
     ]
    }
   ],
   "source": [
    "@show car(1)\n",
    "@show car((1=>2,))\n",
    "@show car((1, 2=>3))\n",
    "@show car((1, 2, 3=>4))\n",
    ";"
   ]
  },
  {
   "cell_type": "code",
   "execution_count": 11,
   "metadata": {},
   "outputs": [
    {
     "name": "stdout",
     "output_type": "stream",
     "text": [
      "car((1,)) = 1\n",
      "car((1, 2)) = 1\n",
      "car((1, 2, 3)) = 1\n",
      "car(((1, 2), 3, 4)) = (1, 2)\n"
     ]
    }
   ],
   "source": [
    "@show car((1,))\n",
    "@show car((1, 2))\n",
    "@show car((1, 2, 3))\n",
    "@show car(((1, 2), 3, 4))\n",
    ";"
   ]
  },
  {
   "cell_type": "code",
   "execution_count": 12,
   "metadata": {},
   "outputs": [
    {
     "name": "stdout",
     "output_type": "stream",
     "text": [
      "cdr(1) = nil\n",
      "cdr((1 => 2,)) = 2\n",
      "cdr((1, 2 => 3)) = (2 => 3,)\n",
      "cdr((1, 2, 3 => 4)) = (2, 3 => 4)\n"
     ]
    }
   ],
   "source": [
    "@show cdr(1)\n",
    "@show cdr((1=>2,))\n",
    "@show cdr((1, 2=>3))\n",
    "@show cdr((1, 2, 3=>4))\n",
    ";"
   ]
  },
  {
   "cell_type": "code",
   "execution_count": 13,
   "metadata": {},
   "outputs": [
    {
     "name": "stdout",
     "output_type": "stream",
     "text": [
      "cdr((1,)) = nil\n",
      "cdr((1, 2)) = (2,)\n",
      "cdr((1, 2, 3)) = (2, 3)\n",
      "cdr(((1, 2), 3, 4)) = (3, 4)\n"
     ]
    }
   ],
   "source": [
    "@show cdr((1,))\n",
    "@show cdr((1, 2))\n",
    "@show cdr((1, 2, 3))\n",
    "@show cdr(((1, 2), 3, 4))\n",
    ";"
   ]
  },
  {
   "cell_type": "code",
   "execution_count": 14,
   "metadata": {},
   "outputs": [
    {
     "name": "stdout",
     "output_type": "stream",
     "text": [
      "list() = nil\n",
      "list(1) = (1,)\n",
      "list(1, 2) = (1, 2)\n",
      "list(1, 2, 3) = (1, 2, 3)\n",
      "list(1, 2, 3, 4) = (1, 2, 3, 4)\n"
     ]
    }
   ],
   "source": [
    "@show list()\n",
    "@show list(1)\n",
    "@show list(1, 2)\n",
    "@show list(1, 2, 3)\n",
    "@show list(1, 2, 3, 4)\n",
    ";"
   ]
  },
  {
   "cell_type": "markdown",
   "metadata": {},
   "source": [
    "## @leval examples"
   ]
  },
  {
   "cell_type": "markdown",
   "metadata": {},
   "source": [
    "### lambda expression of addition"
   ]
  },
  {
   "cell_type": "code",
   "execution_count": 15,
   "metadata": {},
   "outputs": [
    {
     "name": "stdout",
     "output_type": "stream",
     "text": [
      ":((lambda((x, y), x + y))(1, 2))\n",
      "\n",
      "(:call, \n",
      "    (:call, :lambda, \n",
      "        (:tuple, :x, :y), \n",
      "        (:call, :+, :x, :y)), 1, 2)\n",
      "\n",
      "|\n",
      "V\n",
      "\n",
      ":(let\n",
      "      x = 1\n",
      "      y = 2\n",
      "      x + y\n",
      "  end)\n",
      "\n",
      "(:let, \n",
      "    (:block,), \n",
      "    (:block, \n",
      "        (:(=), :x, 1), \n",
      "        (:(=), :y, 2), \n",
      "        (:call, :+, :x, :y)))\n",
      "\n"
     ]
    },
    {
     "data": {
      "text/plain": [
       "3"
      ]
     },
     "execution_count": 15,
     "metadata": {},
     "output_type": "execute_result"
    }
   ],
   "source": [
    "lexpr = :(lambda((x, y), x+y)(1, 2))\n",
    "show(lexpr); println(\"\\n\")\n",
    "show_texpr(lexpr); println(\"\\n\")\n",
    "\n",
    "println(\"|\\nV\\n\")\n",
    "\n",
    "expr = lexpr2expr(lexpr)\n",
    "show(expr); println(\"\\n\")\n",
    "show_texpr(expr); println(\"\\n\")\n",
    "\n",
    "@leval lambda((x, y), x+y)(1, 2)"
   ]
  },
  {
   "cell_type": "markdown",
   "metadata": {},
   "source": [
    "### factorial"
   ]
  },
  {
   "cell_type": "code",
   "execution_count": 16,
   "metadata": {},
   "outputs": [
    {
     "name": "stdout",
     "output_type": "stream",
     "text": [
      ":((lambda((f, x), f(x)))(lambda(x, cond((iszero(x), 1), (true, x * f(x - 1)))), 10))\n",
      "\n",
      "(:call, \n",
      "    (:call, :lambda, \n",
      "        (:tuple, :f, :x), \n",
      "        (:call, :f, :x)), \n",
      "    (:call, :lambda, :x, \n",
      "        (:call, :cond, \n",
      "            (:tuple, \n",
      "                (:call, :iszero, :x), 1), \n",
      "            (:tuple, true, \n",
      "                (:call, :*, :x, \n",
      "                    (:call, :f, \n",
      "                        (:call, :-, :x, 1)))))), 10)\n",
      "\n",
      "|\n",
      "V\n",
      "\n",
      ":(let\n",
      "      f = (x->if iszero(x)\n",
      "                  1\n",
      "              elseif true\n",
      "                  x * f(x - 1)\n",
      "              end)\n",
      "      x = 10\n",
      "      f(x)\n",
      "  end)\n",
      "\n",
      "(:let, \n",
      "    (:block,), \n",
      "    (:block, \n",
      "        (:(=), :f, \n",
      "            (:->, :x, \n",
      "                (:if, \n",
      "                    (:call, :iszero, :x), \n",
      "                    (:block, 1), \n",
      "                    (:elseif, \n",
      "                        (:block, true), \n",
      "                        (:block, \n",
      "                            (:call, :*, :x, \n",
      "                                (:call, :f, \n",
      "                                    (:call, :-, :x, 1)))))))), \n",
      "        (:(=), :x, 10), \n",
      "        (:call, :f, :x)))\n",
      "\n"
     ]
    },
    {
     "data": {
      "text/plain": [
       "3628800"
      ]
     },
     "execution_count": 16,
     "metadata": {},
     "output_type": "execute_result"
    }
   ],
   "source": [
    "lexpr = :(lambda((f, x), f(x))(\n",
    "        lambda(x, cond((iszero(x), 1), (true, x*f(x-1)))),\n",
    "        10))\n",
    "show(lexpr); println(\"\\n\")\n",
    "show_texpr(lexpr); println(\"\\n\")\n",
    "\n",
    "println(\"|\\nV\\n\")\n",
    "\n",
    "expr = lexpr2expr(lexpr)\n",
    "show(expr); println(\"\\n\")\n",
    "show_texpr(expr); println(\"\\n\")\n",
    "\n",
    "@leval lambda((f, x), f(x))(\n",
    "    lambda(x, cond((iszero(x), 1), (true, x*f(x-1)))),\n",
    "    10)"
   ]
  },
  {
   "cell_type": "markdown",
   "metadata": {},
   "source": [
    "### more Lisp-like example"
   ]
  },
  {
   "cell_type": "markdown",
   "metadata": {},
   "source": [
    "https://nbviewer.jupyter.org/gist/genkuroki/b60908cca4f4978b8adcaa7955e7b5b6\n",
    "\n",
    "**example 4**\n",
    "\n",
    "```lisp\n",
    "((lambda (assoc k v) (assoc k v))\n",
    " '(lambda (k v)\n",
    "    (cond ((eq v '()) nil)\n",
    "          ((eq (car (car v)) k)\n",
    "           (car v))\n",
    "          ('t (assoc k (cdr v)))))\n",
    " 'Orange\n",
    " '((Apple . 120) (Orange . 210) (Lemmon . 180)))\n",
    "=> (Orange . 210)\n",
    "```"
   ]
  },
  {
   "cell_type": "code",
   "execution_count": 17,
   "metadata": {},
   "outputs": [
    {
     "data": {
      "text/plain": [
       ":(let\n",
       "      assoc = ((k, v)->if eq(v, nil)\n",
       "                  nil\n",
       "              elseif eq(car(car(v)), k)\n",
       "                  car(v)\n",
       "              elseif true\n",
       "                  assoc(k, cdr(v))\n",
       "              end)\n",
       "      k = :Orange\n",
       "      v = ((:Apple => 120,), (:Orange => 210,), (:Lemmon => 180,))\n",
       "      assoc(k, v)\n",
       "  end)"
      ]
     },
     "execution_count": 17,
     "metadata": {},
     "output_type": "execute_result"
    }
   ],
   "source": [
    "@lexpr2expr lambda((assoc, k, v), assoc(k, v))(\n",
    "    lambda((k, v), cond(\n",
    "            (eq(v, nil), nil),\n",
    "            (eq(car(car(v)), k), car(v)), \n",
    "            (true, assoc(k, cdr(v))))),\n",
    "    :Orange,\n",
    "    ((:Apple=>120,), (:Orange=>210,), (:Lemmon=>180,)))"
   ]
  },
  {
   "cell_type": "code",
   "execution_count": 18,
   "metadata": {},
   "outputs": [
    {
     "data": {
      "text/plain": [
       "(:Apple => 120,)"
      ]
     },
     "execution_count": 18,
     "metadata": {},
     "output_type": "execute_result"
    }
   ],
   "source": [
    "@leval lambda((assoc, k, v), assoc(k, v))(\n",
    "    lambda((k, v), cond(\n",
    "            (eq(v, nil), nil),\n",
    "            (eq(car(car(v)), k), car(v)), \n",
    "            (true, assoc(k, cdr(v))))),\n",
    "    :Apple,\n",
    "    ((:Apple=>120,), (:Orange=>210,), (:Lemmon=>180,)))"
   ]
  },
  {
   "cell_type": "code",
   "execution_count": 19,
   "metadata": {},
   "outputs": [
    {
     "data": {
      "text/plain": [
       "(:Orange => 210,)"
      ]
     },
     "execution_count": 19,
     "metadata": {},
     "output_type": "execute_result"
    }
   ],
   "source": [
    "@leval lambda((assoc, k, v), assoc(k, v))(\n",
    "    lambda((k, v), cond(\n",
    "            (eq(v, nil), nil),\n",
    "            (eq(car(car(v)), k), car(v)), \n",
    "            (true, assoc(k, cdr(v))))),\n",
    "    :Orange,\n",
    "    ((:Apple=>120,), (:Orange=>210,), (:Lemmon=>180,)))"
   ]
  },
  {
   "cell_type": "code",
   "execution_count": 20,
   "metadata": {},
   "outputs": [
    {
     "data": {
      "text/plain": [
       "(:Lemmon => 180,)"
      ]
     },
     "execution_count": 20,
     "metadata": {},
     "output_type": "execute_result"
    }
   ],
   "source": [
    "@leval lambda((assoc, k, v), assoc(k, v))(\n",
    "    lambda((k, v), cond(\n",
    "            (eq(v, nil), nil),\n",
    "            (eq(car(car(v)), k), car(v)), \n",
    "            (true, assoc(k, cdr(v))))),\n",
    "    :Lemmon,\n",
    "    ((:Apple=>120,), (:Orange=>210,), (:Lemmon=>180,)))"
   ]
  },
  {
   "cell_type": "code",
   "execution_count": 21,
   "metadata": {},
   "outputs": [
    {
     "data": {
      "text/plain": [
       "nil"
      ]
     },
     "execution_count": 21,
     "metadata": {},
     "output_type": "execute_result"
    }
   ],
   "source": [
    "@leval lambda((assoc, k, v), assoc(k, v))(\n",
    "    lambda((k, v), cond(\n",
    "            (eq(v, nil), nil),\n",
    "            (eq(car(car(v)), k), car(v)), \n",
    "            (true, assoc(k, cdr(v))))),\n",
    "    :Melon,\n",
    "    ((:Apple=>120,), (:Orange=>210,), (:Lemmon=>180,)))"
   ]
  },
  {
   "cell_type": "code",
   "execution_count": 22,
   "metadata": {},
   "outputs": [
    {
     "name": "stdout",
     "output_type": "stream",
     "text": [
      "(:call, \n",
      "    (:call, :lambda, \n",
      "        (:tuple, :assoc, :k, :v), \n",
      "        (:call, :assoc, :k, :v)), \n",
      "    (:call, :lambda, \n",
      "        (:tuple, :k, :v), \n",
      "        (:call, :cond, \n",
      "            (:tuple, \n",
      "                (:call, :eq, :v, :nil), :nil), \n",
      "            (:tuple, \n",
      "                (:call, :eq, \n",
      "                    (:call, :car, \n",
      "                        (:call, :car, :v)), :k), \n",
      "                (:call, :car, :v)), \n",
      "            (:tuple, true, \n",
      "                (:call, :assoc, :k, \n",
      "                    (:call, :cdr, :v))))), QuoteNode(:Orange), \n",
      "    (:tuple, \n",
      "        (:tuple, \n",
      "            (:call, :(=>), QuoteNode(:Apple), 120)), \n",
      "        (:tuple, \n",
      "            (:call, :(=>), QuoteNode(:Orange), 210)), \n",
      "        (:tuple, \n",
      "            (:call, :(=>), QuoteNode(:Lemmon), 180))))"
     ]
    }
   ],
   "source": [
    "@show_texpr lambda((assoc, k, v), assoc(k, v))(\n",
    "    lambda((k, v), cond(\n",
    "            (eq(v, nil), nil),\n",
    "            (eq(car(car(v)), k), car(v)), \n",
    "            (true, assoc(k, cdr(v))))),\n",
    "    :Orange,\n",
    "    ((:Apple=>120,), (:Orange=>210,), (:Lemmon=>180,)))"
   ]
  },
  {
   "cell_type": "code",
   "execution_count": 23,
   "metadata": {},
   "outputs": [
    {
     "name": "stdout",
     "output_type": "stream",
     "text": [
      "(:tuple, \n",
      "    (:tuple, \n",
      "        (:call, :(=>), QuoteNode(:Apple), 120)), \n",
      "    (:tuple, \n",
      "        (:call, :(=>), QuoteNode(:Orange), 210)), \n",
      "    (:tuple, \n",
      "        (:call, :(=>), QuoteNode(:Lemmon), 180)))"
     ]
    }
   ],
   "source": [
    ":(((:Apple=>120,), (:Orange=>210,), (:Lemmon=>180,))) |> show_texpr"
   ]
  },
  {
   "cell_type": "code",
   "execution_count": 24,
   "metadata": {},
   "outputs": [
    {
     "data": {
      "text/plain": [
       "texpr_exmaple4 (generic function with 1 method)"
      ]
     },
     "execution_count": 24,
     "metadata": {},
     "output_type": "execute_result"
    }
   ],
   "source": [
    "texpr_exmaple4(x) = (:call, \n",
    "    (:lambda, (:tuple, :assoc, :k, :v), (:call, :assoc, :k, :v)), \n",
    "    (:lambda, (:tuple, :k, :v), (:cond, \n",
    "            (:tuple, (:eq, :v, :nil), :nil), \n",
    "            (:tuple, (:eq, (:car, (:car, :v)), :k), (:car, :v)), \n",
    "            (:tuple, true, (:call, :assoc, :k, (:cdr, :v))))), \n",
    "    (:quote, x), \n",
    "    :(((:Apple=>120,), (:Orange=>210,), (:Lemmon=>180,))))"
   ]
  },
  {
   "cell_type": "code",
   "execution_count": 25,
   "metadata": {},
   "outputs": [
    {
     "data": {
      "text/plain": [
       "(:Apple => 120,)"
      ]
     },
     "execution_count": 25,
     "metadata": {},
     "output_type": "execute_result"
    }
   ],
   "source": [
    "texpr_exmaple4(:Apple) |> texpr2expr |> leval"
   ]
  },
  {
   "cell_type": "code",
   "execution_count": 26,
   "metadata": {},
   "outputs": [
    {
     "data": {
      "text/plain": [
       "(:Orange => 210,)"
      ]
     },
     "execution_count": 26,
     "metadata": {},
     "output_type": "execute_result"
    }
   ],
   "source": [
    "texpr_exmaple4(:Orange) |> texpr2expr |> leval"
   ]
  },
  {
   "cell_type": "code",
   "execution_count": 27,
   "metadata": {},
   "outputs": [
    {
     "data": {
      "text/plain": [
       "(:Lemmon => 180,)"
      ]
     },
     "execution_count": 27,
     "metadata": {},
     "output_type": "execute_result"
    }
   ],
   "source": [
    "texpr_exmaple4(:Lemmon) |> texpr2expr |> leval"
   ]
  },
  {
   "cell_type": "code",
   "execution_count": 28,
   "metadata": {},
   "outputs": [
    {
     "data": {
      "text/plain": [
       "nil"
      ]
     },
     "execution_count": 28,
     "metadata": {},
     "output_type": "execute_result"
    }
   ],
   "source": [
    "texpr_exmaple4(:Melon) |> texpr2expr |> leval"
   ]
  },
  {
   "cell_type": "markdown",
   "metadata": {},
   "source": [
    "## Documents"
   ]
  },
  {
   "cell_type": "code",
   "execution_count": 29,
   "metadata": {},
   "outputs": [
    {
     "data": {
      "text/latex": [
       "\\texttt{lambda} is a Lisp-like dummy function to be translated to Julia expression by \\texttt{lexpr2expr}.\n",
       "\n",
       "For example, \\texttt{lambda((x, y), f(x, y))(a, b)} is translated to\n",
       "\n",
       "\\begin{verbatim}\n",
       "let\n",
       "    x = a\n",
       "    y = b\n",
       "    f(x, y)\n",
       "end\n",
       "\\end{verbatim}\n",
       "\\texttt{lambda((x, y), f(x, y))} without arguments (a, b) is translated to\n",
       "\n",
       "\\begin{verbatim}\n",
       "(x, y) -> f(x, y)\n",
       "\\end{verbatim}\n"
      ],
      "text/markdown": [
       "`lambda` is a Lisp-like dummy function to be translated to Julia expression by `lexpr2expr`.\n",
       "\n",
       "For example, `lambda((x, y), f(x, y))(a, b)` is translated to\n",
       "\n",
       "```julia\n",
       "let\n",
       "    x = a\n",
       "    y = b\n",
       "    f(x, y)\n",
       "end\n",
       "```\n",
       "\n",
       "`lambda((x, y), f(x, y))` without arguments (a, b) is translated to\n",
       "\n",
       "```julia\n",
       "(x, y) -> f(x, y)\n",
       "```\n"
      ],
      "text/plain": [
       "  \u001b[36mlambda\u001b[39m is a Lisp-like dummy function to be translated to Julia expression by\n",
       "  \u001b[36mlexpr2expr\u001b[39m.\n",
       "\n",
       "  For example, \u001b[36mlambda((x, y), f(x, y))(a, b)\u001b[39m is translated to\n",
       "\n",
       "\u001b[36m  let\u001b[39m\n",
       "\u001b[36m      x = a\u001b[39m\n",
       "\u001b[36m      y = b\u001b[39m\n",
       "\u001b[36m      f(x, y)\u001b[39m\n",
       "\u001b[36m  end\u001b[39m\n",
       "\n",
       "  \u001b[36mlambda((x, y), f(x, y))\u001b[39m without arguments (a, b) is translated to\n",
       "\n",
       "\u001b[36m  (x, y) -> f(x, y)\u001b[39m"
      ]
     },
     "execution_count": 29,
     "metadata": {},
     "output_type": "execute_result"
    }
   ],
   "source": [
    "@doc lambda"
   ]
  },
  {
   "cell_type": "code",
   "execution_count": 30,
   "metadata": {},
   "outputs": [
    {
     "data": {
      "text/latex": [
       "\\texttt{cond} is a Lisp-like dummy function to be translated to Julia expression by \\texttt{lexpr2expr}.\n",
       "\n",
       "For example, \\texttt{cond((a, A), (b, B), (c, C))} is translated to\n",
       "\n",
       "\\begin{verbatim}\n",
       "if a\n",
       "    A\n",
       "elseif b\n",
       "    B\n",
       "elseif c\n",
       "    C\n",
       "end\n",
       "\\end{verbatim}\n"
      ],
      "text/markdown": [
       "`cond` is a Lisp-like dummy function to be translated to Julia expression by `lexpr2expr`.\n",
       "\n",
       "For example, `cond((a, A), (b, B), (c, C))` is translated to\n",
       "\n",
       "```julia\n",
       "if a\n",
       "    A\n",
       "elseif b\n",
       "    B\n",
       "elseif c\n",
       "    C\n",
       "end\n",
       "```\n"
      ],
      "text/plain": [
       "  \u001b[36mcond\u001b[39m is a Lisp-like dummy function to be translated to Julia expression by\n",
       "  \u001b[36mlexpr2expr\u001b[39m.\n",
       "\n",
       "  For example, \u001b[36mcond((a, A), (b, B), (c, C))\u001b[39m is translated to\n",
       "\n",
       "\u001b[36m  if a\u001b[39m\n",
       "\u001b[36m      A\u001b[39m\n",
       "\u001b[36m  elseif b\u001b[39m\n",
       "\u001b[36m      B\u001b[39m\n",
       "\u001b[36m  elseif c\u001b[39m\n",
       "\u001b[36m      C\u001b[39m\n",
       "\u001b[36m  end\u001b[39m"
      ]
     },
     "execution_count": 30,
     "metadata": {},
     "output_type": "execute_result"
    }
   ],
   "source": [
    "@doc cond"
   ]
  },
  {
   "cell_type": "code",
   "execution_count": 31,
   "metadata": {},
   "outputs": [
    {
     "data": {
      "text/latex": [
       "\\begin{verbatim}\n",
       "lexpr2expr(x)\n",
       "\\end{verbatim}\n",
       "translates a Lisp-like expression \\texttt{x} to the corresponding Julia expression.\n",
       "\n"
      ],
      "text/markdown": [
       "```\n",
       "lexpr2expr(x)\n",
       "```\n",
       "\n",
       "translates a Lisp-like expression `x` to the corresponding Julia expression.\n"
      ],
      "text/plain": [
       "\u001b[36m  lexpr2expr(x)\u001b[39m\n",
       "\n",
       "  translates a Lisp-like expression \u001b[36mx\u001b[39m to the corresponding Julia expression."
      ]
     },
     "execution_count": 31,
     "metadata": {},
     "output_type": "execute_result"
    }
   ],
   "source": [
    "@doc lexpr2expr"
   ]
  },
  {
   "cell_type": "code",
   "execution_count": 32,
   "metadata": {},
   "outputs": [
    {
     "data": {
      "text/latex": [
       "\\texttt{@lexpr2expr(x)} is the macro version of \\texttt{lexpr2expr(x)}.\n",
       "\n"
      ],
      "text/markdown": [
       "`@lexpr2expr(x)` is the macro version of `lexpr2expr(x)`.\n"
      ],
      "text/plain": [
       "  \u001b[36m@lexpr2expr(x)\u001b[39m is the macro version of \u001b[36mlexpr2expr(x)\u001b[39m."
      ]
     },
     "execution_count": 32,
     "metadata": {},
     "output_type": "execute_result"
    }
   ],
   "source": [
    "@doc @lexpr2expr"
   ]
  },
  {
   "cell_type": "code",
   "execution_count": 33,
   "metadata": {},
   "outputs": [
    {
     "data": {
      "text/latex": [
       "\\texttt{leval(x, m::Module=Main)} is the function version of \\texttt{@leval(x)}\n",
       "\n"
      ],
      "text/markdown": [
       "`leval(x, m::Module=Main)` is the function version of `@leval(x)`\n"
      ],
      "text/plain": [
       "  \u001b[36mleval(x, m::Module=Main)\u001b[39m is the function version of \u001b[36m@leval(x)\u001b[39m"
      ]
     },
     "execution_count": 33,
     "metadata": {},
     "output_type": "execute_result"
    }
   ],
   "source": [
    "@doc leval"
   ]
  },
  {
   "cell_type": "code",
   "execution_count": 34,
   "metadata": {},
   "outputs": [
    {
     "data": {
      "text/latex": [
       "\\begin{verbatim}\n",
       "@leval x\n",
       "\\end{verbatim}\n",
       "evaluates a Lisp-like expression \\texttt{x}.\n",
       "\n"
      ],
      "text/markdown": [
       "```\n",
       "@leval x\n",
       "```\n",
       "\n",
       "evaluates a Lisp-like expression `x`.\n"
      ],
      "text/plain": [
       "\u001b[36m  @leval x\u001b[39m\n",
       "\n",
       "  evaluates a Lisp-like expression \u001b[36mx\u001b[39m."
      ]
     },
     "execution_count": 34,
     "metadata": {},
     "output_type": "execute_result"
    }
   ],
   "source": [
    "@doc @leval"
   ]
  },
  {
   "cell_type": "code",
   "execution_count": 35,
   "metadata": {},
   "outputs": [
    {
     "data": {
      "text/latex": [
       "\\texttt{Nil} is the type of \\texttt{nil}.\n",
       "\n"
      ],
      "text/markdown": [
       "`Nil` is the type of `nil`.\n"
      ],
      "text/plain": [
       "  \u001b[36mNil\u001b[39m is the type of \u001b[36mnil\u001b[39m."
      ]
     },
     "execution_count": 35,
     "metadata": {},
     "output_type": "execute_result"
    }
   ],
   "source": [
    "@doc Nil"
   ]
  },
  {
   "cell_type": "code",
   "execution_count": 36,
   "metadata": {},
   "outputs": [
    {
     "data": {
      "text/latex": [
       "\\texttt{nil} is the singleton of type \\texttt{Nil} regarded as the Lisp-like nil.\n",
       "\n"
      ],
      "text/markdown": [
       "`nil` is the singleton of type `Nil` regarded as the Lisp-like nil.\n"
      ],
      "text/plain": [
       "  \u001b[36mnil\u001b[39m is the singleton of type \u001b[36mNil\u001b[39m regarded as the Lisp-like nil."
      ]
     },
     "execution_count": 36,
     "metadata": {},
     "output_type": "execute_result"
    }
   ],
   "source": [
    "@doc nil"
   ]
  },
  {
   "cell_type": "code",
   "execution_count": 37,
   "metadata": {},
   "outputs": [
    {
     "data": {
      "text/latex": [
       "\\texttt{null(x)} returns \\texttt{true} if x is equal to \\texttt{nil} and \\texttt{false} otherwise.\n",
       "\n"
      ],
      "text/markdown": [
       "`null(x)` returns `true` if x is equal to `nil` and `false` otherwise.\n"
      ],
      "text/plain": [
       "  \u001b[36mnull(x)\u001b[39m returns \u001b[36mtrue\u001b[39m if x is equal to \u001b[36mnil\u001b[39m and \u001b[36mfalse\u001b[39m otherwise."
      ]
     },
     "execution_count": 37,
     "metadata": {},
     "output_type": "execute_result"
    }
   ],
   "source": [
    "@doc null"
   ]
  },
  {
   "cell_type": "code",
   "execution_count": 38,
   "metadata": {},
   "outputs": [
    {
     "data": {
      "text/latex": [
       "\\texttt{eq(x, y)} returns \\texttt{true} if x is equal to y and false otherwise, where \\texttt{()} is considered to be equal to \\texttt{nil}.\n",
       "\n"
      ],
      "text/markdown": [
       "`eq(x, y)` returns `true` if x is equal to y and false otherwise, where `()` is considered to be equal to `nil`.\n"
      ],
      "text/plain": [
       "  \u001b[36meq(x, y)\u001b[39m returns \u001b[36mtrue\u001b[39m if x is equal to y and false otherwise, where \u001b[36m()\u001b[39m is\n",
       "  considered to be equal to \u001b[36mnil\u001b[39m."
      ]
     },
     "execution_count": 38,
     "metadata": {},
     "output_type": "execute_result"
    }
   ],
   "source": [
    "@doc eq"
   ]
  },
  {
   "cell_type": "code",
   "execution_count": 39,
   "metadata": {},
   "outputs": [
    {
     "data": {
      "text/latex": [
       "\\texttt{cons(x, y)} is a Lisp-like cons function.\n",
       "\n",
       "Examples: Denote (cons x y) by (x . y).\n",
       "\n",
       "\\begin{itemize}\n",
       "\\item The S-expression (a) = (a . nil) is represented by the tuple \\texttt{(a,)}.\n",
       "\n",
       "\n",
       "\\item The S-expression (a b) = (a b . nil) is represented by the tuple \\texttt{(a, b)}.\n",
       "\n",
       "\n",
       "\\item The S-expression (a b c) = (a b c . nil) is represented by the tuple \\texttt{(a, b, c)}.\n",
       "\n",
       "\n",
       "\\item The S-expression (a b c d) is represented by the tuple \\texttt{(a, b, c, d)}.\n",
       "\n",
       "\n",
       "\\item Assume that b, c, d are not equal to nil.\n",
       "\n",
       "\n",
       "\\item The S-expression (a . b) is represented by the tuple \\texttt{(a => b,)}.\n",
       "\n",
       "\n",
       "\\item The S-expression (a b . c) is represented by the tuple \\texttt{(a, b => c)}.\n",
       "\n",
       "\n",
       "\\item The S-expression (a b c . d) is represented by the tuple \\texttt{(a, b, c => d)}.\n",
       "\n",
       "\\end{itemize}\n"
      ],
      "text/markdown": [
       "`cons(x, y)` is a Lisp-like cons function.\n",
       "\n",
       "Examples: Denote (cons x y) by (x . y).\n",
       "\n",
       "  * The S-expression (a) = (a . nil) is represented by the tuple `(a,)`.\n",
       "  * The S-expression (a b) = (a b . nil) is represented by the tuple `(a, b)`.\n",
       "  * The S-expression (a b c) = (a b c . nil) is represented by the tuple `(a, b, c)`.\n",
       "  * The S-expression (a b c d) is represented by the tuple `(a, b, c, d)`.\n",
       "  * Assume that b, c, d are not equal to nil.\n",
       "  * The S-expression (a . b) is represented by the tuple `(a => b,)`.\n",
       "  * The S-expression (a b . c) is represented by the tuple `(a, b => c)`.\n",
       "  * The S-expression (a b c . d) is represented by the tuple `(a, b, c => d)`.\n"
      ],
      "text/plain": [
       "  \u001b[36mcons(x, y)\u001b[39m is a Lisp-like cons function.\n",
       "\n",
       "  Examples: Denote (cons x y) by (x . y).\n",
       "\n",
       "    •    The S-expression (a) = (a . nil) is represented by the tuple \u001b[36m(a,)\u001b[39m.\n",
       "\n",
       "    •    The S-expression (a b) = (a b . nil) is represented by the tuple\n",
       "        \u001b[36m(a, b)\u001b[39m.\n",
       "\n",
       "    •    The S-expression (a b c) = (a b c . nil) is represented by the\n",
       "        tuple \u001b[36m(a, b, c)\u001b[39m.\n",
       "\n",
       "    •    The S-expression (a b c d) is represented by the tuple \u001b[36m(a, b, c,\n",
       "        d)\u001b[39m.\n",
       "\n",
       "    •    Assume that b, c, d are not equal to nil.\n",
       "\n",
       "    •    The S-expression (a . b) is represented by the tuple \u001b[36m(a => b,)\u001b[39m.\n",
       "\n",
       "    •    The S-expression (a b . c) is represented by the tuple \u001b[36m(a, b =>\n",
       "        c)\u001b[39m.\n",
       "\n",
       "    •    The S-expression (a b c . d) is represented by the tuple \u001b[36m(a, b, c\n",
       "        => d)\u001b[39m."
      ]
     },
     "execution_count": 39,
     "metadata": {},
     "output_type": "execute_result"
    }
   ],
   "source": [
    "@doc cons"
   ]
  },
  {
   "cell_type": "code",
   "execution_count": 40,
   "metadata": {},
   "outputs": [
    {
     "data": {
      "text/latex": [
       "\\texttt{car(x)} is a Lisp-like car function.\n",
       "\n"
      ],
      "text/markdown": [
       "`car(x)` is a Lisp-like car function.\n"
      ],
      "text/plain": [
       "  \u001b[36mcar(x)\u001b[39m is a Lisp-like car function."
      ]
     },
     "execution_count": 40,
     "metadata": {},
     "output_type": "execute_result"
    }
   ],
   "source": [
    "@doc car"
   ]
  },
  {
   "cell_type": "code",
   "execution_count": 41,
   "metadata": {},
   "outputs": [
    {
     "data": {
      "text/latex": [
       "\\texttt{cdr(x)} is a Lisp-like cdr function.\n",
       "\n"
      ],
      "text/markdown": [
       "`cdr(x)` is a Lisp-like cdr function.\n"
      ],
      "text/plain": [
       "  \u001b[36mcdr(x)\u001b[39m is a Lisp-like cdr function."
      ]
     },
     "execution_count": 41,
     "metadata": {},
     "output_type": "execute_result"
    }
   ],
   "source": [
    "@doc cdr"
   ]
  },
  {
   "cell_type": "code",
   "execution_count": 42,
   "metadata": {},
   "outputs": [
    {
     "data": {
      "text/latex": [
       "\\texttt{caar(x)} is a Lisp-like caar function.\n",
       "\n"
      ],
      "text/markdown": [
       "`caar(x)` is a Lisp-like caar function.\n"
      ],
      "text/plain": [
       "  \u001b[36mcaar(x)\u001b[39m is a Lisp-like caar function."
      ]
     },
     "execution_count": 42,
     "metadata": {},
     "output_type": "execute_result"
    }
   ],
   "source": [
    "@doc caar"
   ]
  },
  {
   "cell_type": "code",
   "execution_count": 43,
   "metadata": {},
   "outputs": [
    {
     "data": {
      "text/latex": [
       "\\texttt{cadr(x)} is a Lisp-like cadr function.\n",
       "\n"
      ],
      "text/markdown": [
       "`cadr(x)` is a Lisp-like cadr function.\n"
      ],
      "text/plain": [
       "  \u001b[36mcadr(x)\u001b[39m is a Lisp-like cadr function."
      ]
     },
     "execution_count": 43,
     "metadata": {},
     "output_type": "execute_result"
    }
   ],
   "source": [
    "@doc cadr"
   ]
  },
  {
   "cell_type": "code",
   "execution_count": 44,
   "metadata": {},
   "outputs": [
    {
     "data": {
      "text/latex": [
       "\\texttt{cdar(x)} is a Lisp-like cdar function.\n",
       "\n"
      ],
      "text/markdown": [
       "`cdar(x)` is a Lisp-like cdar function.\n"
      ],
      "text/plain": [
       "  \u001b[36mcdar(x)\u001b[39m is a Lisp-like cdar function."
      ]
     },
     "execution_count": 44,
     "metadata": {},
     "output_type": "execute_result"
    }
   ],
   "source": [
    "@doc cdar"
   ]
  },
  {
   "cell_type": "code",
   "execution_count": 45,
   "metadata": {},
   "outputs": [
    {
     "data": {
      "text/latex": [
       "\\texttt{cddr(x)} is a Lisp-like cddr function.\n",
       "\n"
      ],
      "text/markdown": [
       "`cddr(x)` is a Lisp-like cddr function.\n"
      ],
      "text/plain": [
       "  \u001b[36mcddr(x)\u001b[39m is a Lisp-like cddr function."
      ]
     },
     "execution_count": 45,
     "metadata": {},
     "output_type": "execute_result"
    }
   ],
   "source": [
    "@doc cddr"
   ]
  },
  {
   "cell_type": "code",
   "execution_count": 46,
   "metadata": {},
   "outputs": [
    {
     "data": {
      "text/latex": [
       "\\texttt{list(x...)} is a Lisp-like list function.\n",
       "\n"
      ],
      "text/markdown": [
       "`list(x...)` is a Lisp-like list function.\n"
      ],
      "text/plain": [
       "  \u001b[36mlist(x...)\u001b[39m is a Lisp-like list function."
      ]
     },
     "execution_count": 46,
     "metadata": {},
     "output_type": "execute_result"
    }
   ],
   "source": [
    "@doc list"
   ]
  },
  {
   "cell_type": "code",
   "execution_count": null,
   "metadata": {},
   "outputs": [],
   "source": []
  }
 ],
 "metadata": {
  "@webio": {
   "lastCommId": null,
   "lastKernelId": null
  },
  "jupytext": {
   "formats": "ipynb,md"
  },
  "kernelspec": {
   "display_name": "Julia MKL depwarn -O3 1.5.2",
   "language": "julia",
   "name": "julia-mkl-depwarn--o3-1.5"
  },
  "language_info": {
   "file_extension": ".jl",
   "mimetype": "application/julia",
   "name": "julia",
   "version": "1.5.2"
  },
  "toc": {
   "base_numbering": 1,
   "nav_menu": {},
   "number_sections": true,
   "sideBar": true,
   "skip_h1_title": true,
   "title_cell": "Table of Contents",
   "title_sidebar": "Contents",
   "toc_cell": true,
   "toc_position": {},
   "toc_section_display": true,
   "toc_window_display": false
  }
 },
 "nbformat": 4,
 "nbformat_minor": 4
}
