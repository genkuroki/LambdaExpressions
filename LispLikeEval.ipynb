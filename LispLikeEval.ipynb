{
 "cells": [
  {
   "cell_type": "code",
   "execution_count": 1,
   "metadata": {},
   "outputs": [
    {
     "name": "stderr",
     "output_type": "stream",
     "text": [
      "\u001b[32m\u001b[1m Activating\u001b[22m\u001b[39m environment at `C:\\Users\\genkuroki\\OneDrive\\work\\LispLikeEval.jl\\Project.toml`\n"
     ]
    }
   ],
   "source": [
    "if isfile(\"Project.toml\")\n",
    "    using Pkg\n",
    "    Pkg.activate(\".\")\n",
    "    using Revise\n",
    "end"
   ]
  },
  {
   "cell_type": "code",
   "execution_count": 2,
   "metadata": {},
   "outputs": [
    {
     "name": "stderr",
     "output_type": "stream",
     "text": [
      "┌ Info: Precompiling LispLikeEval [75a861b3-8f1b-477e-b3cd-11ffebdbd227]\n",
      "└ @ Base loading.jl:1278\n"
     ]
    }
   ],
   "source": [
    "using LispLikeEval\n",
    "using MetaUtils"
   ]
  },
  {
   "cell_type": "code",
   "execution_count": 3,
   "metadata": {},
   "outputs": [
    {
     "name": "stdout",
     "output_type": "stream",
     "text": [
      ":((lambda((x, y), sin(x) * y))(1, 2))\n",
      "\n",
      "(:call, \n",
      "    (:call, :lambda, \n",
      "        (:tuple, :x, :y), \n",
      "        (:call, :*, \n",
      "            (:call, :sin, :x), :y)), 1, 2)\n",
      "\n",
      ":(let\n",
      "      x = 1\n",
      "      y = 2\n",
      "      sin(x) * y\n",
      "  end)"
     ]
    },
    {
     "data": {
      "text/plain": [
       "1.682941969615793"
      ]
     },
     "execution_count": 3,
     "metadata": {},
     "output_type": "execute_result"
    }
   ],
   "source": [
    "expr = :(lambda((x, y), sin(x)*y)(1, 2))\n",
    "show(expr); println(\"\\n\")\n",
    "show_texpr(expr); println(\"\\n\")\n",
    "translate_lambda(expr) |> show\n",
    "@eval_lambda lambda((x, y), sin(x)*y)(1, 2)"
   ]
  },
  {
   "cell_type": "code",
   "execution_count": 4,
   "metadata": {},
   "outputs": [
    {
     "name": "stdout",
     "output_type": "stream",
     "text": [
      ":((lambda((f, x), f(x)))(lambda(x, if iszero(x)\n",
      "              1\n",
      "          else\n",
      "              x * f(x - 1)\n",
      "          end), 10))\n",
      "\n",
      "(:call, \n",
      "    (:call, :lambda, \n",
      "        (:tuple, :f, :x), \n",
      "        (:call, :f, :x)), \n",
      "    (:call, :lambda, :x, \n",
      "        (:if, \n",
      "            (:call, :iszero, :x), 1, \n",
      "            (:call, :*, :x, \n",
      "                (:call, :f, \n",
      "                    (:call, :-, :x, 1))))), 10)\n",
      "\n",
      ":(let\n",
      "      f = (x->if iszero(x)\n",
      "                  1\n",
      "              else\n",
      "                  x * f(x - 1)\n",
      "              end)\n",
      "      x = 10\n",
      "      f(x)\n",
      "  end)"
     ]
    },
    {
     "data": {
      "text/plain": [
       "3628800"
      ]
     },
     "execution_count": 4,
     "metadata": {},
     "output_type": "execute_result"
    }
   ],
   "source": [
    "expr = :(lambda((f, x), f(x))(lambda(x, iszero(x) ? 1 : x*f(x-1)), 10))\n",
    "show(expr); println(\"\\n\")\n",
    "show_texpr(expr); println(\"\\n\")\n",
    "translate_lambda(expr) |> show\n",
    "@eval_lambda lambda((f, x), f(x))(\n",
    "    lambda(x, iszero(x) ? 1 : x*f(x-1)),\n",
    "    10\n",
    ")"
   ]
  },
  {
   "cell_type": "code",
   "execution_count": 5,
   "metadata": {},
   "outputs": [
    {
     "data": {
      "text/plain": [
       "3628800"
      ]
     },
     "execution_count": 5,
     "metadata": {},
     "output_type": "execute_result"
    }
   ],
   "source": [
    "@eval_lambda lambda((f, x), f(x))(\n",
    "    x -> iszero(x) ? 1 : x*f(x-1),\n",
    "    10\n",
    ")"
   ]
  },
  {
   "cell_type": "code",
   "execution_count": 6,
   "metadata": {},
   "outputs": [
    {
     "name": "stdout",
     "output_type": "stream",
     "text": [
      "(:call, \n",
      "    (:call, :lambda, \n",
      "        (:tuple, :assoc, :k, :v), \n",
      "        (:call, :assoc, :k, :v)), \n",
      "    (:call, :lambda, \n",
      "        (:tuple, :k, :v), \n",
      "        (:if, \n",
      "            (:call, :eq, :v, :nil), :nil, \n",
      "            (:if, \n",
      "                (:call, :eq, \n",
      "                    (:call, :car, \n",
      "                        (:call, :car, :v)), :k), \n",
      "                (:call, :car, :v), \n",
      "                (:call, :assoc, :k, \n",
      "                    (:call, :cdr, :v))))), QuoteNode(:Orange), \n",
      "    (:tuple, \n",
      "        (:tuple, QuoteNode(:Apple), 120), \n",
      "        (:tuple, QuoteNode(:Orange), 210), \n",
      "        (:tuple, QuoteNode(:Lemmon), 180), :nil))"
     ]
    }
   ],
   "source": [
    "@show_texpr (lambda((assoc, k, v), assoc(k, v)))(\n",
    "    lambda((k, v), \n",
    "        eq(v, nil)         ? nil    :\n",
    "        eq(car(car(v)), k) ? car(v) :\n",
    "        assoc(k, cdr(v))),\n",
    "    :Orange,\n",
    "    ((:Apple, 120), (:Orange, 210), (:Lemmon, 180), nil))"
   ]
  },
  {
   "cell_type": "code",
   "execution_count": 7,
   "metadata": {},
   "outputs": [
    {
     "data": {
      "text/plain": [
       ":(let\n",
       "      assoc = ((k, v)->if eq(v, nil)\n",
       "                  nil\n",
       "              else\n",
       "                  if eq(car(car(v)), k)\n",
       "                      car(v)\n",
       "                  else\n",
       "                      assoc(k, cdr(v))\n",
       "                  end\n",
       "              end)\n",
       "      k = :Orange\n",
       "      v = ((:Apple, 120), (:Orange, 210), (:Lemmon, 180), nil)\n",
       "      assoc(k, v)\n",
       "  end)"
      ]
     },
     "execution_count": 7,
     "metadata": {},
     "output_type": "execute_result"
    }
   ],
   "source": [
    "@translate_lambda (lambda((assoc, k, v), assoc(k, v)))(\n",
    "    lambda((k, v), \n",
    "        eq(v, nil)         ? nil    :\n",
    "        eq(car(car(v)), k) ? car(v) :\n",
    "        assoc(k, cdr(v))),\n",
    "    :Orange,\n",
    "    ((:Apple, 120), (:Orange, 210), (:Lemmon, 180), nil))"
   ]
  },
  {
   "cell_type": "code",
   "execution_count": 8,
   "metadata": {},
   "outputs": [
    {
     "data": {
      "text/plain": [
       "(:Apple, 120)"
      ]
     },
     "execution_count": 8,
     "metadata": {},
     "output_type": "execute_result"
    }
   ],
   "source": [
    "@eval_lambda (lambda((assoc, k, v), assoc(k, v)))(\n",
    "    lambda((k, v), \n",
    "        eq(v, nil)         ? nil    :\n",
    "        eq(car(car(v)), k) ? car(v) :\n",
    "        assoc(k, cdr(v))),\n",
    "    :Apple,\n",
    "    ((:Apple, 120), (:Orange, 210), (:Lemmon, 180), nil))"
   ]
  },
  {
   "cell_type": "code",
   "execution_count": 9,
   "metadata": {},
   "outputs": [
    {
     "data": {
      "text/plain": [
       "(:Orange, 210)"
      ]
     },
     "execution_count": 9,
     "metadata": {},
     "output_type": "execute_result"
    }
   ],
   "source": [
    "@eval_lambda (lambda((assoc, k, v), assoc(k, v)))(\n",
    "    lambda((k, v), \n",
    "        eq(v, nil)         ? nil    :\n",
    "        eq(car(car(v)), k) ? car(v) :\n",
    "        assoc(k, cdr(v))),\n",
    "    :Orange,\n",
    "    ((:Apple, 120), (:Orange, 210), (:Lemmon, 180), nil))"
   ]
  },
  {
   "cell_type": "code",
   "execution_count": 10,
   "metadata": {},
   "outputs": [
    {
     "data": {
      "text/plain": [
       "(:Lemmon, 180)"
      ]
     },
     "execution_count": 10,
     "metadata": {},
     "output_type": "execute_result"
    }
   ],
   "source": [
    "@eval_lambda (lambda((assoc, k, v), assoc(k, v)))(\n",
    "    lambda((k, v), \n",
    "        eq(v, nil)         ? nil    :\n",
    "        eq(car(car(v)), k) ? car(v) :\n",
    "        assoc(k, cdr(v))),\n",
    "    :Lemmon,\n",
    "    ((:Apple, 120), (:Orange, 210), (:Lemmon, 180), nil))"
   ]
  },
  {
   "cell_type": "code",
   "execution_count": 11,
   "metadata": {},
   "outputs": [
    {
     "data": {
      "text/plain": [
       "nil"
      ]
     },
     "execution_count": 11,
     "metadata": {},
     "output_type": "execute_result"
    }
   ],
   "source": [
    "@eval_lambda (lambda((assoc, k, v), assoc(k, v)))(\n",
    "    lambda((k, v), \n",
    "        eq(v, nil)         ? nil    :\n",
    "        eq(car(car(v)), k) ? car(v) :\n",
    "        assoc(k, cdr(v))),\n",
    "    :Melon,\n",
    "    ((:Apple, 120), (:Orange, 210), (:Lemmon, 180), nil))"
   ]
  },
  {
   "cell_type": "code",
   "execution_count": 12,
   "metadata": {},
   "outputs": [
    {
     "data": {
      "text/plain": [
       "texpr_exmaple4 (generic function with 1 method)"
      ]
     },
     "execution_count": 12,
     "metadata": {},
     "output_type": "execute_result"
    }
   ],
   "source": [
    "texpr_exmaple4(x) = (:call, \n",
    "    (:lambda, (:tuple, :assoc, :k, :v), (:call, :assoc, :k, :v)), \n",
    "    (:lambda, (:tuple, :k, :v), \n",
    "        (:if, (:eq, :v, (:tuple,)), :nil,\n",
    "            (:if, (:eq, (:car, (:car, :v)), :k), (:car, :v), \n",
    "                (:call, :assoc, :k, (:cdr, :v))))), \n",
    "    QuoteNode(x), \n",
    "    (:tuple, \n",
    "        (:tuple, QuoteNode(:Apple),  120), \n",
    "        (:tuple, QuoteNode(:Orange), 210), \n",
    "        (:tuple, QuoteNode(:Lemmon), 180), :nil))"
   ]
  },
  {
   "cell_type": "code",
   "execution_count": 13,
   "metadata": {},
   "outputs": [
    {
     "data": {
      "text/plain": [
       "(:Apple, 120)"
      ]
     },
     "execution_count": 13,
     "metadata": {},
     "output_type": "execute_result"
    }
   ],
   "source": [
    "texpr_exmaple4(:Apple) |> texpr2expr |> eval_lambda"
   ]
  },
  {
   "cell_type": "code",
   "execution_count": 14,
   "metadata": {},
   "outputs": [
    {
     "data": {
      "text/plain": [
       "(:Orange, 210)"
      ]
     },
     "execution_count": 14,
     "metadata": {},
     "output_type": "execute_result"
    }
   ],
   "source": [
    "texpr_exmaple4(:Orange) |> texpr2expr |> eval_lambda"
   ]
  },
  {
   "cell_type": "code",
   "execution_count": 15,
   "metadata": {},
   "outputs": [
    {
     "data": {
      "text/plain": [
       "(:Lemmon, 180)"
      ]
     },
     "execution_count": 15,
     "metadata": {},
     "output_type": "execute_result"
    }
   ],
   "source": [
    "texpr_exmaple4(:Lemmon) |> texpr2expr |> eval_lambda"
   ]
  },
  {
   "cell_type": "code",
   "execution_count": 16,
   "metadata": {},
   "outputs": [
    {
     "data": {
      "text/plain": [
       "nil"
      ]
     },
     "execution_count": 16,
     "metadata": {},
     "output_type": "execute_result"
    }
   ],
   "source": [
    "texpr_exmaple4(:Melon) |> texpr2expr |> eval_lambda"
   ]
  },
  {
   "cell_type": "code",
   "execution_count": 17,
   "metadata": {},
   "outputs": [
    {
     "data": {
      "image/svg+xml": [
       "<?xml version=\"1.0\" encoding=\"utf-8\"?>\n",
       "<svg xmlns=\"http://www.w3.org/2000/svg\" xmlns:xlink=\"http://www.w3.org/1999/xlink\" width=\"600\" height=\"400\" viewBox=\"0 0 2400 1600\">\n",
       "<defs>\n",
       "  <clipPath id=\"clip320\">\n",
       "    <rect x=\"0\" y=\"0\" width=\"2400\" height=\"1600\"/>\n",
       "  </clipPath>\n",
       "</defs>\n",
       "<path clip-path=\"url(#clip320)\" d=\"\n",
       "M0 1600 L2400 1600 L2400 0 L0 0  Z\n",
       "  \" fill=\"#ffffff\" fill-rule=\"evenodd\" fill-opacity=\"1\"/>\n",
       "<defs>\n",
       "  <clipPath id=\"clip321\">\n",
       "    <rect x=\"480\" y=\"0\" width=\"1681\" height=\"1600\"/>\n",
       "  </clipPath>\n",
       "</defs>\n",
       "<path clip-path=\"url(#clip320)\" d=\"\n",
       "M179.654 1486.45 L2352.76 1486.45 L2352.76 47.2441 L179.654 47.2441  Z\n",
       "  \" fill=\"#ffffff\" fill-rule=\"evenodd\" fill-opacity=\"1\"/>\n",
       "<defs>\n",
       "  <clipPath id=\"clip322\">\n",
       "    <rect x=\"179\" y=\"47\" width=\"2174\" height=\"1440\"/>\n",
       "  </clipPath>\n",
       "</defs>\n",
       "<polyline clip-path=\"url(#clip322)\" style=\"stroke:#000000; stroke-width:2; stroke-opacity:0.1; fill:none\" points=\"\n",
       "  287.356,1486.45 287.356,47.2441 \n",
       "  \"/>\n",
       "<polyline clip-path=\"url(#clip322)\" style=\"stroke:#000000; stroke-width:2; stroke-opacity:0.1; fill:none\" points=\"\n",
       "  613.639,1486.45 613.639,47.2441 \n",
       "  \"/>\n",
       "<polyline clip-path=\"url(#clip322)\" style=\"stroke:#000000; stroke-width:2; stroke-opacity:0.1; fill:none\" points=\"\n",
       "  939.922,1486.45 939.922,47.2441 \n",
       "  \"/>\n",
       "<polyline clip-path=\"url(#clip322)\" style=\"stroke:#000000; stroke-width:2; stroke-opacity:0.1; fill:none\" points=\"\n",
       "  1266.2,1486.45 1266.2,47.2441 \n",
       "  \"/>\n",
       "<polyline clip-path=\"url(#clip322)\" style=\"stroke:#000000; stroke-width:2; stroke-opacity:0.1; fill:none\" points=\"\n",
       "  1592.49,1486.45 1592.49,47.2441 \n",
       "  \"/>\n",
       "<polyline clip-path=\"url(#clip322)\" style=\"stroke:#000000; stroke-width:2; stroke-opacity:0.1; fill:none\" points=\"\n",
       "  1918.77,1486.45 1918.77,47.2441 \n",
       "  \"/>\n",
       "<polyline clip-path=\"url(#clip322)\" style=\"stroke:#000000; stroke-width:2; stroke-opacity:0.1; fill:none\" points=\"\n",
       "  2245.05,1486.45 2245.05,47.2441 \n",
       "  \"/>\n",
       "<polyline clip-path=\"url(#clip320)\" style=\"stroke:#000000; stroke-width:4; stroke-opacity:1; fill:none\" points=\"\n",
       "  179.654,1486.45 2352.76,1486.45 \n",
       "  \"/>\n",
       "<polyline clip-path=\"url(#clip320)\" style=\"stroke:#000000; stroke-width:4; stroke-opacity:1; fill:none\" points=\"\n",
       "  287.356,1486.45 287.356,1469.18 \n",
       "  \"/>\n",
       "<polyline clip-path=\"url(#clip320)\" style=\"stroke:#000000; stroke-width:4; stroke-opacity:1; fill:none\" points=\"\n",
       "  613.639,1486.45 613.639,1469.18 \n",
       "  \"/>\n",
       "<polyline clip-path=\"url(#clip320)\" style=\"stroke:#000000; stroke-width:4; stroke-opacity:1; fill:none\" points=\"\n",
       "  939.922,1486.45 939.922,1469.18 \n",
       "  \"/>\n",
       "<polyline clip-path=\"url(#clip320)\" style=\"stroke:#000000; stroke-width:4; stroke-opacity:1; fill:none\" points=\"\n",
       "  1266.2,1486.45 1266.2,1469.18 \n",
       "  \"/>\n",
       "<polyline clip-path=\"url(#clip320)\" style=\"stroke:#000000; stroke-width:4; stroke-opacity:1; fill:none\" points=\"\n",
       "  1592.49,1486.45 1592.49,1469.18 \n",
       "  \"/>\n",
       "<polyline clip-path=\"url(#clip320)\" style=\"stroke:#000000; stroke-width:4; stroke-opacity:1; fill:none\" points=\"\n",
       "  1918.77,1486.45 1918.77,1469.18 \n",
       "  \"/>\n",
       "<polyline clip-path=\"url(#clip320)\" style=\"stroke:#000000; stroke-width:4; stroke-opacity:1; fill:none\" points=\"\n",
       "  2245.05,1486.45 2245.05,1469.18 \n",
       "  \"/>\n",
       "<path clip-path=\"url(#clip320)\" d=\"M 0 0 M259.335 1530.29 L289.011 1530.29 L289.011 1534.23 L259.335 1534.23 L259.335 1530.29 Z\" fill=\"#000000\" fill-rule=\"evenodd\" fill-opacity=\"1\" /><path clip-path=\"url(#clip320)\" d=\"M 0 0 M308.247 1528.49 Q311.603 1529.2 313.478 1531.47 Q315.377 1533.74 315.377 1537.07 Q315.377 1542.19 311.858 1544.99 Q308.34 1547.79 301.858 1547.79 Q299.682 1547.79 297.367 1547.35 Q295.076 1546.93 292.622 1546.08 L292.622 1541.56 Q294.566 1542.7 296.881 1543.28 Q299.196 1543.86 301.719 1543.86 Q306.117 1543.86 308.409 1542.12 Q310.724 1540.38 310.724 1537.07 Q310.724 1534.02 308.571 1532.31 Q306.441 1530.57 302.622 1530.57 L298.594 1530.57 L298.594 1526.73 L302.807 1526.73 Q306.256 1526.73 308.085 1525.36 Q309.914 1523.97 309.914 1521.38 Q309.914 1518.72 308.015 1517.31 Q306.14 1515.87 302.622 1515.87 Q300.701 1515.87 298.502 1516.29 Q296.303 1516.7 293.664 1517.58 L293.664 1513.42 Q296.326 1512.68 298.64 1512.31 Q300.978 1511.93 303.039 1511.93 Q308.363 1511.93 311.465 1514.37 Q314.566 1516.77 314.566 1520.89 Q314.566 1523.76 312.923 1525.75 Q311.279 1527.72 308.247 1528.49 Z\" fill=\"#000000\" fill-rule=\"evenodd\" fill-opacity=\"1\" /><path clip-path=\"url(#clip320)\" d=\"M 0 0 M586.093 1530.29 L615.768 1530.29 L615.768 1534.23 L586.093 1534.23 L586.093 1530.29 Z\" fill=\"#000000\" fill-rule=\"evenodd\" fill-opacity=\"1\" /><path clip-path=\"url(#clip320)\" d=\"M 0 0 M624.866 1543.18 L641.185 1543.18 L641.185 1547.12 L619.241 1547.12 L619.241 1543.18 Q621.903 1540.43 626.486 1535.8 Q631.092 1531.15 632.273 1529.81 Q634.518 1527.28 635.398 1525.55 Q636.301 1523.79 636.301 1522.1 Q636.301 1519.34 634.356 1517.61 Q632.435 1515.87 629.333 1515.87 Q627.134 1515.87 624.68 1516.63 Q622.25 1517.4 619.472 1518.95 L619.472 1514.23 Q622.296 1513.09 624.75 1512.51 Q627.204 1511.93 629.241 1511.93 Q634.611 1511.93 637.805 1514.62 Q641 1517.31 641 1521.8 Q641 1523.93 640.19 1525.85 Q639.403 1527.74 637.296 1530.34 Q636.717 1531.01 633.616 1534.23 Q630.514 1537.42 624.866 1543.18 Z\" fill=\"#000000\" fill-rule=\"evenodd\" fill-opacity=\"1\" /><path clip-path=\"url(#clip320)\" d=\"M 0 0 M912.19 1530.29 L941.866 1530.29 L941.866 1534.23 L912.19 1534.23 L912.19 1530.29 Z\" fill=\"#000000\" fill-rule=\"evenodd\" fill-opacity=\"1\" /><path clip-path=\"url(#clip320)\" d=\"M 0 0 M947.746 1543.18 L955.385 1543.18 L955.385 1516.82 L947.075 1518.49 L947.075 1514.23 L955.338 1512.56 L960.014 1512.56 L960.014 1543.18 L967.653 1543.18 L967.653 1547.12 L947.746 1547.12 L947.746 1543.18 Z\" fill=\"#000000\" fill-rule=\"evenodd\" fill-opacity=\"1\" /><path clip-path=\"url(#clip320)\" d=\"M 0 0 M1266.2 1515.64 Q1262.59 1515.64 1260.77 1519.2 Q1258.96 1522.75 1258.96 1529.87 Q1258.96 1536.98 1260.77 1540.55 Q1262.59 1544.09 1266.2 1544.09 Q1269.84 1544.09 1271.64 1540.55 Q1273.47 1536.98 1273.47 1529.87 Q1273.47 1522.75 1271.64 1519.2 Q1269.84 1515.64 1266.2 1515.64 M1266.2 1511.93 Q1272.01 1511.93 1275.07 1516.54 Q1278.15 1521.12 1278.15 1529.87 Q1278.15 1538.6 1275.07 1543.21 Q1272.01 1547.79 1266.2 1547.79 Q1260.39 1547.79 1257.32 1543.21 Q1254.26 1538.6 1254.26 1529.87 Q1254.26 1521.12 1257.32 1516.54 Q1260.39 1511.93 1266.2 1511.93 Z\" fill=\"#000000\" fill-rule=\"evenodd\" fill-opacity=\"1\" /><path clip-path=\"url(#clip320)\" d=\"M 0 0 M1582.87 1543.18 L1590.51 1543.18 L1590.51 1516.82 L1582.2 1518.49 L1582.2 1514.23 L1590.46 1512.56 L1595.14 1512.56 L1595.14 1543.18 L1602.78 1543.18 L1602.78 1547.12 L1582.87 1547.12 L1582.87 1543.18 Z\" fill=\"#000000\" fill-rule=\"evenodd\" fill-opacity=\"1\" /><path clip-path=\"url(#clip320)\" d=\"M 0 0 M1913.42 1543.18 L1929.74 1543.18 L1929.74 1547.12 L1907.8 1547.12 L1907.8 1543.18 Q1910.46 1540.43 1915.04 1535.8 Q1919.65 1531.15 1920.83 1529.81 Q1923.08 1527.28 1923.96 1525.55 Q1924.86 1523.79 1924.86 1522.1 Q1924.86 1519.34 1922.91 1517.61 Q1920.99 1515.87 1917.89 1515.87 Q1915.69 1515.87 1913.24 1516.63 Q1910.81 1517.4 1908.03 1518.95 L1908.03 1514.23 Q1910.85 1513.09 1913.31 1512.51 Q1915.76 1511.93 1917.8 1511.93 Q1923.17 1511.93 1926.36 1514.62 Q1929.56 1517.31 1929.56 1521.8 Q1929.56 1523.93 1928.75 1525.85 Q1927.96 1527.74 1925.85 1530.34 Q1925.28 1531.01 1922.17 1534.23 Q1919.07 1537.42 1913.42 1543.18 Z\" fill=\"#000000\" fill-rule=\"evenodd\" fill-opacity=\"1\" /><path clip-path=\"url(#clip320)\" d=\"M 0 0 M2249.3 1528.49 Q2252.66 1529.2 2254.53 1531.47 Q2256.43 1533.74 2256.43 1537.07 Q2256.43 1542.19 2252.91 1544.99 Q2249.39 1547.79 2242.91 1547.79 Q2240.74 1547.79 2238.42 1547.35 Q2236.13 1546.93 2233.68 1546.08 L2233.68 1541.56 Q2235.62 1542.7 2237.94 1543.28 Q2240.25 1543.86 2242.77 1543.86 Q2247.17 1543.86 2249.46 1542.12 Q2251.78 1540.38 2251.78 1537.07 Q2251.78 1534.02 2249.63 1532.31 Q2247.5 1530.57 2243.68 1530.57 L2239.65 1530.57 L2239.65 1526.73 L2243.86 1526.73 Q2247.31 1526.73 2249.14 1525.36 Q2250.97 1523.97 2250.97 1521.38 Q2250.97 1518.72 2249.07 1517.31 Q2247.19 1515.87 2243.68 1515.87 Q2241.76 1515.87 2239.56 1516.29 Q2237.36 1516.7 2234.72 1517.58 L2234.72 1513.42 Q2237.38 1512.68 2239.69 1512.31 Q2242.03 1511.93 2244.09 1511.93 Q2249.42 1511.93 2252.52 1514.37 Q2255.62 1516.77 2255.62 1520.89 Q2255.62 1523.76 2253.98 1525.75 Q2252.33 1527.72 2249.3 1528.49 Z\" fill=\"#000000\" fill-rule=\"evenodd\" fill-opacity=\"1\" /><polyline clip-path=\"url(#clip322)\" style=\"stroke:#000000; stroke-width:2; stroke-opacity:0.1; fill:none\" points=\"\n",
       "  179.654,1290.19 2352.76,1290.19 \n",
       "  \"/>\n",
       "<polyline clip-path=\"url(#clip322)\" style=\"stroke:#000000; stroke-width:2; stroke-opacity:0.1; fill:none\" points=\"\n",
       "  179.654,1014.02 2352.76,1014.02 \n",
       "  \"/>\n",
       "<polyline clip-path=\"url(#clip322)\" style=\"stroke:#000000; stroke-width:2; stroke-opacity:0.1; fill:none\" points=\"\n",
       "  179.654,737.844 2352.76,737.844 \n",
       "  \"/>\n",
       "<polyline clip-path=\"url(#clip322)\" style=\"stroke:#000000; stroke-width:2; stroke-opacity:0.1; fill:none\" points=\"\n",
       "  179.654,461.67 2352.76,461.67 \n",
       "  \"/>\n",
       "<polyline clip-path=\"url(#clip322)\" style=\"stroke:#000000; stroke-width:2; stroke-opacity:0.1; fill:none\" points=\"\n",
       "  179.654,185.496 2352.76,185.496 \n",
       "  \"/>\n",
       "<polyline clip-path=\"url(#clip320)\" style=\"stroke:#000000; stroke-width:4; stroke-opacity:1; fill:none\" points=\"\n",
       "  179.654,1486.45 179.654,47.2441 \n",
       "  \"/>\n",
       "<polyline clip-path=\"url(#clip320)\" style=\"stroke:#000000; stroke-width:4; stroke-opacity:1; fill:none\" points=\"\n",
       "  179.654,1290.19 205.731,1290.19 \n",
       "  \"/>\n",
       "<polyline clip-path=\"url(#clip320)\" style=\"stroke:#000000; stroke-width:4; stroke-opacity:1; fill:none\" points=\"\n",
       "  179.654,1014.02 205.731,1014.02 \n",
       "  \"/>\n",
       "<polyline clip-path=\"url(#clip320)\" style=\"stroke:#000000; stroke-width:4; stroke-opacity:1; fill:none\" points=\"\n",
       "  179.654,737.844 205.731,737.844 \n",
       "  \"/>\n",
       "<polyline clip-path=\"url(#clip320)\" style=\"stroke:#000000; stroke-width:4; stroke-opacity:1; fill:none\" points=\"\n",
       "  179.654,461.67 205.731,461.67 \n",
       "  \"/>\n",
       "<polyline clip-path=\"url(#clip320)\" style=\"stroke:#000000; stroke-width:4; stroke-opacity:1; fill:none\" points=\"\n",
       "  179.654,185.496 205.731,185.496 \n",
       "  \"/>\n",
       "<path clip-path=\"url(#clip320)\" d=\"M 0 0 M51.2236 1290.64 L80.8994 1290.64 L80.8994 1294.58 L51.2236 1294.58 L51.2236 1290.64 Z\" fill=\"#000000\" fill-rule=\"evenodd\" fill-opacity=\"1\" /><path clip-path=\"url(#clip320)\" d=\"M 0 0 M86.779 1303.54 L94.4178 1303.54 L94.4178 1277.17 L86.1077 1278.84 L86.1077 1274.58 L94.3715 1272.91 L99.0474 1272.91 L99.0474 1303.54 L106.686 1303.54 L106.686 1307.47 L86.779 1307.47 L86.779 1303.54 Z\" fill=\"#000000\" fill-rule=\"evenodd\" fill-opacity=\"1\" /><path clip-path=\"url(#clip320)\" d=\"M 0 0 M111.756 1301.59 L116.64 1301.59 L116.64 1307.47 L111.756 1307.47 L111.756 1301.59 Z\" fill=\"#000000\" fill-rule=\"evenodd\" fill-opacity=\"1\" /><path clip-path=\"url(#clip320)\" d=\"M 0 0 M131.709 1275.99 Q128.098 1275.99 126.27 1279.56 Q124.464 1283.1 124.464 1290.23 Q124.464 1297.33 126.27 1300.9 Q128.098 1304.44 131.709 1304.44 Q135.344 1304.44 137.149 1300.9 Q138.978 1297.33 138.978 1290.23 Q138.978 1283.1 137.149 1279.56 Q135.344 1275.99 131.709 1275.99 M131.709 1272.29 Q137.519 1272.29 140.575 1276.89 Q143.654 1281.48 143.654 1290.23 Q143.654 1298.95 140.575 1303.56 Q137.519 1308.14 131.709 1308.14 Q125.899 1308.14 122.82 1303.56 Q119.765 1298.95 119.765 1290.23 Q119.765 1281.48 122.82 1276.89 Q125.899 1272.29 131.709 1272.29 Z\" fill=\"#000000\" fill-rule=\"evenodd\" fill-opacity=\"1\" /><path clip-path=\"url(#clip320)\" d=\"M 0 0 M50.9921 1014.47 L80.6679 1014.47 L80.6679 1018.4 L50.9921 1018.4 L50.9921 1014.47 Z\" fill=\"#000000\" fill-rule=\"evenodd\" fill-opacity=\"1\" /><path clip-path=\"url(#clip320)\" d=\"M 0 0 M95.7373 999.817 Q92.1262 999.817 90.2975 1003.38 Q88.4919 1006.92 88.4919 1014.05 Q88.4919 1021.16 90.2975 1024.72 Q92.1262 1028.27 95.7373 1028.27 Q99.3715 1028.27 101.177 1024.72 Q103.006 1021.16 103.006 1014.05 Q103.006 1006.92 101.177 1003.38 Q99.3715 999.817 95.7373 999.817 M95.7373 996.113 Q101.547 996.113 104.603 1000.72 Q107.682 1005.3 107.682 1014.05 Q107.682 1022.78 104.603 1027.39 Q101.547 1031.97 95.7373 1031.97 Q89.9271 1031.97 86.8484 1027.39 Q83.7929 1022.78 83.7929 1014.05 Q83.7929 1005.3 86.8484 1000.72 Q89.9271 996.113 95.7373 996.113 Z\" fill=\"#000000\" fill-rule=\"evenodd\" fill-opacity=\"1\" /><path clip-path=\"url(#clip320)\" d=\"M 0 0 M112.751 1025.42 L117.635 1025.42 L117.635 1031.3 L112.751 1031.3 L112.751 1025.42 Z\" fill=\"#000000\" fill-rule=\"evenodd\" fill-opacity=\"1\" /><path clip-path=\"url(#clip320)\" d=\"M 0 0 M122.751 996.738 L141.107 996.738 L141.107 1000.67 L127.033 1000.67 L127.033 1009.15 Q128.052 1008.8 129.07 1008.64 Q130.089 1008.45 131.107 1008.45 Q136.894 1008.45 140.274 1011.62 Q143.654 1014.79 143.654 1020.21 Q143.654 1025.79 140.181 1028.89 Q136.709 1031.97 130.39 1031.97 Q128.214 1031.97 125.945 1031.6 Q123.7 1031.23 121.293 1030.49 L121.293 1025.79 Q123.376 1026.92 125.598 1027.48 Q127.82 1028.03 130.297 1028.03 Q134.302 1028.03 136.64 1025.93 Q138.978 1023.82 138.978 1020.21 Q138.978 1016.6 136.64 1014.49 Q134.302 1012.39 130.297 1012.39 Q128.422 1012.39 126.547 1012.8 Q124.695 1013.22 122.751 1014.1 L122.751 996.738 Z\" fill=\"#000000\" fill-rule=\"evenodd\" fill-opacity=\"1\" /><path clip-path=\"url(#clip320)\" d=\"M 0 0 M94.7419 723.643 Q91.1308 723.643 89.3021 727.208 Q87.4966 730.749 87.4966 737.879 Q87.4966 744.986 89.3021 748.55 Q91.1308 752.092 94.7419 752.092 Q98.3761 752.092 100.182 748.55 Q102.01 744.986 102.01 737.879 Q102.01 730.749 100.182 727.208 Q98.3761 723.643 94.7419 723.643 M94.7419 719.939 Q100.552 719.939 103.608 724.546 Q106.686 729.129 106.686 737.879 Q106.686 746.606 103.608 751.212 Q100.552 755.796 94.7419 755.796 Q88.9317 755.796 85.8531 751.212 Q82.7975 746.606 82.7975 737.879 Q82.7975 729.129 85.8531 724.546 Q88.9317 719.939 94.7419 719.939 Z\" fill=\"#000000\" fill-rule=\"evenodd\" fill-opacity=\"1\" /><path clip-path=\"url(#clip320)\" d=\"M 0 0 M111.756 749.245 L116.64 749.245 L116.64 755.124 L111.756 755.124 L111.756 749.245 Z\" fill=\"#000000\" fill-rule=\"evenodd\" fill-opacity=\"1\" /><path clip-path=\"url(#clip320)\" d=\"M 0 0 M131.709 723.643 Q128.098 723.643 126.27 727.208 Q124.464 730.749 124.464 737.879 Q124.464 744.986 126.27 748.55 Q128.098 752.092 131.709 752.092 Q135.344 752.092 137.149 748.55 Q138.978 744.986 138.978 737.879 Q138.978 730.749 137.149 727.208 Q135.344 723.643 131.709 723.643 M131.709 719.939 Q137.519 719.939 140.575 724.546 Q143.654 729.129 143.654 737.879 Q143.654 746.606 140.575 751.212 Q137.519 755.796 131.709 755.796 Q125.899 755.796 122.82 751.212 Q119.765 746.606 119.765 737.879 Q119.765 729.129 122.82 724.546 Q125.899 719.939 131.709 719.939 Z\" fill=\"#000000\" fill-rule=\"evenodd\" fill-opacity=\"1\" /><path clip-path=\"url(#clip320)\" d=\"M 0 0 M95.7373 447.469 Q92.1262 447.469 90.2975 451.034 Q88.4919 454.576 88.4919 461.705 Q88.4919 468.812 90.2975 472.376 Q92.1262 475.918 95.7373 475.918 Q99.3715 475.918 101.177 472.376 Q103.006 468.812 103.006 461.705 Q103.006 454.576 101.177 451.034 Q99.3715 447.469 95.7373 447.469 M95.7373 443.765 Q101.547 443.765 104.603 448.372 Q107.682 452.955 107.682 461.705 Q107.682 470.432 104.603 475.038 Q101.547 479.622 95.7373 479.622 Q89.9271 479.622 86.8484 475.038 Q83.7929 470.432 83.7929 461.705 Q83.7929 452.955 86.8484 448.372 Q89.9271 443.765 95.7373 443.765 Z\" fill=\"#000000\" fill-rule=\"evenodd\" fill-opacity=\"1\" /><path clip-path=\"url(#clip320)\" d=\"M 0 0 M112.751 473.071 L117.635 473.071 L117.635 478.95 L112.751 478.95 L112.751 473.071 Z\" fill=\"#000000\" fill-rule=\"evenodd\" fill-opacity=\"1\" /><path clip-path=\"url(#clip320)\" d=\"M 0 0 M122.751 444.39 L141.107 444.39 L141.107 448.326 L127.033 448.326 L127.033 456.798 Q128.052 456.45 129.07 456.288 Q130.089 456.103 131.107 456.103 Q136.894 456.103 140.274 459.275 Q143.654 462.446 143.654 467.862 Q143.654 473.441 140.181 476.543 Q136.709 479.622 130.39 479.622 Q128.214 479.622 125.945 479.251 Q123.7 478.881 121.293 478.14 L121.293 473.441 Q123.376 474.575 125.598 475.131 Q127.82 475.687 130.297 475.687 Q134.302 475.687 136.64 473.58 Q138.978 471.474 138.978 467.862 Q138.978 464.251 136.64 462.145 Q134.302 460.038 130.297 460.038 Q128.422 460.038 126.547 460.455 Q124.695 460.872 122.751 461.751 L122.751 444.39 Z\" fill=\"#000000\" fill-rule=\"evenodd\" fill-opacity=\"1\" /><path clip-path=\"url(#clip320)\" d=\"M 0 0 M86.779 198.841 L94.4178 198.841 L94.4178 172.476 L86.1077 174.142 L86.1077 169.883 L94.3715 168.216 L99.0474 168.216 L99.0474 198.841 L106.686 198.841 L106.686 202.776 L86.779 202.776 L86.779 198.841 Z\" fill=\"#000000\" fill-rule=\"evenodd\" fill-opacity=\"1\" /><path clip-path=\"url(#clip320)\" d=\"M 0 0 M111.756 196.897 L116.64 196.897 L116.64 202.776 L111.756 202.776 L111.756 196.897 Z\" fill=\"#000000\" fill-rule=\"evenodd\" fill-opacity=\"1\" /><path clip-path=\"url(#clip320)\" d=\"M 0 0 M131.709 171.295 Q128.098 171.295 126.27 174.86 Q124.464 178.402 124.464 185.531 Q124.464 192.638 126.27 196.202 Q128.098 199.744 131.709 199.744 Q135.344 199.744 137.149 196.202 Q138.978 192.638 138.978 185.531 Q138.978 178.402 137.149 174.86 Q135.344 171.295 131.709 171.295 M131.709 167.591 Q137.519 167.591 140.575 172.198 Q143.654 176.781 143.654 185.531 Q143.654 194.258 140.575 198.864 Q137.519 203.448 131.709 203.448 Q125.899 203.448 122.82 198.864 Q119.765 194.258 119.765 185.531 Q119.765 176.781 122.82 172.198 Q125.899 167.591 131.709 167.591 Z\" fill=\"#000000\" fill-rule=\"evenodd\" fill-opacity=\"1\" /><circle clip-path=\"url(#clip322)\" cx=\"241.157\" cy=\"798.665\" r=\"14\" fill=\"#009af9\" fill-rule=\"evenodd\" fill-opacity=\"1\" stroke=\"#000000\" stroke-opacity=\"1\" stroke-width=\"3.2\"/>\n",
       "<circle clip-path=\"url(#clip322)\" cx=\"349.056\" cy=\"683.872\" r=\"14\" fill=\"#009af9\" fill-rule=\"evenodd\" fill-opacity=\"1\" stroke=\"#000000\" stroke-opacity=\"1\" stroke-width=\"3.2\"/>\n",
       "<circle clip-path=\"url(#clip322)\" cx=\"456.956\" cy=\"1445.72\" r=\"14\" fill=\"#009af9\" fill-rule=\"evenodd\" fill-opacity=\"1\" stroke=\"#000000\" stroke-opacity=\"1\" stroke-width=\"3.2\"/>\n",
       "<circle clip-path=\"url(#clip322)\" cx=\"564.856\" cy=\"877.637\" r=\"14\" fill=\"#009af9\" fill-rule=\"evenodd\" fill-opacity=\"1\" stroke=\"#000000\" stroke-opacity=\"1\" stroke-width=\"3.2\"/>\n",
       "<circle clip-path=\"url(#clip322)\" cx=\"672.756\" cy=\"1277.56\" r=\"14\" fill=\"#009af9\" fill-rule=\"evenodd\" fill-opacity=\"1\" stroke=\"#000000\" stroke-opacity=\"1\" stroke-width=\"3.2\"/>\n",
       "<circle clip-path=\"url(#clip322)\" cx=\"780.656\" cy=\"1223.91\" r=\"14\" fill=\"#009af9\" fill-rule=\"evenodd\" fill-opacity=\"1\" stroke=\"#000000\" stroke-opacity=\"1\" stroke-width=\"3.2\"/>\n",
       "<circle clip-path=\"url(#clip322)\" cx=\"888.555\" cy=\"1165.45\" r=\"14\" fill=\"#009af9\" fill-rule=\"evenodd\" fill-opacity=\"1\" stroke=\"#000000\" stroke-opacity=\"1\" stroke-width=\"3.2\"/>\n",
       "<circle clip-path=\"url(#clip322)\" cx=\"996.455\" cy=\"1215.86\" r=\"14\" fill=\"#009af9\" fill-rule=\"evenodd\" fill-opacity=\"1\" stroke=\"#000000\" stroke-opacity=\"1\" stroke-width=\"3.2\"/>\n",
       "<circle clip-path=\"url(#clip322)\" cx=\"1104.36\" cy=\"1039.81\" r=\"14\" fill=\"#009af9\" fill-rule=\"evenodd\" fill-opacity=\"1\" stroke=\"#000000\" stroke-opacity=\"1\" stroke-width=\"3.2\"/>\n",
       "<circle clip-path=\"url(#clip322)\" cx=\"1212.25\" cy=\"989.284\" r=\"14\" fill=\"#009af9\" fill-rule=\"evenodd\" fill-opacity=\"1\" stroke=\"#000000\" stroke-opacity=\"1\" stroke-width=\"3.2\"/>\n",
       "<circle clip-path=\"url(#clip322)\" cx=\"1320.15\" cy=\"533.196\" r=\"14\" fill=\"#009af9\" fill-rule=\"evenodd\" fill-opacity=\"1\" stroke=\"#000000\" stroke-opacity=\"1\" stroke-width=\"3.2\"/>\n",
       "<circle clip-path=\"url(#clip322)\" cx=\"1428.05\" cy=\"480.482\" r=\"14\" fill=\"#009af9\" fill-rule=\"evenodd\" fill-opacity=\"1\" stroke=\"#000000\" stroke-opacity=\"1\" stroke-width=\"3.2\"/>\n",
       "<circle clip-path=\"url(#clip322)\" cx=\"1535.95\" cy=\"235.164\" r=\"14\" fill=\"#009af9\" fill-rule=\"evenodd\" fill-opacity=\"1\" stroke=\"#000000\" stroke-opacity=\"1\" stroke-width=\"3.2\"/>\n",
       "<circle clip-path=\"url(#clip322)\" cx=\"1643.85\" cy=\"451.584\" r=\"14\" fill=\"#009af9\" fill-rule=\"evenodd\" fill-opacity=\"1\" stroke=\"#000000\" stroke-opacity=\"1\" stroke-width=\"3.2\"/>\n",
       "<circle clip-path=\"url(#clip322)\" cx=\"1751.75\" cy=\"87.9763\" r=\"14\" fill=\"#009af9\" fill-rule=\"evenodd\" fill-opacity=\"1\" stroke=\"#000000\" stroke-opacity=\"1\" stroke-width=\"3.2\"/>\n",
       "<circle clip-path=\"url(#clip322)\" cx=\"1859.65\" cy=\"558.689\" r=\"14\" fill=\"#009af9\" fill-rule=\"evenodd\" fill-opacity=\"1\" stroke=\"#000000\" stroke-opacity=\"1\" stroke-width=\"3.2\"/>\n",
       "<circle clip-path=\"url(#clip322)\" cx=\"1967.55\" cy=\"310.159\" r=\"14\" fill=\"#009af9\" fill-rule=\"evenodd\" fill-opacity=\"1\" stroke=\"#000000\" stroke-opacity=\"1\" stroke-width=\"3.2\"/>\n",
       "<circle clip-path=\"url(#clip322)\" cx=\"2075.45\" cy=\"183.373\" r=\"14\" fill=\"#009af9\" fill-rule=\"evenodd\" fill-opacity=\"1\" stroke=\"#000000\" stroke-opacity=\"1\" stroke-width=\"3.2\"/>\n",
       "<circle clip-path=\"url(#clip322)\" cx=\"2183.35\" cy=\"264.107\" r=\"14\" fill=\"#009af9\" fill-rule=\"evenodd\" fill-opacity=\"1\" stroke=\"#000000\" stroke-opacity=\"1\" stroke-width=\"3.2\"/>\n",
       "<circle clip-path=\"url(#clip322)\" cx=\"2291.25\" cy=\"732.662\" r=\"14\" fill=\"#009af9\" fill-rule=\"evenodd\" fill-opacity=\"1\" stroke=\"#000000\" stroke-opacity=\"1\" stroke-width=\"3.2\"/>\n",
       "<polyline clip-path=\"url(#clip322)\" style=\"stroke:#0000ff; stroke-width:4; stroke-opacity:1; fill:none\" stroke-dasharray=\"16, 10\" points=\"\n",
       "  241.157,737.844 246.295,746.542 251.433,755.237 256.571,763.929 261.709,772.613 266.847,781.289 271.985,789.955 277.123,798.607 282.261,807.244 287.399,815.865 \n",
       "  292.537,824.465 297.676,833.045 302.814,841.6 307.952,850.13 313.09,858.632 318.228,867.105 323.366,875.545 328.504,883.951 333.642,892.32 338.78,900.652 \n",
       "  343.918,908.943 349.056,917.191 354.194,925.396 359.333,933.553 364.471,941.662 369.609,949.721 374.747,957.727 379.885,965.678 385.023,973.573 390.161,981.41 \n",
       "  395.299,989.186 400.437,996.9 405.575,1004.55 410.713,1012.13 415.851,1019.65 420.99,1027.09 426.128,1034.47 431.266,1041.77 436.404,1048.99 441.542,1056.14 \n",
       "  446.68,1063.21 451.818,1070.2 456.956,1077.1 462.094,1083.93 467.232,1090.66 472.37,1097.31 477.509,1103.87 482.647,1110.34 487.785,1116.71 492.923,1122.99 \n",
       "  498.061,1129.18 503.199,1135.27 508.337,1141.26 513.475,1147.15 518.613,1152.94 523.751,1158.63 528.889,1164.21 534.027,1169.69 539.166,1175.06 544.304,1180.32 \n",
       "  549.442,1185.47 554.58,1190.51 559.718,1195.44 564.856,1200.25 569.994,1204.95 575.132,1209.54 580.27,1214 585.408,1218.35 590.546,1222.58 595.685,1226.69 \n",
       "  600.823,1230.68 605.961,1234.55 611.099,1238.29 616.237,1241.91 621.375,1245.4 626.513,1248.77 631.651,1252.01 636.789,1255.12 641.927,1258.11 647.065,1260.97 \n",
       "  652.203,1263.69 657.342,1266.29 662.48,1268.76 667.618,1271.09 672.756,1273.29 677.894,1275.36 683.032,1277.29 688.17,1279.1 693.308,1280.76 698.446,1282.3 \n",
       "  703.584,1283.69 708.722,1284.96 713.861,1286.08 718.999,1287.07 724.137,1287.93 729.275,1288.65 734.413,1289.23 739.551,1289.67 744.689,1289.98 749.827,1290.15 \n",
       "  754.965,1290.19 760.103,1290.09 765.241,1289.85 770.379,1289.47 775.518,1288.96 780.656,1288.31 785.794,1287.52 790.932,1286.6 796.07,1285.54 801.208,1284.34 \n",
       "  806.346,1283.01 811.484,1281.55 816.622,1279.95 821.76,1278.21 826.898,1276.34 832.036,1274.34 837.175,1272.21 842.313,1269.94 847.451,1267.54 852.589,1265.01 \n",
       "  857.727,1262.35 862.865,1259.55 868.003,1256.63 873.141,1253.58 878.279,1250.41 883.417,1247.1 888.555,1243.67 893.694,1240.11 898.832,1236.43 903.97,1232.63 \n",
       "  909.108,1228.7 914.246,1224.65 919.384,1220.48 924.522,1216.19 929.66,1211.78 934.798,1207.26 939.936,1202.62 945.074,1197.86 950.212,1192.99 955.351,1188 \n",
       "  960.489,1182.91 965.627,1177.7 970.765,1172.39 975.903,1166.96 981.041,1161.43 986.179,1155.8 991.317,1150.06 996.455,1144.22 1001.59,1138.28 1006.73,1132.24 \n",
       "  1011.87,1126.1 1017.01,1119.87 1022.15,1113.54 1027.28,1107.11 1032.42,1100.6 1037.56,1094 1042.7,1087.3 1047.84,1080.52 1052.97,1073.66 1058.11,1066.71 \n",
       "  1063.25,1059.69 1068.39,1052.58 1073.53,1045.39 1078.66,1038.13 1083.8,1030.79 1088.94,1023.38 1094.08,1015.9 1099.22,1008.35 1104.36,1000.73 1109.49,993.051 \n",
       "  1114.63,985.306 1119.77,977.499 1124.91,969.633 1130.05,961.71 1135.18,953.731 1140.32,945.698 1145.46,937.614 1150.6,929.48 1155.74,921.299 1160.87,913.073 \n",
       "  1166.01,904.802 1171.15,896.491 1176.29,888.14 1181.43,879.752 1186.56,871.329 1191.7,862.872 1196.84,854.385 1201.98,845.869 1207.12,837.326 1212.25,828.758 \n",
       "  1217.39,820.168 1222.53,811.557 1227.67,802.928 1232.81,794.283 1237.95,785.624 1243.08,776.953 1248.22,768.272 1253.36,759.584 1258.5,750.89 1263.64,742.193 \n",
       "  1268.77,733.495 1273.91,724.799 1279.05,716.105 1284.19,707.417 1289.33,698.736 1294.46,690.065 1299.6,681.406 1304.74,672.761 1309.88,664.132 1315.02,655.521 \n",
       "  1320.15,646.931 1325.29,638.363 1330.43,629.82 1335.57,621.304 1340.71,612.816 1345.85,604.36 1350.98,595.937 1356.12,587.549 1361.26,579.198 1366.4,570.886 \n",
       "  1371.54,562.616 1376.67,554.39 1381.81,546.208 1386.95,538.075 1392.09,529.991 1397.23,521.958 1402.36,513.979 1407.5,506.056 1412.64,498.19 1417.78,490.383 \n",
       "  1422.92,482.638 1428.05,474.956 1433.19,467.339 1438.33,459.789 1443.47,452.309 1448.61,444.899 1453.74,437.561 1458.88,430.299 1464.02,423.112 1469.16,416.004 \n",
       "  1474.3,408.975 1479.44,402.028 1484.57,395.164 1489.71,388.385 1494.85,381.693 1499.99,375.089 1505.13,368.575 1510.26,362.152 1515.4,355.823 1520.54,349.589 \n",
       "  1525.68,343.45 1530.82,337.41 1535.95,331.469 1541.09,325.628 1546.23,319.89 1551.37,314.256 1556.51,308.726 1561.64,303.303 1566.78,297.988 1571.92,292.782 \n",
       "  1577.06,287.686 1582.2,282.702 1587.34,277.83 1592.47,273.073 1597.61,268.431 1602.75,263.905 1607.89,259.497 1613.03,255.207 1618.16,251.038 1623.3,246.989 \n",
       "  1628.44,243.061 1633.58,239.256 1638.72,235.575 1643.85,232.019 1648.99,228.588 1654.13,225.283 1659.27,222.105 1664.41,219.055 1669.54,216.134 1674.68,213.342 \n",
       "  1679.82,210.681 1684.96,208.15 1690.1,205.75 1695.23,203.482 1700.37,201.347 1705.51,199.345 1710.65,197.476 1715.79,195.742 1720.93,194.141 1726.06,192.676 \n",
       "  1731.2,191.346 1736.34,190.151 1741.48,189.092 1746.62,188.169 1751.75,187.383 1756.89,186.733 1762.03,186.22 1767.17,185.843 1772.31,185.603 1777.44,185.501 \n",
       "  1782.58,185.535 1787.72,185.706 1792.86,186.014 1798,186.459 1803.13,187.041 1808.27,187.759 1813.41,188.614 1818.55,189.605 1823.69,190.732 1828.83,191.994 \n",
       "  1833.96,193.392 1839.1,194.925 1844.24,196.592 1849.38,198.394 1854.52,200.329 1859.65,202.398 1864.79,204.6 1869.93,206.933 1875.07,209.399 1880.21,211.995 \n",
       "  1885.34,214.722 1890.48,217.579 1895.62,220.564 1900.76,223.678 1905.9,226.92 1911.03,230.288 1916.17,233.781 1921.31,237.4 1926.45,241.143 1931.59,245.01 \n",
       "  1936.73,248.998 1941.86,253.108 1947,257.337 1952.14,261.686 1957.28,266.153 1962.42,270.737 1967.55,275.437 1972.69,280.252 1977.83,285.18 1982.97,290.22 \n",
       "  1988.11,295.371 1993.24,300.632 1998.38,306.001 2003.52,311.478 2008.66,317.06 2013.8,322.746 2018.93,328.536 2024.07,334.427 2029.21,340.418 2034.35,346.507 \n",
       "  2039.49,352.694 2044.62,358.976 2049.76,365.352 2054.9,371.82 2060.04,378.38 2065.18,385.028 2070.32,391.764 2075.45,398.585 2080.59,405.491 2085.73,412.479 \n",
       "  2090.87,419.548 2096.01,426.696 2101.14,433.921 2106.28,441.221 2111.42,448.595 2116.56,456.04 2121.7,463.556 2126.83,471.139 2131.97,478.789 2137.11,486.503 \n",
       "  2142.25,494.279 2147.39,502.115 2152.52,510.01 2157.66,517.962 2162.8,525.968 2167.94,534.026 2173.08,542.135 2178.22,550.293 2183.35,558.497 2188.49,566.746 \n",
       "  2193.63,575.037 2198.77,583.368 2203.91,591.738 2209.04,600.144 2214.18,608.584 2219.32,617.056 2224.46,625.558 2229.6,634.088 2234.73,642.644 2239.87,651.223 \n",
       "  2245.01,659.824 2250.15,668.444 2255.29,677.082 2260.42,685.734 2265.56,694.399 2270.7,703.075 2275.84,711.76 2280.98,720.451 2286.11,729.147 2291.25,737.844 \n",
       "  \n",
       "  \"/>\n",
       "<polyline clip-path=\"url(#clip322)\" style=\"stroke:#ff0000; stroke-width:8; stroke-opacity:1; fill:none\" points=\"\n",
       "  241.157,688.651 246.295,702.349 251.433,715.849 256.571,729.153 261.709,742.26 266.847,755.173 271.985,767.891 277.123,780.417 282.261,792.75 287.399,804.892 \n",
       "  292.537,816.844 297.676,828.606 302.814,840.181 307.952,851.568 313.09,862.768 318.228,873.784 323.366,884.615 328.504,895.263 333.642,905.728 338.78,916.012 \n",
       "  343.918,926.115 349.056,936.039 354.194,945.784 359.333,955.352 364.471,964.743 369.609,973.958 374.747,982.999 379.885,991.866 385.023,1000.56 390.161,1009.08 \n",
       "  395.299,1017.43 400.437,1025.62 405.575,1033.63 410.713,1041.48 415.851,1049.15 420.99,1056.67 426.128,1064.01 431.266,1071.2 436.404,1078.22 441.542,1085.08 \n",
       "  446.68,1091.77 451.818,1098.31 456.956,1104.69 462.094,1110.91 467.232,1116.97 472.37,1122.88 477.509,1128.63 482.647,1134.23 487.785,1139.67 492.923,1144.96 \n",
       "  498.061,1150.1 503.199,1155.09 508.337,1159.93 513.475,1164.62 518.613,1169.17 523.751,1173.57 528.889,1177.82 534.027,1181.93 539.166,1185.89 544.304,1189.71 \n",
       "  549.442,1193.39 554.58,1196.93 559.718,1200.33 564.856,1203.59 569.994,1206.71 575.132,1209.7 580.27,1212.55 585.408,1215.26 590.546,1217.84 595.685,1220.29 \n",
       "  600.823,1222.61 605.961,1224.79 611.099,1226.85 616.237,1228.77 621.375,1230.57 626.513,1232.24 631.651,1233.79 636.789,1235.21 641.927,1236.5 647.065,1237.68 \n",
       "  652.203,1238.73 657.342,1239.66 662.48,1240.46 667.618,1241.15 672.756,1241.72 677.894,1242.18 683.032,1242.51 688.17,1242.73 693.308,1242.84 698.446,1242.83 \n",
       "  703.584,1242.72 708.722,1242.48 713.861,1242.14 718.999,1241.69 724.137,1241.13 729.275,1240.46 734.413,1239.69 739.551,1238.81 744.689,1237.83 749.827,1236.74 \n",
       "  754.965,1235.55 760.103,1234.25 765.241,1232.86 770.379,1231.36 775.518,1229.77 780.656,1228.08 785.794,1226.29 790.932,1224.41 796.07,1222.43 801.208,1220.35 \n",
       "  806.346,1218.19 811.484,1215.93 816.622,1213.58 821.76,1211.14 826.898,1208.61 832.036,1205.99 837.175,1203.29 842.313,1200.49 847.451,1197.62 852.589,1194.66 \n",
       "  857.727,1191.61 862.865,1188.48 868.003,1185.27 873.141,1181.99 878.279,1178.62 883.417,1175.17 888.555,1171.64 893.694,1168.04 898.832,1164.36 903.97,1160.61 \n",
       "  909.108,1156.79 914.246,1152.89 919.384,1148.92 924.522,1144.88 929.66,1140.76 934.798,1136.58 939.936,1132.34 945.074,1128.02 950.212,1123.64 955.351,1119.19 \n",
       "  960.489,1114.68 965.627,1110.11 970.765,1105.48 975.903,1100.78 981.041,1096.02 986.179,1091.21 991.317,1086.33 996.455,1081.4 1001.59,1076.41 1006.73,1071.37 \n",
       "  1011.87,1066.28 1017.01,1061.12 1022.15,1055.92 1027.28,1050.67 1032.42,1045.36 1037.56,1040.01 1042.7,1034.61 1047.84,1029.16 1052.97,1023.66 1058.11,1018.12 \n",
       "  1063.25,1012.53 1068.39,1006.9 1073.53,1001.23 1078.66,995.51 1083.8,989.754 1088.94,983.958 1094.08,978.124 1099.22,972.251 1104.36,966.342 1109.49,960.397 \n",
       "  1114.63,954.417 1119.77,948.403 1124.91,942.356 1130.05,936.277 1135.18,930.167 1140.32,924.027 1145.46,917.857 1150.6,911.66 1155.74,905.435 1160.87,899.185 \n",
       "  1166.01,892.909 1171.15,886.608 1176.29,880.285 1181.43,873.939 1186.56,867.572 1191.7,861.184 1196.84,854.777 1201.98,848.352 1207.12,841.909 1212.25,835.449 \n",
       "  1217.39,828.975 1222.53,822.485 1227.67,815.982 1232.81,809.466 1237.95,802.939 1243.08,796.401 1248.22,789.853 1253.36,783.297 1258.5,776.733 1263.64,770.162 \n",
       "  1268.77,763.585 1273.91,757.003 1279.05,750.418 1284.19,743.83 1289.33,737.239 1294.46,730.648 1299.6,724.057 1304.74,717.466 1309.88,710.878 1315.02,704.292 \n",
       "  1320.15,697.711 1325.29,691.134 1330.43,684.563 1335.57,677.999 1340.71,671.442 1345.85,664.895 1350.98,658.357 1356.12,651.83 1361.26,645.314 1366.4,638.811 \n",
       "  1371.54,632.322 1376.67,625.847 1381.81,619.387 1386.95,612.945 1392.09,606.519 1397.23,600.112 1402.36,593.725 1407.5,587.358 1412.64,581.012 1417.78,574.688 \n",
       "  1422.92,568.388 1428.05,562.112 1433.19,555.862 1438.33,549.637 1443.47,543.44 1448.61,537.271 1453.74,531.13 1458.88,525.02 1464.02,518.942 1469.16,512.895 \n",
       "  1474.3,506.881 1479.44,500.901 1484.57,494.956 1489.71,489.047 1494.85,483.174 1499.99,477.34 1505.13,471.544 1510.26,465.789 1515.4,460.074 1520.54,454.4 \n",
       "  1525.68,448.77 1530.82,443.183 1535.95,437.641 1541.09,432.144 1546.23,426.694 1551.37,421.291 1556.51,415.937 1561.64,410.633 1566.78,405.379 1571.92,400.176 \n",
       "  1577.06,395.026 1582.2,389.929 1587.34,384.886 1592.47,379.899 1597.61,374.968 1602.75,370.094 1607.89,365.279 1613.03,360.522 1618.16,355.826 1623.3,351.191 \n",
       "  1628.44,346.619 1633.58,342.109 1638.72,337.663 1643.85,333.282 1648.99,328.967 1654.13,324.72 1659.27,320.54 1664.41,316.429 1669.54,312.388 1674.68,308.417 \n",
       "  1679.82,304.519 1684.96,300.693 1690.1,296.941 1695.23,293.264 1700.37,289.662 1705.51,286.138 1710.65,282.69 1715.79,279.322 1720.93,276.033 1726.06,272.824 \n",
       "  1731.2,269.697 1736.34,266.653 1741.48,263.691 1746.62,260.815 1751.75,258.024 1756.89,255.319 1762.03,252.701 1767.17,250.172 1772.31,247.732 1777.44,245.382 \n",
       "  1782.58,243.123 1787.72,240.957 1792.86,238.884 1798,236.905 1803.13,235.021 1808.27,233.233 1813.41,231.542 1818.55,229.949 1823.69,228.455 1828.83,227.061 \n",
       "  1833.96,225.768 1839.1,224.577 1844.24,223.489 1849.38,222.505 1854.52,221.625 1859.65,220.851 1864.79,220.184 1869.93,219.624 1875.07,219.174 1880.21,218.833 \n",
       "  1885.34,218.602 1890.48,218.483 1895.62,218.477 1900.76,218.584 1905.9,218.806 1911.03,219.143 1916.17,219.597 1921.31,220.168 1926.45,220.857 1931.59,221.666 \n",
       "  1936.73,222.595 1941.86,223.646 1947,224.818 1952.14,226.114 1957.28,227.534 1962.42,229.08 1967.55,230.751 1972.69,232.55 1977.83,234.476 1982.97,236.532 \n",
       "  1988.11,238.718 1993.24,241.035 1998.38,243.483 2003.52,246.065 2008.66,248.781 2013.8,251.631 2018.93,254.617 2024.07,257.74 2029.21,261.001 2034.35,264.401 \n",
       "  2039.49,267.94 2044.62,271.621 2049.76,275.442 2054.9,279.407 2060.04,283.515 2065.18,287.767 2070.32,292.166 2075.45,296.71 2080.59,301.403 2085.73,306.243 \n",
       "  2090.87,311.233 2096.01,316.374 2101.14,321.666 2106.28,327.11 2111.42,332.708 2116.56,338.459 2121.7,344.366 2126.83,350.43 2131.97,356.65 2137.11,363.029 \n",
       "  2142.25,369.567 2147.39,376.265 2152.52,383.124 2157.66,390.145 2162.8,397.329 2167.94,404.677 2173.08,412.19 2178.22,419.869 2183.35,427.715 2188.49,435.729 \n",
       "  2193.63,443.911 2198.77,452.264 2203.91,460.787 2209.04,469.482 2214.18,478.35 2219.32,487.391 2224.46,496.607 2229.6,505.999 2234.73,515.567 2239.87,525.313 \n",
       "  2245.01,535.237 2250.15,545.341 2255.29,555.626 2260.42,566.092 2265.56,576.74 2270.7,587.572 2275.84,598.588 2280.98,609.789 2286.11,621.177 2291.25,632.752 \n",
       "  \n",
       "  \"/>\n",
       "<path clip-path=\"url(#clip320)\" d=\"\n",
       "M252.09 337.138 L923.174 337.138 L923.174 95.2176 L252.09 95.2176  Z\n",
       "  \" fill=\"#ffffff\" fill-rule=\"evenodd\" fill-opacity=\"1\"/>\n",
       "<polyline clip-path=\"url(#clip320)\" style=\"stroke:#000000; stroke-width:4; stroke-opacity:1; fill:none\" points=\"\n",
       "  252.09,337.138 923.174,337.138 923.174,95.2176 252.09,95.2176 252.09,337.138 \n",
       "  \"/>\n",
       "<circle clip-path=\"url(#clip320)\" cx=\"348.673\" cy=\"155.698\" r=\"23\" fill=\"#009af9\" fill-rule=\"evenodd\" fill-opacity=\"1\" stroke=\"#000000\" stroke-opacity=\"1\" stroke-width=\"5.12\"/>\n",
       "<path clip-path=\"url(#clip320)\" d=\"M 0 0 M463.681 147.816 L463.681 151.843 Q461.875 150.917 459.931 150.455 Q457.986 149.992 455.903 149.992 Q452.732 149.992 451.135 150.964 Q449.561 151.936 449.561 153.88 Q449.561 155.362 450.695 156.218 Q451.829 157.052 455.255 157.816 L456.713 158.14 Q461.25 159.112 463.148 160.894 Q465.07 162.654 465.07 165.825 Q465.07 169.436 462.199 171.542 Q459.352 173.649 454.352 173.649 Q452.269 173.649 450 173.232 Q447.755 172.839 445.255 172.028 L445.255 167.63 Q447.616 168.857 449.908 169.482 Q452.199 170.084 454.445 170.084 Q457.454 170.084 459.074 169.066 Q460.695 168.024 460.695 166.149 Q460.695 164.413 459.514 163.487 Q458.357 162.561 454.399 161.704 L452.917 161.357 Q448.959 160.524 447.199 158.811 Q445.44 157.075 445.44 154.066 Q445.44 150.408 448.033 148.418 Q450.625 146.427 455.394 146.427 Q457.755 146.427 459.838 146.774 Q461.922 147.121 463.681 147.816 Z\" fill=\"#000000\" fill-rule=\"evenodd\" fill-opacity=\"1\" /><path clip-path=\"url(#clip320)\" d=\"M 0 0 M481.32 159.945 Q476.158 159.945 474.167 161.126 Q472.176 162.306 472.176 165.154 Q472.176 167.422 473.658 168.765 Q475.162 170.084 477.732 170.084 Q481.273 170.084 483.403 167.584 Q485.556 165.061 485.556 160.894 L485.556 159.945 L481.32 159.945 M489.815 158.186 L489.815 172.978 L485.556 172.978 L485.556 169.042 Q484.097 171.403 481.922 172.538 Q479.746 173.649 476.597 173.649 Q472.616 173.649 470.255 171.427 Q467.917 169.181 467.917 165.431 Q467.917 161.056 470.834 158.834 Q473.773 156.612 479.584 156.612 L485.556 156.612 L485.556 156.195 Q485.556 153.255 483.611 151.658 Q481.69 150.038 478.195 150.038 Q475.972 150.038 473.866 150.57 Q471.76 151.103 469.815 152.167 L469.815 148.232 Q472.153 147.33 474.352 146.89 Q476.551 146.427 478.635 146.427 Q484.259 146.427 487.037 149.343 Q489.815 152.26 489.815 158.186 Z\" fill=\"#000000\" fill-rule=\"evenodd\" fill-opacity=\"1\" /><path clip-path=\"url(#clip320)\" d=\"M 0 0 M514.468 152.029 Q516.065 149.158 518.287 147.793 Q520.509 146.427 523.519 146.427 Q527.569 146.427 529.768 149.274 Q531.968 152.098 531.968 157.329 L531.968 172.978 L527.685 172.978 L527.685 157.468 Q527.685 153.742 526.366 151.936 Q525.046 150.13 522.338 150.13 Q519.028 150.13 517.107 152.33 Q515.185 154.529 515.185 158.325 L515.185 172.978 L510.903 172.978 L510.903 157.468 Q510.903 153.718 509.583 151.936 Q508.264 150.13 505.509 150.13 Q502.245 150.13 500.324 152.353 Q498.403 154.552 498.403 158.325 L498.403 172.978 L494.121 172.978 L494.121 147.052 L498.403 147.052 L498.403 151.08 Q499.861 148.695 501.898 147.561 Q503.935 146.427 506.736 146.427 Q509.56 146.427 511.528 147.862 Q513.519 149.297 514.468 152.029 Z\" fill=\"#000000\" fill-rule=\"evenodd\" fill-opacity=\"1\" /><path clip-path=\"url(#clip320)\" d=\"M 0 0 M540.555 169.089 L540.555 182.839 L536.273 182.839 L536.273 147.052 L540.555 147.052 L540.555 150.987 Q541.898 148.672 543.935 147.561 Q545.995 146.427 548.842 146.427 Q553.565 146.427 556.504 150.177 Q559.467 153.927 559.467 160.038 Q559.467 166.149 556.504 169.899 Q553.565 173.649 548.842 173.649 Q545.995 173.649 543.935 172.538 Q541.898 171.403 540.555 169.089 M555.046 160.038 Q555.046 155.339 553.102 152.677 Q551.18 149.992 547.801 149.992 Q544.421 149.992 542.477 152.677 Q540.555 155.339 540.555 160.038 Q540.555 164.737 542.477 167.422 Q544.421 170.084 547.801 170.084 Q551.18 170.084 553.102 167.422 Q555.046 164.737 555.046 160.038 Z\" fill=\"#000000\" fill-rule=\"evenodd\" fill-opacity=\"1\" /><path clip-path=\"url(#clip320)\" d=\"M 0 0 M563.935 136.959 L568.194 136.959 L568.194 172.978 L563.935 172.978 L563.935 136.959 Z\" fill=\"#000000\" fill-rule=\"evenodd\" fill-opacity=\"1\" /><path clip-path=\"url(#clip320)\" d=\"M 0 0 M594.838 158.95 L594.838 161.033 L575.254 161.033 Q575.532 165.431 577.893 167.746 Q580.277 170.038 584.514 170.038 Q586.967 170.038 589.259 169.436 Q591.574 168.834 593.842 167.63 L593.842 171.658 Q591.551 172.63 589.143 173.14 Q586.736 173.649 584.259 173.649 Q578.055 173.649 574.421 170.038 Q570.81 166.427 570.81 160.269 Q570.81 153.904 574.236 150.177 Q577.685 146.427 583.518 146.427 Q588.75 146.427 591.782 149.806 Q594.838 153.163 594.838 158.95 M590.578 157.7 Q590.532 154.205 588.611 152.121 Q586.713 150.038 583.564 150.038 Q580 150.038 577.847 152.052 Q575.717 154.066 575.393 157.723 L590.578 157.7 Z\" fill=\"#000000\" fill-rule=\"evenodd\" fill-opacity=\"1\" /><polyline clip-path=\"url(#clip320)\" style=\"stroke:#0000ff; stroke-width:4; stroke-opacity:1; fill:none\" stroke-dasharray=\"16, 10\" points=\"\n",
       "  276.236,216.178 421.109,216.178 \n",
       "  \"/>\n",
       "<path clip-path=\"url(#clip320)\" d=\"M 0 0 M463.681 208.296 L463.681 212.323 Q461.875 211.397 459.931 210.935 Q457.986 210.472 455.903 210.472 Q452.732 210.472 451.135 211.444 Q449.561 212.416 449.561 214.36 Q449.561 215.842 450.695 216.698 Q451.829 217.532 455.255 218.296 L456.713 218.62 Q461.25 219.592 463.148 221.374 Q465.07 223.134 465.07 226.305 Q465.07 229.916 462.199 232.022 Q459.352 234.129 454.352 234.129 Q452.269 234.129 450 233.712 Q447.755 233.319 445.255 232.508 L445.255 228.11 Q447.616 229.337 449.908 229.962 Q452.199 230.564 454.445 230.564 Q457.454 230.564 459.074 229.546 Q460.695 228.504 460.695 226.629 Q460.695 224.893 459.514 223.967 Q458.357 223.041 454.399 222.184 L452.917 221.837 Q448.959 221.004 447.199 219.291 Q445.44 217.555 445.44 214.546 Q445.44 210.888 448.033 208.898 Q450.625 206.907 455.394 206.907 Q457.755 206.907 459.838 207.254 Q461.922 207.601 463.681 208.296 Z\" fill=\"#000000\" fill-rule=\"evenodd\" fill-opacity=\"1\" /><path clip-path=\"url(#clip320)\" d=\"M 0 0 M469.537 207.532 L473.797 207.532 L473.797 233.458 L469.537 233.458 L469.537 207.532 M469.537 197.439 L473.797 197.439 L473.797 202.833 L469.537 202.833 L469.537 197.439 Z\" fill=\"#000000\" fill-rule=\"evenodd\" fill-opacity=\"1\" /><path clip-path=\"url(#clip320)\" d=\"M 0 0 M499.815 217.809 L499.815 233.458 L495.556 233.458 L495.556 217.948 Q495.556 214.268 494.121 212.439 Q492.685 210.61 489.815 210.61 Q486.366 210.61 484.375 212.81 Q482.384 215.009 482.384 218.805 L482.384 233.458 L478.102 233.458 L478.102 207.532 L482.384 207.532 L482.384 211.56 Q483.912 209.222 485.972 208.064 Q488.056 206.907 490.764 206.907 Q495.232 206.907 497.523 209.685 Q499.815 212.439 499.815 217.809 Z\" fill=\"#000000\" fill-rule=\"evenodd\" fill-opacity=\"1\" /><path clip-path=\"url(#clip320)\" d=\"M 0 0 M514.514 197.486 Q511.412 202.81 509.907 208.018 Q508.403 213.226 508.403 218.573 Q508.403 223.921 509.907 229.175 Q511.435 234.407 514.514 239.708 L510.81 239.708 Q507.338 234.268 505.602 229.013 Q503.889 223.759 503.889 218.573 Q503.889 213.411 505.602 208.18 Q507.315 202.948 510.81 197.486 L514.514 197.486 Z\" fill=\"#000000\" fill-rule=\"evenodd\" fill-opacity=\"1\" /><path clip-path=\"url(#clip320)\" d=\"M 0 0 M540.532 207.532 L531.157 220.147 L541.018 233.458 L535.995 233.458 L528.449 223.272 L520.903 233.458 L515.88 233.458 L525.949 219.893 L516.736 207.532 L521.759 207.532 L528.634 216.768 L535.509 207.532 L540.532 207.532 Z\" fill=\"#000000\" fill-rule=\"evenodd\" fill-opacity=\"1\" /><path clip-path=\"url(#clip320)\" d=\"M 0 0 M544.815 197.486 L548.518 197.486 Q551.991 202.948 553.704 208.18 Q555.44 213.411 555.44 218.573 Q555.44 223.759 553.704 229.013 Q551.991 234.268 548.518 239.708 L544.815 239.708 Q547.893 234.407 549.398 229.175 Q550.926 223.921 550.926 218.573 Q550.926 213.226 549.398 208.018 Q547.893 202.81 544.815 197.486 Z\" fill=\"#000000\" fill-rule=\"evenodd\" fill-opacity=\"1\" /><polyline clip-path=\"url(#clip320)\" style=\"stroke:#ff0000; stroke-width:4; stroke-opacity:1; fill:none\" points=\"\n",
       "  276.236,276.658 421.109,276.658 \n",
       "  \"/>\n",
       "<path clip-path=\"url(#clip320)\" d=\"M 0 0 M464.167 271.947 L464.167 257.919 L468.426 257.919 L468.426 293.938 L464.167 293.938 L464.167 290.049 Q462.824 292.363 460.764 293.498 Q458.727 294.609 455.857 294.609 Q451.158 294.609 448.195 290.859 Q445.255 287.109 445.255 280.998 Q445.255 274.887 448.195 271.137 Q451.158 267.387 455.857 267.387 Q458.727 267.387 460.764 268.521 Q462.824 269.632 464.167 271.947 M449.653 280.998 Q449.653 285.697 451.574 288.382 Q453.519 291.044 456.899 291.044 Q460.278 291.044 462.223 288.382 Q464.167 285.697 464.167 280.998 Q464.167 276.299 462.223 273.637 Q460.278 270.952 456.899 270.952 Q453.519 270.952 451.574 273.637 Q449.653 276.299 449.653 280.998 Z\" fill=\"#000000\" fill-rule=\"evenodd\" fill-opacity=\"1\" /><path clip-path=\"url(#clip320)\" d=\"M 0 0 M495.07 279.91 L495.07 281.993 L475.486 281.993 Q475.764 286.391 478.125 288.706 Q480.509 290.998 484.746 290.998 Q487.199 290.998 489.491 290.396 Q491.806 289.794 494.074 288.59 L494.074 292.618 Q491.783 293.59 489.375 294.1 Q486.968 294.609 484.491 294.609 Q478.287 294.609 474.653 290.998 Q471.042 287.387 471.042 281.229 Q471.042 274.864 474.468 271.137 Q477.917 267.387 483.75 267.387 Q488.982 267.387 492.014 270.766 Q495.07 274.123 495.07 279.91 M490.81 278.66 Q490.764 275.165 488.843 273.081 Q486.945 270.998 483.797 270.998 Q480.232 270.998 478.079 273.012 Q475.949 275.026 475.625 278.683 L490.81 278.66 Z\" fill=\"#000000\" fill-rule=\"evenodd\" fill-opacity=\"1\" /><path clip-path=\"url(#clip320)\" d=\"M 0 0 M516.597 280.674 Q516.597 276.044 514.676 273.498 Q512.778 270.952 509.329 270.952 Q505.903 270.952 503.982 273.498 Q502.083 276.044 502.083 280.674 Q502.083 285.28 503.982 287.826 Q505.903 290.373 509.329 290.373 Q512.778 290.373 514.676 287.826 Q516.597 285.28 516.597 280.674 M520.856 290.72 Q520.856 297.34 517.917 300.558 Q514.977 303.799 508.912 303.799 Q506.667 303.799 504.676 303.451 Q502.685 303.127 500.81 302.433 L500.81 298.289 Q502.685 299.308 504.514 299.794 Q506.343 300.28 508.241 300.28 Q512.431 300.28 514.514 298.081 Q516.597 295.905 516.597 291.484 L516.597 289.377 Q515.278 291.669 513.218 292.803 Q511.157 293.938 508.287 293.938 Q503.519 293.938 500.602 290.303 Q497.685 286.669 497.685 280.674 Q497.685 274.655 500.602 271.021 Q503.519 267.387 508.287 267.387 Q511.157 267.387 513.218 268.521 Q515.278 269.655 516.597 271.947 L516.597 268.012 L520.856 268.012 L520.856 290.72 Z\" fill=\"#000000\" fill-rule=\"evenodd\" fill-opacity=\"1\" /><path clip-path=\"url(#clip320)\" d=\"M 0 0 M540.347 271.993 Q539.63 271.577 538.773 271.391 Q537.94 271.183 536.921 271.183 Q533.31 271.183 531.366 273.544 Q529.444 275.882 529.444 280.28 L529.444 293.938 L525.162 293.938 L525.162 268.012 L529.444 268.012 L529.444 272.04 Q530.787 269.678 532.94 268.544 Q535.093 267.387 538.171 267.387 Q538.611 267.387 539.143 267.456 Q539.676 267.503 540.324 267.618 L540.347 271.993 Z\" fill=\"#000000\" fill-rule=\"evenodd\" fill-opacity=\"1\" /><path clip-path=\"url(#clip320)\" d=\"M 0 0 M565.949 279.91 L565.949 281.993 L546.366 281.993 Q546.643 286.391 549.004 288.706 Q551.389 290.998 555.625 290.998 Q558.079 290.998 560.37 290.396 Q562.685 289.794 564.953 288.59 L564.953 292.618 Q562.662 293.59 560.254 294.1 Q557.847 294.609 555.37 294.609 Q549.167 294.609 545.532 290.998 Q541.921 287.387 541.921 281.229 Q541.921 274.864 545.347 271.137 Q548.796 267.387 554.629 267.387 Q559.861 267.387 562.893 270.766 Q565.949 274.123 565.949 279.91 M561.69 278.66 Q561.643 275.165 559.722 273.081 Q557.824 270.998 554.676 270.998 Q551.111 270.998 548.958 273.012 Q546.829 275.026 546.505 278.683 L561.69 278.66 Z\" fill=\"#000000\" fill-rule=\"evenodd\" fill-opacity=\"1\" /><path clip-path=\"url(#clip320)\" d=\"M 0 0 M592.592 279.91 L592.592 281.993 L573.009 281.993 Q573.287 286.391 575.648 288.706 Q578.032 290.998 582.268 290.998 Q584.722 290.998 587.014 290.396 Q589.328 289.794 591.597 288.59 L591.597 292.618 Q589.305 293.59 586.898 294.1 Q584.49 294.609 582.014 294.609 Q575.81 294.609 572.176 290.998 Q568.565 287.387 568.565 281.229 Q568.565 274.864 571.99 271.137 Q575.44 267.387 581.273 267.387 Q586.504 267.387 589.537 270.766 Q592.592 274.123 592.592 279.91 M588.333 278.66 Q588.287 275.165 586.365 273.081 Q584.467 270.998 581.319 270.998 Q577.754 270.998 575.602 273.012 Q573.472 275.026 573.148 278.683 L588.333 278.66 Z\" fill=\"#000000\" fill-rule=\"evenodd\" fill-opacity=\"1\" /><path clip-path=\"url(#clip320)\" d=\"M 0 0 M594.907 279.053 L607.384 279.053 L607.384 282.85 L594.907 282.85 L594.907 279.053 Z\" fill=\"#000000\" fill-rule=\"evenodd\" fill-opacity=\"1\" /><path clip-path=\"url(#clip320)\" d=\"M 0 0 M626.62 275.303 Q629.976 276.021 631.851 278.289 Q633.749 280.558 633.749 283.891 Q633.749 289.007 630.231 291.808 Q626.712 294.609 620.231 294.609 Q618.055 294.609 615.74 294.169 Q613.449 293.752 610.995 292.896 L610.995 288.382 Q612.939 289.516 615.254 290.095 Q617.569 290.674 620.092 290.674 Q624.49 290.674 626.782 288.938 Q629.097 287.201 629.097 283.891 Q629.097 280.836 626.944 279.123 Q624.814 277.387 620.995 277.387 L616.967 277.387 L616.967 273.544 L621.18 273.544 Q624.629 273.544 626.458 272.178 Q628.286 270.79 628.286 268.197 Q628.286 265.535 626.388 264.123 Q624.513 262.688 620.995 262.688 Q619.074 262.688 616.875 263.104 Q614.675 263.521 612.037 264.401 L612.037 260.234 Q614.699 259.493 617.013 259.123 Q619.351 258.753 621.412 258.753 Q626.736 258.753 629.837 261.183 Q632.939 263.59 632.939 267.711 Q632.939 270.581 631.296 272.572 Q629.652 274.54 626.62 275.303 Z\" fill=\"#000000\" fill-rule=\"evenodd\" fill-opacity=\"1\" /><path clip-path=\"url(#clip320)\" d=\"M 0 0 M657.407 290.049 L657.407 303.799 L653.124 303.799 L653.124 268.012 L657.407 268.012 L657.407 271.947 Q658.749 269.632 660.786 268.521 Q662.846 267.387 665.694 267.387 Q670.416 267.387 673.356 271.137 Q676.319 274.887 676.319 280.998 Q676.319 287.109 673.356 290.859 Q670.416 294.609 665.694 294.609 Q662.846 294.609 660.786 293.498 Q658.749 292.363 657.407 290.049 M671.897 280.998 Q671.897 276.299 669.953 273.637 Q668.032 270.952 664.652 270.952 Q661.272 270.952 659.328 273.637 Q657.407 276.299 657.407 280.998 Q657.407 285.697 659.328 288.382 Q661.272 291.044 664.652 291.044 Q668.032 291.044 669.953 288.382 Q671.897 285.697 671.897 280.998 Z\" fill=\"#000000\" fill-rule=\"evenodd\" fill-opacity=\"1\" /><path clip-path=\"url(#clip320)\" d=\"M 0 0 M690.832 270.998 Q687.407 270.998 685.416 273.683 Q683.425 276.345 683.425 280.998 Q683.425 285.651 685.393 288.336 Q687.383 290.998 690.832 290.998 Q694.235 290.998 696.226 288.313 Q698.217 285.627 698.217 280.998 Q698.217 276.391 696.226 273.706 Q694.235 270.998 690.832 270.998 M690.832 267.387 Q696.388 267.387 699.559 270.998 Q702.731 274.609 702.731 280.998 Q702.731 287.364 699.559 290.998 Q696.388 294.609 690.832 294.609 Q685.254 294.609 682.082 290.998 Q678.934 287.364 678.934 280.998 Q678.934 274.609 682.082 270.998 Q685.254 267.387 690.832 267.387 Z\" fill=\"#000000\" fill-rule=\"evenodd\" fill-opacity=\"1\" /><path clip-path=\"url(#clip320)\" d=\"M 0 0 M707.198 257.919 L711.457 257.919 L711.457 293.938 L707.198 293.938 L707.198 257.919 Z\" fill=\"#000000\" fill-rule=\"evenodd\" fill-opacity=\"1\" /><path clip-path=\"url(#clip320)\" d=\"M 0 0 M726.712 296.345 Q724.906 300.975 723.193 302.387 Q721.48 303.799 718.61 303.799 L715.207 303.799 L715.207 300.234 L717.707 300.234 Q719.467 300.234 720.439 299.4 Q721.411 298.567 722.592 295.465 L723.355 293.521 L712.869 268.012 L717.383 268.012 L725.485 288.289 L733.587 268.012 L738.101 268.012 L726.712 296.345 Z\" fill=\"#000000\" fill-rule=\"evenodd\" fill-opacity=\"1\" /><path clip-path=\"url(#clip320)\" d=\"M 0 0 M764.119 278.289 L764.119 293.938 L759.86 293.938 L759.86 278.428 Q759.86 274.748 758.425 272.919 Q756.989 271.09 754.119 271.09 Q750.67 271.09 748.679 273.29 Q746.689 275.489 746.689 279.285 L746.689 293.938 L742.406 293.938 L742.406 268.012 L746.689 268.012 L746.689 272.04 Q748.216 269.702 750.277 268.544 Q752.36 267.387 755.068 267.387 Q759.536 267.387 761.827 270.165 Q764.119 272.919 764.119 278.289 Z\" fill=\"#000000\" fill-rule=\"evenodd\" fill-opacity=\"1\" /><path clip-path=\"url(#clip320)\" d=\"M 0 0 M778.633 270.998 Q775.207 270.998 773.216 273.683 Q771.226 276.345 771.226 280.998 Q771.226 285.651 773.193 288.336 Q775.184 290.998 778.633 290.998 Q782.036 290.998 784.026 288.313 Q786.017 285.627 786.017 280.998 Q786.017 276.391 784.026 273.706 Q782.036 270.998 778.633 270.998 M778.633 267.387 Q784.188 267.387 787.36 270.998 Q790.531 274.609 790.531 280.998 Q790.531 287.364 787.36 290.998 Q784.188 294.609 778.633 294.609 Q773.054 294.609 769.883 290.998 Q766.735 287.364 766.735 280.998 Q766.735 274.609 769.883 270.998 Q773.054 267.387 778.633 267.387 Z\" fill=\"#000000\" fill-rule=\"evenodd\" fill-opacity=\"1\" /><path clip-path=\"url(#clip320)\" d=\"M 0 0 M815.184 272.989 Q816.781 270.118 819.003 268.753 Q821.225 267.387 824.235 267.387 Q828.285 267.387 830.484 270.234 Q832.684 273.058 832.684 278.289 L832.684 293.938 L828.401 293.938 L828.401 278.428 Q828.401 274.702 827.082 272.896 Q825.762 271.09 823.054 271.09 Q819.744 271.09 817.822 273.29 Q815.901 275.489 815.901 279.285 L815.901 293.938 L811.619 293.938 L811.619 278.428 Q811.619 274.678 810.299 272.896 Q808.98 271.09 806.225 271.09 Q802.961 271.09 801.04 273.313 Q799.119 275.512 799.119 279.285 L799.119 293.938 L794.837 293.938 L794.837 268.012 L799.119 268.012 L799.119 272.04 Q800.577 269.655 802.614 268.521 Q804.651 267.387 807.452 267.387 Q810.276 267.387 812.244 268.822 Q814.235 270.257 815.184 272.989 Z\" fill=\"#000000\" fill-rule=\"evenodd\" fill-opacity=\"1\" /><path clip-path=\"url(#clip320)\" d=\"M 0 0 M837.151 268.012 L841.41 268.012 L841.41 293.938 L837.151 293.938 L837.151 268.012 M837.151 257.919 L841.41 257.919 L841.41 263.313 L837.151 263.313 L837.151 257.919 Z\" fill=\"#000000\" fill-rule=\"evenodd\" fill-opacity=\"1\" /><path clip-path=\"url(#clip320)\" d=\"M 0 0 M857.66 280.905 Q852.498 280.905 850.508 282.086 Q848.517 283.266 848.517 286.114 Q848.517 288.382 849.998 289.725 Q851.503 291.044 854.072 291.044 Q857.614 291.044 859.744 288.544 Q861.896 286.021 861.896 281.854 L861.896 280.905 L857.66 280.905 M866.156 279.146 L866.156 293.938 L861.896 293.938 L861.896 290.002 Q860.438 292.363 858.262 293.498 Q856.086 294.609 852.938 294.609 Q848.957 294.609 846.595 292.387 Q844.258 290.141 844.258 286.391 Q844.258 282.016 847.174 279.794 Q850.114 277.572 855.924 277.572 L861.896 277.572 L861.896 277.155 Q861.896 274.215 859.952 272.618 Q858.031 270.998 854.535 270.998 Q852.313 270.998 850.207 271.53 Q848.1 272.063 846.156 273.127 L846.156 269.192 Q848.494 268.29 850.693 267.85 Q852.892 267.387 854.975 267.387 Q860.6 267.387 863.378 270.303 Q866.156 273.22 866.156 279.146 Z\" fill=\"#000000\" fill-rule=\"evenodd\" fill-opacity=\"1\" /><path clip-path=\"url(#clip320)\" d=\"M 0 0 M870.623 257.919 L874.882 257.919 L874.882 293.938 L870.623 293.938 L870.623 257.919 Z\" fill=\"#000000\" fill-rule=\"evenodd\" fill-opacity=\"1\" /></svg>\n"
      ]
     },
     "execution_count": 17,
     "metadata": {},
     "output_type": "execute_result"
    }
   ],
   "source": [
    "begin\n",
    "    using Plots\n",
    "    n = 20\n",
    "    x = range(-π, π; length=20)\n",
    "    noise = 0.3randn(n)\n",
    "    y = sin.(x) + noise\n",
    "    X = hcat((x.^k for k in 0:3)...)\n",
    "    b = X\\y\n",
    "    f(x) = sum(b[k+1]*x^k for k in 0:3)\n",
    "    xs = range(-π, π; length=400)\n",
    "    plot(; legend=:topleft)\n",
    "    scatter!(x, y; label=\"sample\")\n",
    "    plot!(xs, sin.(xs); label=\"sin(x)\", color=:blue, ls=:dash)\n",
    "    plot!(xs, f.(xs); label=\"degree-3 polynomial\", color=:red, lw=2)\n",
    "end"
   ]
  },
  {
   "cell_type": "code",
   "execution_count": 18,
   "metadata": {},
   "outputs": [
    {
     "name": "stdout",
     "output_type": "stream",
     "text": [
      "(:block, \n",
      "    (:using, \n",
      "        (:., :Plots)), \n",
      "    (:(=), :n, 20), \n",
      "    (:(=), :x, \n",
      "        (:call, :range, \n",
      "            (:parameters, \n",
      "                (:kw, :length, 20)), \n",
      "            (:call, :-, :π), :π)), \n",
      "    (:(=), :noise, \n",
      "        (:call, :*, 0.3, \n",
      "            (:call, :randn, :n))), \n",
      "    (:(=), :y, \n",
      "        (:call, :+, \n",
      "            (:., :sin, \n",
      "                (:tuple, :x)), :noise)), \n",
      "    (:(=), :X, \n",
      "        (:call, :hcat, \n",
      "            (:..., \n",
      "                (:generator, \n",
      "                    (:call, :.^, :x, :k), \n",
      "                    (:(=), :k, \n",
      "                        (:call, :(:), 0, 3)))))), \n",
      "    (:(=), :b, \n",
      "        (:call, :\\, :X, :y)), \n",
      "    (:(=), \n",
      "        (:call, :f, :x), \n",
      "        (:block, \n",
      "            (:call, :sum, \n",
      "                (:generator, \n",
      "                    (:call, :*, \n",
      "                        (:ref, :b, \n",
      "                            (:call, :+, :k, 1)), \n",
      "                        (:call, :^, :x, :k)), \n",
      "                    (:(=), :k, \n",
      "                        (:call, :(:), 0, 3)))))), \n",
      "    (:(=), :xs, \n",
      "        (:call, :range, \n",
      "            (:parameters, \n",
      "                (:kw, :length, 400)), \n",
      "            (:call, :-, :π), :π)), \n",
      "    (:call, :plot, \n",
      "        (:parameters, \n",
      "            (:kw, :legend, QuoteNode(:topleft)))), \n",
      "    (:call, :scatter!, \n",
      "        (:parameters, \n",
      "            (:kw, :label, \"sample\")), :x, :y), \n",
      "    (:call, :plot!, \n",
      "        (:parameters, \n",
      "            (:kw, :label, \"sin(x)\"), \n",
      "            (:kw, :color, QuoteNode(:blue)), \n",
      "            (:kw, :ls, QuoteNode(:dash))), :xs, \n",
      "        (:., :sin, \n",
      "            (:tuple, :xs))), \n",
      "    (:call, :plot!, \n",
      "        (:parameters, \n",
      "            (:kw, :label, \"degree-3 polynomial\"), \n",
      "            (:kw, :color, QuoteNode(:red)), \n",
      "            (:kw, :lw, 2)), :xs, \n",
      "        (:., :f, \n",
      "            (:tuple, :xs))))"
     ]
    }
   ],
   "source": [
    "@show_texpr begin\n",
    "    using Plots\n",
    "    n = 20\n",
    "    x = range(-π, π; length=20)\n",
    "    noise = 0.3randn(n)\n",
    "    y = sin.(x) + noise\n",
    "    X = hcat((x.^k for k in 0:3)...)\n",
    "    b = X\\y\n",
    "    f(x) = sum(b[k+1]*x^k for k in 0:3)\n",
    "    xs = range(-π, π; length=400)\n",
    "    plot(; legend=:topleft)\n",
    "    scatter!(x, y; label=\"sample\")\n",
    "    plot!(xs, sin.(xs); label=\"sin(x)\", color=:blue, ls=:dash)\n",
    "    plot!(xs, f.(xs); label=\"degree-3 polynomial\", color=:red, lw=2)\n",
    "end"
   ]
  },
  {
   "cell_type": "code",
   "execution_count": 19,
   "metadata": {},
   "outputs": [
    {
     "data": {
      "image/svg+xml": [
       "<?xml version=\"1.0\" encoding=\"utf-8\"?>\n",
       "<svg xmlns=\"http://www.w3.org/2000/svg\" xmlns:xlink=\"http://www.w3.org/1999/xlink\" width=\"600\" height=\"400\" viewBox=\"0 0 2400 1600\">\n",
       "<defs>\n",
       "  <clipPath id=\"clip360\">\n",
       "    <rect x=\"0\" y=\"0\" width=\"2400\" height=\"1600\"/>\n",
       "  </clipPath>\n",
       "</defs>\n",
       "<path clip-path=\"url(#clip360)\" d=\"\n",
       "M0 1600 L2400 1600 L2400 0 L0 0  Z\n",
       "  \" fill=\"#ffffff\" fill-rule=\"evenodd\" fill-opacity=\"1\"/>\n",
       "<defs>\n",
       "  <clipPath id=\"clip361\">\n",
       "    <rect x=\"480\" y=\"0\" width=\"1681\" height=\"1600\"/>\n",
       "  </clipPath>\n",
       "</defs>\n",
       "<path clip-path=\"url(#clip360)\" d=\"\n",
       "M179.654 1486.45 L2352.76 1486.45 L2352.76 47.2441 L179.654 47.2441  Z\n",
       "  \" fill=\"#ffffff\" fill-rule=\"evenodd\" fill-opacity=\"1\"/>\n",
       "<defs>\n",
       "  <clipPath id=\"clip362\">\n",
       "    <rect x=\"179\" y=\"47\" width=\"2174\" height=\"1440\"/>\n",
       "  </clipPath>\n",
       "</defs>\n",
       "<polyline clip-path=\"url(#clip362)\" style=\"stroke:#000000; stroke-width:2; stroke-opacity:0.1; fill:none\" points=\"\n",
       "  287.356,1486.45 287.356,47.2441 \n",
       "  \"/>\n",
       "<polyline clip-path=\"url(#clip362)\" style=\"stroke:#000000; stroke-width:2; stroke-opacity:0.1; fill:none\" points=\"\n",
       "  613.639,1486.45 613.639,47.2441 \n",
       "  \"/>\n",
       "<polyline clip-path=\"url(#clip362)\" style=\"stroke:#000000; stroke-width:2; stroke-opacity:0.1; fill:none\" points=\"\n",
       "  939.922,1486.45 939.922,47.2441 \n",
       "  \"/>\n",
       "<polyline clip-path=\"url(#clip362)\" style=\"stroke:#000000; stroke-width:2; stroke-opacity:0.1; fill:none\" points=\"\n",
       "  1266.2,1486.45 1266.2,47.2441 \n",
       "  \"/>\n",
       "<polyline clip-path=\"url(#clip362)\" style=\"stroke:#000000; stroke-width:2; stroke-opacity:0.1; fill:none\" points=\"\n",
       "  1592.49,1486.45 1592.49,47.2441 \n",
       "  \"/>\n",
       "<polyline clip-path=\"url(#clip362)\" style=\"stroke:#000000; stroke-width:2; stroke-opacity:0.1; fill:none\" points=\"\n",
       "  1918.77,1486.45 1918.77,47.2441 \n",
       "  \"/>\n",
       "<polyline clip-path=\"url(#clip362)\" style=\"stroke:#000000; stroke-width:2; stroke-opacity:0.1; fill:none\" points=\"\n",
       "  2245.05,1486.45 2245.05,47.2441 \n",
       "  \"/>\n",
       "<polyline clip-path=\"url(#clip360)\" style=\"stroke:#000000; stroke-width:4; stroke-opacity:1; fill:none\" points=\"\n",
       "  179.654,1486.45 2352.76,1486.45 \n",
       "  \"/>\n",
       "<polyline clip-path=\"url(#clip360)\" style=\"stroke:#000000; stroke-width:4; stroke-opacity:1; fill:none\" points=\"\n",
       "  287.356,1486.45 287.356,1469.18 \n",
       "  \"/>\n",
       "<polyline clip-path=\"url(#clip360)\" style=\"stroke:#000000; stroke-width:4; stroke-opacity:1; fill:none\" points=\"\n",
       "  613.639,1486.45 613.639,1469.18 \n",
       "  \"/>\n",
       "<polyline clip-path=\"url(#clip360)\" style=\"stroke:#000000; stroke-width:4; stroke-opacity:1; fill:none\" points=\"\n",
       "  939.922,1486.45 939.922,1469.18 \n",
       "  \"/>\n",
       "<polyline clip-path=\"url(#clip360)\" style=\"stroke:#000000; stroke-width:4; stroke-opacity:1; fill:none\" points=\"\n",
       "  1266.2,1486.45 1266.2,1469.18 \n",
       "  \"/>\n",
       "<polyline clip-path=\"url(#clip360)\" style=\"stroke:#000000; stroke-width:4; stroke-opacity:1; fill:none\" points=\"\n",
       "  1592.49,1486.45 1592.49,1469.18 \n",
       "  \"/>\n",
       "<polyline clip-path=\"url(#clip360)\" style=\"stroke:#000000; stroke-width:4; stroke-opacity:1; fill:none\" points=\"\n",
       "  1918.77,1486.45 1918.77,1469.18 \n",
       "  \"/>\n",
       "<polyline clip-path=\"url(#clip360)\" style=\"stroke:#000000; stroke-width:4; stroke-opacity:1; fill:none\" points=\"\n",
       "  2245.05,1486.45 2245.05,1469.18 \n",
       "  \"/>\n",
       "<path clip-path=\"url(#clip360)\" d=\"M 0 0 M259.335 1530.29 L289.011 1530.29 L289.011 1534.23 L259.335 1534.23 L259.335 1530.29 Z\" fill=\"#000000\" fill-rule=\"evenodd\" fill-opacity=\"1\" /><path clip-path=\"url(#clip360)\" d=\"M 0 0 M308.247 1528.49 Q311.603 1529.2 313.478 1531.47 Q315.377 1533.74 315.377 1537.07 Q315.377 1542.19 311.858 1544.99 Q308.34 1547.79 301.858 1547.79 Q299.682 1547.79 297.367 1547.35 Q295.076 1546.93 292.622 1546.08 L292.622 1541.56 Q294.566 1542.7 296.881 1543.28 Q299.196 1543.86 301.719 1543.86 Q306.117 1543.86 308.409 1542.12 Q310.724 1540.38 310.724 1537.07 Q310.724 1534.02 308.571 1532.31 Q306.441 1530.57 302.622 1530.57 L298.594 1530.57 L298.594 1526.73 L302.807 1526.73 Q306.256 1526.73 308.085 1525.36 Q309.914 1523.97 309.914 1521.38 Q309.914 1518.72 308.015 1517.31 Q306.14 1515.87 302.622 1515.87 Q300.701 1515.87 298.502 1516.29 Q296.303 1516.7 293.664 1517.58 L293.664 1513.42 Q296.326 1512.68 298.64 1512.31 Q300.978 1511.93 303.039 1511.93 Q308.363 1511.93 311.465 1514.37 Q314.566 1516.77 314.566 1520.89 Q314.566 1523.76 312.923 1525.75 Q311.279 1527.72 308.247 1528.49 Z\" fill=\"#000000\" fill-rule=\"evenodd\" fill-opacity=\"1\" /><path clip-path=\"url(#clip360)\" d=\"M 0 0 M586.093 1530.29 L615.768 1530.29 L615.768 1534.23 L586.093 1534.23 L586.093 1530.29 Z\" fill=\"#000000\" fill-rule=\"evenodd\" fill-opacity=\"1\" /><path clip-path=\"url(#clip360)\" d=\"M 0 0 M624.866 1543.18 L641.185 1543.18 L641.185 1547.12 L619.241 1547.12 L619.241 1543.18 Q621.903 1540.43 626.486 1535.8 Q631.092 1531.15 632.273 1529.81 Q634.518 1527.28 635.398 1525.55 Q636.301 1523.79 636.301 1522.1 Q636.301 1519.34 634.356 1517.61 Q632.435 1515.87 629.333 1515.87 Q627.134 1515.87 624.68 1516.63 Q622.25 1517.4 619.472 1518.95 L619.472 1514.23 Q622.296 1513.09 624.75 1512.51 Q627.204 1511.93 629.241 1511.93 Q634.611 1511.93 637.805 1514.62 Q641 1517.31 641 1521.8 Q641 1523.93 640.19 1525.85 Q639.403 1527.74 637.296 1530.34 Q636.717 1531.01 633.616 1534.23 Q630.514 1537.42 624.866 1543.18 Z\" fill=\"#000000\" fill-rule=\"evenodd\" fill-opacity=\"1\" /><path clip-path=\"url(#clip360)\" d=\"M 0 0 M912.19 1530.29 L941.866 1530.29 L941.866 1534.23 L912.19 1534.23 L912.19 1530.29 Z\" fill=\"#000000\" fill-rule=\"evenodd\" fill-opacity=\"1\" /><path clip-path=\"url(#clip360)\" d=\"M 0 0 M947.746 1543.18 L955.385 1543.18 L955.385 1516.82 L947.075 1518.49 L947.075 1514.23 L955.338 1512.56 L960.014 1512.56 L960.014 1543.18 L967.653 1543.18 L967.653 1547.12 L947.746 1547.12 L947.746 1543.18 Z\" fill=\"#000000\" fill-rule=\"evenodd\" fill-opacity=\"1\" /><path clip-path=\"url(#clip360)\" d=\"M 0 0 M1266.2 1515.64 Q1262.59 1515.64 1260.77 1519.2 Q1258.96 1522.75 1258.96 1529.87 Q1258.96 1536.98 1260.77 1540.55 Q1262.59 1544.09 1266.2 1544.09 Q1269.84 1544.09 1271.64 1540.55 Q1273.47 1536.98 1273.47 1529.87 Q1273.47 1522.75 1271.64 1519.2 Q1269.84 1515.64 1266.2 1515.64 M1266.2 1511.93 Q1272.01 1511.93 1275.07 1516.54 Q1278.15 1521.12 1278.15 1529.87 Q1278.15 1538.6 1275.07 1543.21 Q1272.01 1547.79 1266.2 1547.79 Q1260.39 1547.79 1257.32 1543.21 Q1254.26 1538.6 1254.26 1529.87 Q1254.26 1521.12 1257.32 1516.54 Q1260.39 1511.93 1266.2 1511.93 Z\" fill=\"#000000\" fill-rule=\"evenodd\" fill-opacity=\"1\" /><path clip-path=\"url(#clip360)\" d=\"M 0 0 M1582.87 1543.18 L1590.51 1543.18 L1590.51 1516.82 L1582.2 1518.49 L1582.2 1514.23 L1590.46 1512.56 L1595.14 1512.56 L1595.14 1543.18 L1602.78 1543.18 L1602.78 1547.12 L1582.87 1547.12 L1582.87 1543.18 Z\" fill=\"#000000\" fill-rule=\"evenodd\" fill-opacity=\"1\" /><path clip-path=\"url(#clip360)\" d=\"M 0 0 M1913.42 1543.18 L1929.74 1543.18 L1929.74 1547.12 L1907.8 1547.12 L1907.8 1543.18 Q1910.46 1540.43 1915.04 1535.8 Q1919.65 1531.15 1920.83 1529.81 Q1923.08 1527.28 1923.96 1525.55 Q1924.86 1523.79 1924.86 1522.1 Q1924.86 1519.34 1922.91 1517.61 Q1920.99 1515.87 1917.89 1515.87 Q1915.69 1515.87 1913.24 1516.63 Q1910.81 1517.4 1908.03 1518.95 L1908.03 1514.23 Q1910.85 1513.09 1913.31 1512.51 Q1915.76 1511.93 1917.8 1511.93 Q1923.17 1511.93 1926.36 1514.62 Q1929.56 1517.31 1929.56 1521.8 Q1929.56 1523.93 1928.75 1525.85 Q1927.96 1527.74 1925.85 1530.34 Q1925.28 1531.01 1922.17 1534.23 Q1919.07 1537.42 1913.42 1543.18 Z\" fill=\"#000000\" fill-rule=\"evenodd\" fill-opacity=\"1\" /><path clip-path=\"url(#clip360)\" d=\"M 0 0 M2249.3 1528.49 Q2252.66 1529.2 2254.53 1531.47 Q2256.43 1533.74 2256.43 1537.07 Q2256.43 1542.19 2252.91 1544.99 Q2249.39 1547.79 2242.91 1547.79 Q2240.74 1547.79 2238.42 1547.35 Q2236.13 1546.93 2233.68 1546.08 L2233.68 1541.56 Q2235.62 1542.7 2237.94 1543.28 Q2240.25 1543.86 2242.77 1543.86 Q2247.17 1543.86 2249.46 1542.12 Q2251.78 1540.38 2251.78 1537.07 Q2251.78 1534.02 2249.63 1532.31 Q2247.5 1530.57 2243.68 1530.57 L2239.65 1530.57 L2239.65 1526.73 L2243.86 1526.73 Q2247.31 1526.73 2249.14 1525.36 Q2250.97 1523.97 2250.97 1521.38 Q2250.97 1518.72 2249.07 1517.31 Q2247.19 1515.87 2243.68 1515.87 Q2241.76 1515.87 2239.56 1516.29 Q2237.36 1516.7 2234.72 1517.58 L2234.72 1513.42 Q2237.38 1512.68 2239.69 1512.31 Q2242.03 1511.93 2244.09 1511.93 Q2249.42 1511.93 2252.52 1514.37 Q2255.62 1516.77 2255.62 1520.89 Q2255.62 1523.76 2253.98 1525.75 Q2252.33 1527.72 2249.3 1528.49 Z\" fill=\"#000000\" fill-rule=\"evenodd\" fill-opacity=\"1\" /><polyline clip-path=\"url(#clip362)\" style=\"stroke:#000000; stroke-width:2; stroke-opacity:0.1; fill:none\" points=\"\n",
       "  179.654,1406.07 2352.76,1406.07 \n",
       "  \"/>\n",
       "<polyline clip-path=\"url(#clip362)\" style=\"stroke:#000000; stroke-width:2; stroke-opacity:0.1; fill:none\" points=\"\n",
       "  179.654,1077.69 2352.76,1077.69 \n",
       "  \"/>\n",
       "<polyline clip-path=\"url(#clip362)\" style=\"stroke:#000000; stroke-width:2; stroke-opacity:0.1; fill:none\" points=\"\n",
       "  179.654,749.318 2352.76,749.318 \n",
       "  \"/>\n",
       "<polyline clip-path=\"url(#clip362)\" style=\"stroke:#000000; stroke-width:2; stroke-opacity:0.1; fill:none\" points=\"\n",
       "  179.654,420.944 2352.76,420.944 \n",
       "  \"/>\n",
       "<polyline clip-path=\"url(#clip362)\" style=\"stroke:#000000; stroke-width:2; stroke-opacity:0.1; fill:none\" points=\"\n",
       "  179.654,92.5692 2352.76,92.5692 \n",
       "  \"/>\n",
       "<polyline clip-path=\"url(#clip360)\" style=\"stroke:#000000; stroke-width:4; stroke-opacity:1; fill:none\" points=\"\n",
       "  179.654,1486.45 179.654,47.2441 \n",
       "  \"/>\n",
       "<polyline clip-path=\"url(#clip360)\" style=\"stroke:#000000; stroke-width:4; stroke-opacity:1; fill:none\" points=\"\n",
       "  179.654,1406.07 205.731,1406.07 \n",
       "  \"/>\n",
       "<polyline clip-path=\"url(#clip360)\" style=\"stroke:#000000; stroke-width:4; stroke-opacity:1; fill:none\" points=\"\n",
       "  179.654,1077.69 205.731,1077.69 \n",
       "  \"/>\n",
       "<polyline clip-path=\"url(#clip360)\" style=\"stroke:#000000; stroke-width:4; stroke-opacity:1; fill:none\" points=\"\n",
       "  179.654,749.318 205.731,749.318 \n",
       "  \"/>\n",
       "<polyline clip-path=\"url(#clip360)\" style=\"stroke:#000000; stroke-width:4; stroke-opacity:1; fill:none\" points=\"\n",
       "  179.654,420.944 205.731,420.944 \n",
       "  \"/>\n",
       "<polyline clip-path=\"url(#clip360)\" style=\"stroke:#000000; stroke-width:4; stroke-opacity:1; fill:none\" points=\"\n",
       "  179.654,92.5692 205.731,92.5692 \n",
       "  \"/>\n",
       "<path clip-path=\"url(#clip360)\" d=\"M 0 0 M51.2236 1406.52 L80.8994 1406.52 L80.8994 1410.45 L51.2236 1410.45 L51.2236 1406.52 Z\" fill=\"#000000\" fill-rule=\"evenodd\" fill-opacity=\"1\" /><path clip-path=\"url(#clip360)\" d=\"M 0 0 M86.779 1419.41 L94.4178 1419.41 L94.4178 1393.05 L86.1077 1394.71 L86.1077 1390.45 L94.3715 1388.79 L99.0474 1388.79 L99.0474 1419.41 L106.686 1419.41 L106.686 1423.35 L86.779 1423.35 L86.779 1419.41 Z\" fill=\"#000000\" fill-rule=\"evenodd\" fill-opacity=\"1\" /><path clip-path=\"url(#clip360)\" d=\"M 0 0 M111.756 1417.47 L116.64 1417.47 L116.64 1423.35 L111.756 1423.35 L111.756 1417.47 Z\" fill=\"#000000\" fill-rule=\"evenodd\" fill-opacity=\"1\" /><path clip-path=\"url(#clip360)\" d=\"M 0 0 M131.709 1391.87 Q128.098 1391.87 126.27 1395.43 Q124.464 1398.97 124.464 1406.1 Q124.464 1413.21 126.27 1416.77 Q128.098 1420.31 131.709 1420.31 Q135.344 1420.31 137.149 1416.77 Q138.978 1413.21 138.978 1406.1 Q138.978 1398.97 137.149 1395.43 Q135.344 1391.87 131.709 1391.87 M131.709 1388.16 Q137.519 1388.16 140.575 1392.77 Q143.654 1397.35 143.654 1406.1 Q143.654 1414.83 140.575 1419.43 Q137.519 1424.02 131.709 1424.02 Q125.899 1424.02 122.82 1419.43 Q119.765 1414.83 119.765 1406.1 Q119.765 1397.35 122.82 1392.77 Q125.899 1388.16 131.709 1388.16 Z\" fill=\"#000000\" fill-rule=\"evenodd\" fill-opacity=\"1\" /><path clip-path=\"url(#clip360)\" d=\"M 0 0 M50.9921 1078.14 L80.6679 1078.14 L80.6679 1082.08 L50.9921 1082.08 L50.9921 1078.14 Z\" fill=\"#000000\" fill-rule=\"evenodd\" fill-opacity=\"1\" /><path clip-path=\"url(#clip360)\" d=\"M 0 0 M95.7373 1063.49 Q92.1262 1063.49 90.2975 1067.06 Q88.4919 1070.6 88.4919 1077.73 Q88.4919 1084.83 90.2975 1088.4 Q92.1262 1091.94 95.7373 1091.94 Q99.3715 1091.94 101.177 1088.4 Q103.006 1084.83 103.006 1077.73 Q103.006 1070.6 101.177 1067.06 Q99.3715 1063.49 95.7373 1063.49 M95.7373 1059.79 Q101.547 1059.79 104.603 1064.39 Q107.682 1068.98 107.682 1077.73 Q107.682 1086.45 104.603 1091.06 Q101.547 1095.64 95.7373 1095.64 Q89.9271 1095.64 86.8484 1091.06 Q83.7929 1086.45 83.7929 1077.73 Q83.7929 1068.98 86.8484 1064.39 Q89.9271 1059.79 95.7373 1059.79 Z\" fill=\"#000000\" fill-rule=\"evenodd\" fill-opacity=\"1\" /><path clip-path=\"url(#clip360)\" d=\"M 0 0 M112.751 1089.09 L117.635 1089.09 L117.635 1094.97 L112.751 1094.97 L112.751 1089.09 Z\" fill=\"#000000\" fill-rule=\"evenodd\" fill-opacity=\"1\" /><path clip-path=\"url(#clip360)\" d=\"M 0 0 M122.751 1060.41 L141.107 1060.41 L141.107 1064.35 L127.033 1064.35 L127.033 1072.82 Q128.052 1072.47 129.07 1072.31 Q130.089 1072.13 131.107 1072.13 Q136.894 1072.13 140.274 1075.3 Q143.654 1078.47 143.654 1083.88 Q143.654 1089.46 140.181 1092.56 Q136.709 1095.64 130.39 1095.64 Q128.214 1095.64 125.945 1095.27 Q123.7 1094.9 121.293 1094.16 L121.293 1089.46 Q123.376 1090.6 125.598 1091.15 Q127.82 1091.71 130.297 1091.71 Q134.302 1091.71 136.64 1089.6 Q138.978 1087.5 138.978 1083.88 Q138.978 1080.27 136.64 1078.17 Q134.302 1076.06 130.297 1076.06 Q128.422 1076.06 126.547 1076.48 Q124.695 1076.89 122.751 1077.77 L122.751 1060.41 Z\" fill=\"#000000\" fill-rule=\"evenodd\" fill-opacity=\"1\" /><path clip-path=\"url(#clip360)\" d=\"M 0 0 M94.7419 735.117 Q91.1308 735.117 89.3021 738.681 Q87.4966 742.223 87.4966 749.353 Q87.4966 756.459 89.3021 760.024 Q91.1308 763.566 94.7419 763.566 Q98.3761 763.566 100.182 760.024 Q102.01 756.459 102.01 749.353 Q102.01 742.223 100.182 738.681 Q98.3761 735.117 94.7419 735.117 M94.7419 731.413 Q100.552 731.413 103.608 736.019 Q106.686 740.603 106.686 749.353 Q106.686 758.079 103.608 762.686 Q100.552 767.269 94.7419 767.269 Q88.9317 767.269 85.8531 762.686 Q82.7975 758.079 82.7975 749.353 Q82.7975 740.603 85.8531 736.019 Q88.9317 731.413 94.7419 731.413 Z\" fill=\"#000000\" fill-rule=\"evenodd\" fill-opacity=\"1\" /><path clip-path=\"url(#clip360)\" d=\"M 0 0 M111.756 760.718 L116.64 760.718 L116.64 766.598 L111.756 766.598 L111.756 760.718 Z\" fill=\"#000000\" fill-rule=\"evenodd\" fill-opacity=\"1\" /><path clip-path=\"url(#clip360)\" d=\"M 0 0 M131.709 735.117 Q128.098 735.117 126.27 738.681 Q124.464 742.223 124.464 749.353 Q124.464 756.459 126.27 760.024 Q128.098 763.566 131.709 763.566 Q135.344 763.566 137.149 760.024 Q138.978 756.459 138.978 749.353 Q138.978 742.223 137.149 738.681 Q135.344 735.117 131.709 735.117 M131.709 731.413 Q137.519 731.413 140.575 736.019 Q143.654 740.603 143.654 749.353 Q143.654 758.079 140.575 762.686 Q137.519 767.269 131.709 767.269 Q125.899 767.269 122.82 762.686 Q119.765 758.079 119.765 749.353 Q119.765 740.603 122.82 736.019 Q125.899 731.413 131.709 731.413 Z\" fill=\"#000000\" fill-rule=\"evenodd\" fill-opacity=\"1\" /><path clip-path=\"url(#clip360)\" d=\"M 0 0 M95.7373 406.742 Q92.1262 406.742 90.2975 410.307 Q88.4919 413.849 88.4919 420.978 Q88.4919 428.085 90.2975 431.65 Q92.1262 435.191 95.7373 435.191 Q99.3715 435.191 101.177 431.65 Q103.006 428.085 103.006 420.978 Q103.006 413.849 101.177 410.307 Q99.3715 406.742 95.7373 406.742 M95.7373 403.039 Q101.547 403.039 104.603 407.645 Q107.682 412.228 107.682 420.978 Q107.682 429.705 104.603 434.312 Q101.547 438.895 95.7373 438.895 Q89.9271 438.895 86.8484 434.312 Q83.7929 429.705 83.7929 420.978 Q83.7929 412.228 86.8484 407.645 Q89.9271 403.039 95.7373 403.039 Z\" fill=\"#000000\" fill-rule=\"evenodd\" fill-opacity=\"1\" /><path clip-path=\"url(#clip360)\" d=\"M 0 0 M112.751 432.344 L117.635 432.344 L117.635 438.224 L112.751 438.224 L112.751 432.344 Z\" fill=\"#000000\" fill-rule=\"evenodd\" fill-opacity=\"1\" /><path clip-path=\"url(#clip360)\" d=\"M 0 0 M122.751 403.664 L141.107 403.664 L141.107 407.599 L127.033 407.599 L127.033 416.071 Q128.052 415.724 129.07 415.562 Q130.089 415.376 131.107 415.376 Q136.894 415.376 140.274 418.548 Q143.654 421.719 143.654 427.136 Q143.654 432.714 140.181 435.816 Q136.709 438.895 130.39 438.895 Q128.214 438.895 125.945 438.524 Q123.7 438.154 121.293 437.413 L121.293 432.714 Q123.376 433.849 125.598 434.404 Q127.82 434.96 130.297 434.96 Q134.302 434.96 136.64 432.853 Q138.978 430.747 138.978 427.136 Q138.978 423.525 136.64 421.418 Q134.302 419.312 130.297 419.312 Q128.422 419.312 126.547 419.728 Q124.695 420.145 122.751 421.025 L122.751 403.664 Z\" fill=\"#000000\" fill-rule=\"evenodd\" fill-opacity=\"1\" /><path clip-path=\"url(#clip360)\" d=\"M 0 0 M86.779 105.914 L94.4178 105.914 L94.4178 79.5485 L86.1077 81.2151 L86.1077 76.9559 L94.3715 75.2892 L99.0474 75.2892 L99.0474 105.914 L106.686 105.914 L106.686 109.849 L86.779 109.849 L86.779 105.914 Z\" fill=\"#000000\" fill-rule=\"evenodd\" fill-opacity=\"1\" /><path clip-path=\"url(#clip360)\" d=\"M 0 0 M111.756 103.97 L116.64 103.97 L116.64 109.849 L111.756 109.849 L111.756 103.97 Z\" fill=\"#000000\" fill-rule=\"evenodd\" fill-opacity=\"1\" /><path clip-path=\"url(#clip360)\" d=\"M 0 0 M131.709 78.3679 Q128.098 78.3679 126.27 81.9327 Q124.464 85.4744 124.464 92.604 Q124.464 99.7104 126.27 103.275 Q128.098 106.817 131.709 106.817 Q135.344 106.817 137.149 103.275 Q138.978 99.7104 138.978 92.604 Q138.978 85.4744 137.149 81.9327 Q135.344 78.3679 131.709 78.3679 M131.709 74.6642 Q137.519 74.6642 140.575 79.2707 Q143.654 83.854 143.654 92.604 Q143.654 101.331 140.575 105.937 Q137.519 110.521 131.709 110.521 Q125.899 110.521 122.82 105.937 Q119.765 101.331 119.765 92.604 Q119.765 83.854 122.82 79.2707 Q125.899 74.6642 131.709 74.6642 Z\" fill=\"#000000\" fill-rule=\"evenodd\" fill-opacity=\"1\" /><circle clip-path=\"url(#clip362)\" cx=\"241.157\" cy=\"580.926\" r=\"14\" fill=\"#009af9\" fill-rule=\"evenodd\" fill-opacity=\"1\" stroke=\"#000000\" stroke-opacity=\"1\" stroke-width=\"3.2\"/>\n",
       "<circle clip-path=\"url(#clip362)\" cx=\"349.056\" cy=\"1028.94\" r=\"14\" fill=\"#009af9\" fill-rule=\"evenodd\" fill-opacity=\"1\" stroke=\"#000000\" stroke-opacity=\"1\" stroke-width=\"3.2\"/>\n",
       "<circle clip-path=\"url(#clip362)\" cx=\"456.956\" cy=\"1393.01\" r=\"14\" fill=\"#009af9\" fill-rule=\"evenodd\" fill-opacity=\"1\" stroke=\"#000000\" stroke-opacity=\"1\" stroke-width=\"3.2\"/>\n",
       "<circle clip-path=\"url(#clip362)\" cx=\"564.856\" cy=\"1308.57\" r=\"14\" fill=\"#009af9\" fill-rule=\"evenodd\" fill-opacity=\"1\" stroke=\"#000000\" stroke-opacity=\"1\" stroke-width=\"3.2\"/>\n",
       "<circle clip-path=\"url(#clip362)\" cx=\"672.756\" cy=\"790.774\" r=\"14\" fill=\"#009af9\" fill-rule=\"evenodd\" fill-opacity=\"1\" stroke=\"#000000\" stroke-opacity=\"1\" stroke-width=\"3.2\"/>\n",
       "<circle clip-path=\"url(#clip362)\" cx=\"780.656\" cy=\"1445.72\" r=\"14\" fill=\"#009af9\" fill-rule=\"evenodd\" fill-opacity=\"1\" stroke=\"#000000\" stroke-opacity=\"1\" stroke-width=\"3.2\"/>\n",
       "<circle clip-path=\"url(#clip362)\" cx=\"888.555\" cy=\"1404.12\" r=\"14\" fill=\"#009af9\" fill-rule=\"evenodd\" fill-opacity=\"1\" stroke=\"#000000\" stroke-opacity=\"1\" stroke-width=\"3.2\"/>\n",
       "<circle clip-path=\"url(#clip362)\" cx=\"996.455\" cy=\"1226.94\" r=\"14\" fill=\"#009af9\" fill-rule=\"evenodd\" fill-opacity=\"1\" stroke=\"#000000\" stroke-opacity=\"1\" stroke-width=\"3.2\"/>\n",
       "<circle clip-path=\"url(#clip362)\" cx=\"1104.36\" cy=\"1154.48\" r=\"14\" fill=\"#009af9\" fill-rule=\"evenodd\" fill-opacity=\"1\" stroke=\"#000000\" stroke-opacity=\"1\" stroke-width=\"3.2\"/>\n",
       "<circle clip-path=\"url(#clip362)\" cx=\"1212.25\" cy=\"973.002\" r=\"14\" fill=\"#009af9\" fill-rule=\"evenodd\" fill-opacity=\"1\" stroke=\"#000000\" stroke-opacity=\"1\" stroke-width=\"3.2\"/>\n",
       "<circle clip-path=\"url(#clip362)\" cx=\"1320.15\" cy=\"914.11\" r=\"14\" fill=\"#009af9\" fill-rule=\"evenodd\" fill-opacity=\"1\" stroke=\"#000000\" stroke-opacity=\"1\" stroke-width=\"3.2\"/>\n",
       "<circle clip-path=\"url(#clip362)\" cx=\"1428.05\" cy=\"544.166\" r=\"14\" fill=\"#009af9\" fill-rule=\"evenodd\" fill-opacity=\"1\" stroke=\"#000000\" stroke-opacity=\"1\" stroke-width=\"3.2\"/>\n",
       "<circle clip-path=\"url(#clip362)\" cx=\"1535.95\" cy=\"334.112\" r=\"14\" fill=\"#009af9\" fill-rule=\"evenodd\" fill-opacity=\"1\" stroke=\"#000000\" stroke-opacity=\"1\" stroke-width=\"3.2\"/>\n",
       "<circle clip-path=\"url(#clip362)\" cx=\"1643.85\" cy=\"159.921\" r=\"14\" fill=\"#009af9\" fill-rule=\"evenodd\" fill-opacity=\"1\" stroke=\"#000000\" stroke-opacity=\"1\" stroke-width=\"3.2\"/>\n",
       "<circle clip-path=\"url(#clip362)\" cx=\"1751.75\" cy=\"364.592\" r=\"14\" fill=\"#009af9\" fill-rule=\"evenodd\" fill-opacity=\"1\" stroke=\"#000000\" stroke-opacity=\"1\" stroke-width=\"3.2\"/>\n",
       "<circle clip-path=\"url(#clip362)\" cx=\"1859.65\" cy=\"93.0854\" r=\"14\" fill=\"#009af9\" fill-rule=\"evenodd\" fill-opacity=\"1\" stroke=\"#000000\" stroke-opacity=\"1\" stroke-width=\"3.2\"/>\n",
       "<circle clip-path=\"url(#clip362)\" cx=\"1967.55\" cy=\"87.9763\" r=\"14\" fill=\"#009af9\" fill-rule=\"evenodd\" fill-opacity=\"1\" stroke=\"#000000\" stroke-opacity=\"1\" stroke-width=\"3.2\"/>\n",
       "<circle clip-path=\"url(#clip362)\" cx=\"2075.45\" cy=\"501.718\" r=\"14\" fill=\"#009af9\" fill-rule=\"evenodd\" fill-opacity=\"1\" stroke=\"#000000\" stroke-opacity=\"1\" stroke-width=\"3.2\"/>\n",
       "<circle clip-path=\"url(#clip362)\" cx=\"2183.35\" cy=\"447.419\" r=\"14\" fill=\"#009af9\" fill-rule=\"evenodd\" fill-opacity=\"1\" stroke=\"#000000\" stroke-opacity=\"1\" stroke-width=\"3.2\"/>\n",
       "<circle clip-path=\"url(#clip362)\" cx=\"2291.25\" cy=\"566.997\" r=\"14\" fill=\"#009af9\" fill-rule=\"evenodd\" fill-opacity=\"1\" stroke=\"#000000\" stroke-opacity=\"1\" stroke-width=\"3.2\"/>\n",
       "<polyline clip-path=\"url(#clip362)\" style=\"stroke:#0000ff; stroke-width:4; stroke-opacity:1; fill:none\" stroke-dasharray=\"16, 10\" points=\"\n",
       "  241.157,749.318 246.295,759.66 251.433,769.999 256.571,780.332 261.709,790.659 266.847,800.975 271.985,811.278 277.123,821.566 282.261,831.836 287.399,842.085 \n",
       "  292.537,852.311 297.676,862.512 302.814,872.685 307.952,882.827 313.09,892.936 318.228,903.01 323.366,913.045 328.504,923.04 333.642,932.992 338.78,942.898 \n",
       "  343.918,952.756 349.056,962.564 354.194,972.319 359.333,982.018 364.471,991.66 369.609,1001.24 374.747,1010.76 379.885,1020.22 385.023,1029.6 390.161,1038.92 \n",
       "  395.299,1048.17 400.437,1057.34 405.575,1066.43 410.713,1075.45 415.851,1084.39 420.99,1093.24 426.128,1102.01 431.266,1110.69 436.404,1119.28 441.542,1127.78 \n",
       "  446.68,1136.18 451.818,1144.49 456.956,1152.7 462.094,1160.81 467.232,1168.82 472.37,1176.73 477.509,1184.53 482.647,1192.22 487.785,1199.8 492.923,1207.27 \n",
       "  498.061,1214.62 503.199,1221.86 508.337,1228.99 513.475,1235.99 518.613,1242.87 523.751,1249.64 528.889,1256.27 534.027,1262.78 539.166,1269.17 544.304,1275.42 \n",
       "  549.442,1281.55 554.58,1287.54 559.718,1293.4 564.856,1299.13 569.994,1304.71 575.132,1310.16 580.27,1315.48 585.408,1320.65 590.546,1325.68 595.685,1330.56 \n",
       "  600.823,1335.3 605.961,1339.9 611.099,1344.35 616.237,1348.66 621.375,1352.81 626.513,1356.81 631.651,1360.67 636.789,1364.37 641.927,1367.92 647.065,1371.32 \n",
       "  652.203,1374.56 657.342,1377.65 662.48,1380.58 667.618,1383.35 672.756,1385.97 677.894,1388.43 683.032,1390.73 688.17,1392.87 693.308,1394.86 698.446,1396.68 \n",
       "  703.584,1398.34 708.722,1399.84 713.861,1401.18 718.999,1402.36 724.137,1403.38 729.275,1404.23 734.413,1404.92 739.551,1405.45 744.689,1405.82 749.827,1406.02 \n",
       "  754.965,1406.06 760.103,1405.94 765.241,1405.65 770.379,1405.21 775.518,1404.6 780.656,1403.82 785.794,1402.89 790.932,1401.79 796.07,1400.53 801.208,1399.11 \n",
       "  806.346,1397.53 811.484,1395.79 816.622,1393.88 821.76,1391.82 826.898,1389.6 832.036,1387.22 837.175,1384.68 842.313,1381.98 847.451,1379.13 852.589,1376.12 \n",
       "  857.727,1372.96 862.865,1369.64 868.003,1366.16 873.141,1362.54 878.279,1358.76 883.417,1354.83 888.555,1350.75 893.694,1346.52 898.832,1342.15 903.97,1337.62 \n",
       "  909.108,1332.95 914.246,1328.14 919.384,1323.18 924.522,1318.08 929.66,1312.84 934.798,1307.46 939.936,1301.94 945.074,1296.28 950.212,1290.49 955.351,1284.56 \n",
       "  960.489,1278.5 965.627,1272.31 970.765,1265.99 975.903,1259.54 981.041,1252.97 986.179,1246.27 991.317,1239.45 996.455,1232.5 1001.59,1225.44 1006.73,1218.26 \n",
       "  1011.87,1210.96 1017.01,1203.55 1022.15,1196.02 1027.28,1188.38 1032.42,1180.64 1037.56,1172.79 1042.7,1164.83 1047.84,1156.77 1052.97,1148.61 1058.11,1140.35 \n",
       "  1063.25,1131.99 1068.39,1123.54 1073.53,1114.99 1078.66,1106.36 1083.8,1097.63 1088.94,1088.82 1094.08,1079.93 1099.22,1070.95 1104.36,1061.9 1109.49,1052.76 \n",
       "  1114.63,1043.55 1119.77,1034.27 1124.91,1024.92 1130.05,1015.5 1135.18,1006.01 1140.32,996.459 1145.46,986.847 1150.6,977.176 1155.74,967.448 1160.87,957.666 \n",
       "  1166.01,947.833 1171.15,937.951 1176.29,928.021 1181.43,918.048 1186.56,908.033 1191.7,897.978 1196.84,887.886 1201.98,877.76 1207.12,867.602 1212.25,857.415 \n",
       "  1217.39,847.201 1222.53,836.963 1227.67,826.703 1232.81,816.424 1237.95,806.128 1243.08,795.818 1248.22,785.497 1253.36,775.166 1258.5,764.83 1263.64,754.489 \n",
       "  1268.77,744.147 1273.91,733.806 1279.05,723.469 1284.19,713.139 1289.33,702.818 1294.46,692.508 1299.6,682.212 1304.74,671.933 1309.88,661.673 1315.02,651.435 \n",
       "  1320.15,641.221 1325.29,631.033 1330.43,620.876 1335.57,610.75 1340.71,600.658 1345.85,590.603 1350.98,580.588 1356.12,570.614 1361.26,560.685 1366.4,550.803 \n",
       "  1371.54,540.969 1376.67,531.188 1381.81,521.46 1386.95,511.789 1392.09,502.177 1397.23,492.626 1402.36,483.139 1407.5,473.718 1412.64,464.365 1417.78,455.083 \n",
       "  1422.92,445.874 1428.05,436.74 1433.19,427.684 1438.33,418.707 1443.47,409.812 1448.61,401.002 1453.74,392.278 1458.88,383.642 1464.02,375.097 1469.16,366.645 \n",
       "  1474.3,358.288 1479.44,350.028 1484.57,341.866 1489.71,333.806 1494.85,325.849 1499.99,317.997 1505.13,310.252 1510.26,302.615 1515.4,295.09 1520.54,287.677 \n",
       "  1525.68,280.378 1530.82,273.196 1535.95,266.132 1541.09,259.188 1546.23,252.365 1551.37,245.666 1556.51,239.091 1561.64,232.643 1566.78,226.323 1571.92,220.133 \n",
       "  1577.06,214.074 1582.2,208.147 1587.34,202.355 1592.47,196.699 1597.61,191.179 1602.75,185.798 1607.89,180.557 1613.03,175.457 1618.16,170.499 1623.3,165.684 \n",
       "  1628.44,161.014 1633.58,156.491 1638.72,152.114 1643.85,147.885 1648.99,143.805 1654.13,139.876 1659.27,136.098 1664.41,132.471 1669.54,128.998 1674.68,125.679 \n",
       "  1679.82,122.514 1684.96,119.504 1690.1,116.651 1695.23,113.955 1700.37,111.416 1705.51,109.035 1710.65,106.813 1715.79,104.751 1720.93,102.848 1726.06,101.106 \n",
       "  1731.2,99.5243 1736.34,98.1038 1741.48,96.8447 1746.62,95.7475 1751.75,94.8124 1756.89,94.0395 1762.03,93.4292 1767.17,92.9814 1772.31,92.6965 1777.44,92.5743 \n",
       "  1782.58,92.615 1787.72,92.8186 1792.86,93.185 1798,93.714 1803.13,94.4056 1808.27,95.2597 1813.41,96.2759 1818.55,97.4541 1823.69,98.7939 1828.83,100.295 \n",
       "  1833.96,101.957 1839.1,103.78 1844.24,105.762 1849.38,107.905 1854.52,110.206 1859.65,112.666 1864.79,115.283 1869.93,118.058 1875.07,120.99 1880.21,124.077 \n",
       "  1885.34,127.319 1890.48,130.716 1895.62,134.265 1900.76,137.968 1905.9,141.822 1911.03,145.826 1916.17,149.981 1921.31,154.284 1926.45,158.734 1931.59,163.331 \n",
       "  1936.73,168.073 1941.86,172.96 1947,177.989 1952.14,183.16 1957.28,188.471 1962.42,193.922 1967.55,199.51 1972.69,205.234 1977.83,211.094 1982.97,217.087 \n",
       "  1988.11,223.212 1993.24,229.467 1998.38,235.851 2003.52,242.363 2008.66,249 2013.8,255.761 2018.93,262.645 2024.07,269.649 2029.21,276.773 2034.35,284.013 \n",
       "  2039.49,291.369 2044.62,298.839 2049.76,306.42 2054.9,314.111 2060.04,321.91 2065.18,329.815 2070.32,337.824 2075.45,345.935 2080.59,354.146 2085.73,362.455 \n",
       "  2090.87,370.859 2096.01,379.358 2101.14,387.949 2106.28,396.629 2111.42,405.396 2116.56,414.249 2121.7,423.185 2126.83,432.202 2131.97,441.298 2137.11,450.469 \n",
       "  2142.25,459.715 2147.39,469.033 2152.52,478.42 2157.66,487.875 2162.8,497.394 2167.94,506.976 2173.08,516.618 2178.22,526.317 2183.35,536.072 2188.49,545.88 \n",
       "  2193.63,555.738 2198.77,565.644 2203.91,575.596 2209.04,585.591 2214.18,595.626 2219.32,605.699 2224.46,615.809 2229.6,625.951 2234.73,636.124 2239.87,646.324 \n",
       "  2245.01,656.551 2250.15,666.8 2255.29,677.07 2260.42,687.358 2265.56,697.661 2270.7,707.977 2275.84,718.303 2280.98,728.637 2286.11,738.976 2291.25,749.318 \n",
       "  \n",
       "  \"/>\n",
       "<polyline clip-path=\"url(#clip362)\" style=\"stroke:#ff0000; stroke-width:8; stroke-opacity:1; fill:none\" points=\"\n",
       "  241.157,646.226 246.295,663.181 251.433,679.9 256.571,696.383 261.709,712.633 266.847,728.648 271.985,744.433 277.123,759.986 282.261,775.309 287.399,790.404 \n",
       "  292.537,805.272 297.676,819.913 302.814,834.33 307.952,848.522 313.09,862.492 318.228,876.24 323.366,889.767 328.504,903.075 333.642,916.165 338.78,929.037 \n",
       "  343.918,941.694 349.056,954.136 354.194,966.364 359.333,978.38 364.471,990.185 369.609,1001.78 374.747,1013.16 379.885,1024.34 385.023,1035.31 390.161,1046.08 \n",
       "  395.299,1056.64 400.437,1066.99 405.575,1077.15 410.713,1087.1 415.851,1096.85 420.99,1106.41 426.128,1115.77 431.266,1124.93 436.404,1133.89 441.542,1142.66 \n",
       "  446.68,1151.24 451.818,1159.63 456.956,1167.82 462.094,1175.83 467.232,1183.65 472.37,1191.28 477.509,1198.72 482.647,1205.98 487.785,1213.05 492.923,1219.94 \n",
       "  498.061,1226.65 503.199,1233.18 508.337,1239.53 513.475,1245.71 518.613,1251.7 523.751,1257.52 528.889,1263.16 534.027,1268.63 539.166,1273.93 544.304,1279.06 \n",
       "  549.442,1284.02 554.58,1288.8 559.718,1293.42 564.856,1297.88 569.994,1302.16 575.132,1306.29 580.27,1310.25 585.408,1314.04 590.546,1317.68 595.685,1321.15 \n",
       "  600.823,1324.47 605.961,1327.63 611.099,1330.64 616.237,1333.48 621.375,1336.18 626.513,1338.72 631.651,1341.11 636.789,1343.34 641.927,1345.43 647.065,1347.37 \n",
       "  652.203,1349.17 657.342,1350.81 662.48,1352.31 667.618,1353.67 672.756,1354.89 677.894,1355.96 683.032,1356.89 688.17,1357.68 693.308,1358.34 698.446,1358.86 \n",
       "  703.584,1359.24 708.722,1359.49 713.861,1359.6 718.999,1359.58 724.137,1359.43 729.275,1359.15 734.413,1358.74 739.551,1358.21 744.689,1357.54 749.827,1356.75 \n",
       "  754.965,1355.84 760.103,1354.8 765.241,1353.64 770.379,1352.36 775.518,1350.96 780.656,1349.44 785.794,1347.81 790.932,1346.05 796.07,1344.18 801.208,1342.2 \n",
       "  806.346,1340.11 811.484,1337.9 816.622,1335.58 821.76,1333.15 826.898,1330.61 832.036,1327.97 837.175,1325.22 842.313,1322.37 847.451,1319.41 852.589,1316.35 \n",
       "  857.727,1313.18 862.865,1309.92 868.003,1306.56 873.141,1303.09 878.279,1299.54 883.417,1295.88 888.555,1292.13 893.694,1288.29 898.832,1284.36 903.97,1280.33 \n",
       "  909.108,1276.21 914.246,1272.01 919.384,1267.72 924.522,1263.34 929.66,1258.87 934.798,1254.32 939.936,1249.69 945.074,1244.97 950.212,1240.18 955.351,1235.3 \n",
       "  960.489,1230.34 965.627,1225.31 970.765,1220.2 975.903,1215.02 981.041,1209.76 986.179,1204.43 991.317,1199.03 996.455,1193.55 1001.59,1188.01 1006.73,1182.4 \n",
       "  1011.87,1176.72 1017.01,1170.97 1022.15,1165.16 1027.28,1159.29 1032.42,1153.35 1037.56,1147.35 1042.7,1141.29 1047.84,1135.17 1052.97,1129 1058.11,1122.76 \n",
       "  1063.25,1116.47 1068.39,1110.13 1073.53,1103.73 1078.66,1097.28 1083.8,1090.78 1088.94,1084.23 1094.08,1077.63 1099.22,1070.98 1104.36,1064.29 1109.49,1057.54 \n",
       "  1114.63,1050.76 1119.77,1043.93 1124.91,1037.06 1130.05,1030.15 1135.18,1023.2 1140.32,1016.21 1145.46,1009.18 1150.6,1002.12 1155.74,995.017 1160.87,987.884 \n",
       "  1166.01,980.718 1171.15,973.519 1176.29,966.29 1181.43,959.032 1186.56,951.745 1191.7,944.431 1196.84,937.091 1201.98,929.725 1207.12,922.336 1212.25,914.924 \n",
       "  1217.39,907.491 1222.53,900.037 1227.67,892.564 1232.81,885.073 1237.95,877.565 1243.08,870.041 1248.22,862.502 1253.36,854.95 1258.5,847.385 1263.64,839.809 \n",
       "  1268.77,832.223 1273.91,824.628 1279.05,817.026 1284.19,809.416 1289.33,801.801 1294.46,794.182 1299.6,786.559 1304.74,778.934 1309.88,771.308 1315.02,763.683 \n",
       "  1320.15,756.059 1325.29,748.437 1330.43,740.818 1335.57,733.205 1340.71,725.597 1345.85,717.997 1350.98,710.404 1356.12,702.821 1361.26,695.249 1366.4,687.688 \n",
       "  1371.54,680.14 1376.67,672.605 1381.81,665.086 1386.95,657.583 1392.09,650.097 1397.23,642.63 1402.36,635.182 1407.5,627.755 1412.64,620.35 1417.78,612.968 \n",
       "  1422.92,605.61 1428.05,598.278 1433.19,590.972 1438.33,583.693 1443.47,576.444 1448.61,569.224 1453.74,562.035 1458.88,554.879 1464.02,547.756 1469.16,540.667 \n",
       "  1474.3,533.614 1479.44,526.598 1484.57,519.619 1489.71,512.68 1494.85,505.781 1499.99,498.923 1505.13,492.108 1510.26,485.336 1515.4,478.609 1520.54,471.928 \n",
       "  1525.68,465.294 1530.82,458.708 1535.95,452.172 1541.09,445.686 1546.23,439.252 1551.37,432.87 1556.51,426.542 1561.64,420.27 1566.78,414.054 1571.92,407.895 \n",
       "  1577.06,401.794 1582.2,395.753 1587.34,389.773 1592.47,383.855 1597.61,378 1602.75,372.209 1607.89,366.483 1613.03,360.824 1618.16,355.233 1623.3,349.71 \n",
       "  1628.44,344.258 1633.58,338.876 1638.72,333.566 1643.85,328.33 1648.99,323.169 1654.13,318.083 1659.27,313.074 1664.41,308.143 1669.54,303.29 1674.68,298.519 \n",
       "  1679.82,293.828 1684.96,289.22 1690.1,284.696 1695.23,280.256 1700.37,275.902 1705.51,271.636 1710.65,267.457 1715.79,263.368 1720.93,259.37 1726.06,255.463 \n",
       "  1731.2,251.649 1736.34,247.929 1741.48,244.304 1746.62,240.775 1751.75,237.344 1756.89,234.011 1762.03,230.777 1767.17,227.645 1772.31,224.614 1777.44,221.687 \n",
       "  1782.58,218.864 1787.72,216.146 1792.86,213.535 1798,211.031 1803.13,208.636 1808.27,206.351 1813.41,204.177 1818.55,202.116 1823.69,200.168 1828.83,198.334 \n",
       "  1833.96,196.616 1839.1,195.015 1844.24,193.531 1849.38,192.167 1854.52,190.923 1859.65,189.801 1864.79,188.801 1869.93,187.925 1875.07,187.173 1880.21,186.547 \n",
       "  1885.34,186.049 1890.48,185.679 1895.62,185.438 1900.76,185.328 1905.9,185.349 1911.03,185.503 1916.17,185.791 1921.31,186.215 1926.45,186.774 1931.59,187.471 \n",
       "  1936.73,188.306 1941.86,189.282 1947,190.397 1952.14,191.655 1957.28,193.056 1962.42,194.602 1967.55,196.292 1972.69,198.129 1977.83,200.114 1982.97,202.248 \n",
       "  1988.11,204.532 1993.24,206.966 1998.38,209.553 2003.52,212.294 2008.66,215.189 2013.8,218.24 2018.93,221.447 2024.07,224.813 2029.21,228.337 2034.35,232.022 \n",
       "  2039.49,235.868 2044.62,239.877 2049.76,244.05 2054.9,248.387 2060.04,252.89 2065.18,257.561 2070.32,262.399 2075.45,267.407 2080.59,272.586 2085.73,277.936 \n",
       "  2090.87,283.46 2096.01,289.157 2101.14,295.029 2106.28,301.078 2111.42,307.304 2116.56,313.708 2121.7,320.292 2126.83,327.058 2131.97,334.005 2137.11,341.135 \n",
       "  2142.25,348.449 2147.39,355.949 2152.52,363.636 2157.66,371.51 2162.8,379.573 2167.94,387.826 2173.08,396.27 2178.22,404.906 2183.35,413.736 2188.49,422.761 \n",
       "  2193.63,431.981 2198.77,441.398 2203.91,451.013 2209.04,460.827 2214.18,470.841 2219.32,481.057 2224.46,491.475 2229.6,502.098 2234.73,512.924 2239.87,523.957 \n",
       "  2245.01,535.198 2250.15,546.646 2255.29,558.304 2260.42,570.172 2265.56,582.252 2270.7,594.545 2275.84,607.052 2280.98,619.774 2286.11,632.713 2291.25,645.869 \n",
       "  \n",
       "  \"/>\n",
       "<path clip-path=\"url(#clip360)\" d=\"\n",
       "M252.09 337.138 L923.174 337.138 L923.174 95.2176 L252.09 95.2176  Z\n",
       "  \" fill=\"#ffffff\" fill-rule=\"evenodd\" fill-opacity=\"1\"/>\n",
       "<polyline clip-path=\"url(#clip360)\" style=\"stroke:#000000; stroke-width:4; stroke-opacity:1; fill:none\" points=\"\n",
       "  252.09,337.138 923.174,337.138 923.174,95.2176 252.09,95.2176 252.09,337.138 \n",
       "  \"/>\n",
       "<circle clip-path=\"url(#clip360)\" cx=\"348.673\" cy=\"155.698\" r=\"23\" fill=\"#009af9\" fill-rule=\"evenodd\" fill-opacity=\"1\" stroke=\"#000000\" stroke-opacity=\"1\" stroke-width=\"5.12\"/>\n",
       "<path clip-path=\"url(#clip360)\" d=\"M 0 0 M463.681 147.816 L463.681 151.843 Q461.875 150.917 459.931 150.455 Q457.986 149.992 455.903 149.992 Q452.732 149.992 451.135 150.964 Q449.561 151.936 449.561 153.88 Q449.561 155.362 450.695 156.218 Q451.829 157.052 455.255 157.816 L456.713 158.14 Q461.25 159.112 463.148 160.894 Q465.07 162.654 465.07 165.825 Q465.07 169.436 462.199 171.542 Q459.352 173.649 454.352 173.649 Q452.269 173.649 450 173.232 Q447.755 172.839 445.255 172.028 L445.255 167.63 Q447.616 168.857 449.908 169.482 Q452.199 170.084 454.445 170.084 Q457.454 170.084 459.074 169.066 Q460.695 168.024 460.695 166.149 Q460.695 164.413 459.514 163.487 Q458.357 162.561 454.399 161.704 L452.917 161.357 Q448.959 160.524 447.199 158.811 Q445.44 157.075 445.44 154.066 Q445.44 150.408 448.033 148.418 Q450.625 146.427 455.394 146.427 Q457.755 146.427 459.838 146.774 Q461.922 147.121 463.681 147.816 Z\" fill=\"#000000\" fill-rule=\"evenodd\" fill-opacity=\"1\" /><path clip-path=\"url(#clip360)\" d=\"M 0 0 M481.32 159.945 Q476.158 159.945 474.167 161.126 Q472.176 162.306 472.176 165.154 Q472.176 167.422 473.658 168.765 Q475.162 170.084 477.732 170.084 Q481.273 170.084 483.403 167.584 Q485.556 165.061 485.556 160.894 L485.556 159.945 L481.32 159.945 M489.815 158.186 L489.815 172.978 L485.556 172.978 L485.556 169.042 Q484.097 171.403 481.922 172.538 Q479.746 173.649 476.597 173.649 Q472.616 173.649 470.255 171.427 Q467.917 169.181 467.917 165.431 Q467.917 161.056 470.834 158.834 Q473.773 156.612 479.584 156.612 L485.556 156.612 L485.556 156.195 Q485.556 153.255 483.611 151.658 Q481.69 150.038 478.195 150.038 Q475.972 150.038 473.866 150.57 Q471.76 151.103 469.815 152.167 L469.815 148.232 Q472.153 147.33 474.352 146.89 Q476.551 146.427 478.635 146.427 Q484.259 146.427 487.037 149.343 Q489.815 152.26 489.815 158.186 Z\" fill=\"#000000\" fill-rule=\"evenodd\" fill-opacity=\"1\" /><path clip-path=\"url(#clip360)\" d=\"M 0 0 M514.468 152.029 Q516.065 149.158 518.287 147.793 Q520.509 146.427 523.519 146.427 Q527.569 146.427 529.768 149.274 Q531.968 152.098 531.968 157.329 L531.968 172.978 L527.685 172.978 L527.685 157.468 Q527.685 153.742 526.366 151.936 Q525.046 150.13 522.338 150.13 Q519.028 150.13 517.107 152.33 Q515.185 154.529 515.185 158.325 L515.185 172.978 L510.903 172.978 L510.903 157.468 Q510.903 153.718 509.583 151.936 Q508.264 150.13 505.509 150.13 Q502.245 150.13 500.324 152.353 Q498.403 154.552 498.403 158.325 L498.403 172.978 L494.121 172.978 L494.121 147.052 L498.403 147.052 L498.403 151.08 Q499.861 148.695 501.898 147.561 Q503.935 146.427 506.736 146.427 Q509.56 146.427 511.528 147.862 Q513.519 149.297 514.468 152.029 Z\" fill=\"#000000\" fill-rule=\"evenodd\" fill-opacity=\"1\" /><path clip-path=\"url(#clip360)\" d=\"M 0 0 M540.555 169.089 L540.555 182.839 L536.273 182.839 L536.273 147.052 L540.555 147.052 L540.555 150.987 Q541.898 148.672 543.935 147.561 Q545.995 146.427 548.842 146.427 Q553.565 146.427 556.504 150.177 Q559.467 153.927 559.467 160.038 Q559.467 166.149 556.504 169.899 Q553.565 173.649 548.842 173.649 Q545.995 173.649 543.935 172.538 Q541.898 171.403 540.555 169.089 M555.046 160.038 Q555.046 155.339 553.102 152.677 Q551.18 149.992 547.801 149.992 Q544.421 149.992 542.477 152.677 Q540.555 155.339 540.555 160.038 Q540.555 164.737 542.477 167.422 Q544.421 170.084 547.801 170.084 Q551.18 170.084 553.102 167.422 Q555.046 164.737 555.046 160.038 Z\" fill=\"#000000\" fill-rule=\"evenodd\" fill-opacity=\"1\" /><path clip-path=\"url(#clip360)\" d=\"M 0 0 M563.935 136.959 L568.194 136.959 L568.194 172.978 L563.935 172.978 L563.935 136.959 Z\" fill=\"#000000\" fill-rule=\"evenodd\" fill-opacity=\"1\" /><path clip-path=\"url(#clip360)\" d=\"M 0 0 M594.838 158.95 L594.838 161.033 L575.254 161.033 Q575.532 165.431 577.893 167.746 Q580.277 170.038 584.514 170.038 Q586.967 170.038 589.259 169.436 Q591.574 168.834 593.842 167.63 L593.842 171.658 Q591.551 172.63 589.143 173.14 Q586.736 173.649 584.259 173.649 Q578.055 173.649 574.421 170.038 Q570.81 166.427 570.81 160.269 Q570.81 153.904 574.236 150.177 Q577.685 146.427 583.518 146.427 Q588.75 146.427 591.782 149.806 Q594.838 153.163 594.838 158.95 M590.578 157.7 Q590.532 154.205 588.611 152.121 Q586.713 150.038 583.564 150.038 Q580 150.038 577.847 152.052 Q575.717 154.066 575.393 157.723 L590.578 157.7 Z\" fill=\"#000000\" fill-rule=\"evenodd\" fill-opacity=\"1\" /><polyline clip-path=\"url(#clip360)\" style=\"stroke:#0000ff; stroke-width:4; stroke-opacity:1; fill:none\" stroke-dasharray=\"16, 10\" points=\"\n",
       "  276.236,216.178 421.109,216.178 \n",
       "  \"/>\n",
       "<path clip-path=\"url(#clip360)\" d=\"M 0 0 M463.681 208.296 L463.681 212.323 Q461.875 211.397 459.931 210.935 Q457.986 210.472 455.903 210.472 Q452.732 210.472 451.135 211.444 Q449.561 212.416 449.561 214.36 Q449.561 215.842 450.695 216.698 Q451.829 217.532 455.255 218.296 L456.713 218.62 Q461.25 219.592 463.148 221.374 Q465.07 223.134 465.07 226.305 Q465.07 229.916 462.199 232.022 Q459.352 234.129 454.352 234.129 Q452.269 234.129 450 233.712 Q447.755 233.319 445.255 232.508 L445.255 228.11 Q447.616 229.337 449.908 229.962 Q452.199 230.564 454.445 230.564 Q457.454 230.564 459.074 229.546 Q460.695 228.504 460.695 226.629 Q460.695 224.893 459.514 223.967 Q458.357 223.041 454.399 222.184 L452.917 221.837 Q448.959 221.004 447.199 219.291 Q445.44 217.555 445.44 214.546 Q445.44 210.888 448.033 208.898 Q450.625 206.907 455.394 206.907 Q457.755 206.907 459.838 207.254 Q461.922 207.601 463.681 208.296 Z\" fill=\"#000000\" fill-rule=\"evenodd\" fill-opacity=\"1\" /><path clip-path=\"url(#clip360)\" d=\"M 0 0 M469.537 207.532 L473.797 207.532 L473.797 233.458 L469.537 233.458 L469.537 207.532 M469.537 197.439 L473.797 197.439 L473.797 202.833 L469.537 202.833 L469.537 197.439 Z\" fill=\"#000000\" fill-rule=\"evenodd\" fill-opacity=\"1\" /><path clip-path=\"url(#clip360)\" d=\"M 0 0 M499.815 217.809 L499.815 233.458 L495.556 233.458 L495.556 217.948 Q495.556 214.268 494.121 212.439 Q492.685 210.61 489.815 210.61 Q486.366 210.61 484.375 212.81 Q482.384 215.009 482.384 218.805 L482.384 233.458 L478.102 233.458 L478.102 207.532 L482.384 207.532 L482.384 211.56 Q483.912 209.222 485.972 208.064 Q488.056 206.907 490.764 206.907 Q495.232 206.907 497.523 209.685 Q499.815 212.439 499.815 217.809 Z\" fill=\"#000000\" fill-rule=\"evenodd\" fill-opacity=\"1\" /><path clip-path=\"url(#clip360)\" d=\"M 0 0 M514.514 197.486 Q511.412 202.81 509.907 208.018 Q508.403 213.226 508.403 218.573 Q508.403 223.921 509.907 229.175 Q511.435 234.407 514.514 239.708 L510.81 239.708 Q507.338 234.268 505.602 229.013 Q503.889 223.759 503.889 218.573 Q503.889 213.411 505.602 208.18 Q507.315 202.948 510.81 197.486 L514.514 197.486 Z\" fill=\"#000000\" fill-rule=\"evenodd\" fill-opacity=\"1\" /><path clip-path=\"url(#clip360)\" d=\"M 0 0 M540.532 207.532 L531.157 220.147 L541.018 233.458 L535.995 233.458 L528.449 223.272 L520.903 233.458 L515.88 233.458 L525.949 219.893 L516.736 207.532 L521.759 207.532 L528.634 216.768 L535.509 207.532 L540.532 207.532 Z\" fill=\"#000000\" fill-rule=\"evenodd\" fill-opacity=\"1\" /><path clip-path=\"url(#clip360)\" d=\"M 0 0 M544.815 197.486 L548.518 197.486 Q551.991 202.948 553.704 208.18 Q555.44 213.411 555.44 218.573 Q555.44 223.759 553.704 229.013 Q551.991 234.268 548.518 239.708 L544.815 239.708 Q547.893 234.407 549.398 229.175 Q550.926 223.921 550.926 218.573 Q550.926 213.226 549.398 208.018 Q547.893 202.81 544.815 197.486 Z\" fill=\"#000000\" fill-rule=\"evenodd\" fill-opacity=\"1\" /><polyline clip-path=\"url(#clip360)\" style=\"stroke:#ff0000; stroke-width:4; stroke-opacity:1; fill:none\" points=\"\n",
       "  276.236,276.658 421.109,276.658 \n",
       "  \"/>\n",
       "<path clip-path=\"url(#clip360)\" d=\"M 0 0 M464.167 271.947 L464.167 257.919 L468.426 257.919 L468.426 293.938 L464.167 293.938 L464.167 290.049 Q462.824 292.363 460.764 293.498 Q458.727 294.609 455.857 294.609 Q451.158 294.609 448.195 290.859 Q445.255 287.109 445.255 280.998 Q445.255 274.887 448.195 271.137 Q451.158 267.387 455.857 267.387 Q458.727 267.387 460.764 268.521 Q462.824 269.632 464.167 271.947 M449.653 280.998 Q449.653 285.697 451.574 288.382 Q453.519 291.044 456.899 291.044 Q460.278 291.044 462.223 288.382 Q464.167 285.697 464.167 280.998 Q464.167 276.299 462.223 273.637 Q460.278 270.952 456.899 270.952 Q453.519 270.952 451.574 273.637 Q449.653 276.299 449.653 280.998 Z\" fill=\"#000000\" fill-rule=\"evenodd\" fill-opacity=\"1\" /><path clip-path=\"url(#clip360)\" d=\"M 0 0 M495.07 279.91 L495.07 281.993 L475.486 281.993 Q475.764 286.391 478.125 288.706 Q480.509 290.998 484.746 290.998 Q487.199 290.998 489.491 290.396 Q491.806 289.794 494.074 288.59 L494.074 292.618 Q491.783 293.59 489.375 294.1 Q486.968 294.609 484.491 294.609 Q478.287 294.609 474.653 290.998 Q471.042 287.387 471.042 281.229 Q471.042 274.864 474.468 271.137 Q477.917 267.387 483.75 267.387 Q488.982 267.387 492.014 270.766 Q495.07 274.123 495.07 279.91 M490.81 278.66 Q490.764 275.165 488.843 273.081 Q486.945 270.998 483.797 270.998 Q480.232 270.998 478.079 273.012 Q475.949 275.026 475.625 278.683 L490.81 278.66 Z\" fill=\"#000000\" fill-rule=\"evenodd\" fill-opacity=\"1\" /><path clip-path=\"url(#clip360)\" d=\"M 0 0 M516.597 280.674 Q516.597 276.044 514.676 273.498 Q512.778 270.952 509.329 270.952 Q505.903 270.952 503.982 273.498 Q502.083 276.044 502.083 280.674 Q502.083 285.28 503.982 287.826 Q505.903 290.373 509.329 290.373 Q512.778 290.373 514.676 287.826 Q516.597 285.28 516.597 280.674 M520.856 290.72 Q520.856 297.34 517.917 300.558 Q514.977 303.799 508.912 303.799 Q506.667 303.799 504.676 303.451 Q502.685 303.127 500.81 302.433 L500.81 298.289 Q502.685 299.308 504.514 299.794 Q506.343 300.28 508.241 300.28 Q512.431 300.28 514.514 298.081 Q516.597 295.905 516.597 291.484 L516.597 289.377 Q515.278 291.669 513.218 292.803 Q511.157 293.938 508.287 293.938 Q503.519 293.938 500.602 290.303 Q497.685 286.669 497.685 280.674 Q497.685 274.655 500.602 271.021 Q503.519 267.387 508.287 267.387 Q511.157 267.387 513.218 268.521 Q515.278 269.655 516.597 271.947 L516.597 268.012 L520.856 268.012 L520.856 290.72 Z\" fill=\"#000000\" fill-rule=\"evenodd\" fill-opacity=\"1\" /><path clip-path=\"url(#clip360)\" d=\"M 0 0 M540.347 271.993 Q539.63 271.577 538.773 271.391 Q537.94 271.183 536.921 271.183 Q533.31 271.183 531.366 273.544 Q529.444 275.882 529.444 280.28 L529.444 293.938 L525.162 293.938 L525.162 268.012 L529.444 268.012 L529.444 272.04 Q530.787 269.678 532.94 268.544 Q535.093 267.387 538.171 267.387 Q538.611 267.387 539.143 267.456 Q539.676 267.503 540.324 267.618 L540.347 271.993 Z\" fill=\"#000000\" fill-rule=\"evenodd\" fill-opacity=\"1\" /><path clip-path=\"url(#clip360)\" d=\"M 0 0 M565.949 279.91 L565.949 281.993 L546.366 281.993 Q546.643 286.391 549.004 288.706 Q551.389 290.998 555.625 290.998 Q558.079 290.998 560.37 290.396 Q562.685 289.794 564.953 288.59 L564.953 292.618 Q562.662 293.59 560.254 294.1 Q557.847 294.609 555.37 294.609 Q549.167 294.609 545.532 290.998 Q541.921 287.387 541.921 281.229 Q541.921 274.864 545.347 271.137 Q548.796 267.387 554.629 267.387 Q559.861 267.387 562.893 270.766 Q565.949 274.123 565.949 279.91 M561.69 278.66 Q561.643 275.165 559.722 273.081 Q557.824 270.998 554.676 270.998 Q551.111 270.998 548.958 273.012 Q546.829 275.026 546.505 278.683 L561.69 278.66 Z\" fill=\"#000000\" fill-rule=\"evenodd\" fill-opacity=\"1\" /><path clip-path=\"url(#clip360)\" d=\"M 0 0 M592.592 279.91 L592.592 281.993 L573.009 281.993 Q573.287 286.391 575.648 288.706 Q578.032 290.998 582.268 290.998 Q584.722 290.998 587.014 290.396 Q589.328 289.794 591.597 288.59 L591.597 292.618 Q589.305 293.59 586.898 294.1 Q584.49 294.609 582.014 294.609 Q575.81 294.609 572.176 290.998 Q568.565 287.387 568.565 281.229 Q568.565 274.864 571.99 271.137 Q575.44 267.387 581.273 267.387 Q586.504 267.387 589.537 270.766 Q592.592 274.123 592.592 279.91 M588.333 278.66 Q588.287 275.165 586.365 273.081 Q584.467 270.998 581.319 270.998 Q577.754 270.998 575.602 273.012 Q573.472 275.026 573.148 278.683 L588.333 278.66 Z\" fill=\"#000000\" fill-rule=\"evenodd\" fill-opacity=\"1\" /><path clip-path=\"url(#clip360)\" d=\"M 0 0 M594.907 279.053 L607.384 279.053 L607.384 282.85 L594.907 282.85 L594.907 279.053 Z\" fill=\"#000000\" fill-rule=\"evenodd\" fill-opacity=\"1\" /><path clip-path=\"url(#clip360)\" d=\"M 0 0 M626.62 275.303 Q629.976 276.021 631.851 278.289 Q633.749 280.558 633.749 283.891 Q633.749 289.007 630.231 291.808 Q626.712 294.609 620.231 294.609 Q618.055 294.609 615.74 294.169 Q613.449 293.752 610.995 292.896 L610.995 288.382 Q612.939 289.516 615.254 290.095 Q617.569 290.674 620.092 290.674 Q624.49 290.674 626.782 288.938 Q629.097 287.201 629.097 283.891 Q629.097 280.836 626.944 279.123 Q624.814 277.387 620.995 277.387 L616.967 277.387 L616.967 273.544 L621.18 273.544 Q624.629 273.544 626.458 272.178 Q628.286 270.79 628.286 268.197 Q628.286 265.535 626.388 264.123 Q624.513 262.688 620.995 262.688 Q619.074 262.688 616.875 263.104 Q614.675 263.521 612.037 264.401 L612.037 260.234 Q614.699 259.493 617.013 259.123 Q619.351 258.753 621.412 258.753 Q626.736 258.753 629.837 261.183 Q632.939 263.59 632.939 267.711 Q632.939 270.581 631.296 272.572 Q629.652 274.54 626.62 275.303 Z\" fill=\"#000000\" fill-rule=\"evenodd\" fill-opacity=\"1\" /><path clip-path=\"url(#clip360)\" d=\"M 0 0 M657.407 290.049 L657.407 303.799 L653.124 303.799 L653.124 268.012 L657.407 268.012 L657.407 271.947 Q658.749 269.632 660.786 268.521 Q662.846 267.387 665.694 267.387 Q670.416 267.387 673.356 271.137 Q676.319 274.887 676.319 280.998 Q676.319 287.109 673.356 290.859 Q670.416 294.609 665.694 294.609 Q662.846 294.609 660.786 293.498 Q658.749 292.363 657.407 290.049 M671.897 280.998 Q671.897 276.299 669.953 273.637 Q668.032 270.952 664.652 270.952 Q661.272 270.952 659.328 273.637 Q657.407 276.299 657.407 280.998 Q657.407 285.697 659.328 288.382 Q661.272 291.044 664.652 291.044 Q668.032 291.044 669.953 288.382 Q671.897 285.697 671.897 280.998 Z\" fill=\"#000000\" fill-rule=\"evenodd\" fill-opacity=\"1\" /><path clip-path=\"url(#clip360)\" d=\"M 0 0 M690.832 270.998 Q687.407 270.998 685.416 273.683 Q683.425 276.345 683.425 280.998 Q683.425 285.651 685.393 288.336 Q687.383 290.998 690.832 290.998 Q694.235 290.998 696.226 288.313 Q698.217 285.627 698.217 280.998 Q698.217 276.391 696.226 273.706 Q694.235 270.998 690.832 270.998 M690.832 267.387 Q696.388 267.387 699.559 270.998 Q702.731 274.609 702.731 280.998 Q702.731 287.364 699.559 290.998 Q696.388 294.609 690.832 294.609 Q685.254 294.609 682.082 290.998 Q678.934 287.364 678.934 280.998 Q678.934 274.609 682.082 270.998 Q685.254 267.387 690.832 267.387 Z\" fill=\"#000000\" fill-rule=\"evenodd\" fill-opacity=\"1\" /><path clip-path=\"url(#clip360)\" d=\"M 0 0 M707.198 257.919 L711.457 257.919 L711.457 293.938 L707.198 293.938 L707.198 257.919 Z\" fill=\"#000000\" fill-rule=\"evenodd\" fill-opacity=\"1\" /><path clip-path=\"url(#clip360)\" d=\"M 0 0 M726.712 296.345 Q724.906 300.975 723.193 302.387 Q721.48 303.799 718.61 303.799 L715.207 303.799 L715.207 300.234 L717.707 300.234 Q719.467 300.234 720.439 299.4 Q721.411 298.567 722.592 295.465 L723.355 293.521 L712.869 268.012 L717.383 268.012 L725.485 288.289 L733.587 268.012 L738.101 268.012 L726.712 296.345 Z\" fill=\"#000000\" fill-rule=\"evenodd\" fill-opacity=\"1\" /><path clip-path=\"url(#clip360)\" d=\"M 0 0 M764.119 278.289 L764.119 293.938 L759.86 293.938 L759.86 278.428 Q759.86 274.748 758.425 272.919 Q756.989 271.09 754.119 271.09 Q750.67 271.09 748.679 273.29 Q746.689 275.489 746.689 279.285 L746.689 293.938 L742.406 293.938 L742.406 268.012 L746.689 268.012 L746.689 272.04 Q748.216 269.702 750.277 268.544 Q752.36 267.387 755.068 267.387 Q759.536 267.387 761.827 270.165 Q764.119 272.919 764.119 278.289 Z\" fill=\"#000000\" fill-rule=\"evenodd\" fill-opacity=\"1\" /><path clip-path=\"url(#clip360)\" d=\"M 0 0 M778.633 270.998 Q775.207 270.998 773.216 273.683 Q771.226 276.345 771.226 280.998 Q771.226 285.651 773.193 288.336 Q775.184 290.998 778.633 290.998 Q782.036 290.998 784.026 288.313 Q786.017 285.627 786.017 280.998 Q786.017 276.391 784.026 273.706 Q782.036 270.998 778.633 270.998 M778.633 267.387 Q784.188 267.387 787.36 270.998 Q790.531 274.609 790.531 280.998 Q790.531 287.364 787.36 290.998 Q784.188 294.609 778.633 294.609 Q773.054 294.609 769.883 290.998 Q766.735 287.364 766.735 280.998 Q766.735 274.609 769.883 270.998 Q773.054 267.387 778.633 267.387 Z\" fill=\"#000000\" fill-rule=\"evenodd\" fill-opacity=\"1\" /><path clip-path=\"url(#clip360)\" d=\"M 0 0 M815.184 272.989 Q816.781 270.118 819.003 268.753 Q821.225 267.387 824.235 267.387 Q828.285 267.387 830.484 270.234 Q832.684 273.058 832.684 278.289 L832.684 293.938 L828.401 293.938 L828.401 278.428 Q828.401 274.702 827.082 272.896 Q825.762 271.09 823.054 271.09 Q819.744 271.09 817.822 273.29 Q815.901 275.489 815.901 279.285 L815.901 293.938 L811.619 293.938 L811.619 278.428 Q811.619 274.678 810.299 272.896 Q808.98 271.09 806.225 271.09 Q802.961 271.09 801.04 273.313 Q799.119 275.512 799.119 279.285 L799.119 293.938 L794.837 293.938 L794.837 268.012 L799.119 268.012 L799.119 272.04 Q800.577 269.655 802.614 268.521 Q804.651 267.387 807.452 267.387 Q810.276 267.387 812.244 268.822 Q814.235 270.257 815.184 272.989 Z\" fill=\"#000000\" fill-rule=\"evenodd\" fill-opacity=\"1\" /><path clip-path=\"url(#clip360)\" d=\"M 0 0 M837.151 268.012 L841.41 268.012 L841.41 293.938 L837.151 293.938 L837.151 268.012 M837.151 257.919 L841.41 257.919 L841.41 263.313 L837.151 263.313 L837.151 257.919 Z\" fill=\"#000000\" fill-rule=\"evenodd\" fill-opacity=\"1\" /><path clip-path=\"url(#clip360)\" d=\"M 0 0 M857.66 280.905 Q852.498 280.905 850.508 282.086 Q848.517 283.266 848.517 286.114 Q848.517 288.382 849.998 289.725 Q851.503 291.044 854.072 291.044 Q857.614 291.044 859.744 288.544 Q861.896 286.021 861.896 281.854 L861.896 280.905 L857.66 280.905 M866.156 279.146 L866.156 293.938 L861.896 293.938 L861.896 290.002 Q860.438 292.363 858.262 293.498 Q856.086 294.609 852.938 294.609 Q848.957 294.609 846.595 292.387 Q844.258 290.141 844.258 286.391 Q844.258 282.016 847.174 279.794 Q850.114 277.572 855.924 277.572 L861.896 277.572 L861.896 277.155 Q861.896 274.215 859.952 272.618 Q858.031 270.998 854.535 270.998 Q852.313 270.998 850.207 271.53 Q848.1 272.063 846.156 273.127 L846.156 269.192 Q848.494 268.29 850.693 267.85 Q852.892 267.387 854.975 267.387 Q860.6 267.387 863.378 270.303 Q866.156 273.22 866.156 279.146 Z\" fill=\"#000000\" fill-rule=\"evenodd\" fill-opacity=\"1\" /><path clip-path=\"url(#clip360)\" d=\"M 0 0 M870.623 257.919 L874.882 257.919 L874.882 293.938 L870.623 293.938 L870.623 257.919 Z\" fill=\"#000000\" fill-rule=\"evenodd\" fill-opacity=\"1\" /></svg>\n"
      ]
     },
     "execution_count": 19,
     "metadata": {},
     "output_type": "execute_result"
    }
   ],
   "source": [
    "@teval (:block, \n",
    "    (:using, (:., :Plots)), \n",
    "    (:(=), :n, 20), \n",
    "    (:(=), :x, (:range, (:parameters, (:kw, :length, 20)), (:-, :π), :π)), \n",
    "    (:(=), :noise, (:*, 0.3, (:randn, :n))), \n",
    "    (:(=), :y, (:+, (:., :sin, (:tuple, :x)), :noise)), \n",
    "    (:(=), :X, \n",
    "        (:hcat, (:..., (:generator, (:call, :.^, :x, :k), (:(=), :k, (:(:), 0, 3)))))), \n",
    "    (:(=), :b, (:\\, :X, :y)), \n",
    "    (:(=), (:call, :f, :x), \n",
    "        (:sum, (:generator, (:*, (:ref, :b, (:+, :k, 1)), (:^, :x, :k)), \n",
    "            (:(=), :k, (:(:), 0, 3))))), \n",
    "    (:(=), :xs, (:range, (:parameters, (:kw, :length, 400)), (:-, :π), :π)), \n",
    "    (:plot, (:parameters, (:kw, :legend, QuoteNode(:topleft)))), \n",
    "    (:scatter!, (:parameters, (:kw, :label, \"sample\")), :x, :y), \n",
    "    (:plot!, (:parameters, \n",
    "            (:kw, :label, \"sin(x)\"), \n",
    "            (:kw, :color, QuoteNode(:blue)), \n",
    "            (:kw, :ls, QuoteNode(:dash))), \n",
    "        :xs, (:., :sin, (:tuple, :xs))), \n",
    "    (:plot!, (:parameters, \n",
    "            (:kw, :label, \"degree-3 polynomial\"), \n",
    "            (:kw, :color, QuoteNode(:red)), \n",
    "            (:kw, :lw, 2)), \n",
    "        :xs, (:., :f, (:tuple, :xs))))"
   ]
  },
  {
   "cell_type": "code",
   "execution_count": 20,
   "metadata": {},
   "outputs": [
    {
     "data": {
      "text/markdown": [
       "```julia\n",
       "begin\n",
       "    using Plots\n",
       "    n = 20\n",
       "    x = range(-π, π; length = 20)\n",
       "    noise = 0.3 * randn(n)\n",
       "    y = sin.(x) + noise\n",
       "    X = hcat((x .^ k for k = 0:3)...)\n",
       "    b = X \\ y\n",
       "    f(x) = sum((b[k + 1] * x ^ k for k = 0:3))\n",
       "    xs = range(-π, π; length = 400)\n",
       "    plot(; legend = :topleft)\n",
       "    scatter!(x, y; label = \"sample\")\n",
       "    plot!(xs, sin.(xs); label = \"sin(x)\", color = :blue, ls = :dash)\n",
       "    plot!(xs, f.(xs); label = \"degree-3 polynomial\", color = :red, lw = 2)\n",
       "end\n",
       "```"
      ]
     },
     "metadata": {},
     "output_type": "display_data"
    }
   ],
   "source": [
    "(:block, \n",
    "    (:using, (:., :Plots)), \n",
    "    (:(=), :n, 20), \n",
    "    (:(=), :x, (:range, (:parameters, (:kw, :length, 20)), (:-, :π), :π)), \n",
    "    (:(=), :noise, (:*, 0.3, (:randn, :n))), \n",
    "    (:(=), :y, (:+, (:., :sin, (:tuple, :x)), :noise)), \n",
    "    (:(=), :X, \n",
    "        (:hcat, (:..., (:generator, (:call, :.^, :x, :k), (:(=), :k, (:(:), 0, 3)))))), \n",
    "    (:(=), :b, (:\\, :X, :y)), \n",
    "    (:(=), (:call, :f, :x), \n",
    "        (:sum, (:generator, (:*, (:ref, :b, (:+, :k, 1)), (:^, :x, :k)), \n",
    "            (:(=), :k, (:(:), 0, 3))))), \n",
    "    (:(=), :xs, (:range, (:parameters, (:kw, :length, 400)), (:-, :π), :π)), \n",
    "    (:plot, (:parameters, (:kw, :legend, QuoteNode(:topleft)))), \n",
    "    (:scatter!, (:parameters, (:kw, :label, \"sample\")), :x, :y), \n",
    "    (:plot!, (:parameters, \n",
    "            (:kw, :label, \"sin(x)\"), \n",
    "            (:kw, :color, QuoteNode(:blue)), \n",
    "            (:kw, :ls, QuoteNode(:dash))), \n",
    "        :xs, (:., :sin, (:tuple, :xs))), \n",
    "    (:plot!, (:parameters, \n",
    "            (:kw, :label, \"degree-3 polynomial\"), \n",
    "            (:kw, :color, QuoteNode(:red)), \n",
    "            (:kw, :lw, 2)), \n",
    "        :xs, (:., :f, (:tuple, :xs)))) |> texpr2expr |> \n",
    "x -> display(\"text/markdown\", \"```julia\\n$x\\n```\")"
   ]
  },
  {
   "cell_type": "code",
   "execution_count": null,
   "metadata": {},
   "outputs": [],
   "source": []
  }
 ],
 "metadata": {
  "@webio": {
   "lastCommId": null,
   "lastKernelId": null
  },
  "jupytext": {
   "formats": "ipynb,md"
  },
  "kernelspec": {
   "display_name": "Julia MKL depwarn -O3 1.5.2",
   "language": "julia",
   "name": "julia-mkl-depwarn--o3-1.5"
  },
  "language_info": {
   "file_extension": ".jl",
   "mimetype": "application/julia",
   "name": "julia",
   "version": "1.5.2"
  },
  "toc": {
   "base_numbering": 1,
   "nav_menu": {},
   "number_sections": true,
   "sideBar": true,
   "skip_h1_title": false,
   "title_cell": "Table of Contents",
   "title_sidebar": "Contents",
   "toc_cell": false,
   "toc_position": {},
   "toc_section_display": true,
   "toc_window_display": false
  }
 },
 "nbformat": 4,
 "nbformat_minor": 4
}
