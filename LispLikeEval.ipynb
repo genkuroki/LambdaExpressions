{
 "cells": [
  {
   "cell_type": "markdown",
   "metadata": {},
   "source": [
    "# LispLikeEval.ipynb\n",
    "\n",
    "* Author: Gen Kuroki\n",
    "* Date: 2020-10-19\n",
    "* Repository: https://github.com/genkuroki/LispLikeEval.jl\n",
    "\n",
    "**Installation**\n",
    "```\n",
    "pkg> add https://github.com/genkuroki/LispLikeEval.jl\n",
    "```"
   ]
  },
  {
   "cell_type": "markdown",
   "metadata": {
    "toc": true
   },
   "source": [
    "<h1>Table of Contents<span class=\"tocSkip\"></span></h1>\n",
    "<div class=\"toc\"><ul class=\"toc-item\"><li><span><a href=\"#Examples\" data-toc-modified-id=\"Examples-1\"><span class=\"toc-item-num\">1&nbsp;&nbsp;</span>Examples</a></span></li><li><span><a href=\"#Plot-example-of-MetaUtils.@teval\" data-toc-modified-id=\"Plot-example-of-MetaUtils.@teval-2\"><span class=\"toc-item-num\">2&nbsp;&nbsp;</span>Plot example of MetaUtils.@teval</a></span></li><li><span><a href=\"#Documents\" data-toc-modified-id=\"Documents-3\"><span class=\"toc-item-num\">3&nbsp;&nbsp;</span>Documents</a></span></li></ul></div>"
   ]
  },
  {
   "cell_type": "code",
   "execution_count": 1,
   "metadata": {},
   "outputs": [
    {
     "name": "stderr",
     "output_type": "stream",
     "text": [
      "\u001b[32m\u001b[1m Activating\u001b[22m\u001b[39m environment at `C:\\Users\\genkuroki\\OneDrive\\work\\LispLikeEval.jl\\Project.toml`\n"
     ]
    }
   ],
   "source": [
    "if isfile(\"Project.toml\")\n",
    "    using Pkg\n",
    "    Pkg.activate(\".\")\n",
    "    using Revise\n",
    "end"
   ]
  },
  {
   "cell_type": "code",
   "execution_count": 2,
   "metadata": {},
   "outputs": [
    {
     "name": "stderr",
     "output_type": "stream",
     "text": [
      "┌ Info: Precompiling LispLikeEval [75a861b3-8f1b-477e-b3cd-11ffebdbd227]\n",
      "└ @ Base loading.jl:1278\n"
     ]
    }
   ],
   "source": [
    "using LispLikeEval\n",
    "using MetaUtils"
   ]
  },
  {
   "cell_type": "markdown",
   "metadata": {},
   "source": [
    "## Examples"
   ]
  },
  {
   "cell_type": "code",
   "execution_count": 3,
   "metadata": {},
   "outputs": [
    {
     "name": "stdout",
     "output_type": "stream",
     "text": [
      ":((lambda((x, y), x + y))(1, 2))\n",
      "\n",
      "(:call, \n",
      "    (:call, :lambda, \n",
      "        (:tuple, :x, :y), \n",
      "        (:call, :+, :x, :y)), 1, 2)\n",
      "\n",
      "|\n",
      "V\n",
      "\n",
      ":(let\n",
      "      x = 1\n",
      "      y = 2\n",
      "      x + y\n",
      "  end)\n",
      "\n",
      "(:let, \n",
      "    (:block,), \n",
      "    (:block, \n",
      "        (:(=), :x, 1), \n",
      "        (:(=), :y, 2), \n",
      "        (:call, :+, :x, :y)))\n",
      "\n"
     ]
    },
    {
     "data": {
      "text/plain": [
       "3"
      ]
     },
     "execution_count": 3,
     "metadata": {},
     "output_type": "execute_result"
    }
   ],
   "source": [
    "lexpr = :(lambda((x, y), x+y)(1, 2))\n",
    "show(lexpr); println(\"\\n\")\n",
    "show_texpr(lexpr); println(\"\\n\")\n",
    "\n",
    "println(\"|\\nV\\n\")\n",
    "\n",
    "expr = lexpr2expr(lexpr)\n",
    "show(expr); println(\"\\n\")\n",
    "show_texpr(expr); println(\"\\n\")\n",
    "\n",
    "@leval lambda((x, y), x+y)(1, 2)"
   ]
  },
  {
   "cell_type": "code",
   "execution_count": 4,
   "metadata": {},
   "outputs": [
    {
     "name": "stdout",
     "output_type": "stream",
     "text": [
      ":((lambda((f, x), f(x)))(lambda(x, cond((iszero(x), 1), (true, x * f(x - 1)))), 10))\n",
      "\n",
      "(:call, \n",
      "    (:call, :lambda, \n",
      "        (:tuple, :f, :x), \n",
      "        (:call, :f, :x)), \n",
      "    (:call, :lambda, :x, \n",
      "        (:call, :cond, \n",
      "            (:tuple, \n",
      "                (:call, :iszero, :x), 1), \n",
      "            (:tuple, true, \n",
      "                (:call, :*, :x, \n",
      "                    (:call, :f, \n",
      "                        (:call, :-, :x, 1)))))), 10)\n",
      "\n",
      "|\n",
      "V\n",
      "\n",
      ":(let\n",
      "      f = (x->if iszero(x)\n",
      "                  1\n",
      "              elseif true\n",
      "                  x * f(x - 1)\n",
      "              end)\n",
      "      x = 10\n",
      "      f(x)\n",
      "  end)\n",
      "\n",
      "(:let, \n",
      "    (:block,), \n",
      "    (:block, \n",
      "        (:(=), :f, \n",
      "            (:->, :x, \n",
      "                (:if, \n",
      "                    (:call, :iszero, :x), \n",
      "                    (:block, 1), \n",
      "                    (:elseif, \n",
      "                        (:block, true), \n",
      "                        (:block, \n",
      "                            (:call, :*, :x, \n",
      "                                (:call, :f, \n",
      "                                    (:call, :-, :x, 1)))))))), \n",
      "        (:(=), :x, 10), \n",
      "        (:call, :f, :x)))\n",
      "\n"
     ]
    },
    {
     "data": {
      "text/plain": [
       "3628800"
      ]
     },
     "execution_count": 4,
     "metadata": {},
     "output_type": "execute_result"
    }
   ],
   "source": [
    "lexpr = :(lambda((f, x), f(x))(\n",
    "        lambda(x, cond((iszero(x), 1), (true, x*f(x-1)))),\n",
    "        10))\n",
    "show(lexpr); println(\"\\n\")\n",
    "show_texpr(lexpr); println(\"\\n\")\n",
    "\n",
    "println(\"|\\nV\\n\")\n",
    "\n",
    "expr = lexpr2expr(lexpr)\n",
    "show(expr); println(\"\\n\")\n",
    "show_texpr(expr); println(\"\\n\")\n",
    "\n",
    "@leval lambda((f, x), f(x))(\n",
    "    lambda(x, cond((iszero(x), 1), (true, x*f(x-1)))),\n",
    "    10)"
   ]
  },
  {
   "cell_type": "code",
   "execution_count": 5,
   "metadata": {},
   "outputs": [
    {
     "data": {
      "text/plain": [
       ":(let\n",
       "      assoc = ((k, v)->if eq(v, nil)\n",
       "                  nil\n",
       "              elseif eq(car(car(v)), k)\n",
       "                  car(v)\n",
       "              elseif true\n",
       "                  assoc(k, cdr(v))\n",
       "              end)\n",
       "      k = :Orange\n",
       "      v = (:Apple => 120, :Orange => 210, :Lemmon => 180)\n",
       "      assoc(k, v)\n",
       "  end)"
      ]
     },
     "execution_count": 5,
     "metadata": {},
     "output_type": "execute_result"
    }
   ],
   "source": [
    "@lexpr2expr lambda((assoc, k, v), assoc(k, v))(\n",
    "    lambda((k, v), cond(\n",
    "            (eq(v, nil), nil),\n",
    "            (eq(car(car(v)), k), car(v)), \n",
    "            (true, assoc(k, cdr(v))))),\n",
    "    :Orange,\n",
    "    (:Apple=>120, :Orange=>210, :Lemmon=>180))"
   ]
  },
  {
   "cell_type": "code",
   "execution_count": 6,
   "metadata": {},
   "outputs": [
    {
     "data": {
      "text/plain": [
       ":Apple => 120"
      ]
     },
     "execution_count": 6,
     "metadata": {},
     "output_type": "execute_result"
    }
   ],
   "source": [
    "@leval lambda((assoc, k, v), assoc(k, v))(\n",
    "    lambda((k, v), cond(\n",
    "            (eq(v, nil), nil),\n",
    "            (eq(car(car(v)), k), car(v)), \n",
    "            (true, assoc(k, cdr(v))))),\n",
    "    :Apple,\n",
    "    (:Apple=>120, :Orange=>210, :Lemmon=>180))"
   ]
  },
  {
   "cell_type": "code",
   "execution_count": 7,
   "metadata": {},
   "outputs": [
    {
     "data": {
      "text/plain": [
       ":Orange => 210"
      ]
     },
     "execution_count": 7,
     "metadata": {},
     "output_type": "execute_result"
    }
   ],
   "source": [
    "@leval lambda((assoc, k, v), assoc(k, v))(\n",
    "    lambda((k, v), cond(\n",
    "            (eq(v, nil), nil),\n",
    "            (eq(car(car(v)), k), car(v)), \n",
    "            (true, assoc(k, cdr(v))))),\n",
    "    :Orange,\n",
    "    (:Apple=>120, :Orange=>210, :Lemmon=>180))"
   ]
  },
  {
   "cell_type": "code",
   "execution_count": 8,
   "metadata": {},
   "outputs": [
    {
     "data": {
      "text/plain": [
       ":Lemmon => 180"
      ]
     },
     "execution_count": 8,
     "metadata": {},
     "output_type": "execute_result"
    }
   ],
   "source": [
    "@leval lambda((assoc, k, v), assoc(k, v))(\n",
    "    lambda((k, v), cond(\n",
    "            (eq(v, nil), nil),\n",
    "            (eq(car(car(v)), k), car(v)), \n",
    "            (true, assoc(k, cdr(v))))),\n",
    "    :Lemmon,\n",
    "    (:Apple=>120, :Orange=>210, :Lemmon=>180))"
   ]
  },
  {
   "cell_type": "code",
   "execution_count": 9,
   "metadata": {},
   "outputs": [
    {
     "data": {
      "text/plain": [
       "nil"
      ]
     },
     "execution_count": 9,
     "metadata": {},
     "output_type": "execute_result"
    }
   ],
   "source": [
    "@leval lambda((assoc, k, v), assoc(k, v))(\n",
    "    lambda((k, v), cond(\n",
    "            (eq(v, nil), nil),\n",
    "            (eq(car(car(v)), k), car(v)), \n",
    "            (true, assoc(k, cdr(v))))),\n",
    "    :Melon,\n",
    "    (:Apple=>120, :Orange=>210, :Lemmon=>180))"
   ]
  },
  {
   "cell_type": "code",
   "execution_count": 10,
   "metadata": {},
   "outputs": [
    {
     "data": {
      "text/plain": [
       "texpr_exmaple4 (generic function with 1 method)"
      ]
     },
     "execution_count": 10,
     "metadata": {},
     "output_type": "execute_result"
    }
   ],
   "source": [
    "texpr_exmaple4(x) = (:call, \n",
    "    (:lambda, (:tuple, :assoc, :k, :v), (:call, :assoc, :k, :v)), \n",
    "    (:lambda, (:tuple, :k, :v), (:cond, \n",
    "            (:tuple, (:eq, :v, :nil), :nil), \n",
    "            (:tuple, (:eq, (:car, (:car, :v)), :k), (:car, :v)), \n",
    "            (:tuple, true, (:call, :assoc, :k, (:cdr, :v))))), \n",
    "    QuoteNode(x), \n",
    "    :((:Apple=>120, :Orange=>210, :Lemmon=>180)))"
   ]
  },
  {
   "cell_type": "code",
   "execution_count": 11,
   "metadata": {},
   "outputs": [
    {
     "data": {
      "text/plain": [
       ":Apple => 120"
      ]
     },
     "execution_count": 11,
     "metadata": {},
     "output_type": "execute_result"
    }
   ],
   "source": [
    "texpr_exmaple4(:Apple) |> texpr2expr |> leval"
   ]
  },
  {
   "cell_type": "code",
   "execution_count": 12,
   "metadata": {},
   "outputs": [
    {
     "data": {
      "text/plain": [
       ":Orange => 210"
      ]
     },
     "execution_count": 12,
     "metadata": {},
     "output_type": "execute_result"
    }
   ],
   "source": [
    "texpr_exmaple4(:Orange) |> texpr2expr |> leval"
   ]
  },
  {
   "cell_type": "code",
   "execution_count": 13,
   "metadata": {},
   "outputs": [
    {
     "data": {
      "text/plain": [
       ":Lemmon => 180"
      ]
     },
     "execution_count": 13,
     "metadata": {},
     "output_type": "execute_result"
    }
   ],
   "source": [
    "texpr_exmaple4(:Lemmon) |> texpr2expr |> leval"
   ]
  },
  {
   "cell_type": "code",
   "execution_count": 14,
   "metadata": {},
   "outputs": [
    {
     "data": {
      "text/plain": [
       "nil"
      ]
     },
     "execution_count": 14,
     "metadata": {},
     "output_type": "execute_result"
    }
   ],
   "source": [
    "texpr_exmaple4(:Melon) |> texpr2expr |> leval"
   ]
  },
  {
   "cell_type": "markdown",
   "metadata": {},
   "source": [
    "## Plot example of MetaUtils.@teval"
   ]
  },
  {
   "cell_type": "code",
   "execution_count": 15,
   "metadata": {},
   "outputs": [
    {
     "data": {
      "image/svg+xml": [
       "<?xml version=\"1.0\" encoding=\"utf-8\"?>\n",
       "<svg xmlns=\"http://www.w3.org/2000/svg\" xmlns:xlink=\"http://www.w3.org/1999/xlink\" width=\"600\" height=\"400\" viewBox=\"0 0 2400 1600\">\n",
       "<defs>\n",
       "  <clipPath id=\"clip310\">\n",
       "    <rect x=\"0\" y=\"0\" width=\"2400\" height=\"1600\"/>\n",
       "  </clipPath>\n",
       "</defs>\n",
       "<path clip-path=\"url(#clip310)\" d=\"\n",
       "M0 1600 L2400 1600 L2400 0 L0 0  Z\n",
       "  \" fill=\"#ffffff\" fill-rule=\"evenodd\" fill-opacity=\"1\"/>\n",
       "<defs>\n",
       "  <clipPath id=\"clip311\">\n",
       "    <rect x=\"480\" y=\"0\" width=\"1681\" height=\"1600\"/>\n",
       "  </clipPath>\n",
       "</defs>\n",
       "<path clip-path=\"url(#clip310)\" d=\"\n",
       "M179.654 1486.45 L2352.76 1486.45 L2352.76 47.2441 L179.654 47.2441  Z\n",
       "  \" fill=\"#ffffff\" fill-rule=\"evenodd\" fill-opacity=\"1\"/>\n",
       "<defs>\n",
       "  <clipPath id=\"clip312\">\n",
       "    <rect x=\"179\" y=\"47\" width=\"2174\" height=\"1440\"/>\n",
       "  </clipPath>\n",
       "</defs>\n",
       "<polyline clip-path=\"url(#clip312)\" style=\"stroke:#000000; stroke-width:2; stroke-opacity:0.1; fill:none\" points=\"\n",
       "  287.356,1486.45 287.356,47.2441 \n",
       "  \"/>\n",
       "<polyline clip-path=\"url(#clip312)\" style=\"stroke:#000000; stroke-width:2; stroke-opacity:0.1; fill:none\" points=\"\n",
       "  613.639,1486.45 613.639,47.2441 \n",
       "  \"/>\n",
       "<polyline clip-path=\"url(#clip312)\" style=\"stroke:#000000; stroke-width:2; stroke-opacity:0.1; fill:none\" points=\"\n",
       "  939.922,1486.45 939.922,47.2441 \n",
       "  \"/>\n",
       "<polyline clip-path=\"url(#clip312)\" style=\"stroke:#000000; stroke-width:2; stroke-opacity:0.1; fill:none\" points=\"\n",
       "  1266.2,1486.45 1266.2,47.2441 \n",
       "  \"/>\n",
       "<polyline clip-path=\"url(#clip312)\" style=\"stroke:#000000; stroke-width:2; stroke-opacity:0.1; fill:none\" points=\"\n",
       "  1592.49,1486.45 1592.49,47.2441 \n",
       "  \"/>\n",
       "<polyline clip-path=\"url(#clip312)\" style=\"stroke:#000000; stroke-width:2; stroke-opacity:0.1; fill:none\" points=\"\n",
       "  1918.77,1486.45 1918.77,47.2441 \n",
       "  \"/>\n",
       "<polyline clip-path=\"url(#clip312)\" style=\"stroke:#000000; stroke-width:2; stroke-opacity:0.1; fill:none\" points=\"\n",
       "  2245.05,1486.45 2245.05,47.2441 \n",
       "  \"/>\n",
       "<polyline clip-path=\"url(#clip310)\" style=\"stroke:#000000; stroke-width:4; stroke-opacity:1; fill:none\" points=\"\n",
       "  179.654,1486.45 2352.76,1486.45 \n",
       "  \"/>\n",
       "<polyline clip-path=\"url(#clip310)\" style=\"stroke:#000000; stroke-width:4; stroke-opacity:1; fill:none\" points=\"\n",
       "  287.356,1486.45 287.356,1469.18 \n",
       "  \"/>\n",
       "<polyline clip-path=\"url(#clip310)\" style=\"stroke:#000000; stroke-width:4; stroke-opacity:1; fill:none\" points=\"\n",
       "  613.639,1486.45 613.639,1469.18 \n",
       "  \"/>\n",
       "<polyline clip-path=\"url(#clip310)\" style=\"stroke:#000000; stroke-width:4; stroke-opacity:1; fill:none\" points=\"\n",
       "  939.922,1486.45 939.922,1469.18 \n",
       "  \"/>\n",
       "<polyline clip-path=\"url(#clip310)\" style=\"stroke:#000000; stroke-width:4; stroke-opacity:1; fill:none\" points=\"\n",
       "  1266.2,1486.45 1266.2,1469.18 \n",
       "  \"/>\n",
       "<polyline clip-path=\"url(#clip310)\" style=\"stroke:#000000; stroke-width:4; stroke-opacity:1; fill:none\" points=\"\n",
       "  1592.49,1486.45 1592.49,1469.18 \n",
       "  \"/>\n",
       "<polyline clip-path=\"url(#clip310)\" style=\"stroke:#000000; stroke-width:4; stroke-opacity:1; fill:none\" points=\"\n",
       "  1918.77,1486.45 1918.77,1469.18 \n",
       "  \"/>\n",
       "<polyline clip-path=\"url(#clip310)\" style=\"stroke:#000000; stroke-width:4; stroke-opacity:1; fill:none\" points=\"\n",
       "  2245.05,1486.45 2245.05,1469.18 \n",
       "  \"/>\n",
       "<path clip-path=\"url(#clip310)\" d=\"M 0 0 M259.335 1530.29 L289.011 1530.29 L289.011 1534.23 L259.335 1534.23 L259.335 1530.29 Z\" fill=\"#000000\" fill-rule=\"evenodd\" fill-opacity=\"1\" /><path clip-path=\"url(#clip310)\" d=\"M 0 0 M308.247 1528.49 Q311.603 1529.2 313.478 1531.47 Q315.377 1533.74 315.377 1537.07 Q315.377 1542.19 311.858 1544.99 Q308.34 1547.79 301.858 1547.79 Q299.682 1547.79 297.367 1547.35 Q295.076 1546.93 292.622 1546.08 L292.622 1541.56 Q294.566 1542.7 296.881 1543.28 Q299.196 1543.86 301.719 1543.86 Q306.117 1543.86 308.409 1542.12 Q310.724 1540.38 310.724 1537.07 Q310.724 1534.02 308.571 1532.31 Q306.441 1530.57 302.622 1530.57 L298.594 1530.57 L298.594 1526.73 L302.807 1526.73 Q306.256 1526.73 308.085 1525.36 Q309.914 1523.97 309.914 1521.38 Q309.914 1518.72 308.015 1517.31 Q306.14 1515.87 302.622 1515.87 Q300.701 1515.87 298.502 1516.29 Q296.303 1516.7 293.664 1517.58 L293.664 1513.42 Q296.326 1512.68 298.64 1512.31 Q300.978 1511.93 303.039 1511.93 Q308.363 1511.93 311.465 1514.37 Q314.566 1516.77 314.566 1520.89 Q314.566 1523.76 312.923 1525.75 Q311.279 1527.72 308.247 1528.49 Z\" fill=\"#000000\" fill-rule=\"evenodd\" fill-opacity=\"1\" /><path clip-path=\"url(#clip310)\" d=\"M 0 0 M586.093 1530.29 L615.768 1530.29 L615.768 1534.23 L586.093 1534.23 L586.093 1530.29 Z\" fill=\"#000000\" fill-rule=\"evenodd\" fill-opacity=\"1\" /><path clip-path=\"url(#clip310)\" d=\"M 0 0 M624.866 1543.18 L641.185 1543.18 L641.185 1547.12 L619.241 1547.12 L619.241 1543.18 Q621.903 1540.43 626.486 1535.8 Q631.092 1531.15 632.273 1529.81 Q634.518 1527.28 635.398 1525.55 Q636.301 1523.79 636.301 1522.1 Q636.301 1519.34 634.356 1517.61 Q632.435 1515.87 629.333 1515.87 Q627.134 1515.87 624.68 1516.63 Q622.25 1517.4 619.472 1518.95 L619.472 1514.23 Q622.296 1513.09 624.75 1512.51 Q627.204 1511.93 629.241 1511.93 Q634.611 1511.93 637.805 1514.62 Q641 1517.31 641 1521.8 Q641 1523.93 640.19 1525.85 Q639.403 1527.74 637.296 1530.34 Q636.717 1531.01 633.616 1534.23 Q630.514 1537.42 624.866 1543.18 Z\" fill=\"#000000\" fill-rule=\"evenodd\" fill-opacity=\"1\" /><path clip-path=\"url(#clip310)\" d=\"M 0 0 M912.19 1530.29 L941.866 1530.29 L941.866 1534.23 L912.19 1534.23 L912.19 1530.29 Z\" fill=\"#000000\" fill-rule=\"evenodd\" fill-opacity=\"1\" /><path clip-path=\"url(#clip310)\" d=\"M 0 0 M947.746 1543.18 L955.385 1543.18 L955.385 1516.82 L947.075 1518.49 L947.075 1514.23 L955.338 1512.56 L960.014 1512.56 L960.014 1543.18 L967.653 1543.18 L967.653 1547.12 L947.746 1547.12 L947.746 1543.18 Z\" fill=\"#000000\" fill-rule=\"evenodd\" fill-opacity=\"1\" /><path clip-path=\"url(#clip310)\" d=\"M 0 0 M1266.2 1515.64 Q1262.59 1515.64 1260.77 1519.2 Q1258.96 1522.75 1258.96 1529.87 Q1258.96 1536.98 1260.77 1540.55 Q1262.59 1544.09 1266.2 1544.09 Q1269.84 1544.09 1271.64 1540.55 Q1273.47 1536.98 1273.47 1529.87 Q1273.47 1522.75 1271.64 1519.2 Q1269.84 1515.64 1266.2 1515.64 M1266.2 1511.93 Q1272.01 1511.93 1275.07 1516.54 Q1278.15 1521.12 1278.15 1529.87 Q1278.15 1538.6 1275.07 1543.21 Q1272.01 1547.79 1266.2 1547.79 Q1260.39 1547.79 1257.32 1543.21 Q1254.26 1538.6 1254.26 1529.87 Q1254.26 1521.12 1257.32 1516.54 Q1260.39 1511.93 1266.2 1511.93 Z\" fill=\"#000000\" fill-rule=\"evenodd\" fill-opacity=\"1\" /><path clip-path=\"url(#clip310)\" d=\"M 0 0 M1582.87 1543.18 L1590.51 1543.18 L1590.51 1516.82 L1582.2 1518.49 L1582.2 1514.23 L1590.46 1512.56 L1595.14 1512.56 L1595.14 1543.18 L1602.78 1543.18 L1602.78 1547.12 L1582.87 1547.12 L1582.87 1543.18 Z\" fill=\"#000000\" fill-rule=\"evenodd\" fill-opacity=\"1\" /><path clip-path=\"url(#clip310)\" d=\"M 0 0 M1913.42 1543.18 L1929.74 1543.18 L1929.74 1547.12 L1907.8 1547.12 L1907.8 1543.18 Q1910.46 1540.43 1915.04 1535.8 Q1919.65 1531.15 1920.83 1529.81 Q1923.08 1527.28 1923.96 1525.55 Q1924.86 1523.79 1924.86 1522.1 Q1924.86 1519.34 1922.91 1517.61 Q1920.99 1515.87 1917.89 1515.87 Q1915.69 1515.87 1913.24 1516.63 Q1910.81 1517.4 1908.03 1518.95 L1908.03 1514.23 Q1910.85 1513.09 1913.31 1512.51 Q1915.76 1511.93 1917.8 1511.93 Q1923.17 1511.93 1926.36 1514.62 Q1929.56 1517.31 1929.56 1521.8 Q1929.56 1523.93 1928.75 1525.85 Q1927.96 1527.74 1925.85 1530.34 Q1925.28 1531.01 1922.17 1534.23 Q1919.07 1537.42 1913.42 1543.18 Z\" fill=\"#000000\" fill-rule=\"evenodd\" fill-opacity=\"1\" /><path clip-path=\"url(#clip310)\" d=\"M 0 0 M2249.3 1528.49 Q2252.66 1529.2 2254.53 1531.47 Q2256.43 1533.74 2256.43 1537.07 Q2256.43 1542.19 2252.91 1544.99 Q2249.39 1547.79 2242.91 1547.79 Q2240.74 1547.79 2238.42 1547.35 Q2236.13 1546.93 2233.68 1546.08 L2233.68 1541.56 Q2235.62 1542.7 2237.94 1543.28 Q2240.25 1543.86 2242.77 1543.86 Q2247.17 1543.86 2249.46 1542.12 Q2251.78 1540.38 2251.78 1537.07 Q2251.78 1534.02 2249.63 1532.31 Q2247.5 1530.57 2243.68 1530.57 L2239.65 1530.57 L2239.65 1526.73 L2243.86 1526.73 Q2247.31 1526.73 2249.14 1525.36 Q2250.97 1523.97 2250.97 1521.38 Q2250.97 1518.72 2249.07 1517.31 Q2247.19 1515.87 2243.68 1515.87 Q2241.76 1515.87 2239.56 1516.29 Q2237.36 1516.7 2234.72 1517.58 L2234.72 1513.42 Q2237.38 1512.68 2239.69 1512.31 Q2242.03 1511.93 2244.09 1511.93 Q2249.42 1511.93 2252.52 1514.37 Q2255.62 1516.77 2255.62 1520.89 Q2255.62 1523.76 2253.98 1525.75 Q2252.33 1527.72 2249.3 1528.49 Z\" fill=\"#000000\" fill-rule=\"evenodd\" fill-opacity=\"1\" /><polyline clip-path=\"url(#clip312)\" style=\"stroke:#000000; stroke-width:2; stroke-opacity:0.1; fill:none\" points=\"\n",
       "  179.654,1269.08 2352.76,1269.08 \n",
       "  \"/>\n",
       "<polyline clip-path=\"url(#clip312)\" style=\"stroke:#000000; stroke-width:2; stroke-opacity:0.1; fill:none\" points=\"\n",
       "  179.654,996.089 2352.76,996.089 \n",
       "  \"/>\n",
       "<polyline clip-path=\"url(#clip312)\" style=\"stroke:#000000; stroke-width:2; stroke-opacity:0.1; fill:none\" points=\"\n",
       "  179.654,723.101 2352.76,723.101 \n",
       "  \"/>\n",
       "<polyline clip-path=\"url(#clip312)\" style=\"stroke:#000000; stroke-width:2; stroke-opacity:0.1; fill:none\" points=\"\n",
       "  179.654,450.113 2352.76,450.113 \n",
       "  \"/>\n",
       "<polyline clip-path=\"url(#clip312)\" style=\"stroke:#000000; stroke-width:2; stroke-opacity:0.1; fill:none\" points=\"\n",
       "  179.654,177.125 2352.76,177.125 \n",
       "  \"/>\n",
       "<polyline clip-path=\"url(#clip310)\" style=\"stroke:#000000; stroke-width:4; stroke-opacity:1; fill:none\" points=\"\n",
       "  179.654,1486.45 179.654,47.2441 \n",
       "  \"/>\n",
       "<polyline clip-path=\"url(#clip310)\" style=\"stroke:#000000; stroke-width:4; stroke-opacity:1; fill:none\" points=\"\n",
       "  179.654,1269.08 205.731,1269.08 \n",
       "  \"/>\n",
       "<polyline clip-path=\"url(#clip310)\" style=\"stroke:#000000; stroke-width:4; stroke-opacity:1; fill:none\" points=\"\n",
       "  179.654,996.089 205.731,996.089 \n",
       "  \"/>\n",
       "<polyline clip-path=\"url(#clip310)\" style=\"stroke:#000000; stroke-width:4; stroke-opacity:1; fill:none\" points=\"\n",
       "  179.654,723.101 205.731,723.101 \n",
       "  \"/>\n",
       "<polyline clip-path=\"url(#clip310)\" style=\"stroke:#000000; stroke-width:4; stroke-opacity:1; fill:none\" points=\"\n",
       "  179.654,450.113 205.731,450.113 \n",
       "  \"/>\n",
       "<polyline clip-path=\"url(#clip310)\" style=\"stroke:#000000; stroke-width:4; stroke-opacity:1; fill:none\" points=\"\n",
       "  179.654,177.125 205.731,177.125 \n",
       "  \"/>\n",
       "<path clip-path=\"url(#clip310)\" d=\"M 0 0 M51.2236 1269.53 L80.8994 1269.53 L80.8994 1273.46 L51.2236 1273.46 L51.2236 1269.53 Z\" fill=\"#000000\" fill-rule=\"evenodd\" fill-opacity=\"1\" /><path clip-path=\"url(#clip310)\" d=\"M 0 0 M86.779 1282.42 L94.4178 1282.42 L94.4178 1256.06 L86.1077 1257.72 L86.1077 1253.46 L94.3715 1251.8 L99.0474 1251.8 L99.0474 1282.42 L106.686 1282.42 L106.686 1286.36 L86.779 1286.36 L86.779 1282.42 Z\" fill=\"#000000\" fill-rule=\"evenodd\" fill-opacity=\"1\" /><path clip-path=\"url(#clip310)\" d=\"M 0 0 M111.756 1280.48 L116.64 1280.48 L116.64 1286.36 L111.756 1286.36 L111.756 1280.48 Z\" fill=\"#000000\" fill-rule=\"evenodd\" fill-opacity=\"1\" /><path clip-path=\"url(#clip310)\" d=\"M 0 0 M131.709 1254.88 Q128.098 1254.88 126.27 1258.44 Q124.464 1261.98 124.464 1269.11 Q124.464 1276.22 126.27 1279.78 Q128.098 1283.33 131.709 1283.33 Q135.344 1283.33 137.149 1279.78 Q138.978 1276.22 138.978 1269.11 Q138.978 1261.98 137.149 1258.44 Q135.344 1254.88 131.709 1254.88 M131.709 1251.17 Q137.519 1251.17 140.575 1255.78 Q143.654 1260.36 143.654 1269.11 Q143.654 1277.84 140.575 1282.45 Q137.519 1287.03 131.709 1287.03 Q125.899 1287.03 122.82 1282.45 Q119.765 1277.84 119.765 1269.11 Q119.765 1260.36 122.82 1255.78 Q125.899 1251.17 131.709 1251.17 Z\" fill=\"#000000\" fill-rule=\"evenodd\" fill-opacity=\"1\" /><path clip-path=\"url(#clip310)\" d=\"M 0 0 M50.9921 996.541 L80.6679 996.541 L80.6679 1000.48 L50.9921 1000.48 L50.9921 996.541 Z\" fill=\"#000000\" fill-rule=\"evenodd\" fill-opacity=\"1\" /><path clip-path=\"url(#clip310)\" d=\"M 0 0 M95.7373 981.888 Q92.1262 981.888 90.2975 985.453 Q88.4919 988.994 88.4919 996.124 Q88.4919 1003.23 90.2975 1006.8 Q92.1262 1010.34 95.7373 1010.34 Q99.3715 1010.34 101.177 1006.8 Q103.006 1003.23 103.006 996.124 Q103.006 988.994 101.177 985.453 Q99.3715 981.888 95.7373 981.888 M95.7373 978.184 Q101.547 978.184 104.603 982.791 Q107.682 987.374 107.682 996.124 Q107.682 1004.85 104.603 1009.46 Q101.547 1014.04 95.7373 1014.04 Q89.9271 1014.04 86.8484 1009.46 Q83.7929 1004.85 83.7929 996.124 Q83.7929 987.374 86.8484 982.791 Q89.9271 978.184 95.7373 978.184 Z\" fill=\"#000000\" fill-rule=\"evenodd\" fill-opacity=\"1\" /><path clip-path=\"url(#clip310)\" d=\"M 0 0 M112.751 1007.49 L117.635 1007.49 L117.635 1013.37 L112.751 1013.37 L112.751 1007.49 Z\" fill=\"#000000\" fill-rule=\"evenodd\" fill-opacity=\"1\" /><path clip-path=\"url(#clip310)\" d=\"M 0 0 M122.751 978.809 L141.107 978.809 L141.107 982.744 L127.033 982.744 L127.033 991.217 Q128.052 990.869 129.07 990.707 Q130.089 990.522 131.107 990.522 Q136.894 990.522 140.274 993.693 Q143.654 996.865 143.654 1002.28 Q143.654 1007.86 140.181 1010.96 Q136.709 1014.04 130.39 1014.04 Q128.214 1014.04 125.945 1013.67 Q123.7 1013.3 121.293 1012.56 L121.293 1007.86 Q123.376 1008.99 125.598 1009.55 Q127.82 1010.11 130.297 1010.11 Q134.302 1010.11 136.64 1008 Q138.978 1005.89 138.978 1002.28 Q138.978 998.67 136.64 996.564 Q134.302 994.457 130.297 994.457 Q128.422 994.457 126.547 994.874 Q124.695 995.291 122.751 996.17 L122.751 978.809 Z\" fill=\"#000000\" fill-rule=\"evenodd\" fill-opacity=\"1\" /><path clip-path=\"url(#clip310)\" d=\"M 0 0 M94.7419 708.9 Q91.1308 708.9 89.3021 712.465 Q87.4966 716.006 87.4966 723.136 Q87.4966 730.242 89.3021 733.807 Q91.1308 737.349 94.7419 737.349 Q98.3761 737.349 100.182 733.807 Q102.01 730.242 102.01 723.136 Q102.01 716.006 100.182 712.465 Q98.3761 708.9 94.7419 708.9 M94.7419 705.196 Q100.552 705.196 103.608 709.802 Q106.686 714.386 106.686 723.136 Q106.686 731.863 103.608 736.469 Q100.552 741.052 94.7419 741.052 Q88.9317 741.052 85.8531 736.469 Q82.7975 731.863 82.7975 723.136 Q82.7975 714.386 85.8531 709.802 Q88.9317 705.196 94.7419 705.196 Z\" fill=\"#000000\" fill-rule=\"evenodd\" fill-opacity=\"1\" /><path clip-path=\"url(#clip310)\" d=\"M 0 0 M111.756 734.501 L116.64 734.501 L116.64 740.381 L111.756 740.381 L111.756 734.501 Z\" fill=\"#000000\" fill-rule=\"evenodd\" fill-opacity=\"1\" /><path clip-path=\"url(#clip310)\" d=\"M 0 0 M131.709 708.9 Q128.098 708.9 126.27 712.465 Q124.464 716.006 124.464 723.136 Q124.464 730.242 126.27 733.807 Q128.098 737.349 131.709 737.349 Q135.344 737.349 137.149 733.807 Q138.978 730.242 138.978 723.136 Q138.978 716.006 137.149 712.465 Q135.344 708.9 131.709 708.9 M131.709 705.196 Q137.519 705.196 140.575 709.802 Q143.654 714.386 143.654 723.136 Q143.654 731.863 140.575 736.469 Q137.519 741.052 131.709 741.052 Q125.899 741.052 122.82 736.469 Q119.765 731.863 119.765 723.136 Q119.765 714.386 122.82 709.802 Q125.899 705.196 131.709 705.196 Z\" fill=\"#000000\" fill-rule=\"evenodd\" fill-opacity=\"1\" /><path clip-path=\"url(#clip310)\" d=\"M 0 0 M95.7373 435.911 Q92.1262 435.911 90.2975 439.476 Q88.4919 443.018 88.4919 450.148 Q88.4919 457.254 90.2975 460.819 Q92.1262 464.36 95.7373 464.36 Q99.3715 464.36 101.177 460.819 Q103.006 457.254 103.006 450.148 Q103.006 443.018 101.177 439.476 Q99.3715 435.911 95.7373 435.911 M95.7373 432.208 Q101.547 432.208 104.603 436.814 Q107.682 441.398 107.682 450.148 Q107.682 458.874 104.603 463.481 Q101.547 468.064 95.7373 468.064 Q89.9271 468.064 86.8484 463.481 Q83.7929 458.874 83.7929 450.148 Q83.7929 441.398 86.8484 436.814 Q89.9271 432.208 95.7373 432.208 Z\" fill=\"#000000\" fill-rule=\"evenodd\" fill-opacity=\"1\" /><path clip-path=\"url(#clip310)\" d=\"M 0 0 M112.751 461.513 L117.635 461.513 L117.635 467.393 L112.751 467.393 L112.751 461.513 Z\" fill=\"#000000\" fill-rule=\"evenodd\" fill-opacity=\"1\" /><path clip-path=\"url(#clip310)\" d=\"M 0 0 M122.751 432.833 L141.107 432.833 L141.107 436.768 L127.033 436.768 L127.033 445.24 Q128.052 444.893 129.07 444.731 Q130.089 444.546 131.107 444.546 Q136.894 444.546 140.274 447.717 Q143.654 450.888 143.654 456.305 Q143.654 461.884 140.181 464.985 Q136.709 468.064 130.39 468.064 Q128.214 468.064 125.945 467.694 Q123.7 467.323 121.293 466.583 L121.293 461.884 Q123.376 463.018 125.598 463.573 Q127.82 464.129 130.297 464.129 Q134.302 464.129 136.64 462.022 Q138.978 459.916 138.978 456.305 Q138.978 452.694 136.64 450.587 Q134.302 448.481 130.297 448.481 Q128.422 448.481 126.547 448.898 Q124.695 449.314 122.751 450.194 L122.751 432.833 Z\" fill=\"#000000\" fill-rule=\"evenodd\" fill-opacity=\"1\" /><path clip-path=\"url(#clip310)\" d=\"M 0 0 M86.779 190.469 L94.4178 190.469 L94.4178 164.104 L86.1077 165.77 L86.1077 161.511 L94.3715 159.845 L99.0474 159.845 L99.0474 190.469 L106.686 190.469 L106.686 194.405 L86.779 194.405 L86.779 190.469 Z\" fill=\"#000000\" fill-rule=\"evenodd\" fill-opacity=\"1\" /><path clip-path=\"url(#clip310)\" d=\"M 0 0 M111.756 188.525 L116.64 188.525 L116.64 194.405 L111.756 194.405 L111.756 188.525 Z\" fill=\"#000000\" fill-rule=\"evenodd\" fill-opacity=\"1\" /><path clip-path=\"url(#clip310)\" d=\"M 0 0 M131.709 162.923 Q128.098 162.923 126.27 166.488 Q124.464 170.03 124.464 177.159 Q124.464 184.266 126.27 187.831 Q128.098 191.372 131.709 191.372 Q135.344 191.372 137.149 187.831 Q138.978 184.266 138.978 177.159 Q138.978 170.03 137.149 166.488 Q135.344 162.923 131.709 162.923 M131.709 159.22 Q137.519 159.22 140.575 163.826 Q143.654 168.409 143.654 177.159 Q143.654 185.886 140.575 190.493 Q137.519 195.076 131.709 195.076 Q125.899 195.076 122.82 190.493 Q119.765 185.886 119.765 177.159 Q119.765 168.409 122.82 163.826 Q125.899 159.22 131.709 159.22 Z\" fill=\"#000000\" fill-rule=\"evenodd\" fill-opacity=\"1\" /><circle clip-path=\"url(#clip312)\" cx=\"241.157\" cy=\"512.655\" r=\"14\" fill=\"#009af9\" fill-rule=\"evenodd\" fill-opacity=\"1\" stroke=\"#000000\" stroke-opacity=\"1\" stroke-width=\"3.2\"/>\n",
       "<circle clip-path=\"url(#clip312)\" cx=\"349.056\" cy=\"734.602\" r=\"14\" fill=\"#009af9\" fill-rule=\"evenodd\" fill-opacity=\"1\" stroke=\"#000000\" stroke-opacity=\"1\" stroke-width=\"3.2\"/>\n",
       "<circle clip-path=\"url(#clip312)\" cx=\"456.956\" cy=\"1214.61\" r=\"14\" fill=\"#009af9\" fill-rule=\"evenodd\" fill-opacity=\"1\" stroke=\"#000000\" stroke-opacity=\"1\" stroke-width=\"3.2\"/>\n",
       "<circle clip-path=\"url(#clip312)\" cx=\"564.856\" cy=\"1014.49\" r=\"14\" fill=\"#009af9\" fill-rule=\"evenodd\" fill-opacity=\"1\" stroke=\"#000000\" stroke-opacity=\"1\" stroke-width=\"3.2\"/>\n",
       "<circle clip-path=\"url(#clip312)\" cx=\"672.756\" cy=\"1209.63\" r=\"14\" fill=\"#009af9\" fill-rule=\"evenodd\" fill-opacity=\"1\" stroke=\"#000000\" stroke-opacity=\"1\" stroke-width=\"3.2\"/>\n",
       "<circle clip-path=\"url(#clip312)\" cx=\"780.656\" cy=\"1252.26\" r=\"14\" fill=\"#009af9\" fill-rule=\"evenodd\" fill-opacity=\"1\" stroke=\"#000000\" stroke-opacity=\"1\" stroke-width=\"3.2\"/>\n",
       "<circle clip-path=\"url(#clip312)\" cx=\"888.555\" cy=\"1013.7\" r=\"14\" fill=\"#009af9\" fill-rule=\"evenodd\" fill-opacity=\"1\" stroke=\"#000000\" stroke-opacity=\"1\" stroke-width=\"3.2\"/>\n",
       "<circle clip-path=\"url(#clip312)\" cx=\"996.455\" cy=\"1445.72\" r=\"14\" fill=\"#009af9\" fill-rule=\"evenodd\" fill-opacity=\"1\" stroke=\"#000000\" stroke-opacity=\"1\" stroke-width=\"3.2\"/>\n",
       "<circle clip-path=\"url(#clip312)\" cx=\"1104.36\" cy=\"1011.97\" r=\"14\" fill=\"#009af9\" fill-rule=\"evenodd\" fill-opacity=\"1\" stroke=\"#000000\" stroke-opacity=\"1\" stroke-width=\"3.2\"/>\n",
       "<circle clip-path=\"url(#clip312)\" cx=\"1212.25\" cy=\"783.387\" r=\"14\" fill=\"#009af9\" fill-rule=\"evenodd\" fill-opacity=\"1\" stroke=\"#000000\" stroke-opacity=\"1\" stroke-width=\"3.2\"/>\n",
       "<circle clip-path=\"url(#clip312)\" cx=\"1320.15\" cy=\"473.955\" r=\"14\" fill=\"#009af9\" fill-rule=\"evenodd\" fill-opacity=\"1\" stroke=\"#000000\" stroke-opacity=\"1\" stroke-width=\"3.2\"/>\n",
       "<circle clip-path=\"url(#clip312)\" cx=\"1428.05\" cy=\"159.182\" r=\"14\" fill=\"#009af9\" fill-rule=\"evenodd\" fill-opacity=\"1\" stroke=\"#000000\" stroke-opacity=\"1\" stroke-width=\"3.2\"/>\n",
       "<circle clip-path=\"url(#clip312)\" cx=\"1535.95\" cy=\"293.499\" r=\"14\" fill=\"#009af9\" fill-rule=\"evenodd\" fill-opacity=\"1\" stroke=\"#000000\" stroke-opacity=\"1\" stroke-width=\"3.2\"/>\n",
       "<circle clip-path=\"url(#clip312)\" cx=\"1643.85\" cy=\"103.104\" r=\"14\" fill=\"#009af9\" fill-rule=\"evenodd\" fill-opacity=\"1\" stroke=\"#000000\" stroke-opacity=\"1\" stroke-width=\"3.2\"/>\n",
       "<circle clip-path=\"url(#clip312)\" cx=\"1751.75\" cy=\"150.462\" r=\"14\" fill=\"#009af9\" fill-rule=\"evenodd\" fill-opacity=\"1\" stroke=\"#000000\" stroke-opacity=\"1\" stroke-width=\"3.2\"/>\n",
       "<circle clip-path=\"url(#clip312)\" cx=\"1859.65\" cy=\"299.284\" r=\"14\" fill=\"#009af9\" fill-rule=\"evenodd\" fill-opacity=\"1\" stroke=\"#000000\" stroke-opacity=\"1\" stroke-width=\"3.2\"/>\n",
       "<circle clip-path=\"url(#clip312)\" cx=\"1967.55\" cy=\"124.235\" r=\"14\" fill=\"#009af9\" fill-rule=\"evenodd\" fill-opacity=\"1\" stroke=\"#000000\" stroke-opacity=\"1\" stroke-width=\"3.2\"/>\n",
       "<circle clip-path=\"url(#clip312)\" cx=\"2075.45\" cy=\"333.255\" r=\"14\" fill=\"#009af9\" fill-rule=\"evenodd\" fill-opacity=\"1\" stroke=\"#000000\" stroke-opacity=\"1\" stroke-width=\"3.2\"/>\n",
       "<circle clip-path=\"url(#clip312)\" cx=\"2183.35\" cy=\"401.119\" r=\"14\" fill=\"#009af9\" fill-rule=\"evenodd\" fill-opacity=\"1\" stroke=\"#000000\" stroke-opacity=\"1\" stroke-width=\"3.2\"/>\n",
       "<circle clip-path=\"url(#clip312)\" cx=\"2291.25\" cy=\"772.157\" r=\"14\" fill=\"#009af9\" fill-rule=\"evenodd\" fill-opacity=\"1\" stroke=\"#000000\" stroke-opacity=\"1\" stroke-width=\"3.2\"/>\n",
       "<polyline clip-path=\"url(#clip312)\" style=\"stroke:#0000ff; stroke-width:4; stroke-opacity:1; fill:none\" stroke-dasharray=\"16, 10\" points=\"\n",
       "  241.157,723.101 246.295,731.698 251.433,740.294 256.571,748.884 261.709,757.469 266.847,766.045 271.985,774.61 277.123,783.163 282.261,791.701 287.399,800.221 \n",
       "  292.537,808.723 297.676,817.203 302.814,825.66 307.952,834.092 313.09,842.496 318.228,850.87 323.366,859.213 328.504,867.522 333.642,875.795 338.78,884.03 \n",
       "  343.918,892.226 349.056,900.379 354.194,908.489 359.333,916.552 364.471,924.568 369.609,932.534 374.747,940.447 379.885,948.307 385.023,956.111 390.161,963.857 \n",
       "  395.299,971.544 400.437,979.168 405.575,986.73 410.713,994.226 415.851,1001.65 420.99,1009.01 426.128,1016.3 431.266,1023.52 436.404,1030.66 441.542,1037.73 \n",
       "  446.68,1044.71 451.818,1051.62 456.956,1058.45 462.094,1065.19 467.232,1071.85 472.37,1078.42 477.509,1084.9 482.647,1091.3 487.785,1097.6 492.923,1103.81 \n",
       "  498.061,1109.92 503.199,1115.94 508.337,1121.87 513.475,1127.69 518.613,1133.41 523.751,1139.03 528.889,1144.55 534.027,1149.96 539.166,1155.27 544.304,1160.47 \n",
       "  549.442,1165.56 554.58,1170.54 559.718,1175.42 564.856,1180.17 569.994,1184.82 575.132,1189.35 580.27,1193.77 585.408,1198.07 590.546,1202.25 595.685,1206.31 \n",
       "  600.823,1210.25 605.961,1214.07 611.099,1217.77 616.237,1221.35 621.375,1224.8 626.513,1228.13 631.651,1231.34 636.789,1234.41 641.927,1237.37 647.065,1240.19 \n",
       "  652.203,1242.88 657.342,1245.45 662.48,1247.89 667.618,1250.19 672.756,1252.37 677.894,1254.42 683.032,1256.33 688.17,1258.11 693.308,1259.76 698.446,1261.27 \n",
       "  703.584,1262.65 708.722,1263.9 713.861,1265.02 718.999,1266 724.137,1266.84 729.275,1267.55 734.413,1268.13 739.551,1268.57 744.689,1268.87 749.827,1269.04 \n",
       "  754.965,1269.07 760.103,1268.97 765.241,1268.73 770.379,1268.36 775.518,1267.86 780.656,1267.21 785.794,1266.44 790.932,1265.52 796.07,1264.48 801.208,1263.3 \n",
       "  806.346,1261.98 811.484,1260.53 816.622,1258.95 821.76,1257.24 826.898,1255.39 832.036,1253.41 837.175,1251.3 842.313,1249.06 847.451,1246.69 852.589,1244.18 \n",
       "  857.727,1241.55 862.865,1238.79 868.003,1235.91 873.141,1232.89 878.279,1229.75 883.417,1226.48 888.555,1223.09 893.694,1219.58 898.832,1215.94 903.97,1212.18 \n",
       "  909.108,1208.29 914.246,1204.29 919.384,1200.17 924.522,1195.93 929.66,1191.57 934.798,1187.1 939.936,1182.51 945.074,1177.81 950.212,1172.99 955.351,1168.07 \n",
       "  960.489,1163.03 965.627,1157.88 970.765,1152.63 975.903,1147.27 981.041,1141.8 986.179,1136.23 991.317,1130.56 996.455,1124.79 1001.59,1118.92 1006.73,1112.95 \n",
       "  1011.87,1106.88 1017.01,1100.72 1022.15,1094.46 1027.28,1088.11 1032.42,1081.67 1037.56,1075.14 1042.7,1068.53 1047.84,1061.83 1052.97,1055.04 1058.11,1048.18 \n",
       "  1063.25,1041.23 1068.39,1034.2 1073.53,1027.1 1078.66,1019.92 1083.8,1012.67 1088.94,1005.34 1094.08,997.949 1099.22,990.486 1104.36,982.957 1109.49,975.364 \n",
       "  1114.63,967.708 1119.77,959.991 1124.91,952.216 1130.05,944.384 1135.18,936.497 1140.32,928.557 1145.46,920.566 1150.6,912.526 1155.74,904.44 1160.87,896.308 \n",
       "  1166.01,888.133 1171.15,879.918 1176.29,871.663 1181.43,863.372 1186.56,855.046 1191.7,846.687 1196.84,838.297 1201.98,829.879 1207.12,821.435 1212.25,812.966 \n",
       "  1217.39,804.475 1222.53,795.963 1227.67,787.434 1232.81,778.888 1237.95,770.329 1243.08,761.758 1248.22,753.178 1253.36,744.59 1258.5,735.996 1263.64,727.4 \n",
       "  1268.77,718.802 1273.91,710.206 1279.05,701.612 1284.19,693.024 1289.33,684.444 1294.46,675.873 1299.6,667.314 1304.74,658.768 1309.88,650.239 1315.02,641.727 \n",
       "  1320.15,633.236 1325.29,624.767 1330.43,616.323 1335.57,607.905 1340.71,599.515 1345.85,591.156 1350.98,582.83 1356.12,574.539 1361.26,566.284 1366.4,558.069 \n",
       "  1371.54,549.894 1376.67,541.762 1381.81,533.676 1386.95,525.636 1392.09,517.645 1397.23,509.705 1402.36,501.818 1407.5,493.986 1412.64,486.211 1417.78,478.494 \n",
       "  1422.92,470.838 1428.05,463.245 1433.19,455.716 1438.33,448.253 1443.47,440.859 1448.61,433.535 1453.74,426.282 1458.88,419.103 1464.02,411.999 1469.16,404.973 \n",
       "  1474.3,398.025 1479.44,391.158 1484.57,384.373 1489.71,377.673 1494.85,371.058 1499.99,364.53 1505.13,358.091 1510.26,351.743 1515.4,345.486 1520.54,339.324 \n",
       "  1525.68,333.256 1530.82,327.286 1535.95,321.413 1541.09,315.64 1546.23,309.968 1551.37,304.399 1556.51,298.933 1561.64,293.572 1566.78,288.318 1571.92,283.172 \n",
       "  1577.06,278.135 1582.2,273.208 1587.34,268.393 1592.47,263.691 1597.61,259.102 1602.75,254.629 1607.89,250.272 1613.03,246.032 1618.16,241.91 1623.3,237.907 \n",
       "  1628.44,234.025 1633.58,230.264 1638.72,226.626 1643.85,223.11 1648.99,219.719 1654.13,216.452 1659.27,213.311 1664.41,210.296 1669.54,207.409 1674.68,204.649 \n",
       "  1679.82,202.018 1684.96,199.517 1690.1,197.145 1695.23,194.903 1700.37,192.792 1705.51,190.813 1710.65,188.966 1715.79,187.252 1720.93,185.67 1726.06,184.221 \n",
       "  1731.2,182.906 1736.34,181.726 1741.48,180.679 1746.62,179.767 1751.75,178.989 1756.89,178.347 1762.03,177.839 1767.17,177.467 1772.31,177.23 1777.44,177.129 \n",
       "  1782.58,177.163 1787.72,177.332 1792.86,177.636 1798,178.076 1803.13,178.651 1808.27,179.361 1813.41,180.206 1818.55,181.185 1823.69,182.299 1828.83,183.547 \n",
       "  1833.96,184.929 1839.1,186.444 1844.24,188.092 1849.38,189.873 1854.52,191.786 1859.65,193.831 1864.79,196.007 1869.93,198.314 1875.07,200.751 1880.21,203.318 \n",
       "  1885.34,206.013 1890.48,208.837 1895.62,211.788 1900.76,214.866 1905.9,218.07 1911.03,221.399 1916.17,224.853 1921.31,228.43 1926.45,232.13 1931.59,235.951 \n",
       "  1936.73,239.894 1941.86,243.956 1947,248.137 1952.14,252.436 1957.28,256.851 1962.42,261.382 1967.55,266.028 1972.69,270.787 1977.83,275.658 1982.97,280.64 \n",
       "  1988.11,285.732 1993.24,290.932 1998.38,296.239 2003.52,301.653 2008.66,307.17 2013.8,312.791 2018.93,318.514 2024.07,324.337 2029.21,330.259 2034.35,336.278 \n",
       "  2039.49,342.393 2044.62,348.603 2049.76,354.905 2054.9,361.299 2060.04,367.783 2065.18,374.354 2070.32,381.012 2075.45,387.755 2080.59,394.581 2085.73,401.489 \n",
       "  2090.87,408.476 2096.01,415.542 2101.14,422.683 2106.28,429.899 2111.42,437.188 2116.56,444.548 2121.7,451.976 2126.83,459.472 2131.97,467.034 2137.11,474.659 \n",
       "  2142.25,482.345 2147.39,490.091 2152.52,497.895 2157.66,505.755 2162.8,513.669 2167.94,521.634 2173.08,529.65 2178.22,537.713 2183.35,545.823 2188.49,553.976 \n",
       "  2193.63,562.172 2198.77,570.407 2203.91,578.68 2209.04,586.989 2214.18,595.332 2219.32,603.706 2224.46,612.11 2229.6,620.542 2234.73,628.999 2239.87,637.479 \n",
       "  2245.01,645.981 2250.15,654.501 2255.29,663.039 2260.42,671.592 2265.56,680.157 2270.7,688.733 2275.84,697.318 2280.98,705.909 2286.11,714.504 2291.25,723.101 \n",
       "  \n",
       "  \"/>\n",
       "<polyline clip-path=\"url(#clip312)\" style=\"stroke:#ff0000; stroke-width:8; stroke-opacity:1; fill:none\" points=\"\n",
       "  241.157,484.166 246.295,502.602 251.433,520.776 256.571,538.689 261.709,556.343 266.847,573.738 271.985,590.876 277.123,607.758 282.261,624.387 287.399,640.762 \n",
       "  292.537,656.885 297.676,672.758 302.814,688.382 307.952,703.759 313.09,718.889 318.228,733.773 323.366,748.414 328.504,762.812 333.642,776.969 338.78,790.886 \n",
       "  343.918,804.565 349.056,818.006 354.194,831.212 359.333,844.182 364.471,856.92 369.609,869.425 374.747,881.699 379.885,893.744 385.023,905.561 390.161,917.152 \n",
       "  395.299,928.516 400.437,939.657 405.575,950.575 410.713,961.271 415.851,971.747 420.99,982.004 426.128,992.043 431.266,1001.87 436.404,1011.47 441.542,1020.87 \n",
       "  446.68,1030.05 451.818,1039.02 456.956,1047.78 462.094,1056.34 467.232,1064.68 472.37,1072.82 477.509,1080.76 482.647,1088.49 487.785,1096.02 492.923,1103.35 \n",
       "  498.061,1110.48 503.199,1117.41 508.337,1124.15 513.475,1130.69 518.613,1137.03 523.751,1143.19 528.889,1149.15 534.027,1154.92 539.166,1160.5 544.304,1165.9 \n",
       "  549.442,1171.11 554.58,1176.13 559.718,1180.98 564.856,1185.64 569.994,1190.11 575.132,1194.41 580.27,1198.53 585.408,1202.48 590.546,1206.24 595.685,1209.84 \n",
       "  600.823,1213.26 605.961,1216.51 611.099,1219.58 616.237,1222.49 621.375,1225.23 626.513,1227.81 631.651,1230.22 636.789,1232.46 641.927,1234.55 647.065,1236.47 \n",
       "  652.203,1238.23 657.342,1239.84 662.48,1241.28 667.618,1242.57 672.756,1243.71 677.894,1244.69 683.032,1245.52 688.17,1246.2 693.308,1246.73 698.446,1247.11 \n",
       "  703.584,1247.34 708.722,1247.43 713.861,1247.38 718.999,1247.18 724.137,1246.84 729.275,1246.36 734.413,1245.74 739.551,1244.99 744.689,1244.09 749.827,1243.07 \n",
       "  754.965,1241.9 760.103,1240.61 765.241,1239.18 770.379,1237.63 775.518,1235.95 780.656,1234.14 785.794,1232.2 790.932,1230.14 796.07,1227.96 801.208,1225.65 \n",
       "  806.346,1223.22 811.484,1220.68 816.622,1218.01 821.76,1215.23 826.898,1212.34 832.036,1209.33 837.175,1206.21 842.313,1202.97 847.451,1199.63 852.589,1196.17 \n",
       "  857.727,1192.61 862.865,1188.95 868.003,1185.18 873.141,1181.3 878.279,1177.32 883.417,1173.24 888.555,1169.07 893.694,1164.79 898.832,1160.42 903.97,1155.95 \n",
       "  909.108,1151.39 914.246,1146.73 919.384,1141.98 924.522,1137.14 929.66,1132.21 934.798,1127.2 939.936,1122.1 945.074,1116.91 950.212,1111.64 955.351,1106.28 \n",
       "  960.489,1100.85 965.627,1095.33 970.765,1089.74 975.903,1084.07 981.041,1078.32 986.179,1072.5 991.317,1066.61 996.455,1060.64 1001.59,1054.6 1006.73,1048.49 \n",
       "  1011.87,1042.32 1017.01,1036.07 1022.15,1029.77 1027.28,1023.39 1032.42,1016.96 1037.56,1010.46 1042.7,1003.9 1047.84,997.288 1052.97,990.614 1058.11,983.884 \n",
       "  1063.25,977.099 1068.39,970.26 1073.53,963.368 1078.66,956.426 1083.8,949.433 1088.94,942.392 1094.08,935.304 1099.22,928.17 1104.36,920.992 1109.49,913.77 \n",
       "  1114.63,906.506 1119.77,899.202 1124.91,891.858 1130.05,884.476 1135.18,877.058 1140.32,869.604 1145.46,862.116 1150.6,854.596 1155.74,847.043 1160.87,839.461 \n",
       "  1166.01,831.85 1171.15,824.211 1176.29,816.547 1181.43,808.857 1186.56,801.143 1191.7,793.408 1196.84,785.651 1201.98,777.875 1207.12,770.08 1212.25,762.269 \n",
       "  1217.39,754.441 1222.53,746.599 1227.67,738.745 1232.81,730.878 1237.95,723.001 1243.08,715.114 1248.22,707.22 1253.36,699.319 1258.5,691.413 1263.64,683.503 \n",
       "  1268.77,675.591 1273.91,667.677 1279.05,659.763 1284.19,651.851 1289.33,643.941 1294.46,636.035 1299.6,628.134 1304.74,620.24 1309.88,612.353 1315.02,604.476 \n",
       "  1320.15,596.61 1325.29,588.755 1330.43,580.913 1335.57,573.086 1340.71,565.274 1345.85,557.48 1350.98,549.704 1356.12,541.947 1361.26,534.212 1366.4,526.499 \n",
       "  1371.54,518.809 1376.67,511.144 1381.81,503.506 1386.95,495.895 1392.09,488.313 1397.23,480.761 1402.36,473.24 1407.5,465.753 1412.64,458.299 1417.78,450.881 \n",
       "  1422.92,443.5 1428.05,436.156 1433.19,428.852 1438.33,421.589 1443.47,414.367 1448.61,407.189 1453.74,400.055 1458.88,392.967 1464.02,385.927 1469.16,378.935 \n",
       "  1474.3,371.992 1479.44,365.101 1484.57,358.263 1489.71,351.478 1494.85,344.748 1499.99,338.074 1505.13,331.459 1510.26,324.902 1515.4,318.405 1520.54,311.971 \n",
       "  1525.68,305.599 1530.82,299.291 1535.95,293.049 1541.09,286.874 1546.23,280.766 1551.37,274.729 1556.51,268.762 1561.64,262.867 1566.78,257.046 1571.92,251.3 \n",
       "  1577.06,245.629 1582.2,240.036 1587.34,234.521 1592.47,229.087 1597.61,223.734 1602.75,218.463 1607.89,213.276 1613.03,208.175 1618.16,203.16 1623.3,198.233 \n",
       "  1628.44,193.395 1633.58,188.647 1638.72,183.992 1643.85,179.429 1648.99,174.961 1654.13,170.588 1659.27,166.313 1664.41,162.135 1669.54,158.058 1674.68,154.081 \n",
       "  1679.82,150.207 1684.96,146.436 1690.1,142.77 1695.23,139.21 1700.37,135.758 1705.51,132.415 1710.65,129.182 1715.79,126.06 1720.93,123.051 1726.06,120.156 \n",
       "  1731.2,117.376 1736.34,114.713 1741.48,112.168 1746.62,109.743 1751.75,107.438 1756.89,105.254 1762.03,103.195 1767.17,101.259 1772.31,99.4497 1777.44,97.7674 \n",
       "  1782.58,96.2136 1787.72,94.7896 1792.86,93.4966 1798,92.3361 1803.13,91.3093 1808.27,90.4176 1813.41,89.6622 1818.55,89.0445 1823.69,88.5657 1828.83,88.2272 \n",
       "  1833.96,88.0303 1839.1,87.9763 1844.24,88.0665 1849.38,88.3022 1854.52,88.6848 1859.65,89.2155 1864.79,89.8957 1869.93,90.7266 1875.07,91.7096 1880.21,92.8461 \n",
       "  1885.34,94.1372 1890.48,95.5843 1895.62,97.1887 1900.76,98.9518 1905.9,100.875 1911.03,102.959 1916.17,105.206 1921.31,107.617 1926.45,110.193 1931.59,112.935 \n",
       "  1936.73,115.845 1941.86,118.925 1947,122.174 1952.14,125.596 1957.28,129.19 1962.42,132.959 1967.55,136.904 1972.69,141.026 1977.83,145.326 1982.97,149.805 \n",
       "  1988.11,154.465 1993.24,159.308 1998.38,164.334 2003.52,169.545 2008.66,174.943 2013.8,180.527 2018.93,186.301 2024.07,192.264 2029.21,198.419 2034.35,204.767 \n",
       "  2039.49,211.309 2044.62,218.046 2049.76,224.98 2054.9,232.111 2060.04,239.442 2065.18,246.974 2070.32,254.707 2075.45,262.644 2080.59,270.785 2085.73,279.132 \n",
       "  2090.87,287.686 2096.01,296.449 2101.14,305.421 2106.28,314.605 2111.42,324.001 2116.56,333.61 2121.7,343.435 2126.83,353.476 2131.97,363.734 2137.11,374.211 \n",
       "  2142.25,384.909 2147.39,395.828 2152.52,406.97 2157.66,418.337 2162.8,429.928 2167.94,441.747 2173.08,453.794 2178.22,466.07 2183.35,478.577 2188.49,491.316 \n",
       "  2193.63,504.288 2198.77,517.495 2203.91,530.938 2209.04,544.618 2214.18,558.537 2219.32,572.696 2224.46,587.095 2229.6,601.738 2234.73,616.624 2239.87,631.756 \n",
       "  2245.01,647.134 2250.15,662.76 2255.29,678.634 2260.42,694.76 2265.56,711.137 2270.7,727.767 2275.84,744.651 2280.98,761.791 2286.11,779.188 2291.25,796.843 \n",
       "  \n",
       "  \"/>\n",
       "<path clip-path=\"url(#clip310)\" d=\"\n",
       "M252.09 337.138 L923.174 337.138 L923.174 95.2176 L252.09 95.2176  Z\n",
       "  \" fill=\"#ffffff\" fill-rule=\"evenodd\" fill-opacity=\"1\"/>\n",
       "<polyline clip-path=\"url(#clip310)\" style=\"stroke:#000000; stroke-width:4; stroke-opacity:1; fill:none\" points=\"\n",
       "  252.09,337.138 923.174,337.138 923.174,95.2176 252.09,95.2176 252.09,337.138 \n",
       "  \"/>\n",
       "<circle clip-path=\"url(#clip310)\" cx=\"348.673\" cy=\"155.698\" r=\"23\" fill=\"#009af9\" fill-rule=\"evenodd\" fill-opacity=\"1\" stroke=\"#000000\" stroke-opacity=\"1\" stroke-width=\"5.12\"/>\n",
       "<path clip-path=\"url(#clip310)\" d=\"M 0 0 M463.681 147.816 L463.681 151.843 Q461.875 150.917 459.931 150.455 Q457.986 149.992 455.903 149.992 Q452.732 149.992 451.135 150.964 Q449.561 151.936 449.561 153.88 Q449.561 155.362 450.695 156.218 Q451.829 157.052 455.255 157.816 L456.713 158.14 Q461.25 159.112 463.148 160.894 Q465.07 162.654 465.07 165.825 Q465.07 169.436 462.199 171.542 Q459.352 173.649 454.352 173.649 Q452.269 173.649 450 173.232 Q447.755 172.839 445.255 172.028 L445.255 167.63 Q447.616 168.857 449.908 169.482 Q452.199 170.084 454.445 170.084 Q457.454 170.084 459.074 169.066 Q460.695 168.024 460.695 166.149 Q460.695 164.413 459.514 163.487 Q458.357 162.561 454.399 161.704 L452.917 161.357 Q448.959 160.524 447.199 158.811 Q445.44 157.075 445.44 154.066 Q445.44 150.408 448.033 148.418 Q450.625 146.427 455.394 146.427 Q457.755 146.427 459.838 146.774 Q461.922 147.121 463.681 147.816 Z\" fill=\"#000000\" fill-rule=\"evenodd\" fill-opacity=\"1\" /><path clip-path=\"url(#clip310)\" d=\"M 0 0 M481.32 159.945 Q476.158 159.945 474.167 161.126 Q472.176 162.306 472.176 165.154 Q472.176 167.422 473.658 168.765 Q475.162 170.084 477.732 170.084 Q481.273 170.084 483.403 167.584 Q485.556 165.061 485.556 160.894 L485.556 159.945 L481.32 159.945 M489.815 158.186 L489.815 172.978 L485.556 172.978 L485.556 169.042 Q484.097 171.403 481.922 172.538 Q479.746 173.649 476.597 173.649 Q472.616 173.649 470.255 171.427 Q467.917 169.181 467.917 165.431 Q467.917 161.056 470.834 158.834 Q473.773 156.612 479.584 156.612 L485.556 156.612 L485.556 156.195 Q485.556 153.255 483.611 151.658 Q481.69 150.038 478.195 150.038 Q475.972 150.038 473.866 150.57 Q471.76 151.103 469.815 152.167 L469.815 148.232 Q472.153 147.33 474.352 146.89 Q476.551 146.427 478.635 146.427 Q484.259 146.427 487.037 149.343 Q489.815 152.26 489.815 158.186 Z\" fill=\"#000000\" fill-rule=\"evenodd\" fill-opacity=\"1\" /><path clip-path=\"url(#clip310)\" d=\"M 0 0 M514.468 152.029 Q516.065 149.158 518.287 147.793 Q520.509 146.427 523.519 146.427 Q527.569 146.427 529.768 149.274 Q531.968 152.098 531.968 157.329 L531.968 172.978 L527.685 172.978 L527.685 157.468 Q527.685 153.742 526.366 151.936 Q525.046 150.13 522.338 150.13 Q519.028 150.13 517.107 152.33 Q515.185 154.529 515.185 158.325 L515.185 172.978 L510.903 172.978 L510.903 157.468 Q510.903 153.718 509.583 151.936 Q508.264 150.13 505.509 150.13 Q502.245 150.13 500.324 152.353 Q498.403 154.552 498.403 158.325 L498.403 172.978 L494.121 172.978 L494.121 147.052 L498.403 147.052 L498.403 151.08 Q499.861 148.695 501.898 147.561 Q503.935 146.427 506.736 146.427 Q509.56 146.427 511.528 147.862 Q513.519 149.297 514.468 152.029 Z\" fill=\"#000000\" fill-rule=\"evenodd\" fill-opacity=\"1\" /><path clip-path=\"url(#clip310)\" d=\"M 0 0 M540.555 169.089 L540.555 182.839 L536.273 182.839 L536.273 147.052 L540.555 147.052 L540.555 150.987 Q541.898 148.672 543.935 147.561 Q545.995 146.427 548.842 146.427 Q553.565 146.427 556.504 150.177 Q559.467 153.927 559.467 160.038 Q559.467 166.149 556.504 169.899 Q553.565 173.649 548.842 173.649 Q545.995 173.649 543.935 172.538 Q541.898 171.403 540.555 169.089 M555.046 160.038 Q555.046 155.339 553.102 152.677 Q551.18 149.992 547.801 149.992 Q544.421 149.992 542.477 152.677 Q540.555 155.339 540.555 160.038 Q540.555 164.737 542.477 167.422 Q544.421 170.084 547.801 170.084 Q551.18 170.084 553.102 167.422 Q555.046 164.737 555.046 160.038 Z\" fill=\"#000000\" fill-rule=\"evenodd\" fill-opacity=\"1\" /><path clip-path=\"url(#clip310)\" d=\"M 0 0 M563.935 136.959 L568.194 136.959 L568.194 172.978 L563.935 172.978 L563.935 136.959 Z\" fill=\"#000000\" fill-rule=\"evenodd\" fill-opacity=\"1\" /><path clip-path=\"url(#clip310)\" d=\"M 0 0 M594.838 158.95 L594.838 161.033 L575.254 161.033 Q575.532 165.431 577.893 167.746 Q580.277 170.038 584.514 170.038 Q586.967 170.038 589.259 169.436 Q591.574 168.834 593.842 167.63 L593.842 171.658 Q591.551 172.63 589.143 173.14 Q586.736 173.649 584.259 173.649 Q578.055 173.649 574.421 170.038 Q570.81 166.427 570.81 160.269 Q570.81 153.904 574.236 150.177 Q577.685 146.427 583.518 146.427 Q588.75 146.427 591.782 149.806 Q594.838 153.163 594.838 158.95 M590.578 157.7 Q590.532 154.205 588.611 152.121 Q586.713 150.038 583.564 150.038 Q580 150.038 577.847 152.052 Q575.717 154.066 575.393 157.723 L590.578 157.7 Z\" fill=\"#000000\" fill-rule=\"evenodd\" fill-opacity=\"1\" /><polyline clip-path=\"url(#clip310)\" style=\"stroke:#0000ff; stroke-width:4; stroke-opacity:1; fill:none\" stroke-dasharray=\"16, 10\" points=\"\n",
       "  276.236,216.178 421.109,216.178 \n",
       "  \"/>\n",
       "<path clip-path=\"url(#clip310)\" d=\"M 0 0 M463.681 208.296 L463.681 212.323 Q461.875 211.397 459.931 210.935 Q457.986 210.472 455.903 210.472 Q452.732 210.472 451.135 211.444 Q449.561 212.416 449.561 214.36 Q449.561 215.842 450.695 216.698 Q451.829 217.532 455.255 218.296 L456.713 218.62 Q461.25 219.592 463.148 221.374 Q465.07 223.134 465.07 226.305 Q465.07 229.916 462.199 232.022 Q459.352 234.129 454.352 234.129 Q452.269 234.129 450 233.712 Q447.755 233.319 445.255 232.508 L445.255 228.11 Q447.616 229.337 449.908 229.962 Q452.199 230.564 454.445 230.564 Q457.454 230.564 459.074 229.546 Q460.695 228.504 460.695 226.629 Q460.695 224.893 459.514 223.967 Q458.357 223.041 454.399 222.184 L452.917 221.837 Q448.959 221.004 447.199 219.291 Q445.44 217.555 445.44 214.546 Q445.44 210.888 448.033 208.898 Q450.625 206.907 455.394 206.907 Q457.755 206.907 459.838 207.254 Q461.922 207.601 463.681 208.296 Z\" fill=\"#000000\" fill-rule=\"evenodd\" fill-opacity=\"1\" /><path clip-path=\"url(#clip310)\" d=\"M 0 0 M469.537 207.532 L473.797 207.532 L473.797 233.458 L469.537 233.458 L469.537 207.532 M469.537 197.439 L473.797 197.439 L473.797 202.833 L469.537 202.833 L469.537 197.439 Z\" fill=\"#000000\" fill-rule=\"evenodd\" fill-opacity=\"1\" /><path clip-path=\"url(#clip310)\" d=\"M 0 0 M499.815 217.809 L499.815 233.458 L495.556 233.458 L495.556 217.948 Q495.556 214.268 494.121 212.439 Q492.685 210.61 489.815 210.61 Q486.366 210.61 484.375 212.81 Q482.384 215.009 482.384 218.805 L482.384 233.458 L478.102 233.458 L478.102 207.532 L482.384 207.532 L482.384 211.56 Q483.912 209.222 485.972 208.064 Q488.056 206.907 490.764 206.907 Q495.232 206.907 497.523 209.685 Q499.815 212.439 499.815 217.809 Z\" fill=\"#000000\" fill-rule=\"evenodd\" fill-opacity=\"1\" /><path clip-path=\"url(#clip310)\" d=\"M 0 0 M514.514 197.486 Q511.412 202.81 509.907 208.018 Q508.403 213.226 508.403 218.573 Q508.403 223.921 509.907 229.175 Q511.435 234.407 514.514 239.708 L510.81 239.708 Q507.338 234.268 505.602 229.013 Q503.889 223.759 503.889 218.573 Q503.889 213.411 505.602 208.18 Q507.315 202.948 510.81 197.486 L514.514 197.486 Z\" fill=\"#000000\" fill-rule=\"evenodd\" fill-opacity=\"1\" /><path clip-path=\"url(#clip310)\" d=\"M 0 0 M540.532 207.532 L531.157 220.147 L541.018 233.458 L535.995 233.458 L528.449 223.272 L520.903 233.458 L515.88 233.458 L525.949 219.893 L516.736 207.532 L521.759 207.532 L528.634 216.768 L535.509 207.532 L540.532 207.532 Z\" fill=\"#000000\" fill-rule=\"evenodd\" fill-opacity=\"1\" /><path clip-path=\"url(#clip310)\" d=\"M 0 0 M544.815 197.486 L548.518 197.486 Q551.991 202.948 553.704 208.18 Q555.44 213.411 555.44 218.573 Q555.44 223.759 553.704 229.013 Q551.991 234.268 548.518 239.708 L544.815 239.708 Q547.893 234.407 549.398 229.175 Q550.926 223.921 550.926 218.573 Q550.926 213.226 549.398 208.018 Q547.893 202.81 544.815 197.486 Z\" fill=\"#000000\" fill-rule=\"evenodd\" fill-opacity=\"1\" /><polyline clip-path=\"url(#clip310)\" style=\"stroke:#ff0000; stroke-width:4; stroke-opacity:1; fill:none\" points=\"\n",
       "  276.236,276.658 421.109,276.658 \n",
       "  \"/>\n",
       "<path clip-path=\"url(#clip310)\" d=\"M 0 0 M464.167 271.947 L464.167 257.919 L468.426 257.919 L468.426 293.938 L464.167 293.938 L464.167 290.049 Q462.824 292.363 460.764 293.498 Q458.727 294.609 455.857 294.609 Q451.158 294.609 448.195 290.859 Q445.255 287.109 445.255 280.998 Q445.255 274.887 448.195 271.137 Q451.158 267.387 455.857 267.387 Q458.727 267.387 460.764 268.521 Q462.824 269.632 464.167 271.947 M449.653 280.998 Q449.653 285.697 451.574 288.382 Q453.519 291.044 456.899 291.044 Q460.278 291.044 462.223 288.382 Q464.167 285.697 464.167 280.998 Q464.167 276.299 462.223 273.637 Q460.278 270.952 456.899 270.952 Q453.519 270.952 451.574 273.637 Q449.653 276.299 449.653 280.998 Z\" fill=\"#000000\" fill-rule=\"evenodd\" fill-opacity=\"1\" /><path clip-path=\"url(#clip310)\" d=\"M 0 0 M495.07 279.91 L495.07 281.993 L475.486 281.993 Q475.764 286.391 478.125 288.706 Q480.509 290.998 484.746 290.998 Q487.199 290.998 489.491 290.396 Q491.806 289.794 494.074 288.59 L494.074 292.618 Q491.783 293.59 489.375 294.1 Q486.968 294.609 484.491 294.609 Q478.287 294.609 474.653 290.998 Q471.042 287.387 471.042 281.229 Q471.042 274.864 474.468 271.137 Q477.917 267.387 483.75 267.387 Q488.982 267.387 492.014 270.766 Q495.07 274.123 495.07 279.91 M490.81 278.66 Q490.764 275.165 488.843 273.081 Q486.945 270.998 483.797 270.998 Q480.232 270.998 478.079 273.012 Q475.949 275.026 475.625 278.683 L490.81 278.66 Z\" fill=\"#000000\" fill-rule=\"evenodd\" fill-opacity=\"1\" /><path clip-path=\"url(#clip310)\" d=\"M 0 0 M516.597 280.674 Q516.597 276.044 514.676 273.498 Q512.778 270.952 509.329 270.952 Q505.903 270.952 503.982 273.498 Q502.083 276.044 502.083 280.674 Q502.083 285.28 503.982 287.826 Q505.903 290.373 509.329 290.373 Q512.778 290.373 514.676 287.826 Q516.597 285.28 516.597 280.674 M520.856 290.72 Q520.856 297.34 517.917 300.558 Q514.977 303.799 508.912 303.799 Q506.667 303.799 504.676 303.451 Q502.685 303.127 500.81 302.433 L500.81 298.289 Q502.685 299.308 504.514 299.794 Q506.343 300.28 508.241 300.28 Q512.431 300.28 514.514 298.081 Q516.597 295.905 516.597 291.484 L516.597 289.377 Q515.278 291.669 513.218 292.803 Q511.157 293.938 508.287 293.938 Q503.519 293.938 500.602 290.303 Q497.685 286.669 497.685 280.674 Q497.685 274.655 500.602 271.021 Q503.519 267.387 508.287 267.387 Q511.157 267.387 513.218 268.521 Q515.278 269.655 516.597 271.947 L516.597 268.012 L520.856 268.012 L520.856 290.72 Z\" fill=\"#000000\" fill-rule=\"evenodd\" fill-opacity=\"1\" /><path clip-path=\"url(#clip310)\" d=\"M 0 0 M540.347 271.993 Q539.63 271.577 538.773 271.391 Q537.94 271.183 536.921 271.183 Q533.31 271.183 531.366 273.544 Q529.444 275.882 529.444 280.28 L529.444 293.938 L525.162 293.938 L525.162 268.012 L529.444 268.012 L529.444 272.04 Q530.787 269.678 532.94 268.544 Q535.093 267.387 538.171 267.387 Q538.611 267.387 539.143 267.456 Q539.676 267.503 540.324 267.618 L540.347 271.993 Z\" fill=\"#000000\" fill-rule=\"evenodd\" fill-opacity=\"1\" /><path clip-path=\"url(#clip310)\" d=\"M 0 0 M565.949 279.91 L565.949 281.993 L546.366 281.993 Q546.643 286.391 549.004 288.706 Q551.389 290.998 555.625 290.998 Q558.079 290.998 560.37 290.396 Q562.685 289.794 564.953 288.59 L564.953 292.618 Q562.662 293.59 560.254 294.1 Q557.847 294.609 555.37 294.609 Q549.167 294.609 545.532 290.998 Q541.921 287.387 541.921 281.229 Q541.921 274.864 545.347 271.137 Q548.796 267.387 554.629 267.387 Q559.861 267.387 562.893 270.766 Q565.949 274.123 565.949 279.91 M561.69 278.66 Q561.643 275.165 559.722 273.081 Q557.824 270.998 554.676 270.998 Q551.111 270.998 548.958 273.012 Q546.829 275.026 546.505 278.683 L561.69 278.66 Z\" fill=\"#000000\" fill-rule=\"evenodd\" fill-opacity=\"1\" /><path clip-path=\"url(#clip310)\" d=\"M 0 0 M592.592 279.91 L592.592 281.993 L573.009 281.993 Q573.287 286.391 575.648 288.706 Q578.032 290.998 582.268 290.998 Q584.722 290.998 587.014 290.396 Q589.328 289.794 591.597 288.59 L591.597 292.618 Q589.305 293.59 586.898 294.1 Q584.49 294.609 582.014 294.609 Q575.81 294.609 572.176 290.998 Q568.565 287.387 568.565 281.229 Q568.565 274.864 571.99 271.137 Q575.44 267.387 581.273 267.387 Q586.504 267.387 589.537 270.766 Q592.592 274.123 592.592 279.91 M588.333 278.66 Q588.287 275.165 586.365 273.081 Q584.467 270.998 581.319 270.998 Q577.754 270.998 575.602 273.012 Q573.472 275.026 573.148 278.683 L588.333 278.66 Z\" fill=\"#000000\" fill-rule=\"evenodd\" fill-opacity=\"1\" /><path clip-path=\"url(#clip310)\" d=\"M 0 0 M594.907 279.053 L607.384 279.053 L607.384 282.85 L594.907 282.85 L594.907 279.053 Z\" fill=\"#000000\" fill-rule=\"evenodd\" fill-opacity=\"1\" /><path clip-path=\"url(#clip310)\" d=\"M 0 0 M626.62 275.303 Q629.976 276.021 631.851 278.289 Q633.749 280.558 633.749 283.891 Q633.749 289.007 630.231 291.808 Q626.712 294.609 620.231 294.609 Q618.055 294.609 615.74 294.169 Q613.449 293.752 610.995 292.896 L610.995 288.382 Q612.939 289.516 615.254 290.095 Q617.569 290.674 620.092 290.674 Q624.49 290.674 626.782 288.938 Q629.097 287.201 629.097 283.891 Q629.097 280.836 626.944 279.123 Q624.814 277.387 620.995 277.387 L616.967 277.387 L616.967 273.544 L621.18 273.544 Q624.629 273.544 626.458 272.178 Q628.286 270.79 628.286 268.197 Q628.286 265.535 626.388 264.123 Q624.513 262.688 620.995 262.688 Q619.074 262.688 616.875 263.104 Q614.675 263.521 612.037 264.401 L612.037 260.234 Q614.699 259.493 617.013 259.123 Q619.351 258.753 621.412 258.753 Q626.736 258.753 629.837 261.183 Q632.939 263.59 632.939 267.711 Q632.939 270.581 631.296 272.572 Q629.652 274.54 626.62 275.303 Z\" fill=\"#000000\" fill-rule=\"evenodd\" fill-opacity=\"1\" /><path clip-path=\"url(#clip310)\" d=\"M 0 0 M657.407 290.049 L657.407 303.799 L653.124 303.799 L653.124 268.012 L657.407 268.012 L657.407 271.947 Q658.749 269.632 660.786 268.521 Q662.846 267.387 665.694 267.387 Q670.416 267.387 673.356 271.137 Q676.319 274.887 676.319 280.998 Q676.319 287.109 673.356 290.859 Q670.416 294.609 665.694 294.609 Q662.846 294.609 660.786 293.498 Q658.749 292.363 657.407 290.049 M671.897 280.998 Q671.897 276.299 669.953 273.637 Q668.032 270.952 664.652 270.952 Q661.272 270.952 659.328 273.637 Q657.407 276.299 657.407 280.998 Q657.407 285.697 659.328 288.382 Q661.272 291.044 664.652 291.044 Q668.032 291.044 669.953 288.382 Q671.897 285.697 671.897 280.998 Z\" fill=\"#000000\" fill-rule=\"evenodd\" fill-opacity=\"1\" /><path clip-path=\"url(#clip310)\" d=\"M 0 0 M690.832 270.998 Q687.407 270.998 685.416 273.683 Q683.425 276.345 683.425 280.998 Q683.425 285.651 685.393 288.336 Q687.383 290.998 690.832 290.998 Q694.235 290.998 696.226 288.313 Q698.217 285.627 698.217 280.998 Q698.217 276.391 696.226 273.706 Q694.235 270.998 690.832 270.998 M690.832 267.387 Q696.388 267.387 699.559 270.998 Q702.731 274.609 702.731 280.998 Q702.731 287.364 699.559 290.998 Q696.388 294.609 690.832 294.609 Q685.254 294.609 682.082 290.998 Q678.934 287.364 678.934 280.998 Q678.934 274.609 682.082 270.998 Q685.254 267.387 690.832 267.387 Z\" fill=\"#000000\" fill-rule=\"evenodd\" fill-opacity=\"1\" /><path clip-path=\"url(#clip310)\" d=\"M 0 0 M707.198 257.919 L711.457 257.919 L711.457 293.938 L707.198 293.938 L707.198 257.919 Z\" fill=\"#000000\" fill-rule=\"evenodd\" fill-opacity=\"1\" /><path clip-path=\"url(#clip310)\" d=\"M 0 0 M726.712 296.345 Q724.906 300.975 723.193 302.387 Q721.48 303.799 718.61 303.799 L715.207 303.799 L715.207 300.234 L717.707 300.234 Q719.467 300.234 720.439 299.4 Q721.411 298.567 722.592 295.465 L723.355 293.521 L712.869 268.012 L717.383 268.012 L725.485 288.289 L733.587 268.012 L738.101 268.012 L726.712 296.345 Z\" fill=\"#000000\" fill-rule=\"evenodd\" fill-opacity=\"1\" /><path clip-path=\"url(#clip310)\" d=\"M 0 0 M764.119 278.289 L764.119 293.938 L759.86 293.938 L759.86 278.428 Q759.86 274.748 758.425 272.919 Q756.989 271.09 754.119 271.09 Q750.67 271.09 748.679 273.29 Q746.689 275.489 746.689 279.285 L746.689 293.938 L742.406 293.938 L742.406 268.012 L746.689 268.012 L746.689 272.04 Q748.216 269.702 750.277 268.544 Q752.36 267.387 755.068 267.387 Q759.536 267.387 761.827 270.165 Q764.119 272.919 764.119 278.289 Z\" fill=\"#000000\" fill-rule=\"evenodd\" fill-opacity=\"1\" /><path clip-path=\"url(#clip310)\" d=\"M 0 0 M778.633 270.998 Q775.207 270.998 773.216 273.683 Q771.226 276.345 771.226 280.998 Q771.226 285.651 773.193 288.336 Q775.184 290.998 778.633 290.998 Q782.036 290.998 784.026 288.313 Q786.017 285.627 786.017 280.998 Q786.017 276.391 784.026 273.706 Q782.036 270.998 778.633 270.998 M778.633 267.387 Q784.188 267.387 787.36 270.998 Q790.531 274.609 790.531 280.998 Q790.531 287.364 787.36 290.998 Q784.188 294.609 778.633 294.609 Q773.054 294.609 769.883 290.998 Q766.735 287.364 766.735 280.998 Q766.735 274.609 769.883 270.998 Q773.054 267.387 778.633 267.387 Z\" fill=\"#000000\" fill-rule=\"evenodd\" fill-opacity=\"1\" /><path clip-path=\"url(#clip310)\" d=\"M 0 0 M815.184 272.989 Q816.781 270.118 819.003 268.753 Q821.225 267.387 824.235 267.387 Q828.285 267.387 830.484 270.234 Q832.684 273.058 832.684 278.289 L832.684 293.938 L828.401 293.938 L828.401 278.428 Q828.401 274.702 827.082 272.896 Q825.762 271.09 823.054 271.09 Q819.744 271.09 817.822 273.29 Q815.901 275.489 815.901 279.285 L815.901 293.938 L811.619 293.938 L811.619 278.428 Q811.619 274.678 810.299 272.896 Q808.98 271.09 806.225 271.09 Q802.961 271.09 801.04 273.313 Q799.119 275.512 799.119 279.285 L799.119 293.938 L794.837 293.938 L794.837 268.012 L799.119 268.012 L799.119 272.04 Q800.577 269.655 802.614 268.521 Q804.651 267.387 807.452 267.387 Q810.276 267.387 812.244 268.822 Q814.235 270.257 815.184 272.989 Z\" fill=\"#000000\" fill-rule=\"evenodd\" fill-opacity=\"1\" /><path clip-path=\"url(#clip310)\" d=\"M 0 0 M837.151 268.012 L841.41 268.012 L841.41 293.938 L837.151 293.938 L837.151 268.012 M837.151 257.919 L841.41 257.919 L841.41 263.313 L837.151 263.313 L837.151 257.919 Z\" fill=\"#000000\" fill-rule=\"evenodd\" fill-opacity=\"1\" /><path clip-path=\"url(#clip310)\" d=\"M 0 0 M857.66 280.905 Q852.498 280.905 850.508 282.086 Q848.517 283.266 848.517 286.114 Q848.517 288.382 849.998 289.725 Q851.503 291.044 854.072 291.044 Q857.614 291.044 859.744 288.544 Q861.896 286.021 861.896 281.854 L861.896 280.905 L857.66 280.905 M866.156 279.146 L866.156 293.938 L861.896 293.938 L861.896 290.002 Q860.438 292.363 858.262 293.498 Q856.086 294.609 852.938 294.609 Q848.957 294.609 846.595 292.387 Q844.258 290.141 844.258 286.391 Q844.258 282.016 847.174 279.794 Q850.114 277.572 855.924 277.572 L861.896 277.572 L861.896 277.155 Q861.896 274.215 859.952 272.618 Q858.031 270.998 854.535 270.998 Q852.313 270.998 850.207 271.53 Q848.1 272.063 846.156 273.127 L846.156 269.192 Q848.494 268.29 850.693 267.85 Q852.892 267.387 854.975 267.387 Q860.6 267.387 863.378 270.303 Q866.156 273.22 866.156 279.146 Z\" fill=\"#000000\" fill-rule=\"evenodd\" fill-opacity=\"1\" /><path clip-path=\"url(#clip310)\" d=\"M 0 0 M870.623 257.919 L874.882 257.919 L874.882 293.938 L870.623 293.938 L870.623 257.919 Z\" fill=\"#000000\" fill-rule=\"evenodd\" fill-opacity=\"1\" /></svg>\n"
      ]
     },
     "execution_count": 15,
     "metadata": {},
     "output_type": "execute_result"
    }
   ],
   "source": [
    "begin\n",
    "    using Plots\n",
    "    n = 20\n",
    "    x = range(-π, π; length=20)\n",
    "    noise = 0.3randn(n)\n",
    "    y = sin.(x) + noise\n",
    "    X = hcat((x.^k for k in 0:3)...)\n",
    "    b = X\\y\n",
    "    f(x) = sum(b[k+1]*x^k for k in 0:3)\n",
    "    xs = range(-π, π; length=400)\n",
    "    plot(; legend=:topleft)\n",
    "    scatter!(x, y; label=\"sample\")\n",
    "    plot!(xs, sin.(xs); label=\"sin(x)\", color=:blue, ls=:dash)\n",
    "    plot!(xs, f.(xs); label=\"degree-3 polynomial\", color=:red, lw=2)\n",
    "end"
   ]
  },
  {
   "cell_type": "code",
   "execution_count": 16,
   "metadata": {},
   "outputs": [
    {
     "name": "stdout",
     "output_type": "stream",
     "text": [
      "(:block, \n",
      "    (:using, \n",
      "        (:., :Plots)), \n",
      "    (:(=), :n, 20), \n",
      "    (:(=), :x, \n",
      "        (:call, :range, \n",
      "            (:parameters, \n",
      "                (:kw, :length, 20)), \n",
      "            (:call, :-, :π), :π)), \n",
      "    (:(=), :noise, \n",
      "        (:call, :*, 0.3, \n",
      "            (:call, :randn, :n))), \n",
      "    (:(=), :y, \n",
      "        (:call, :+, \n",
      "            (:., :sin, \n",
      "                (:tuple, :x)), :noise)), \n",
      "    (:(=), :X, \n",
      "        (:call, :hcat, \n",
      "            (:..., \n",
      "                (:generator, \n",
      "                    (:call, :.^, :x, :k), \n",
      "                    (:(=), :k, \n",
      "                        (:call, :(:), 0, 3)))))), \n",
      "    (:(=), :b, \n",
      "        (:call, :\\, :X, :y)), \n",
      "    (:(=), \n",
      "        (:call, :f, :x), \n",
      "        (:block, \n",
      "            (:call, :sum, \n",
      "                (:generator, \n",
      "                    (:call, :*, \n",
      "                        (:ref, :b, \n",
      "                            (:call, :+, :k, 1)), \n",
      "                        (:call, :^, :x, :k)), \n",
      "                    (:(=), :k, \n",
      "                        (:call, :(:), 0, 3)))))), \n",
      "    (:(=), :xs, \n",
      "        (:call, :range, \n",
      "            (:parameters, \n",
      "                (:kw, :length, 400)), \n",
      "            (:call, :-, :π), :π)), \n",
      "    (:call, :plot, \n",
      "        (:parameters, \n",
      "            (:kw, :legend, QuoteNode(:topleft)))), \n",
      "    (:call, :scatter!, \n",
      "        (:parameters, \n",
      "            (:kw, :label, \"sample\")), :x, :y), \n",
      "    (:call, :plot!, \n",
      "        (:parameters, \n",
      "            (:kw, :label, \"sin(x)\"), \n",
      "            (:kw, :color, QuoteNode(:blue)), \n",
      "            (:kw, :ls, QuoteNode(:dash))), :xs, \n",
      "        (:., :sin, \n",
      "            (:tuple, :xs))), \n",
      "    (:call, :plot!, \n",
      "        (:parameters, \n",
      "            (:kw, :label, \"degree-3 polynomial\"), \n",
      "            (:kw, :color, QuoteNode(:red)), \n",
      "            (:kw, :lw, 2)), :xs, \n",
      "        (:., :f, \n",
      "            (:tuple, :xs))))"
     ]
    }
   ],
   "source": [
    "@show_texpr begin\n",
    "    using Plots\n",
    "    n = 20\n",
    "    x = range(-π, π; length=20)\n",
    "    noise = 0.3randn(n)\n",
    "    y = sin.(x) + noise\n",
    "    X = hcat((x.^k for k in 0:3)...)\n",
    "    b = X\\y\n",
    "    f(x) = sum(b[k+1]*x^k for k in 0:3)\n",
    "    xs = range(-π, π; length=400)\n",
    "    plot(; legend=:topleft)\n",
    "    scatter!(x, y; label=\"sample\")\n",
    "    plot!(xs, sin.(xs); label=\"sin(x)\", color=:blue, ls=:dash)\n",
    "    plot!(xs, f.(xs); label=\"degree-3 polynomial\", color=:red, lw=2)\n",
    "end"
   ]
  },
  {
   "cell_type": "code",
   "execution_count": 17,
   "metadata": {},
   "outputs": [
    {
     "data": {
      "image/svg+xml": [
       "<?xml version=\"1.0\" encoding=\"utf-8\"?>\n",
       "<svg xmlns=\"http://www.w3.org/2000/svg\" xmlns:xlink=\"http://www.w3.org/1999/xlink\" width=\"600\" height=\"400\" viewBox=\"0 0 2400 1600\">\n",
       "<defs>\n",
       "  <clipPath id=\"clip350\">\n",
       "    <rect x=\"0\" y=\"0\" width=\"2400\" height=\"1600\"/>\n",
       "  </clipPath>\n",
       "</defs>\n",
       "<path clip-path=\"url(#clip350)\" d=\"\n",
       "M0 1600 L2400 1600 L2400 0 L0 0  Z\n",
       "  \" fill=\"#ffffff\" fill-rule=\"evenodd\" fill-opacity=\"1\"/>\n",
       "<defs>\n",
       "  <clipPath id=\"clip351\">\n",
       "    <rect x=\"480\" y=\"0\" width=\"1681\" height=\"1600\"/>\n",
       "  </clipPath>\n",
       "</defs>\n",
       "<path clip-path=\"url(#clip350)\" d=\"\n",
       "M179.654 1486.45 L2352.76 1486.45 L2352.76 47.2441 L179.654 47.2441  Z\n",
       "  \" fill=\"#ffffff\" fill-rule=\"evenodd\" fill-opacity=\"1\"/>\n",
       "<defs>\n",
       "  <clipPath id=\"clip352\">\n",
       "    <rect x=\"179\" y=\"47\" width=\"2174\" height=\"1440\"/>\n",
       "  </clipPath>\n",
       "</defs>\n",
       "<polyline clip-path=\"url(#clip352)\" style=\"stroke:#000000; stroke-width:2; stroke-opacity:0.1; fill:none\" points=\"\n",
       "  287.356,1486.45 287.356,47.2441 \n",
       "  \"/>\n",
       "<polyline clip-path=\"url(#clip352)\" style=\"stroke:#000000; stroke-width:2; stroke-opacity:0.1; fill:none\" points=\"\n",
       "  613.639,1486.45 613.639,47.2441 \n",
       "  \"/>\n",
       "<polyline clip-path=\"url(#clip352)\" style=\"stroke:#000000; stroke-width:2; stroke-opacity:0.1; fill:none\" points=\"\n",
       "  939.922,1486.45 939.922,47.2441 \n",
       "  \"/>\n",
       "<polyline clip-path=\"url(#clip352)\" style=\"stroke:#000000; stroke-width:2; stroke-opacity:0.1; fill:none\" points=\"\n",
       "  1266.2,1486.45 1266.2,47.2441 \n",
       "  \"/>\n",
       "<polyline clip-path=\"url(#clip352)\" style=\"stroke:#000000; stroke-width:2; stroke-opacity:0.1; fill:none\" points=\"\n",
       "  1592.49,1486.45 1592.49,47.2441 \n",
       "  \"/>\n",
       "<polyline clip-path=\"url(#clip352)\" style=\"stroke:#000000; stroke-width:2; stroke-opacity:0.1; fill:none\" points=\"\n",
       "  1918.77,1486.45 1918.77,47.2441 \n",
       "  \"/>\n",
       "<polyline clip-path=\"url(#clip352)\" style=\"stroke:#000000; stroke-width:2; stroke-opacity:0.1; fill:none\" points=\"\n",
       "  2245.05,1486.45 2245.05,47.2441 \n",
       "  \"/>\n",
       "<polyline clip-path=\"url(#clip350)\" style=\"stroke:#000000; stroke-width:4; stroke-opacity:1; fill:none\" points=\"\n",
       "  179.654,1486.45 2352.76,1486.45 \n",
       "  \"/>\n",
       "<polyline clip-path=\"url(#clip350)\" style=\"stroke:#000000; stroke-width:4; stroke-opacity:1; fill:none\" points=\"\n",
       "  287.356,1486.45 287.356,1469.18 \n",
       "  \"/>\n",
       "<polyline clip-path=\"url(#clip350)\" style=\"stroke:#000000; stroke-width:4; stroke-opacity:1; fill:none\" points=\"\n",
       "  613.639,1486.45 613.639,1469.18 \n",
       "  \"/>\n",
       "<polyline clip-path=\"url(#clip350)\" style=\"stroke:#000000; stroke-width:4; stroke-opacity:1; fill:none\" points=\"\n",
       "  939.922,1486.45 939.922,1469.18 \n",
       "  \"/>\n",
       "<polyline clip-path=\"url(#clip350)\" style=\"stroke:#000000; stroke-width:4; stroke-opacity:1; fill:none\" points=\"\n",
       "  1266.2,1486.45 1266.2,1469.18 \n",
       "  \"/>\n",
       "<polyline clip-path=\"url(#clip350)\" style=\"stroke:#000000; stroke-width:4; stroke-opacity:1; fill:none\" points=\"\n",
       "  1592.49,1486.45 1592.49,1469.18 \n",
       "  \"/>\n",
       "<polyline clip-path=\"url(#clip350)\" style=\"stroke:#000000; stroke-width:4; stroke-opacity:1; fill:none\" points=\"\n",
       "  1918.77,1486.45 1918.77,1469.18 \n",
       "  \"/>\n",
       "<polyline clip-path=\"url(#clip350)\" style=\"stroke:#000000; stroke-width:4; stroke-opacity:1; fill:none\" points=\"\n",
       "  2245.05,1486.45 2245.05,1469.18 \n",
       "  \"/>\n",
       "<path clip-path=\"url(#clip350)\" d=\"M 0 0 M259.335 1530.29 L289.011 1530.29 L289.011 1534.23 L259.335 1534.23 L259.335 1530.29 Z\" fill=\"#000000\" fill-rule=\"evenodd\" fill-opacity=\"1\" /><path clip-path=\"url(#clip350)\" d=\"M 0 0 M308.247 1528.49 Q311.603 1529.2 313.478 1531.47 Q315.377 1533.74 315.377 1537.07 Q315.377 1542.19 311.858 1544.99 Q308.34 1547.79 301.858 1547.79 Q299.682 1547.79 297.367 1547.35 Q295.076 1546.93 292.622 1546.08 L292.622 1541.56 Q294.566 1542.7 296.881 1543.28 Q299.196 1543.86 301.719 1543.86 Q306.117 1543.86 308.409 1542.12 Q310.724 1540.38 310.724 1537.07 Q310.724 1534.02 308.571 1532.31 Q306.441 1530.57 302.622 1530.57 L298.594 1530.57 L298.594 1526.73 L302.807 1526.73 Q306.256 1526.73 308.085 1525.36 Q309.914 1523.97 309.914 1521.38 Q309.914 1518.72 308.015 1517.31 Q306.14 1515.87 302.622 1515.87 Q300.701 1515.87 298.502 1516.29 Q296.303 1516.7 293.664 1517.58 L293.664 1513.42 Q296.326 1512.68 298.64 1512.31 Q300.978 1511.93 303.039 1511.93 Q308.363 1511.93 311.465 1514.37 Q314.566 1516.77 314.566 1520.89 Q314.566 1523.76 312.923 1525.75 Q311.279 1527.72 308.247 1528.49 Z\" fill=\"#000000\" fill-rule=\"evenodd\" fill-opacity=\"1\" /><path clip-path=\"url(#clip350)\" d=\"M 0 0 M586.093 1530.29 L615.768 1530.29 L615.768 1534.23 L586.093 1534.23 L586.093 1530.29 Z\" fill=\"#000000\" fill-rule=\"evenodd\" fill-opacity=\"1\" /><path clip-path=\"url(#clip350)\" d=\"M 0 0 M624.866 1543.18 L641.185 1543.18 L641.185 1547.12 L619.241 1547.12 L619.241 1543.18 Q621.903 1540.43 626.486 1535.8 Q631.092 1531.15 632.273 1529.81 Q634.518 1527.28 635.398 1525.55 Q636.301 1523.79 636.301 1522.1 Q636.301 1519.34 634.356 1517.61 Q632.435 1515.87 629.333 1515.87 Q627.134 1515.87 624.68 1516.63 Q622.25 1517.4 619.472 1518.95 L619.472 1514.23 Q622.296 1513.09 624.75 1512.51 Q627.204 1511.93 629.241 1511.93 Q634.611 1511.93 637.805 1514.62 Q641 1517.31 641 1521.8 Q641 1523.93 640.19 1525.85 Q639.403 1527.74 637.296 1530.34 Q636.717 1531.01 633.616 1534.23 Q630.514 1537.42 624.866 1543.18 Z\" fill=\"#000000\" fill-rule=\"evenodd\" fill-opacity=\"1\" /><path clip-path=\"url(#clip350)\" d=\"M 0 0 M912.19 1530.29 L941.866 1530.29 L941.866 1534.23 L912.19 1534.23 L912.19 1530.29 Z\" fill=\"#000000\" fill-rule=\"evenodd\" fill-opacity=\"1\" /><path clip-path=\"url(#clip350)\" d=\"M 0 0 M947.746 1543.18 L955.385 1543.18 L955.385 1516.82 L947.075 1518.49 L947.075 1514.23 L955.338 1512.56 L960.014 1512.56 L960.014 1543.18 L967.653 1543.18 L967.653 1547.12 L947.746 1547.12 L947.746 1543.18 Z\" fill=\"#000000\" fill-rule=\"evenodd\" fill-opacity=\"1\" /><path clip-path=\"url(#clip350)\" d=\"M 0 0 M1266.2 1515.64 Q1262.59 1515.64 1260.77 1519.2 Q1258.96 1522.75 1258.96 1529.87 Q1258.96 1536.98 1260.77 1540.55 Q1262.59 1544.09 1266.2 1544.09 Q1269.84 1544.09 1271.64 1540.55 Q1273.47 1536.98 1273.47 1529.87 Q1273.47 1522.75 1271.64 1519.2 Q1269.84 1515.64 1266.2 1515.64 M1266.2 1511.93 Q1272.01 1511.93 1275.07 1516.54 Q1278.15 1521.12 1278.15 1529.87 Q1278.15 1538.6 1275.07 1543.21 Q1272.01 1547.79 1266.2 1547.79 Q1260.39 1547.79 1257.32 1543.21 Q1254.26 1538.6 1254.26 1529.87 Q1254.26 1521.12 1257.32 1516.54 Q1260.39 1511.93 1266.2 1511.93 Z\" fill=\"#000000\" fill-rule=\"evenodd\" fill-opacity=\"1\" /><path clip-path=\"url(#clip350)\" d=\"M 0 0 M1582.87 1543.18 L1590.51 1543.18 L1590.51 1516.82 L1582.2 1518.49 L1582.2 1514.23 L1590.46 1512.56 L1595.14 1512.56 L1595.14 1543.18 L1602.78 1543.18 L1602.78 1547.12 L1582.87 1547.12 L1582.87 1543.18 Z\" fill=\"#000000\" fill-rule=\"evenodd\" fill-opacity=\"1\" /><path clip-path=\"url(#clip350)\" d=\"M 0 0 M1913.42 1543.18 L1929.74 1543.18 L1929.74 1547.12 L1907.8 1547.12 L1907.8 1543.18 Q1910.46 1540.43 1915.04 1535.8 Q1919.65 1531.15 1920.83 1529.81 Q1923.08 1527.28 1923.96 1525.55 Q1924.86 1523.79 1924.86 1522.1 Q1924.86 1519.34 1922.91 1517.61 Q1920.99 1515.87 1917.89 1515.87 Q1915.69 1515.87 1913.24 1516.63 Q1910.81 1517.4 1908.03 1518.95 L1908.03 1514.23 Q1910.85 1513.09 1913.31 1512.51 Q1915.76 1511.93 1917.8 1511.93 Q1923.17 1511.93 1926.36 1514.62 Q1929.56 1517.31 1929.56 1521.8 Q1929.56 1523.93 1928.75 1525.85 Q1927.96 1527.74 1925.85 1530.34 Q1925.28 1531.01 1922.17 1534.23 Q1919.07 1537.42 1913.42 1543.18 Z\" fill=\"#000000\" fill-rule=\"evenodd\" fill-opacity=\"1\" /><path clip-path=\"url(#clip350)\" d=\"M 0 0 M2249.3 1528.49 Q2252.66 1529.2 2254.53 1531.47 Q2256.43 1533.74 2256.43 1537.07 Q2256.43 1542.19 2252.91 1544.99 Q2249.39 1547.79 2242.91 1547.79 Q2240.74 1547.79 2238.42 1547.35 Q2236.13 1546.93 2233.68 1546.08 L2233.68 1541.56 Q2235.62 1542.7 2237.94 1543.28 Q2240.25 1543.86 2242.77 1543.86 Q2247.17 1543.86 2249.46 1542.12 Q2251.78 1540.38 2251.78 1537.07 Q2251.78 1534.02 2249.63 1532.31 Q2247.5 1530.57 2243.68 1530.57 L2239.65 1530.57 L2239.65 1526.73 L2243.86 1526.73 Q2247.31 1526.73 2249.14 1525.36 Q2250.97 1523.97 2250.97 1521.38 Q2250.97 1518.72 2249.07 1517.31 Q2247.19 1515.87 2243.68 1515.87 Q2241.76 1515.87 2239.56 1516.29 Q2237.36 1516.7 2234.72 1517.58 L2234.72 1513.42 Q2237.38 1512.68 2239.69 1512.31 Q2242.03 1511.93 2244.09 1511.93 Q2249.42 1511.93 2252.52 1514.37 Q2255.62 1516.77 2255.62 1520.89 Q2255.62 1523.76 2253.98 1525.75 Q2252.33 1527.72 2249.3 1528.49 Z\" fill=\"#000000\" fill-rule=\"evenodd\" fill-opacity=\"1\" /><polyline clip-path=\"url(#clip352)\" style=\"stroke:#000000; stroke-width:2; stroke-opacity:0.1; fill:none\" points=\"\n",
       "  179.654,1422.85 2352.76,1422.85 \n",
       "  \"/>\n",
       "<polyline clip-path=\"url(#clip352)\" style=\"stroke:#000000; stroke-width:2; stroke-opacity:0.1; fill:none\" points=\"\n",
       "  179.654,1192.07 2352.76,1192.07 \n",
       "  \"/>\n",
       "<polyline clip-path=\"url(#clip352)\" style=\"stroke:#000000; stroke-width:2; stroke-opacity:0.1; fill:none\" points=\"\n",
       "  179.654,961.292 2352.76,961.292 \n",
       "  \"/>\n",
       "<polyline clip-path=\"url(#clip352)\" style=\"stroke:#000000; stroke-width:2; stroke-opacity:0.1; fill:none\" points=\"\n",
       "  179.654,730.512 2352.76,730.512 \n",
       "  \"/>\n",
       "<polyline clip-path=\"url(#clip352)\" style=\"stroke:#000000; stroke-width:2; stroke-opacity:0.1; fill:none\" points=\"\n",
       "  179.654,499.731 2352.76,499.731 \n",
       "  \"/>\n",
       "<polyline clip-path=\"url(#clip352)\" style=\"stroke:#000000; stroke-width:2; stroke-opacity:0.1; fill:none\" points=\"\n",
       "  179.654,268.95 2352.76,268.95 \n",
       "  \"/>\n",
       "<polyline clip-path=\"url(#clip350)\" style=\"stroke:#000000; stroke-width:4; stroke-opacity:1; fill:none\" points=\"\n",
       "  179.654,1486.45 179.654,47.2441 \n",
       "  \"/>\n",
       "<polyline clip-path=\"url(#clip350)\" style=\"stroke:#000000; stroke-width:4; stroke-opacity:1; fill:none\" points=\"\n",
       "  179.654,1422.85 205.731,1422.85 \n",
       "  \"/>\n",
       "<polyline clip-path=\"url(#clip350)\" style=\"stroke:#000000; stroke-width:4; stroke-opacity:1; fill:none\" points=\"\n",
       "  179.654,1192.07 205.731,1192.07 \n",
       "  \"/>\n",
       "<polyline clip-path=\"url(#clip350)\" style=\"stroke:#000000; stroke-width:4; stroke-opacity:1; fill:none\" points=\"\n",
       "  179.654,961.292 205.731,961.292 \n",
       "  \"/>\n",
       "<polyline clip-path=\"url(#clip350)\" style=\"stroke:#000000; stroke-width:4; stroke-opacity:1; fill:none\" points=\"\n",
       "  179.654,730.512 205.731,730.512 \n",
       "  \"/>\n",
       "<polyline clip-path=\"url(#clip350)\" style=\"stroke:#000000; stroke-width:4; stroke-opacity:1; fill:none\" points=\"\n",
       "  179.654,499.731 205.731,499.731 \n",
       "  \"/>\n",
       "<polyline clip-path=\"url(#clip350)\" style=\"stroke:#000000; stroke-width:4; stroke-opacity:1; fill:none\" points=\"\n",
       "  179.654,268.95 205.731,268.95 \n",
       "  \"/>\n",
       "<path clip-path=\"url(#clip350)\" d=\"M 0 0 M52.219 1423.31 L81.8947 1423.31 L81.8947 1427.24 L52.219 1427.24 L52.219 1423.31 Z\" fill=\"#000000\" fill-rule=\"evenodd\" fill-opacity=\"1\" /><path clip-path=\"url(#clip350)\" d=\"M 0 0 M87.7743 1436.2 L95.4132 1436.2 L95.4132 1409.83 L87.103 1411.5 L87.103 1407.24 L95.3669 1405.57 L100.043 1405.57 L100.043 1436.2 L107.682 1436.2 L107.682 1440.13 L87.7743 1440.13 L87.7743 1436.2 Z\" fill=\"#000000\" fill-rule=\"evenodd\" fill-opacity=\"1\" /><path clip-path=\"url(#clip350)\" d=\"M 0 0 M112.751 1434.25 L117.635 1434.25 L117.635 1440.13 L112.751 1440.13 L112.751 1434.25 Z\" fill=\"#000000\" fill-rule=\"evenodd\" fill-opacity=\"1\" /><path clip-path=\"url(#clip350)\" d=\"M 0 0 M122.751 1405.57 L141.107 1405.57 L141.107 1409.51 L127.033 1409.51 L127.033 1417.98 Q128.052 1417.63 129.07 1417.47 Q130.089 1417.29 131.107 1417.29 Q136.894 1417.29 140.274 1420.46 Q143.654 1423.63 143.654 1429.05 Q143.654 1434.62 140.181 1437.73 Q136.709 1440.81 130.39 1440.81 Q128.214 1440.81 125.945 1440.43 Q123.7 1440.06 121.293 1439.32 L121.293 1434.62 Q123.376 1435.76 125.598 1436.31 Q127.82 1436.87 130.297 1436.87 Q134.302 1436.87 136.64 1434.76 Q138.978 1432.66 138.978 1429.05 Q138.978 1425.43 136.64 1423.33 Q134.302 1421.22 130.297 1421.22 Q128.422 1421.22 126.547 1421.64 Q124.695 1422.06 122.751 1422.93 L122.751 1405.57 Z\" fill=\"#000000\" fill-rule=\"evenodd\" fill-opacity=\"1\" /><path clip-path=\"url(#clip350)\" d=\"M 0 0 M51.2236 1192.52 L80.8994 1192.52 L80.8994 1196.46 L51.2236 1196.46 L51.2236 1192.52 Z\" fill=\"#000000\" fill-rule=\"evenodd\" fill-opacity=\"1\" /><path clip-path=\"url(#clip350)\" d=\"M 0 0 M86.779 1205.42 L94.4178 1205.42 L94.4178 1179.05 L86.1077 1180.72 L86.1077 1176.46 L94.3715 1174.79 L99.0474 1174.79 L99.0474 1205.42 L106.686 1205.42 L106.686 1209.35 L86.779 1209.35 L86.779 1205.42 Z\" fill=\"#000000\" fill-rule=\"evenodd\" fill-opacity=\"1\" /><path clip-path=\"url(#clip350)\" d=\"M 0 0 M111.756 1203.47 L116.64 1203.47 L116.64 1209.35 L111.756 1209.35 L111.756 1203.47 Z\" fill=\"#000000\" fill-rule=\"evenodd\" fill-opacity=\"1\" /><path clip-path=\"url(#clip350)\" d=\"M 0 0 M131.709 1177.87 Q128.098 1177.87 126.27 1181.44 Q124.464 1184.98 124.464 1192.11 Q124.464 1199.21 126.27 1202.78 Q128.098 1206.32 131.709 1206.32 Q135.344 1206.32 137.149 1202.78 Q138.978 1199.21 138.978 1192.11 Q138.978 1184.98 137.149 1181.44 Q135.344 1177.87 131.709 1177.87 M131.709 1174.17 Q137.519 1174.17 140.575 1178.77 Q143.654 1183.36 143.654 1192.11 Q143.654 1200.83 140.575 1205.44 Q137.519 1210.02 131.709 1210.02 Q125.899 1210.02 122.82 1205.44 Q119.765 1200.83 119.765 1192.11 Q119.765 1183.36 122.82 1178.77 Q125.899 1174.17 131.709 1174.17 Z\" fill=\"#000000\" fill-rule=\"evenodd\" fill-opacity=\"1\" /><path clip-path=\"url(#clip350)\" d=\"M 0 0 M50.9921 961.744 L80.6679 961.744 L80.6679 965.679 L50.9921 965.679 L50.9921 961.744 Z\" fill=\"#000000\" fill-rule=\"evenodd\" fill-opacity=\"1\" /><path clip-path=\"url(#clip350)\" d=\"M 0 0 M95.7373 947.091 Q92.1262 947.091 90.2975 950.656 Q88.4919 954.197 88.4919 961.327 Q88.4919 968.434 90.2975 971.998 Q92.1262 975.54 95.7373 975.54 Q99.3715 975.54 101.177 971.998 Q103.006 968.434 103.006 961.327 Q103.006 954.197 101.177 950.656 Q99.3715 947.091 95.7373 947.091 M95.7373 943.387 Q101.547 943.387 104.603 947.994 Q107.682 952.577 107.682 961.327 Q107.682 970.054 104.603 974.66 Q101.547 979.244 95.7373 979.244 Q89.9271 979.244 86.8484 974.66 Q83.7929 970.054 83.7929 961.327 Q83.7929 952.577 86.8484 947.994 Q89.9271 943.387 95.7373 943.387 Z\" fill=\"#000000\" fill-rule=\"evenodd\" fill-opacity=\"1\" /><path clip-path=\"url(#clip350)\" d=\"M 0 0 M112.751 972.693 L117.635 972.693 L117.635 978.572 L112.751 978.572 L112.751 972.693 Z\" fill=\"#000000\" fill-rule=\"evenodd\" fill-opacity=\"1\" /><path clip-path=\"url(#clip350)\" d=\"M 0 0 M122.751 944.012 L141.107 944.012 L141.107 947.948 L127.033 947.948 L127.033 956.42 Q128.052 956.072 129.07 955.91 Q130.089 955.725 131.107 955.725 Q136.894 955.725 140.274 958.897 Q143.654 962.068 143.654 967.484 Q143.654 973.063 140.181 976.165 Q136.709 979.244 130.39 979.244 Q128.214 979.244 125.945 978.873 Q123.7 978.503 121.293 977.762 L121.293 973.063 Q123.376 974.197 125.598 974.753 Q127.82 975.308 130.297 975.308 Q134.302 975.308 136.64 973.202 Q138.978 971.096 138.978 967.484 Q138.978 963.873 136.64 961.767 Q134.302 959.66 130.297 959.66 Q128.422 959.66 126.547 960.077 Q124.695 960.494 122.751 961.373 L122.751 944.012 Z\" fill=\"#000000\" fill-rule=\"evenodd\" fill-opacity=\"1\" /><path clip-path=\"url(#clip350)\" d=\"M 0 0 M94.7419 716.31 Q91.1308 716.31 89.3021 719.875 Q87.4966 723.417 87.4966 730.546 Q87.4966 737.653 89.3021 741.218 Q91.1308 744.759 94.7419 744.759 Q98.3761 744.759 100.182 741.218 Q102.01 737.653 102.01 730.546 Q102.01 723.417 100.182 719.875 Q98.3761 716.31 94.7419 716.31 M94.7419 712.607 Q100.552 712.607 103.608 717.213 Q106.686 721.796 106.686 730.546 Q106.686 739.273 103.608 743.88 Q100.552 748.463 94.7419 748.463 Q88.9317 748.463 85.8531 743.88 Q82.7975 739.273 82.7975 730.546 Q82.7975 721.796 85.8531 717.213 Q88.9317 712.607 94.7419 712.607 Z\" fill=\"#000000\" fill-rule=\"evenodd\" fill-opacity=\"1\" /><path clip-path=\"url(#clip350)\" d=\"M 0 0 M111.756 741.912 L116.64 741.912 L116.64 747.792 L111.756 747.792 L111.756 741.912 Z\" fill=\"#000000\" fill-rule=\"evenodd\" fill-opacity=\"1\" /><path clip-path=\"url(#clip350)\" d=\"M 0 0 M131.709 716.31 Q128.098 716.31 126.27 719.875 Q124.464 723.417 124.464 730.546 Q124.464 737.653 126.27 741.218 Q128.098 744.759 131.709 744.759 Q135.344 744.759 137.149 741.218 Q138.978 737.653 138.978 730.546 Q138.978 723.417 137.149 719.875 Q135.344 716.31 131.709 716.31 M131.709 712.607 Q137.519 712.607 140.575 717.213 Q143.654 721.796 143.654 730.546 Q143.654 739.273 140.575 743.88 Q137.519 748.463 131.709 748.463 Q125.899 748.463 122.82 743.88 Q119.765 739.273 119.765 730.546 Q119.765 721.796 122.82 717.213 Q125.899 712.607 131.709 712.607 Z\" fill=\"#000000\" fill-rule=\"evenodd\" fill-opacity=\"1\" /><path clip-path=\"url(#clip350)\" d=\"M 0 0 M95.7373 485.53 Q92.1262 485.53 90.2975 489.094 Q88.4919 492.636 88.4919 499.766 Q88.4919 506.872 90.2975 510.437 Q92.1262 513.978 95.7373 513.978 Q99.3715 513.978 101.177 510.437 Q103.006 506.872 103.006 499.766 Q103.006 492.636 101.177 489.094 Q99.3715 485.53 95.7373 485.53 M95.7373 481.826 Q101.547 481.826 104.603 486.432 Q107.682 491.016 107.682 499.766 Q107.682 508.492 104.603 513.099 Q101.547 517.682 95.7373 517.682 Q89.9271 517.682 86.8484 513.099 Q83.7929 508.492 83.7929 499.766 Q83.7929 491.016 86.8484 486.432 Q89.9271 481.826 95.7373 481.826 Z\" fill=\"#000000\" fill-rule=\"evenodd\" fill-opacity=\"1\" /><path clip-path=\"url(#clip350)\" d=\"M 0 0 M112.751 511.131 L117.635 511.131 L117.635 517.011 L112.751 517.011 L112.751 511.131 Z\" fill=\"#000000\" fill-rule=\"evenodd\" fill-opacity=\"1\" /><path clip-path=\"url(#clip350)\" d=\"M 0 0 M122.751 482.451 L141.107 482.451 L141.107 486.386 L127.033 486.386 L127.033 494.858 Q128.052 494.511 129.07 494.349 Q130.089 494.164 131.107 494.164 Q136.894 494.164 140.274 497.335 Q143.654 500.506 143.654 505.923 Q143.654 511.502 140.181 514.603 Q136.709 517.682 130.39 517.682 Q128.214 517.682 125.945 517.312 Q123.7 516.941 121.293 516.201 L121.293 511.502 Q123.376 512.636 125.598 513.191 Q127.82 513.747 130.297 513.747 Q134.302 513.747 136.64 511.641 Q138.978 509.534 138.978 505.923 Q138.978 502.312 136.64 500.205 Q134.302 498.099 130.297 498.099 Q128.422 498.099 126.547 498.516 Q124.695 498.932 122.751 499.812 L122.751 482.451 Z\" fill=\"#000000\" fill-rule=\"evenodd\" fill-opacity=\"1\" /><path clip-path=\"url(#clip350)\" d=\"M 0 0 M86.779 282.295 L94.4178 282.295 L94.4178 255.929 L86.1077 257.596 L86.1077 253.337 L94.3715 251.67 L99.0474 251.67 L99.0474 282.295 L106.686 282.295 L106.686 286.23 L86.779 286.23 L86.779 282.295 Z\" fill=\"#000000\" fill-rule=\"evenodd\" fill-opacity=\"1\" /><path clip-path=\"url(#clip350)\" d=\"M 0 0 M111.756 280.351 L116.64 280.351 L116.64 286.23 L111.756 286.23 L111.756 280.351 Z\" fill=\"#000000\" fill-rule=\"evenodd\" fill-opacity=\"1\" /><path clip-path=\"url(#clip350)\" d=\"M 0 0 M131.709 254.749 Q128.098 254.749 126.27 258.314 Q124.464 261.855 124.464 268.985 Q124.464 276.091 126.27 279.656 Q128.098 283.198 131.709 283.198 Q135.344 283.198 137.149 279.656 Q138.978 276.091 138.978 268.985 Q138.978 261.855 137.149 258.314 Q135.344 254.749 131.709 254.749 M131.709 251.045 Q137.519 251.045 140.575 255.652 Q143.654 260.235 143.654 268.985 Q143.654 277.712 140.575 282.318 Q137.519 286.901 131.709 286.901 Q125.899 286.901 122.82 282.318 Q119.765 277.712 119.765 268.985 Q119.765 260.235 122.82 255.652 Q125.899 251.045 131.709 251.045 Z\" fill=\"#000000\" fill-rule=\"evenodd\" fill-opacity=\"1\" /><circle clip-path=\"url(#clip352)\" cx=\"241.157\" cy=\"761.895\" r=\"14\" fill=\"#009af9\" fill-rule=\"evenodd\" fill-opacity=\"1\" stroke=\"#000000\" stroke-opacity=\"1\" stroke-width=\"3.2\"/>\n",
       "<circle clip-path=\"url(#clip352)\" cx=\"349.056\" cy=\"920.885\" r=\"14\" fill=\"#009af9\" fill-rule=\"evenodd\" fill-opacity=\"1\" stroke=\"#000000\" stroke-opacity=\"1\" stroke-width=\"3.2\"/>\n",
       "<circle clip-path=\"url(#clip352)\" cx=\"456.956\" cy=\"953.429\" r=\"14\" fill=\"#009af9\" fill-rule=\"evenodd\" fill-opacity=\"1\" stroke=\"#000000\" stroke-opacity=\"1\" stroke-width=\"3.2\"/>\n",
       "<circle clip-path=\"url(#clip352)\" cx=\"564.856\" cy=\"1188.39\" r=\"14\" fill=\"#009af9\" fill-rule=\"evenodd\" fill-opacity=\"1\" stroke=\"#000000\" stroke-opacity=\"1\" stroke-width=\"3.2\"/>\n",
       "<circle clip-path=\"url(#clip352)\" cx=\"672.756\" cy=\"1445.72\" r=\"14\" fill=\"#009af9\" fill-rule=\"evenodd\" fill-opacity=\"1\" stroke=\"#000000\" stroke-opacity=\"1\" stroke-width=\"3.2\"/>\n",
       "<circle clip-path=\"url(#clip352)\" cx=\"780.656\" cy=\"1145.96\" r=\"14\" fill=\"#009af9\" fill-rule=\"evenodd\" fill-opacity=\"1\" stroke=\"#000000\" stroke-opacity=\"1\" stroke-width=\"3.2\"/>\n",
       "<circle clip-path=\"url(#clip352)\" cx=\"888.555\" cy=\"1400.44\" r=\"14\" fill=\"#009af9\" fill-rule=\"evenodd\" fill-opacity=\"1\" stroke=\"#000000\" stroke-opacity=\"1\" stroke-width=\"3.2\"/>\n",
       "<circle clip-path=\"url(#clip352)\" cx=\"996.455\" cy=\"1166.18\" r=\"14\" fill=\"#009af9\" fill-rule=\"evenodd\" fill-opacity=\"1\" stroke=\"#000000\" stroke-opacity=\"1\" stroke-width=\"3.2\"/>\n",
       "<circle clip-path=\"url(#clip352)\" cx=\"1104.36\" cy=\"968.399\" r=\"14\" fill=\"#009af9\" fill-rule=\"evenodd\" fill-opacity=\"1\" stroke=\"#000000\" stroke-opacity=\"1\" stroke-width=\"3.2\"/>\n",
       "<circle clip-path=\"url(#clip352)\" cx=\"1212.25\" cy=\"653.218\" r=\"14\" fill=\"#009af9\" fill-rule=\"evenodd\" fill-opacity=\"1\" stroke=\"#000000\" stroke-opacity=\"1\" stroke-width=\"3.2\"/>\n",
       "<circle clip-path=\"url(#clip352)\" cx=\"1320.15\" cy=\"923.569\" r=\"14\" fill=\"#009af9\" fill-rule=\"evenodd\" fill-opacity=\"1\" stroke=\"#000000\" stroke-opacity=\"1\" stroke-width=\"3.2\"/>\n",
       "<circle clip-path=\"url(#clip352)\" cx=\"1428.05\" cy=\"526.663\" r=\"14\" fill=\"#009af9\" fill-rule=\"evenodd\" fill-opacity=\"1\" stroke=\"#000000\" stroke-opacity=\"1\" stroke-width=\"3.2\"/>\n",
       "<circle clip-path=\"url(#clip352)\" cx=\"1535.95\" cy=\"564.038\" r=\"14\" fill=\"#009af9\" fill-rule=\"evenodd\" fill-opacity=\"1\" stroke=\"#000000\" stroke-opacity=\"1\" stroke-width=\"3.2\"/>\n",
       "<circle clip-path=\"url(#clip352)\" cx=\"1643.85\" cy=\"185.909\" r=\"14\" fill=\"#009af9\" fill-rule=\"evenodd\" fill-opacity=\"1\" stroke=\"#000000\" stroke-opacity=\"1\" stroke-width=\"3.2\"/>\n",
       "<circle clip-path=\"url(#clip352)\" cx=\"1751.75\" cy=\"299.843\" r=\"14\" fill=\"#009af9\" fill-rule=\"evenodd\" fill-opacity=\"1\" stroke=\"#000000\" stroke-opacity=\"1\" stroke-width=\"3.2\"/>\n",
       "<circle clip-path=\"url(#clip352)\" cx=\"1859.65\" cy=\"191.54\" r=\"14\" fill=\"#009af9\" fill-rule=\"evenodd\" fill-opacity=\"1\" stroke=\"#000000\" stroke-opacity=\"1\" stroke-width=\"3.2\"/>\n",
       "<circle clip-path=\"url(#clip352)\" cx=\"1967.55\" cy=\"87.9763\" r=\"14\" fill=\"#009af9\" fill-rule=\"evenodd\" fill-opacity=\"1\" stroke=\"#000000\" stroke-opacity=\"1\" stroke-width=\"3.2\"/>\n",
       "<circle clip-path=\"url(#clip352)\" cx=\"2075.45\" cy=\"406.006\" r=\"14\" fill=\"#009af9\" fill-rule=\"evenodd\" fill-opacity=\"1\" stroke=\"#000000\" stroke-opacity=\"1\" stroke-width=\"3.2\"/>\n",
       "<circle clip-path=\"url(#clip352)\" cx=\"2183.35\" cy=\"397.282\" r=\"14\" fill=\"#009af9\" fill-rule=\"evenodd\" fill-opacity=\"1\" stroke=\"#000000\" stroke-opacity=\"1\" stroke-width=\"3.2\"/>\n",
       "<circle clip-path=\"url(#clip352)\" cx=\"2291.25\" cy=\"719.788\" r=\"14\" fill=\"#009af9\" fill-rule=\"evenodd\" fill-opacity=\"1\" stroke=\"#000000\" stroke-opacity=\"1\" stroke-width=\"3.2\"/>\n",
       "<polyline clip-path=\"url(#clip352)\" style=\"stroke:#0000ff; stroke-width:4; stroke-opacity:1; fill:none\" stroke-dasharray=\"16, 10\" points=\"\n",
       "  241.157,730.512 246.295,737.78 251.433,745.046 256.571,752.309 261.709,759.566 266.847,766.816 271.985,774.057 277.123,781.287 282.261,788.505 287.399,795.708 \n",
       "  292.537,802.895 297.676,810.064 302.814,817.214 307.952,824.342 313.09,831.446 318.228,838.526 323.366,845.579 328.504,852.603 333.642,859.597 338.78,866.559 \n",
       "  343.918,873.488 349.056,880.38 354.194,887.236 359.333,894.053 364.471,900.829 369.609,907.563 374.747,914.253 379.885,920.898 385.023,927.495 390.161,934.044 \n",
       "  395.299,940.542 400.437,946.988 405.575,953.38 410.713,959.717 415.851,965.997 420.99,972.219 426.128,978.381 431.266,984.481 436.404,990.518 441.542,996.491 \n",
       "  446.68,1002.4 451.818,1008.24 456.956,1014.01 462.094,1019.71 467.232,1025.34 472.37,1030.89 477.509,1036.37 482.647,1041.78 487.785,1047.11 492.923,1052.36 \n",
       "  498.061,1057.53 503.199,1062.62 508.337,1067.62 513.475,1072.54 518.613,1077.38 523.751,1082.13 528.889,1086.8 534.027,1091.37 539.166,1095.86 544.304,1100.26 \n",
       "  549.442,1104.56 554.58,1108.77 559.718,1112.89 564.856,1116.92 569.994,1120.84 575.132,1124.67 580.27,1128.41 585.408,1132.04 590.546,1135.57 595.685,1139.01 \n",
       "  600.823,1142.34 605.961,1145.57 611.099,1148.7 616.237,1151.72 621.375,1154.64 626.513,1157.46 631.651,1160.17 636.789,1162.77 641.927,1165.26 647.065,1167.65 \n",
       "  652.203,1169.93 657.342,1172.1 662.48,1174.16 667.618,1176.11 672.756,1177.95 677.894,1179.68 683.032,1181.3 688.17,1182.8 693.308,1184.19 698.446,1185.48 \n",
       "  703.584,1186.64 708.722,1187.7 713.861,1188.64 718.999,1189.47 724.137,1190.18 729.275,1190.78 734.413,1191.27 739.551,1191.64 744.689,1191.9 749.827,1192.04 \n",
       "  754.965,1192.07 760.103,1191.98 765.241,1191.78 770.379,1191.47 775.518,1191.04 780.656,1190.5 785.794,1189.84 790.932,1189.07 796.07,1188.18 801.208,1187.19 \n",
       "  806.346,1186.07 811.484,1184.85 816.622,1183.51 821.76,1182.06 826.898,1180.5 832.036,1178.83 837.175,1177.04 842.313,1175.15 847.451,1173.14 852.589,1171.03 \n",
       "  857.727,1168.8 862.865,1166.47 868.003,1164.03 873.141,1161.48 878.279,1158.83 883.417,1156.06 888.555,1153.2 893.694,1150.23 898.832,1147.15 903.97,1143.97 \n",
       "  909.108,1140.69 914.246,1137.3 919.384,1133.82 924.522,1130.24 929.66,1126.55 934.798,1122.77 939.936,1118.89 945.074,1114.92 950.212,1110.85 955.351,1106.68 \n",
       "  960.489,1102.42 965.627,1098.07 970.765,1093.63 975.903,1089.1 981.041,1084.48 986.179,1079.77 991.317,1074.97 996.455,1070.09 1001.59,1065.13 1006.73,1060.08 \n",
       "  1011.87,1054.95 1017.01,1049.74 1022.15,1044.45 1027.28,1039.09 1032.42,1033.64 1037.56,1028.12 1042.7,1022.53 1047.84,1016.87 1052.97,1011.13 1058.11,1005.33 \n",
       "  1063.25,999.453 1068.39,993.513 1073.53,987.508 1078.66,981.439 1083.8,975.307 1088.94,969.115 1094.08,962.864 1099.22,956.555 1104.36,950.191 1109.49,943.771 \n",
       "  1114.63,937.299 1119.77,930.776 1124.91,924.202 1130.05,917.581 1135.18,910.914 1140.32,904.202 1145.46,897.446 1150.6,890.649 1155.74,883.813 1160.87,876.938 \n",
       "  1166.01,870.028 1171.15,863.082 1176.29,856.104 1181.43,849.095 1186.56,842.056 1191.7,834.989 1196.84,827.897 1201.98,820.781 1207.12,813.642 1212.25,806.482 \n",
       "  1217.39,799.304 1222.53,792.108 1227.67,784.898 1232.81,777.673 1237.95,770.438 1243.08,763.192 1248.22,755.938 1253.36,748.678 1258.5,741.413 1263.64,734.146 \n",
       "  1268.77,726.877 1273.91,719.61 1279.05,712.345 1284.19,705.085 1289.33,697.831 1294.46,690.586 1299.6,683.35 1304.74,676.126 1309.88,668.915 1315.02,661.719 \n",
       "  1320.15,654.541 1325.29,647.382 1330.43,640.243 1335.57,633.126 1340.71,626.034 1345.85,618.967 1350.98,611.929 1356.12,604.919 1361.26,597.941 1366.4,590.995 \n",
       "  1371.54,584.085 1376.67,577.21 1381.81,570.374 1386.95,563.577 1392.09,556.822 1397.23,550.109 1402.36,543.442 1407.5,536.821 1412.64,530.248 1417.78,523.724 \n",
       "  1422.92,517.252 1428.05,510.833 1433.19,504.468 1438.33,498.159 1443.47,491.908 1448.61,485.716 1453.74,479.585 1458.88,473.515 1464.02,467.51 1469.16,461.57 \n",
       "  1474.3,455.697 1479.44,449.891 1484.57,444.156 1489.71,438.491 1494.85,432.899 1499.99,427.38 1505.13,421.937 1510.26,416.57 1515.4,411.281 1520.54,406.071 \n",
       "  1525.68,400.942 1530.82,395.894 1535.95,390.93 1541.09,386.049 1546.23,381.254 1551.37,376.546 1556.51,371.925 1561.64,367.394 1566.78,362.952 1571.92,358.601 \n",
       "  1577.06,354.343 1582.2,350.178 1587.34,346.107 1592.47,342.132 1597.61,338.253 1602.75,334.471 1607.89,330.788 1613.03,327.203 1618.16,323.719 1623.3,320.335 \n",
       "  1628.44,317.053 1633.58,313.874 1638.72,310.798 1643.85,307.826 1648.99,304.959 1654.13,302.197 1659.27,299.542 1664.41,296.993 1669.54,294.552 1674.68,292.219 \n",
       "  1679.82,289.995 1684.96,287.88 1690.1,285.875 1695.23,283.98 1700.37,282.196 1705.51,280.522 1710.65,278.961 1715.79,277.511 1720.93,276.174 1726.06,274.95 \n",
       "  1731.2,273.838 1736.34,272.84 1741.48,271.955 1746.62,271.184 1751.75,270.527 1756.89,269.983 1762.03,269.554 1767.17,269.24 1772.31,269.04 1777.44,268.954 \n",
       "  1782.58,268.982 1787.72,269.125 1792.86,269.383 1798,269.755 1803.13,270.241 1808.27,270.841 1813.41,271.555 1818.55,272.383 1823.69,273.325 1828.83,274.38 \n",
       "  1833.96,275.548 1839.1,276.829 1844.24,278.222 1849.38,279.728 1854.52,281.345 1859.65,283.074 1864.79,284.913 1869.93,286.864 1875.07,288.924 1880.21,291.094 \n",
       "  1885.34,293.372 1890.48,295.759 1895.62,298.254 1900.76,300.856 1905.9,303.565 1911.03,306.379 1916.17,309.299 1921.31,312.323 1926.45,315.451 1931.59,318.681 \n",
       "  1936.73,322.014 1941.86,325.448 1947,328.983 1952.14,332.617 1957.28,336.35 1962.42,340.18 1967.55,344.108 1972.69,348.131 1977.83,352.249 1982.97,356.461 \n",
       "  1988.11,360.765 1993.24,365.161 1998.38,369.648 2003.52,374.225 2008.66,378.889 2013.8,383.641 2018.93,388.479 2024.07,393.402 2029.21,398.408 2034.35,403.497 \n",
       "  2039.49,408.666 2044.62,413.916 2049.76,419.244 2054.9,424.649 2060.04,430.13 2065.18,435.686 2070.32,441.314 2075.45,447.015 2080.59,452.785 2085.73,458.625 \n",
       "  2090.87,464.532 2096.01,470.505 2101.14,476.542 2106.28,482.643 2111.42,488.804 2116.56,495.026 2121.7,501.306 2126.83,507.643 2131.97,514.036 2137.11,520.482 \n",
       "  2142.25,526.98 2147.39,533.528 2152.52,540.125 2157.66,546.77 2162.8,553.46 2167.94,560.194 2173.08,566.97 2178.22,573.787 2183.35,580.643 2188.49,587.536 \n",
       "  2193.63,594.464 2198.77,601.426 2203.91,608.42 2209.04,615.444 2214.18,622.497 2219.32,629.577 2224.46,636.681 2229.6,643.809 2234.73,650.959 2239.87,658.128 \n",
       "  2245.01,665.315 2250.15,672.518 2255.29,679.736 2260.42,686.966 2265.56,694.207 2270.7,701.457 2275.84,708.715 2280.98,715.977 2286.11,723.244 2291.25,730.512 \n",
       "  \n",
       "  \"/>\n",
       "<polyline clip-path=\"url(#clip352)\" style=\"stroke:#ff0000; stroke-width:8; stroke-opacity:1; fill:none\" points=\"\n",
       "  241.157,657.838 246.295,673.307 251.433,688.556 256.571,703.586 261.709,718.397 266.847,732.992 271.985,747.371 277.123,761.534 282.261,775.485 287.399,789.222 \n",
       "  292.537,802.748 297.676,816.064 302.814,829.17 307.952,842.067 313.09,854.758 318.228,867.242 323.366,879.521 328.504,891.596 333.642,903.468 338.78,915.138 \n",
       "  343.918,926.608 349.056,937.877 354.194,948.949 359.333,959.822 364.471,970.499 369.609,980.981 374.747,991.268 379.885,1001.36 385.023,1011.26 390.161,1020.98 \n",
       "  395.299,1030.5 400.437,1039.83 405.575,1048.97 410.713,1057.93 415.851,1066.7 420.99,1075.29 426.128,1083.69 431.266,1091.91 436.404,1099.95 441.542,1107.81 \n",
       "  446.68,1115.49 451.818,1122.99 456.956,1130.32 462.094,1137.47 467.232,1144.44 472.37,1151.24 477.509,1157.87 482.647,1164.32 487.785,1170.61 492.923,1176.73 \n",
       "  498.061,1182.67 503.199,1188.45 508.337,1194.07 513.475,1199.51 518.613,1204.8 523.751,1209.92 528.889,1214.88 534.027,1219.68 539.166,1224.32 544.304,1228.8 \n",
       "  549.442,1233.12 554.58,1237.28 559.718,1241.3 564.856,1245.15 569.994,1248.85 575.132,1252.4 580.27,1255.8 585.408,1259.05 590.546,1262.15 595.685,1265.1 \n",
       "  600.823,1267.91 605.961,1270.57 611.099,1273.08 616.237,1275.45 621.375,1277.68 626.513,1279.77 631.651,1281.72 636.789,1283.52 641.927,1285.19 647.065,1286.73 \n",
       "  652.203,1288.12 657.342,1289.38 662.48,1290.51 667.618,1291.5 672.756,1292.37 677.894,1293.1 683.032,1293.7 688.17,1294.17 693.308,1294.52 698.446,1294.74 \n",
       "  703.584,1294.84 708.722,1294.81 713.861,1294.65 718.999,1294.38 724.137,1293.98 729.275,1293.47 734.413,1292.83 739.551,1292.08 744.689,1291.21 749.827,1290.23 \n",
       "  754.965,1289.13 760.103,1287.92 765.241,1286.59 770.379,1285.16 775.518,1283.61 780.656,1281.96 785.794,1280.19 790.932,1278.32 796.07,1276.35 801.208,1274.27 \n",
       "  806.346,1272.08 811.484,1269.8 816.622,1267.41 821.76,1264.92 826.898,1262.33 832.036,1259.64 837.175,1256.86 842.313,1253.98 847.451,1251 852.589,1247.93 \n",
       "  857.727,1244.77 862.865,1241.52 868.003,1238.17 873.141,1234.74 878.279,1231.22 883.417,1227.61 888.555,1223.91 893.694,1220.13 898.832,1216.26 903.97,1212.31 \n",
       "  909.108,1208.28 914.246,1204.17 919.384,1199.97 924.522,1195.7 929.66,1191.35 934.798,1186.93 939.936,1182.42 945.074,1177.85 950.212,1173.2 955.351,1168.48 \n",
       "  960.489,1163.68 965.627,1158.82 970.765,1153.88 975.903,1148.88 981.041,1143.82 986.179,1138.68 991.317,1133.48 996.455,1128.22 1001.59,1122.89 1006.73,1117.51 \n",
       "  1011.87,1112.06 1017.01,1106.55 1022.15,1100.99 1027.28,1095.36 1032.42,1089.68 1037.56,1083.95 1042.7,1078.16 1047.84,1072.32 1052.97,1066.43 1058.11,1060.48 \n",
       "  1063.25,1054.49 1068.39,1048.44 1073.53,1042.35 1078.66,1036.22 1083.8,1030.04 1088.94,1023.81 1094.08,1017.54 1099.22,1011.23 1104.36,1004.87 1109.49,998.481 \n",
       "  1114.63,992.049 1119.77,985.578 1124.91,979.071 1130.05,972.529 1135.18,965.951 1140.32,959.341 1145.46,952.697 1150.6,946.022 1155.74,939.317 1160.87,932.583 \n",
       "  1166.01,925.82 1171.15,919.03 1176.29,912.215 1181.43,905.374 1186.56,898.509 1191.7,891.622 1196.84,884.713 1201.98,877.783 1207.12,870.834 1212.25,863.866 \n",
       "  1217.39,856.881 1222.53,849.879 1227.67,842.863 1232.81,835.832 1237.95,828.788 1243.08,821.732 1248.22,814.665 1253.36,807.588 1258.5,800.503 1263.64,793.41 \n",
       "  1268.77,786.31 1273.91,779.204 1279.05,772.095 1284.19,764.982 1289.33,757.866 1294.46,750.749 1299.6,743.633 1304.74,736.517 1309.88,729.403 1315.02,722.292 \n",
       "  1320.15,715.186 1325.29,708.084 1330.43,700.989 1335.57,693.902 1340.71,686.823 1345.85,679.753 1350.98,672.694 1356.12,665.647 1361.26,658.613 1366.4,651.593 \n",
       "  1371.54,644.587 1376.67,637.598 1381.81,630.626 1386.95,623.671 1392.09,616.737 1397.23,609.822 1402.36,602.929 1407.5,596.059 1412.64,589.212 1417.78,582.39 \n",
       "  1422.92,575.593 1428.05,568.824 1433.19,562.082 1438.33,555.369 1443.47,548.687 1448.61,542.035 1453.74,535.416 1458.88,528.83 1464.02,522.278 1469.16,515.762 \n",
       "  1474.3,509.283 1479.44,502.841 1484.57,496.438 1489.71,490.074 1494.85,483.751 1499.99,477.471 1505.13,471.233 1510.26,465.04 1515.4,458.891 1520.54,452.789 \n",
       "  1525.68,446.734 1530.82,440.728 1535.95,434.771 1541.09,428.865 1546.23,423.01 1551.37,417.208 1556.51,411.46 1561.64,405.766 1566.78,400.129 1571.92,394.549 \n",
       "  1577.06,389.027 1582.2,383.564 1587.34,378.161 1592.47,372.82 1597.61,367.541 1602.75,362.325 1607.89,357.175 1613.03,352.089 1618.16,347.071 1623.3,342.121 \n",
       "  1628.44,337.239 1633.58,332.427 1638.72,327.687 1643.85,323.018 1648.99,318.423 1654.13,313.902 1659.27,309.456 1664.41,305.087 1669.54,300.796 1674.68,296.583 \n",
       "  1679.82,292.45 1684.96,288.397 1690.1,284.427 1695.23,280.539 1700.37,276.735 1705.51,273.017 1710.65,269.384 1715.79,265.839 1720.93,262.382 1726.06,259.015 \n",
       "  1731.2,255.738 1736.34,252.552 1741.48,249.46 1746.62,246.46 1751.75,243.556 1756.89,240.748 1762.03,238.036 1767.17,235.423 1772.31,232.909 1777.44,230.495 \n",
       "  1782.58,228.182 1787.72,225.971 1792.86,223.864 1798,221.862 1803.13,219.965 1808.27,218.175 1813.41,216.492 1818.55,214.918 1823.69,213.455 1828.83,212.102 \n",
       "  1833.96,210.861 1839.1,209.733 1844.24,208.72 1849.38,207.822 1854.52,207.04 1859.65,206.376 1864.79,205.83 1869.93,205.404 1875.07,205.098 1880.21,204.915 \n",
       "  1885.34,204.854 1890.48,204.917 1895.62,205.105 1900.76,205.419 1905.9,205.861 1911.03,206.43 1916.17,207.129 1921.31,207.958 1926.45,208.919 1931.59,210.012 \n",
       "  1936.73,211.239 1941.86,212.601 1947,214.098 1952.14,215.733 1957.28,217.505 1962.42,219.416 1967.55,221.468 1972.69,223.66 1977.83,225.995 1982.97,228.473 \n",
       "  1988.11,231.096 1993.24,233.864 1998.38,236.779 2003.52,239.841 2008.66,243.052 2013.8,246.413 2018.93,249.925 2024.07,253.589 2029.21,257.406 2034.35,261.377 \n",
       "  2039.49,265.503 2044.62,269.786 2049.76,274.225 2054.9,278.824 2060.04,283.581 2065.18,288.5 2070.32,293.58 2075.45,298.823 2080.59,304.23 2085.73,309.801 \n",
       "  2090.87,315.539 2096.01,321.444 2101.14,327.516 2106.28,333.759 2111.42,340.171 2116.56,346.755 2121.7,353.511 2126.83,360.441 2131.97,367.545 2137.11,374.826 \n",
       "  2142.25,382.283 2147.39,389.917 2152.52,397.731 2157.66,405.725 2162.8,413.9 2167.94,422.257 2173.08,430.797 2178.22,439.522 2183.35,448.432 2188.49,457.529 \n",
       "  2193.63,466.813 2198.77,476.286 2203.91,485.948 2209.04,495.801 2214.18,505.847 2219.32,516.085 2224.46,526.517 2229.6,537.145 2234.73,547.968 2239.87,558.989 \n",
       "  2245.01,570.208 2250.15,581.627 2255.29,593.246 2260.42,605.067 2265.56,617.09 2270.7,629.318 2275.84,641.75 2280.98,654.388 2286.11,667.233 2291.25,680.286 \n",
       "  \n",
       "  \"/>\n",
       "<path clip-path=\"url(#clip350)\" d=\"\n",
       "M252.09 337.138 L923.174 337.138 L923.174 95.2176 L252.09 95.2176  Z\n",
       "  \" fill=\"#ffffff\" fill-rule=\"evenodd\" fill-opacity=\"1\"/>\n",
       "<polyline clip-path=\"url(#clip350)\" style=\"stroke:#000000; stroke-width:4; stroke-opacity:1; fill:none\" points=\"\n",
       "  252.09,337.138 923.174,337.138 923.174,95.2176 252.09,95.2176 252.09,337.138 \n",
       "  \"/>\n",
       "<circle clip-path=\"url(#clip350)\" cx=\"348.673\" cy=\"155.698\" r=\"23\" fill=\"#009af9\" fill-rule=\"evenodd\" fill-opacity=\"1\" stroke=\"#000000\" stroke-opacity=\"1\" stroke-width=\"5.12\"/>\n",
       "<path clip-path=\"url(#clip350)\" d=\"M 0 0 M463.681 147.816 L463.681 151.843 Q461.875 150.917 459.931 150.455 Q457.986 149.992 455.903 149.992 Q452.732 149.992 451.135 150.964 Q449.561 151.936 449.561 153.88 Q449.561 155.362 450.695 156.218 Q451.829 157.052 455.255 157.816 L456.713 158.14 Q461.25 159.112 463.148 160.894 Q465.07 162.654 465.07 165.825 Q465.07 169.436 462.199 171.542 Q459.352 173.649 454.352 173.649 Q452.269 173.649 450 173.232 Q447.755 172.839 445.255 172.028 L445.255 167.63 Q447.616 168.857 449.908 169.482 Q452.199 170.084 454.445 170.084 Q457.454 170.084 459.074 169.066 Q460.695 168.024 460.695 166.149 Q460.695 164.413 459.514 163.487 Q458.357 162.561 454.399 161.704 L452.917 161.357 Q448.959 160.524 447.199 158.811 Q445.44 157.075 445.44 154.066 Q445.44 150.408 448.033 148.418 Q450.625 146.427 455.394 146.427 Q457.755 146.427 459.838 146.774 Q461.922 147.121 463.681 147.816 Z\" fill=\"#000000\" fill-rule=\"evenodd\" fill-opacity=\"1\" /><path clip-path=\"url(#clip350)\" d=\"M 0 0 M481.32 159.945 Q476.158 159.945 474.167 161.126 Q472.176 162.306 472.176 165.154 Q472.176 167.422 473.658 168.765 Q475.162 170.084 477.732 170.084 Q481.273 170.084 483.403 167.584 Q485.556 165.061 485.556 160.894 L485.556 159.945 L481.32 159.945 M489.815 158.186 L489.815 172.978 L485.556 172.978 L485.556 169.042 Q484.097 171.403 481.922 172.538 Q479.746 173.649 476.597 173.649 Q472.616 173.649 470.255 171.427 Q467.917 169.181 467.917 165.431 Q467.917 161.056 470.834 158.834 Q473.773 156.612 479.584 156.612 L485.556 156.612 L485.556 156.195 Q485.556 153.255 483.611 151.658 Q481.69 150.038 478.195 150.038 Q475.972 150.038 473.866 150.57 Q471.76 151.103 469.815 152.167 L469.815 148.232 Q472.153 147.33 474.352 146.89 Q476.551 146.427 478.635 146.427 Q484.259 146.427 487.037 149.343 Q489.815 152.26 489.815 158.186 Z\" fill=\"#000000\" fill-rule=\"evenodd\" fill-opacity=\"1\" /><path clip-path=\"url(#clip350)\" d=\"M 0 0 M514.468 152.029 Q516.065 149.158 518.287 147.793 Q520.509 146.427 523.519 146.427 Q527.569 146.427 529.768 149.274 Q531.968 152.098 531.968 157.329 L531.968 172.978 L527.685 172.978 L527.685 157.468 Q527.685 153.742 526.366 151.936 Q525.046 150.13 522.338 150.13 Q519.028 150.13 517.107 152.33 Q515.185 154.529 515.185 158.325 L515.185 172.978 L510.903 172.978 L510.903 157.468 Q510.903 153.718 509.583 151.936 Q508.264 150.13 505.509 150.13 Q502.245 150.13 500.324 152.353 Q498.403 154.552 498.403 158.325 L498.403 172.978 L494.121 172.978 L494.121 147.052 L498.403 147.052 L498.403 151.08 Q499.861 148.695 501.898 147.561 Q503.935 146.427 506.736 146.427 Q509.56 146.427 511.528 147.862 Q513.519 149.297 514.468 152.029 Z\" fill=\"#000000\" fill-rule=\"evenodd\" fill-opacity=\"1\" /><path clip-path=\"url(#clip350)\" d=\"M 0 0 M540.555 169.089 L540.555 182.839 L536.273 182.839 L536.273 147.052 L540.555 147.052 L540.555 150.987 Q541.898 148.672 543.935 147.561 Q545.995 146.427 548.842 146.427 Q553.565 146.427 556.504 150.177 Q559.467 153.927 559.467 160.038 Q559.467 166.149 556.504 169.899 Q553.565 173.649 548.842 173.649 Q545.995 173.649 543.935 172.538 Q541.898 171.403 540.555 169.089 M555.046 160.038 Q555.046 155.339 553.102 152.677 Q551.18 149.992 547.801 149.992 Q544.421 149.992 542.477 152.677 Q540.555 155.339 540.555 160.038 Q540.555 164.737 542.477 167.422 Q544.421 170.084 547.801 170.084 Q551.18 170.084 553.102 167.422 Q555.046 164.737 555.046 160.038 Z\" fill=\"#000000\" fill-rule=\"evenodd\" fill-opacity=\"1\" /><path clip-path=\"url(#clip350)\" d=\"M 0 0 M563.935 136.959 L568.194 136.959 L568.194 172.978 L563.935 172.978 L563.935 136.959 Z\" fill=\"#000000\" fill-rule=\"evenodd\" fill-opacity=\"1\" /><path clip-path=\"url(#clip350)\" d=\"M 0 0 M594.838 158.95 L594.838 161.033 L575.254 161.033 Q575.532 165.431 577.893 167.746 Q580.277 170.038 584.514 170.038 Q586.967 170.038 589.259 169.436 Q591.574 168.834 593.842 167.63 L593.842 171.658 Q591.551 172.63 589.143 173.14 Q586.736 173.649 584.259 173.649 Q578.055 173.649 574.421 170.038 Q570.81 166.427 570.81 160.269 Q570.81 153.904 574.236 150.177 Q577.685 146.427 583.518 146.427 Q588.75 146.427 591.782 149.806 Q594.838 153.163 594.838 158.95 M590.578 157.7 Q590.532 154.205 588.611 152.121 Q586.713 150.038 583.564 150.038 Q580 150.038 577.847 152.052 Q575.717 154.066 575.393 157.723 L590.578 157.7 Z\" fill=\"#000000\" fill-rule=\"evenodd\" fill-opacity=\"1\" /><polyline clip-path=\"url(#clip350)\" style=\"stroke:#0000ff; stroke-width:4; stroke-opacity:1; fill:none\" stroke-dasharray=\"16, 10\" points=\"\n",
       "  276.236,216.178 421.109,216.178 \n",
       "  \"/>\n",
       "<path clip-path=\"url(#clip350)\" d=\"M 0 0 M463.681 208.296 L463.681 212.323 Q461.875 211.397 459.931 210.935 Q457.986 210.472 455.903 210.472 Q452.732 210.472 451.135 211.444 Q449.561 212.416 449.561 214.36 Q449.561 215.842 450.695 216.698 Q451.829 217.532 455.255 218.296 L456.713 218.62 Q461.25 219.592 463.148 221.374 Q465.07 223.134 465.07 226.305 Q465.07 229.916 462.199 232.022 Q459.352 234.129 454.352 234.129 Q452.269 234.129 450 233.712 Q447.755 233.319 445.255 232.508 L445.255 228.11 Q447.616 229.337 449.908 229.962 Q452.199 230.564 454.445 230.564 Q457.454 230.564 459.074 229.546 Q460.695 228.504 460.695 226.629 Q460.695 224.893 459.514 223.967 Q458.357 223.041 454.399 222.184 L452.917 221.837 Q448.959 221.004 447.199 219.291 Q445.44 217.555 445.44 214.546 Q445.44 210.888 448.033 208.898 Q450.625 206.907 455.394 206.907 Q457.755 206.907 459.838 207.254 Q461.922 207.601 463.681 208.296 Z\" fill=\"#000000\" fill-rule=\"evenodd\" fill-opacity=\"1\" /><path clip-path=\"url(#clip350)\" d=\"M 0 0 M469.537 207.532 L473.797 207.532 L473.797 233.458 L469.537 233.458 L469.537 207.532 M469.537 197.439 L473.797 197.439 L473.797 202.833 L469.537 202.833 L469.537 197.439 Z\" fill=\"#000000\" fill-rule=\"evenodd\" fill-opacity=\"1\" /><path clip-path=\"url(#clip350)\" d=\"M 0 0 M499.815 217.809 L499.815 233.458 L495.556 233.458 L495.556 217.948 Q495.556 214.268 494.121 212.439 Q492.685 210.61 489.815 210.61 Q486.366 210.61 484.375 212.81 Q482.384 215.009 482.384 218.805 L482.384 233.458 L478.102 233.458 L478.102 207.532 L482.384 207.532 L482.384 211.56 Q483.912 209.222 485.972 208.064 Q488.056 206.907 490.764 206.907 Q495.232 206.907 497.523 209.685 Q499.815 212.439 499.815 217.809 Z\" fill=\"#000000\" fill-rule=\"evenodd\" fill-opacity=\"1\" /><path clip-path=\"url(#clip350)\" d=\"M 0 0 M514.514 197.486 Q511.412 202.81 509.907 208.018 Q508.403 213.226 508.403 218.573 Q508.403 223.921 509.907 229.175 Q511.435 234.407 514.514 239.708 L510.81 239.708 Q507.338 234.268 505.602 229.013 Q503.889 223.759 503.889 218.573 Q503.889 213.411 505.602 208.18 Q507.315 202.948 510.81 197.486 L514.514 197.486 Z\" fill=\"#000000\" fill-rule=\"evenodd\" fill-opacity=\"1\" /><path clip-path=\"url(#clip350)\" d=\"M 0 0 M540.532 207.532 L531.157 220.147 L541.018 233.458 L535.995 233.458 L528.449 223.272 L520.903 233.458 L515.88 233.458 L525.949 219.893 L516.736 207.532 L521.759 207.532 L528.634 216.768 L535.509 207.532 L540.532 207.532 Z\" fill=\"#000000\" fill-rule=\"evenodd\" fill-opacity=\"1\" /><path clip-path=\"url(#clip350)\" d=\"M 0 0 M544.815 197.486 L548.518 197.486 Q551.991 202.948 553.704 208.18 Q555.44 213.411 555.44 218.573 Q555.44 223.759 553.704 229.013 Q551.991 234.268 548.518 239.708 L544.815 239.708 Q547.893 234.407 549.398 229.175 Q550.926 223.921 550.926 218.573 Q550.926 213.226 549.398 208.018 Q547.893 202.81 544.815 197.486 Z\" fill=\"#000000\" fill-rule=\"evenodd\" fill-opacity=\"1\" /><polyline clip-path=\"url(#clip350)\" style=\"stroke:#ff0000; stroke-width:4; stroke-opacity:1; fill:none\" points=\"\n",
       "  276.236,276.658 421.109,276.658 \n",
       "  \"/>\n",
       "<path clip-path=\"url(#clip350)\" d=\"M 0 0 M464.167 271.947 L464.167 257.919 L468.426 257.919 L468.426 293.938 L464.167 293.938 L464.167 290.049 Q462.824 292.363 460.764 293.498 Q458.727 294.609 455.857 294.609 Q451.158 294.609 448.195 290.859 Q445.255 287.109 445.255 280.998 Q445.255 274.887 448.195 271.137 Q451.158 267.387 455.857 267.387 Q458.727 267.387 460.764 268.521 Q462.824 269.632 464.167 271.947 M449.653 280.998 Q449.653 285.697 451.574 288.382 Q453.519 291.044 456.899 291.044 Q460.278 291.044 462.223 288.382 Q464.167 285.697 464.167 280.998 Q464.167 276.299 462.223 273.637 Q460.278 270.952 456.899 270.952 Q453.519 270.952 451.574 273.637 Q449.653 276.299 449.653 280.998 Z\" fill=\"#000000\" fill-rule=\"evenodd\" fill-opacity=\"1\" /><path clip-path=\"url(#clip350)\" d=\"M 0 0 M495.07 279.91 L495.07 281.993 L475.486 281.993 Q475.764 286.391 478.125 288.706 Q480.509 290.998 484.746 290.998 Q487.199 290.998 489.491 290.396 Q491.806 289.794 494.074 288.59 L494.074 292.618 Q491.783 293.59 489.375 294.1 Q486.968 294.609 484.491 294.609 Q478.287 294.609 474.653 290.998 Q471.042 287.387 471.042 281.229 Q471.042 274.864 474.468 271.137 Q477.917 267.387 483.75 267.387 Q488.982 267.387 492.014 270.766 Q495.07 274.123 495.07 279.91 M490.81 278.66 Q490.764 275.165 488.843 273.081 Q486.945 270.998 483.797 270.998 Q480.232 270.998 478.079 273.012 Q475.949 275.026 475.625 278.683 L490.81 278.66 Z\" fill=\"#000000\" fill-rule=\"evenodd\" fill-opacity=\"1\" /><path clip-path=\"url(#clip350)\" d=\"M 0 0 M516.597 280.674 Q516.597 276.044 514.676 273.498 Q512.778 270.952 509.329 270.952 Q505.903 270.952 503.982 273.498 Q502.083 276.044 502.083 280.674 Q502.083 285.28 503.982 287.826 Q505.903 290.373 509.329 290.373 Q512.778 290.373 514.676 287.826 Q516.597 285.28 516.597 280.674 M520.856 290.72 Q520.856 297.34 517.917 300.558 Q514.977 303.799 508.912 303.799 Q506.667 303.799 504.676 303.451 Q502.685 303.127 500.81 302.433 L500.81 298.289 Q502.685 299.308 504.514 299.794 Q506.343 300.28 508.241 300.28 Q512.431 300.28 514.514 298.081 Q516.597 295.905 516.597 291.484 L516.597 289.377 Q515.278 291.669 513.218 292.803 Q511.157 293.938 508.287 293.938 Q503.519 293.938 500.602 290.303 Q497.685 286.669 497.685 280.674 Q497.685 274.655 500.602 271.021 Q503.519 267.387 508.287 267.387 Q511.157 267.387 513.218 268.521 Q515.278 269.655 516.597 271.947 L516.597 268.012 L520.856 268.012 L520.856 290.72 Z\" fill=\"#000000\" fill-rule=\"evenodd\" fill-opacity=\"1\" /><path clip-path=\"url(#clip350)\" d=\"M 0 0 M540.347 271.993 Q539.63 271.577 538.773 271.391 Q537.94 271.183 536.921 271.183 Q533.31 271.183 531.366 273.544 Q529.444 275.882 529.444 280.28 L529.444 293.938 L525.162 293.938 L525.162 268.012 L529.444 268.012 L529.444 272.04 Q530.787 269.678 532.94 268.544 Q535.093 267.387 538.171 267.387 Q538.611 267.387 539.143 267.456 Q539.676 267.503 540.324 267.618 L540.347 271.993 Z\" fill=\"#000000\" fill-rule=\"evenodd\" fill-opacity=\"1\" /><path clip-path=\"url(#clip350)\" d=\"M 0 0 M565.949 279.91 L565.949 281.993 L546.366 281.993 Q546.643 286.391 549.004 288.706 Q551.389 290.998 555.625 290.998 Q558.079 290.998 560.37 290.396 Q562.685 289.794 564.953 288.59 L564.953 292.618 Q562.662 293.59 560.254 294.1 Q557.847 294.609 555.37 294.609 Q549.167 294.609 545.532 290.998 Q541.921 287.387 541.921 281.229 Q541.921 274.864 545.347 271.137 Q548.796 267.387 554.629 267.387 Q559.861 267.387 562.893 270.766 Q565.949 274.123 565.949 279.91 M561.69 278.66 Q561.643 275.165 559.722 273.081 Q557.824 270.998 554.676 270.998 Q551.111 270.998 548.958 273.012 Q546.829 275.026 546.505 278.683 L561.69 278.66 Z\" fill=\"#000000\" fill-rule=\"evenodd\" fill-opacity=\"1\" /><path clip-path=\"url(#clip350)\" d=\"M 0 0 M592.592 279.91 L592.592 281.993 L573.009 281.993 Q573.287 286.391 575.648 288.706 Q578.032 290.998 582.268 290.998 Q584.722 290.998 587.014 290.396 Q589.328 289.794 591.597 288.59 L591.597 292.618 Q589.305 293.59 586.898 294.1 Q584.49 294.609 582.014 294.609 Q575.81 294.609 572.176 290.998 Q568.565 287.387 568.565 281.229 Q568.565 274.864 571.99 271.137 Q575.44 267.387 581.273 267.387 Q586.504 267.387 589.537 270.766 Q592.592 274.123 592.592 279.91 M588.333 278.66 Q588.287 275.165 586.365 273.081 Q584.467 270.998 581.319 270.998 Q577.754 270.998 575.602 273.012 Q573.472 275.026 573.148 278.683 L588.333 278.66 Z\" fill=\"#000000\" fill-rule=\"evenodd\" fill-opacity=\"1\" /><path clip-path=\"url(#clip350)\" d=\"M 0 0 M594.907 279.053 L607.384 279.053 L607.384 282.85 L594.907 282.85 L594.907 279.053 Z\" fill=\"#000000\" fill-rule=\"evenodd\" fill-opacity=\"1\" /><path clip-path=\"url(#clip350)\" d=\"M 0 0 M626.62 275.303 Q629.976 276.021 631.851 278.289 Q633.749 280.558 633.749 283.891 Q633.749 289.007 630.231 291.808 Q626.712 294.609 620.231 294.609 Q618.055 294.609 615.74 294.169 Q613.449 293.752 610.995 292.896 L610.995 288.382 Q612.939 289.516 615.254 290.095 Q617.569 290.674 620.092 290.674 Q624.49 290.674 626.782 288.938 Q629.097 287.201 629.097 283.891 Q629.097 280.836 626.944 279.123 Q624.814 277.387 620.995 277.387 L616.967 277.387 L616.967 273.544 L621.18 273.544 Q624.629 273.544 626.458 272.178 Q628.286 270.79 628.286 268.197 Q628.286 265.535 626.388 264.123 Q624.513 262.688 620.995 262.688 Q619.074 262.688 616.875 263.104 Q614.675 263.521 612.037 264.401 L612.037 260.234 Q614.699 259.493 617.013 259.123 Q619.351 258.753 621.412 258.753 Q626.736 258.753 629.837 261.183 Q632.939 263.59 632.939 267.711 Q632.939 270.581 631.296 272.572 Q629.652 274.54 626.62 275.303 Z\" fill=\"#000000\" fill-rule=\"evenodd\" fill-opacity=\"1\" /><path clip-path=\"url(#clip350)\" d=\"M 0 0 M657.407 290.049 L657.407 303.799 L653.124 303.799 L653.124 268.012 L657.407 268.012 L657.407 271.947 Q658.749 269.632 660.786 268.521 Q662.846 267.387 665.694 267.387 Q670.416 267.387 673.356 271.137 Q676.319 274.887 676.319 280.998 Q676.319 287.109 673.356 290.859 Q670.416 294.609 665.694 294.609 Q662.846 294.609 660.786 293.498 Q658.749 292.363 657.407 290.049 M671.897 280.998 Q671.897 276.299 669.953 273.637 Q668.032 270.952 664.652 270.952 Q661.272 270.952 659.328 273.637 Q657.407 276.299 657.407 280.998 Q657.407 285.697 659.328 288.382 Q661.272 291.044 664.652 291.044 Q668.032 291.044 669.953 288.382 Q671.897 285.697 671.897 280.998 Z\" fill=\"#000000\" fill-rule=\"evenodd\" fill-opacity=\"1\" /><path clip-path=\"url(#clip350)\" d=\"M 0 0 M690.832 270.998 Q687.407 270.998 685.416 273.683 Q683.425 276.345 683.425 280.998 Q683.425 285.651 685.393 288.336 Q687.383 290.998 690.832 290.998 Q694.235 290.998 696.226 288.313 Q698.217 285.627 698.217 280.998 Q698.217 276.391 696.226 273.706 Q694.235 270.998 690.832 270.998 M690.832 267.387 Q696.388 267.387 699.559 270.998 Q702.731 274.609 702.731 280.998 Q702.731 287.364 699.559 290.998 Q696.388 294.609 690.832 294.609 Q685.254 294.609 682.082 290.998 Q678.934 287.364 678.934 280.998 Q678.934 274.609 682.082 270.998 Q685.254 267.387 690.832 267.387 Z\" fill=\"#000000\" fill-rule=\"evenodd\" fill-opacity=\"1\" /><path clip-path=\"url(#clip350)\" d=\"M 0 0 M707.198 257.919 L711.457 257.919 L711.457 293.938 L707.198 293.938 L707.198 257.919 Z\" fill=\"#000000\" fill-rule=\"evenodd\" fill-opacity=\"1\" /><path clip-path=\"url(#clip350)\" d=\"M 0 0 M726.712 296.345 Q724.906 300.975 723.193 302.387 Q721.48 303.799 718.61 303.799 L715.207 303.799 L715.207 300.234 L717.707 300.234 Q719.467 300.234 720.439 299.4 Q721.411 298.567 722.592 295.465 L723.355 293.521 L712.869 268.012 L717.383 268.012 L725.485 288.289 L733.587 268.012 L738.101 268.012 L726.712 296.345 Z\" fill=\"#000000\" fill-rule=\"evenodd\" fill-opacity=\"1\" /><path clip-path=\"url(#clip350)\" d=\"M 0 0 M764.119 278.289 L764.119 293.938 L759.86 293.938 L759.86 278.428 Q759.86 274.748 758.425 272.919 Q756.989 271.09 754.119 271.09 Q750.67 271.09 748.679 273.29 Q746.689 275.489 746.689 279.285 L746.689 293.938 L742.406 293.938 L742.406 268.012 L746.689 268.012 L746.689 272.04 Q748.216 269.702 750.277 268.544 Q752.36 267.387 755.068 267.387 Q759.536 267.387 761.827 270.165 Q764.119 272.919 764.119 278.289 Z\" fill=\"#000000\" fill-rule=\"evenodd\" fill-opacity=\"1\" /><path clip-path=\"url(#clip350)\" d=\"M 0 0 M778.633 270.998 Q775.207 270.998 773.216 273.683 Q771.226 276.345 771.226 280.998 Q771.226 285.651 773.193 288.336 Q775.184 290.998 778.633 290.998 Q782.036 290.998 784.026 288.313 Q786.017 285.627 786.017 280.998 Q786.017 276.391 784.026 273.706 Q782.036 270.998 778.633 270.998 M778.633 267.387 Q784.188 267.387 787.36 270.998 Q790.531 274.609 790.531 280.998 Q790.531 287.364 787.36 290.998 Q784.188 294.609 778.633 294.609 Q773.054 294.609 769.883 290.998 Q766.735 287.364 766.735 280.998 Q766.735 274.609 769.883 270.998 Q773.054 267.387 778.633 267.387 Z\" fill=\"#000000\" fill-rule=\"evenodd\" fill-opacity=\"1\" /><path clip-path=\"url(#clip350)\" d=\"M 0 0 M815.184 272.989 Q816.781 270.118 819.003 268.753 Q821.225 267.387 824.235 267.387 Q828.285 267.387 830.484 270.234 Q832.684 273.058 832.684 278.289 L832.684 293.938 L828.401 293.938 L828.401 278.428 Q828.401 274.702 827.082 272.896 Q825.762 271.09 823.054 271.09 Q819.744 271.09 817.822 273.29 Q815.901 275.489 815.901 279.285 L815.901 293.938 L811.619 293.938 L811.619 278.428 Q811.619 274.678 810.299 272.896 Q808.98 271.09 806.225 271.09 Q802.961 271.09 801.04 273.313 Q799.119 275.512 799.119 279.285 L799.119 293.938 L794.837 293.938 L794.837 268.012 L799.119 268.012 L799.119 272.04 Q800.577 269.655 802.614 268.521 Q804.651 267.387 807.452 267.387 Q810.276 267.387 812.244 268.822 Q814.235 270.257 815.184 272.989 Z\" fill=\"#000000\" fill-rule=\"evenodd\" fill-opacity=\"1\" /><path clip-path=\"url(#clip350)\" d=\"M 0 0 M837.151 268.012 L841.41 268.012 L841.41 293.938 L837.151 293.938 L837.151 268.012 M837.151 257.919 L841.41 257.919 L841.41 263.313 L837.151 263.313 L837.151 257.919 Z\" fill=\"#000000\" fill-rule=\"evenodd\" fill-opacity=\"1\" /><path clip-path=\"url(#clip350)\" d=\"M 0 0 M857.66 280.905 Q852.498 280.905 850.508 282.086 Q848.517 283.266 848.517 286.114 Q848.517 288.382 849.998 289.725 Q851.503 291.044 854.072 291.044 Q857.614 291.044 859.744 288.544 Q861.896 286.021 861.896 281.854 L861.896 280.905 L857.66 280.905 M866.156 279.146 L866.156 293.938 L861.896 293.938 L861.896 290.002 Q860.438 292.363 858.262 293.498 Q856.086 294.609 852.938 294.609 Q848.957 294.609 846.595 292.387 Q844.258 290.141 844.258 286.391 Q844.258 282.016 847.174 279.794 Q850.114 277.572 855.924 277.572 L861.896 277.572 L861.896 277.155 Q861.896 274.215 859.952 272.618 Q858.031 270.998 854.535 270.998 Q852.313 270.998 850.207 271.53 Q848.1 272.063 846.156 273.127 L846.156 269.192 Q848.494 268.29 850.693 267.85 Q852.892 267.387 854.975 267.387 Q860.6 267.387 863.378 270.303 Q866.156 273.22 866.156 279.146 Z\" fill=\"#000000\" fill-rule=\"evenodd\" fill-opacity=\"1\" /><path clip-path=\"url(#clip350)\" d=\"M 0 0 M870.623 257.919 L874.882 257.919 L874.882 293.938 L870.623 293.938 L870.623 257.919 Z\" fill=\"#000000\" fill-rule=\"evenodd\" fill-opacity=\"1\" /></svg>\n"
      ]
     },
     "execution_count": 17,
     "metadata": {},
     "output_type": "execute_result"
    }
   ],
   "source": [
    "@teval (:block, \n",
    "    (:using, (:., :Plots)), \n",
    "    (:(=), :n, 20), \n",
    "    (:(=), :x, (:range, (:parameters, (:kw, :length, 20)), (:-, :π), :π)), \n",
    "    (:(=), :noise, (:*, 0.3, (:randn, :n))), \n",
    "    (:(=), :y, (:+, (:., :sin, (:tuple, :x)), :noise)), \n",
    "    (:(=), :X, \n",
    "        (:hcat, (:..., (:generator, (:call, :.^, :x, :k), (:(=), :k, (:(:), 0, 3)))))), \n",
    "    (:(=), :b, (:\\, :X, :y)), \n",
    "    (:(=), (:call, :f, :x), \n",
    "        (:sum, (:generator, (:*, (:ref, :b, (:+, :k, 1)), (:^, :x, :k)), \n",
    "            (:(=), :k, (:(:), 0, 3))))), \n",
    "    (:(=), :xs, (:range, (:parameters, (:kw, :length, 400)), (:-, :π), :π)), \n",
    "    (:plot, (:parameters, (:kw, :legend, QuoteNode(:topleft)))), \n",
    "    (:scatter!, (:parameters, (:kw, :label, \"sample\")), :x, :y), \n",
    "    (:plot!, (:parameters, \n",
    "            (:kw, :label, \"sin(x)\"), \n",
    "            (:kw, :color, QuoteNode(:blue)), \n",
    "            (:kw, :ls, QuoteNode(:dash))), \n",
    "        :xs, (:., :sin, (:tuple, :xs))), \n",
    "    (:plot!, (:parameters, \n",
    "            (:kw, :label, \"degree-3 polynomial\"), \n",
    "            (:kw, :color, QuoteNode(:red)), \n",
    "            (:kw, :lw, 2)), \n",
    "        :xs, (:., :f, (:tuple, :xs))))"
   ]
  },
  {
   "cell_type": "code",
   "execution_count": 18,
   "metadata": {},
   "outputs": [
    {
     "data": {
      "text/markdown": [
       "```julia\n",
       "begin\n",
       "    using Plots\n",
       "    n = 20\n",
       "    x = range(-π, π; length = 20)\n",
       "    noise = 0.3 * randn(n)\n",
       "    y = sin.(x) + noise\n",
       "    X = hcat((x .^ k for k = 0:3)...)\n",
       "    b = X \\ y\n",
       "    f(x) = sum((b[k + 1] * x ^ k for k = 0:3))\n",
       "    xs = range(-π, π; length = 400)\n",
       "    plot(; legend = :topleft)\n",
       "    scatter!(x, y; label = \"sample\")\n",
       "    plot!(xs, sin.(xs); label = \"sin(x)\", color = :blue, ls = :dash)\n",
       "    plot!(xs, f.(xs); label = \"degree-3 polynomial\", color = :red, lw = 2)\n",
       "end\n",
       "```"
      ]
     },
     "metadata": {},
     "output_type": "display_data"
    }
   ],
   "source": [
    "(:block, \n",
    "    (:using, (:., :Plots)), \n",
    "    (:(=), :n, 20), \n",
    "    (:(=), :x, (:range, (:parameters, (:kw, :length, 20)), (:-, :π), :π)), \n",
    "    (:(=), :noise, (:*, 0.3, (:randn, :n))), \n",
    "    (:(=), :y, (:+, (:., :sin, (:tuple, :x)), :noise)), \n",
    "    (:(=), :X, \n",
    "        (:hcat, (:..., (:generator, (:call, :.^, :x, :k), (:(=), :k, (:(:), 0, 3)))))), \n",
    "    (:(=), :b, (:\\, :X, :y)), \n",
    "    (:(=), (:call, :f, :x), \n",
    "        (:sum, (:generator, (:*, (:ref, :b, (:+, :k, 1)), (:^, :x, :k)), \n",
    "            (:(=), :k, (:(:), 0, 3))))), \n",
    "    (:(=), :xs, (:range, (:parameters, (:kw, :length, 400)), (:-, :π), :π)), \n",
    "    (:plot, (:parameters, (:kw, :legend, QuoteNode(:topleft)))), \n",
    "    (:scatter!, (:parameters, (:kw, :label, \"sample\")), :x, :y), \n",
    "    (:plot!, (:parameters, \n",
    "            (:kw, :label, \"sin(x)\"), \n",
    "            (:kw, :color, QuoteNode(:blue)), \n",
    "            (:kw, :ls, QuoteNode(:dash))), \n",
    "        :xs, (:., :sin, (:tuple, :xs))), \n",
    "    (:plot!, (:parameters, \n",
    "            (:kw, :label, \"degree-3 polynomial\"), \n",
    "            (:kw, :color, QuoteNode(:red)), \n",
    "            (:kw, :lw, 2)), \n",
    "        :xs, (:., :f, (:tuple, :xs)))) |> texpr2expr |> \n",
    "x -> display(\"text/markdown\", \"```julia\\n$x\\n```\")"
   ]
  },
  {
   "cell_type": "markdown",
   "metadata": {},
   "source": [
    "## Documents"
   ]
  },
  {
   "cell_type": "code",
   "execution_count": 19,
   "metadata": {},
   "outputs": [
    {
     "data": {
      "text/latex": [
       "\\texttt{lambda} is a Lisp-like dummy function to be translated to Julia expression by \\texttt{lexpr2expr}.\n",
       "\n",
       "For example, \\texttt{lambda((x, y), f(x, y))(a, b)} is translated to\n",
       "\n",
       "\\begin{verbatim}\n",
       "let\n",
       "    x = a\n",
       "    y = b\n",
       "    f(x, y)\n",
       "end\n",
       "\\end{verbatim}\n",
       "\\texttt{lambda((x, y), f(x, y))} without arguments (a, b) is translated to\n",
       "\n",
       "\\begin{verbatim}\n",
       "(x, y) -> f(x, y)\n",
       "\\end{verbatim}\n"
      ],
      "text/markdown": [
       "`lambda` is a Lisp-like dummy function to be translated to Julia expression by `lexpr2expr`.\n",
       "\n",
       "For example, `lambda((x, y), f(x, y))(a, b)` is translated to\n",
       "\n",
       "```julia\n",
       "let\n",
       "    x = a\n",
       "    y = b\n",
       "    f(x, y)\n",
       "end\n",
       "```\n",
       "\n",
       "`lambda((x, y), f(x, y))` without arguments (a, b) is translated to\n",
       "\n",
       "```julia\n",
       "(x, y) -> f(x, y)\n",
       "```\n"
      ],
      "text/plain": [
       "  \u001b[36mlambda\u001b[39m is a Lisp-like dummy function to be translated to Julia expression by\n",
       "  \u001b[36mlexpr2expr\u001b[39m.\n",
       "\n",
       "  For example, \u001b[36mlambda((x, y), f(x, y))(a, b)\u001b[39m is translated to\n",
       "\n",
       "\u001b[36m  let\u001b[39m\n",
       "\u001b[36m      x = a\u001b[39m\n",
       "\u001b[36m      y = b\u001b[39m\n",
       "\u001b[36m      f(x, y)\u001b[39m\n",
       "\u001b[36m  end\u001b[39m\n",
       "\n",
       "  \u001b[36mlambda((x, y), f(x, y))\u001b[39m without arguments (a, b) is translated to\n",
       "\n",
       "\u001b[36m  (x, y) -> f(x, y)\u001b[39m"
      ]
     },
     "execution_count": 19,
     "metadata": {},
     "output_type": "execute_result"
    }
   ],
   "source": [
    "@doc lambda"
   ]
  },
  {
   "cell_type": "code",
   "execution_count": 20,
   "metadata": {},
   "outputs": [
    {
     "data": {
      "text/latex": [
       "\\texttt{cond} is a Lisp-like dummy function to be translated to Julia expression by \\texttt{lexpr2expr}.\n",
       "\n",
       "For example, \\texttt{cond((a, A), (b, B), (c, C))} is translated to\n",
       "\n",
       "\\begin{verbatim}\n",
       "if a\n",
       "    A\n",
       "elseif b\n",
       "    B\n",
       "elseif c\n",
       "    C\n",
       "end\n",
       "\\end{verbatim}\n"
      ],
      "text/markdown": [
       "`cond` is a Lisp-like dummy function to be translated to Julia expression by `lexpr2expr`.\n",
       "\n",
       "For example, `cond((a, A), (b, B), (c, C))` is translated to\n",
       "\n",
       "```julia\n",
       "if a\n",
       "    A\n",
       "elseif b\n",
       "    B\n",
       "elseif c\n",
       "    C\n",
       "end\n",
       "```\n"
      ],
      "text/plain": [
       "  \u001b[36mcond\u001b[39m is a Lisp-like dummy function to be translated to Julia expression by\n",
       "  \u001b[36mlexpr2expr\u001b[39m.\n",
       "\n",
       "  For example, \u001b[36mcond((a, A), (b, B), (c, C))\u001b[39m is translated to\n",
       "\n",
       "\u001b[36m  if a\u001b[39m\n",
       "\u001b[36m      A\u001b[39m\n",
       "\u001b[36m  elseif b\u001b[39m\n",
       "\u001b[36m      B\u001b[39m\n",
       "\u001b[36m  elseif c\u001b[39m\n",
       "\u001b[36m      C\u001b[39m\n",
       "\u001b[36m  end\u001b[39m"
      ]
     },
     "execution_count": 20,
     "metadata": {},
     "output_type": "execute_result"
    }
   ],
   "source": [
    "@doc cond"
   ]
  },
  {
   "cell_type": "code",
   "execution_count": 21,
   "metadata": {},
   "outputs": [
    {
     "data": {
      "text/latex": [
       "\\begin{verbatim}\n",
       "lexpr2expr(x)\n",
       "\\end{verbatim}\n",
       "translates a Lisp-like expression \\texttt{x} to the corresponding Julia expression.\n",
       "\n"
      ],
      "text/markdown": [
       "```\n",
       "lexpr2expr(x)\n",
       "```\n",
       "\n",
       "translates a Lisp-like expression `x` to the corresponding Julia expression.\n"
      ],
      "text/plain": [
       "\u001b[36m  lexpr2expr(x)\u001b[39m\n",
       "\n",
       "  translates a Lisp-like expression \u001b[36mx\u001b[39m to the corresponding Julia expression."
      ]
     },
     "execution_count": 21,
     "metadata": {},
     "output_type": "execute_result"
    }
   ],
   "source": [
    "@doc lexpr2expr"
   ]
  },
  {
   "cell_type": "code",
   "execution_count": 22,
   "metadata": {},
   "outputs": [
    {
     "data": {
      "text/latex": [
       "\\texttt{@lexpr2expr(x)} is the macro version of \\texttt{lexpr2expr(x)}.\n",
       "\n"
      ],
      "text/markdown": [
       "`@lexpr2expr(x)` is the macro version of `lexpr2expr(x)`.\n"
      ],
      "text/plain": [
       "  \u001b[36m@lexpr2expr(x)\u001b[39m is the macro version of \u001b[36mlexpr2expr(x)\u001b[39m."
      ]
     },
     "execution_count": 22,
     "metadata": {},
     "output_type": "execute_result"
    }
   ],
   "source": [
    "@doc @lexpr2expr"
   ]
  },
  {
   "cell_type": "code",
   "execution_count": 23,
   "metadata": {},
   "outputs": [
    {
     "data": {
      "text/latex": [
       "\\texttt{leval(x, m::Module=Main)} is the function version of \\texttt{@leval(x)}\n",
       "\n"
      ],
      "text/markdown": [
       "`leval(x, m::Module=Main)` is the function version of `@leval(x)`\n"
      ],
      "text/plain": [
       "  \u001b[36mleval(x, m::Module=Main)\u001b[39m is the function version of \u001b[36m@leval(x)\u001b[39m"
      ]
     },
     "execution_count": 23,
     "metadata": {},
     "output_type": "execute_result"
    }
   ],
   "source": [
    "@doc leval"
   ]
  },
  {
   "cell_type": "code",
   "execution_count": 24,
   "metadata": {},
   "outputs": [
    {
     "data": {
      "text/latex": [
       "\\begin{verbatim}\n",
       "@leval x\n",
       "\\end{verbatim}\n",
       "evaluates a Lisp-like expression \\texttt{x}.\n",
       "\n"
      ],
      "text/markdown": [
       "```\n",
       "@leval x\n",
       "```\n",
       "\n",
       "evaluates a Lisp-like expression `x`.\n"
      ],
      "text/plain": [
       "\u001b[36m  @leval x\u001b[39m\n",
       "\n",
       "  evaluates a Lisp-like expression \u001b[36mx\u001b[39m."
      ]
     },
     "execution_count": 24,
     "metadata": {},
     "output_type": "execute_result"
    }
   ],
   "source": [
    "@doc @leval"
   ]
  },
  {
   "cell_type": "code",
   "execution_count": 25,
   "metadata": {},
   "outputs": [
    {
     "data": {
      "text/latex": [
       "\\texttt{Nil} is the type of \\texttt{nil}.\n",
       "\n"
      ],
      "text/markdown": [
       "`Nil` is the type of `nil`.\n"
      ],
      "text/plain": [
       "  \u001b[36mNil\u001b[39m is the type of \u001b[36mnil\u001b[39m."
      ]
     },
     "execution_count": 25,
     "metadata": {},
     "output_type": "execute_result"
    }
   ],
   "source": [
    "@doc Nil"
   ]
  },
  {
   "cell_type": "code",
   "execution_count": 26,
   "metadata": {},
   "outputs": [
    {
     "data": {
      "text/latex": [
       "\\texttt{nil} is the singleton of type \\texttt{Nil} regarded as the Lisp-like nil.\n",
       "\n"
      ],
      "text/markdown": [
       "`nil` is the singleton of type `Nil` regarded as the Lisp-like nil.\n"
      ],
      "text/plain": [
       "  \u001b[36mnil\u001b[39m is the singleton of type \u001b[36mNil\u001b[39m regarded as the Lisp-like nil."
      ]
     },
     "execution_count": 26,
     "metadata": {},
     "output_type": "execute_result"
    }
   ],
   "source": [
    "@doc nil"
   ]
  },
  {
   "cell_type": "code",
   "execution_count": 27,
   "metadata": {},
   "outputs": [
    {
     "data": {
      "text/latex": [
       "\\texttt{null(x)} returns \\texttt{true} if x is equal to \\texttt{nil} and \\texttt{false} otherwise.\n",
       "\n"
      ],
      "text/markdown": [
       "`null(x)` returns `true` if x is equal to `nil` and `false` otherwise.\n"
      ],
      "text/plain": [
       "  \u001b[36mnull(x)\u001b[39m returns \u001b[36mtrue\u001b[39m if x is equal to \u001b[36mnil\u001b[39m and \u001b[36mfalse\u001b[39m otherwise."
      ]
     },
     "execution_count": 27,
     "metadata": {},
     "output_type": "execute_result"
    }
   ],
   "source": [
    "@doc null"
   ]
  },
  {
   "cell_type": "code",
   "execution_count": 28,
   "metadata": {},
   "outputs": [
    {
     "data": {
      "text/latex": [
       "\\texttt{eq(x, y)} returns \\texttt{true} if x is equal to y and false otherwise, where \\texttt{()} is considered to be equal to \\texttt{nil}.\n",
       "\n"
      ],
      "text/markdown": [
       "`eq(x, y)` returns `true` if x is equal to y and false otherwise, where `()` is considered to be equal to `nil`.\n"
      ],
      "text/plain": [
       "  \u001b[36meq(x, y)\u001b[39m returns \u001b[36mtrue\u001b[39m if x is equal to y and false otherwise, where \u001b[36m()\u001b[39m is\n",
       "  considered to be equal to \u001b[36mnil\u001b[39m."
      ]
     },
     "execution_count": 28,
     "metadata": {},
     "output_type": "execute_result"
    }
   ],
   "source": [
    "@doc eq"
   ]
  },
  {
   "cell_type": "code",
   "execution_count": 29,
   "metadata": {},
   "outputs": [
    {
     "data": {
      "text/latex": [
       "\\texttt{cons(x, y)} is a Lisp-like cons function.\n",
       "\n",
       "\\begin{itemize}\n",
       "\\item The S-expression (a b c d) is represented by the tuple (a, b, c, d).\n",
       "\n",
       "\n",
       "\\item The S-expression (a b c . d) is represented by the tuple (a, b, c=>d).\n",
       "\n",
       "\\end{itemize}\n"
      ],
      "text/markdown": [
       "`cons(x, y)` is a Lisp-like cons function.\n",
       "\n",
       "  * The S-expression (a b c d) is represented by the tuple (a, b, c, d).\n",
       "  * The S-expression (a b c . d) is represented by the tuple (a, b, c=>d).\n"
      ],
      "text/plain": [
       "  \u001b[36mcons(x, y)\u001b[39m is a Lisp-like cons function.\n",
       "\n",
       "    •    The S-expression (a b c d) is represented by the tuple (a, b, c,\n",
       "        d).\n",
       "\n",
       "    •    The S-expression (a b c . d) is represented by the tuple (a, b,\n",
       "        c=>d)."
      ]
     },
     "execution_count": 29,
     "metadata": {},
     "output_type": "execute_result"
    }
   ],
   "source": [
    "@doc cons"
   ]
  },
  {
   "cell_type": "code",
   "execution_count": 30,
   "metadata": {},
   "outputs": [
    {
     "data": {
      "text/latex": [
       "\\texttt{car(x, y)} is a Lisp-like car function.\n",
       "\n"
      ],
      "text/markdown": [
       "`car(x, y)` is a Lisp-like car function.\n"
      ],
      "text/plain": [
       "  \u001b[36mcar(x, y)\u001b[39m is a Lisp-like car function."
      ]
     },
     "execution_count": 30,
     "metadata": {},
     "output_type": "execute_result"
    }
   ],
   "source": [
    "@doc car"
   ]
  },
  {
   "cell_type": "code",
   "execution_count": 31,
   "metadata": {},
   "outputs": [
    {
     "data": {
      "text/latex": [
       "\\texttt{cdr(x, y)} is a Lisp-like cdr function.\n",
       "\n"
      ],
      "text/markdown": [
       "`cdr(x, y)` is a Lisp-like cdr function.\n"
      ],
      "text/plain": [
       "  \u001b[36mcdr(x, y)\u001b[39m is a Lisp-like cdr function."
      ]
     },
     "execution_count": 31,
     "metadata": {},
     "output_type": "execute_result"
    }
   ],
   "source": [
    "@doc cdr"
   ]
  },
  {
   "cell_type": "code",
   "execution_count": 32,
   "metadata": {},
   "outputs": [
    {
     "data": {
      "text/latex": [
       "\\texttt{caar(x, y)} is a Lisp-like caar function.\n",
       "\n"
      ],
      "text/markdown": [
       "`caar(x, y)` is a Lisp-like caar function.\n"
      ],
      "text/plain": [
       "  \u001b[36mcaar(x, y)\u001b[39m is a Lisp-like caar function."
      ]
     },
     "execution_count": 32,
     "metadata": {},
     "output_type": "execute_result"
    }
   ],
   "source": [
    "@doc caar"
   ]
  },
  {
   "cell_type": "code",
   "execution_count": 33,
   "metadata": {},
   "outputs": [
    {
     "data": {
      "text/latex": [
       "\\texttt{cadr(x, y)} is a Lisp-like cadr function.\n",
       "\n"
      ],
      "text/markdown": [
       "`cadr(x, y)` is a Lisp-like cadr function.\n"
      ],
      "text/plain": [
       "  \u001b[36mcadr(x, y)\u001b[39m is a Lisp-like cadr function."
      ]
     },
     "execution_count": 33,
     "metadata": {},
     "output_type": "execute_result"
    }
   ],
   "source": [
    "@doc cadr"
   ]
  },
  {
   "cell_type": "code",
   "execution_count": 34,
   "metadata": {},
   "outputs": [
    {
     "data": {
      "text/latex": [
       "\\texttt{cdar(x, y)} is a Lisp-like cdar function.\n",
       "\n"
      ],
      "text/markdown": [
       "`cdar(x, y)` is a Lisp-like cdar function.\n"
      ],
      "text/plain": [
       "  \u001b[36mcdar(x, y)\u001b[39m is a Lisp-like cdar function."
      ]
     },
     "execution_count": 34,
     "metadata": {},
     "output_type": "execute_result"
    }
   ],
   "source": [
    "@doc cdar"
   ]
  },
  {
   "cell_type": "code",
   "execution_count": 35,
   "metadata": {},
   "outputs": [
    {
     "data": {
      "text/latex": [
       "\\texttt{cddr(x, y)} is a Lisp-like cddr function.\n",
       "\n"
      ],
      "text/markdown": [
       "`cddr(x, y)` is a Lisp-like cddr function.\n"
      ],
      "text/plain": [
       "  \u001b[36mcddr(x, y)\u001b[39m is a Lisp-like cddr function."
      ]
     },
     "execution_count": 35,
     "metadata": {},
     "output_type": "execute_result"
    }
   ],
   "source": [
    "@doc cddr"
   ]
  },
  {
   "cell_type": "code",
   "execution_count": 36,
   "metadata": {},
   "outputs": [
    {
     "data": {
      "text/latex": [
       "\\texttt{list(x...)} is a Lisp-like list function.\n",
       "\n"
      ],
      "text/markdown": [
       "`list(x...)` is a Lisp-like list function.\n"
      ],
      "text/plain": [
       "  \u001b[36mlist(x...)\u001b[39m is a Lisp-like list function."
      ]
     },
     "execution_count": 36,
     "metadata": {},
     "output_type": "execute_result"
    }
   ],
   "source": [
    "@doc list"
   ]
  },
  {
   "cell_type": "code",
   "execution_count": null,
   "metadata": {},
   "outputs": [],
   "source": []
  }
 ],
 "metadata": {
  "@webio": {
   "lastCommId": null,
   "lastKernelId": null
  },
  "jupytext": {
   "formats": "ipynb,md"
  },
  "kernelspec": {
   "display_name": "Julia MKL depwarn -O3 1.5.2",
   "language": "julia",
   "name": "julia-mkl-depwarn--o3-1.5"
  },
  "language_info": {
   "file_extension": ".jl",
   "mimetype": "application/julia",
   "name": "julia",
   "version": "1.5.2"
  },
  "toc": {
   "base_numbering": 1,
   "nav_menu": {},
   "number_sections": true,
   "sideBar": true,
   "skip_h1_title": true,
   "title_cell": "Table of Contents",
   "title_sidebar": "Contents",
   "toc_cell": true,
   "toc_position": {},
   "toc_section_display": true,
   "toc_window_display": false
  }
 },
 "nbformat": 4,
 "nbformat_minor": 4
}
