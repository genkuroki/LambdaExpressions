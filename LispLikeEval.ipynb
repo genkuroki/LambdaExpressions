{
 "cells": [
  {
   "cell_type": "markdown",
   "metadata": {},
   "source": [
    "# LispLikeEval.ipynb\n",
    "\n",
    "* Author: Gen Kuroki\n",
    "* Date: 2020-10-19\n",
    "* Repository: https://github.com/genkuroki/LispLikeEval.jl\n",
    "\n",
    "**Installation**\n",
    "```\n",
    "pkg> add https://github.com/genkuroki/LispLikeEval.jl\n",
    "```"
   ]
  },
  {
   "cell_type": "markdown",
   "metadata": {
    "toc": true
   },
   "source": [
    "<h1>Table of Contents<span class=\"tocSkip\"></span></h1>\n",
    "<div class=\"toc\"><ul class=\"toc-item\"><li><span><a href=\"#Lisp-like-functions\" data-toc-modified-id=\"Lisp-like-functions-1\"><span class=\"toc-item-num\">1&nbsp;&nbsp;</span>Lisp-like functions</a></span></li><li><span><a href=\"#@leval-examples\" data-toc-modified-id=\"@leval-examples-2\"><span class=\"toc-item-num\">2&nbsp;&nbsp;</span>@leval examples</a></span></li><li><span><a href=\"#MetaUtils.@teval-plot-exmaple\" data-toc-modified-id=\"MetaUtils.@teval-plot-exmaple-3\"><span class=\"toc-item-num\">3&nbsp;&nbsp;</span>MetaUtils.@teval plot exmaple</a></span></li><li><span><a href=\"#Documents\" data-toc-modified-id=\"Documents-4\"><span class=\"toc-item-num\">4&nbsp;&nbsp;</span>Documents</a></span></li></ul></div>"
   ]
  },
  {
   "cell_type": "code",
   "execution_count": 1,
   "metadata": {},
   "outputs": [
    {
     "name": "stderr",
     "output_type": "stream",
     "text": [
      "\u001b[32m\u001b[1m Activating\u001b[22m\u001b[39m environment at `C:\\Users\\genkuroki\\OneDrive\\work\\LispLikeEval.jl\\Project.toml`\n"
     ]
    }
   ],
   "source": [
    "if isfile(\"Project.toml\")\n",
    "    using Pkg\n",
    "    Pkg.activate(\".\")\n",
    "    using Revise\n",
    "end"
   ]
  },
  {
   "cell_type": "code",
   "execution_count": 2,
   "metadata": {},
   "outputs": [
    {
     "name": "stderr",
     "output_type": "stream",
     "text": [
      "┌ Info: Precompiling LispLikeEval [75a861b3-8f1b-477e-b3cd-11ffebdbd227]\n",
      "└ @ Base loading.jl:1278\n"
     ]
    }
   ],
   "source": [
    "using LispLikeEval\n",
    "using MetaUtils"
   ]
  },
  {
   "cell_type": "markdown",
   "metadata": {},
   "source": [
    "## Lisp-like functions"
   ]
  },
  {
   "cell_type": "code",
   "execution_count": 3,
   "metadata": {},
   "outputs": [
    {
     "data": {
      "text/plain": [
       ":(let\n",
       "      x = a\n",
       "      y = b\n",
       "      f(x, y)\n",
       "  end)"
      ]
     },
     "execution_count": 3,
     "metadata": {},
     "output_type": "execute_result"
    }
   ],
   "source": [
    "@lexpr2expr lambda((x, y), f(x, y))(a, b)"
   ]
  },
  {
   "cell_type": "code",
   "execution_count": 4,
   "metadata": {},
   "outputs": [
    {
     "data": {
      "text/plain": [
       ":((x, y)->f(x, y))"
      ]
     },
     "execution_count": 4,
     "metadata": {},
     "output_type": "execute_result"
    }
   ],
   "source": [
    "@lexpr2expr lambda((x, y), f(x, y))"
   ]
  },
  {
   "cell_type": "code",
   "execution_count": 5,
   "metadata": {},
   "outputs": [
    {
     "data": {
      "text/plain": [
       ":(if a\n",
       "      A\n",
       "  elseif b\n",
       "      B\n",
       "  elseif c\n",
       "      C\n",
       "  end)"
      ]
     },
     "execution_count": 5,
     "metadata": {},
     "output_type": "execute_result"
    }
   ],
   "source": [
    "@lexpr2expr cond((a, A), (b, B), (c, C))"
   ]
  },
  {
   "cell_type": "code",
   "execution_count": 6,
   "metadata": {},
   "outputs": [
    {
     "name": "stdout",
     "output_type": "stream",
     "text": [
      "null(nil) = true\n",
      "null(1) = false\n"
     ]
    }
   ],
   "source": [
    "@show null(nil)\n",
    "@show null(1)\n",
    ";"
   ]
  },
  {
   "cell_type": "code",
   "execution_count": 7,
   "metadata": {},
   "outputs": [
    {
     "name": "stdout",
     "output_type": "stream",
     "text": [
      "eq(nil, nil) = true\n",
      "eq(nil, ()) = true\n",
      "eq((), nil) = true\n",
      "eq(1, 1) = true\n",
      "eq(1, 2) = false\n"
     ]
    }
   ],
   "source": [
    "@show eq(nil, nil)\n",
    "@show eq(nil, ())\n",
    "@show eq((), nil)\n",
    "@show eq(1, 1)\n",
    "@show eq(1, 2)\n",
    ";"
   ]
  },
  {
   "cell_type": "code",
   "execution_count": 8,
   "metadata": {},
   "outputs": [
    {
     "name": "stdout",
     "output_type": "stream",
     "text": [
      "a = cons(2, 1) = 2 => 1\n",
      "b = cons(3, a) = (3, 2 => 1)\n",
      "c = cons(4, b) = (4, 3, 2 => 1)\n",
      "d = cons(5, c) = (5, 4, 3, 2 => 1)\n"
     ]
    }
   ],
   "source": [
    "@show a = cons(2, 1)\n",
    "@show b = cons(3, a)\n",
    "@show c = cons(4, b)\n",
    "@show d = cons(5, c)\n",
    ";"
   ]
  },
  {
   "cell_type": "code",
   "execution_count": 9,
   "metadata": {},
   "outputs": [
    {
     "name": "stdout",
     "output_type": "stream",
     "text": [
      "car(1) = nil\n",
      "car(1 => 2) = 1\n",
      "car((1, 2 => 3)) = 1\n",
      "car((1, 2, 3 => 4)) = 1\n",
      "car((1,)) = 1\n",
      "car((1, 2)) = 1\n",
      "car((1, 2, 3)) = 1\n",
      "car(((1, 2), 3, 4)) = (1, 2)\n"
     ]
    }
   ],
   "source": [
    "@show car(1)\n",
    "@show car(1=>2)\n",
    "@show car((1, 2=>3))\n",
    "@show car((1, 2, 3=>4))\n",
    "@show car((1,))\n",
    "@show car((1, 2))\n",
    "@show car((1, 2, 3))\n",
    "@show car(((1, 2), 3, 4))\n",
    ";"
   ]
  },
  {
   "cell_type": "code",
   "execution_count": 10,
   "metadata": {},
   "outputs": [
    {
     "name": "stdout",
     "output_type": "stream",
     "text": [
      "cdr(1) = nil\n",
      "cdr(1 => 2) = 2\n",
      "cdr((1, 2 => 3)) = 2 => 3\n",
      "cdr((1, 2, 3 => 4)) = (2, 3 => 4)\n",
      "cdr((1,)) = nil\n",
      "cdr((1, 2)) = (2,)\n",
      "cdr((1, 2, 3)) = (2, 3)\n",
      "cdr(((1, 2), 3, 4)) = (3, 4)\n"
     ]
    }
   ],
   "source": [
    "@show cdr(1)\n",
    "@show cdr(1=>2)\n",
    "@show cdr((1, 2=>3))\n",
    "@show cdr((1, 2, 3=>4))\n",
    "@show cdr((1,))\n",
    "@show cdr((1, 2))\n",
    "@show cdr((1, 2, 3))\n",
    "@show cdr(((1, 2), 3, 4))\n",
    ";"
   ]
  },
  {
   "cell_type": "code",
   "execution_count": 11,
   "metadata": {},
   "outputs": [
    {
     "name": "stdout",
     "output_type": "stream",
     "text": [
      "list() = nil\n",
      "list(1) = (1,)\n",
      "list(1, 2) = (1, 2)\n",
      "list(1, 2, 3) = (1, 2, 3)\n",
      "list(1, 2, 3, 4) = (1, 2, 3, 4)\n"
     ]
    }
   ],
   "source": [
    "@show list()\n",
    "@show list(1)\n",
    "@show list(1, 2)\n",
    "@show list(1, 2, 3)\n",
    "@show list(1, 2, 3, 4)\n",
    ";"
   ]
  },
  {
   "cell_type": "markdown",
   "metadata": {},
   "source": [
    "## @leval examples"
   ]
  },
  {
   "cell_type": "code",
   "execution_count": 12,
   "metadata": {},
   "outputs": [
    {
     "name": "stdout",
     "output_type": "stream",
     "text": [
      ":((lambda((x, y), x + y))(1, 2))\n",
      "\n",
      "(:call, \n",
      "    (:call, :lambda, \n",
      "        (:tuple, :x, :y), \n",
      "        (:call, :+, :x, :y)), 1, 2)\n",
      "\n",
      "|\n",
      "V\n",
      "\n",
      ":(let\n",
      "      x = 1\n",
      "      y = 2\n",
      "      x + y\n",
      "  end)\n",
      "\n",
      "(:let, \n",
      "    (:block,), \n",
      "    (:block, \n",
      "        (:(=), :x, 1), \n",
      "        (:(=), :y, 2), \n",
      "        (:call, :+, :x, :y)))\n",
      "\n"
     ]
    },
    {
     "data": {
      "text/plain": [
       "3"
      ]
     },
     "execution_count": 12,
     "metadata": {},
     "output_type": "execute_result"
    }
   ],
   "source": [
    "lexpr = :(lambda((x, y), x+y)(1, 2))\n",
    "show(lexpr); println(\"\\n\")\n",
    "show_texpr(lexpr); println(\"\\n\")\n",
    "\n",
    "println(\"|\\nV\\n\")\n",
    "\n",
    "expr = lexpr2expr(lexpr)\n",
    "show(expr); println(\"\\n\")\n",
    "show_texpr(expr); println(\"\\n\")\n",
    "\n",
    "@leval lambda((x, y), x+y)(1, 2)"
   ]
  },
  {
   "cell_type": "code",
   "execution_count": 13,
   "metadata": {},
   "outputs": [
    {
     "name": "stdout",
     "output_type": "stream",
     "text": [
      ":((lambda((f, x), f(x)))(lambda(x, cond((iszero(x), 1), (true, x * f(x - 1)))), 10))\n",
      "\n",
      "(:call, \n",
      "    (:call, :lambda, \n",
      "        (:tuple, :f, :x), \n",
      "        (:call, :f, :x)), \n",
      "    (:call, :lambda, :x, \n",
      "        (:call, :cond, \n",
      "            (:tuple, \n",
      "                (:call, :iszero, :x), 1), \n",
      "            (:tuple, true, \n",
      "                (:call, :*, :x, \n",
      "                    (:call, :f, \n",
      "                        (:call, :-, :x, 1)))))), 10)\n",
      "\n",
      "|\n",
      "V\n",
      "\n",
      ":(let\n",
      "      f = (x->if iszero(x)\n",
      "                  1\n",
      "              elseif true\n",
      "                  x * f(x - 1)\n",
      "              end)\n",
      "      x = 10\n",
      "      f(x)\n",
      "  end)\n",
      "\n",
      "(:let, \n",
      "    (:block,), \n",
      "    (:block, \n",
      "        (:(=), :f, \n",
      "            (:->, :x, \n",
      "                (:if, \n",
      "                    (:call, :iszero, :x), \n",
      "                    (:block, 1), \n",
      "                    (:elseif, \n",
      "                        (:block, true), \n",
      "                        (:block, \n",
      "                            (:call, :*, :x, \n",
      "                                (:call, :f, \n",
      "                                    (:call, :-, :x, 1)))))))), \n",
      "        (:(=), :x, 10), \n",
      "        (:call, :f, :x)))\n",
      "\n"
     ]
    },
    {
     "data": {
      "text/plain": [
       "3628800"
      ]
     },
     "execution_count": 13,
     "metadata": {},
     "output_type": "execute_result"
    }
   ],
   "source": [
    "lexpr = :(lambda((f, x), f(x))(\n",
    "        lambda(x, cond((iszero(x), 1), (true, x*f(x-1)))),\n",
    "        10))\n",
    "show(lexpr); println(\"\\n\")\n",
    "show_texpr(lexpr); println(\"\\n\")\n",
    "\n",
    "println(\"|\\nV\\n\")\n",
    "\n",
    "expr = lexpr2expr(lexpr)\n",
    "show(expr); println(\"\\n\")\n",
    "show_texpr(expr); println(\"\\n\")\n",
    "\n",
    "@leval lambda((f, x), f(x))(\n",
    "    lambda(x, cond((iszero(x), 1), (true, x*f(x-1)))),\n",
    "    10)"
   ]
  },
  {
   "cell_type": "code",
   "execution_count": 14,
   "metadata": {},
   "outputs": [
    {
     "data": {
      "text/plain": [
       ":(let\n",
       "      assoc = ((k, v)->if eq(v, nil)\n",
       "                  nil\n",
       "              elseif eq(car(car(v)), k)\n",
       "                  car(v)\n",
       "              elseif true\n",
       "                  assoc(k, cdr(v))\n",
       "              end)\n",
       "      k = :Orange\n",
       "      v = (:Apple => 120, :Orange => 210, :Lemmon => 180)\n",
       "      assoc(k, v)\n",
       "  end)"
      ]
     },
     "execution_count": 14,
     "metadata": {},
     "output_type": "execute_result"
    }
   ],
   "source": [
    "@lexpr2expr lambda((assoc, k, v), assoc(k, v))(\n",
    "    lambda((k, v), cond(\n",
    "            (eq(v, nil), nil),\n",
    "            (eq(car(car(v)), k), car(v)), \n",
    "            (true, assoc(k, cdr(v))))),\n",
    "    :Orange,\n",
    "    (:Apple=>120, :Orange=>210, :Lemmon=>180))"
   ]
  },
  {
   "cell_type": "code",
   "execution_count": 15,
   "metadata": {},
   "outputs": [
    {
     "data": {
      "text/plain": [
       ":Apple => 120"
      ]
     },
     "execution_count": 15,
     "metadata": {},
     "output_type": "execute_result"
    }
   ],
   "source": [
    "@leval lambda((assoc, k, v), assoc(k, v))(\n",
    "    lambda((k, v), cond(\n",
    "            (eq(v, nil), nil),\n",
    "            (eq(car(car(v)), k), car(v)), \n",
    "            (true, assoc(k, cdr(v))))),\n",
    "    :Apple,\n",
    "    (:Apple=>120, :Orange=>210, :Lemmon=>180))"
   ]
  },
  {
   "cell_type": "code",
   "execution_count": 16,
   "metadata": {},
   "outputs": [
    {
     "data": {
      "text/plain": [
       ":Orange => 210"
      ]
     },
     "execution_count": 16,
     "metadata": {},
     "output_type": "execute_result"
    }
   ],
   "source": [
    "@leval lambda((assoc, k, v), assoc(k, v))(\n",
    "    lambda((k, v), cond(\n",
    "            (eq(v, nil), nil),\n",
    "            (eq(car(car(v)), k), car(v)), \n",
    "            (true, assoc(k, cdr(v))))),\n",
    "    :Orange,\n",
    "    (:Apple=>120, :Orange=>210, :Lemmon=>180))"
   ]
  },
  {
   "cell_type": "code",
   "execution_count": 17,
   "metadata": {},
   "outputs": [
    {
     "data": {
      "text/plain": [
       "nil"
      ]
     },
     "execution_count": 17,
     "metadata": {},
     "output_type": "execute_result"
    }
   ],
   "source": [
    "@leval lambda((assoc, k, v), assoc(k, v))(\n",
    "    lambda((k, v), cond(\n",
    "            (eq(v, nil), nil),\n",
    "            (eq(car(car(v)), k), car(v)), \n",
    "            (true, assoc(k, cdr(v))))),\n",
    "    :Lemmon,\n",
    "    (:Apple=>120, :Orange=>210, :Lemmon=>180))"
   ]
  },
  {
   "cell_type": "code",
   "execution_count": 18,
   "metadata": {},
   "outputs": [
    {
     "data": {
      "text/plain": [
       "nil"
      ]
     },
     "execution_count": 18,
     "metadata": {},
     "output_type": "execute_result"
    }
   ],
   "source": [
    "@leval lambda((assoc, k, v), assoc(k, v))(\n",
    "    lambda((k, v), cond(\n",
    "            (eq(v, nil), nil),\n",
    "            (eq(car(car(v)), k), car(v)), \n",
    "            (true, assoc(k, cdr(v))))),\n",
    "    :Melon,\n",
    "    (:Apple=>120, :Orange=>210, :Lemmon=>180))"
   ]
  },
  {
   "cell_type": "code",
   "execution_count": 19,
   "metadata": {},
   "outputs": [
    {
     "data": {
      "text/plain": [
       "texpr_exmaple4 (generic function with 1 method)"
      ]
     },
     "execution_count": 19,
     "metadata": {},
     "output_type": "execute_result"
    }
   ],
   "source": [
    "texpr_exmaple4(x) = (:call, \n",
    "    (:lambda, (:tuple, :assoc, :k, :v), (:call, :assoc, :k, :v)), \n",
    "    (:lambda, (:tuple, :k, :v), (:cond, \n",
    "            (:tuple, (:eq, :v, :nil), :nil), \n",
    "            (:tuple, (:eq, (:car, (:car, :v)), :k), (:car, :v)), \n",
    "            (:tuple, true, (:call, :assoc, :k, (:cdr, :v))))), \n",
    "    QuoteNode(x), \n",
    "    :((:Apple=>120, :Orange=>210, :Lemmon=>180)))"
   ]
  },
  {
   "cell_type": "code",
   "execution_count": 20,
   "metadata": {},
   "outputs": [
    {
     "data": {
      "text/plain": [
       ":Apple => 120"
      ]
     },
     "execution_count": 20,
     "metadata": {},
     "output_type": "execute_result"
    }
   ],
   "source": [
    "texpr_exmaple4(:Apple) |> texpr2expr |> leval"
   ]
  },
  {
   "cell_type": "code",
   "execution_count": 21,
   "metadata": {},
   "outputs": [
    {
     "data": {
      "text/plain": [
       ":Orange => 210"
      ]
     },
     "execution_count": 21,
     "metadata": {},
     "output_type": "execute_result"
    }
   ],
   "source": [
    "texpr_exmaple4(:Orange) |> texpr2expr |> leval"
   ]
  },
  {
   "cell_type": "code",
   "execution_count": 22,
   "metadata": {},
   "outputs": [
    {
     "data": {
      "text/plain": [
       "nil"
      ]
     },
     "execution_count": 22,
     "metadata": {},
     "output_type": "execute_result"
    }
   ],
   "source": [
    "texpr_exmaple4(:Lemmon) |> texpr2expr |> leval"
   ]
  },
  {
   "cell_type": "code",
   "execution_count": 23,
   "metadata": {},
   "outputs": [
    {
     "data": {
      "text/plain": [
       "nil"
      ]
     },
     "execution_count": 23,
     "metadata": {},
     "output_type": "execute_result"
    }
   ],
   "source": [
    "texpr_exmaple4(:Melon) |> texpr2expr |> leval"
   ]
  },
  {
   "cell_type": "markdown",
   "metadata": {},
   "source": [
    "## MetaUtils.@teval plot exmaple"
   ]
  },
  {
   "cell_type": "code",
   "execution_count": 24,
   "metadata": {},
   "outputs": [
    {
     "data": {
      "image/svg+xml": [
       "<?xml version=\"1.0\" encoding=\"utf-8\"?>\n",
       "<svg xmlns=\"http://www.w3.org/2000/svg\" xmlns:xlink=\"http://www.w3.org/1999/xlink\" width=\"600\" height=\"400\" viewBox=\"0 0 2400 1600\">\n",
       "<defs>\n",
       "  <clipPath id=\"clip720\">\n",
       "    <rect x=\"0\" y=\"0\" width=\"2400\" height=\"1600\"/>\n",
       "  </clipPath>\n",
       "</defs>\n",
       "<path clip-path=\"url(#clip720)\" d=\"\n",
       "M0 1600 L2400 1600 L2400 0 L0 0  Z\n",
       "  \" fill=\"#ffffff\" fill-rule=\"evenodd\" fill-opacity=\"1\"/>\n",
       "<defs>\n",
       "  <clipPath id=\"clip721\">\n",
       "    <rect x=\"480\" y=\"0\" width=\"1681\" height=\"1600\"/>\n",
       "  </clipPath>\n",
       "</defs>\n",
       "<path clip-path=\"url(#clip720)\" d=\"\n",
       "M179.654 1486.45 L2352.76 1486.45 L2352.76 47.2441 L179.654 47.2441  Z\n",
       "  \" fill=\"#ffffff\" fill-rule=\"evenodd\" fill-opacity=\"1\"/>\n",
       "<defs>\n",
       "  <clipPath id=\"clip722\">\n",
       "    <rect x=\"179\" y=\"47\" width=\"2174\" height=\"1440\"/>\n",
       "  </clipPath>\n",
       "</defs>\n",
       "<polyline clip-path=\"url(#clip722)\" style=\"stroke:#000000; stroke-width:2; stroke-opacity:0.1; fill:none\" points=\"\n",
       "  287.356,1486.45 287.356,47.2441 \n",
       "  \"/>\n",
       "<polyline clip-path=\"url(#clip722)\" style=\"stroke:#000000; stroke-width:2; stroke-opacity:0.1; fill:none\" points=\"\n",
       "  613.639,1486.45 613.639,47.2441 \n",
       "  \"/>\n",
       "<polyline clip-path=\"url(#clip722)\" style=\"stroke:#000000; stroke-width:2; stroke-opacity:0.1; fill:none\" points=\"\n",
       "  939.922,1486.45 939.922,47.2441 \n",
       "  \"/>\n",
       "<polyline clip-path=\"url(#clip722)\" style=\"stroke:#000000; stroke-width:2; stroke-opacity:0.1; fill:none\" points=\"\n",
       "  1266.2,1486.45 1266.2,47.2441 \n",
       "  \"/>\n",
       "<polyline clip-path=\"url(#clip722)\" style=\"stroke:#000000; stroke-width:2; stroke-opacity:0.1; fill:none\" points=\"\n",
       "  1592.49,1486.45 1592.49,47.2441 \n",
       "  \"/>\n",
       "<polyline clip-path=\"url(#clip722)\" style=\"stroke:#000000; stroke-width:2; stroke-opacity:0.1; fill:none\" points=\"\n",
       "  1918.77,1486.45 1918.77,47.2441 \n",
       "  \"/>\n",
       "<polyline clip-path=\"url(#clip722)\" style=\"stroke:#000000; stroke-width:2; stroke-opacity:0.1; fill:none\" points=\"\n",
       "  2245.05,1486.45 2245.05,47.2441 \n",
       "  \"/>\n",
       "<polyline clip-path=\"url(#clip720)\" style=\"stroke:#000000; stroke-width:4; stroke-opacity:1; fill:none\" points=\"\n",
       "  179.654,1486.45 2352.76,1486.45 \n",
       "  \"/>\n",
       "<polyline clip-path=\"url(#clip720)\" style=\"stroke:#000000; stroke-width:4; stroke-opacity:1; fill:none\" points=\"\n",
       "  287.356,1486.45 287.356,1469.18 \n",
       "  \"/>\n",
       "<polyline clip-path=\"url(#clip720)\" style=\"stroke:#000000; stroke-width:4; stroke-opacity:1; fill:none\" points=\"\n",
       "  613.639,1486.45 613.639,1469.18 \n",
       "  \"/>\n",
       "<polyline clip-path=\"url(#clip720)\" style=\"stroke:#000000; stroke-width:4; stroke-opacity:1; fill:none\" points=\"\n",
       "  939.922,1486.45 939.922,1469.18 \n",
       "  \"/>\n",
       "<polyline clip-path=\"url(#clip720)\" style=\"stroke:#000000; stroke-width:4; stroke-opacity:1; fill:none\" points=\"\n",
       "  1266.2,1486.45 1266.2,1469.18 \n",
       "  \"/>\n",
       "<polyline clip-path=\"url(#clip720)\" style=\"stroke:#000000; stroke-width:4; stroke-opacity:1; fill:none\" points=\"\n",
       "  1592.49,1486.45 1592.49,1469.18 \n",
       "  \"/>\n",
       "<polyline clip-path=\"url(#clip720)\" style=\"stroke:#000000; stroke-width:4; stroke-opacity:1; fill:none\" points=\"\n",
       "  1918.77,1486.45 1918.77,1469.18 \n",
       "  \"/>\n",
       "<polyline clip-path=\"url(#clip720)\" style=\"stroke:#000000; stroke-width:4; stroke-opacity:1; fill:none\" points=\"\n",
       "  2245.05,1486.45 2245.05,1469.18 \n",
       "  \"/>\n",
       "<path clip-path=\"url(#clip720)\" d=\"M 0 0 M259.335 1530.29 L289.011 1530.29 L289.011 1534.23 L259.335 1534.23 L259.335 1530.29 Z\" fill=\"#000000\" fill-rule=\"evenodd\" fill-opacity=\"1\" /><path clip-path=\"url(#clip720)\" d=\"M 0 0 M308.247 1528.49 Q311.603 1529.2 313.478 1531.47 Q315.377 1533.74 315.377 1537.07 Q315.377 1542.19 311.858 1544.99 Q308.34 1547.79 301.858 1547.79 Q299.682 1547.79 297.367 1547.35 Q295.076 1546.93 292.622 1546.08 L292.622 1541.56 Q294.566 1542.7 296.881 1543.28 Q299.196 1543.86 301.719 1543.86 Q306.117 1543.86 308.409 1542.12 Q310.724 1540.38 310.724 1537.07 Q310.724 1534.02 308.571 1532.31 Q306.441 1530.57 302.622 1530.57 L298.594 1530.57 L298.594 1526.73 L302.807 1526.73 Q306.256 1526.73 308.085 1525.36 Q309.914 1523.97 309.914 1521.38 Q309.914 1518.72 308.015 1517.31 Q306.14 1515.87 302.622 1515.87 Q300.701 1515.87 298.502 1516.29 Q296.303 1516.7 293.664 1517.58 L293.664 1513.42 Q296.326 1512.68 298.64 1512.31 Q300.978 1511.93 303.039 1511.93 Q308.363 1511.93 311.465 1514.37 Q314.566 1516.77 314.566 1520.89 Q314.566 1523.76 312.923 1525.75 Q311.279 1527.72 308.247 1528.49 Z\" fill=\"#000000\" fill-rule=\"evenodd\" fill-opacity=\"1\" /><path clip-path=\"url(#clip720)\" d=\"M 0 0 M586.093 1530.29 L615.768 1530.29 L615.768 1534.23 L586.093 1534.23 L586.093 1530.29 Z\" fill=\"#000000\" fill-rule=\"evenodd\" fill-opacity=\"1\" /><path clip-path=\"url(#clip720)\" d=\"M 0 0 M624.866 1543.18 L641.185 1543.18 L641.185 1547.12 L619.241 1547.12 L619.241 1543.18 Q621.903 1540.43 626.486 1535.8 Q631.092 1531.15 632.273 1529.81 Q634.518 1527.28 635.398 1525.55 Q636.301 1523.79 636.301 1522.1 Q636.301 1519.34 634.356 1517.61 Q632.435 1515.87 629.333 1515.87 Q627.134 1515.87 624.68 1516.63 Q622.25 1517.4 619.472 1518.95 L619.472 1514.23 Q622.296 1513.09 624.75 1512.51 Q627.204 1511.93 629.241 1511.93 Q634.611 1511.93 637.805 1514.62 Q641 1517.31 641 1521.8 Q641 1523.93 640.19 1525.85 Q639.403 1527.74 637.296 1530.34 Q636.717 1531.01 633.616 1534.23 Q630.514 1537.42 624.866 1543.18 Z\" fill=\"#000000\" fill-rule=\"evenodd\" fill-opacity=\"1\" /><path clip-path=\"url(#clip720)\" d=\"M 0 0 M912.19 1530.29 L941.866 1530.29 L941.866 1534.23 L912.19 1534.23 L912.19 1530.29 Z\" fill=\"#000000\" fill-rule=\"evenodd\" fill-opacity=\"1\" /><path clip-path=\"url(#clip720)\" d=\"M 0 0 M947.746 1543.18 L955.385 1543.18 L955.385 1516.82 L947.075 1518.49 L947.075 1514.23 L955.338 1512.56 L960.014 1512.56 L960.014 1543.18 L967.653 1543.18 L967.653 1547.12 L947.746 1547.12 L947.746 1543.18 Z\" fill=\"#000000\" fill-rule=\"evenodd\" fill-opacity=\"1\" /><path clip-path=\"url(#clip720)\" d=\"M 0 0 M1266.2 1515.64 Q1262.59 1515.64 1260.77 1519.2 Q1258.96 1522.75 1258.96 1529.87 Q1258.96 1536.98 1260.77 1540.55 Q1262.59 1544.09 1266.2 1544.09 Q1269.84 1544.09 1271.64 1540.55 Q1273.47 1536.98 1273.47 1529.87 Q1273.47 1522.75 1271.64 1519.2 Q1269.84 1515.64 1266.2 1515.64 M1266.2 1511.93 Q1272.01 1511.93 1275.07 1516.54 Q1278.15 1521.12 1278.15 1529.87 Q1278.15 1538.6 1275.07 1543.21 Q1272.01 1547.79 1266.2 1547.79 Q1260.39 1547.79 1257.32 1543.21 Q1254.26 1538.6 1254.26 1529.87 Q1254.26 1521.12 1257.32 1516.54 Q1260.39 1511.93 1266.2 1511.93 Z\" fill=\"#000000\" fill-rule=\"evenodd\" fill-opacity=\"1\" /><path clip-path=\"url(#clip720)\" d=\"M 0 0 M1582.87 1543.18 L1590.51 1543.18 L1590.51 1516.82 L1582.2 1518.49 L1582.2 1514.23 L1590.46 1512.56 L1595.14 1512.56 L1595.14 1543.18 L1602.78 1543.18 L1602.78 1547.12 L1582.87 1547.12 L1582.87 1543.18 Z\" fill=\"#000000\" fill-rule=\"evenodd\" fill-opacity=\"1\" /><path clip-path=\"url(#clip720)\" d=\"M 0 0 M1913.42 1543.18 L1929.74 1543.18 L1929.74 1547.12 L1907.8 1547.12 L1907.8 1543.18 Q1910.46 1540.43 1915.04 1535.8 Q1919.65 1531.15 1920.83 1529.81 Q1923.08 1527.28 1923.96 1525.55 Q1924.86 1523.79 1924.86 1522.1 Q1924.86 1519.34 1922.91 1517.61 Q1920.99 1515.87 1917.89 1515.87 Q1915.69 1515.87 1913.24 1516.63 Q1910.81 1517.4 1908.03 1518.95 L1908.03 1514.23 Q1910.85 1513.09 1913.31 1512.51 Q1915.76 1511.93 1917.8 1511.93 Q1923.17 1511.93 1926.36 1514.62 Q1929.56 1517.31 1929.56 1521.8 Q1929.56 1523.93 1928.75 1525.85 Q1927.96 1527.74 1925.85 1530.34 Q1925.28 1531.01 1922.17 1534.23 Q1919.07 1537.42 1913.42 1543.18 Z\" fill=\"#000000\" fill-rule=\"evenodd\" fill-opacity=\"1\" /><path clip-path=\"url(#clip720)\" d=\"M 0 0 M2249.3 1528.49 Q2252.66 1529.2 2254.53 1531.47 Q2256.43 1533.74 2256.43 1537.07 Q2256.43 1542.19 2252.91 1544.99 Q2249.39 1547.79 2242.91 1547.79 Q2240.74 1547.79 2238.42 1547.35 Q2236.13 1546.93 2233.68 1546.08 L2233.68 1541.56 Q2235.62 1542.7 2237.94 1543.28 Q2240.25 1543.86 2242.77 1543.86 Q2247.17 1543.86 2249.46 1542.12 Q2251.78 1540.38 2251.78 1537.07 Q2251.78 1534.02 2249.63 1532.31 Q2247.5 1530.57 2243.68 1530.57 L2239.65 1530.57 L2239.65 1526.73 L2243.86 1526.73 Q2247.31 1526.73 2249.14 1525.36 Q2250.97 1523.97 2250.97 1521.38 Q2250.97 1518.72 2249.07 1517.31 Q2247.19 1515.87 2243.68 1515.87 Q2241.76 1515.87 2239.56 1516.29 Q2237.36 1516.7 2234.72 1517.58 L2234.72 1513.42 Q2237.38 1512.68 2239.69 1512.31 Q2242.03 1511.93 2244.09 1511.93 Q2249.42 1511.93 2252.52 1514.37 Q2255.62 1516.77 2255.62 1520.89 Q2255.62 1523.76 2253.98 1525.75 Q2252.33 1527.72 2249.3 1528.49 Z\" fill=\"#000000\" fill-rule=\"evenodd\" fill-opacity=\"1\" /><polyline clip-path=\"url(#clip722)\" style=\"stroke:#000000; stroke-width:2; stroke-opacity:0.1; fill:none\" points=\"\n",
       "  179.654,1258.95 2352.76,1258.95 \n",
       "  \"/>\n",
       "<polyline clip-path=\"url(#clip722)\" style=\"stroke:#000000; stroke-width:2; stroke-opacity:0.1; fill:none\" points=\"\n",
       "  179.654,1004.66 2352.76,1004.66 \n",
       "  \"/>\n",
       "<polyline clip-path=\"url(#clip722)\" style=\"stroke:#000000; stroke-width:2; stroke-opacity:0.1; fill:none\" points=\"\n",
       "  179.654,750.364 2352.76,750.364 \n",
       "  \"/>\n",
       "<polyline clip-path=\"url(#clip722)\" style=\"stroke:#000000; stroke-width:2; stroke-opacity:0.1; fill:none\" points=\"\n",
       "  179.654,496.068 2352.76,496.068 \n",
       "  \"/>\n",
       "<polyline clip-path=\"url(#clip722)\" style=\"stroke:#000000; stroke-width:2; stroke-opacity:0.1; fill:none\" points=\"\n",
       "  179.654,241.773 2352.76,241.773 \n",
       "  \"/>\n",
       "<polyline clip-path=\"url(#clip720)\" style=\"stroke:#000000; stroke-width:4; stroke-opacity:1; fill:none\" points=\"\n",
       "  179.654,1486.45 179.654,47.2441 \n",
       "  \"/>\n",
       "<polyline clip-path=\"url(#clip720)\" style=\"stroke:#000000; stroke-width:4; stroke-opacity:1; fill:none\" points=\"\n",
       "  179.654,1258.95 205.731,1258.95 \n",
       "  \"/>\n",
       "<polyline clip-path=\"url(#clip720)\" style=\"stroke:#000000; stroke-width:4; stroke-opacity:1; fill:none\" points=\"\n",
       "  179.654,1004.66 205.731,1004.66 \n",
       "  \"/>\n",
       "<polyline clip-path=\"url(#clip720)\" style=\"stroke:#000000; stroke-width:4; stroke-opacity:1; fill:none\" points=\"\n",
       "  179.654,750.364 205.731,750.364 \n",
       "  \"/>\n",
       "<polyline clip-path=\"url(#clip720)\" style=\"stroke:#000000; stroke-width:4; stroke-opacity:1; fill:none\" points=\"\n",
       "  179.654,496.068 205.731,496.068 \n",
       "  \"/>\n",
       "<polyline clip-path=\"url(#clip720)\" style=\"stroke:#000000; stroke-width:4; stroke-opacity:1; fill:none\" points=\"\n",
       "  179.654,241.773 205.731,241.773 \n",
       "  \"/>\n",
       "<path clip-path=\"url(#clip720)\" d=\"M 0 0 M51.2236 1259.41 L80.8994 1259.41 L80.8994 1263.34 L51.2236 1263.34 L51.2236 1259.41 Z\" fill=\"#000000\" fill-rule=\"evenodd\" fill-opacity=\"1\" /><path clip-path=\"url(#clip720)\" d=\"M 0 0 M86.779 1272.3 L94.4178 1272.3 L94.4178 1245.93 L86.1077 1247.6 L86.1077 1243.34 L94.3715 1241.67 L99.0474 1241.67 L99.0474 1272.3 L106.686 1272.3 L106.686 1276.23 L86.779 1276.23 L86.779 1272.3 Z\" fill=\"#000000\" fill-rule=\"evenodd\" fill-opacity=\"1\" /><path clip-path=\"url(#clip720)\" d=\"M 0 0 M111.756 1270.36 L116.64 1270.36 L116.64 1276.23 L111.756 1276.23 L111.756 1270.36 Z\" fill=\"#000000\" fill-rule=\"evenodd\" fill-opacity=\"1\" /><path clip-path=\"url(#clip720)\" d=\"M 0 0 M131.709 1244.75 Q128.098 1244.75 126.27 1248.32 Q124.464 1251.86 124.464 1258.99 Q124.464 1266.1 126.27 1269.66 Q128.098 1273.2 131.709 1273.2 Q135.344 1273.2 137.149 1269.66 Q138.978 1266.1 138.978 1258.99 Q138.978 1251.86 137.149 1248.32 Q135.344 1244.75 131.709 1244.75 M131.709 1241.05 Q137.519 1241.05 140.575 1245.66 Q143.654 1250.24 143.654 1258.99 Q143.654 1267.72 140.575 1272.32 Q137.519 1276.91 131.709 1276.91 Q125.899 1276.91 122.82 1272.32 Q119.765 1267.72 119.765 1258.99 Q119.765 1250.24 122.82 1245.66 Q125.899 1241.05 131.709 1241.05 Z\" fill=\"#000000\" fill-rule=\"evenodd\" fill-opacity=\"1\" /><path clip-path=\"url(#clip720)\" d=\"M 0 0 M50.9921 1005.11 L80.6679 1005.11 L80.6679 1009.05 L50.9921 1009.05 L50.9921 1005.11 Z\" fill=\"#000000\" fill-rule=\"evenodd\" fill-opacity=\"1\" /><path clip-path=\"url(#clip720)\" d=\"M 0 0 M95.7373 990.458 Q92.1262 990.458 90.2975 994.023 Q88.4919 997.564 88.4919 1004.69 Q88.4919 1011.8 90.2975 1015.37 Q92.1262 1018.91 95.7373 1018.91 Q99.3715 1018.91 101.177 1015.37 Q103.006 1011.8 103.006 1004.69 Q103.006 997.564 101.177 994.023 Q99.3715 990.458 95.7373 990.458 M95.7373 986.754 Q101.547 986.754 104.603 991.361 Q107.682 995.944 107.682 1004.69 Q107.682 1013.42 104.603 1018.03 Q101.547 1022.61 95.7373 1022.61 Q89.9271 1022.61 86.8484 1018.03 Q83.7929 1013.42 83.7929 1004.69 Q83.7929 995.944 86.8484 991.361 Q89.9271 986.754 95.7373 986.754 Z\" fill=\"#000000\" fill-rule=\"evenodd\" fill-opacity=\"1\" /><path clip-path=\"url(#clip720)\" d=\"M 0 0 M112.751 1016.06 L117.635 1016.06 L117.635 1021.94 L112.751 1021.94 L112.751 1016.06 Z\" fill=\"#000000\" fill-rule=\"evenodd\" fill-opacity=\"1\" /><path clip-path=\"url(#clip720)\" d=\"M 0 0 M122.751 987.379 L141.107 987.379 L141.107 991.314 L127.033 991.314 L127.033 999.787 Q128.052 999.439 129.07 999.277 Q130.089 999.092 131.107 999.092 Q136.894 999.092 140.274 1002.26 Q143.654 1005.43 143.654 1010.85 Q143.654 1016.43 140.181 1019.53 Q136.709 1022.61 130.39 1022.61 Q128.214 1022.61 125.945 1022.24 Q123.7 1021.87 121.293 1021.13 L121.293 1016.43 Q123.376 1017.56 125.598 1018.12 Q127.82 1018.68 130.297 1018.68 Q134.302 1018.68 136.64 1016.57 Q138.978 1014.46 138.978 1010.85 Q138.978 1007.24 136.64 1005.13 Q134.302 1003.03 130.297 1003.03 Q128.422 1003.03 126.547 1003.44 Q124.695 1003.86 122.751 1004.74 L122.751 987.379 Z\" fill=\"#000000\" fill-rule=\"evenodd\" fill-opacity=\"1\" /><path clip-path=\"url(#clip720)\" d=\"M 0 0 M94.7419 736.162 Q91.1308 736.162 89.3021 739.727 Q87.4966 743.269 87.4966 750.399 Q87.4966 757.505 89.3021 761.07 Q91.1308 764.611 94.7419 764.611 Q98.3761 764.611 100.182 761.07 Q102.01 757.505 102.01 750.399 Q102.01 743.269 100.182 739.727 Q98.3761 736.162 94.7419 736.162 M94.7419 732.459 Q100.552 732.459 103.608 737.065 Q106.686 741.649 106.686 750.399 Q106.686 759.125 103.608 763.732 Q100.552 768.315 94.7419 768.315 Q88.9317 768.315 85.8531 763.732 Q82.7975 759.125 82.7975 750.399 Q82.7975 741.649 85.8531 737.065 Q88.9317 732.459 94.7419 732.459 Z\" fill=\"#000000\" fill-rule=\"evenodd\" fill-opacity=\"1\" /><path clip-path=\"url(#clip720)\" d=\"M 0 0 M111.756 761.764 L116.64 761.764 L116.64 767.644 L111.756 767.644 L111.756 761.764 Z\" fill=\"#000000\" fill-rule=\"evenodd\" fill-opacity=\"1\" /><path clip-path=\"url(#clip720)\" d=\"M 0 0 M131.709 736.162 Q128.098 736.162 126.27 739.727 Q124.464 743.269 124.464 750.399 Q124.464 757.505 126.27 761.07 Q128.098 764.611 131.709 764.611 Q135.344 764.611 137.149 761.07 Q138.978 757.505 138.978 750.399 Q138.978 743.269 137.149 739.727 Q135.344 736.162 131.709 736.162 M131.709 732.459 Q137.519 732.459 140.575 737.065 Q143.654 741.649 143.654 750.399 Q143.654 759.125 140.575 763.732 Q137.519 768.315 131.709 768.315 Q125.899 768.315 122.82 763.732 Q119.765 759.125 119.765 750.399 Q119.765 741.649 122.82 737.065 Q125.899 732.459 131.709 732.459 Z\" fill=\"#000000\" fill-rule=\"evenodd\" fill-opacity=\"1\" /><path clip-path=\"url(#clip720)\" d=\"M 0 0 M95.7373 481.867 Q92.1262 481.867 90.2975 485.432 Q88.4919 488.973 88.4919 496.103 Q88.4919 503.209 90.2975 506.774 Q92.1262 510.316 95.7373 510.316 Q99.3715 510.316 101.177 506.774 Q103.006 503.209 103.006 496.103 Q103.006 488.973 101.177 485.432 Q99.3715 481.867 95.7373 481.867 M95.7373 478.163 Q101.547 478.163 104.603 482.77 Q107.682 487.353 107.682 496.103 Q107.682 504.83 104.603 509.436 Q101.547 514.02 95.7373 514.02 Q89.9271 514.02 86.8484 509.436 Q83.7929 504.83 83.7929 496.103 Q83.7929 487.353 86.8484 482.77 Q89.9271 478.163 95.7373 478.163 Z\" fill=\"#000000\" fill-rule=\"evenodd\" fill-opacity=\"1\" /><path clip-path=\"url(#clip720)\" d=\"M 0 0 M112.751 507.469 L117.635 507.469 L117.635 513.348 L112.751 513.348 L112.751 507.469 Z\" fill=\"#000000\" fill-rule=\"evenodd\" fill-opacity=\"1\" /><path clip-path=\"url(#clip720)\" d=\"M 0 0 M122.751 478.788 L141.107 478.788 L141.107 482.723 L127.033 482.723 L127.033 491.196 Q128.052 490.848 129.07 490.686 Q130.089 490.501 131.107 490.501 Q136.894 490.501 140.274 493.672 Q143.654 496.844 143.654 502.26 Q143.654 507.839 140.181 510.941 Q136.709 514.02 130.39 514.02 Q128.214 514.02 125.945 513.649 Q123.7 513.279 121.293 512.538 L121.293 507.839 Q123.376 508.973 125.598 509.529 Q127.82 510.084 130.297 510.084 Q134.302 510.084 136.64 507.978 Q138.978 505.871 138.978 502.26 Q138.978 498.649 136.64 496.543 Q134.302 494.436 130.297 494.436 Q128.422 494.436 126.547 494.853 Q124.695 495.27 122.751 496.149 L122.751 478.788 Z\" fill=\"#000000\" fill-rule=\"evenodd\" fill-opacity=\"1\" /><path clip-path=\"url(#clip720)\" d=\"M 0 0 M86.779 255.118 L94.4178 255.118 L94.4178 228.752 L86.1077 230.419 L86.1077 226.159 L94.3715 224.493 L99.0474 224.493 L99.0474 255.118 L106.686 255.118 L106.686 259.053 L86.779 259.053 L86.779 255.118 Z\" fill=\"#000000\" fill-rule=\"evenodd\" fill-opacity=\"1\" /><path clip-path=\"url(#clip720)\" d=\"M 0 0 M111.756 253.173 L116.64 253.173 L116.64 259.053 L111.756 259.053 L111.756 253.173 Z\" fill=\"#000000\" fill-rule=\"evenodd\" fill-opacity=\"1\" /><path clip-path=\"url(#clip720)\" d=\"M 0 0 M131.709 227.571 Q128.098 227.571 126.27 231.136 Q124.464 234.678 124.464 241.807 Q124.464 248.914 126.27 252.479 Q128.098 256.02 131.709 256.02 Q135.344 256.02 137.149 252.479 Q138.978 248.914 138.978 241.807 Q138.978 234.678 137.149 231.136 Q135.344 227.571 131.709 227.571 M131.709 223.868 Q137.519 223.868 140.575 228.474 Q143.654 233.058 143.654 241.807 Q143.654 250.534 140.575 255.141 Q137.519 259.724 131.709 259.724 Q125.899 259.724 122.82 255.141 Q119.765 250.534 119.765 241.807 Q119.765 233.058 122.82 228.474 Q125.899 223.868 131.709 223.868 Z\" fill=\"#000000\" fill-rule=\"evenodd\" fill-opacity=\"1\" /><circle clip-path=\"url(#clip722)\" cx=\"241.157\" cy=\"976.322\" r=\"14\" fill=\"#009af9\" fill-rule=\"evenodd\" fill-opacity=\"1\" stroke=\"#000000\" stroke-opacity=\"1\" stroke-width=\"3.2\"/>\n",
       "<circle clip-path=\"url(#clip722)\" cx=\"349.056\" cy=\"927.733\" r=\"14\" fill=\"#009af9\" fill-rule=\"evenodd\" fill-opacity=\"1\" stroke=\"#000000\" stroke-opacity=\"1\" stroke-width=\"3.2\"/>\n",
       "<circle clip-path=\"url(#clip722)\" cx=\"456.956\" cy=\"1201.89\" r=\"14\" fill=\"#009af9\" fill-rule=\"evenodd\" fill-opacity=\"1\" stroke=\"#000000\" stroke-opacity=\"1\" stroke-width=\"3.2\"/>\n",
       "<circle clip-path=\"url(#clip722)\" cx=\"564.856\" cy=\"1310.92\" r=\"14\" fill=\"#009af9\" fill-rule=\"evenodd\" fill-opacity=\"1\" stroke=\"#000000\" stroke-opacity=\"1\" stroke-width=\"3.2\"/>\n",
       "<circle clip-path=\"url(#clip722)\" cx=\"672.756\" cy=\"1055.56\" r=\"14\" fill=\"#009af9\" fill-rule=\"evenodd\" fill-opacity=\"1\" stroke=\"#000000\" stroke-opacity=\"1\" stroke-width=\"3.2\"/>\n",
       "<circle clip-path=\"url(#clip722)\" cx=\"780.656\" cy=\"1104.51\" r=\"14\" fill=\"#009af9\" fill-rule=\"evenodd\" fill-opacity=\"1\" stroke=\"#000000\" stroke-opacity=\"1\" stroke-width=\"3.2\"/>\n",
       "<circle clip-path=\"url(#clip722)\" cx=\"888.555\" cy=\"1445.72\" r=\"14\" fill=\"#009af9\" fill-rule=\"evenodd\" fill-opacity=\"1\" stroke=\"#000000\" stroke-opacity=\"1\" stroke-width=\"3.2\"/>\n",
       "<circle clip-path=\"url(#clip722)\" cx=\"996.455\" cy=\"747.317\" r=\"14\" fill=\"#009af9\" fill-rule=\"evenodd\" fill-opacity=\"1\" stroke=\"#000000\" stroke-opacity=\"1\" stroke-width=\"3.2\"/>\n",
       "<circle clip-path=\"url(#clip722)\" cx=\"1104.36\" cy=\"1044.28\" r=\"14\" fill=\"#009af9\" fill-rule=\"evenodd\" fill-opacity=\"1\" stroke=\"#000000\" stroke-opacity=\"1\" stroke-width=\"3.2\"/>\n",
       "<circle clip-path=\"url(#clip722)\" cx=\"1212.25\" cy=\"792.971\" r=\"14\" fill=\"#009af9\" fill-rule=\"evenodd\" fill-opacity=\"1\" stroke=\"#000000\" stroke-opacity=\"1\" stroke-width=\"3.2\"/>\n",
       "<circle clip-path=\"url(#clip722)\" cx=\"1320.15\" cy=\"657.435\" r=\"14\" fill=\"#009af9\" fill-rule=\"evenodd\" fill-opacity=\"1\" stroke=\"#000000\" stroke-opacity=\"1\" stroke-width=\"3.2\"/>\n",
       "<circle clip-path=\"url(#clip722)\" cx=\"1428.05\" cy=\"693.781\" r=\"14\" fill=\"#009af9\" fill-rule=\"evenodd\" fill-opacity=\"1\" stroke=\"#000000\" stroke-opacity=\"1\" stroke-width=\"3.2\"/>\n",
       "<circle clip-path=\"url(#clip722)\" cx=\"1535.95\" cy=\"162.843\" r=\"14\" fill=\"#009af9\" fill-rule=\"evenodd\" fill-opacity=\"1\" stroke=\"#000000\" stroke-opacity=\"1\" stroke-width=\"3.2\"/>\n",
       "<circle clip-path=\"url(#clip722)\" cx=\"1643.85\" cy=\"209.448\" r=\"14\" fill=\"#009af9\" fill-rule=\"evenodd\" fill-opacity=\"1\" stroke=\"#000000\" stroke-opacity=\"1\" stroke-width=\"3.2\"/>\n",
       "<circle clip-path=\"url(#clip722)\" cx=\"1751.75\" cy=\"306.556\" r=\"14\" fill=\"#009af9\" fill-rule=\"evenodd\" fill-opacity=\"1\" stroke=\"#000000\" stroke-opacity=\"1\" stroke-width=\"3.2\"/>\n",
       "<circle clip-path=\"url(#clip722)\" cx=\"1859.65\" cy=\"128.975\" r=\"14\" fill=\"#009af9\" fill-rule=\"evenodd\" fill-opacity=\"1\" stroke=\"#000000\" stroke-opacity=\"1\" stroke-width=\"3.2\"/>\n",
       "<circle clip-path=\"url(#clip722)\" cx=\"1967.55\" cy=\"312.261\" r=\"14\" fill=\"#009af9\" fill-rule=\"evenodd\" fill-opacity=\"1\" stroke=\"#000000\" stroke-opacity=\"1\" stroke-width=\"3.2\"/>\n",
       "<circle clip-path=\"url(#clip722)\" cx=\"2075.45\" cy=\"87.9763\" r=\"14\" fill=\"#009af9\" fill-rule=\"evenodd\" fill-opacity=\"1\" stroke=\"#000000\" stroke-opacity=\"1\" stroke-width=\"3.2\"/>\n",
       "<circle clip-path=\"url(#clip722)\" cx=\"2183.35\" cy=\"475.259\" r=\"14\" fill=\"#009af9\" fill-rule=\"evenodd\" fill-opacity=\"1\" stroke=\"#000000\" stroke-opacity=\"1\" stroke-width=\"3.2\"/>\n",
       "<circle clip-path=\"url(#clip722)\" cx=\"2291.25\" cy=\"928.616\" r=\"14\" fill=\"#009af9\" fill-rule=\"evenodd\" fill-opacity=\"1\" stroke=\"#000000\" stroke-opacity=\"1\" stroke-width=\"3.2\"/>\n",
       "<polyline clip-path=\"url(#clip722)\" style=\"stroke:#0000ff; stroke-width:4; stroke-opacity:1; fill:none\" stroke-dasharray=\"16, 10\" points=\"\n",
       "  241.157,750.364 246.295,758.372 251.433,766.379 256.571,774.382 261.709,782.378 266.847,790.367 271.985,798.346 277.123,806.313 282.261,814.266 287.399,822.203 \n",
       "  292.537,830.123 297.676,838.022 302.814,845.9 307.952,853.754 313.09,861.583 318.228,869.384 323.366,877.156 328.504,884.896 333.642,892.602 338.78,900.274 \n",
       "  343.918,907.908 349.056,915.503 354.194,923.057 359.333,930.569 364.471,938.035 369.609,945.456 374.747,952.827 379.885,960.149 385.023,967.418 390.161,974.634 \n",
       "  395.299,981.794 400.437,988.897 405.575,995.941 410.713,1002.92 415.851,1009.84 420.99,1016.7 426.128,1023.49 431.266,1030.21 436.404,1036.86 441.542,1043.44 \n",
       "  446.68,1049.95 451.818,1056.39 456.956,1062.75 462.094,1069.03 467.232,1075.23 472.37,1081.35 477.509,1087.39 482.647,1093.35 487.785,1099.22 492.923,1105 \n",
       "  498.061,1110.7 503.199,1116.31 508.337,1121.82 513.475,1127.25 518.613,1132.58 523.751,1137.81 528.889,1142.95 534.027,1148 539.166,1152.94 544.304,1157.78 \n",
       "  549.442,1162.53 554.58,1167.17 559.718,1171.71 564.856,1176.14 569.994,1180.47 575.132,1184.69 580.27,1188.8 585.408,1192.81 590.546,1196.7 595.685,1200.48 \n",
       "  600.823,1204.16 605.961,1207.72 611.099,1211.16 616.237,1214.49 621.375,1217.71 626.513,1220.81 631.651,1223.8 636.789,1226.67 641.927,1229.41 647.065,1232.04 \n",
       "  652.203,1234.56 657.342,1236.95 662.48,1239.22 667.618,1241.36 672.756,1243.39 677.894,1245.3 683.032,1247.08 688.17,1248.74 693.308,1250.27 698.446,1251.68 \n",
       "  703.584,1252.97 708.722,1254.13 713.861,1255.17 718.999,1256.08 724.137,1256.87 729.275,1257.53 734.413,1258.07 739.551,1258.48 744.689,1258.76 749.827,1258.92 \n",
       "  754.965,1258.95 760.103,1258.86 765.241,1258.64 770.379,1258.29 775.518,1257.82 780.656,1257.22 785.794,1256.49 790.932,1255.64 796.07,1254.67 801.208,1253.57 \n",
       "  806.346,1252.34 811.484,1250.99 816.622,1249.52 821.76,1247.92 826.898,1246.2 832.036,1244.36 837.175,1242.39 842.313,1240.31 847.451,1238.1 852.589,1235.77 \n",
       "  857.727,1233.31 862.865,1230.74 868.003,1228.05 873.141,1225.25 878.279,1222.32 883.417,1219.28 888.555,1216.12 893.694,1212.84 898.832,1209.45 903.97,1205.95 \n",
       "  909.108,1202.33 914.246,1198.61 919.384,1194.77 924.522,1190.82 929.66,1186.76 934.798,1182.59 939.936,1178.32 945.074,1173.94 950.212,1169.45 955.351,1164.86 \n",
       "  960.489,1160.17 965.627,1155.37 970.765,1150.48 975.903,1145.49 981.041,1140.4 986.179,1135.21 991.317,1129.92 996.455,1124.55 1001.59,1119.08 1006.73,1113.51 \n",
       "  1011.87,1107.86 1017.01,1102.12 1022.15,1096.29 1027.28,1090.38 1032.42,1084.38 1037.56,1078.3 1042.7,1072.14 1047.84,1065.9 1052.97,1059.58 1058.11,1053.18 \n",
       "  1063.25,1046.71 1068.39,1040.16 1073.53,1033.55 1078.66,1026.86 1083.8,1020.1 1088.94,1013.28 1094.08,1006.39 1099.22,999.44 1104.36,992.426 1109.49,985.353 \n",
       "  1114.63,978.221 1119.77,971.033 1124.91,963.79 1130.05,956.494 1135.18,949.148 1140.32,941.751 1145.46,934.308 1150.6,926.818 1155.74,919.285 1160.87,911.71 \n",
       "  1166.01,904.096 1171.15,896.442 1176.29,888.753 1181.43,881.03 1186.56,873.274 1191.7,865.487 1196.84,857.672 1201.98,849.83 1207.12,841.964 1212.25,834.075 \n",
       "  1217.39,826.165 1222.53,818.237 1227.67,810.291 1232.81,802.331 1237.95,794.358 1243.08,786.374 1248.22,778.381 1253.36,770.381 1258.5,762.376 1263.64,754.368 \n",
       "  1268.77,746.359 1273.91,738.351 1279.05,730.347 1284.19,722.347 1289.33,714.354 1294.46,706.37 1299.6,698.396 1304.74,690.436 1309.88,682.491 1315.02,674.562 \n",
       "  1320.15,666.652 1325.29,658.763 1330.43,650.897 1335.57,643.056 1340.71,635.24 1345.85,627.454 1350.98,619.698 1356.12,611.974 1361.26,604.285 1366.4,596.632 \n",
       "  1371.54,589.017 1376.67,581.442 1381.81,573.909 1386.95,566.42 1392.09,558.976 1397.23,551.58 1402.36,544.233 1407.5,536.937 1412.64,529.694 1417.78,522.506 \n",
       "  1422.92,515.375 1428.05,508.301 1433.19,501.288 1438.33,494.336 1443.47,487.448 1448.61,480.625 1453.74,473.869 1458.88,467.182 1464.02,460.565 1469.16,454.019 \n",
       "  1474.3,447.547 1479.44,441.15 1484.57,434.83 1489.71,428.588 1494.85,422.426 1499.99,416.346 1505.13,410.348 1510.26,404.434 1515.4,398.606 1520.54,392.866 \n",
       "  1525.68,387.214 1530.82,381.652 1535.95,376.181 1541.09,370.804 1546.23,365.52 1551.37,360.332 1556.51,355.24 1561.64,350.247 1566.78,345.353 1571.92,340.559 \n",
       "  1577.06,335.867 1582.2,331.277 1587.34,326.792 1592.47,322.411 1597.61,318.137 1602.75,313.97 1607.89,309.911 1613.03,305.961 1618.16,302.122 1623.3,298.393 \n",
       "  1628.44,294.777 1633.58,291.274 1638.72,287.884 1643.85,284.61 1648.99,281.45 1654.13,278.407 1659.27,275.481 1664.41,272.673 1669.54,269.983 1674.68,267.413 \n",
       "  1679.82,264.962 1684.96,262.631 1690.1,260.422 1695.23,258.334 1700.37,256.368 1705.51,254.524 1710.65,252.804 1715.79,251.206 1720.93,249.733 1726.06,248.384 \n",
       "  1731.2,247.159 1736.34,246.059 1741.48,245.084 1746.62,244.234 1751.75,243.51 1756.89,242.911 1762.03,242.439 1767.17,242.092 1772.31,241.871 1777.44,241.777 \n",
       "  1782.58,241.808 1787.72,241.966 1792.86,242.25 1798,242.659 1803.13,243.195 1808.27,243.856 1813.41,244.643 1818.55,245.556 1823.69,246.593 1828.83,247.756 \n",
       "  1833.96,249.043 1839.1,250.454 1844.24,251.99 1849.38,253.649 1854.52,255.431 1859.65,257.336 1864.79,259.363 1869.93,261.512 1875.07,263.782 1880.21,266.172 \n",
       "  1885.34,268.683 1890.48,271.314 1895.62,274.063 1900.76,276.93 1905.9,279.914 1911.03,283.016 1916.17,286.233 1921.31,289.565 1926.45,293.011 1931.59,296.571 \n",
       "  1936.73,300.244 1941.86,304.028 1947,307.922 1952.14,311.927 1957.28,316.04 1962.42,320.261 1967.55,324.588 1972.69,329.022 1977.83,333.559 1982.97,338.2 \n",
       "  1988.11,342.943 1993.24,347.787 1998.38,352.731 2003.52,357.774 2008.66,362.914 2013.8,368.15 2018.93,373.481 2024.07,378.905 2029.21,384.421 2034.35,390.028 \n",
       "  2039.49,395.725 2044.62,401.509 2049.76,407.38 2054.9,413.336 2060.04,419.376 2065.18,425.497 2070.32,431.7 2075.45,437.981 2080.59,444.339 2085.73,450.774 \n",
       "  2090.87,457.283 2096.01,463.864 2101.14,470.517 2106.28,477.239 2111.42,484.028 2116.56,490.884 2121.7,497.804 2126.83,504.787 2131.97,511.831 2137.11,518.933 \n",
       "  2142.25,526.093 2147.39,533.309 2152.52,540.579 2157.66,547.9 2162.8,555.272 2167.94,562.692 2173.08,570.159 2178.22,577.67 2183.35,585.225 2188.49,592.82 \n",
       "  2193.63,600.454 2198.77,608.125 2203.91,615.832 2209.04,623.572 2214.18,631.344 2219.32,639.145 2224.46,646.973 2229.6,654.827 2234.73,662.705 2239.87,670.605 \n",
       "  2245.01,678.524 2250.15,686.462 2255.29,694.415 2260.42,702.382 2265.56,710.36 2270.7,718.349 2275.84,726.346 2280.98,734.349 2286.11,742.355 2291.25,750.364 \n",
       "  \n",
       "  \"/>\n",
       "<polyline clip-path=\"url(#clip722)\" style=\"stroke:#ff0000; stroke-width:8; stroke-opacity:1; fill:none\" points=\"\n",
       "  241.157,844.15 246.295,856 251.433,867.656 256.571,879.118 261.709,890.389 266.847,901.468 271.985,912.358 277.123,923.058 282.261,933.571 287.399,943.896 \n",
       "  292.537,954.036 297.676,963.991 302.814,973.761 307.952,983.349 313.09,992.755 318.228,1001.98 323.366,1011.02 328.504,1019.89 333.642,1028.58 338.78,1037.09 \n",
       "  343.918,1045.43 349.056,1053.59 354.194,1061.57 359.333,1069.39 364.471,1077.03 369.609,1084.5 374.747,1091.8 379.885,1098.93 385.023,1105.9 390.161,1112.7 \n",
       "  395.299,1119.33 400.437,1125.8 405.575,1132.1 410.713,1138.24 415.851,1144.22 420.99,1150.04 426.128,1155.7 431.266,1161.2 436.404,1166.54 441.542,1171.72 \n",
       "  446.68,1176.75 451.818,1181.63 456.956,1186.35 462.094,1190.92 467.232,1195.34 472.37,1199.6 477.509,1203.72 482.647,1207.69 487.785,1211.51 492.923,1215.18 \n",
       "  498.061,1218.71 503.199,1222.09 508.337,1225.33 513.475,1228.43 518.613,1231.39 523.751,1234.2 528.889,1236.88 534.027,1239.42 539.166,1241.82 544.304,1244.08 \n",
       "  549.442,1246.21 554.58,1248.2 559.718,1250.06 564.856,1251.79 569.994,1253.39 575.132,1254.85 580.27,1256.19 585.408,1257.4 590.546,1258.48 595.685,1259.43 \n",
       "  600.823,1260.26 605.961,1260.97 611.099,1261.55 616.237,1262.01 621.375,1262.34 626.513,1262.56 631.651,1262.66 636.789,1262.64 641.927,1262.5 647.065,1262.24 \n",
       "  652.203,1261.87 657.342,1261.39 662.48,1260.79 667.618,1260.08 672.756,1259.26 677.894,1258.33 683.032,1257.29 688.17,1256.14 693.308,1254.89 698.446,1253.52 \n",
       "  703.584,1252.06 708.722,1250.49 713.861,1248.81 718.999,1247.03 724.137,1245.16 729.275,1243.18 734.413,1241.1 739.551,1238.93 744.689,1236.65 749.827,1234.28 \n",
       "  754.965,1231.82 760.103,1229.26 765.241,1226.61 770.379,1223.87 775.518,1221.03 780.656,1218.11 785.794,1215.1 790.932,1212 796.07,1208.81 801.208,1205.53 \n",
       "  806.346,1202.17 811.484,1198.73 816.622,1195.2 821.76,1191.6 826.898,1187.91 832.036,1184.14 837.175,1180.29 842.313,1176.36 847.451,1172.36 852.589,1168.28 \n",
       "  857.727,1164.13 862.865,1159.9 868.003,1155.6 873.141,1151.23 878.279,1146.78 883.417,1142.27 888.555,1137.69 893.694,1133.04 898.832,1128.32 903.97,1123.54 \n",
       "  909.108,1118.69 914.246,1113.78 919.384,1108.8 924.522,1103.77 929.66,1098.67 934.798,1093.51 939.936,1088.3 945.074,1083.03 950.212,1077.7 955.351,1072.31 \n",
       "  960.489,1066.87 965.627,1061.38 970.765,1055.83 975.903,1050.23 981.041,1044.58 986.179,1038.88 991.317,1033.14 996.455,1027.34 1001.59,1021.5 1006.73,1015.61 \n",
       "  1011.87,1009.68 1017.01,1003.7 1022.15,997.686 1027.28,991.627 1032.42,985.526 1037.56,979.386 1042.7,973.208 1047.84,966.991 1052.97,960.739 1058.11,954.45 \n",
       "  1063.25,948.128 1068.39,941.771 1073.53,935.383 1078.66,928.962 1083.8,922.511 1088.94,916.031 1094.08,909.522 1099.22,902.986 1104.36,896.423 1109.49,889.835 \n",
       "  1114.63,883.223 1119.77,876.587 1124.91,869.928 1130.05,863.248 1135.18,856.548 1140.32,849.829 1145.46,843.091 1150.6,836.335 1155.74,829.563 1160.87,822.776 \n",
       "  1166.01,815.975 1171.15,809.16 1176.29,802.333 1181.43,795.495 1186.56,788.646 1191.7,781.788 1196.84,774.922 1201.98,768.048 1207.12,761.168 1212.25,754.283 \n",
       "  1217.39,747.394 1222.53,740.501 1227.67,733.607 1232.81,726.711 1237.95,719.814 1243.08,712.919 1248.22,706.025 1253.36,699.135 1258.5,692.248 1263.64,685.365 \n",
       "  1268.77,678.489 1273.91,671.62 1279.05,664.758 1284.19,657.906 1289.33,651.063 1294.46,644.231 1299.6,637.411 1304.74,630.604 1309.88,623.811 1315.02,617.033 \n",
       "  1320.15,610.271 1325.29,603.525 1330.43,596.798 1335.57,590.09 1340.71,583.401 1345.85,576.734 1350.98,570.089 1356.12,563.466 1361.26,556.868 1366.4,550.295 \n",
       "  1371.54,543.747 1376.67,537.227 1381.81,530.735 1386.95,524.272 1392.09,517.839 1397.23,511.437 1402.36,505.067 1407.5,498.731 1412.64,492.428 1417.78,486.161 \n",
       "  1422.92,479.929 1428.05,473.735 1433.19,467.579 1438.33,461.462 1443.47,455.386 1448.61,449.35 1453.74,443.357 1458.88,437.407 1464.02,431.501 1469.16,425.641 \n",
       "  1474.3,419.826 1479.44,414.059 1484.57,408.34 1489.71,402.671 1494.85,397.051 1499.99,391.483 1505.13,385.967 1510.26,380.505 1515.4,375.097 1520.54,369.744 \n",
       "  1525.68,364.447 1530.82,359.208 1535.95,354.027 1541.09,348.906 1546.23,343.845 1551.37,338.845 1556.51,333.908 1561.64,329.034 1566.78,324.224 1571.92,319.48 \n",
       "  1577.06,314.802 1582.2,310.192 1587.34,305.65 1592.47,301.178 1597.61,296.776 1602.75,292.446 1607.89,288.188 1613.03,284.003 1618.16,279.893 1623.3,275.859 \n",
       "  1628.44,271.901 1633.58,268.021 1638.72,264.219 1643.85,260.497 1648.99,256.855 1654.13,253.295 1659.27,249.817 1664.41,246.423 1669.54,243.114 1674.68,239.89 \n",
       "  1679.82,236.753 1684.96,233.703 1690.1,230.742 1695.23,227.871 1700.37,225.091 1705.51,222.402 1710.65,219.805 1715.79,217.303 1720.93,214.895 1726.06,212.583 \n",
       "  1731.2,210.367 1736.34,208.25 1741.48,206.231 1746.62,204.311 1751.75,202.493 1756.89,200.776 1762.03,199.162 1767.17,197.652 1772.31,196.247 1777.44,194.947 \n",
       "  1782.58,193.754 1787.72,192.669 1792.86,191.693 1798,190.827 1803.13,190.071 1808.27,189.428 1813.41,188.897 1818.55,188.48 1823.69,188.178 1828.83,187.992 \n",
       "  1833.96,187.923 1839.1,187.972 1844.24,188.14 1849.38,188.427 1854.52,188.836 1859.65,189.366 1864.79,190.02 1869.93,190.797 1875.07,191.7 1880.21,192.728 \n",
       "  1885.34,193.883 1890.48,195.167 1895.62,196.579 1900.76,198.122 1905.9,199.795 1911.03,201.601 1916.17,203.54 1921.31,205.612 1926.45,207.82 1931.59,210.164 \n",
       "  1936.73,212.645 1941.86,215.264 1947,218.022 1952.14,220.921 1957.28,223.96 1962.42,227.142 1967.55,230.466 1972.69,233.935 1977.83,237.549 1982.97,241.31 \n",
       "  1988.11,245.217 1993.24,249.273 1998.38,253.478 2003.52,257.833 2008.66,262.339 2013.8,266.998 2018.93,271.81 2024.07,276.776 2029.21,281.897 2034.35,287.175 \n",
       "  2039.49,292.61 2044.62,298.203 2049.76,303.956 2054.9,309.868 2060.04,315.943 2065.18,322.179 2070.32,328.579 2075.45,335.143 2080.59,341.873 2085.73,348.769 \n",
       "  2090.87,355.832 2096.01,363.064 2101.14,370.465 2106.28,378.037 2111.42,385.78 2116.56,393.695 2121.7,401.784 2126.83,410.048 2131.97,418.486 2137.11,427.102 \n",
       "  2142.25,435.894 2147.39,444.866 2152.52,454.016 2157.66,463.348 2162.8,472.86 2167.94,482.556 2173.08,492.435 2178.22,502.498 2183.35,512.747 2188.49,523.182 \n",
       "  2193.63,533.806 2198.77,544.617 2203.91,555.619 2209.04,566.81 2214.18,578.194 2219.32,589.77 2224.46,601.54 2229.6,613.504 2234.73,625.664 2239.87,638.021 \n",
       "  2245.01,650.575 2250.15,663.329 2255.29,676.281 2260.42,689.435 2265.56,702.79 2270.7,716.348 2275.84,730.11 2280.98,744.076 2286.11,758.248 2291.25,772.627 \n",
       "  \n",
       "  \"/>\n",
       "<path clip-path=\"url(#clip720)\" d=\"\n",
       "M252.09 337.138 L923.174 337.138 L923.174 95.2176 L252.09 95.2176  Z\n",
       "  \" fill=\"#ffffff\" fill-rule=\"evenodd\" fill-opacity=\"1\"/>\n",
       "<polyline clip-path=\"url(#clip720)\" style=\"stroke:#000000; stroke-width:4; stroke-opacity:1; fill:none\" points=\"\n",
       "  252.09,337.138 923.174,337.138 923.174,95.2176 252.09,95.2176 252.09,337.138 \n",
       "  \"/>\n",
       "<circle clip-path=\"url(#clip720)\" cx=\"348.673\" cy=\"155.698\" r=\"23\" fill=\"#009af9\" fill-rule=\"evenodd\" fill-opacity=\"1\" stroke=\"#000000\" stroke-opacity=\"1\" stroke-width=\"5.12\"/>\n",
       "<path clip-path=\"url(#clip720)\" d=\"M 0 0 M463.681 147.816 L463.681 151.843 Q461.875 150.917 459.931 150.455 Q457.986 149.992 455.903 149.992 Q452.732 149.992 451.135 150.964 Q449.561 151.936 449.561 153.88 Q449.561 155.362 450.695 156.218 Q451.829 157.052 455.255 157.816 L456.713 158.14 Q461.25 159.112 463.148 160.894 Q465.07 162.654 465.07 165.825 Q465.07 169.436 462.199 171.542 Q459.352 173.649 454.352 173.649 Q452.269 173.649 450 173.232 Q447.755 172.839 445.255 172.028 L445.255 167.63 Q447.616 168.857 449.908 169.482 Q452.199 170.084 454.445 170.084 Q457.454 170.084 459.074 169.066 Q460.695 168.024 460.695 166.149 Q460.695 164.413 459.514 163.487 Q458.357 162.561 454.399 161.704 L452.917 161.357 Q448.959 160.524 447.199 158.811 Q445.44 157.075 445.44 154.066 Q445.44 150.408 448.033 148.418 Q450.625 146.427 455.394 146.427 Q457.755 146.427 459.838 146.774 Q461.922 147.121 463.681 147.816 Z\" fill=\"#000000\" fill-rule=\"evenodd\" fill-opacity=\"1\" /><path clip-path=\"url(#clip720)\" d=\"M 0 0 M481.32 159.945 Q476.158 159.945 474.167 161.126 Q472.176 162.306 472.176 165.154 Q472.176 167.422 473.658 168.765 Q475.162 170.084 477.732 170.084 Q481.273 170.084 483.403 167.584 Q485.556 165.061 485.556 160.894 L485.556 159.945 L481.32 159.945 M489.815 158.186 L489.815 172.978 L485.556 172.978 L485.556 169.042 Q484.097 171.403 481.922 172.538 Q479.746 173.649 476.597 173.649 Q472.616 173.649 470.255 171.427 Q467.917 169.181 467.917 165.431 Q467.917 161.056 470.834 158.834 Q473.773 156.612 479.584 156.612 L485.556 156.612 L485.556 156.195 Q485.556 153.255 483.611 151.658 Q481.69 150.038 478.195 150.038 Q475.972 150.038 473.866 150.57 Q471.76 151.103 469.815 152.167 L469.815 148.232 Q472.153 147.33 474.352 146.89 Q476.551 146.427 478.635 146.427 Q484.259 146.427 487.037 149.343 Q489.815 152.26 489.815 158.186 Z\" fill=\"#000000\" fill-rule=\"evenodd\" fill-opacity=\"1\" /><path clip-path=\"url(#clip720)\" d=\"M 0 0 M514.468 152.029 Q516.065 149.158 518.287 147.793 Q520.509 146.427 523.519 146.427 Q527.569 146.427 529.768 149.274 Q531.968 152.098 531.968 157.329 L531.968 172.978 L527.685 172.978 L527.685 157.468 Q527.685 153.742 526.366 151.936 Q525.046 150.13 522.338 150.13 Q519.028 150.13 517.107 152.33 Q515.185 154.529 515.185 158.325 L515.185 172.978 L510.903 172.978 L510.903 157.468 Q510.903 153.718 509.583 151.936 Q508.264 150.13 505.509 150.13 Q502.245 150.13 500.324 152.353 Q498.403 154.552 498.403 158.325 L498.403 172.978 L494.121 172.978 L494.121 147.052 L498.403 147.052 L498.403 151.08 Q499.861 148.695 501.898 147.561 Q503.935 146.427 506.736 146.427 Q509.56 146.427 511.528 147.862 Q513.519 149.297 514.468 152.029 Z\" fill=\"#000000\" fill-rule=\"evenodd\" fill-opacity=\"1\" /><path clip-path=\"url(#clip720)\" d=\"M 0 0 M540.555 169.089 L540.555 182.839 L536.273 182.839 L536.273 147.052 L540.555 147.052 L540.555 150.987 Q541.898 148.672 543.935 147.561 Q545.995 146.427 548.842 146.427 Q553.565 146.427 556.504 150.177 Q559.467 153.927 559.467 160.038 Q559.467 166.149 556.504 169.899 Q553.565 173.649 548.842 173.649 Q545.995 173.649 543.935 172.538 Q541.898 171.403 540.555 169.089 M555.046 160.038 Q555.046 155.339 553.102 152.677 Q551.18 149.992 547.801 149.992 Q544.421 149.992 542.477 152.677 Q540.555 155.339 540.555 160.038 Q540.555 164.737 542.477 167.422 Q544.421 170.084 547.801 170.084 Q551.18 170.084 553.102 167.422 Q555.046 164.737 555.046 160.038 Z\" fill=\"#000000\" fill-rule=\"evenodd\" fill-opacity=\"1\" /><path clip-path=\"url(#clip720)\" d=\"M 0 0 M563.935 136.959 L568.194 136.959 L568.194 172.978 L563.935 172.978 L563.935 136.959 Z\" fill=\"#000000\" fill-rule=\"evenodd\" fill-opacity=\"1\" /><path clip-path=\"url(#clip720)\" d=\"M 0 0 M594.838 158.95 L594.838 161.033 L575.254 161.033 Q575.532 165.431 577.893 167.746 Q580.277 170.038 584.514 170.038 Q586.967 170.038 589.259 169.436 Q591.574 168.834 593.842 167.63 L593.842 171.658 Q591.551 172.63 589.143 173.14 Q586.736 173.649 584.259 173.649 Q578.055 173.649 574.421 170.038 Q570.81 166.427 570.81 160.269 Q570.81 153.904 574.236 150.177 Q577.685 146.427 583.518 146.427 Q588.75 146.427 591.782 149.806 Q594.838 153.163 594.838 158.95 M590.578 157.7 Q590.532 154.205 588.611 152.121 Q586.713 150.038 583.564 150.038 Q580 150.038 577.847 152.052 Q575.717 154.066 575.393 157.723 L590.578 157.7 Z\" fill=\"#000000\" fill-rule=\"evenodd\" fill-opacity=\"1\" /><polyline clip-path=\"url(#clip720)\" style=\"stroke:#0000ff; stroke-width:4; stroke-opacity:1; fill:none\" stroke-dasharray=\"16, 10\" points=\"\n",
       "  276.236,216.178 421.109,216.178 \n",
       "  \"/>\n",
       "<path clip-path=\"url(#clip720)\" d=\"M 0 0 M463.681 208.296 L463.681 212.323 Q461.875 211.397 459.931 210.935 Q457.986 210.472 455.903 210.472 Q452.732 210.472 451.135 211.444 Q449.561 212.416 449.561 214.36 Q449.561 215.842 450.695 216.698 Q451.829 217.532 455.255 218.296 L456.713 218.62 Q461.25 219.592 463.148 221.374 Q465.07 223.134 465.07 226.305 Q465.07 229.916 462.199 232.022 Q459.352 234.129 454.352 234.129 Q452.269 234.129 450 233.712 Q447.755 233.319 445.255 232.508 L445.255 228.11 Q447.616 229.337 449.908 229.962 Q452.199 230.564 454.445 230.564 Q457.454 230.564 459.074 229.546 Q460.695 228.504 460.695 226.629 Q460.695 224.893 459.514 223.967 Q458.357 223.041 454.399 222.184 L452.917 221.837 Q448.959 221.004 447.199 219.291 Q445.44 217.555 445.44 214.546 Q445.44 210.888 448.033 208.898 Q450.625 206.907 455.394 206.907 Q457.755 206.907 459.838 207.254 Q461.922 207.601 463.681 208.296 Z\" fill=\"#000000\" fill-rule=\"evenodd\" fill-opacity=\"1\" /><path clip-path=\"url(#clip720)\" d=\"M 0 0 M469.537 207.532 L473.797 207.532 L473.797 233.458 L469.537 233.458 L469.537 207.532 M469.537 197.439 L473.797 197.439 L473.797 202.833 L469.537 202.833 L469.537 197.439 Z\" fill=\"#000000\" fill-rule=\"evenodd\" fill-opacity=\"1\" /><path clip-path=\"url(#clip720)\" d=\"M 0 0 M499.815 217.809 L499.815 233.458 L495.556 233.458 L495.556 217.948 Q495.556 214.268 494.121 212.439 Q492.685 210.61 489.815 210.61 Q486.366 210.61 484.375 212.81 Q482.384 215.009 482.384 218.805 L482.384 233.458 L478.102 233.458 L478.102 207.532 L482.384 207.532 L482.384 211.56 Q483.912 209.222 485.972 208.064 Q488.056 206.907 490.764 206.907 Q495.232 206.907 497.523 209.685 Q499.815 212.439 499.815 217.809 Z\" fill=\"#000000\" fill-rule=\"evenodd\" fill-opacity=\"1\" /><path clip-path=\"url(#clip720)\" d=\"M 0 0 M514.514 197.486 Q511.412 202.81 509.907 208.018 Q508.403 213.226 508.403 218.573 Q508.403 223.921 509.907 229.175 Q511.435 234.407 514.514 239.708 L510.81 239.708 Q507.338 234.268 505.602 229.013 Q503.889 223.759 503.889 218.573 Q503.889 213.411 505.602 208.18 Q507.315 202.948 510.81 197.486 L514.514 197.486 Z\" fill=\"#000000\" fill-rule=\"evenodd\" fill-opacity=\"1\" /><path clip-path=\"url(#clip720)\" d=\"M 0 0 M540.532 207.532 L531.157 220.147 L541.018 233.458 L535.995 233.458 L528.449 223.272 L520.903 233.458 L515.88 233.458 L525.949 219.893 L516.736 207.532 L521.759 207.532 L528.634 216.768 L535.509 207.532 L540.532 207.532 Z\" fill=\"#000000\" fill-rule=\"evenodd\" fill-opacity=\"1\" /><path clip-path=\"url(#clip720)\" d=\"M 0 0 M544.815 197.486 L548.518 197.486 Q551.991 202.948 553.704 208.18 Q555.44 213.411 555.44 218.573 Q555.44 223.759 553.704 229.013 Q551.991 234.268 548.518 239.708 L544.815 239.708 Q547.893 234.407 549.398 229.175 Q550.926 223.921 550.926 218.573 Q550.926 213.226 549.398 208.018 Q547.893 202.81 544.815 197.486 Z\" fill=\"#000000\" fill-rule=\"evenodd\" fill-opacity=\"1\" /><polyline clip-path=\"url(#clip720)\" style=\"stroke:#ff0000; stroke-width:4; stroke-opacity:1; fill:none\" points=\"\n",
       "  276.236,276.658 421.109,276.658 \n",
       "  \"/>\n",
       "<path clip-path=\"url(#clip720)\" d=\"M 0 0 M464.167 271.947 L464.167 257.919 L468.426 257.919 L468.426 293.938 L464.167 293.938 L464.167 290.049 Q462.824 292.363 460.764 293.498 Q458.727 294.609 455.857 294.609 Q451.158 294.609 448.195 290.859 Q445.255 287.109 445.255 280.998 Q445.255 274.887 448.195 271.137 Q451.158 267.387 455.857 267.387 Q458.727 267.387 460.764 268.521 Q462.824 269.632 464.167 271.947 M449.653 280.998 Q449.653 285.697 451.574 288.382 Q453.519 291.044 456.899 291.044 Q460.278 291.044 462.223 288.382 Q464.167 285.697 464.167 280.998 Q464.167 276.299 462.223 273.637 Q460.278 270.952 456.899 270.952 Q453.519 270.952 451.574 273.637 Q449.653 276.299 449.653 280.998 Z\" fill=\"#000000\" fill-rule=\"evenodd\" fill-opacity=\"1\" /><path clip-path=\"url(#clip720)\" d=\"M 0 0 M495.07 279.91 L495.07 281.993 L475.486 281.993 Q475.764 286.391 478.125 288.706 Q480.509 290.998 484.746 290.998 Q487.199 290.998 489.491 290.396 Q491.806 289.794 494.074 288.59 L494.074 292.618 Q491.783 293.59 489.375 294.1 Q486.968 294.609 484.491 294.609 Q478.287 294.609 474.653 290.998 Q471.042 287.387 471.042 281.229 Q471.042 274.864 474.468 271.137 Q477.917 267.387 483.75 267.387 Q488.982 267.387 492.014 270.766 Q495.07 274.123 495.07 279.91 M490.81 278.66 Q490.764 275.165 488.843 273.081 Q486.945 270.998 483.797 270.998 Q480.232 270.998 478.079 273.012 Q475.949 275.026 475.625 278.683 L490.81 278.66 Z\" fill=\"#000000\" fill-rule=\"evenodd\" fill-opacity=\"1\" /><path clip-path=\"url(#clip720)\" d=\"M 0 0 M516.597 280.674 Q516.597 276.044 514.676 273.498 Q512.778 270.952 509.329 270.952 Q505.903 270.952 503.982 273.498 Q502.083 276.044 502.083 280.674 Q502.083 285.28 503.982 287.826 Q505.903 290.373 509.329 290.373 Q512.778 290.373 514.676 287.826 Q516.597 285.28 516.597 280.674 M520.856 290.72 Q520.856 297.34 517.917 300.558 Q514.977 303.799 508.912 303.799 Q506.667 303.799 504.676 303.451 Q502.685 303.127 500.81 302.433 L500.81 298.289 Q502.685 299.308 504.514 299.794 Q506.343 300.28 508.241 300.28 Q512.431 300.28 514.514 298.081 Q516.597 295.905 516.597 291.484 L516.597 289.377 Q515.278 291.669 513.218 292.803 Q511.157 293.938 508.287 293.938 Q503.519 293.938 500.602 290.303 Q497.685 286.669 497.685 280.674 Q497.685 274.655 500.602 271.021 Q503.519 267.387 508.287 267.387 Q511.157 267.387 513.218 268.521 Q515.278 269.655 516.597 271.947 L516.597 268.012 L520.856 268.012 L520.856 290.72 Z\" fill=\"#000000\" fill-rule=\"evenodd\" fill-opacity=\"1\" /><path clip-path=\"url(#clip720)\" d=\"M 0 0 M540.347 271.993 Q539.63 271.577 538.773 271.391 Q537.94 271.183 536.921 271.183 Q533.31 271.183 531.366 273.544 Q529.444 275.882 529.444 280.28 L529.444 293.938 L525.162 293.938 L525.162 268.012 L529.444 268.012 L529.444 272.04 Q530.787 269.678 532.94 268.544 Q535.093 267.387 538.171 267.387 Q538.611 267.387 539.143 267.456 Q539.676 267.503 540.324 267.618 L540.347 271.993 Z\" fill=\"#000000\" fill-rule=\"evenodd\" fill-opacity=\"1\" /><path clip-path=\"url(#clip720)\" d=\"M 0 0 M565.949 279.91 L565.949 281.993 L546.366 281.993 Q546.643 286.391 549.004 288.706 Q551.389 290.998 555.625 290.998 Q558.079 290.998 560.37 290.396 Q562.685 289.794 564.953 288.59 L564.953 292.618 Q562.662 293.59 560.254 294.1 Q557.847 294.609 555.37 294.609 Q549.167 294.609 545.532 290.998 Q541.921 287.387 541.921 281.229 Q541.921 274.864 545.347 271.137 Q548.796 267.387 554.629 267.387 Q559.861 267.387 562.893 270.766 Q565.949 274.123 565.949 279.91 M561.69 278.66 Q561.643 275.165 559.722 273.081 Q557.824 270.998 554.676 270.998 Q551.111 270.998 548.958 273.012 Q546.829 275.026 546.505 278.683 L561.69 278.66 Z\" fill=\"#000000\" fill-rule=\"evenodd\" fill-opacity=\"1\" /><path clip-path=\"url(#clip720)\" d=\"M 0 0 M592.592 279.91 L592.592 281.993 L573.009 281.993 Q573.287 286.391 575.648 288.706 Q578.032 290.998 582.268 290.998 Q584.722 290.998 587.014 290.396 Q589.328 289.794 591.597 288.59 L591.597 292.618 Q589.305 293.59 586.898 294.1 Q584.49 294.609 582.014 294.609 Q575.81 294.609 572.176 290.998 Q568.565 287.387 568.565 281.229 Q568.565 274.864 571.99 271.137 Q575.44 267.387 581.273 267.387 Q586.504 267.387 589.537 270.766 Q592.592 274.123 592.592 279.91 M588.333 278.66 Q588.287 275.165 586.365 273.081 Q584.467 270.998 581.319 270.998 Q577.754 270.998 575.602 273.012 Q573.472 275.026 573.148 278.683 L588.333 278.66 Z\" fill=\"#000000\" fill-rule=\"evenodd\" fill-opacity=\"1\" /><path clip-path=\"url(#clip720)\" d=\"M 0 0 M594.907 279.053 L607.384 279.053 L607.384 282.85 L594.907 282.85 L594.907 279.053 Z\" fill=\"#000000\" fill-rule=\"evenodd\" fill-opacity=\"1\" /><path clip-path=\"url(#clip720)\" d=\"M 0 0 M626.62 275.303 Q629.976 276.021 631.851 278.289 Q633.749 280.558 633.749 283.891 Q633.749 289.007 630.231 291.808 Q626.712 294.609 620.231 294.609 Q618.055 294.609 615.74 294.169 Q613.449 293.752 610.995 292.896 L610.995 288.382 Q612.939 289.516 615.254 290.095 Q617.569 290.674 620.092 290.674 Q624.49 290.674 626.782 288.938 Q629.097 287.201 629.097 283.891 Q629.097 280.836 626.944 279.123 Q624.814 277.387 620.995 277.387 L616.967 277.387 L616.967 273.544 L621.18 273.544 Q624.629 273.544 626.458 272.178 Q628.286 270.79 628.286 268.197 Q628.286 265.535 626.388 264.123 Q624.513 262.688 620.995 262.688 Q619.074 262.688 616.875 263.104 Q614.675 263.521 612.037 264.401 L612.037 260.234 Q614.699 259.493 617.013 259.123 Q619.351 258.753 621.412 258.753 Q626.736 258.753 629.837 261.183 Q632.939 263.59 632.939 267.711 Q632.939 270.581 631.296 272.572 Q629.652 274.54 626.62 275.303 Z\" fill=\"#000000\" fill-rule=\"evenodd\" fill-opacity=\"1\" /><path clip-path=\"url(#clip720)\" d=\"M 0 0 M657.407 290.049 L657.407 303.799 L653.124 303.799 L653.124 268.012 L657.407 268.012 L657.407 271.947 Q658.749 269.632 660.786 268.521 Q662.846 267.387 665.694 267.387 Q670.416 267.387 673.356 271.137 Q676.319 274.887 676.319 280.998 Q676.319 287.109 673.356 290.859 Q670.416 294.609 665.694 294.609 Q662.846 294.609 660.786 293.498 Q658.749 292.363 657.407 290.049 M671.897 280.998 Q671.897 276.299 669.953 273.637 Q668.032 270.952 664.652 270.952 Q661.272 270.952 659.328 273.637 Q657.407 276.299 657.407 280.998 Q657.407 285.697 659.328 288.382 Q661.272 291.044 664.652 291.044 Q668.032 291.044 669.953 288.382 Q671.897 285.697 671.897 280.998 Z\" fill=\"#000000\" fill-rule=\"evenodd\" fill-opacity=\"1\" /><path clip-path=\"url(#clip720)\" d=\"M 0 0 M690.832 270.998 Q687.407 270.998 685.416 273.683 Q683.425 276.345 683.425 280.998 Q683.425 285.651 685.393 288.336 Q687.383 290.998 690.832 290.998 Q694.235 290.998 696.226 288.313 Q698.217 285.627 698.217 280.998 Q698.217 276.391 696.226 273.706 Q694.235 270.998 690.832 270.998 M690.832 267.387 Q696.388 267.387 699.559 270.998 Q702.731 274.609 702.731 280.998 Q702.731 287.364 699.559 290.998 Q696.388 294.609 690.832 294.609 Q685.254 294.609 682.082 290.998 Q678.934 287.364 678.934 280.998 Q678.934 274.609 682.082 270.998 Q685.254 267.387 690.832 267.387 Z\" fill=\"#000000\" fill-rule=\"evenodd\" fill-opacity=\"1\" /><path clip-path=\"url(#clip720)\" d=\"M 0 0 M707.198 257.919 L711.457 257.919 L711.457 293.938 L707.198 293.938 L707.198 257.919 Z\" fill=\"#000000\" fill-rule=\"evenodd\" fill-opacity=\"1\" /><path clip-path=\"url(#clip720)\" d=\"M 0 0 M726.712 296.345 Q724.906 300.975 723.193 302.387 Q721.48 303.799 718.61 303.799 L715.207 303.799 L715.207 300.234 L717.707 300.234 Q719.467 300.234 720.439 299.4 Q721.411 298.567 722.592 295.465 L723.355 293.521 L712.869 268.012 L717.383 268.012 L725.485 288.289 L733.587 268.012 L738.101 268.012 L726.712 296.345 Z\" fill=\"#000000\" fill-rule=\"evenodd\" fill-opacity=\"1\" /><path clip-path=\"url(#clip720)\" d=\"M 0 0 M764.119 278.289 L764.119 293.938 L759.86 293.938 L759.86 278.428 Q759.86 274.748 758.425 272.919 Q756.989 271.09 754.119 271.09 Q750.67 271.09 748.679 273.29 Q746.689 275.489 746.689 279.285 L746.689 293.938 L742.406 293.938 L742.406 268.012 L746.689 268.012 L746.689 272.04 Q748.216 269.702 750.277 268.544 Q752.36 267.387 755.068 267.387 Q759.536 267.387 761.827 270.165 Q764.119 272.919 764.119 278.289 Z\" fill=\"#000000\" fill-rule=\"evenodd\" fill-opacity=\"1\" /><path clip-path=\"url(#clip720)\" d=\"M 0 0 M778.633 270.998 Q775.207 270.998 773.216 273.683 Q771.226 276.345 771.226 280.998 Q771.226 285.651 773.193 288.336 Q775.184 290.998 778.633 290.998 Q782.036 290.998 784.026 288.313 Q786.017 285.627 786.017 280.998 Q786.017 276.391 784.026 273.706 Q782.036 270.998 778.633 270.998 M778.633 267.387 Q784.188 267.387 787.36 270.998 Q790.531 274.609 790.531 280.998 Q790.531 287.364 787.36 290.998 Q784.188 294.609 778.633 294.609 Q773.054 294.609 769.883 290.998 Q766.735 287.364 766.735 280.998 Q766.735 274.609 769.883 270.998 Q773.054 267.387 778.633 267.387 Z\" fill=\"#000000\" fill-rule=\"evenodd\" fill-opacity=\"1\" /><path clip-path=\"url(#clip720)\" d=\"M 0 0 M815.184 272.989 Q816.781 270.118 819.003 268.753 Q821.225 267.387 824.235 267.387 Q828.285 267.387 830.484 270.234 Q832.684 273.058 832.684 278.289 L832.684 293.938 L828.401 293.938 L828.401 278.428 Q828.401 274.702 827.082 272.896 Q825.762 271.09 823.054 271.09 Q819.744 271.09 817.822 273.29 Q815.901 275.489 815.901 279.285 L815.901 293.938 L811.619 293.938 L811.619 278.428 Q811.619 274.678 810.299 272.896 Q808.98 271.09 806.225 271.09 Q802.961 271.09 801.04 273.313 Q799.119 275.512 799.119 279.285 L799.119 293.938 L794.837 293.938 L794.837 268.012 L799.119 268.012 L799.119 272.04 Q800.577 269.655 802.614 268.521 Q804.651 267.387 807.452 267.387 Q810.276 267.387 812.244 268.822 Q814.235 270.257 815.184 272.989 Z\" fill=\"#000000\" fill-rule=\"evenodd\" fill-opacity=\"1\" /><path clip-path=\"url(#clip720)\" d=\"M 0 0 M837.151 268.012 L841.41 268.012 L841.41 293.938 L837.151 293.938 L837.151 268.012 M837.151 257.919 L841.41 257.919 L841.41 263.313 L837.151 263.313 L837.151 257.919 Z\" fill=\"#000000\" fill-rule=\"evenodd\" fill-opacity=\"1\" /><path clip-path=\"url(#clip720)\" d=\"M 0 0 M857.66 280.905 Q852.498 280.905 850.508 282.086 Q848.517 283.266 848.517 286.114 Q848.517 288.382 849.998 289.725 Q851.503 291.044 854.072 291.044 Q857.614 291.044 859.744 288.544 Q861.896 286.021 861.896 281.854 L861.896 280.905 L857.66 280.905 M866.156 279.146 L866.156 293.938 L861.896 293.938 L861.896 290.002 Q860.438 292.363 858.262 293.498 Q856.086 294.609 852.938 294.609 Q848.957 294.609 846.595 292.387 Q844.258 290.141 844.258 286.391 Q844.258 282.016 847.174 279.794 Q850.114 277.572 855.924 277.572 L861.896 277.572 L861.896 277.155 Q861.896 274.215 859.952 272.618 Q858.031 270.998 854.535 270.998 Q852.313 270.998 850.207 271.53 Q848.1 272.063 846.156 273.127 L846.156 269.192 Q848.494 268.29 850.693 267.85 Q852.892 267.387 854.975 267.387 Q860.6 267.387 863.378 270.303 Q866.156 273.22 866.156 279.146 Z\" fill=\"#000000\" fill-rule=\"evenodd\" fill-opacity=\"1\" /><path clip-path=\"url(#clip720)\" d=\"M 0 0 M870.623 257.919 L874.882 257.919 L874.882 293.938 L870.623 293.938 L870.623 257.919 Z\" fill=\"#000000\" fill-rule=\"evenodd\" fill-opacity=\"1\" /></svg>\n"
      ]
     },
     "execution_count": 24,
     "metadata": {},
     "output_type": "execute_result"
    }
   ],
   "source": [
    "begin\n",
    "    using Plots\n",
    "    n = 20\n",
    "    x = range(-π, π; length=20)\n",
    "    noise = 0.3randn(n)\n",
    "    y = sin.(x) + noise\n",
    "    X = hcat((x.^k for k in 0:3)...)\n",
    "    b = X\\y\n",
    "    f(x) = sum(b[k+1]*x^k for k in 0:3)\n",
    "    xs = range(-π, π; length=400)\n",
    "    plot(; legend=:topleft)\n",
    "    scatter!(x, y; label=\"sample\")\n",
    "    plot!(xs, sin.(xs); label=\"sin(x)\", color=:blue, ls=:dash)\n",
    "    plot!(xs, f.(xs); label=\"degree-3 polynomial\", color=:red, lw=2)\n",
    "end"
   ]
  },
  {
   "cell_type": "code",
   "execution_count": 25,
   "metadata": {},
   "outputs": [
    {
     "name": "stdout",
     "output_type": "stream",
     "text": [
      "(:block, \n",
      "    (:using, \n",
      "        (:., :Plots)), \n",
      "    (:(=), :n, 20), \n",
      "    (:(=), :x, \n",
      "        (:call, :range, \n",
      "            (:parameters, \n",
      "                (:kw, :length, 20)), \n",
      "            (:call, :-, :π), :π)), \n",
      "    (:(=), :noise, \n",
      "        (:call, :*, 0.3, \n",
      "            (:call, :randn, :n))), \n",
      "    (:(=), :y, \n",
      "        (:call, :+, \n",
      "            (:., :sin, \n",
      "                (:tuple, :x)), :noise)), \n",
      "    (:(=), :X, \n",
      "        (:call, :hcat, \n",
      "            (:..., \n",
      "                (:generator, \n",
      "                    (:call, :.^, :x, :k), \n",
      "                    (:(=), :k, \n",
      "                        (:call, :(:), 0, 3)))))), \n",
      "    (:(=), :b, \n",
      "        (:call, :\\, :X, :y)), \n",
      "    (:(=), \n",
      "        (:call, :f, :x), \n",
      "        (:block, \n",
      "            (:call, :sum, \n",
      "                (:generator, \n",
      "                    (:call, :*, \n",
      "                        (:ref, :b, \n",
      "                            (:call, :+, :k, 1)), \n",
      "                        (:call, :^, :x, :k)), \n",
      "                    (:(=), :k, \n",
      "                        (:call, :(:), 0, 3)))))), \n",
      "    (:(=), :xs, \n",
      "        (:call, :range, \n",
      "            (:parameters, \n",
      "                (:kw, :length, 400)), \n",
      "            (:call, :-, :π), :π)), \n",
      "    (:call, :plot, \n",
      "        (:parameters, \n",
      "            (:kw, :legend, QuoteNode(:topleft)))), \n",
      "    (:call, :scatter!, \n",
      "        (:parameters, \n",
      "            (:kw, :label, \"sample\")), :x, :y), \n",
      "    (:call, :plot!, \n",
      "        (:parameters, \n",
      "            (:kw, :label, \"sin(x)\"), \n",
      "            (:kw, :color, QuoteNode(:blue)), \n",
      "            (:kw, :ls, QuoteNode(:dash))), :xs, \n",
      "        (:., :sin, \n",
      "            (:tuple, :xs))), \n",
      "    (:call, :plot!, \n",
      "        (:parameters, \n",
      "            (:kw, :label, \"degree-3 polynomial\"), \n",
      "            (:kw, :color, QuoteNode(:red)), \n",
      "            (:kw, :lw, 2)), :xs, \n",
      "        (:., :f, \n",
      "            (:tuple, :xs))))"
     ]
    }
   ],
   "source": [
    "@show_texpr begin\n",
    "    using Plots\n",
    "    n = 20\n",
    "    x = range(-π, π; length=20)\n",
    "    noise = 0.3randn(n)\n",
    "    y = sin.(x) + noise\n",
    "    X = hcat((x.^k for k in 0:3)...)\n",
    "    b = X\\y\n",
    "    f(x) = sum(b[k+1]*x^k for k in 0:3)\n",
    "    xs = range(-π, π; length=400)\n",
    "    plot(; legend=:topleft)\n",
    "    scatter!(x, y; label=\"sample\")\n",
    "    plot!(xs, sin.(xs); label=\"sin(x)\", color=:blue, ls=:dash)\n",
    "    plot!(xs, f.(xs); label=\"degree-3 polynomial\", color=:red, lw=2)\n",
    "end"
   ]
  },
  {
   "cell_type": "code",
   "execution_count": 26,
   "metadata": {},
   "outputs": [
    {
     "data": {
      "image/svg+xml": [
       "<?xml version=\"1.0\" encoding=\"utf-8\"?>\n",
       "<svg xmlns=\"http://www.w3.org/2000/svg\" xmlns:xlink=\"http://www.w3.org/1999/xlink\" width=\"600\" height=\"400\" viewBox=\"0 0 2400 1600\">\n",
       "<defs>\n",
       "  <clipPath id=\"clip760\">\n",
       "    <rect x=\"0\" y=\"0\" width=\"2400\" height=\"1600\"/>\n",
       "  </clipPath>\n",
       "</defs>\n",
       "<path clip-path=\"url(#clip760)\" d=\"\n",
       "M0 1600 L2400 1600 L2400 0 L0 0  Z\n",
       "  \" fill=\"#ffffff\" fill-rule=\"evenodd\" fill-opacity=\"1\"/>\n",
       "<defs>\n",
       "  <clipPath id=\"clip761\">\n",
       "    <rect x=\"480\" y=\"0\" width=\"1681\" height=\"1600\"/>\n",
       "  </clipPath>\n",
       "</defs>\n",
       "<path clip-path=\"url(#clip760)\" d=\"\n",
       "M179.654 1486.45 L2352.76 1486.45 L2352.76 47.2441 L179.654 47.2441  Z\n",
       "  \" fill=\"#ffffff\" fill-rule=\"evenodd\" fill-opacity=\"1\"/>\n",
       "<defs>\n",
       "  <clipPath id=\"clip762\">\n",
       "    <rect x=\"179\" y=\"47\" width=\"2174\" height=\"1440\"/>\n",
       "  </clipPath>\n",
       "</defs>\n",
       "<polyline clip-path=\"url(#clip762)\" style=\"stroke:#000000; stroke-width:2; stroke-opacity:0.1; fill:none\" points=\"\n",
       "  287.356,1486.45 287.356,47.2441 \n",
       "  \"/>\n",
       "<polyline clip-path=\"url(#clip762)\" style=\"stroke:#000000; stroke-width:2; stroke-opacity:0.1; fill:none\" points=\"\n",
       "  613.639,1486.45 613.639,47.2441 \n",
       "  \"/>\n",
       "<polyline clip-path=\"url(#clip762)\" style=\"stroke:#000000; stroke-width:2; stroke-opacity:0.1; fill:none\" points=\"\n",
       "  939.922,1486.45 939.922,47.2441 \n",
       "  \"/>\n",
       "<polyline clip-path=\"url(#clip762)\" style=\"stroke:#000000; stroke-width:2; stroke-opacity:0.1; fill:none\" points=\"\n",
       "  1266.2,1486.45 1266.2,47.2441 \n",
       "  \"/>\n",
       "<polyline clip-path=\"url(#clip762)\" style=\"stroke:#000000; stroke-width:2; stroke-opacity:0.1; fill:none\" points=\"\n",
       "  1592.49,1486.45 1592.49,47.2441 \n",
       "  \"/>\n",
       "<polyline clip-path=\"url(#clip762)\" style=\"stroke:#000000; stroke-width:2; stroke-opacity:0.1; fill:none\" points=\"\n",
       "  1918.77,1486.45 1918.77,47.2441 \n",
       "  \"/>\n",
       "<polyline clip-path=\"url(#clip762)\" style=\"stroke:#000000; stroke-width:2; stroke-opacity:0.1; fill:none\" points=\"\n",
       "  2245.05,1486.45 2245.05,47.2441 \n",
       "  \"/>\n",
       "<polyline clip-path=\"url(#clip760)\" style=\"stroke:#000000; stroke-width:4; stroke-opacity:1; fill:none\" points=\"\n",
       "  179.654,1486.45 2352.76,1486.45 \n",
       "  \"/>\n",
       "<polyline clip-path=\"url(#clip760)\" style=\"stroke:#000000; stroke-width:4; stroke-opacity:1; fill:none\" points=\"\n",
       "  287.356,1486.45 287.356,1469.18 \n",
       "  \"/>\n",
       "<polyline clip-path=\"url(#clip760)\" style=\"stroke:#000000; stroke-width:4; stroke-opacity:1; fill:none\" points=\"\n",
       "  613.639,1486.45 613.639,1469.18 \n",
       "  \"/>\n",
       "<polyline clip-path=\"url(#clip760)\" style=\"stroke:#000000; stroke-width:4; stroke-opacity:1; fill:none\" points=\"\n",
       "  939.922,1486.45 939.922,1469.18 \n",
       "  \"/>\n",
       "<polyline clip-path=\"url(#clip760)\" style=\"stroke:#000000; stroke-width:4; stroke-opacity:1; fill:none\" points=\"\n",
       "  1266.2,1486.45 1266.2,1469.18 \n",
       "  \"/>\n",
       "<polyline clip-path=\"url(#clip760)\" style=\"stroke:#000000; stroke-width:4; stroke-opacity:1; fill:none\" points=\"\n",
       "  1592.49,1486.45 1592.49,1469.18 \n",
       "  \"/>\n",
       "<polyline clip-path=\"url(#clip760)\" style=\"stroke:#000000; stroke-width:4; stroke-opacity:1; fill:none\" points=\"\n",
       "  1918.77,1486.45 1918.77,1469.18 \n",
       "  \"/>\n",
       "<polyline clip-path=\"url(#clip760)\" style=\"stroke:#000000; stroke-width:4; stroke-opacity:1; fill:none\" points=\"\n",
       "  2245.05,1486.45 2245.05,1469.18 \n",
       "  \"/>\n",
       "<path clip-path=\"url(#clip760)\" d=\"M 0 0 M259.335 1530.29 L289.011 1530.29 L289.011 1534.23 L259.335 1534.23 L259.335 1530.29 Z\" fill=\"#000000\" fill-rule=\"evenodd\" fill-opacity=\"1\" /><path clip-path=\"url(#clip760)\" d=\"M 0 0 M308.247 1528.49 Q311.603 1529.2 313.478 1531.47 Q315.377 1533.74 315.377 1537.07 Q315.377 1542.19 311.858 1544.99 Q308.34 1547.79 301.858 1547.79 Q299.682 1547.79 297.367 1547.35 Q295.076 1546.93 292.622 1546.08 L292.622 1541.56 Q294.566 1542.7 296.881 1543.28 Q299.196 1543.86 301.719 1543.86 Q306.117 1543.86 308.409 1542.12 Q310.724 1540.38 310.724 1537.07 Q310.724 1534.02 308.571 1532.31 Q306.441 1530.57 302.622 1530.57 L298.594 1530.57 L298.594 1526.73 L302.807 1526.73 Q306.256 1526.73 308.085 1525.36 Q309.914 1523.97 309.914 1521.38 Q309.914 1518.72 308.015 1517.31 Q306.14 1515.87 302.622 1515.87 Q300.701 1515.87 298.502 1516.29 Q296.303 1516.7 293.664 1517.58 L293.664 1513.42 Q296.326 1512.68 298.64 1512.31 Q300.978 1511.93 303.039 1511.93 Q308.363 1511.93 311.465 1514.37 Q314.566 1516.77 314.566 1520.89 Q314.566 1523.76 312.923 1525.75 Q311.279 1527.72 308.247 1528.49 Z\" fill=\"#000000\" fill-rule=\"evenodd\" fill-opacity=\"1\" /><path clip-path=\"url(#clip760)\" d=\"M 0 0 M586.093 1530.29 L615.768 1530.29 L615.768 1534.23 L586.093 1534.23 L586.093 1530.29 Z\" fill=\"#000000\" fill-rule=\"evenodd\" fill-opacity=\"1\" /><path clip-path=\"url(#clip760)\" d=\"M 0 0 M624.866 1543.18 L641.185 1543.18 L641.185 1547.12 L619.241 1547.12 L619.241 1543.18 Q621.903 1540.43 626.486 1535.8 Q631.092 1531.15 632.273 1529.81 Q634.518 1527.28 635.398 1525.55 Q636.301 1523.79 636.301 1522.1 Q636.301 1519.34 634.356 1517.61 Q632.435 1515.87 629.333 1515.87 Q627.134 1515.87 624.68 1516.63 Q622.25 1517.4 619.472 1518.95 L619.472 1514.23 Q622.296 1513.09 624.75 1512.51 Q627.204 1511.93 629.241 1511.93 Q634.611 1511.93 637.805 1514.62 Q641 1517.31 641 1521.8 Q641 1523.93 640.19 1525.85 Q639.403 1527.74 637.296 1530.34 Q636.717 1531.01 633.616 1534.23 Q630.514 1537.42 624.866 1543.18 Z\" fill=\"#000000\" fill-rule=\"evenodd\" fill-opacity=\"1\" /><path clip-path=\"url(#clip760)\" d=\"M 0 0 M912.19 1530.29 L941.866 1530.29 L941.866 1534.23 L912.19 1534.23 L912.19 1530.29 Z\" fill=\"#000000\" fill-rule=\"evenodd\" fill-opacity=\"1\" /><path clip-path=\"url(#clip760)\" d=\"M 0 0 M947.746 1543.18 L955.385 1543.18 L955.385 1516.82 L947.075 1518.49 L947.075 1514.23 L955.338 1512.56 L960.014 1512.56 L960.014 1543.18 L967.653 1543.18 L967.653 1547.12 L947.746 1547.12 L947.746 1543.18 Z\" fill=\"#000000\" fill-rule=\"evenodd\" fill-opacity=\"1\" /><path clip-path=\"url(#clip760)\" d=\"M 0 0 M1266.2 1515.64 Q1262.59 1515.64 1260.77 1519.2 Q1258.96 1522.75 1258.96 1529.87 Q1258.96 1536.98 1260.77 1540.55 Q1262.59 1544.09 1266.2 1544.09 Q1269.84 1544.09 1271.64 1540.55 Q1273.47 1536.98 1273.47 1529.87 Q1273.47 1522.75 1271.64 1519.2 Q1269.84 1515.64 1266.2 1515.64 M1266.2 1511.93 Q1272.01 1511.93 1275.07 1516.54 Q1278.15 1521.12 1278.15 1529.87 Q1278.15 1538.6 1275.07 1543.21 Q1272.01 1547.79 1266.2 1547.79 Q1260.39 1547.79 1257.32 1543.21 Q1254.26 1538.6 1254.26 1529.87 Q1254.26 1521.12 1257.32 1516.54 Q1260.39 1511.93 1266.2 1511.93 Z\" fill=\"#000000\" fill-rule=\"evenodd\" fill-opacity=\"1\" /><path clip-path=\"url(#clip760)\" d=\"M 0 0 M1582.87 1543.18 L1590.51 1543.18 L1590.51 1516.82 L1582.2 1518.49 L1582.2 1514.23 L1590.46 1512.56 L1595.14 1512.56 L1595.14 1543.18 L1602.78 1543.18 L1602.78 1547.12 L1582.87 1547.12 L1582.87 1543.18 Z\" fill=\"#000000\" fill-rule=\"evenodd\" fill-opacity=\"1\" /><path clip-path=\"url(#clip760)\" d=\"M 0 0 M1913.42 1543.18 L1929.74 1543.18 L1929.74 1547.12 L1907.8 1547.12 L1907.8 1543.18 Q1910.46 1540.43 1915.04 1535.8 Q1919.65 1531.15 1920.83 1529.81 Q1923.08 1527.28 1923.96 1525.55 Q1924.86 1523.79 1924.86 1522.1 Q1924.86 1519.34 1922.91 1517.61 Q1920.99 1515.87 1917.89 1515.87 Q1915.69 1515.87 1913.24 1516.63 Q1910.81 1517.4 1908.03 1518.95 L1908.03 1514.23 Q1910.85 1513.09 1913.31 1512.51 Q1915.76 1511.93 1917.8 1511.93 Q1923.17 1511.93 1926.36 1514.62 Q1929.56 1517.31 1929.56 1521.8 Q1929.56 1523.93 1928.75 1525.85 Q1927.96 1527.74 1925.85 1530.34 Q1925.28 1531.01 1922.17 1534.23 Q1919.07 1537.42 1913.42 1543.18 Z\" fill=\"#000000\" fill-rule=\"evenodd\" fill-opacity=\"1\" /><path clip-path=\"url(#clip760)\" d=\"M 0 0 M2249.3 1528.49 Q2252.66 1529.2 2254.53 1531.47 Q2256.43 1533.74 2256.43 1537.07 Q2256.43 1542.19 2252.91 1544.99 Q2249.39 1547.79 2242.91 1547.79 Q2240.74 1547.79 2238.42 1547.35 Q2236.13 1546.93 2233.68 1546.08 L2233.68 1541.56 Q2235.62 1542.7 2237.94 1543.28 Q2240.25 1543.86 2242.77 1543.86 Q2247.17 1543.86 2249.46 1542.12 Q2251.78 1540.38 2251.78 1537.07 Q2251.78 1534.02 2249.63 1532.31 Q2247.5 1530.57 2243.68 1530.57 L2239.65 1530.57 L2239.65 1526.73 L2243.86 1526.73 Q2247.31 1526.73 2249.14 1525.36 Q2250.97 1523.97 2250.97 1521.38 Q2250.97 1518.72 2249.07 1517.31 Q2247.19 1515.87 2243.68 1515.87 Q2241.76 1515.87 2239.56 1516.29 Q2237.36 1516.7 2234.72 1517.58 L2234.72 1513.42 Q2237.38 1512.68 2239.69 1512.31 Q2242.03 1511.93 2244.09 1511.93 Q2249.42 1511.93 2252.52 1514.37 Q2255.62 1516.77 2255.62 1520.89 Q2255.62 1523.76 2253.98 1525.75 Q2252.33 1527.72 2249.3 1528.49 Z\" fill=\"#000000\" fill-rule=\"evenodd\" fill-opacity=\"1\" /><polyline clip-path=\"url(#clip762)\" style=\"stroke:#000000; stroke-width:2; stroke-opacity:0.1; fill:none\" points=\"\n",
       "  179.654,1367.05 2352.76,1367.05 \n",
       "  \"/>\n",
       "<polyline clip-path=\"url(#clip762)\" style=\"stroke:#000000; stroke-width:2; stroke-opacity:0.1; fill:none\" points=\"\n",
       "  179.654,1140.51 2352.76,1140.51 \n",
       "  \"/>\n",
       "<polyline clip-path=\"url(#clip762)\" style=\"stroke:#000000; stroke-width:2; stroke-opacity:0.1; fill:none\" points=\"\n",
       "  179.654,913.975 2352.76,913.975 \n",
       "  \"/>\n",
       "<polyline clip-path=\"url(#clip762)\" style=\"stroke:#000000; stroke-width:2; stroke-opacity:0.1; fill:none\" points=\"\n",
       "  179.654,687.436 2352.76,687.436 \n",
       "  \"/>\n",
       "<polyline clip-path=\"url(#clip762)\" style=\"stroke:#000000; stroke-width:2; stroke-opacity:0.1; fill:none\" points=\"\n",
       "  179.654,460.897 2352.76,460.897 \n",
       "  \"/>\n",
       "<polyline clip-path=\"url(#clip762)\" style=\"stroke:#000000; stroke-width:2; stroke-opacity:0.1; fill:none\" points=\"\n",
       "  179.654,234.357 2352.76,234.357 \n",
       "  \"/>\n",
       "<polyline clip-path=\"url(#clip760)\" style=\"stroke:#000000; stroke-width:4; stroke-opacity:1; fill:none\" points=\"\n",
       "  179.654,1486.45 179.654,47.2441 \n",
       "  \"/>\n",
       "<polyline clip-path=\"url(#clip760)\" style=\"stroke:#000000; stroke-width:4; stroke-opacity:1; fill:none\" points=\"\n",
       "  179.654,1367.05 205.731,1367.05 \n",
       "  \"/>\n",
       "<polyline clip-path=\"url(#clip760)\" style=\"stroke:#000000; stroke-width:4; stroke-opacity:1; fill:none\" points=\"\n",
       "  179.654,1140.51 205.731,1140.51 \n",
       "  \"/>\n",
       "<polyline clip-path=\"url(#clip760)\" style=\"stroke:#000000; stroke-width:4; stroke-opacity:1; fill:none\" points=\"\n",
       "  179.654,913.975 205.731,913.975 \n",
       "  \"/>\n",
       "<polyline clip-path=\"url(#clip760)\" style=\"stroke:#000000; stroke-width:4; stroke-opacity:1; fill:none\" points=\"\n",
       "  179.654,687.436 205.731,687.436 \n",
       "  \"/>\n",
       "<polyline clip-path=\"url(#clip760)\" style=\"stroke:#000000; stroke-width:4; stroke-opacity:1; fill:none\" points=\"\n",
       "  179.654,460.897 205.731,460.897 \n",
       "  \"/>\n",
       "<polyline clip-path=\"url(#clip760)\" style=\"stroke:#000000; stroke-width:4; stroke-opacity:1; fill:none\" points=\"\n",
       "  179.654,234.357 205.731,234.357 \n",
       "  \"/>\n",
       "<path clip-path=\"url(#clip760)\" d=\"M 0 0 M51.2236 1367.5 L80.8994 1367.5 L80.8994 1371.44 L51.2236 1371.44 L51.2236 1367.5 Z\" fill=\"#000000\" fill-rule=\"evenodd\" fill-opacity=\"1\" /><path clip-path=\"url(#clip760)\" d=\"M 0 0 M86.779 1380.4 L94.4178 1380.4 L94.4178 1354.03 L86.1077 1355.7 L86.1077 1351.44 L94.3715 1349.77 L99.0474 1349.77 L99.0474 1380.4 L106.686 1380.4 L106.686 1384.33 L86.779 1384.33 L86.779 1380.4 Z\" fill=\"#000000\" fill-rule=\"evenodd\" fill-opacity=\"1\" /><path clip-path=\"url(#clip760)\" d=\"M 0 0 M111.756 1378.45 L116.64 1378.45 L116.64 1384.33 L111.756 1384.33 L111.756 1378.45 Z\" fill=\"#000000\" fill-rule=\"evenodd\" fill-opacity=\"1\" /><path clip-path=\"url(#clip760)\" d=\"M 0 0 M131.709 1352.85 Q128.098 1352.85 126.27 1356.42 Q124.464 1359.96 124.464 1367.09 Q124.464 1374.19 126.27 1377.76 Q128.098 1381.3 131.709 1381.3 Q135.344 1381.3 137.149 1377.76 Q138.978 1374.19 138.978 1367.09 Q138.978 1359.96 137.149 1356.42 Q135.344 1352.85 131.709 1352.85 M131.709 1349.15 Q137.519 1349.15 140.575 1353.76 Q143.654 1358.34 143.654 1367.09 Q143.654 1375.82 140.575 1380.42 Q137.519 1385 131.709 1385 Q125.899 1385 122.82 1380.42 Q119.765 1375.82 119.765 1367.09 Q119.765 1358.34 122.82 1353.76 Q125.899 1349.15 131.709 1349.15 Z\" fill=\"#000000\" fill-rule=\"evenodd\" fill-opacity=\"1\" /><path clip-path=\"url(#clip760)\" d=\"M 0 0 M50.9921 1140.97 L80.6679 1140.97 L80.6679 1144.9 L50.9921 1144.9 L50.9921 1140.97 Z\" fill=\"#000000\" fill-rule=\"evenodd\" fill-opacity=\"1\" /><path clip-path=\"url(#clip760)\" d=\"M 0 0 M95.7373 1126.31 Q92.1262 1126.31 90.2975 1129.88 Q88.4919 1133.42 88.4919 1140.55 Q88.4919 1147.66 90.2975 1151.22 Q92.1262 1154.76 95.7373 1154.76 Q99.3715 1154.76 101.177 1151.22 Q103.006 1147.66 103.006 1140.55 Q103.006 1133.42 101.177 1129.88 Q99.3715 1126.31 95.7373 1126.31 M95.7373 1122.61 Q101.547 1122.61 104.603 1127.22 Q107.682 1131.8 107.682 1140.55 Q107.682 1149.28 104.603 1153.88 Q101.547 1158.47 95.7373 1158.47 Q89.9271 1158.47 86.8484 1153.88 Q83.7929 1149.28 83.7929 1140.55 Q83.7929 1131.8 86.8484 1127.22 Q89.9271 1122.61 95.7373 1122.61 Z\" fill=\"#000000\" fill-rule=\"evenodd\" fill-opacity=\"1\" /><path clip-path=\"url(#clip760)\" d=\"M 0 0 M112.751 1151.91 L117.635 1151.91 L117.635 1157.79 L112.751 1157.79 L112.751 1151.91 Z\" fill=\"#000000\" fill-rule=\"evenodd\" fill-opacity=\"1\" /><path clip-path=\"url(#clip760)\" d=\"M 0 0 M122.751 1123.23 L141.107 1123.23 L141.107 1127.17 L127.033 1127.17 L127.033 1135.64 Q128.052 1135.29 129.07 1135.13 Q130.089 1134.95 131.107 1134.95 Q136.894 1134.95 140.274 1138.12 Q143.654 1141.29 143.654 1146.71 Q143.654 1152.29 140.181 1155.39 Q136.709 1158.47 130.39 1158.47 Q128.214 1158.47 125.945 1158.1 Q123.7 1157.72 121.293 1156.98 L121.293 1152.29 Q123.376 1153.42 125.598 1153.97 Q127.82 1154.53 130.297 1154.53 Q134.302 1154.53 136.64 1152.42 Q138.978 1150.32 138.978 1146.71 Q138.978 1143.1 136.64 1140.99 Q134.302 1138.88 130.297 1138.88 Q128.422 1138.88 126.547 1139.3 Q124.695 1139.72 122.751 1140.6 L122.751 1123.23 Z\" fill=\"#000000\" fill-rule=\"evenodd\" fill-opacity=\"1\" /><path clip-path=\"url(#clip760)\" d=\"M 0 0 M94.7419 899.774 Q91.1308 899.774 89.3021 903.339 Q87.4966 906.88 87.4966 914.01 Q87.4966 921.116 89.3021 924.681 Q91.1308 928.223 94.7419 928.223 Q98.3761 928.223 100.182 924.681 Q102.01 921.116 102.01 914.01 Q102.01 906.88 100.182 903.339 Q98.3761 899.774 94.7419 899.774 M94.7419 896.07 Q100.552 896.07 103.608 900.677 Q106.686 905.26 106.686 914.01 Q106.686 922.737 103.608 927.343 Q100.552 931.926 94.7419 931.926 Q88.9317 931.926 85.8531 927.343 Q82.7975 922.737 82.7975 914.01 Q82.7975 905.26 85.8531 900.677 Q88.9317 896.07 94.7419 896.07 Z\" fill=\"#000000\" fill-rule=\"evenodd\" fill-opacity=\"1\" /><path clip-path=\"url(#clip760)\" d=\"M 0 0 M111.756 925.376 L116.64 925.376 L116.64 931.255 L111.756 931.255 L111.756 925.376 Z\" fill=\"#000000\" fill-rule=\"evenodd\" fill-opacity=\"1\" /><path clip-path=\"url(#clip760)\" d=\"M 0 0 M131.709 899.774 Q128.098 899.774 126.27 903.339 Q124.464 906.88 124.464 914.01 Q124.464 921.116 126.27 924.681 Q128.098 928.223 131.709 928.223 Q135.344 928.223 137.149 924.681 Q138.978 921.116 138.978 914.01 Q138.978 906.88 137.149 903.339 Q135.344 899.774 131.709 899.774 M131.709 896.07 Q137.519 896.07 140.575 900.677 Q143.654 905.26 143.654 914.01 Q143.654 922.737 140.575 927.343 Q137.519 931.926 131.709 931.926 Q125.899 931.926 122.82 927.343 Q119.765 922.737 119.765 914.01 Q119.765 905.26 122.82 900.677 Q125.899 896.07 131.709 896.07 Z\" fill=\"#000000\" fill-rule=\"evenodd\" fill-opacity=\"1\" /><path clip-path=\"url(#clip760)\" d=\"M 0 0 M95.7373 673.235 Q92.1262 673.235 90.2975 676.799 Q88.4919 680.341 88.4919 687.471 Q88.4919 694.577 90.2975 698.142 Q92.1262 701.683 95.7373 701.683 Q99.3715 701.683 101.177 698.142 Q103.006 694.577 103.006 687.471 Q103.006 680.341 101.177 676.799 Q99.3715 673.235 95.7373 673.235 M95.7373 669.531 Q101.547 669.531 104.603 674.137 Q107.682 678.721 107.682 687.471 Q107.682 696.197 104.603 700.804 Q101.547 705.387 95.7373 705.387 Q89.9271 705.387 86.8484 700.804 Q83.7929 696.197 83.7929 687.471 Q83.7929 678.721 86.8484 674.137 Q89.9271 669.531 95.7373 669.531 Z\" fill=\"#000000\" fill-rule=\"evenodd\" fill-opacity=\"1\" /><path clip-path=\"url(#clip760)\" d=\"M 0 0 M112.751 698.836 L117.635 698.836 L117.635 704.716 L112.751 704.716 L112.751 698.836 Z\" fill=\"#000000\" fill-rule=\"evenodd\" fill-opacity=\"1\" /><path clip-path=\"url(#clip760)\" d=\"M 0 0 M122.751 670.156 L141.107 670.156 L141.107 674.091 L127.033 674.091 L127.033 682.563 Q128.052 682.216 129.07 682.054 Q130.089 681.869 131.107 681.869 Q136.894 681.869 140.274 685.04 Q143.654 688.211 143.654 693.628 Q143.654 699.207 140.181 702.308 Q136.709 705.387 130.39 705.387 Q128.214 705.387 125.945 705.017 Q123.7 704.646 121.293 703.906 L121.293 699.207 Q123.376 700.341 125.598 700.896 Q127.82 701.452 130.297 701.452 Q134.302 701.452 136.64 699.346 Q138.978 697.239 138.978 693.628 Q138.978 690.017 136.64 687.91 Q134.302 685.804 130.297 685.804 Q128.422 685.804 126.547 686.221 Q124.695 686.637 122.751 687.517 L122.751 670.156 Z\" fill=\"#000000\" fill-rule=\"evenodd\" fill-opacity=\"1\" /><path clip-path=\"url(#clip760)\" d=\"M 0 0 M86.779 474.241 L94.4178 474.241 L94.4178 447.876 L86.1077 449.543 L86.1077 445.283 L94.3715 443.617 L99.0474 443.617 L99.0474 474.241 L106.686 474.241 L106.686 478.177 L86.779 478.177 L86.779 474.241 Z\" fill=\"#000000\" fill-rule=\"evenodd\" fill-opacity=\"1\" /><path clip-path=\"url(#clip760)\" d=\"M 0 0 M111.756 472.297 L116.64 472.297 L116.64 478.177 L111.756 478.177 L111.756 472.297 Z\" fill=\"#000000\" fill-rule=\"evenodd\" fill-opacity=\"1\" /><path clip-path=\"url(#clip760)\" d=\"M 0 0 M131.709 446.695 Q128.098 446.695 126.27 450.26 Q124.464 453.802 124.464 460.931 Q124.464 468.038 126.27 471.603 Q128.098 475.144 131.709 475.144 Q135.344 475.144 137.149 471.603 Q138.978 468.038 138.978 460.931 Q138.978 453.802 137.149 450.26 Q135.344 446.695 131.709 446.695 M131.709 442.992 Q137.519 442.992 140.575 447.598 Q143.654 452.181 143.654 460.931 Q143.654 469.658 140.575 474.265 Q137.519 478.848 131.709 478.848 Q125.899 478.848 122.82 474.265 Q119.765 469.658 119.765 460.931 Q119.765 452.181 122.82 447.598 Q125.899 442.992 131.709 442.992 Z\" fill=\"#000000\" fill-rule=\"evenodd\" fill-opacity=\"1\" /><path clip-path=\"url(#clip760)\" d=\"M 0 0 M87.7743 247.702 L95.4132 247.702 L95.4132 221.337 L87.103 223.003 L87.103 218.744 L95.3669 217.077 L100.043 217.077 L100.043 247.702 L107.682 247.702 L107.682 251.637 L87.7743 251.637 L87.7743 247.702 Z\" fill=\"#000000\" fill-rule=\"evenodd\" fill-opacity=\"1\" /><path clip-path=\"url(#clip760)\" d=\"M 0 0 M112.751 245.758 L117.635 245.758 L117.635 251.637 L112.751 251.637 L112.751 245.758 Z\" fill=\"#000000\" fill-rule=\"evenodd\" fill-opacity=\"1\" /><path clip-path=\"url(#clip760)\" d=\"M 0 0 M122.751 217.077 L141.107 217.077 L141.107 221.013 L127.033 221.013 L127.033 229.485 Q128.052 229.138 129.07 228.975 Q130.089 228.79 131.107 228.79 Q136.894 228.79 140.274 231.962 Q143.654 235.133 143.654 240.549 Q143.654 246.128 140.181 249.23 Q136.709 252.309 130.39 252.309 Q128.214 252.309 125.945 251.938 Q123.7 251.568 121.293 250.827 L121.293 246.128 Q123.376 247.262 125.598 247.818 Q127.82 248.374 130.297 248.374 Q134.302 248.374 136.64 246.267 Q138.978 244.161 138.978 240.549 Q138.978 236.938 136.64 234.832 Q134.302 232.725 130.297 232.725 Q128.422 232.725 126.547 233.142 Q124.695 233.559 122.751 234.438 L122.751 217.077 Z\" fill=\"#000000\" fill-rule=\"evenodd\" fill-opacity=\"1\" /><circle clip-path=\"url(#clip762)\" cx=\"241.157\" cy=\"608.595\" r=\"14\" fill=\"#009af9\" fill-rule=\"evenodd\" fill-opacity=\"1\" stroke=\"#000000\" stroke-opacity=\"1\" stroke-width=\"3.2\"/>\n",
       "<circle clip-path=\"url(#clip762)\" cx=\"349.056\" cy=\"1230.37\" r=\"14\" fill=\"#009af9\" fill-rule=\"evenodd\" fill-opacity=\"1\" stroke=\"#000000\" stroke-opacity=\"1\" stroke-width=\"3.2\"/>\n",
       "<circle clip-path=\"url(#clip762)\" cx=\"456.956\" cy=\"1047.87\" r=\"14\" fill=\"#009af9\" fill-rule=\"evenodd\" fill-opacity=\"1\" stroke=\"#000000\" stroke-opacity=\"1\" stroke-width=\"3.2\"/>\n",
       "<circle clip-path=\"url(#clip762)\" cx=\"564.856\" cy=\"1271.03\" r=\"14\" fill=\"#009af9\" fill-rule=\"evenodd\" fill-opacity=\"1\" stroke=\"#000000\" stroke-opacity=\"1\" stroke-width=\"3.2\"/>\n",
       "<circle clip-path=\"url(#clip762)\" cx=\"672.756\" cy=\"1445.72\" r=\"14\" fill=\"#009af9\" fill-rule=\"evenodd\" fill-opacity=\"1\" stroke=\"#000000\" stroke-opacity=\"1\" stroke-width=\"3.2\"/>\n",
       "<circle clip-path=\"url(#clip762)\" cx=\"780.656\" cy=\"1158.32\" r=\"14\" fill=\"#009af9\" fill-rule=\"evenodd\" fill-opacity=\"1\" stroke=\"#000000\" stroke-opacity=\"1\" stroke-width=\"3.2\"/>\n",
       "<circle clip-path=\"url(#clip762)\" cx=\"888.555\" cy=\"1401.62\" r=\"14\" fill=\"#009af9\" fill-rule=\"evenodd\" fill-opacity=\"1\" stroke=\"#000000\" stroke-opacity=\"1\" stroke-width=\"3.2\"/>\n",
       "<circle clip-path=\"url(#clip762)\" cx=\"996.455\" cy=\"1253.56\" r=\"14\" fill=\"#009af9\" fill-rule=\"evenodd\" fill-opacity=\"1\" stroke=\"#000000\" stroke-opacity=\"1\" stroke-width=\"3.2\"/>\n",
       "<circle clip-path=\"url(#clip762)\" cx=\"1104.36\" cy=\"909.271\" r=\"14\" fill=\"#009af9\" fill-rule=\"evenodd\" fill-opacity=\"1\" stroke=\"#000000\" stroke-opacity=\"1\" stroke-width=\"3.2\"/>\n",
       "<circle clip-path=\"url(#clip762)\" cx=\"1212.25\" cy=\"1174.2\" r=\"14\" fill=\"#009af9\" fill-rule=\"evenodd\" fill-opacity=\"1\" stroke=\"#000000\" stroke-opacity=\"1\" stroke-width=\"3.2\"/>\n",
       "<circle clip-path=\"url(#clip762)\" cx=\"1320.15\" cy=\"854.772\" r=\"14\" fill=\"#009af9\" fill-rule=\"evenodd\" fill-opacity=\"1\" stroke=\"#000000\" stroke-opacity=\"1\" stroke-width=\"3.2\"/>\n",
       "<circle clip-path=\"url(#clip762)\" cx=\"1428.05\" cy=\"409.025\" r=\"14\" fill=\"#009af9\" fill-rule=\"evenodd\" fill-opacity=\"1\" stroke=\"#000000\" stroke-opacity=\"1\" stroke-width=\"3.2\"/>\n",
       "<circle clip-path=\"url(#clip762)\" cx=\"1535.95\" cy=\"620.901\" r=\"14\" fill=\"#009af9\" fill-rule=\"evenodd\" fill-opacity=\"1\" stroke=\"#000000\" stroke-opacity=\"1\" stroke-width=\"3.2\"/>\n",
       "<circle clip-path=\"url(#clip762)\" cx=\"1643.85\" cy=\"87.9763\" r=\"14\" fill=\"#009af9\" fill-rule=\"evenodd\" fill-opacity=\"1\" stroke=\"#000000\" stroke-opacity=\"1\" stroke-width=\"3.2\"/>\n",
       "<circle clip-path=\"url(#clip762)\" cx=\"1751.75\" cy=\"502.274\" r=\"14\" fill=\"#009af9\" fill-rule=\"evenodd\" fill-opacity=\"1\" stroke=\"#000000\" stroke-opacity=\"1\" stroke-width=\"3.2\"/>\n",
       "<circle clip-path=\"url(#clip762)\" cx=\"1859.65\" cy=\"687.149\" r=\"14\" fill=\"#009af9\" fill-rule=\"evenodd\" fill-opacity=\"1\" stroke=\"#000000\" stroke-opacity=\"1\" stroke-width=\"3.2\"/>\n",
       "<circle clip-path=\"url(#clip762)\" cx=\"1967.55\" cy=\"607.45\" r=\"14\" fill=\"#009af9\" fill-rule=\"evenodd\" fill-opacity=\"1\" stroke=\"#000000\" stroke-opacity=\"1\" stroke-width=\"3.2\"/>\n",
       "<circle clip-path=\"url(#clip762)\" cx=\"2075.45\" cy=\"543.78\" r=\"14\" fill=\"#009af9\" fill-rule=\"evenodd\" fill-opacity=\"1\" stroke=\"#000000\" stroke-opacity=\"1\" stroke-width=\"3.2\"/>\n",
       "<circle clip-path=\"url(#clip762)\" cx=\"2183.35\" cy=\"613.231\" r=\"14\" fill=\"#009af9\" fill-rule=\"evenodd\" fill-opacity=\"1\" stroke=\"#000000\" stroke-opacity=\"1\" stroke-width=\"3.2\"/>\n",
       "<circle clip-path=\"url(#clip762)\" cx=\"2291.25\" cy=\"937.248\" r=\"14\" fill=\"#009af9\" fill-rule=\"evenodd\" fill-opacity=\"1\" stroke=\"#000000\" stroke-opacity=\"1\" stroke-width=\"3.2\"/>\n",
       "<polyline clip-path=\"url(#clip762)\" style=\"stroke:#0000ff; stroke-width:4; stroke-opacity:1; fill:none\" stroke-dasharray=\"16, 10\" points=\"\n",
       "  241.157,913.975 246.295,921.11 251.433,928.242 256.571,935.371 261.709,942.495 266.847,949.612 271.985,956.72 277.123,963.817 282.261,970.902 287.399,977.973 \n",
       "  292.537,985.028 297.676,992.066 302.814,999.084 307.952,1006.08 313.09,1013.05 318.228,1020 323.366,1026.93 328.504,1033.82 333.642,1040.69 338.78,1047.52 \n",
       "  343.918,1054.32 349.056,1061.09 354.194,1067.82 359.333,1074.51 364.471,1081.16 369.609,1087.77 374.747,1094.34 379.885,1100.86 385.023,1107.34 390.161,1113.77 \n",
       "  395.299,1120.15 400.437,1126.47 405.575,1132.75 410.713,1138.97 415.851,1145.13 420.99,1151.24 426.128,1157.29 431.266,1163.28 436.404,1169.2 441.542,1175.07 \n",
       "  446.68,1180.86 451.818,1186.6 456.956,1192.26 462.094,1197.86 467.232,1203.38 472.37,1208.84 477.509,1214.22 482.647,1219.52 487.785,1224.75 492.923,1229.91 \n",
       "  498.061,1234.98 503.199,1239.98 508.337,1244.89 513.475,1249.72 518.613,1254.47 523.751,1259.13 528.889,1263.71 534.027,1268.21 539.166,1272.61 544.304,1276.93 \n",
       "  549.442,1281.15 554.58,1285.29 559.718,1289.33 564.856,1293.28 569.994,1297.13 575.132,1300.89 580.27,1304.56 585.408,1308.12 590.546,1311.59 595.685,1314.96 \n",
       "  600.823,1318.24 605.961,1321.41 611.099,1324.48 616.237,1327.45 621.375,1330.31 626.513,1333.08 631.651,1335.73 636.789,1338.29 641.927,1340.74 647.065,1343.08 \n",
       "  652.203,1345.32 657.342,1347.45 662.48,1349.47 667.618,1351.38 672.756,1353.19 677.894,1354.89 683.032,1356.47 688.17,1357.95 693.308,1359.32 698.446,1360.58 \n",
       "  703.584,1361.72 708.722,1362.76 713.861,1363.68 718.999,1364.5 724.137,1365.2 729.275,1365.79 734.413,1366.26 739.551,1366.63 744.689,1366.88 749.827,1367.02 \n",
       "  754.965,1367.05 760.103,1366.97 765.241,1366.77 770.379,1366.46 775.518,1366.04 780.656,1365.51 785.794,1364.86 790.932,1364.1 796.07,1363.24 801.208,1362.26 \n",
       "  806.346,1361.16 811.484,1359.96 816.622,1358.65 821.76,1357.23 826.898,1355.69 832.036,1354.05 837.175,1352.3 842.313,1350.44 847.451,1348.47 852.589,1346.4 \n",
       "  857.727,1344.21 862.865,1341.92 868.003,1339.53 873.141,1337.02 878.279,1334.42 883.417,1331.71 888.555,1328.89 893.694,1325.97 898.832,1322.96 903.97,1319.83 \n",
       "  909.108,1316.61 914.246,1313.29 919.384,1309.87 924.522,1306.35 929.66,1302.74 934.798,1299.02 939.936,1295.22 945.074,1291.31 950.212,1287.32 955.351,1283.23 \n",
       "  960.489,1279.05 965.627,1274.78 970.765,1270.42 975.903,1265.97 981.041,1261.44 986.179,1256.81 991.317,1252.11 996.455,1247.32 1001.59,1242.44 1006.73,1237.49 \n",
       "  1011.87,1232.45 1017.01,1227.34 1022.15,1222.15 1027.28,1216.88 1032.42,1211.54 1037.56,1206.12 1042.7,1200.63 1047.84,1195.07 1052.97,1189.44 1058.11,1183.74 \n",
       "  1063.25,1177.97 1068.39,1172.14 1073.53,1166.25 1078.66,1160.29 1083.8,1154.27 1088.94,1148.19 1094.08,1142.06 1099.22,1135.86 1104.36,1129.62 1109.49,1123.32 \n",
       "  1114.63,1116.96 1119.77,1110.56 1124.91,1104.11 1130.05,1097.61 1135.18,1091.06 1140.32,1084.47 1145.46,1077.84 1150.6,1071.17 1155.74,1064.46 1160.87,1057.71 \n",
       "  1166.01,1050.93 1171.15,1044.11 1176.29,1037.26 1181.43,1030.38 1186.56,1023.47 1191.7,1016.53 1196.84,1009.57 1201.98,1002.58 1207.12,995.577 1212.25,988.549 \n",
       "  1217.39,981.503 1222.53,974.44 1227.67,967.362 1232.81,960.27 1237.95,953.167 1243.08,946.055 1248.22,938.934 1253.36,931.807 1258.5,924.676 1263.64,917.542 \n",
       "  1268.77,910.408 1273.91,903.274 1279.05,896.143 1284.19,889.016 1289.33,881.895 1294.46,874.783 1299.6,867.68 1304.74,860.589 1309.88,853.51 1315.02,846.447 \n",
       "  1320.15,839.401 1325.29,832.373 1330.43,825.365 1335.57,818.379 1340.71,811.417 1345.85,804.481 1350.98,797.571 1356.12,790.691 1361.26,783.841 1366.4,777.023 \n",
       "  1371.54,770.239 1376.67,763.491 1381.81,756.78 1386.95,750.109 1392.09,743.477 1397.23,736.889 1402.36,730.344 1407.5,723.844 1412.64,717.392 1417.78,710.988 \n",
       "  1422.92,704.635 1428.05,698.334 1433.19,692.086 1438.33,685.893 1443.47,679.757 1448.61,673.678 1453.74,667.66 1458.88,661.702 1464.02,655.807 1469.16,649.976 \n",
       "  1474.3,644.211 1479.44,638.512 1484.57,632.882 1489.71,627.321 1494.85,621.832 1499.99,616.415 1505.13,611.072 1510.26,605.803 1515.4,600.612 1520.54,595.498 \n",
       "  1525.68,590.463 1530.82,585.508 1535.95,580.634 1541.09,575.844 1546.23,571.137 1551.37,566.515 1556.51,561.979 1561.64,557.531 1566.78,553.171 1571.92,548.9 \n",
       "  1577.06,544.72 1582.2,540.632 1587.34,536.636 1592.47,532.734 1597.61,528.926 1602.75,525.214 1607.89,521.598 1613.03,518.079 1618.16,514.659 1623.3,511.337 \n",
       "  1628.44,508.116 1633.58,504.995 1638.72,501.975 1643.85,499.058 1648.99,496.243 1654.13,493.533 1659.27,490.926 1664.41,488.424 1669.54,486.028 1674.68,483.738 \n",
       "  1679.82,481.555 1684.96,479.479 1690.1,477.51 1695.23,475.65 1700.37,473.899 1705.51,472.256 1710.65,470.723 1715.79,469.301 1720.93,467.988 1726.06,466.786 \n",
       "  1731.2,465.695 1736.34,464.715 1741.48,463.846 1746.62,463.089 1751.75,462.444 1756.89,461.911 1762.03,461.49 1767.17,461.181 1772.31,460.984 1777.44,460.9 \n",
       "  1782.58,460.928 1787.72,461.069 1792.86,461.321 1798,461.686 1803.13,462.164 1808.27,462.753 1813.41,463.454 1818.55,464.267 1823.69,465.191 1828.83,466.226 \n",
       "  1833.96,467.373 1839.1,468.63 1844.24,469.998 1849.38,471.476 1854.52,473.064 1859.65,474.761 1864.79,476.567 1869.93,478.481 1875.07,480.503 1880.21,482.633 \n",
       "  1885.34,484.87 1890.48,487.213 1895.62,489.662 1900.76,492.216 1905.9,494.875 1911.03,497.638 1916.17,500.504 1921.31,503.472 1926.45,506.543 1931.59,509.714 \n",
       "  1936.73,512.985 1941.86,516.357 1947,519.826 1952.14,523.393 1957.28,527.058 1962.42,530.818 1967.55,534.673 1972.69,538.622 1977.83,542.665 1982.97,546.799 \n",
       "  1988.11,551.024 1993.24,555.34 1998.38,559.744 2003.52,564.236 2008.66,568.815 2013.8,573.48 2018.93,578.229 2024.07,583.061 2029.21,587.975 2034.35,592.97 \n",
       "  2039.49,598.045 2044.62,603.198 2049.76,608.428 2054.9,613.734 2060.04,619.114 2065.18,624.568 2070.32,630.093 2075.45,635.689 2080.59,641.353 2085.73,647.085 \n",
       "  2090.87,652.884 2096.01,658.747 2101.14,664.673 2106.28,670.662 2111.42,676.71 2116.56,682.818 2121.7,688.982 2126.83,695.203 2131.97,701.478 2137.11,707.805 \n",
       "  2142.25,714.184 2147.39,720.612 2152.52,727.088 2157.66,733.61 2162.8,740.178 2167.94,746.788 2173.08,753.44 2178.22,760.131 2183.35,766.861 2188.49,773.627 \n",
       "  2193.63,780.428 2198.77,787.262 2203.91,794.127 2209.04,801.023 2214.18,807.946 2219.32,814.895 2224.46,821.869 2229.6,828.866 2234.73,835.884 2239.87,842.922 \n",
       "  2245.01,849.977 2250.15,857.048 2255.29,864.133 2260.42,871.23 2265.56,878.338 2270.7,885.455 2275.84,892.579 2280.98,899.708 2286.11,906.841 2291.25,913.975 \n",
       "  \n",
       "  \"/>\n",
       "<polyline clip-path=\"url(#clip762)\" style=\"stroke:#ff0000; stroke-width:8; stroke-opacity:1; fill:none\" points=\"\n",
       "  241.157,735.12 246.295,749.684 251.433,764.04 256.571,778.188 261.709,792.13 266.847,805.867 271.985,819.4 277.123,832.729 282.261,845.857 287.399,858.783 \n",
       "  292.537,871.509 297.676,884.036 302.814,896.366 307.952,908.498 313.09,920.435 318.228,932.177 323.366,943.725 328.504,955.08 333.642,966.244 338.78,977.217 \n",
       "  343.918,988.001 349.056,998.596 354.194,1009 359.333,1019.22 364.471,1029.26 369.609,1039.11 374.747,1048.78 379.885,1058.27 385.023,1067.57 390.161,1076.69 \n",
       "  395.299,1085.64 400.437,1094.41 405.575,1103 410.713,1111.41 415.851,1119.65 420.99,1127.72 426.128,1135.61 431.266,1143.33 436.404,1150.88 441.542,1158.26 \n",
       "  446.68,1165.47 451.818,1172.51 456.956,1179.39 462.094,1186.1 467.232,1192.65 472.37,1199.03 477.509,1205.26 482.647,1211.32 487.785,1217.22 492.923,1222.96 \n",
       "  498.061,1228.54 503.199,1233.96 508.337,1239.23 513.475,1244.34 518.613,1249.3 523.751,1254.11 528.889,1258.77 534.027,1263.27 539.166,1267.62 544.304,1271.83 \n",
       "  549.442,1275.88 554.58,1279.79 559.718,1283.56 564.856,1287.18 569.994,1290.66 575.132,1293.99 580.27,1297.18 585.408,1300.23 590.546,1303.15 595.685,1305.92 \n",
       "  600.823,1308.56 605.961,1311.06 611.099,1313.42 616.237,1315.65 621.375,1317.75 626.513,1319.71 631.651,1321.55 636.789,1323.25 641.927,1324.83 647.065,1326.28 \n",
       "  652.203,1327.6 657.342,1328.79 662.48,1329.86 667.618,1330.81 672.756,1331.63 677.894,1332.33 683.032,1332.91 688.17,1333.37 693.308,1333.72 698.446,1333.94 \n",
       "  703.584,1334.05 708.722,1334.04 713.861,1333.92 718.999,1333.69 724.137,1333.34 729.275,1332.88 734.413,1332.31 739.551,1331.64 744.689,1330.85 749.827,1329.96 \n",
       "  754.965,1328.96 760.103,1327.86 765.241,1326.65 770.379,1325.34 775.518,1323.93 780.656,1322.41 785.794,1320.8 790.932,1319.09 796.07,1317.28 801.208,1315.37 \n",
       "  806.346,1313.37 811.484,1311.28 816.622,1309.09 821.76,1306.8 826.898,1304.43 832.036,1301.97 837.175,1299.41 842.313,1296.77 847.451,1294.04 852.589,1291.23 \n",
       "  857.727,1288.33 862.865,1285.35 868.003,1282.28 873.141,1279.13 878.279,1275.9 883.417,1272.59 888.555,1269.2 893.694,1265.73 898.832,1262.19 903.97,1258.57 \n",
       "  909.108,1254.88 914.246,1251.11 919.384,1247.27 924.522,1243.36 929.66,1239.38 934.798,1235.33 939.936,1231.2 945.074,1227.02 950.212,1222.76 955.351,1218.44 \n",
       "  960.489,1214.06 965.627,1209.61 970.765,1205.11 975.903,1200.54 981.041,1195.91 986.179,1191.22 991.317,1186.47 996.455,1181.67 1001.59,1176.81 1006.73,1171.89 \n",
       "  1011.87,1166.92 1017.01,1161.9 1022.15,1156.83 1027.28,1151.7 1032.42,1146.53 1037.56,1141.31 1042.7,1136.04 1047.84,1130.72 1052.97,1125.36 1058.11,1119.96 \n",
       "  1063.25,1114.51 1068.39,1109.02 1073.53,1103.48 1078.66,1097.91 1083.8,1092.3 1088.94,1086.65 1094.08,1080.96 1099.22,1075.24 1104.36,1069.48 1109.49,1063.68 \n",
       "  1114.63,1057.86 1119.77,1052 1124.91,1046.11 1130.05,1040.19 1135.18,1034.25 1140.32,1028.27 1145.46,1022.27 1150.6,1016.25 1155.74,1010.19 1160.87,1004.12 \n",
       "  1166.01,998.021 1171.15,991.903 1176.29,985.763 1181.43,979.605 1186.56,973.428 1191.7,967.234 1196.84,961.023 1201.98,954.798 1207.12,948.558 1212.25,942.305 \n",
       "  1217.39,936.04 1222.53,929.765 1227.67,923.479 1232.81,917.184 1237.95,910.882 1243.08,904.572 1248.22,898.257 1253.36,891.937 1258.5,885.614 1263.64,879.287 \n",
       "  1268.77,872.96 1273.91,866.631 1279.05,860.303 1284.19,853.977 1289.33,847.653 1294.46,841.333 1299.6,835.018 1304.74,828.708 1309.88,822.405 1315.02,816.109 \n",
       "  1320.15,809.823 1325.29,803.547 1330.43,797.281 1335.57,791.027 1340.71,784.787 1345.85,778.56 1350.98,772.349 1356.12,766.154 1361.26,759.976 1366.4,753.816 \n",
       "  1371.54,747.675 1376.67,741.555 1381.81,735.456 1386.95,729.38 1392.09,723.327 1397.23,717.298 1402.36,711.296 1407.5,705.319 1412.64,699.371 1417.78,693.451 \n",
       "  1422.92,687.56 1428.05,681.701 1433.19,675.873 1438.33,670.078 1443.47,664.318 1448.61,658.592 1453.74,652.902 1458.88,647.249 1464.02,641.634 1469.16,636.058 \n",
       "  1474.3,630.523 1479.44,625.028 1484.57,619.576 1489.71,614.168 1494.85,608.803 1499.99,603.484 1505.13,598.212 1510.26,592.987 1515.4,587.81 1520.54,582.683 \n",
       "  1525.68,577.607 1530.82,572.582 1535.95,567.61 1541.09,562.692 1546.23,557.828 1551.37,553.02 1556.51,548.27 1561.64,543.577 1566.78,538.943 1571.92,534.369 \n",
       "  1577.06,529.856 1582.2,525.405 1587.34,521.018 1592.47,516.694 1597.61,512.436 1602.75,508.244 1607.89,504.12 1613.03,500.064 1618.16,496.077 1623.3,492.161 \n",
       "  1628.44,488.316 1633.58,484.544 1638.72,480.845 1643.85,477.221 1648.99,473.672 1654.13,470.201 1659.27,466.807 1664.41,463.492 1669.54,460.257 1674.68,457.102 \n",
       "  1679.82,454.03 1684.96,451.04 1690.1,448.135 1695.23,445.315 1700.37,442.581 1705.51,439.934 1710.65,437.375 1715.79,434.905 1720.93,432.526 1726.06,430.238 \n",
       "  1731.2,428.042 1736.34,425.94 1741.48,423.933 1746.62,422.021 1751.75,420.205 1756.89,418.487 1762.03,416.868 1767.17,415.348 1772.31,413.929 1777.44,412.612 \n",
       "  1782.58,411.398 1787.72,410.288 1792.86,409.282 1798,408.383 1803.13,407.59 1808.27,406.906 1813.41,406.33 1818.55,405.865 1823.69,405.511 1828.83,405.269 \n",
       "  1833.96,405.141 1839.1,405.126 1844.24,405.228 1849.38,405.445 1854.52,405.78 1859.65,406.234 1864.79,406.807 1869.93,407.5 1875.07,408.315 1880.21,409.253 \n",
       "  1885.34,410.315 1890.48,411.501 1895.62,412.813 1900.76,414.252 1905.9,415.819 1911.03,417.515 1916.17,419.341 1921.31,421.298 1926.45,423.387 1931.59,425.609 \n",
       "  1936.73,427.965 1941.86,430.456 1947,433.084 1952.14,435.849 1957.28,438.752 1962.42,441.794 1967.55,444.977 1972.69,448.302 1977.83,451.769 1982.97,455.379 \n",
       "  1988.11,459.135 1993.24,463.035 1998.38,467.083 2003.52,471.278 2008.66,475.622 2013.8,480.116 2018.93,484.761 2024.07,489.557 2029.21,494.507 2034.35,499.61 \n",
       "  2039.49,504.869 2044.62,510.283 2049.76,515.855 2054.9,521.585 2060.04,527.474 2065.18,533.524 2070.32,539.735 2075.45,546.108 2080.59,552.644 2085.73,559.345 \n",
       "  2090.87,566.212 2096.01,573.245 2101.14,580.445 2106.28,587.814 2111.42,595.353 2116.56,603.062 2121.7,610.944 2126.83,618.998 2131.97,627.226 2137.11,635.628 \n",
       "  2142.25,644.207 2147.39,652.963 2152.52,661.896 2157.66,671.009 2162.8,680.302 2167.94,689.776 2173.08,699.432 2178.22,709.272 2183.35,719.295 2188.49,729.504 \n",
       "  2193.63,739.9 2198.77,750.483 2203.91,761.254 2209.04,772.215 2214.18,783.366 2219.32,794.709 2224.46,806.245 2229.6,817.974 2234.73,829.898 2239.87,842.017 \n",
       "  2245.01,854.334 2250.15,866.848 2255.29,879.562 2260.42,892.475 2265.56,905.589 2270.7,918.905 2275.84,932.425 2280.98,946.148 2286.11,960.077 2291.25,974.212 \n",
       "  \n",
       "  \"/>\n",
       "<path clip-path=\"url(#clip760)\" d=\"\n",
       "M252.09 337.138 L923.174 337.138 L923.174 95.2176 L252.09 95.2176  Z\n",
       "  \" fill=\"#ffffff\" fill-rule=\"evenodd\" fill-opacity=\"1\"/>\n",
       "<polyline clip-path=\"url(#clip760)\" style=\"stroke:#000000; stroke-width:4; stroke-opacity:1; fill:none\" points=\"\n",
       "  252.09,337.138 923.174,337.138 923.174,95.2176 252.09,95.2176 252.09,337.138 \n",
       "  \"/>\n",
       "<circle clip-path=\"url(#clip760)\" cx=\"348.673\" cy=\"155.698\" r=\"23\" fill=\"#009af9\" fill-rule=\"evenodd\" fill-opacity=\"1\" stroke=\"#000000\" stroke-opacity=\"1\" stroke-width=\"5.12\"/>\n",
       "<path clip-path=\"url(#clip760)\" d=\"M 0 0 M463.681 147.816 L463.681 151.843 Q461.875 150.917 459.931 150.455 Q457.986 149.992 455.903 149.992 Q452.732 149.992 451.135 150.964 Q449.561 151.936 449.561 153.88 Q449.561 155.362 450.695 156.218 Q451.829 157.052 455.255 157.816 L456.713 158.14 Q461.25 159.112 463.148 160.894 Q465.07 162.654 465.07 165.825 Q465.07 169.436 462.199 171.542 Q459.352 173.649 454.352 173.649 Q452.269 173.649 450 173.232 Q447.755 172.839 445.255 172.028 L445.255 167.63 Q447.616 168.857 449.908 169.482 Q452.199 170.084 454.445 170.084 Q457.454 170.084 459.074 169.066 Q460.695 168.024 460.695 166.149 Q460.695 164.413 459.514 163.487 Q458.357 162.561 454.399 161.704 L452.917 161.357 Q448.959 160.524 447.199 158.811 Q445.44 157.075 445.44 154.066 Q445.44 150.408 448.033 148.418 Q450.625 146.427 455.394 146.427 Q457.755 146.427 459.838 146.774 Q461.922 147.121 463.681 147.816 Z\" fill=\"#000000\" fill-rule=\"evenodd\" fill-opacity=\"1\" /><path clip-path=\"url(#clip760)\" d=\"M 0 0 M481.32 159.945 Q476.158 159.945 474.167 161.126 Q472.176 162.306 472.176 165.154 Q472.176 167.422 473.658 168.765 Q475.162 170.084 477.732 170.084 Q481.273 170.084 483.403 167.584 Q485.556 165.061 485.556 160.894 L485.556 159.945 L481.32 159.945 M489.815 158.186 L489.815 172.978 L485.556 172.978 L485.556 169.042 Q484.097 171.403 481.922 172.538 Q479.746 173.649 476.597 173.649 Q472.616 173.649 470.255 171.427 Q467.917 169.181 467.917 165.431 Q467.917 161.056 470.834 158.834 Q473.773 156.612 479.584 156.612 L485.556 156.612 L485.556 156.195 Q485.556 153.255 483.611 151.658 Q481.69 150.038 478.195 150.038 Q475.972 150.038 473.866 150.57 Q471.76 151.103 469.815 152.167 L469.815 148.232 Q472.153 147.33 474.352 146.89 Q476.551 146.427 478.635 146.427 Q484.259 146.427 487.037 149.343 Q489.815 152.26 489.815 158.186 Z\" fill=\"#000000\" fill-rule=\"evenodd\" fill-opacity=\"1\" /><path clip-path=\"url(#clip760)\" d=\"M 0 0 M514.468 152.029 Q516.065 149.158 518.287 147.793 Q520.509 146.427 523.519 146.427 Q527.569 146.427 529.768 149.274 Q531.968 152.098 531.968 157.329 L531.968 172.978 L527.685 172.978 L527.685 157.468 Q527.685 153.742 526.366 151.936 Q525.046 150.13 522.338 150.13 Q519.028 150.13 517.107 152.33 Q515.185 154.529 515.185 158.325 L515.185 172.978 L510.903 172.978 L510.903 157.468 Q510.903 153.718 509.583 151.936 Q508.264 150.13 505.509 150.13 Q502.245 150.13 500.324 152.353 Q498.403 154.552 498.403 158.325 L498.403 172.978 L494.121 172.978 L494.121 147.052 L498.403 147.052 L498.403 151.08 Q499.861 148.695 501.898 147.561 Q503.935 146.427 506.736 146.427 Q509.56 146.427 511.528 147.862 Q513.519 149.297 514.468 152.029 Z\" fill=\"#000000\" fill-rule=\"evenodd\" fill-opacity=\"1\" /><path clip-path=\"url(#clip760)\" d=\"M 0 0 M540.555 169.089 L540.555 182.839 L536.273 182.839 L536.273 147.052 L540.555 147.052 L540.555 150.987 Q541.898 148.672 543.935 147.561 Q545.995 146.427 548.842 146.427 Q553.565 146.427 556.504 150.177 Q559.467 153.927 559.467 160.038 Q559.467 166.149 556.504 169.899 Q553.565 173.649 548.842 173.649 Q545.995 173.649 543.935 172.538 Q541.898 171.403 540.555 169.089 M555.046 160.038 Q555.046 155.339 553.102 152.677 Q551.18 149.992 547.801 149.992 Q544.421 149.992 542.477 152.677 Q540.555 155.339 540.555 160.038 Q540.555 164.737 542.477 167.422 Q544.421 170.084 547.801 170.084 Q551.18 170.084 553.102 167.422 Q555.046 164.737 555.046 160.038 Z\" fill=\"#000000\" fill-rule=\"evenodd\" fill-opacity=\"1\" /><path clip-path=\"url(#clip760)\" d=\"M 0 0 M563.935 136.959 L568.194 136.959 L568.194 172.978 L563.935 172.978 L563.935 136.959 Z\" fill=\"#000000\" fill-rule=\"evenodd\" fill-opacity=\"1\" /><path clip-path=\"url(#clip760)\" d=\"M 0 0 M594.838 158.95 L594.838 161.033 L575.254 161.033 Q575.532 165.431 577.893 167.746 Q580.277 170.038 584.514 170.038 Q586.967 170.038 589.259 169.436 Q591.574 168.834 593.842 167.63 L593.842 171.658 Q591.551 172.63 589.143 173.14 Q586.736 173.649 584.259 173.649 Q578.055 173.649 574.421 170.038 Q570.81 166.427 570.81 160.269 Q570.81 153.904 574.236 150.177 Q577.685 146.427 583.518 146.427 Q588.75 146.427 591.782 149.806 Q594.838 153.163 594.838 158.95 M590.578 157.7 Q590.532 154.205 588.611 152.121 Q586.713 150.038 583.564 150.038 Q580 150.038 577.847 152.052 Q575.717 154.066 575.393 157.723 L590.578 157.7 Z\" fill=\"#000000\" fill-rule=\"evenodd\" fill-opacity=\"1\" /><polyline clip-path=\"url(#clip760)\" style=\"stroke:#0000ff; stroke-width:4; stroke-opacity:1; fill:none\" stroke-dasharray=\"16, 10\" points=\"\n",
       "  276.236,216.178 421.109,216.178 \n",
       "  \"/>\n",
       "<path clip-path=\"url(#clip760)\" d=\"M 0 0 M463.681 208.296 L463.681 212.323 Q461.875 211.397 459.931 210.935 Q457.986 210.472 455.903 210.472 Q452.732 210.472 451.135 211.444 Q449.561 212.416 449.561 214.36 Q449.561 215.842 450.695 216.698 Q451.829 217.532 455.255 218.296 L456.713 218.62 Q461.25 219.592 463.148 221.374 Q465.07 223.134 465.07 226.305 Q465.07 229.916 462.199 232.022 Q459.352 234.129 454.352 234.129 Q452.269 234.129 450 233.712 Q447.755 233.319 445.255 232.508 L445.255 228.11 Q447.616 229.337 449.908 229.962 Q452.199 230.564 454.445 230.564 Q457.454 230.564 459.074 229.546 Q460.695 228.504 460.695 226.629 Q460.695 224.893 459.514 223.967 Q458.357 223.041 454.399 222.184 L452.917 221.837 Q448.959 221.004 447.199 219.291 Q445.44 217.555 445.44 214.546 Q445.44 210.888 448.033 208.898 Q450.625 206.907 455.394 206.907 Q457.755 206.907 459.838 207.254 Q461.922 207.601 463.681 208.296 Z\" fill=\"#000000\" fill-rule=\"evenodd\" fill-opacity=\"1\" /><path clip-path=\"url(#clip760)\" d=\"M 0 0 M469.537 207.532 L473.797 207.532 L473.797 233.458 L469.537 233.458 L469.537 207.532 M469.537 197.439 L473.797 197.439 L473.797 202.833 L469.537 202.833 L469.537 197.439 Z\" fill=\"#000000\" fill-rule=\"evenodd\" fill-opacity=\"1\" /><path clip-path=\"url(#clip760)\" d=\"M 0 0 M499.815 217.809 L499.815 233.458 L495.556 233.458 L495.556 217.948 Q495.556 214.268 494.121 212.439 Q492.685 210.61 489.815 210.61 Q486.366 210.61 484.375 212.81 Q482.384 215.009 482.384 218.805 L482.384 233.458 L478.102 233.458 L478.102 207.532 L482.384 207.532 L482.384 211.56 Q483.912 209.222 485.972 208.064 Q488.056 206.907 490.764 206.907 Q495.232 206.907 497.523 209.685 Q499.815 212.439 499.815 217.809 Z\" fill=\"#000000\" fill-rule=\"evenodd\" fill-opacity=\"1\" /><path clip-path=\"url(#clip760)\" d=\"M 0 0 M514.514 197.486 Q511.412 202.81 509.907 208.018 Q508.403 213.226 508.403 218.573 Q508.403 223.921 509.907 229.175 Q511.435 234.407 514.514 239.708 L510.81 239.708 Q507.338 234.268 505.602 229.013 Q503.889 223.759 503.889 218.573 Q503.889 213.411 505.602 208.18 Q507.315 202.948 510.81 197.486 L514.514 197.486 Z\" fill=\"#000000\" fill-rule=\"evenodd\" fill-opacity=\"1\" /><path clip-path=\"url(#clip760)\" d=\"M 0 0 M540.532 207.532 L531.157 220.147 L541.018 233.458 L535.995 233.458 L528.449 223.272 L520.903 233.458 L515.88 233.458 L525.949 219.893 L516.736 207.532 L521.759 207.532 L528.634 216.768 L535.509 207.532 L540.532 207.532 Z\" fill=\"#000000\" fill-rule=\"evenodd\" fill-opacity=\"1\" /><path clip-path=\"url(#clip760)\" d=\"M 0 0 M544.815 197.486 L548.518 197.486 Q551.991 202.948 553.704 208.18 Q555.44 213.411 555.44 218.573 Q555.44 223.759 553.704 229.013 Q551.991 234.268 548.518 239.708 L544.815 239.708 Q547.893 234.407 549.398 229.175 Q550.926 223.921 550.926 218.573 Q550.926 213.226 549.398 208.018 Q547.893 202.81 544.815 197.486 Z\" fill=\"#000000\" fill-rule=\"evenodd\" fill-opacity=\"1\" /><polyline clip-path=\"url(#clip760)\" style=\"stroke:#ff0000; stroke-width:4; stroke-opacity:1; fill:none\" points=\"\n",
       "  276.236,276.658 421.109,276.658 \n",
       "  \"/>\n",
       "<path clip-path=\"url(#clip760)\" d=\"M 0 0 M464.167 271.947 L464.167 257.919 L468.426 257.919 L468.426 293.938 L464.167 293.938 L464.167 290.049 Q462.824 292.363 460.764 293.498 Q458.727 294.609 455.857 294.609 Q451.158 294.609 448.195 290.859 Q445.255 287.109 445.255 280.998 Q445.255 274.887 448.195 271.137 Q451.158 267.387 455.857 267.387 Q458.727 267.387 460.764 268.521 Q462.824 269.632 464.167 271.947 M449.653 280.998 Q449.653 285.697 451.574 288.382 Q453.519 291.044 456.899 291.044 Q460.278 291.044 462.223 288.382 Q464.167 285.697 464.167 280.998 Q464.167 276.299 462.223 273.637 Q460.278 270.952 456.899 270.952 Q453.519 270.952 451.574 273.637 Q449.653 276.299 449.653 280.998 Z\" fill=\"#000000\" fill-rule=\"evenodd\" fill-opacity=\"1\" /><path clip-path=\"url(#clip760)\" d=\"M 0 0 M495.07 279.91 L495.07 281.993 L475.486 281.993 Q475.764 286.391 478.125 288.706 Q480.509 290.998 484.746 290.998 Q487.199 290.998 489.491 290.396 Q491.806 289.794 494.074 288.59 L494.074 292.618 Q491.783 293.59 489.375 294.1 Q486.968 294.609 484.491 294.609 Q478.287 294.609 474.653 290.998 Q471.042 287.387 471.042 281.229 Q471.042 274.864 474.468 271.137 Q477.917 267.387 483.75 267.387 Q488.982 267.387 492.014 270.766 Q495.07 274.123 495.07 279.91 M490.81 278.66 Q490.764 275.165 488.843 273.081 Q486.945 270.998 483.797 270.998 Q480.232 270.998 478.079 273.012 Q475.949 275.026 475.625 278.683 L490.81 278.66 Z\" fill=\"#000000\" fill-rule=\"evenodd\" fill-opacity=\"1\" /><path clip-path=\"url(#clip760)\" d=\"M 0 0 M516.597 280.674 Q516.597 276.044 514.676 273.498 Q512.778 270.952 509.329 270.952 Q505.903 270.952 503.982 273.498 Q502.083 276.044 502.083 280.674 Q502.083 285.28 503.982 287.826 Q505.903 290.373 509.329 290.373 Q512.778 290.373 514.676 287.826 Q516.597 285.28 516.597 280.674 M520.856 290.72 Q520.856 297.34 517.917 300.558 Q514.977 303.799 508.912 303.799 Q506.667 303.799 504.676 303.451 Q502.685 303.127 500.81 302.433 L500.81 298.289 Q502.685 299.308 504.514 299.794 Q506.343 300.28 508.241 300.28 Q512.431 300.28 514.514 298.081 Q516.597 295.905 516.597 291.484 L516.597 289.377 Q515.278 291.669 513.218 292.803 Q511.157 293.938 508.287 293.938 Q503.519 293.938 500.602 290.303 Q497.685 286.669 497.685 280.674 Q497.685 274.655 500.602 271.021 Q503.519 267.387 508.287 267.387 Q511.157 267.387 513.218 268.521 Q515.278 269.655 516.597 271.947 L516.597 268.012 L520.856 268.012 L520.856 290.72 Z\" fill=\"#000000\" fill-rule=\"evenodd\" fill-opacity=\"1\" /><path clip-path=\"url(#clip760)\" d=\"M 0 0 M540.347 271.993 Q539.63 271.577 538.773 271.391 Q537.94 271.183 536.921 271.183 Q533.31 271.183 531.366 273.544 Q529.444 275.882 529.444 280.28 L529.444 293.938 L525.162 293.938 L525.162 268.012 L529.444 268.012 L529.444 272.04 Q530.787 269.678 532.94 268.544 Q535.093 267.387 538.171 267.387 Q538.611 267.387 539.143 267.456 Q539.676 267.503 540.324 267.618 L540.347 271.993 Z\" fill=\"#000000\" fill-rule=\"evenodd\" fill-opacity=\"1\" /><path clip-path=\"url(#clip760)\" d=\"M 0 0 M565.949 279.91 L565.949 281.993 L546.366 281.993 Q546.643 286.391 549.004 288.706 Q551.389 290.998 555.625 290.998 Q558.079 290.998 560.37 290.396 Q562.685 289.794 564.953 288.59 L564.953 292.618 Q562.662 293.59 560.254 294.1 Q557.847 294.609 555.37 294.609 Q549.167 294.609 545.532 290.998 Q541.921 287.387 541.921 281.229 Q541.921 274.864 545.347 271.137 Q548.796 267.387 554.629 267.387 Q559.861 267.387 562.893 270.766 Q565.949 274.123 565.949 279.91 M561.69 278.66 Q561.643 275.165 559.722 273.081 Q557.824 270.998 554.676 270.998 Q551.111 270.998 548.958 273.012 Q546.829 275.026 546.505 278.683 L561.69 278.66 Z\" fill=\"#000000\" fill-rule=\"evenodd\" fill-opacity=\"1\" /><path clip-path=\"url(#clip760)\" d=\"M 0 0 M592.592 279.91 L592.592 281.993 L573.009 281.993 Q573.287 286.391 575.648 288.706 Q578.032 290.998 582.268 290.998 Q584.722 290.998 587.014 290.396 Q589.328 289.794 591.597 288.59 L591.597 292.618 Q589.305 293.59 586.898 294.1 Q584.49 294.609 582.014 294.609 Q575.81 294.609 572.176 290.998 Q568.565 287.387 568.565 281.229 Q568.565 274.864 571.99 271.137 Q575.44 267.387 581.273 267.387 Q586.504 267.387 589.537 270.766 Q592.592 274.123 592.592 279.91 M588.333 278.66 Q588.287 275.165 586.365 273.081 Q584.467 270.998 581.319 270.998 Q577.754 270.998 575.602 273.012 Q573.472 275.026 573.148 278.683 L588.333 278.66 Z\" fill=\"#000000\" fill-rule=\"evenodd\" fill-opacity=\"1\" /><path clip-path=\"url(#clip760)\" d=\"M 0 0 M594.907 279.053 L607.384 279.053 L607.384 282.85 L594.907 282.85 L594.907 279.053 Z\" fill=\"#000000\" fill-rule=\"evenodd\" fill-opacity=\"1\" /><path clip-path=\"url(#clip760)\" d=\"M 0 0 M626.62 275.303 Q629.976 276.021 631.851 278.289 Q633.749 280.558 633.749 283.891 Q633.749 289.007 630.231 291.808 Q626.712 294.609 620.231 294.609 Q618.055 294.609 615.74 294.169 Q613.449 293.752 610.995 292.896 L610.995 288.382 Q612.939 289.516 615.254 290.095 Q617.569 290.674 620.092 290.674 Q624.49 290.674 626.782 288.938 Q629.097 287.201 629.097 283.891 Q629.097 280.836 626.944 279.123 Q624.814 277.387 620.995 277.387 L616.967 277.387 L616.967 273.544 L621.18 273.544 Q624.629 273.544 626.458 272.178 Q628.286 270.79 628.286 268.197 Q628.286 265.535 626.388 264.123 Q624.513 262.688 620.995 262.688 Q619.074 262.688 616.875 263.104 Q614.675 263.521 612.037 264.401 L612.037 260.234 Q614.699 259.493 617.013 259.123 Q619.351 258.753 621.412 258.753 Q626.736 258.753 629.837 261.183 Q632.939 263.59 632.939 267.711 Q632.939 270.581 631.296 272.572 Q629.652 274.54 626.62 275.303 Z\" fill=\"#000000\" fill-rule=\"evenodd\" fill-opacity=\"1\" /><path clip-path=\"url(#clip760)\" d=\"M 0 0 M657.407 290.049 L657.407 303.799 L653.124 303.799 L653.124 268.012 L657.407 268.012 L657.407 271.947 Q658.749 269.632 660.786 268.521 Q662.846 267.387 665.694 267.387 Q670.416 267.387 673.356 271.137 Q676.319 274.887 676.319 280.998 Q676.319 287.109 673.356 290.859 Q670.416 294.609 665.694 294.609 Q662.846 294.609 660.786 293.498 Q658.749 292.363 657.407 290.049 M671.897 280.998 Q671.897 276.299 669.953 273.637 Q668.032 270.952 664.652 270.952 Q661.272 270.952 659.328 273.637 Q657.407 276.299 657.407 280.998 Q657.407 285.697 659.328 288.382 Q661.272 291.044 664.652 291.044 Q668.032 291.044 669.953 288.382 Q671.897 285.697 671.897 280.998 Z\" fill=\"#000000\" fill-rule=\"evenodd\" fill-opacity=\"1\" /><path clip-path=\"url(#clip760)\" d=\"M 0 0 M690.832 270.998 Q687.407 270.998 685.416 273.683 Q683.425 276.345 683.425 280.998 Q683.425 285.651 685.393 288.336 Q687.383 290.998 690.832 290.998 Q694.235 290.998 696.226 288.313 Q698.217 285.627 698.217 280.998 Q698.217 276.391 696.226 273.706 Q694.235 270.998 690.832 270.998 M690.832 267.387 Q696.388 267.387 699.559 270.998 Q702.731 274.609 702.731 280.998 Q702.731 287.364 699.559 290.998 Q696.388 294.609 690.832 294.609 Q685.254 294.609 682.082 290.998 Q678.934 287.364 678.934 280.998 Q678.934 274.609 682.082 270.998 Q685.254 267.387 690.832 267.387 Z\" fill=\"#000000\" fill-rule=\"evenodd\" fill-opacity=\"1\" /><path clip-path=\"url(#clip760)\" d=\"M 0 0 M707.198 257.919 L711.457 257.919 L711.457 293.938 L707.198 293.938 L707.198 257.919 Z\" fill=\"#000000\" fill-rule=\"evenodd\" fill-opacity=\"1\" /><path clip-path=\"url(#clip760)\" d=\"M 0 0 M726.712 296.345 Q724.906 300.975 723.193 302.387 Q721.48 303.799 718.61 303.799 L715.207 303.799 L715.207 300.234 L717.707 300.234 Q719.467 300.234 720.439 299.4 Q721.411 298.567 722.592 295.465 L723.355 293.521 L712.869 268.012 L717.383 268.012 L725.485 288.289 L733.587 268.012 L738.101 268.012 L726.712 296.345 Z\" fill=\"#000000\" fill-rule=\"evenodd\" fill-opacity=\"1\" /><path clip-path=\"url(#clip760)\" d=\"M 0 0 M764.119 278.289 L764.119 293.938 L759.86 293.938 L759.86 278.428 Q759.86 274.748 758.425 272.919 Q756.989 271.09 754.119 271.09 Q750.67 271.09 748.679 273.29 Q746.689 275.489 746.689 279.285 L746.689 293.938 L742.406 293.938 L742.406 268.012 L746.689 268.012 L746.689 272.04 Q748.216 269.702 750.277 268.544 Q752.36 267.387 755.068 267.387 Q759.536 267.387 761.827 270.165 Q764.119 272.919 764.119 278.289 Z\" fill=\"#000000\" fill-rule=\"evenodd\" fill-opacity=\"1\" /><path clip-path=\"url(#clip760)\" d=\"M 0 0 M778.633 270.998 Q775.207 270.998 773.216 273.683 Q771.226 276.345 771.226 280.998 Q771.226 285.651 773.193 288.336 Q775.184 290.998 778.633 290.998 Q782.036 290.998 784.026 288.313 Q786.017 285.627 786.017 280.998 Q786.017 276.391 784.026 273.706 Q782.036 270.998 778.633 270.998 M778.633 267.387 Q784.188 267.387 787.36 270.998 Q790.531 274.609 790.531 280.998 Q790.531 287.364 787.36 290.998 Q784.188 294.609 778.633 294.609 Q773.054 294.609 769.883 290.998 Q766.735 287.364 766.735 280.998 Q766.735 274.609 769.883 270.998 Q773.054 267.387 778.633 267.387 Z\" fill=\"#000000\" fill-rule=\"evenodd\" fill-opacity=\"1\" /><path clip-path=\"url(#clip760)\" d=\"M 0 0 M815.184 272.989 Q816.781 270.118 819.003 268.753 Q821.225 267.387 824.235 267.387 Q828.285 267.387 830.484 270.234 Q832.684 273.058 832.684 278.289 L832.684 293.938 L828.401 293.938 L828.401 278.428 Q828.401 274.702 827.082 272.896 Q825.762 271.09 823.054 271.09 Q819.744 271.09 817.822 273.29 Q815.901 275.489 815.901 279.285 L815.901 293.938 L811.619 293.938 L811.619 278.428 Q811.619 274.678 810.299 272.896 Q808.98 271.09 806.225 271.09 Q802.961 271.09 801.04 273.313 Q799.119 275.512 799.119 279.285 L799.119 293.938 L794.837 293.938 L794.837 268.012 L799.119 268.012 L799.119 272.04 Q800.577 269.655 802.614 268.521 Q804.651 267.387 807.452 267.387 Q810.276 267.387 812.244 268.822 Q814.235 270.257 815.184 272.989 Z\" fill=\"#000000\" fill-rule=\"evenodd\" fill-opacity=\"1\" /><path clip-path=\"url(#clip760)\" d=\"M 0 0 M837.151 268.012 L841.41 268.012 L841.41 293.938 L837.151 293.938 L837.151 268.012 M837.151 257.919 L841.41 257.919 L841.41 263.313 L837.151 263.313 L837.151 257.919 Z\" fill=\"#000000\" fill-rule=\"evenodd\" fill-opacity=\"1\" /><path clip-path=\"url(#clip760)\" d=\"M 0 0 M857.66 280.905 Q852.498 280.905 850.508 282.086 Q848.517 283.266 848.517 286.114 Q848.517 288.382 849.998 289.725 Q851.503 291.044 854.072 291.044 Q857.614 291.044 859.744 288.544 Q861.896 286.021 861.896 281.854 L861.896 280.905 L857.66 280.905 M866.156 279.146 L866.156 293.938 L861.896 293.938 L861.896 290.002 Q860.438 292.363 858.262 293.498 Q856.086 294.609 852.938 294.609 Q848.957 294.609 846.595 292.387 Q844.258 290.141 844.258 286.391 Q844.258 282.016 847.174 279.794 Q850.114 277.572 855.924 277.572 L861.896 277.572 L861.896 277.155 Q861.896 274.215 859.952 272.618 Q858.031 270.998 854.535 270.998 Q852.313 270.998 850.207 271.53 Q848.1 272.063 846.156 273.127 L846.156 269.192 Q848.494 268.29 850.693 267.85 Q852.892 267.387 854.975 267.387 Q860.6 267.387 863.378 270.303 Q866.156 273.22 866.156 279.146 Z\" fill=\"#000000\" fill-rule=\"evenodd\" fill-opacity=\"1\" /><path clip-path=\"url(#clip760)\" d=\"M 0 0 M870.623 257.919 L874.882 257.919 L874.882 293.938 L870.623 293.938 L870.623 257.919 Z\" fill=\"#000000\" fill-rule=\"evenodd\" fill-opacity=\"1\" /></svg>\n"
      ]
     },
     "execution_count": 26,
     "metadata": {},
     "output_type": "execute_result"
    }
   ],
   "source": [
    "@teval (:block, \n",
    "    (:using, (:., :Plots)), \n",
    "    (:(=), :n, 20), \n",
    "    (:(=), :x, (:range, (:parameters, (:kw, :length, 20)), (:-, :π), :π)), \n",
    "    (:(=), :noise, (:*, 0.3, (:randn, :n))), \n",
    "    (:(=), :y, (:+, (:., :sin, (:tuple, :x)), :noise)), \n",
    "    (:(=), :X, \n",
    "        (:hcat, (:..., (:generator, (:call, :.^, :x, :k), (:(=), :k, (:(:), 0, 3)))))), \n",
    "    (:(=), :b, (:\\, :X, :y)), \n",
    "    (:(=), (:call, :f, :x), \n",
    "        (:sum, (:generator, (:*, (:ref, :b, (:+, :k, 1)), (:^, :x, :k)), \n",
    "            (:(=), :k, (:(:), 0, 3))))), \n",
    "    (:(=), :xs, (:range, (:parameters, (:kw, :length, 400)), (:-, :π), :π)), \n",
    "    (:plot, (:parameters, (:kw, :legend, QuoteNode(:topleft)))), \n",
    "    (:scatter!, (:parameters, (:kw, :label, \"sample\")), :x, :y), \n",
    "    (:plot!, (:parameters, \n",
    "            (:kw, :label, \"sin(x)\"), \n",
    "            (:kw, :color, QuoteNode(:blue)), \n",
    "            (:kw, :ls, QuoteNode(:dash))), \n",
    "        :xs, (:., :sin, (:tuple, :xs))), \n",
    "    (:plot!, (:parameters, \n",
    "            (:kw, :label, \"degree-3 polynomial\"), \n",
    "            (:kw, :color, QuoteNode(:red)), \n",
    "            (:kw, :lw, 2)), \n",
    "        :xs, (:., :f, (:tuple, :xs))))"
   ]
  },
  {
   "cell_type": "code",
   "execution_count": 27,
   "metadata": {},
   "outputs": [
    {
     "data": {
      "text/markdown": [
       "```julia\n",
       "begin\n",
       "    using Plots\n",
       "    n = 20\n",
       "    x = range(-π, π; length = 20)\n",
       "    noise = 0.3 * randn(n)\n",
       "    y = sin.(x) + noise\n",
       "    X = hcat((x .^ k for k = 0:3)...)\n",
       "    b = X \\ y\n",
       "    f(x) = sum((b[k + 1] * x ^ k for k = 0:3))\n",
       "    xs = range(-π, π; length = 400)\n",
       "    plot(; legend = :topleft)\n",
       "    scatter!(x, y; label = \"sample\")\n",
       "    plot!(xs, sin.(xs); label = \"sin(x)\", color = :blue, ls = :dash)\n",
       "    plot!(xs, f.(xs); label = \"degree-3 polynomial\", color = :red, lw = 2)\n",
       "end\n",
       "```"
      ]
     },
     "metadata": {},
     "output_type": "display_data"
    }
   ],
   "source": [
    "(:block, \n",
    "    (:using, (:., :Plots)), \n",
    "    (:(=), :n, 20), \n",
    "    (:(=), :x, (:range, (:parameters, (:kw, :length, 20)), (:-, :π), :π)), \n",
    "    (:(=), :noise, (:*, 0.3, (:randn, :n))), \n",
    "    (:(=), :y, (:+, (:., :sin, (:tuple, :x)), :noise)), \n",
    "    (:(=), :X, \n",
    "        (:hcat, (:..., (:generator, (:call, :.^, :x, :k), (:(=), :k, (:(:), 0, 3)))))), \n",
    "    (:(=), :b, (:\\, :X, :y)), \n",
    "    (:(=), (:call, :f, :x), \n",
    "        (:sum, (:generator, (:*, (:ref, :b, (:+, :k, 1)), (:^, :x, :k)), \n",
    "            (:(=), :k, (:(:), 0, 3))))), \n",
    "    (:(=), :xs, (:range, (:parameters, (:kw, :length, 400)), (:-, :π), :π)), \n",
    "    (:plot, (:parameters, (:kw, :legend, QuoteNode(:topleft)))), \n",
    "    (:scatter!, (:parameters, (:kw, :label, \"sample\")), :x, :y), \n",
    "    (:plot!, (:parameters, \n",
    "            (:kw, :label, \"sin(x)\"), \n",
    "            (:kw, :color, QuoteNode(:blue)), \n",
    "            (:kw, :ls, QuoteNode(:dash))), \n",
    "        :xs, (:., :sin, (:tuple, :xs))), \n",
    "    (:plot!, (:parameters, \n",
    "            (:kw, :label, \"degree-3 polynomial\"), \n",
    "            (:kw, :color, QuoteNode(:red)), \n",
    "            (:kw, :lw, 2)), \n",
    "        :xs, (:., :f, (:tuple, :xs)))) |> texpr2expr |> \n",
    "x -> display(\"text/markdown\", \"```julia\\n$x\\n```\")"
   ]
  },
  {
   "cell_type": "markdown",
   "metadata": {},
   "source": [
    "## Documents"
   ]
  },
  {
   "cell_type": "code",
   "execution_count": 28,
   "metadata": {},
   "outputs": [
    {
     "data": {
      "text/latex": [
       "\\texttt{lambda} is a Lisp-like dummy function to be translated to Julia expression by \\texttt{lexpr2expr}.\n",
       "\n",
       "For example, \\texttt{lambda((x, y), f(x, y))(a, b)} is translated to\n",
       "\n",
       "\\begin{verbatim}\n",
       "let\n",
       "    x = a\n",
       "    y = b\n",
       "    f(x, y)\n",
       "end\n",
       "\\end{verbatim}\n",
       "\\texttt{lambda((x, y), f(x, y))} without arguments (a, b) is translated to\n",
       "\n",
       "\\begin{verbatim}\n",
       "(x, y) -> f(x, y)\n",
       "\\end{verbatim}\n"
      ],
      "text/markdown": [
       "`lambda` is a Lisp-like dummy function to be translated to Julia expression by `lexpr2expr`.\n",
       "\n",
       "For example, `lambda((x, y), f(x, y))(a, b)` is translated to\n",
       "\n",
       "```julia\n",
       "let\n",
       "    x = a\n",
       "    y = b\n",
       "    f(x, y)\n",
       "end\n",
       "```\n",
       "\n",
       "`lambda((x, y), f(x, y))` without arguments (a, b) is translated to\n",
       "\n",
       "```julia\n",
       "(x, y) -> f(x, y)\n",
       "```\n"
      ],
      "text/plain": [
       "  \u001b[36mlambda\u001b[39m is a Lisp-like dummy function to be translated to Julia expression by\n",
       "  \u001b[36mlexpr2expr\u001b[39m.\n",
       "\n",
       "  For example, \u001b[36mlambda((x, y), f(x, y))(a, b)\u001b[39m is translated to\n",
       "\n",
       "\u001b[36m  let\u001b[39m\n",
       "\u001b[36m      x = a\u001b[39m\n",
       "\u001b[36m      y = b\u001b[39m\n",
       "\u001b[36m      f(x, y)\u001b[39m\n",
       "\u001b[36m  end\u001b[39m\n",
       "\n",
       "  \u001b[36mlambda((x, y), f(x, y))\u001b[39m without arguments (a, b) is translated to\n",
       "\n",
       "\u001b[36m  (x, y) -> f(x, y)\u001b[39m"
      ]
     },
     "execution_count": 28,
     "metadata": {},
     "output_type": "execute_result"
    }
   ],
   "source": [
    "@doc lambda"
   ]
  },
  {
   "cell_type": "code",
   "execution_count": 29,
   "metadata": {},
   "outputs": [
    {
     "data": {
      "text/latex": [
       "\\texttt{cond} is a Lisp-like dummy function to be translated to Julia expression by \\texttt{lexpr2expr}.\n",
       "\n",
       "For example, \\texttt{cond((a, A), (b, B), (c, C))} is translated to\n",
       "\n",
       "\\begin{verbatim}\n",
       "if a\n",
       "    A\n",
       "elseif b\n",
       "    B\n",
       "elseif c\n",
       "    C\n",
       "end\n",
       "\\end{verbatim}\n"
      ],
      "text/markdown": [
       "`cond` is a Lisp-like dummy function to be translated to Julia expression by `lexpr2expr`.\n",
       "\n",
       "For example, `cond((a, A), (b, B), (c, C))` is translated to\n",
       "\n",
       "```julia\n",
       "if a\n",
       "    A\n",
       "elseif b\n",
       "    B\n",
       "elseif c\n",
       "    C\n",
       "end\n",
       "```\n"
      ],
      "text/plain": [
       "  \u001b[36mcond\u001b[39m is a Lisp-like dummy function to be translated to Julia expression by\n",
       "  \u001b[36mlexpr2expr\u001b[39m.\n",
       "\n",
       "  For example, \u001b[36mcond((a, A), (b, B), (c, C))\u001b[39m is translated to\n",
       "\n",
       "\u001b[36m  if a\u001b[39m\n",
       "\u001b[36m      A\u001b[39m\n",
       "\u001b[36m  elseif b\u001b[39m\n",
       "\u001b[36m      B\u001b[39m\n",
       "\u001b[36m  elseif c\u001b[39m\n",
       "\u001b[36m      C\u001b[39m\n",
       "\u001b[36m  end\u001b[39m"
      ]
     },
     "execution_count": 29,
     "metadata": {},
     "output_type": "execute_result"
    }
   ],
   "source": [
    "@doc cond"
   ]
  },
  {
   "cell_type": "code",
   "execution_count": 30,
   "metadata": {},
   "outputs": [
    {
     "data": {
      "text/latex": [
       "\\begin{verbatim}\n",
       "lexpr2expr(x)\n",
       "\\end{verbatim}\n",
       "translates a Lisp-like expression \\texttt{x} to the corresponding Julia expression.\n",
       "\n"
      ],
      "text/markdown": [
       "```\n",
       "lexpr2expr(x)\n",
       "```\n",
       "\n",
       "translates a Lisp-like expression `x` to the corresponding Julia expression.\n"
      ],
      "text/plain": [
       "\u001b[36m  lexpr2expr(x)\u001b[39m\n",
       "\n",
       "  translates a Lisp-like expression \u001b[36mx\u001b[39m to the corresponding Julia expression."
      ]
     },
     "execution_count": 30,
     "metadata": {},
     "output_type": "execute_result"
    }
   ],
   "source": [
    "@doc lexpr2expr"
   ]
  },
  {
   "cell_type": "code",
   "execution_count": 31,
   "metadata": {},
   "outputs": [
    {
     "data": {
      "text/latex": [
       "\\texttt{@lexpr2expr(x)} is the macro version of \\texttt{lexpr2expr(x)}.\n",
       "\n"
      ],
      "text/markdown": [
       "`@lexpr2expr(x)` is the macro version of `lexpr2expr(x)`.\n"
      ],
      "text/plain": [
       "  \u001b[36m@lexpr2expr(x)\u001b[39m is the macro version of \u001b[36mlexpr2expr(x)\u001b[39m."
      ]
     },
     "execution_count": 31,
     "metadata": {},
     "output_type": "execute_result"
    }
   ],
   "source": [
    "@doc @lexpr2expr"
   ]
  },
  {
   "cell_type": "code",
   "execution_count": 32,
   "metadata": {},
   "outputs": [
    {
     "data": {
      "text/latex": [
       "\\texttt{leval(x, m::Module=Main)} is the function version of \\texttt{@leval(x)}\n",
       "\n"
      ],
      "text/markdown": [
       "`leval(x, m::Module=Main)` is the function version of `@leval(x)`\n"
      ],
      "text/plain": [
       "  \u001b[36mleval(x, m::Module=Main)\u001b[39m is the function version of \u001b[36m@leval(x)\u001b[39m"
      ]
     },
     "execution_count": 32,
     "metadata": {},
     "output_type": "execute_result"
    }
   ],
   "source": [
    "@doc leval"
   ]
  },
  {
   "cell_type": "code",
   "execution_count": 33,
   "metadata": {},
   "outputs": [
    {
     "data": {
      "text/latex": [
       "\\begin{verbatim}\n",
       "@leval x\n",
       "\\end{verbatim}\n",
       "evaluates a Lisp-like expression \\texttt{x}.\n",
       "\n"
      ],
      "text/markdown": [
       "```\n",
       "@leval x\n",
       "```\n",
       "\n",
       "evaluates a Lisp-like expression `x`.\n"
      ],
      "text/plain": [
       "\u001b[36m  @leval x\u001b[39m\n",
       "\n",
       "  evaluates a Lisp-like expression \u001b[36mx\u001b[39m."
      ]
     },
     "execution_count": 33,
     "metadata": {},
     "output_type": "execute_result"
    }
   ],
   "source": [
    "@doc @leval"
   ]
  },
  {
   "cell_type": "code",
   "execution_count": 34,
   "metadata": {},
   "outputs": [
    {
     "data": {
      "text/latex": [
       "\\texttt{Nil} is the type of \\texttt{nil}.\n",
       "\n"
      ],
      "text/markdown": [
       "`Nil` is the type of `nil`.\n"
      ],
      "text/plain": [
       "  \u001b[36mNil\u001b[39m is the type of \u001b[36mnil\u001b[39m."
      ]
     },
     "execution_count": 34,
     "metadata": {},
     "output_type": "execute_result"
    }
   ],
   "source": [
    "@doc Nil"
   ]
  },
  {
   "cell_type": "code",
   "execution_count": 35,
   "metadata": {},
   "outputs": [
    {
     "data": {
      "text/latex": [
       "\\texttt{nil} is the singleton of type \\texttt{Nil} regarded as the Lisp-like nil.\n",
       "\n"
      ],
      "text/markdown": [
       "`nil` is the singleton of type `Nil` regarded as the Lisp-like nil.\n"
      ],
      "text/plain": [
       "  \u001b[36mnil\u001b[39m is the singleton of type \u001b[36mNil\u001b[39m regarded as the Lisp-like nil."
      ]
     },
     "execution_count": 35,
     "metadata": {},
     "output_type": "execute_result"
    }
   ],
   "source": [
    "@doc nil"
   ]
  },
  {
   "cell_type": "code",
   "execution_count": 36,
   "metadata": {},
   "outputs": [
    {
     "data": {
      "text/latex": [
       "\\texttt{null(x)} returns \\texttt{true} if x is equal to \\texttt{nil} and \\texttt{false} otherwise.\n",
       "\n"
      ],
      "text/markdown": [
       "`null(x)` returns `true` if x is equal to `nil` and `false` otherwise.\n"
      ],
      "text/plain": [
       "  \u001b[36mnull(x)\u001b[39m returns \u001b[36mtrue\u001b[39m if x is equal to \u001b[36mnil\u001b[39m and \u001b[36mfalse\u001b[39m otherwise."
      ]
     },
     "execution_count": 36,
     "metadata": {},
     "output_type": "execute_result"
    }
   ],
   "source": [
    "@doc null"
   ]
  },
  {
   "cell_type": "code",
   "execution_count": 37,
   "metadata": {},
   "outputs": [
    {
     "data": {
      "text/latex": [
       "\\texttt{eq(x, y)} returns \\texttt{true} if x is equal to y and false otherwise, where \\texttt{()} is considered to be equal to \\texttt{nil}.\n",
       "\n"
      ],
      "text/markdown": [
       "`eq(x, y)` returns `true` if x is equal to y and false otherwise, where `()` is considered to be equal to `nil`.\n"
      ],
      "text/plain": [
       "  \u001b[36meq(x, y)\u001b[39m returns \u001b[36mtrue\u001b[39m if x is equal to y and false otherwise, where \u001b[36m()\u001b[39m is\n",
       "  considered to be equal to \u001b[36mnil\u001b[39m."
      ]
     },
     "execution_count": 37,
     "metadata": {},
     "output_type": "execute_result"
    }
   ],
   "source": [
    "@doc eq"
   ]
  },
  {
   "cell_type": "code",
   "execution_count": 38,
   "metadata": {},
   "outputs": [
    {
     "data": {
      "text/latex": [
       "\\texttt{cons(x, y)} is a Lisp-like cons function.\n",
       "\n",
       "\\begin{itemize}\n",
       "\\item The S-expression (a b c d) is represented by the tuple (a, b, c, d).\n",
       "\n",
       "\n",
       "\\item The S-expression (a b c . d) is represented by the tuple (a, b, c=>d).\n",
       "\n",
       "\\end{itemize}\n"
      ],
      "text/markdown": [
       "`cons(x, y)` is a Lisp-like cons function.\n",
       "\n",
       "  * The S-expression (a b c d) is represented by the tuple (a, b, c, d).\n",
       "  * The S-expression (a b c . d) is represented by the tuple (a, b, c=>d).\n"
      ],
      "text/plain": [
       "  \u001b[36mcons(x, y)\u001b[39m is a Lisp-like cons function.\n",
       "\n",
       "    •    The S-expression (a b c d) is represented by the tuple (a, b, c,\n",
       "        d).\n",
       "\n",
       "    •    The S-expression (a b c . d) is represented by the tuple (a, b,\n",
       "        c=>d)."
      ]
     },
     "execution_count": 38,
     "metadata": {},
     "output_type": "execute_result"
    }
   ],
   "source": [
    "@doc cons"
   ]
  },
  {
   "cell_type": "code",
   "execution_count": 39,
   "metadata": {},
   "outputs": [
    {
     "data": {
      "text/latex": [
       "\\texttt{car(x)} is a Lisp-like car function.\n",
       "\n"
      ],
      "text/markdown": [
       "`car(x)` is a Lisp-like car function.\n"
      ],
      "text/plain": [
       "  \u001b[36mcar(x)\u001b[39m is a Lisp-like car function."
      ]
     },
     "execution_count": 39,
     "metadata": {},
     "output_type": "execute_result"
    }
   ],
   "source": [
    "@doc car"
   ]
  },
  {
   "cell_type": "code",
   "execution_count": 40,
   "metadata": {},
   "outputs": [
    {
     "data": {
      "text/latex": [
       "\\texttt{cdr(x)} is a Lisp-like cdr function.\n",
       "\n"
      ],
      "text/markdown": [
       "`cdr(x)` is a Lisp-like cdr function.\n"
      ],
      "text/plain": [
       "  \u001b[36mcdr(x)\u001b[39m is a Lisp-like cdr function."
      ]
     },
     "execution_count": 40,
     "metadata": {},
     "output_type": "execute_result"
    }
   ],
   "source": [
    "@doc cdr"
   ]
  },
  {
   "cell_type": "code",
   "execution_count": 41,
   "metadata": {},
   "outputs": [
    {
     "data": {
      "text/latex": [
       "\\texttt{caar(x)} is a Lisp-like caar function.\n",
       "\n"
      ],
      "text/markdown": [
       "`caar(x)` is a Lisp-like caar function.\n"
      ],
      "text/plain": [
       "  \u001b[36mcaar(x)\u001b[39m is a Lisp-like caar function."
      ]
     },
     "execution_count": 41,
     "metadata": {},
     "output_type": "execute_result"
    }
   ],
   "source": [
    "@doc caar"
   ]
  },
  {
   "cell_type": "code",
   "execution_count": 42,
   "metadata": {},
   "outputs": [
    {
     "data": {
      "text/latex": [
       "\\texttt{cadr(x)} is a Lisp-like cadr function.\n",
       "\n"
      ],
      "text/markdown": [
       "`cadr(x)` is a Lisp-like cadr function.\n"
      ],
      "text/plain": [
       "  \u001b[36mcadr(x)\u001b[39m is a Lisp-like cadr function."
      ]
     },
     "execution_count": 42,
     "metadata": {},
     "output_type": "execute_result"
    }
   ],
   "source": [
    "@doc cadr"
   ]
  },
  {
   "cell_type": "code",
   "execution_count": 43,
   "metadata": {},
   "outputs": [
    {
     "data": {
      "text/latex": [
       "\\texttt{cdar(x)} is a Lisp-like cdar function.\n",
       "\n"
      ],
      "text/markdown": [
       "`cdar(x)` is a Lisp-like cdar function.\n"
      ],
      "text/plain": [
       "  \u001b[36mcdar(x)\u001b[39m is a Lisp-like cdar function."
      ]
     },
     "execution_count": 43,
     "metadata": {},
     "output_type": "execute_result"
    }
   ],
   "source": [
    "@doc cdar"
   ]
  },
  {
   "cell_type": "code",
   "execution_count": 44,
   "metadata": {},
   "outputs": [
    {
     "data": {
      "text/latex": [
       "\\texttt{cddr(x)} is a Lisp-like cddr function.\n",
       "\n"
      ],
      "text/markdown": [
       "`cddr(x)` is a Lisp-like cddr function.\n"
      ],
      "text/plain": [
       "  \u001b[36mcddr(x)\u001b[39m is a Lisp-like cddr function."
      ]
     },
     "execution_count": 44,
     "metadata": {},
     "output_type": "execute_result"
    }
   ],
   "source": [
    "@doc cddr"
   ]
  },
  {
   "cell_type": "code",
   "execution_count": 45,
   "metadata": {},
   "outputs": [
    {
     "data": {
      "text/latex": [
       "\\texttt{list(x...)} is a Lisp-like list function.\n",
       "\n"
      ],
      "text/markdown": [
       "`list(x...)` is a Lisp-like list function.\n"
      ],
      "text/plain": [
       "  \u001b[36mlist(x...)\u001b[39m is a Lisp-like list function."
      ]
     },
     "execution_count": 45,
     "metadata": {},
     "output_type": "execute_result"
    }
   ],
   "source": [
    "@doc list"
   ]
  },
  {
   "cell_type": "code",
   "execution_count": null,
   "metadata": {},
   "outputs": [],
   "source": []
  }
 ],
 "metadata": {
  "@webio": {
   "lastCommId": null,
   "lastKernelId": null
  },
  "jupytext": {
   "formats": "ipynb,md"
  },
  "kernelspec": {
   "display_name": "Julia MKL depwarn -O3 1.5.2",
   "language": "julia",
   "name": "julia-mkl-depwarn--o3-1.5"
  },
  "language_info": {
   "file_extension": ".jl",
   "mimetype": "application/julia",
   "name": "julia",
   "version": "1.5.2"
  },
  "toc": {
   "base_numbering": 1,
   "nav_menu": {},
   "number_sections": true,
   "sideBar": true,
   "skip_h1_title": true,
   "title_cell": "Table of Contents",
   "title_sidebar": "Contents",
   "toc_cell": true,
   "toc_position": {},
   "toc_section_display": true,
   "toc_window_display": false
  }
 },
 "nbformat": 4,
 "nbformat_minor": 4
}
