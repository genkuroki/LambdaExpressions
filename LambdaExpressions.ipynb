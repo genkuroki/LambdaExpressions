{
 "cells": [
  {
   "cell_type": "code",
   "execution_count": 1,
   "metadata": {},
   "outputs": [
    {
     "name": "stderr",
     "output_type": "stream",
     "text": [
      "\u001b[32m\u001b[1m Activating\u001b[22m\u001b[39m environment at `C:\\Users\\genkuroki\\OneDrive\\work\\LambdaExpressions\\Project.toml`\n"
     ]
    }
   ],
   "source": [
    "if isfile(\"Project.toml\")\n",
    "    using Pkg\n",
    "    Pkg.activate(\".\")\n",
    "    using Revise\n",
    "end"
   ]
  },
  {
   "cell_type": "code",
   "execution_count": 2,
   "metadata": {},
   "outputs": [
    {
     "name": "stderr",
     "output_type": "stream",
     "text": [
      "┌ Info: Precompiling LambdaExpressions [d7f0caad-bf46-47fc-bf86-cd66e2e49ce6]\n",
      "└ @ Base loading.jl:1278\n"
     ]
    }
   ],
   "source": [
    "using LambdaExpressions\n",
    "using MetaUtils"
   ]
  },
  {
   "cell_type": "code",
   "execution_count": 3,
   "metadata": {},
   "outputs": [
    {
     "name": "stdout",
     "output_type": "stream",
     "text": [
      ":((lambda((x, y), sin(x) * y))(1, 2))\n",
      "\n",
      "(:call, \n",
      "    (:call, :lambda, \n",
      "        (:tuple, :x, :y), \n",
      "        (:call, :*, \n",
      "            (:call, :sin, :x), :y)), 1, 2)\n",
      "\n",
      ":(let\n",
      "      x = 1\n",
      "      y = 2\n",
      "      sin(x) * y\n",
      "  end)"
     ]
    },
    {
     "data": {
      "text/plain": [
       "1.682941969615793"
      ]
     },
     "execution_count": 3,
     "metadata": {},
     "output_type": "execute_result"
    }
   ],
   "source": [
    "expr = :(lambda((x, y), sin(x)*y)(1, 2))\n",
    "show(expr); println(\"\\n\")\n",
    "show_texpr(expr); println(\"\\n\")\n",
    "translate_lambda(expr) |> show\n",
    "@eval_lambda lambda((x, y), sin(x)*y)(1, 2)"
   ]
  },
  {
   "cell_type": "code",
   "execution_count": 4,
   "metadata": {},
   "outputs": [
    {
     "name": "stdout",
     "output_type": "stream",
     "text": [
      ":((lambda((f, x), f(x)))(lambda(x, if iszero(x)\n",
      "              1\n",
      "          else\n",
      "              x * f(x - 1)\n",
      "          end), 10))\n",
      "\n",
      "(:call, \n",
      "    (:call, :lambda, \n",
      "        (:tuple, :f, :x), \n",
      "        (:call, :f, :x)), \n",
      "    (:call, :lambda, :x, \n",
      "        (:if, \n",
      "            (:call, :iszero, :x), 1, \n",
      "            (:call, :*, :x, \n",
      "                (:call, :f, \n",
      "                    (:call, :-, :x, 1))))), 10)\n",
      "\n",
      ":(let\n",
      "      f = (x->if iszero(x)\n",
      "                  1\n",
      "              else\n",
      "                  x * f(x - 1)\n",
      "              end)\n",
      "      x = 10\n",
      "      f(x)\n",
      "  end)"
     ]
    },
    {
     "data": {
      "text/plain": [
       "3628800"
      ]
     },
     "execution_count": 4,
     "metadata": {},
     "output_type": "execute_result"
    }
   ],
   "source": [
    "expr = :(lambda((f, x), f(x))(lambda(x, iszero(x) ? 1 : x*f(x-1)), 10))\n",
    "show(expr); println(\"\\n\")\n",
    "show_texpr(expr); println(\"\\n\")\n",
    "translate_lambda(expr) |> show\n",
    "@eval_lambda lambda((f, x), f(x))(\n",
    "    lambda(x, iszero(x) ? 1 : x*f(x-1)),\n",
    "    10\n",
    ")"
   ]
  },
  {
   "cell_type": "code",
   "execution_count": 5,
   "metadata": {},
   "outputs": [
    {
     "data": {
      "text/plain": [
       "3628800"
      ]
     },
     "execution_count": 5,
     "metadata": {},
     "output_type": "execute_result"
    }
   ],
   "source": [
    "@eval_lambda lambda((f, x), f(x))(\n",
    "    x -> iszero(x) ? 1 : x*f(x-1),\n",
    "    10\n",
    ")"
   ]
  },
  {
   "cell_type": "code",
   "execution_count": 6,
   "metadata": {},
   "outputs": [
    {
     "name": "stdout",
     "output_type": "stream",
     "text": [
      "(:call, \n",
      "    (:call, :lambda, \n",
      "        (:tuple, :assoc, :k, :v), \n",
      "        (:call, :assoc, :k, :v)), \n",
      "    (:call, :lambda, \n",
      "        (:tuple, :k, :v), \n",
      "        (:if, \n",
      "            (:call, :eq, :v, :nil), :nil, \n",
      "            (:if, \n",
      "                (:call, :eq, \n",
      "                    (:call, :car, \n",
      "                        (:call, :car, :v)), :k), \n",
      "                (:call, :car, :v), \n",
      "                (:call, :assoc, :k, \n",
      "                    (:call, :cdr, :v))))), QuoteNode(:Orange), \n",
      "    (:tuple, \n",
      "        (:tuple, QuoteNode(:Apple), 120), \n",
      "        (:tuple, QuoteNode(:Orange), 210), \n",
      "        (:tuple, QuoteNode(:Lemmon), 180), :nil))"
     ]
    }
   ],
   "source": [
    "@show_texpr (lambda((assoc, k, v), assoc(k, v)))(\n",
    "    lambda((k, v), \n",
    "        eq(v, nil)         ? nil    :\n",
    "        eq(car(car(v)), k) ? car(v) :\n",
    "        assoc(k, cdr(v))),\n",
    "    :Orange,\n",
    "    ((:Apple, 120), (:Orange, 210), (:Lemmon, 180), nil))"
   ]
  },
  {
   "cell_type": "code",
   "execution_count": 7,
   "metadata": {},
   "outputs": [
    {
     "data": {
      "text/plain": [
       ":(let\n",
       "      assoc = ((k, v)->if eq(v, nil)\n",
       "                  nil\n",
       "              else\n",
       "                  if eq(car(car(v)), k)\n",
       "                      car(v)\n",
       "                  else\n",
       "                      assoc(k, cdr(v))\n",
       "                  end\n",
       "              end)\n",
       "      k = :Orange\n",
       "      v = ((:Apple, 120), (:Orange, 210), (:Lemmon, 180), nil)\n",
       "      assoc(k, v)\n",
       "  end)"
      ]
     },
     "execution_count": 7,
     "metadata": {},
     "output_type": "execute_result"
    }
   ],
   "source": [
    "@translate_lambda (lambda((assoc, k, v), assoc(k, v)))(\n",
    "    lambda((k, v), \n",
    "        eq(v, nil)         ? nil    :\n",
    "        eq(car(car(v)), k) ? car(v) :\n",
    "        assoc(k, cdr(v))),\n",
    "    :Orange,\n",
    "    ((:Apple, 120), (:Orange, 210), (:Lemmon, 180), nil))"
   ]
  },
  {
   "cell_type": "code",
   "execution_count": 8,
   "metadata": {},
   "outputs": [
    {
     "data": {
      "text/plain": [
       "(:Apple, 120)"
      ]
     },
     "execution_count": 8,
     "metadata": {},
     "output_type": "execute_result"
    }
   ],
   "source": [
    "@eval_lambda (lambda((assoc, k, v), assoc(k, v)))(\n",
    "    lambda((k, v), \n",
    "        eq(v, nil)         ? nil    :\n",
    "        eq(car(car(v)), k) ? car(v) :\n",
    "        assoc(k, cdr(v))),\n",
    "    :Apple,\n",
    "    ((:Apple, 120), (:Orange, 210), (:Lemmon, 180), nil))"
   ]
  },
  {
   "cell_type": "code",
   "execution_count": 9,
   "metadata": {},
   "outputs": [
    {
     "data": {
      "text/plain": [
       "(:Orange, 210)"
      ]
     },
     "execution_count": 9,
     "metadata": {},
     "output_type": "execute_result"
    }
   ],
   "source": [
    "@eval_lambda (lambda((assoc, k, v), assoc(k, v)))(\n",
    "    lambda((k, v), \n",
    "        eq(v, nil)         ? nil    :\n",
    "        eq(car(car(v)), k) ? car(v) :\n",
    "        assoc(k, cdr(v))),\n",
    "    :Orange,\n",
    "    ((:Apple, 120), (:Orange, 210), (:Lemmon, 180), nil))"
   ]
  },
  {
   "cell_type": "code",
   "execution_count": 10,
   "metadata": {},
   "outputs": [
    {
     "data": {
      "text/plain": [
       "(:Lemmon, 180)"
      ]
     },
     "execution_count": 10,
     "metadata": {},
     "output_type": "execute_result"
    }
   ],
   "source": [
    "@eval_lambda (lambda((assoc, k, v), assoc(k, v)))(\n",
    "    lambda((k, v), \n",
    "        eq(v, nil)         ? nil    :\n",
    "        eq(car(car(v)), k) ? car(v) :\n",
    "        assoc(k, cdr(v))),\n",
    "    :Lemmon,\n",
    "    ((:Apple, 120), (:Orange, 210), (:Lemmon, 180), nil))"
   ]
  },
  {
   "cell_type": "code",
   "execution_count": 11,
   "metadata": {},
   "outputs": [
    {
     "data": {
      "text/plain": [
       "nil"
      ]
     },
     "execution_count": 11,
     "metadata": {},
     "output_type": "execute_result"
    }
   ],
   "source": [
    "@eval_lambda (lambda((assoc, k, v), assoc(k, v)))(\n",
    "    lambda((k, v), \n",
    "        eq(v, nil)         ? nil    :\n",
    "        eq(car(car(v)), k) ? car(v) :\n",
    "        assoc(k, cdr(v))),\n",
    "    :Melon,\n",
    "    ((:Apple, 120), (:Orange, 210), (:Lemmon, 180), nil))"
   ]
  },
  {
   "cell_type": "code",
   "execution_count": 12,
   "metadata": {},
   "outputs": [
    {
     "data": {
      "text/plain": [
       "texpr_exmaple4 (generic function with 1 method)"
      ]
     },
     "execution_count": 12,
     "metadata": {},
     "output_type": "execute_result"
    }
   ],
   "source": [
    "texpr_exmaple4(x) = (:call, \n",
    "    (:lambda, (:tuple, :assoc, :k, :v), (:call, :assoc, :k, :v)), \n",
    "    (:lambda, (:tuple, :k, :v), \n",
    "        (:if, (:eq, :v, (:tuple,)), :nil,\n",
    "            (:if, (:eq, (:car, (:car, :v)), :k), (:car, :v), \n",
    "                (:call, :assoc, :k, (:cdr, :v))))), \n",
    "    QuoteNode(x), \n",
    "    (:tuple, \n",
    "        (:tuple, QuoteNode(:Apple),  120), \n",
    "        (:tuple, QuoteNode(:Orange), 210), \n",
    "        (:tuple, QuoteNode(:Lemmon), 180), :nil))"
   ]
  },
  {
   "cell_type": "code",
   "execution_count": 13,
   "metadata": {},
   "outputs": [
    {
     "data": {
      "text/plain": [
       "(:Apple, 120)"
      ]
     },
     "execution_count": 13,
     "metadata": {},
     "output_type": "execute_result"
    }
   ],
   "source": [
    "texpr_exmaple4(:Apple) |> texpr2expr |> eval_lambda"
   ]
  },
  {
   "cell_type": "code",
   "execution_count": 14,
   "metadata": {},
   "outputs": [
    {
     "data": {
      "text/plain": [
       "(:Orange, 210)"
      ]
     },
     "execution_count": 14,
     "metadata": {},
     "output_type": "execute_result"
    }
   ],
   "source": [
    "texpr_exmaple4(:Orange) |> texpr2expr |> eval_lambda"
   ]
  },
  {
   "cell_type": "code",
   "execution_count": 15,
   "metadata": {},
   "outputs": [
    {
     "data": {
      "text/plain": [
       "(:Lemmon, 180)"
      ]
     },
     "execution_count": 15,
     "metadata": {},
     "output_type": "execute_result"
    }
   ],
   "source": [
    "texpr_exmaple4(:Lemmon) |> texpr2expr |> eval_lambda"
   ]
  },
  {
   "cell_type": "code",
   "execution_count": 16,
   "metadata": {},
   "outputs": [
    {
     "data": {
      "text/plain": [
       "nil"
      ]
     },
     "execution_count": 16,
     "metadata": {},
     "output_type": "execute_result"
    }
   ],
   "source": [
    "texpr_exmaple4(:Melon) |> texpr2expr |> eval_lambda"
   ]
  },
  {
   "cell_type": "code",
   "execution_count": 17,
   "metadata": {},
   "outputs": [
    {
     "data": {
      "image/svg+xml": [
       "<?xml version=\"1.0\" encoding=\"utf-8\"?>\n",
       "<svg xmlns=\"http://www.w3.org/2000/svg\" xmlns:xlink=\"http://www.w3.org/1999/xlink\" width=\"600\" height=\"400\" viewBox=\"0 0 2400 1600\">\n",
       "<defs>\n",
       "  <clipPath id=\"clip890\">\n",
       "    <rect x=\"0\" y=\"0\" width=\"2400\" height=\"1600\"/>\n",
       "  </clipPath>\n",
       "</defs>\n",
       "<path clip-path=\"url(#clip890)\" d=\"\n",
       "M0 1600 L2400 1600 L2400 0 L0 0  Z\n",
       "  \" fill=\"#ffffff\" fill-rule=\"evenodd\" fill-opacity=\"1\"/>\n",
       "<defs>\n",
       "  <clipPath id=\"clip891\">\n",
       "    <rect x=\"480\" y=\"0\" width=\"1681\" height=\"1600\"/>\n",
       "  </clipPath>\n",
       "</defs>\n",
       "<path clip-path=\"url(#clip890)\" d=\"\n",
       "M179.654 1486.45 L2352.76 1486.45 L2352.76 47.2441 L179.654 47.2441  Z\n",
       "  \" fill=\"#ffffff\" fill-rule=\"evenodd\" fill-opacity=\"1\"/>\n",
       "<defs>\n",
       "  <clipPath id=\"clip892\">\n",
       "    <rect x=\"179\" y=\"47\" width=\"2174\" height=\"1440\"/>\n",
       "  </clipPath>\n",
       "</defs>\n",
       "<polyline clip-path=\"url(#clip892)\" style=\"stroke:#000000; stroke-width:2; stroke-opacity:0.1; fill:none\" points=\"\n",
       "  287.356,1486.45 287.356,47.2441 \n",
       "  \"/>\n",
       "<polyline clip-path=\"url(#clip892)\" style=\"stroke:#000000; stroke-width:2; stroke-opacity:0.1; fill:none\" points=\"\n",
       "  613.639,1486.45 613.639,47.2441 \n",
       "  \"/>\n",
       "<polyline clip-path=\"url(#clip892)\" style=\"stroke:#000000; stroke-width:2; stroke-opacity:0.1; fill:none\" points=\"\n",
       "  939.922,1486.45 939.922,47.2441 \n",
       "  \"/>\n",
       "<polyline clip-path=\"url(#clip892)\" style=\"stroke:#000000; stroke-width:2; stroke-opacity:0.1; fill:none\" points=\"\n",
       "  1266.2,1486.45 1266.2,47.2441 \n",
       "  \"/>\n",
       "<polyline clip-path=\"url(#clip892)\" style=\"stroke:#000000; stroke-width:2; stroke-opacity:0.1; fill:none\" points=\"\n",
       "  1592.49,1486.45 1592.49,47.2441 \n",
       "  \"/>\n",
       "<polyline clip-path=\"url(#clip892)\" style=\"stroke:#000000; stroke-width:2; stroke-opacity:0.1; fill:none\" points=\"\n",
       "  1918.77,1486.45 1918.77,47.2441 \n",
       "  \"/>\n",
       "<polyline clip-path=\"url(#clip892)\" style=\"stroke:#000000; stroke-width:2; stroke-opacity:0.1; fill:none\" points=\"\n",
       "  2245.05,1486.45 2245.05,47.2441 \n",
       "  \"/>\n",
       "<polyline clip-path=\"url(#clip890)\" style=\"stroke:#000000; stroke-width:4; stroke-opacity:1; fill:none\" points=\"\n",
       "  179.654,1486.45 2352.76,1486.45 \n",
       "  \"/>\n",
       "<polyline clip-path=\"url(#clip890)\" style=\"stroke:#000000; stroke-width:4; stroke-opacity:1; fill:none\" points=\"\n",
       "  287.356,1486.45 287.356,1469.18 \n",
       "  \"/>\n",
       "<polyline clip-path=\"url(#clip890)\" style=\"stroke:#000000; stroke-width:4; stroke-opacity:1; fill:none\" points=\"\n",
       "  613.639,1486.45 613.639,1469.18 \n",
       "  \"/>\n",
       "<polyline clip-path=\"url(#clip890)\" style=\"stroke:#000000; stroke-width:4; stroke-opacity:1; fill:none\" points=\"\n",
       "  939.922,1486.45 939.922,1469.18 \n",
       "  \"/>\n",
       "<polyline clip-path=\"url(#clip890)\" style=\"stroke:#000000; stroke-width:4; stroke-opacity:1; fill:none\" points=\"\n",
       "  1266.2,1486.45 1266.2,1469.18 \n",
       "  \"/>\n",
       "<polyline clip-path=\"url(#clip890)\" style=\"stroke:#000000; stroke-width:4; stroke-opacity:1; fill:none\" points=\"\n",
       "  1592.49,1486.45 1592.49,1469.18 \n",
       "  \"/>\n",
       "<polyline clip-path=\"url(#clip890)\" style=\"stroke:#000000; stroke-width:4; stroke-opacity:1; fill:none\" points=\"\n",
       "  1918.77,1486.45 1918.77,1469.18 \n",
       "  \"/>\n",
       "<polyline clip-path=\"url(#clip890)\" style=\"stroke:#000000; stroke-width:4; stroke-opacity:1; fill:none\" points=\"\n",
       "  2245.05,1486.45 2245.05,1469.18 \n",
       "  \"/>\n",
       "<path clip-path=\"url(#clip890)\" d=\"M 0 0 M259.335 1530.29 L289.011 1530.29 L289.011 1534.23 L259.335 1534.23 L259.335 1530.29 Z\" fill=\"#000000\" fill-rule=\"evenodd\" fill-opacity=\"1\" /><path clip-path=\"url(#clip890)\" d=\"M 0 0 M308.247 1528.49 Q311.603 1529.2 313.478 1531.47 Q315.377 1533.74 315.377 1537.07 Q315.377 1542.19 311.858 1544.99 Q308.34 1547.79 301.858 1547.79 Q299.682 1547.79 297.367 1547.35 Q295.076 1546.93 292.622 1546.08 L292.622 1541.56 Q294.566 1542.7 296.881 1543.28 Q299.196 1543.86 301.719 1543.86 Q306.117 1543.86 308.409 1542.12 Q310.724 1540.38 310.724 1537.07 Q310.724 1534.02 308.571 1532.31 Q306.441 1530.57 302.622 1530.57 L298.594 1530.57 L298.594 1526.73 L302.807 1526.73 Q306.256 1526.73 308.085 1525.36 Q309.914 1523.97 309.914 1521.38 Q309.914 1518.72 308.015 1517.31 Q306.14 1515.87 302.622 1515.87 Q300.701 1515.87 298.502 1516.29 Q296.303 1516.7 293.664 1517.58 L293.664 1513.42 Q296.326 1512.68 298.64 1512.31 Q300.978 1511.93 303.039 1511.93 Q308.363 1511.93 311.465 1514.37 Q314.566 1516.77 314.566 1520.89 Q314.566 1523.76 312.923 1525.75 Q311.279 1527.72 308.247 1528.49 Z\" fill=\"#000000\" fill-rule=\"evenodd\" fill-opacity=\"1\" /><path clip-path=\"url(#clip890)\" d=\"M 0 0 M586.093 1530.29 L615.768 1530.29 L615.768 1534.23 L586.093 1534.23 L586.093 1530.29 Z\" fill=\"#000000\" fill-rule=\"evenodd\" fill-opacity=\"1\" /><path clip-path=\"url(#clip890)\" d=\"M 0 0 M624.866 1543.18 L641.185 1543.18 L641.185 1547.12 L619.241 1547.12 L619.241 1543.18 Q621.903 1540.43 626.486 1535.8 Q631.092 1531.15 632.273 1529.81 Q634.518 1527.28 635.398 1525.55 Q636.301 1523.79 636.301 1522.1 Q636.301 1519.34 634.356 1517.61 Q632.435 1515.87 629.333 1515.87 Q627.134 1515.87 624.68 1516.63 Q622.25 1517.4 619.472 1518.95 L619.472 1514.23 Q622.296 1513.09 624.75 1512.51 Q627.204 1511.93 629.241 1511.93 Q634.611 1511.93 637.805 1514.62 Q641 1517.31 641 1521.8 Q641 1523.93 640.19 1525.85 Q639.403 1527.74 637.296 1530.34 Q636.717 1531.01 633.616 1534.23 Q630.514 1537.42 624.866 1543.18 Z\" fill=\"#000000\" fill-rule=\"evenodd\" fill-opacity=\"1\" /><path clip-path=\"url(#clip890)\" d=\"M 0 0 M912.19 1530.29 L941.866 1530.29 L941.866 1534.23 L912.19 1534.23 L912.19 1530.29 Z\" fill=\"#000000\" fill-rule=\"evenodd\" fill-opacity=\"1\" /><path clip-path=\"url(#clip890)\" d=\"M 0 0 M947.746 1543.18 L955.385 1543.18 L955.385 1516.82 L947.075 1518.49 L947.075 1514.23 L955.338 1512.56 L960.014 1512.56 L960.014 1543.18 L967.653 1543.18 L967.653 1547.12 L947.746 1547.12 L947.746 1543.18 Z\" fill=\"#000000\" fill-rule=\"evenodd\" fill-opacity=\"1\" /><path clip-path=\"url(#clip890)\" d=\"M 0 0 M1266.2 1515.64 Q1262.59 1515.64 1260.77 1519.2 Q1258.96 1522.75 1258.96 1529.87 Q1258.96 1536.98 1260.77 1540.55 Q1262.59 1544.09 1266.2 1544.09 Q1269.84 1544.09 1271.64 1540.55 Q1273.47 1536.98 1273.47 1529.87 Q1273.47 1522.75 1271.64 1519.2 Q1269.84 1515.64 1266.2 1515.64 M1266.2 1511.93 Q1272.01 1511.93 1275.07 1516.54 Q1278.15 1521.12 1278.15 1529.87 Q1278.15 1538.6 1275.07 1543.21 Q1272.01 1547.79 1266.2 1547.79 Q1260.39 1547.79 1257.32 1543.21 Q1254.26 1538.6 1254.26 1529.87 Q1254.26 1521.12 1257.32 1516.54 Q1260.39 1511.93 1266.2 1511.93 Z\" fill=\"#000000\" fill-rule=\"evenodd\" fill-opacity=\"1\" /><path clip-path=\"url(#clip890)\" d=\"M 0 0 M1582.87 1543.18 L1590.51 1543.18 L1590.51 1516.82 L1582.2 1518.49 L1582.2 1514.23 L1590.46 1512.56 L1595.14 1512.56 L1595.14 1543.18 L1602.78 1543.18 L1602.78 1547.12 L1582.87 1547.12 L1582.87 1543.18 Z\" fill=\"#000000\" fill-rule=\"evenodd\" fill-opacity=\"1\" /><path clip-path=\"url(#clip890)\" d=\"M 0 0 M1913.42 1543.18 L1929.74 1543.18 L1929.74 1547.12 L1907.8 1547.12 L1907.8 1543.18 Q1910.46 1540.43 1915.04 1535.8 Q1919.65 1531.15 1920.83 1529.81 Q1923.08 1527.28 1923.96 1525.55 Q1924.86 1523.79 1924.86 1522.1 Q1924.86 1519.34 1922.91 1517.61 Q1920.99 1515.87 1917.89 1515.87 Q1915.69 1515.87 1913.24 1516.63 Q1910.81 1517.4 1908.03 1518.95 L1908.03 1514.23 Q1910.85 1513.09 1913.31 1512.51 Q1915.76 1511.93 1917.8 1511.93 Q1923.17 1511.93 1926.36 1514.62 Q1929.56 1517.31 1929.56 1521.8 Q1929.56 1523.93 1928.75 1525.85 Q1927.96 1527.74 1925.85 1530.34 Q1925.28 1531.01 1922.17 1534.23 Q1919.07 1537.42 1913.42 1543.18 Z\" fill=\"#000000\" fill-rule=\"evenodd\" fill-opacity=\"1\" /><path clip-path=\"url(#clip890)\" d=\"M 0 0 M2249.3 1528.49 Q2252.66 1529.2 2254.53 1531.47 Q2256.43 1533.74 2256.43 1537.07 Q2256.43 1542.19 2252.91 1544.99 Q2249.39 1547.79 2242.91 1547.79 Q2240.74 1547.79 2238.42 1547.35 Q2236.13 1546.93 2233.68 1546.08 L2233.68 1541.56 Q2235.62 1542.7 2237.94 1543.28 Q2240.25 1543.86 2242.77 1543.86 Q2247.17 1543.86 2249.46 1542.12 Q2251.78 1540.38 2251.78 1537.07 Q2251.78 1534.02 2249.63 1532.31 Q2247.5 1530.57 2243.68 1530.57 L2239.65 1530.57 L2239.65 1526.73 L2243.86 1526.73 Q2247.31 1526.73 2249.14 1525.36 Q2250.97 1523.97 2250.97 1521.38 Q2250.97 1518.72 2249.07 1517.31 Q2247.19 1515.87 2243.68 1515.87 Q2241.76 1515.87 2239.56 1516.29 Q2237.36 1516.7 2234.72 1517.58 L2234.72 1513.42 Q2237.38 1512.68 2239.69 1512.31 Q2242.03 1511.93 2244.09 1511.93 Q2249.42 1511.93 2252.52 1514.37 Q2255.62 1516.77 2255.62 1520.89 Q2255.62 1523.76 2253.98 1525.75 Q2252.33 1527.72 2249.3 1528.49 Z\" fill=\"#000000\" fill-rule=\"evenodd\" fill-opacity=\"1\" /><polyline clip-path=\"url(#clip892)\" style=\"stroke:#000000; stroke-width:2; stroke-opacity:0.1; fill:none\" points=\"\n",
       "  179.654,1430.14 2352.76,1430.14 \n",
       "  \"/>\n",
       "<polyline clip-path=\"url(#clip892)\" style=\"stroke:#000000; stroke-width:2; stroke-opacity:0.1; fill:none\" points=\"\n",
       "  179.654,1136.38 2352.76,1136.38 \n",
       "  \"/>\n",
       "<polyline clip-path=\"url(#clip892)\" style=\"stroke:#000000; stroke-width:2; stroke-opacity:0.1; fill:none\" points=\"\n",
       "  179.654,842.617 2352.76,842.617 \n",
       "  \"/>\n",
       "<polyline clip-path=\"url(#clip892)\" style=\"stroke:#000000; stroke-width:2; stroke-opacity:0.1; fill:none\" points=\"\n",
       "  179.654,548.856 2352.76,548.856 \n",
       "  \"/>\n",
       "<polyline clip-path=\"url(#clip892)\" style=\"stroke:#000000; stroke-width:2; stroke-opacity:0.1; fill:none\" points=\"\n",
       "  179.654,255.095 2352.76,255.095 \n",
       "  \"/>\n",
       "<polyline clip-path=\"url(#clip890)\" style=\"stroke:#000000; stroke-width:4; stroke-opacity:1; fill:none\" points=\"\n",
       "  179.654,1486.45 179.654,47.2441 \n",
       "  \"/>\n",
       "<polyline clip-path=\"url(#clip890)\" style=\"stroke:#000000; stroke-width:4; stroke-opacity:1; fill:none\" points=\"\n",
       "  179.654,1430.14 205.731,1430.14 \n",
       "  \"/>\n",
       "<polyline clip-path=\"url(#clip890)\" style=\"stroke:#000000; stroke-width:4; stroke-opacity:1; fill:none\" points=\"\n",
       "  179.654,1136.38 205.731,1136.38 \n",
       "  \"/>\n",
       "<polyline clip-path=\"url(#clip890)\" style=\"stroke:#000000; stroke-width:4; stroke-opacity:1; fill:none\" points=\"\n",
       "  179.654,842.617 205.731,842.617 \n",
       "  \"/>\n",
       "<polyline clip-path=\"url(#clip890)\" style=\"stroke:#000000; stroke-width:4; stroke-opacity:1; fill:none\" points=\"\n",
       "  179.654,548.856 205.731,548.856 \n",
       "  \"/>\n",
       "<polyline clip-path=\"url(#clip890)\" style=\"stroke:#000000; stroke-width:4; stroke-opacity:1; fill:none\" points=\"\n",
       "  179.654,255.095 205.731,255.095 \n",
       "  \"/>\n",
       "<path clip-path=\"url(#clip890)\" d=\"M 0 0 M51.2236 1430.59 L80.8994 1430.59 L80.8994 1434.53 L51.2236 1434.53 L51.2236 1430.59 Z\" fill=\"#000000\" fill-rule=\"evenodd\" fill-opacity=\"1\" /><path clip-path=\"url(#clip890)\" d=\"M 0 0 M86.779 1443.48 L94.4178 1443.48 L94.4178 1417.12 L86.1077 1418.78 L86.1077 1414.53 L94.3715 1412.86 L99.0474 1412.86 L99.0474 1443.48 L106.686 1443.48 L106.686 1447.42 L86.779 1447.42 L86.779 1443.48 Z\" fill=\"#000000\" fill-rule=\"evenodd\" fill-opacity=\"1\" /><path clip-path=\"url(#clip890)\" d=\"M 0 0 M111.756 1441.54 L116.64 1441.54 L116.64 1447.42 L111.756 1447.42 L111.756 1441.54 Z\" fill=\"#000000\" fill-rule=\"evenodd\" fill-opacity=\"1\" /><path clip-path=\"url(#clip890)\" d=\"M 0 0 M131.709 1415.94 Q128.098 1415.94 126.27 1419.5 Q124.464 1423.04 124.464 1430.17 Q124.464 1437.28 126.27 1440.84 Q128.098 1444.39 131.709 1444.39 Q135.344 1444.39 137.149 1440.84 Q138.978 1437.28 138.978 1430.17 Q138.978 1423.04 137.149 1419.5 Q135.344 1415.94 131.709 1415.94 M131.709 1412.23 Q137.519 1412.23 140.575 1416.84 Q143.654 1421.42 143.654 1430.17 Q143.654 1438.9 140.575 1443.51 Q137.519 1448.09 131.709 1448.09 Q125.899 1448.09 122.82 1443.51 Q119.765 1438.9 119.765 1430.17 Q119.765 1421.42 122.82 1416.84 Q125.899 1412.23 131.709 1412.23 Z\" fill=\"#000000\" fill-rule=\"evenodd\" fill-opacity=\"1\" /><path clip-path=\"url(#clip890)\" d=\"M 0 0 M50.9921 1136.83 L80.6679 1136.83 L80.6679 1140.76 L50.9921 1140.76 L50.9921 1136.83 Z\" fill=\"#000000\" fill-rule=\"evenodd\" fill-opacity=\"1\" /><path clip-path=\"url(#clip890)\" d=\"M 0 0 M95.7373 1122.18 Q92.1262 1122.18 90.2975 1125.74 Q88.4919 1129.28 88.4919 1136.41 Q88.4919 1143.52 90.2975 1147.08 Q92.1262 1150.63 95.7373 1150.63 Q99.3715 1150.63 101.177 1147.08 Q103.006 1143.52 103.006 1136.41 Q103.006 1129.28 101.177 1125.74 Q99.3715 1122.18 95.7373 1122.18 M95.7373 1118.47 Q101.547 1118.47 104.603 1123.08 Q107.682 1127.66 107.682 1136.41 Q107.682 1145.14 104.603 1149.75 Q101.547 1154.33 95.7373 1154.33 Q89.9271 1154.33 86.8484 1149.75 Q83.7929 1145.14 83.7929 1136.41 Q83.7929 1127.66 86.8484 1123.08 Q89.9271 1118.47 95.7373 1118.47 Z\" fill=\"#000000\" fill-rule=\"evenodd\" fill-opacity=\"1\" /><path clip-path=\"url(#clip890)\" d=\"M 0 0 M112.751 1147.78 L117.635 1147.78 L117.635 1153.66 L112.751 1153.66 L112.751 1147.78 Z\" fill=\"#000000\" fill-rule=\"evenodd\" fill-opacity=\"1\" /><path clip-path=\"url(#clip890)\" d=\"M 0 0 M122.751 1119.1 L141.107 1119.1 L141.107 1123.03 L127.033 1123.03 L127.033 1131.51 Q128.052 1131.16 129.07 1131 Q130.089 1130.81 131.107 1130.81 Q136.894 1130.81 140.274 1133.98 Q143.654 1137.15 143.654 1142.57 Q143.654 1148.15 140.181 1151.25 Q136.709 1154.33 130.39 1154.33 Q128.214 1154.33 125.945 1153.96 Q123.7 1153.59 121.293 1152.85 L121.293 1148.15 Q123.376 1149.28 125.598 1149.84 Q127.82 1150.39 130.297 1150.39 Q134.302 1150.39 136.64 1148.29 Q138.978 1146.18 138.978 1142.57 Q138.978 1138.96 136.64 1136.85 Q134.302 1134.75 130.297 1134.75 Q128.422 1134.75 126.547 1135.16 Q124.695 1135.58 122.751 1136.46 L122.751 1119.1 Z\" fill=\"#000000\" fill-rule=\"evenodd\" fill-opacity=\"1\" /><path clip-path=\"url(#clip890)\" d=\"M 0 0 M94.7419 828.416 Q91.1308 828.416 89.3021 831.98 Q87.4966 835.522 87.4966 842.652 Q87.4966 849.758 89.3021 853.323 Q91.1308 856.865 94.7419 856.865 Q98.3761 856.865 100.182 853.323 Q102.01 849.758 102.01 842.652 Q102.01 835.522 100.182 831.98 Q98.3761 828.416 94.7419 828.416 M94.7419 824.712 Q100.552 824.712 103.608 829.318 Q106.686 833.902 106.686 842.652 Q106.686 851.378 103.608 855.985 Q100.552 860.568 94.7419 860.568 Q88.9317 860.568 85.8531 855.985 Q82.7975 851.378 82.7975 842.652 Q82.7975 833.902 85.8531 829.318 Q88.9317 824.712 94.7419 824.712 Z\" fill=\"#000000\" fill-rule=\"evenodd\" fill-opacity=\"1\" /><path clip-path=\"url(#clip890)\" d=\"M 0 0 M111.756 854.017 L116.64 854.017 L116.64 859.897 L111.756 859.897 L111.756 854.017 Z\" fill=\"#000000\" fill-rule=\"evenodd\" fill-opacity=\"1\" /><path clip-path=\"url(#clip890)\" d=\"M 0 0 M131.709 828.416 Q128.098 828.416 126.27 831.98 Q124.464 835.522 124.464 842.652 Q124.464 849.758 126.27 853.323 Q128.098 856.865 131.709 856.865 Q135.344 856.865 137.149 853.323 Q138.978 849.758 138.978 842.652 Q138.978 835.522 137.149 831.98 Q135.344 828.416 131.709 828.416 M131.709 824.712 Q137.519 824.712 140.575 829.318 Q143.654 833.902 143.654 842.652 Q143.654 851.378 140.575 855.985 Q137.519 860.568 131.709 860.568 Q125.899 860.568 122.82 855.985 Q119.765 851.378 119.765 842.652 Q119.765 833.902 122.82 829.318 Q125.899 824.712 131.709 824.712 Z\" fill=\"#000000\" fill-rule=\"evenodd\" fill-opacity=\"1\" /><path clip-path=\"url(#clip890)\" d=\"M 0 0 M95.7373 534.655 Q92.1262 534.655 90.2975 538.22 Q88.4919 541.761 88.4919 548.891 Q88.4919 555.997 90.2975 559.562 Q92.1262 563.104 95.7373 563.104 Q99.3715 563.104 101.177 559.562 Q103.006 555.997 103.006 548.891 Q103.006 541.761 101.177 538.22 Q99.3715 534.655 95.7373 534.655 M95.7373 530.951 Q101.547 530.951 104.603 535.558 Q107.682 540.141 107.682 548.891 Q107.682 557.618 104.603 562.224 Q101.547 566.807 95.7373 566.807 Q89.9271 566.807 86.8484 562.224 Q83.7929 557.618 83.7929 548.891 Q83.7929 540.141 86.8484 535.558 Q89.9271 530.951 95.7373 530.951 Z\" fill=\"#000000\" fill-rule=\"evenodd\" fill-opacity=\"1\" /><path clip-path=\"url(#clip890)\" d=\"M 0 0 M112.751 560.257 L117.635 560.257 L117.635 566.136 L112.751 566.136 L112.751 560.257 Z\" fill=\"#000000\" fill-rule=\"evenodd\" fill-opacity=\"1\" /><path clip-path=\"url(#clip890)\" d=\"M 0 0 M122.751 531.576 L141.107 531.576 L141.107 535.511 L127.033 535.511 L127.033 543.983 Q128.052 543.636 129.07 543.474 Q130.089 543.289 131.107 543.289 Q136.894 543.289 140.274 546.46 Q143.654 549.632 143.654 555.048 Q143.654 560.627 140.181 563.729 Q136.709 566.807 130.39 566.807 Q128.214 566.807 125.945 566.437 Q123.7 566.067 121.293 565.326 L121.293 560.627 Q123.376 561.761 125.598 562.317 Q127.82 562.872 130.297 562.872 Q134.302 562.872 136.64 560.766 Q138.978 558.659 138.978 555.048 Q138.978 551.437 136.64 549.331 Q134.302 547.224 130.297 547.224 Q128.422 547.224 126.547 547.641 Q124.695 548.058 122.751 548.937 L122.751 531.576 Z\" fill=\"#000000\" fill-rule=\"evenodd\" fill-opacity=\"1\" /><path clip-path=\"url(#clip890)\" d=\"M 0 0 M86.779 268.44 L94.4178 268.44 L94.4178 242.075 L86.1077 243.741 L86.1077 239.482 L94.3715 237.815 L99.0474 237.815 L99.0474 268.44 L106.686 268.44 L106.686 272.375 L86.779 272.375 L86.779 268.44 Z\" fill=\"#000000\" fill-rule=\"evenodd\" fill-opacity=\"1\" /><path clip-path=\"url(#clip890)\" d=\"M 0 0 M111.756 266.496 L116.64 266.496 L116.64 272.375 L111.756 272.375 L111.756 266.496 Z\" fill=\"#000000\" fill-rule=\"evenodd\" fill-opacity=\"1\" /><path clip-path=\"url(#clip890)\" d=\"M 0 0 M131.709 240.894 Q128.098 240.894 126.27 244.459 Q124.464 248 124.464 255.13 Q124.464 262.236 126.27 265.801 Q128.098 269.343 131.709 269.343 Q135.344 269.343 137.149 265.801 Q138.978 262.236 138.978 255.13 Q138.978 248 137.149 244.459 Q135.344 240.894 131.709 240.894 M131.709 237.19 Q137.519 237.19 140.575 241.797 Q143.654 246.38 143.654 255.13 Q143.654 263.857 140.575 268.463 Q137.519 273.047 131.709 273.047 Q125.899 273.047 122.82 268.463 Q119.765 263.857 119.765 255.13 Q119.765 246.38 122.82 241.797 Q125.899 237.19 131.709 237.19 Z\" fill=\"#000000\" fill-rule=\"evenodd\" fill-opacity=\"1\" /><circle clip-path=\"url(#clip892)\" cx=\"241.157\" cy=\"784.141\" r=\"14\" fill=\"#009af9\" fill-rule=\"evenodd\" fill-opacity=\"1\" stroke=\"#000000\" stroke-opacity=\"1\" stroke-width=\"3.2\"/>\n",
       "<circle clip-path=\"url(#clip892)\" cx=\"349.056\" cy=\"828.488\" r=\"14\" fill=\"#009af9\" fill-rule=\"evenodd\" fill-opacity=\"1\" stroke=\"#000000\" stroke-opacity=\"1\" stroke-width=\"3.2\"/>\n",
       "<circle clip-path=\"url(#clip892)\" cx=\"456.956\" cy=\"1061.8\" r=\"14\" fill=\"#009af9\" fill-rule=\"evenodd\" fill-opacity=\"1\" stroke=\"#000000\" stroke-opacity=\"1\" stroke-width=\"3.2\"/>\n",
       "<circle clip-path=\"url(#clip892)\" cx=\"564.856\" cy=\"1371.12\" r=\"14\" fill=\"#009af9\" fill-rule=\"evenodd\" fill-opacity=\"1\" stroke=\"#000000\" stroke-opacity=\"1\" stroke-width=\"3.2\"/>\n",
       "<circle clip-path=\"url(#clip892)\" cx=\"672.756\" cy=\"1445.72\" r=\"14\" fill=\"#009af9\" fill-rule=\"evenodd\" fill-opacity=\"1\" stroke=\"#000000\" stroke-opacity=\"1\" stroke-width=\"3.2\"/>\n",
       "<circle clip-path=\"url(#clip892)\" cx=\"780.656\" cy=\"1375.7\" r=\"14\" fill=\"#009af9\" fill-rule=\"evenodd\" fill-opacity=\"1\" stroke=\"#000000\" stroke-opacity=\"1\" stroke-width=\"3.2\"/>\n",
       "<circle clip-path=\"url(#clip892)\" cx=\"888.555\" cy=\"1395.46\" r=\"14\" fill=\"#009af9\" fill-rule=\"evenodd\" fill-opacity=\"1\" stroke=\"#000000\" stroke-opacity=\"1\" stroke-width=\"3.2\"/>\n",
       "<circle clip-path=\"url(#clip892)\" cx=\"996.455\" cy=\"1330.93\" r=\"14\" fill=\"#009af9\" fill-rule=\"evenodd\" fill-opacity=\"1\" stroke=\"#000000\" stroke-opacity=\"1\" stroke-width=\"3.2\"/>\n",
       "<circle clip-path=\"url(#clip892)\" cx=\"1104.36\" cy=\"959.249\" r=\"14\" fill=\"#009af9\" fill-rule=\"evenodd\" fill-opacity=\"1\" stroke=\"#000000\" stroke-opacity=\"1\" stroke-width=\"3.2\"/>\n",
       "<circle clip-path=\"url(#clip892)\" cx=\"1212.25\" cy=\"1108.72\" r=\"14\" fill=\"#009af9\" fill-rule=\"evenodd\" fill-opacity=\"1\" stroke=\"#000000\" stroke-opacity=\"1\" stroke-width=\"3.2\"/>\n",
       "<circle clip-path=\"url(#clip892)\" cx=\"1320.15\" cy=\"930.135\" r=\"14\" fill=\"#009af9\" fill-rule=\"evenodd\" fill-opacity=\"1\" stroke=\"#000000\" stroke-opacity=\"1\" stroke-width=\"3.2\"/>\n",
       "<circle clip-path=\"url(#clip892)\" cx=\"1428.05\" cy=\"597.421\" r=\"14\" fill=\"#009af9\" fill-rule=\"evenodd\" fill-opacity=\"1\" stroke=\"#000000\" stroke-opacity=\"1\" stroke-width=\"3.2\"/>\n",
       "<circle clip-path=\"url(#clip892)\" cx=\"1535.95\" cy=\"250.86\" r=\"14\" fill=\"#009af9\" fill-rule=\"evenodd\" fill-opacity=\"1\" stroke=\"#000000\" stroke-opacity=\"1\" stroke-width=\"3.2\"/>\n",
       "<circle clip-path=\"url(#clip892)\" cx=\"1643.85\" cy=\"484.858\" r=\"14\" fill=\"#009af9\" fill-rule=\"evenodd\" fill-opacity=\"1\" stroke=\"#000000\" stroke-opacity=\"1\" stroke-width=\"3.2\"/>\n",
       "<circle clip-path=\"url(#clip892)\" cx=\"1751.75\" cy=\"314.745\" r=\"14\" fill=\"#009af9\" fill-rule=\"evenodd\" fill-opacity=\"1\" stroke=\"#000000\" stroke-opacity=\"1\" stroke-width=\"3.2\"/>\n",
       "<circle clip-path=\"url(#clip892)\" cx=\"1859.65\" cy=\"107.39\" r=\"14\" fill=\"#009af9\" fill-rule=\"evenodd\" fill-opacity=\"1\" stroke=\"#000000\" stroke-opacity=\"1\" stroke-width=\"3.2\"/>\n",
       "<circle clip-path=\"url(#clip892)\" cx=\"1967.55\" cy=\"87.9763\" r=\"14\" fill=\"#009af9\" fill-rule=\"evenodd\" fill-opacity=\"1\" stroke=\"#000000\" stroke-opacity=\"1\" stroke-width=\"3.2\"/>\n",
       "<circle clip-path=\"url(#clip892)\" cx=\"2075.45\" cy=\"476.185\" r=\"14\" fill=\"#009af9\" fill-rule=\"evenodd\" fill-opacity=\"1\" stroke=\"#000000\" stroke-opacity=\"1\" stroke-width=\"3.2\"/>\n",
       "<circle clip-path=\"url(#clip892)\" cx=\"2183.35\" cy=\"424.182\" r=\"14\" fill=\"#009af9\" fill-rule=\"evenodd\" fill-opacity=\"1\" stroke=\"#000000\" stroke-opacity=\"1\" stroke-width=\"3.2\"/>\n",
       "<circle clip-path=\"url(#clip892)\" cx=\"2291.25\" cy=\"895.802\" r=\"14\" fill=\"#009af9\" fill-rule=\"evenodd\" fill-opacity=\"1\" stroke=\"#000000\" stroke-opacity=\"1\" stroke-width=\"3.2\"/>\n",
       "<polyline clip-path=\"url(#clip892)\" style=\"stroke:#0000ff; stroke-width:4; stroke-opacity:1; fill:none\" stroke-dasharray=\"16, 10\" points=\"\n",
       "  241.157,842.617 246.295,851.868 251.433,861.118 256.571,870.362 261.709,879.6 266.847,888.829 271.985,898.046 277.123,907.249 282.261,916.437 287.399,925.606 \n",
       "  292.537,934.754 297.676,943.88 302.814,952.98 307.952,962.053 313.09,971.097 318.228,980.109 323.366,989.086 328.504,998.027 333.642,1006.93 338.78,1015.79 \n",
       "  343.918,1024.61 349.056,1033.38 354.194,1042.11 359.333,1050.79 364.471,1059.41 369.609,1067.99 374.747,1076.5 379.885,1084.96 385.023,1093.36 390.161,1101.69 \n",
       "  395.299,1109.96 400.437,1118.17 405.575,1126.31 410.713,1134.37 415.851,1142.37 420.99,1150.29 426.128,1158.13 431.266,1165.89 436.404,1173.58 441.542,1181.18 \n",
       "  446.68,1188.7 451.818,1196.13 456.956,1203.48 462.094,1210.74 467.232,1217.9 472.37,1224.97 477.509,1231.95 482.647,1238.83 487.785,1245.61 492.923,1252.29 \n",
       "  498.061,1258.87 503.199,1265.35 508.337,1271.72 513.475,1277.99 518.613,1284.15 523.751,1290.2 528.889,1296.13 534.027,1301.96 539.166,1307.67 544.304,1313.27 \n",
       "  549.442,1318.75 554.58,1324.11 559.718,1329.35 564.856,1334.47 569.994,1339.47 575.132,1344.35 580.27,1349.1 585.408,1353.72 590.546,1358.22 595.685,1362.59 \n",
       "  600.823,1366.84 605.961,1370.95 611.099,1374.93 616.237,1378.78 621.375,1382.5 626.513,1386.08 631.651,1389.53 636.789,1392.84 641.927,1396.01 647.065,1399.05 \n",
       "  652.203,1401.95 657.342,1404.71 662.48,1407.34 667.618,1409.82 672.756,1412.16 677.894,1414.36 683.032,1416.42 688.17,1418.34 693.308,1420.11 698.446,1421.74 \n",
       "  703.584,1423.23 708.722,1424.57 713.861,1425.77 718.999,1426.82 724.137,1427.73 729.275,1428.5 734.413,1429.11 739.551,1429.59 744.689,1429.92 749.827,1430.1 \n",
       "  754.965,1430.13 760.103,1430.02 765.241,1429.77 770.379,1429.37 775.518,1428.82 780.656,1428.13 785.794,1427.3 790.932,1426.31 796.07,1425.19 801.208,1423.92 \n",
       "  806.346,1422.5 811.484,1420.94 816.622,1419.24 821.76,1417.4 826.898,1415.41 832.036,1413.28 837.175,1411.01 842.313,1408.6 847.451,1406.04 852.589,1403.35 \n",
       "  857.727,1400.52 862.865,1397.55 868.003,1394.44 873.141,1391.2 878.279,1387.82 883.417,1384.3 888.555,1380.65 893.694,1376.87 898.832,1372.96 903.97,1368.91 \n",
       "  909.108,1364.73 914.246,1360.42 919.384,1355.99 924.522,1351.43 929.66,1346.74 934.798,1341.92 939.936,1336.99 945.074,1331.93 950.212,1326.74 955.351,1321.44 \n",
       "  960.489,1316.02 965.627,1310.48 970.765,1304.83 975.903,1299.06 981.041,1293.18 986.179,1287.19 991.317,1281.08 996.455,1274.87 1001.59,1268.55 1006.73,1262.13 \n",
       "  1011.87,1255.6 1017.01,1248.97 1022.15,1242.23 1027.28,1235.4 1032.42,1228.47 1037.56,1221.45 1042.7,1214.33 1047.84,1207.12 1052.97,1199.82 1058.11,1192.43 \n",
       "  1063.25,1184.95 1068.39,1177.39 1073.53,1169.75 1078.66,1162.02 1083.8,1154.22 1088.94,1146.34 1094.08,1138.38 1099.22,1130.35 1104.36,1122.25 1109.49,1114.08 \n",
       "  1114.63,1105.84 1119.77,1097.53 1124.91,1089.17 1130.05,1080.74 1135.18,1072.25 1140.32,1063.71 1145.46,1055.11 1150.6,1046.46 1155.74,1037.75 1160.87,1029 \n",
       "  1166.01,1020.21 1171.15,1011.37 1176.29,1002.48 1181.43,993.561 1186.56,984.602 1191.7,975.607 1196.84,966.579 1201.98,957.52 1207.12,948.433 1212.25,939.32 \n",
       "  1217.39,930.183 1222.53,921.023 1227.67,911.845 1232.81,902.649 1237.95,893.439 1243.08,884.216 1248.22,874.982 1253.36,865.741 1258.5,856.494 1263.64,847.243 \n",
       "  1268.77,837.991 1273.91,828.74 1279.05,819.493 1284.19,810.252 1289.33,801.018 1294.46,791.795 1299.6,782.585 1304.74,773.389 1309.88,764.21 1315.02,755.051 \n",
       "  1320.15,745.914 1325.29,736.801 1330.43,727.714 1335.57,718.655 1340.71,709.627 1345.85,700.632 1350.98,691.673 1356.12,682.75 1361.26,673.868 1366.4,665.027 \n",
       "  1371.54,656.23 1376.67,647.48 1381.81,638.778 1386.95,630.126 1392.09,621.527 1397.23,612.983 1402.36,604.496 1407.5,596.068 1412.64,587.701 1417.78,579.397 \n",
       "  1422.92,571.159 1428.05,562.988 1433.19,554.886 1438.33,546.855 1443.47,538.898 1448.61,531.016 1453.74,523.212 1458.88,515.487 1464.02,507.842 1469.16,500.281 \n",
       "  1474.3,492.805 1479.44,485.415 1484.57,478.114 1489.71,470.904 1494.85,463.785 1499.99,456.761 1505.13,449.832 1510.26,443.001 1515.4,436.268 1520.54,429.637 \n",
       "  1525.68,423.108 1530.82,416.683 1535.95,410.363 1541.09,404.151 1546.23,398.047 1551.37,392.054 1556.51,386.172 1561.64,380.404 1566.78,374.75 1571.92,369.212 \n",
       "  1577.06,363.792 1582.2,358.49 1587.34,353.309 1592.47,348.249 1597.61,343.311 1602.75,338.497 1607.89,333.808 1613.03,329.246 1618.16,324.81 1623.3,320.503 \n",
       "  1628.44,316.326 1633.58,312.279 1638.72,308.363 1643.85,304.58 1648.99,300.931 1654.13,297.415 1659.27,294.035 1664.41,290.791 1669.54,287.684 1674.68,284.715 \n",
       "  1679.82,281.883 1684.96,279.191 1690.1,276.639 1695.23,274.227 1700.37,271.955 1705.51,269.826 1710.65,267.838 1715.79,265.993 1720.93,264.291 1726.06,262.732 \n",
       "  1731.2,261.317 1736.34,260.046 1741.48,258.92 1746.62,257.939 1751.75,257.102 1756.89,256.411 1762.03,255.865 1767.17,255.464 1772.31,255.209 1777.44,255.1 \n",
       "  1782.58,255.136 1787.72,255.318 1792.86,255.646 1798,256.119 1803.13,256.738 1808.27,257.502 1813.41,258.411 1818.55,259.465 1823.69,260.664 1828.83,262.007 \n",
       "  1833.96,263.494 1839.1,265.124 1844.24,266.898 1849.38,268.814 1854.52,270.873 1859.65,273.073 1864.79,275.415 1869.93,277.897 1875.07,280.52 1880.21,283.282 \n",
       "  1885.34,286.182 1890.48,289.221 1895.62,292.396 1900.76,295.708 1905.9,299.156 1911.03,302.739 1916.17,306.455 1921.31,310.305 1926.45,314.286 1931.59,318.398 \n",
       "  1936.73,322.641 1941.86,327.012 1947,331.511 1952.14,336.137 1957.28,340.888 1962.42,345.764 1967.55,350.764 1972.69,355.885 1977.83,361.126 1982.97,366.488 \n",
       "  1988.11,371.967 1993.24,377.563 1998.38,383.274 2003.52,389.099 2008.66,395.037 2013.8,401.085 2018.93,407.244 2024.07,413.51 2029.21,419.882 2034.35,426.359 \n",
       "  2039.49,432.94 2044.62,439.622 2049.76,446.404 2054.9,453.284 2060.04,460.261 2065.18,467.333 2070.32,474.498 2075.45,481.754 2080.59,489.099 2085.73,496.532 \n",
       "  2090.87,504.051 2096.01,511.654 2101.14,519.339 2106.28,527.104 2111.42,534.948 2116.56,542.867 2121.7,550.861 2126.83,558.928 2131.97,567.065 2137.11,575.27 \n",
       "  2142.25,583.541 2147.39,591.877 2152.52,600.274 2157.66,608.732 2162.8,617.248 2167.94,625.82 2173.08,634.445 2178.22,643.122 2183.35,651.849 2188.49,660.623 \n",
       "  2193.63,669.442 2198.77,678.304 2203.91,687.207 2209.04,696.148 2214.18,705.125 2219.32,714.137 2224.46,723.181 2229.6,732.254 2234.73,741.354 2239.87,750.48 \n",
       "  2245.01,759.628 2250.15,768.797 2255.29,777.985 2260.42,787.188 2265.56,796.405 2270.7,805.634 2275.84,814.872 2280.98,824.116 2286.11,833.365 2291.25,842.617 \n",
       "  \n",
       "  \"/>\n",
       "<polyline clip-path=\"url(#clip892)\" style=\"stroke:#ff0000; stroke-width:8; stroke-opacity:1; fill:none\" points=\"\n",
       "  241.157,609.102 246.295,628.332 251.433,647.296 256.571,665.995 261.709,684.43 266.847,702.604 271.985,720.516 277.123,738.168 282.261,755.563 287.399,772.7 \n",
       "  292.537,789.582 297.676,806.209 302.814,822.583 307.952,838.705 313.09,854.577 318.228,870.199 323.366,885.574 328.504,900.702 333.642,915.584 338.78,930.223 \n",
       "  343.918,944.619 349.056,958.773 354.194,972.688 359.333,986.363 364.471,999.801 369.609,1013 374.747,1025.97 379.885,1038.7 385.023,1051.2 390.161,1063.47 \n",
       "  395.299,1075.51 400.437,1087.33 405.575,1098.91 410.713,1110.27 415.851,1121.4 420.99,1132.31 426.128,1143 431.266,1153.47 436.404,1163.72 441.542,1173.75 \n",
       "  446.68,1183.57 451.818,1193.17 456.956,1202.55 462.094,1211.72 467.232,1220.68 472.37,1229.43 477.509,1237.97 482.647,1246.31 487.785,1254.44 492.923,1262.36 \n",
       "  498.061,1270.08 503.199,1277.59 508.337,1284.91 513.475,1292.02 518.613,1298.94 523.751,1305.66 528.889,1312.18 534.027,1318.51 539.166,1324.65 544.304,1330.59 \n",
       "  549.442,1336.35 554.58,1341.91 559.718,1347.29 564.856,1352.47 569.994,1357.48 575.132,1362.3 580.27,1366.93 585.408,1371.39 590.546,1375.66 595.685,1379.76 \n",
       "  600.823,1383.67 605.961,1387.41 611.099,1390.98 616.237,1394.37 621.375,1397.59 626.513,1400.64 631.651,1403.52 636.789,1406.23 641.927,1408.77 647.065,1411.15 \n",
       "  652.203,1413.36 657.342,1415.41 662.48,1417.29 667.618,1419.02 672.756,1420.58 677.894,1421.99 683.032,1423.24 688.17,1424.33 693.308,1425.28 698.446,1426.06 \n",
       "  703.584,1426.7 708.722,1427.18 713.861,1427.52 718.999,1427.71 724.137,1427.75 729.275,1427.65 734.413,1427.4 739.551,1427.01 744.689,1426.48 749.827,1425.81 \n",
       "  754.965,1425 760.103,1424.05 765.241,1422.97 770.379,1421.75 775.518,1420.4 780.656,1418.91 785.794,1417.3 790.932,1415.56 796.07,1413.68 801.208,1411.68 \n",
       "  806.346,1409.56 811.484,1407.31 816.622,1404.93 821.76,1402.44 826.898,1399.82 832.036,1397.09 837.175,1394.24 842.313,1391.27 847.451,1388.18 852.589,1384.98 \n",
       "  857.727,1381.67 862.865,1378.25 868.003,1374.72 873.141,1371.08 878.279,1367.33 883.417,1363.47 888.555,1359.51 893.694,1355.45 898.832,1351.28 903.97,1347.01 \n",
       "  909.108,1342.65 914.246,1338.18 919.384,1333.62 924.522,1328.96 929.66,1324.21 934.798,1319.36 939.936,1314.42 945.074,1309.39 950.212,1304.28 955.351,1299.07 \n",
       "  960.489,1293.78 965.627,1288.4 970.765,1282.94 975.903,1277.39 981.041,1271.76 986.179,1266.06 991.317,1260.27 996.455,1254.41 1001.59,1248.47 1006.73,1242.45 \n",
       "  1011.87,1236.37 1017.01,1230.2 1022.15,1223.97 1027.28,1217.67 1032.42,1211.3 1037.56,1204.86 1042.7,1198.36 1047.84,1191.79 1052.97,1185.16 1058.11,1178.47 \n",
       "  1063.25,1171.71 1068.39,1164.9 1073.53,1158.03 1078.66,1151.1 1083.8,1144.11 1088.94,1137.08 1094.08,1129.98 1099.22,1122.84 1104.36,1115.65 1109.49,1108.41 \n",
       "  1114.63,1101.12 1119.77,1093.78 1124.91,1086.4 1130.05,1078.97 1135.18,1071.51 1140.32,1064 1145.46,1056.45 1150.6,1048.86 1155.74,1041.23 1160.87,1033.57 \n",
       "  1166.01,1025.88 1171.15,1018.15 1176.29,1010.39 1181.43,1002.6 1186.56,994.775 1191.7,986.925 1196.84,979.048 1201.98,971.146 1207.12,963.219 1212.25,955.269 \n",
       "  1217.39,947.298 1222.53,939.306 1227.67,931.295 1232.81,923.267 1237.95,915.221 1243.08,907.161 1248.22,899.086 1253.36,890.999 1258.5,882.901 1263.64,874.793 \n",
       "  1268.77,866.675 1273.91,858.551 1279.05,850.42 1284.19,842.285 1289.33,834.146 1294.46,826.004 1299.6,817.862 1304.74,809.721 1309.88,801.58 1315.02,793.443 \n",
       "  1320.15,785.31 1325.29,777.183 1330.43,769.063 1335.57,760.951 1340.71,752.848 1345.85,744.756 1350.98,736.676 1356.12,728.609 1361.26,720.558 1366.4,712.522 \n",
       "  1371.54,704.503 1376.67,696.503 1381.81,688.523 1386.95,680.564 1392.09,672.628 1397.23,664.715 1402.36,656.827 1407.5,648.966 1412.64,641.132 1417.78,633.328 \n",
       "  1422.92,625.553 1428.05,617.811 1433.19,610.101 1438.33,602.425 1443.47,594.785 1448.61,587.181 1453.74,579.616 1458.88,572.09 1464.02,564.605 1469.16,557.161 \n",
       "  1474.3,549.761 1479.44,542.406 1484.57,535.096 1489.71,527.834 1494.85,520.62 1499.99,513.456 1505.13,506.343 1510.26,499.282 1515.4,492.275 1520.54,485.323 \n",
       "  1525.68,478.427 1530.82,471.589 1535.95,464.809 1541.09,458.09 1546.23,451.433 1551.37,444.838 1556.51,438.307 1561.64,431.841 1566.78,425.442 1571.92,419.112 \n",
       "  1577.06,412.85 1582.2,406.659 1587.34,400.54 1592.47,394.494 1597.61,388.523 1602.75,382.627 1607.89,376.808 1613.03,371.068 1618.16,365.408 1623.3,359.828 \n",
       "  1628.44,354.331 1633.58,348.917 1638.72,343.588 1643.85,338.346 1648.99,333.19 1654.13,328.124 1659.27,323.148 1664.41,318.263 1669.54,313.47 1674.68,308.772 \n",
       "  1679.82,304.169 1684.96,299.663 1690.1,295.254 1695.23,290.945 1700.37,286.736 1705.51,282.629 1710.65,278.625 1715.79,274.725 1720.93,270.931 1726.06,267.244 \n",
       "  1731.2,263.665 1736.34,260.196 1741.48,256.838 1746.62,253.591 1751.75,250.459 1756.89,247.441 1762.03,244.539 1767.17,241.755 1772.31,239.089 1777.44,236.543 \n",
       "  1782.58,234.118 1787.72,231.816 1792.86,229.638 1798,227.586 1803.13,225.659 1808.27,223.86 1813.41,222.191 1818.55,220.652 1823.69,219.244 1828.83,217.97 \n",
       "  1833.96,216.829 1839.1,215.825 1844.24,214.957 1849.38,214.227 1854.52,213.637 1859.65,213.188 1864.79,212.88 1869.93,212.716 1875.07,212.697 1880.21,212.824 \n",
       "  1885.34,213.098 1890.48,213.52 1895.62,214.093 1900.76,214.816 1905.9,215.693 1911.03,216.722 1916.17,217.907 1921.31,219.249 1926.45,220.748 1931.59,222.406 \n",
       "  1936.73,224.224 1941.86,226.204 1947,228.346 1952.14,230.653 1957.28,233.126 1962.42,235.765 1967.55,238.572 1972.69,241.548 1977.83,244.696 1982.97,248.015 \n",
       "  1988.11,251.507 1993.24,255.174 1998.38,259.017 2003.52,263.037 2008.66,267.236 2013.8,271.614 2018.93,276.174 2024.07,280.916 2029.21,285.841 2034.35,290.951 \n",
       "  2039.49,296.248 2044.62,301.733 2049.76,307.406 2054.9,313.269 2060.04,319.324 2065.18,325.571 2070.32,332.013 2075.45,338.65 2080.59,345.484 2085.73,352.516 \n",
       "  2090.87,359.747 2096.01,367.178 2101.14,374.812 2106.28,382.648 2111.42,390.689 2116.56,398.936 2121.7,407.39 2126.83,416.052 2131.97,424.924 2137.11,434.007 \n",
       "  2142.25,443.302 2147.39,452.811 2152.52,462.535 2157.66,472.475 2162.8,482.632 2167.94,493.008 2173.08,503.604 2178.22,514.422 2183.35,525.462 2188.49,536.726 \n",
       "  2193.63,548.216 2198.77,559.932 2203.91,571.876 2209.04,584.049 2214.18,596.452 2219.32,609.088 2224.46,621.956 2229.6,635.059 2234.73,648.397 2239.87,661.973 \n",
       "  2245.01,675.786 2250.15,689.84 2255.29,704.134 2260.42,718.67 2265.56,733.45 2270.7,748.475 2275.84,763.745 2280.98,779.263 2286.11,795.03 2291.25,811.047 \n",
       "  \n",
       "  \"/>\n",
       "<path clip-path=\"url(#clip890)\" d=\"\n",
       "M252.09 337.138 L923.174 337.138 L923.174 95.2176 L252.09 95.2176  Z\n",
       "  \" fill=\"#ffffff\" fill-rule=\"evenodd\" fill-opacity=\"1\"/>\n",
       "<polyline clip-path=\"url(#clip890)\" style=\"stroke:#000000; stroke-width:4; stroke-opacity:1; fill:none\" points=\"\n",
       "  252.09,337.138 923.174,337.138 923.174,95.2176 252.09,95.2176 252.09,337.138 \n",
       "  \"/>\n",
       "<circle clip-path=\"url(#clip890)\" cx=\"348.673\" cy=\"155.698\" r=\"23\" fill=\"#009af9\" fill-rule=\"evenodd\" fill-opacity=\"1\" stroke=\"#000000\" stroke-opacity=\"1\" stroke-width=\"5.12\"/>\n",
       "<path clip-path=\"url(#clip890)\" d=\"M 0 0 M463.681 147.816 L463.681 151.843 Q461.875 150.917 459.931 150.455 Q457.986 149.992 455.903 149.992 Q452.732 149.992 451.135 150.964 Q449.561 151.936 449.561 153.88 Q449.561 155.362 450.695 156.218 Q451.829 157.052 455.255 157.816 L456.713 158.14 Q461.25 159.112 463.148 160.894 Q465.07 162.654 465.07 165.825 Q465.07 169.436 462.199 171.542 Q459.352 173.649 454.352 173.649 Q452.269 173.649 450 173.232 Q447.755 172.839 445.255 172.028 L445.255 167.63 Q447.616 168.857 449.908 169.482 Q452.199 170.084 454.445 170.084 Q457.454 170.084 459.074 169.066 Q460.695 168.024 460.695 166.149 Q460.695 164.413 459.514 163.487 Q458.357 162.561 454.399 161.704 L452.917 161.357 Q448.959 160.524 447.199 158.811 Q445.44 157.075 445.44 154.066 Q445.44 150.408 448.033 148.418 Q450.625 146.427 455.394 146.427 Q457.755 146.427 459.838 146.774 Q461.922 147.121 463.681 147.816 Z\" fill=\"#000000\" fill-rule=\"evenodd\" fill-opacity=\"1\" /><path clip-path=\"url(#clip890)\" d=\"M 0 0 M481.32 159.945 Q476.158 159.945 474.167 161.126 Q472.176 162.306 472.176 165.154 Q472.176 167.422 473.658 168.765 Q475.162 170.084 477.732 170.084 Q481.273 170.084 483.403 167.584 Q485.556 165.061 485.556 160.894 L485.556 159.945 L481.32 159.945 M489.815 158.186 L489.815 172.978 L485.556 172.978 L485.556 169.042 Q484.097 171.403 481.922 172.538 Q479.746 173.649 476.597 173.649 Q472.616 173.649 470.255 171.427 Q467.917 169.181 467.917 165.431 Q467.917 161.056 470.834 158.834 Q473.773 156.612 479.584 156.612 L485.556 156.612 L485.556 156.195 Q485.556 153.255 483.611 151.658 Q481.69 150.038 478.195 150.038 Q475.972 150.038 473.866 150.57 Q471.76 151.103 469.815 152.167 L469.815 148.232 Q472.153 147.33 474.352 146.89 Q476.551 146.427 478.635 146.427 Q484.259 146.427 487.037 149.343 Q489.815 152.26 489.815 158.186 Z\" fill=\"#000000\" fill-rule=\"evenodd\" fill-opacity=\"1\" /><path clip-path=\"url(#clip890)\" d=\"M 0 0 M514.468 152.029 Q516.065 149.158 518.287 147.793 Q520.509 146.427 523.519 146.427 Q527.569 146.427 529.768 149.274 Q531.968 152.098 531.968 157.329 L531.968 172.978 L527.685 172.978 L527.685 157.468 Q527.685 153.742 526.366 151.936 Q525.046 150.13 522.338 150.13 Q519.028 150.13 517.107 152.33 Q515.185 154.529 515.185 158.325 L515.185 172.978 L510.903 172.978 L510.903 157.468 Q510.903 153.718 509.583 151.936 Q508.264 150.13 505.509 150.13 Q502.245 150.13 500.324 152.353 Q498.403 154.552 498.403 158.325 L498.403 172.978 L494.121 172.978 L494.121 147.052 L498.403 147.052 L498.403 151.08 Q499.861 148.695 501.898 147.561 Q503.935 146.427 506.736 146.427 Q509.56 146.427 511.528 147.862 Q513.519 149.297 514.468 152.029 Z\" fill=\"#000000\" fill-rule=\"evenodd\" fill-opacity=\"1\" /><path clip-path=\"url(#clip890)\" d=\"M 0 0 M540.555 169.089 L540.555 182.839 L536.273 182.839 L536.273 147.052 L540.555 147.052 L540.555 150.987 Q541.898 148.672 543.935 147.561 Q545.995 146.427 548.842 146.427 Q553.565 146.427 556.504 150.177 Q559.467 153.927 559.467 160.038 Q559.467 166.149 556.504 169.899 Q553.565 173.649 548.842 173.649 Q545.995 173.649 543.935 172.538 Q541.898 171.403 540.555 169.089 M555.046 160.038 Q555.046 155.339 553.102 152.677 Q551.18 149.992 547.801 149.992 Q544.421 149.992 542.477 152.677 Q540.555 155.339 540.555 160.038 Q540.555 164.737 542.477 167.422 Q544.421 170.084 547.801 170.084 Q551.18 170.084 553.102 167.422 Q555.046 164.737 555.046 160.038 Z\" fill=\"#000000\" fill-rule=\"evenodd\" fill-opacity=\"1\" /><path clip-path=\"url(#clip890)\" d=\"M 0 0 M563.935 136.959 L568.194 136.959 L568.194 172.978 L563.935 172.978 L563.935 136.959 Z\" fill=\"#000000\" fill-rule=\"evenodd\" fill-opacity=\"1\" /><path clip-path=\"url(#clip890)\" d=\"M 0 0 M594.838 158.95 L594.838 161.033 L575.254 161.033 Q575.532 165.431 577.893 167.746 Q580.277 170.038 584.514 170.038 Q586.967 170.038 589.259 169.436 Q591.574 168.834 593.842 167.63 L593.842 171.658 Q591.551 172.63 589.143 173.14 Q586.736 173.649 584.259 173.649 Q578.055 173.649 574.421 170.038 Q570.81 166.427 570.81 160.269 Q570.81 153.904 574.236 150.177 Q577.685 146.427 583.518 146.427 Q588.75 146.427 591.782 149.806 Q594.838 153.163 594.838 158.95 M590.578 157.7 Q590.532 154.205 588.611 152.121 Q586.713 150.038 583.564 150.038 Q580 150.038 577.847 152.052 Q575.717 154.066 575.393 157.723 L590.578 157.7 Z\" fill=\"#000000\" fill-rule=\"evenodd\" fill-opacity=\"1\" /><polyline clip-path=\"url(#clip890)\" style=\"stroke:#0000ff; stroke-width:4; stroke-opacity:1; fill:none\" stroke-dasharray=\"16, 10\" points=\"\n",
       "  276.236,216.178 421.109,216.178 \n",
       "  \"/>\n",
       "<path clip-path=\"url(#clip890)\" d=\"M 0 0 M463.681 208.296 L463.681 212.323 Q461.875 211.397 459.931 210.935 Q457.986 210.472 455.903 210.472 Q452.732 210.472 451.135 211.444 Q449.561 212.416 449.561 214.36 Q449.561 215.842 450.695 216.698 Q451.829 217.532 455.255 218.296 L456.713 218.62 Q461.25 219.592 463.148 221.374 Q465.07 223.134 465.07 226.305 Q465.07 229.916 462.199 232.022 Q459.352 234.129 454.352 234.129 Q452.269 234.129 450 233.712 Q447.755 233.319 445.255 232.508 L445.255 228.11 Q447.616 229.337 449.908 229.962 Q452.199 230.564 454.445 230.564 Q457.454 230.564 459.074 229.546 Q460.695 228.504 460.695 226.629 Q460.695 224.893 459.514 223.967 Q458.357 223.041 454.399 222.184 L452.917 221.837 Q448.959 221.004 447.199 219.291 Q445.44 217.555 445.44 214.546 Q445.44 210.888 448.033 208.898 Q450.625 206.907 455.394 206.907 Q457.755 206.907 459.838 207.254 Q461.922 207.601 463.681 208.296 Z\" fill=\"#000000\" fill-rule=\"evenodd\" fill-opacity=\"1\" /><path clip-path=\"url(#clip890)\" d=\"M 0 0 M469.537 207.532 L473.797 207.532 L473.797 233.458 L469.537 233.458 L469.537 207.532 M469.537 197.439 L473.797 197.439 L473.797 202.833 L469.537 202.833 L469.537 197.439 Z\" fill=\"#000000\" fill-rule=\"evenodd\" fill-opacity=\"1\" /><path clip-path=\"url(#clip890)\" d=\"M 0 0 M499.815 217.809 L499.815 233.458 L495.556 233.458 L495.556 217.948 Q495.556 214.268 494.121 212.439 Q492.685 210.61 489.815 210.61 Q486.366 210.61 484.375 212.81 Q482.384 215.009 482.384 218.805 L482.384 233.458 L478.102 233.458 L478.102 207.532 L482.384 207.532 L482.384 211.56 Q483.912 209.222 485.972 208.064 Q488.056 206.907 490.764 206.907 Q495.232 206.907 497.523 209.685 Q499.815 212.439 499.815 217.809 Z\" fill=\"#000000\" fill-rule=\"evenodd\" fill-opacity=\"1\" /><path clip-path=\"url(#clip890)\" d=\"M 0 0 M514.514 197.486 Q511.412 202.81 509.907 208.018 Q508.403 213.226 508.403 218.573 Q508.403 223.921 509.907 229.175 Q511.435 234.407 514.514 239.708 L510.81 239.708 Q507.338 234.268 505.602 229.013 Q503.889 223.759 503.889 218.573 Q503.889 213.411 505.602 208.18 Q507.315 202.948 510.81 197.486 L514.514 197.486 Z\" fill=\"#000000\" fill-rule=\"evenodd\" fill-opacity=\"1\" /><path clip-path=\"url(#clip890)\" d=\"M 0 0 M540.532 207.532 L531.157 220.147 L541.018 233.458 L535.995 233.458 L528.449 223.272 L520.903 233.458 L515.88 233.458 L525.949 219.893 L516.736 207.532 L521.759 207.532 L528.634 216.768 L535.509 207.532 L540.532 207.532 Z\" fill=\"#000000\" fill-rule=\"evenodd\" fill-opacity=\"1\" /><path clip-path=\"url(#clip890)\" d=\"M 0 0 M544.815 197.486 L548.518 197.486 Q551.991 202.948 553.704 208.18 Q555.44 213.411 555.44 218.573 Q555.44 223.759 553.704 229.013 Q551.991 234.268 548.518 239.708 L544.815 239.708 Q547.893 234.407 549.398 229.175 Q550.926 223.921 550.926 218.573 Q550.926 213.226 549.398 208.018 Q547.893 202.81 544.815 197.486 Z\" fill=\"#000000\" fill-rule=\"evenodd\" fill-opacity=\"1\" /><polyline clip-path=\"url(#clip890)\" style=\"stroke:#ff0000; stroke-width:4; stroke-opacity:1; fill:none\" points=\"\n",
       "  276.236,276.658 421.109,276.658 \n",
       "  \"/>\n",
       "<path clip-path=\"url(#clip890)\" d=\"M 0 0 M464.167 271.947 L464.167 257.919 L468.426 257.919 L468.426 293.938 L464.167 293.938 L464.167 290.049 Q462.824 292.363 460.764 293.498 Q458.727 294.609 455.857 294.609 Q451.158 294.609 448.195 290.859 Q445.255 287.109 445.255 280.998 Q445.255 274.887 448.195 271.137 Q451.158 267.387 455.857 267.387 Q458.727 267.387 460.764 268.521 Q462.824 269.632 464.167 271.947 M449.653 280.998 Q449.653 285.697 451.574 288.382 Q453.519 291.044 456.899 291.044 Q460.278 291.044 462.223 288.382 Q464.167 285.697 464.167 280.998 Q464.167 276.299 462.223 273.637 Q460.278 270.952 456.899 270.952 Q453.519 270.952 451.574 273.637 Q449.653 276.299 449.653 280.998 Z\" fill=\"#000000\" fill-rule=\"evenodd\" fill-opacity=\"1\" /><path clip-path=\"url(#clip890)\" d=\"M 0 0 M495.07 279.91 L495.07 281.993 L475.486 281.993 Q475.764 286.391 478.125 288.706 Q480.509 290.998 484.746 290.998 Q487.199 290.998 489.491 290.396 Q491.806 289.794 494.074 288.59 L494.074 292.618 Q491.783 293.59 489.375 294.1 Q486.968 294.609 484.491 294.609 Q478.287 294.609 474.653 290.998 Q471.042 287.387 471.042 281.229 Q471.042 274.864 474.468 271.137 Q477.917 267.387 483.75 267.387 Q488.982 267.387 492.014 270.766 Q495.07 274.123 495.07 279.91 M490.81 278.66 Q490.764 275.165 488.843 273.081 Q486.945 270.998 483.797 270.998 Q480.232 270.998 478.079 273.012 Q475.949 275.026 475.625 278.683 L490.81 278.66 Z\" fill=\"#000000\" fill-rule=\"evenodd\" fill-opacity=\"1\" /><path clip-path=\"url(#clip890)\" d=\"M 0 0 M516.597 280.674 Q516.597 276.044 514.676 273.498 Q512.778 270.952 509.329 270.952 Q505.903 270.952 503.982 273.498 Q502.083 276.044 502.083 280.674 Q502.083 285.28 503.982 287.826 Q505.903 290.373 509.329 290.373 Q512.778 290.373 514.676 287.826 Q516.597 285.28 516.597 280.674 M520.856 290.72 Q520.856 297.34 517.917 300.558 Q514.977 303.799 508.912 303.799 Q506.667 303.799 504.676 303.451 Q502.685 303.127 500.81 302.433 L500.81 298.289 Q502.685 299.308 504.514 299.794 Q506.343 300.28 508.241 300.28 Q512.431 300.28 514.514 298.081 Q516.597 295.905 516.597 291.484 L516.597 289.377 Q515.278 291.669 513.218 292.803 Q511.157 293.938 508.287 293.938 Q503.519 293.938 500.602 290.303 Q497.685 286.669 497.685 280.674 Q497.685 274.655 500.602 271.021 Q503.519 267.387 508.287 267.387 Q511.157 267.387 513.218 268.521 Q515.278 269.655 516.597 271.947 L516.597 268.012 L520.856 268.012 L520.856 290.72 Z\" fill=\"#000000\" fill-rule=\"evenodd\" fill-opacity=\"1\" /><path clip-path=\"url(#clip890)\" d=\"M 0 0 M540.347 271.993 Q539.63 271.577 538.773 271.391 Q537.94 271.183 536.921 271.183 Q533.31 271.183 531.366 273.544 Q529.444 275.882 529.444 280.28 L529.444 293.938 L525.162 293.938 L525.162 268.012 L529.444 268.012 L529.444 272.04 Q530.787 269.678 532.94 268.544 Q535.093 267.387 538.171 267.387 Q538.611 267.387 539.143 267.456 Q539.676 267.503 540.324 267.618 L540.347 271.993 Z\" fill=\"#000000\" fill-rule=\"evenodd\" fill-opacity=\"1\" /><path clip-path=\"url(#clip890)\" d=\"M 0 0 M565.949 279.91 L565.949 281.993 L546.366 281.993 Q546.643 286.391 549.004 288.706 Q551.389 290.998 555.625 290.998 Q558.079 290.998 560.37 290.396 Q562.685 289.794 564.953 288.59 L564.953 292.618 Q562.662 293.59 560.254 294.1 Q557.847 294.609 555.37 294.609 Q549.167 294.609 545.532 290.998 Q541.921 287.387 541.921 281.229 Q541.921 274.864 545.347 271.137 Q548.796 267.387 554.629 267.387 Q559.861 267.387 562.893 270.766 Q565.949 274.123 565.949 279.91 M561.69 278.66 Q561.643 275.165 559.722 273.081 Q557.824 270.998 554.676 270.998 Q551.111 270.998 548.958 273.012 Q546.829 275.026 546.505 278.683 L561.69 278.66 Z\" fill=\"#000000\" fill-rule=\"evenodd\" fill-opacity=\"1\" /><path clip-path=\"url(#clip890)\" d=\"M 0 0 M592.592 279.91 L592.592 281.993 L573.009 281.993 Q573.287 286.391 575.648 288.706 Q578.032 290.998 582.268 290.998 Q584.722 290.998 587.014 290.396 Q589.328 289.794 591.597 288.59 L591.597 292.618 Q589.305 293.59 586.898 294.1 Q584.49 294.609 582.014 294.609 Q575.81 294.609 572.176 290.998 Q568.565 287.387 568.565 281.229 Q568.565 274.864 571.99 271.137 Q575.44 267.387 581.273 267.387 Q586.504 267.387 589.537 270.766 Q592.592 274.123 592.592 279.91 M588.333 278.66 Q588.287 275.165 586.365 273.081 Q584.467 270.998 581.319 270.998 Q577.754 270.998 575.602 273.012 Q573.472 275.026 573.148 278.683 L588.333 278.66 Z\" fill=\"#000000\" fill-rule=\"evenodd\" fill-opacity=\"1\" /><path clip-path=\"url(#clip890)\" d=\"M 0 0 M594.907 279.053 L607.384 279.053 L607.384 282.85 L594.907 282.85 L594.907 279.053 Z\" fill=\"#000000\" fill-rule=\"evenodd\" fill-opacity=\"1\" /><path clip-path=\"url(#clip890)\" d=\"M 0 0 M626.62 275.303 Q629.976 276.021 631.851 278.289 Q633.749 280.558 633.749 283.891 Q633.749 289.007 630.231 291.808 Q626.712 294.609 620.231 294.609 Q618.055 294.609 615.74 294.169 Q613.449 293.752 610.995 292.896 L610.995 288.382 Q612.939 289.516 615.254 290.095 Q617.569 290.674 620.092 290.674 Q624.49 290.674 626.782 288.938 Q629.097 287.201 629.097 283.891 Q629.097 280.836 626.944 279.123 Q624.814 277.387 620.995 277.387 L616.967 277.387 L616.967 273.544 L621.18 273.544 Q624.629 273.544 626.458 272.178 Q628.286 270.79 628.286 268.197 Q628.286 265.535 626.388 264.123 Q624.513 262.688 620.995 262.688 Q619.074 262.688 616.875 263.104 Q614.675 263.521 612.037 264.401 L612.037 260.234 Q614.699 259.493 617.013 259.123 Q619.351 258.753 621.412 258.753 Q626.736 258.753 629.837 261.183 Q632.939 263.59 632.939 267.711 Q632.939 270.581 631.296 272.572 Q629.652 274.54 626.62 275.303 Z\" fill=\"#000000\" fill-rule=\"evenodd\" fill-opacity=\"1\" /><path clip-path=\"url(#clip890)\" d=\"M 0 0 M657.407 290.049 L657.407 303.799 L653.124 303.799 L653.124 268.012 L657.407 268.012 L657.407 271.947 Q658.749 269.632 660.786 268.521 Q662.846 267.387 665.694 267.387 Q670.416 267.387 673.356 271.137 Q676.319 274.887 676.319 280.998 Q676.319 287.109 673.356 290.859 Q670.416 294.609 665.694 294.609 Q662.846 294.609 660.786 293.498 Q658.749 292.363 657.407 290.049 M671.897 280.998 Q671.897 276.299 669.953 273.637 Q668.032 270.952 664.652 270.952 Q661.272 270.952 659.328 273.637 Q657.407 276.299 657.407 280.998 Q657.407 285.697 659.328 288.382 Q661.272 291.044 664.652 291.044 Q668.032 291.044 669.953 288.382 Q671.897 285.697 671.897 280.998 Z\" fill=\"#000000\" fill-rule=\"evenodd\" fill-opacity=\"1\" /><path clip-path=\"url(#clip890)\" d=\"M 0 0 M690.832 270.998 Q687.407 270.998 685.416 273.683 Q683.425 276.345 683.425 280.998 Q683.425 285.651 685.393 288.336 Q687.383 290.998 690.832 290.998 Q694.235 290.998 696.226 288.313 Q698.217 285.627 698.217 280.998 Q698.217 276.391 696.226 273.706 Q694.235 270.998 690.832 270.998 M690.832 267.387 Q696.388 267.387 699.559 270.998 Q702.731 274.609 702.731 280.998 Q702.731 287.364 699.559 290.998 Q696.388 294.609 690.832 294.609 Q685.254 294.609 682.082 290.998 Q678.934 287.364 678.934 280.998 Q678.934 274.609 682.082 270.998 Q685.254 267.387 690.832 267.387 Z\" fill=\"#000000\" fill-rule=\"evenodd\" fill-opacity=\"1\" /><path clip-path=\"url(#clip890)\" d=\"M 0 0 M707.198 257.919 L711.457 257.919 L711.457 293.938 L707.198 293.938 L707.198 257.919 Z\" fill=\"#000000\" fill-rule=\"evenodd\" fill-opacity=\"1\" /><path clip-path=\"url(#clip890)\" d=\"M 0 0 M726.712 296.345 Q724.906 300.975 723.193 302.387 Q721.48 303.799 718.61 303.799 L715.207 303.799 L715.207 300.234 L717.707 300.234 Q719.467 300.234 720.439 299.4 Q721.411 298.567 722.592 295.465 L723.355 293.521 L712.869 268.012 L717.383 268.012 L725.485 288.289 L733.587 268.012 L738.101 268.012 L726.712 296.345 Z\" fill=\"#000000\" fill-rule=\"evenodd\" fill-opacity=\"1\" /><path clip-path=\"url(#clip890)\" d=\"M 0 0 M764.119 278.289 L764.119 293.938 L759.86 293.938 L759.86 278.428 Q759.86 274.748 758.425 272.919 Q756.989 271.09 754.119 271.09 Q750.67 271.09 748.679 273.29 Q746.689 275.489 746.689 279.285 L746.689 293.938 L742.406 293.938 L742.406 268.012 L746.689 268.012 L746.689 272.04 Q748.216 269.702 750.277 268.544 Q752.36 267.387 755.068 267.387 Q759.536 267.387 761.827 270.165 Q764.119 272.919 764.119 278.289 Z\" fill=\"#000000\" fill-rule=\"evenodd\" fill-opacity=\"1\" /><path clip-path=\"url(#clip890)\" d=\"M 0 0 M778.633 270.998 Q775.207 270.998 773.216 273.683 Q771.226 276.345 771.226 280.998 Q771.226 285.651 773.193 288.336 Q775.184 290.998 778.633 290.998 Q782.036 290.998 784.026 288.313 Q786.017 285.627 786.017 280.998 Q786.017 276.391 784.026 273.706 Q782.036 270.998 778.633 270.998 M778.633 267.387 Q784.188 267.387 787.36 270.998 Q790.531 274.609 790.531 280.998 Q790.531 287.364 787.36 290.998 Q784.188 294.609 778.633 294.609 Q773.054 294.609 769.883 290.998 Q766.735 287.364 766.735 280.998 Q766.735 274.609 769.883 270.998 Q773.054 267.387 778.633 267.387 Z\" fill=\"#000000\" fill-rule=\"evenodd\" fill-opacity=\"1\" /><path clip-path=\"url(#clip890)\" d=\"M 0 0 M815.184 272.989 Q816.781 270.118 819.003 268.753 Q821.225 267.387 824.235 267.387 Q828.285 267.387 830.484 270.234 Q832.684 273.058 832.684 278.289 L832.684 293.938 L828.401 293.938 L828.401 278.428 Q828.401 274.702 827.082 272.896 Q825.762 271.09 823.054 271.09 Q819.744 271.09 817.822 273.29 Q815.901 275.489 815.901 279.285 L815.901 293.938 L811.619 293.938 L811.619 278.428 Q811.619 274.678 810.299 272.896 Q808.98 271.09 806.225 271.09 Q802.961 271.09 801.04 273.313 Q799.119 275.512 799.119 279.285 L799.119 293.938 L794.837 293.938 L794.837 268.012 L799.119 268.012 L799.119 272.04 Q800.577 269.655 802.614 268.521 Q804.651 267.387 807.452 267.387 Q810.276 267.387 812.244 268.822 Q814.235 270.257 815.184 272.989 Z\" fill=\"#000000\" fill-rule=\"evenodd\" fill-opacity=\"1\" /><path clip-path=\"url(#clip890)\" d=\"M 0 0 M837.151 268.012 L841.41 268.012 L841.41 293.938 L837.151 293.938 L837.151 268.012 M837.151 257.919 L841.41 257.919 L841.41 263.313 L837.151 263.313 L837.151 257.919 Z\" fill=\"#000000\" fill-rule=\"evenodd\" fill-opacity=\"1\" /><path clip-path=\"url(#clip890)\" d=\"M 0 0 M857.66 280.905 Q852.498 280.905 850.508 282.086 Q848.517 283.266 848.517 286.114 Q848.517 288.382 849.998 289.725 Q851.503 291.044 854.072 291.044 Q857.614 291.044 859.744 288.544 Q861.896 286.021 861.896 281.854 L861.896 280.905 L857.66 280.905 M866.156 279.146 L866.156 293.938 L861.896 293.938 L861.896 290.002 Q860.438 292.363 858.262 293.498 Q856.086 294.609 852.938 294.609 Q848.957 294.609 846.595 292.387 Q844.258 290.141 844.258 286.391 Q844.258 282.016 847.174 279.794 Q850.114 277.572 855.924 277.572 L861.896 277.572 L861.896 277.155 Q861.896 274.215 859.952 272.618 Q858.031 270.998 854.535 270.998 Q852.313 270.998 850.207 271.53 Q848.1 272.063 846.156 273.127 L846.156 269.192 Q848.494 268.29 850.693 267.85 Q852.892 267.387 854.975 267.387 Q860.6 267.387 863.378 270.303 Q866.156 273.22 866.156 279.146 Z\" fill=\"#000000\" fill-rule=\"evenodd\" fill-opacity=\"1\" /><path clip-path=\"url(#clip890)\" d=\"M 0 0 M870.623 257.919 L874.882 257.919 L874.882 293.938 L870.623 293.938 L870.623 257.919 Z\" fill=\"#000000\" fill-rule=\"evenodd\" fill-opacity=\"1\" /></svg>\n"
      ]
     },
     "execution_count": 17,
     "metadata": {},
     "output_type": "execute_result"
    }
   ],
   "source": [
    "begin\n",
    "    using Plots\n",
    "    n = 20\n",
    "    x = range(-π, π; length=20)\n",
    "    noise = 0.3randn(n)\n",
    "    y = sin.(x) + noise\n",
    "    X = hcat((x.^k for k in 0:3)...)\n",
    "    b = X\\y\n",
    "    f(x) = sum(b[k+1]*x^k for k in 0:3)\n",
    "    xs = range(-π, π; length=400)\n",
    "    plot(; legend=:topleft)\n",
    "    scatter!(x, y; label=\"sample\")\n",
    "    plot!(xs, sin.(xs); label=\"sin(x)\", color=:blue, ls=:dash)\n",
    "    plot!(xs, f.(xs); label=\"degree-3 polynomial\", color=:red, lw=2)\n",
    "end"
   ]
  },
  {
   "cell_type": "code",
   "execution_count": 18,
   "metadata": {},
   "outputs": [
    {
     "name": "stdout",
     "output_type": "stream",
     "text": [
      "(:block, \n",
      "    (:using, \n",
      "        (:., :Plots)), \n",
      "    (:(=), :n, 20), \n",
      "    (:(=), :x, \n",
      "        (:call, :range, \n",
      "            (:parameters, \n",
      "                (:kw, :length, 20)), \n",
      "            (:call, :-, :π), :π)), \n",
      "    (:(=), :noise, \n",
      "        (:call, :*, 0.3, \n",
      "            (:call, :randn, :n))), \n",
      "    (:(=), :y, \n",
      "        (:call, :+, \n",
      "            (:., :sin, \n",
      "                (:tuple, :x)), :noise)), \n",
      "    (:(=), :X, \n",
      "        (:call, :hcat, \n",
      "            (:..., \n",
      "                (:generator, \n",
      "                    (:call, :.^, :x, :k), \n",
      "                    (:(=), :k, \n",
      "                        (:call, :(:), 0, 3)))))), \n",
      "    (:(=), :b, \n",
      "        (:call, :\\, :X, :y)), \n",
      "    (:(=), \n",
      "        (:call, :f, :x), \n",
      "        (:block, \n",
      "            (:call, :sum, \n",
      "                (:generator, \n",
      "                    (:call, :*, \n",
      "                        (:ref, :b, \n",
      "                            (:call, :+, :k, 1)), \n",
      "                        (:call, :^, :x, :k)), \n",
      "                    (:(=), :k, \n",
      "                        (:call, :(:), 0, 3)))))), \n",
      "    (:(=), :xs, \n",
      "        (:call, :range, \n",
      "            (:parameters, \n",
      "                (:kw, :length, 400)), \n",
      "            (:call, :-, :π), :π)), \n",
      "    (:call, :plot, \n",
      "        (:parameters, \n",
      "            (:kw, :legend, QuoteNode(:topleft)))), \n",
      "    (:call, :scatter!, \n",
      "        (:parameters, \n",
      "            (:kw, :label, \"sample\")), :x, :y), \n",
      "    (:call, :plot!, \n",
      "        (:parameters, \n",
      "            (:kw, :label, \"sin(x)\"), \n",
      "            (:kw, :color, QuoteNode(:blue)), \n",
      "            (:kw, :ls, QuoteNode(:dash))), :xs, \n",
      "        (:., :sin, \n",
      "            (:tuple, :xs))), \n",
      "    (:call, :plot!, \n",
      "        (:parameters, \n",
      "            (:kw, :label, \"degree-3 polynomial\"), \n",
      "            (:kw, :color, QuoteNode(:red)), \n",
      "            (:kw, :lw, 2)), :xs, \n",
      "        (:., :f, \n",
      "            (:tuple, :xs))))"
     ]
    }
   ],
   "source": [
    "@show_texpr begin\n",
    "    using Plots\n",
    "    n = 20\n",
    "    x = range(-π, π; length=20)\n",
    "    noise = 0.3randn(n)\n",
    "    y = sin.(x) + noise\n",
    "    X = hcat((x.^k for k in 0:3)...)\n",
    "    b = X\\y\n",
    "    f(x) = sum(b[k+1]*x^k for k in 0:3)\n",
    "    xs = range(-π, π; length=400)\n",
    "    plot(; legend=:topleft)\n",
    "    scatter!(x, y; label=\"sample\")\n",
    "    plot!(xs, sin.(xs); label=\"sin(x)\", color=:blue, ls=:dash)\n",
    "    plot!(xs, f.(xs); label=\"degree-3 polynomial\", color=:red, lw=2)\n",
    "end"
   ]
  },
  {
   "cell_type": "code",
   "execution_count": 19,
   "metadata": {},
   "outputs": [
    {
     "data": {
      "image/svg+xml": [
       "<?xml version=\"1.0\" encoding=\"utf-8\"?>\n",
       "<svg xmlns=\"http://www.w3.org/2000/svg\" xmlns:xlink=\"http://www.w3.org/1999/xlink\" width=\"600\" height=\"400\" viewBox=\"0 0 2400 1600\">\n",
       "<defs>\n",
       "  <clipPath id=\"clip930\">\n",
       "    <rect x=\"0\" y=\"0\" width=\"2400\" height=\"1600\"/>\n",
       "  </clipPath>\n",
       "</defs>\n",
       "<path clip-path=\"url(#clip930)\" d=\"\n",
       "M0 1600 L2400 1600 L2400 0 L0 0  Z\n",
       "  \" fill=\"#ffffff\" fill-rule=\"evenodd\" fill-opacity=\"1\"/>\n",
       "<defs>\n",
       "  <clipPath id=\"clip931\">\n",
       "    <rect x=\"480\" y=\"0\" width=\"1681\" height=\"1600\"/>\n",
       "  </clipPath>\n",
       "</defs>\n",
       "<path clip-path=\"url(#clip930)\" d=\"\n",
       "M179.654 1486.45 L2352.76 1486.45 L2352.76 47.2441 L179.654 47.2441  Z\n",
       "  \" fill=\"#ffffff\" fill-rule=\"evenodd\" fill-opacity=\"1\"/>\n",
       "<defs>\n",
       "  <clipPath id=\"clip932\">\n",
       "    <rect x=\"179\" y=\"47\" width=\"2174\" height=\"1440\"/>\n",
       "  </clipPath>\n",
       "</defs>\n",
       "<polyline clip-path=\"url(#clip932)\" style=\"stroke:#000000; stroke-width:2; stroke-opacity:0.1; fill:none\" points=\"\n",
       "  287.356,1486.45 287.356,47.2441 \n",
       "  \"/>\n",
       "<polyline clip-path=\"url(#clip932)\" style=\"stroke:#000000; stroke-width:2; stroke-opacity:0.1; fill:none\" points=\"\n",
       "  613.639,1486.45 613.639,47.2441 \n",
       "  \"/>\n",
       "<polyline clip-path=\"url(#clip932)\" style=\"stroke:#000000; stroke-width:2; stroke-opacity:0.1; fill:none\" points=\"\n",
       "  939.922,1486.45 939.922,47.2441 \n",
       "  \"/>\n",
       "<polyline clip-path=\"url(#clip932)\" style=\"stroke:#000000; stroke-width:2; stroke-opacity:0.1; fill:none\" points=\"\n",
       "  1266.2,1486.45 1266.2,47.2441 \n",
       "  \"/>\n",
       "<polyline clip-path=\"url(#clip932)\" style=\"stroke:#000000; stroke-width:2; stroke-opacity:0.1; fill:none\" points=\"\n",
       "  1592.49,1486.45 1592.49,47.2441 \n",
       "  \"/>\n",
       "<polyline clip-path=\"url(#clip932)\" style=\"stroke:#000000; stroke-width:2; stroke-opacity:0.1; fill:none\" points=\"\n",
       "  1918.77,1486.45 1918.77,47.2441 \n",
       "  \"/>\n",
       "<polyline clip-path=\"url(#clip932)\" style=\"stroke:#000000; stroke-width:2; stroke-opacity:0.1; fill:none\" points=\"\n",
       "  2245.05,1486.45 2245.05,47.2441 \n",
       "  \"/>\n",
       "<polyline clip-path=\"url(#clip930)\" style=\"stroke:#000000; stroke-width:4; stroke-opacity:1; fill:none\" points=\"\n",
       "  179.654,1486.45 2352.76,1486.45 \n",
       "  \"/>\n",
       "<polyline clip-path=\"url(#clip930)\" style=\"stroke:#000000; stroke-width:4; stroke-opacity:1; fill:none\" points=\"\n",
       "  287.356,1486.45 287.356,1469.18 \n",
       "  \"/>\n",
       "<polyline clip-path=\"url(#clip930)\" style=\"stroke:#000000; stroke-width:4; stroke-opacity:1; fill:none\" points=\"\n",
       "  613.639,1486.45 613.639,1469.18 \n",
       "  \"/>\n",
       "<polyline clip-path=\"url(#clip930)\" style=\"stroke:#000000; stroke-width:4; stroke-opacity:1; fill:none\" points=\"\n",
       "  939.922,1486.45 939.922,1469.18 \n",
       "  \"/>\n",
       "<polyline clip-path=\"url(#clip930)\" style=\"stroke:#000000; stroke-width:4; stroke-opacity:1; fill:none\" points=\"\n",
       "  1266.2,1486.45 1266.2,1469.18 \n",
       "  \"/>\n",
       "<polyline clip-path=\"url(#clip930)\" style=\"stroke:#000000; stroke-width:4; stroke-opacity:1; fill:none\" points=\"\n",
       "  1592.49,1486.45 1592.49,1469.18 \n",
       "  \"/>\n",
       "<polyline clip-path=\"url(#clip930)\" style=\"stroke:#000000; stroke-width:4; stroke-opacity:1; fill:none\" points=\"\n",
       "  1918.77,1486.45 1918.77,1469.18 \n",
       "  \"/>\n",
       "<polyline clip-path=\"url(#clip930)\" style=\"stroke:#000000; stroke-width:4; stroke-opacity:1; fill:none\" points=\"\n",
       "  2245.05,1486.45 2245.05,1469.18 \n",
       "  \"/>\n",
       "<path clip-path=\"url(#clip930)\" d=\"M 0 0 M259.335 1530.29 L289.011 1530.29 L289.011 1534.23 L259.335 1534.23 L259.335 1530.29 Z\" fill=\"#000000\" fill-rule=\"evenodd\" fill-opacity=\"1\" /><path clip-path=\"url(#clip930)\" d=\"M 0 0 M308.247 1528.49 Q311.603 1529.2 313.478 1531.47 Q315.377 1533.74 315.377 1537.07 Q315.377 1542.19 311.858 1544.99 Q308.34 1547.79 301.858 1547.79 Q299.682 1547.79 297.367 1547.35 Q295.076 1546.93 292.622 1546.08 L292.622 1541.56 Q294.566 1542.7 296.881 1543.28 Q299.196 1543.86 301.719 1543.86 Q306.117 1543.86 308.409 1542.12 Q310.724 1540.38 310.724 1537.07 Q310.724 1534.02 308.571 1532.31 Q306.441 1530.57 302.622 1530.57 L298.594 1530.57 L298.594 1526.73 L302.807 1526.73 Q306.256 1526.73 308.085 1525.36 Q309.914 1523.97 309.914 1521.38 Q309.914 1518.72 308.015 1517.31 Q306.14 1515.87 302.622 1515.87 Q300.701 1515.87 298.502 1516.29 Q296.303 1516.7 293.664 1517.58 L293.664 1513.42 Q296.326 1512.68 298.64 1512.31 Q300.978 1511.93 303.039 1511.93 Q308.363 1511.93 311.465 1514.37 Q314.566 1516.77 314.566 1520.89 Q314.566 1523.76 312.923 1525.75 Q311.279 1527.72 308.247 1528.49 Z\" fill=\"#000000\" fill-rule=\"evenodd\" fill-opacity=\"1\" /><path clip-path=\"url(#clip930)\" d=\"M 0 0 M586.093 1530.29 L615.768 1530.29 L615.768 1534.23 L586.093 1534.23 L586.093 1530.29 Z\" fill=\"#000000\" fill-rule=\"evenodd\" fill-opacity=\"1\" /><path clip-path=\"url(#clip930)\" d=\"M 0 0 M624.866 1543.18 L641.185 1543.18 L641.185 1547.12 L619.241 1547.12 L619.241 1543.18 Q621.903 1540.43 626.486 1535.8 Q631.092 1531.15 632.273 1529.81 Q634.518 1527.28 635.398 1525.55 Q636.301 1523.79 636.301 1522.1 Q636.301 1519.34 634.356 1517.61 Q632.435 1515.87 629.333 1515.87 Q627.134 1515.87 624.68 1516.63 Q622.25 1517.4 619.472 1518.95 L619.472 1514.23 Q622.296 1513.09 624.75 1512.51 Q627.204 1511.93 629.241 1511.93 Q634.611 1511.93 637.805 1514.62 Q641 1517.31 641 1521.8 Q641 1523.93 640.19 1525.85 Q639.403 1527.74 637.296 1530.34 Q636.717 1531.01 633.616 1534.23 Q630.514 1537.42 624.866 1543.18 Z\" fill=\"#000000\" fill-rule=\"evenodd\" fill-opacity=\"1\" /><path clip-path=\"url(#clip930)\" d=\"M 0 0 M912.19 1530.29 L941.866 1530.29 L941.866 1534.23 L912.19 1534.23 L912.19 1530.29 Z\" fill=\"#000000\" fill-rule=\"evenodd\" fill-opacity=\"1\" /><path clip-path=\"url(#clip930)\" d=\"M 0 0 M947.746 1543.18 L955.385 1543.18 L955.385 1516.82 L947.075 1518.49 L947.075 1514.23 L955.338 1512.56 L960.014 1512.56 L960.014 1543.18 L967.653 1543.18 L967.653 1547.12 L947.746 1547.12 L947.746 1543.18 Z\" fill=\"#000000\" fill-rule=\"evenodd\" fill-opacity=\"1\" /><path clip-path=\"url(#clip930)\" d=\"M 0 0 M1266.2 1515.64 Q1262.59 1515.64 1260.77 1519.2 Q1258.96 1522.75 1258.96 1529.87 Q1258.96 1536.98 1260.77 1540.55 Q1262.59 1544.09 1266.2 1544.09 Q1269.84 1544.09 1271.64 1540.55 Q1273.47 1536.98 1273.47 1529.87 Q1273.47 1522.75 1271.64 1519.2 Q1269.84 1515.64 1266.2 1515.64 M1266.2 1511.93 Q1272.01 1511.93 1275.07 1516.54 Q1278.15 1521.12 1278.15 1529.87 Q1278.15 1538.6 1275.07 1543.21 Q1272.01 1547.79 1266.2 1547.79 Q1260.39 1547.79 1257.32 1543.21 Q1254.26 1538.6 1254.26 1529.87 Q1254.26 1521.12 1257.32 1516.54 Q1260.39 1511.93 1266.2 1511.93 Z\" fill=\"#000000\" fill-rule=\"evenodd\" fill-opacity=\"1\" /><path clip-path=\"url(#clip930)\" d=\"M 0 0 M1582.87 1543.18 L1590.51 1543.18 L1590.51 1516.82 L1582.2 1518.49 L1582.2 1514.23 L1590.46 1512.56 L1595.14 1512.56 L1595.14 1543.18 L1602.78 1543.18 L1602.78 1547.12 L1582.87 1547.12 L1582.87 1543.18 Z\" fill=\"#000000\" fill-rule=\"evenodd\" fill-opacity=\"1\" /><path clip-path=\"url(#clip930)\" d=\"M 0 0 M1913.42 1543.18 L1929.74 1543.18 L1929.74 1547.12 L1907.8 1547.12 L1907.8 1543.18 Q1910.46 1540.43 1915.04 1535.8 Q1919.65 1531.15 1920.83 1529.81 Q1923.08 1527.28 1923.96 1525.55 Q1924.86 1523.79 1924.86 1522.1 Q1924.86 1519.34 1922.91 1517.61 Q1920.99 1515.87 1917.89 1515.87 Q1915.69 1515.87 1913.24 1516.63 Q1910.81 1517.4 1908.03 1518.95 L1908.03 1514.23 Q1910.85 1513.09 1913.31 1512.51 Q1915.76 1511.93 1917.8 1511.93 Q1923.17 1511.93 1926.36 1514.62 Q1929.56 1517.31 1929.56 1521.8 Q1929.56 1523.93 1928.75 1525.85 Q1927.96 1527.74 1925.85 1530.34 Q1925.28 1531.01 1922.17 1534.23 Q1919.07 1537.42 1913.42 1543.18 Z\" fill=\"#000000\" fill-rule=\"evenodd\" fill-opacity=\"1\" /><path clip-path=\"url(#clip930)\" d=\"M 0 0 M2249.3 1528.49 Q2252.66 1529.2 2254.53 1531.47 Q2256.43 1533.74 2256.43 1537.07 Q2256.43 1542.19 2252.91 1544.99 Q2249.39 1547.79 2242.91 1547.79 Q2240.74 1547.79 2238.42 1547.35 Q2236.13 1546.93 2233.68 1546.08 L2233.68 1541.56 Q2235.62 1542.7 2237.94 1543.28 Q2240.25 1543.86 2242.77 1543.86 Q2247.17 1543.86 2249.46 1542.12 Q2251.78 1540.38 2251.78 1537.07 Q2251.78 1534.02 2249.63 1532.31 Q2247.5 1530.57 2243.68 1530.57 L2239.65 1530.57 L2239.65 1526.73 L2243.86 1526.73 Q2247.31 1526.73 2249.14 1525.36 Q2250.97 1523.97 2250.97 1521.38 Q2250.97 1518.72 2249.07 1517.31 Q2247.19 1515.87 2243.68 1515.87 Q2241.76 1515.87 2239.56 1516.29 Q2237.36 1516.7 2234.72 1517.58 L2234.72 1513.42 Q2237.38 1512.68 2239.69 1512.31 Q2242.03 1511.93 2244.09 1511.93 Q2249.42 1511.93 2252.52 1514.37 Q2255.62 1516.77 2255.62 1520.89 Q2255.62 1523.76 2253.98 1525.75 Q2252.33 1527.72 2249.3 1528.49 Z\" fill=\"#000000\" fill-rule=\"evenodd\" fill-opacity=\"1\" /><polyline clip-path=\"url(#clip932)\" style=\"stroke:#000000; stroke-width:2; stroke-opacity:0.1; fill:none\" points=\"\n",
       "  179.654,1359.63 2352.76,1359.63 \n",
       "  \"/>\n",
       "<polyline clip-path=\"url(#clip932)\" style=\"stroke:#000000; stroke-width:2; stroke-opacity:0.1; fill:none\" points=\"\n",
       "  179.654,1087.61 2352.76,1087.61 \n",
       "  \"/>\n",
       "<polyline clip-path=\"url(#clip932)\" style=\"stroke:#000000; stroke-width:2; stroke-opacity:0.1; fill:none\" points=\"\n",
       "  179.654,815.583 2352.76,815.583 \n",
       "  \"/>\n",
       "<polyline clip-path=\"url(#clip932)\" style=\"stroke:#000000; stroke-width:2; stroke-opacity:0.1; fill:none\" points=\"\n",
       "  179.654,543.557 2352.76,543.557 \n",
       "  \"/>\n",
       "<polyline clip-path=\"url(#clip932)\" style=\"stroke:#000000; stroke-width:2; stroke-opacity:0.1; fill:none\" points=\"\n",
       "  179.654,271.532 2352.76,271.532 \n",
       "  \"/>\n",
       "<polyline clip-path=\"url(#clip930)\" style=\"stroke:#000000; stroke-width:4; stroke-opacity:1; fill:none\" points=\"\n",
       "  179.654,1486.45 179.654,47.2441 \n",
       "  \"/>\n",
       "<polyline clip-path=\"url(#clip930)\" style=\"stroke:#000000; stroke-width:4; stroke-opacity:1; fill:none\" points=\"\n",
       "  179.654,1359.63 205.731,1359.63 \n",
       "  \"/>\n",
       "<polyline clip-path=\"url(#clip930)\" style=\"stroke:#000000; stroke-width:4; stroke-opacity:1; fill:none\" points=\"\n",
       "  179.654,1087.61 205.731,1087.61 \n",
       "  \"/>\n",
       "<polyline clip-path=\"url(#clip930)\" style=\"stroke:#000000; stroke-width:4; stroke-opacity:1; fill:none\" points=\"\n",
       "  179.654,815.583 205.731,815.583 \n",
       "  \"/>\n",
       "<polyline clip-path=\"url(#clip930)\" style=\"stroke:#000000; stroke-width:4; stroke-opacity:1; fill:none\" points=\"\n",
       "  179.654,543.557 205.731,543.557 \n",
       "  \"/>\n",
       "<polyline clip-path=\"url(#clip930)\" style=\"stroke:#000000; stroke-width:4; stroke-opacity:1; fill:none\" points=\"\n",
       "  179.654,271.532 205.731,271.532 \n",
       "  \"/>\n",
       "<path clip-path=\"url(#clip930)\" d=\"M 0 0 M51.2236 1360.09 L80.8994 1360.09 L80.8994 1364.02 L51.2236 1364.02 L51.2236 1360.09 Z\" fill=\"#000000\" fill-rule=\"evenodd\" fill-opacity=\"1\" /><path clip-path=\"url(#clip930)\" d=\"M 0 0 M86.779 1372.98 L94.4178 1372.98 L94.4178 1346.61 L86.1077 1348.28 L86.1077 1344.02 L94.3715 1342.35 L99.0474 1342.35 L99.0474 1372.98 L106.686 1372.98 L106.686 1376.91 L86.779 1376.91 L86.779 1372.98 Z\" fill=\"#000000\" fill-rule=\"evenodd\" fill-opacity=\"1\" /><path clip-path=\"url(#clip930)\" d=\"M 0 0 M111.756 1371.03 L116.64 1371.03 L116.64 1376.91 L111.756 1376.91 L111.756 1371.03 Z\" fill=\"#000000\" fill-rule=\"evenodd\" fill-opacity=\"1\" /><path clip-path=\"url(#clip930)\" d=\"M 0 0 M131.709 1345.43 Q128.098 1345.43 126.27 1349 Q124.464 1352.54 124.464 1359.67 Q124.464 1366.78 126.27 1370.34 Q128.098 1373.88 131.709 1373.88 Q135.344 1373.88 137.149 1370.34 Q138.978 1366.78 138.978 1359.67 Q138.978 1352.54 137.149 1349 Q135.344 1345.43 131.709 1345.43 M131.709 1341.73 Q137.519 1341.73 140.575 1346.34 Q143.654 1350.92 143.654 1359.67 Q143.654 1368.4 140.575 1373 Q137.519 1377.59 131.709 1377.59 Q125.899 1377.59 122.82 1373 Q119.765 1368.4 119.765 1359.67 Q119.765 1350.92 122.82 1346.34 Q125.899 1341.73 131.709 1341.73 Z\" fill=\"#000000\" fill-rule=\"evenodd\" fill-opacity=\"1\" /><path clip-path=\"url(#clip930)\" d=\"M 0 0 M50.9921 1088.06 L80.6679 1088.06 L80.6679 1092 L50.9921 1092 L50.9921 1088.06 Z\" fill=\"#000000\" fill-rule=\"evenodd\" fill-opacity=\"1\" /><path clip-path=\"url(#clip930)\" d=\"M 0 0 M95.7373 1073.41 Q92.1262 1073.41 90.2975 1076.97 Q88.4919 1080.51 88.4919 1087.64 Q88.4919 1094.75 90.2975 1098.31 Q92.1262 1101.86 95.7373 1101.86 Q99.3715 1101.86 101.177 1098.31 Q103.006 1094.75 103.006 1087.64 Q103.006 1080.51 101.177 1076.97 Q99.3715 1073.41 95.7373 1073.41 M95.7373 1069.7 Q101.547 1069.7 104.603 1074.31 Q107.682 1078.89 107.682 1087.64 Q107.682 1096.37 104.603 1100.98 Q101.547 1105.56 95.7373 1105.56 Q89.9271 1105.56 86.8484 1100.98 Q83.7929 1096.37 83.7929 1087.64 Q83.7929 1078.89 86.8484 1074.31 Q89.9271 1069.7 95.7373 1069.7 Z\" fill=\"#000000\" fill-rule=\"evenodd\" fill-opacity=\"1\" /><path clip-path=\"url(#clip930)\" d=\"M 0 0 M112.751 1099.01 L117.635 1099.01 L117.635 1104.89 L112.751 1104.89 L112.751 1099.01 Z\" fill=\"#000000\" fill-rule=\"evenodd\" fill-opacity=\"1\" /><path clip-path=\"url(#clip930)\" d=\"M 0 0 M122.751 1070.33 L141.107 1070.33 L141.107 1074.26 L127.033 1074.26 L127.033 1082.74 Q128.052 1082.39 129.07 1082.23 Q130.089 1082.04 131.107 1082.04 Q136.894 1082.04 140.274 1085.21 Q143.654 1088.38 143.654 1093.8 Q143.654 1099.38 140.181 1102.48 Q136.709 1105.56 130.39 1105.56 Q128.214 1105.56 125.945 1105.19 Q123.7 1104.82 121.293 1104.08 L121.293 1099.38 Q123.376 1100.51 125.598 1101.07 Q127.82 1101.62 130.297 1101.62 Q134.302 1101.62 136.64 1099.52 Q138.978 1097.41 138.978 1093.8 Q138.978 1090.19 136.64 1088.08 Q134.302 1085.98 130.297 1085.98 Q128.422 1085.98 126.547 1086.39 Q124.695 1086.81 122.751 1087.69 L122.751 1070.33 Z\" fill=\"#000000\" fill-rule=\"evenodd\" fill-opacity=\"1\" /><path clip-path=\"url(#clip930)\" d=\"M 0 0 M94.7419 801.382 Q91.1308 801.382 89.3021 804.946 Q87.4966 808.488 87.4966 815.618 Q87.4966 822.724 89.3021 826.289 Q91.1308 829.831 94.7419 829.831 Q98.3761 829.831 100.182 826.289 Q102.01 822.724 102.01 815.618 Q102.01 808.488 100.182 804.946 Q98.3761 801.382 94.7419 801.382 M94.7419 797.678 Q100.552 797.678 103.608 802.284 Q106.686 806.868 106.686 815.618 Q106.686 824.345 103.608 828.951 Q100.552 833.534 94.7419 833.534 Q88.9317 833.534 85.8531 828.951 Q82.7975 824.345 82.7975 815.618 Q82.7975 806.868 85.8531 802.284 Q88.9317 797.678 94.7419 797.678 Z\" fill=\"#000000\" fill-rule=\"evenodd\" fill-opacity=\"1\" /><path clip-path=\"url(#clip930)\" d=\"M 0 0 M111.756 826.983 L116.64 826.983 L116.64 832.863 L111.756 832.863 L111.756 826.983 Z\" fill=\"#000000\" fill-rule=\"evenodd\" fill-opacity=\"1\" /><path clip-path=\"url(#clip930)\" d=\"M 0 0 M131.709 801.382 Q128.098 801.382 126.27 804.946 Q124.464 808.488 124.464 815.618 Q124.464 822.724 126.27 826.289 Q128.098 829.831 131.709 829.831 Q135.344 829.831 137.149 826.289 Q138.978 822.724 138.978 815.618 Q138.978 808.488 137.149 804.946 Q135.344 801.382 131.709 801.382 M131.709 797.678 Q137.519 797.678 140.575 802.284 Q143.654 806.868 143.654 815.618 Q143.654 824.345 140.575 828.951 Q137.519 833.534 131.709 833.534 Q125.899 833.534 122.82 828.951 Q119.765 824.345 119.765 815.618 Q119.765 806.868 122.82 802.284 Q125.899 797.678 131.709 797.678 Z\" fill=\"#000000\" fill-rule=\"evenodd\" fill-opacity=\"1\" /><path clip-path=\"url(#clip930)\" d=\"M 0 0 M95.7373 529.356 Q92.1262 529.356 90.2975 532.921 Q88.4919 536.463 88.4919 543.592 Q88.4919 550.699 90.2975 554.263 Q92.1262 557.805 95.7373 557.805 Q99.3715 557.805 101.177 554.263 Q103.006 550.699 103.006 543.592 Q103.006 536.463 101.177 532.921 Q99.3715 529.356 95.7373 529.356 M95.7373 525.652 Q101.547 525.652 104.603 530.259 Q107.682 534.842 107.682 543.592 Q107.682 552.319 104.603 556.925 Q101.547 561.509 95.7373 561.509 Q89.9271 561.509 86.8484 556.925 Q83.7929 552.319 83.7929 543.592 Q83.7929 534.842 86.8484 530.259 Q89.9271 525.652 95.7373 525.652 Z\" fill=\"#000000\" fill-rule=\"evenodd\" fill-opacity=\"1\" /><path clip-path=\"url(#clip930)\" d=\"M 0 0 M112.751 554.958 L117.635 554.958 L117.635 560.837 L112.751 560.837 L112.751 554.958 Z\" fill=\"#000000\" fill-rule=\"evenodd\" fill-opacity=\"1\" /><path clip-path=\"url(#clip930)\" d=\"M 0 0 M122.751 526.277 L141.107 526.277 L141.107 530.213 L127.033 530.213 L127.033 538.685 Q128.052 538.338 129.07 538.176 Q130.089 537.99 131.107 537.99 Q136.894 537.99 140.274 541.162 Q143.654 544.333 143.654 549.75 Q143.654 555.328 140.181 558.43 Q136.709 561.509 130.39 561.509 Q128.214 561.509 125.945 561.138 Q123.7 560.768 121.293 560.027 L121.293 555.328 Q123.376 556.463 125.598 557.018 Q127.82 557.574 130.297 557.574 Q134.302 557.574 136.64 555.467 Q138.978 553.361 138.978 549.75 Q138.978 546.138 136.64 544.032 Q134.302 541.926 130.297 541.926 Q128.422 541.926 126.547 542.342 Q124.695 542.759 122.751 543.639 L122.751 526.277 Z\" fill=\"#000000\" fill-rule=\"evenodd\" fill-opacity=\"1\" /><path clip-path=\"url(#clip930)\" d=\"M 0 0 M86.779 284.877 L94.4178 284.877 L94.4178 258.511 L86.1077 260.178 L86.1077 255.919 L94.3715 254.252 L99.0474 254.252 L99.0474 284.877 L106.686 284.877 L106.686 288.812 L86.779 288.812 L86.779 284.877 Z\" fill=\"#000000\" fill-rule=\"evenodd\" fill-opacity=\"1\" /><path clip-path=\"url(#clip930)\" d=\"M 0 0 M111.756 282.932 L116.64 282.932 L116.64 288.812 L111.756 288.812 L111.756 282.932 Z\" fill=\"#000000\" fill-rule=\"evenodd\" fill-opacity=\"1\" /><path clip-path=\"url(#clip930)\" d=\"M 0 0 M131.709 257.331 Q128.098 257.331 126.27 260.895 Q124.464 264.437 124.464 271.567 Q124.464 278.673 126.27 282.238 Q128.098 285.78 131.709 285.78 Q135.344 285.78 137.149 282.238 Q138.978 278.673 138.978 271.567 Q138.978 264.437 137.149 260.895 Q135.344 257.331 131.709 257.331 M131.709 253.627 Q137.519 253.627 140.575 258.233 Q143.654 262.817 143.654 271.567 Q143.654 280.293 140.575 284.9 Q137.519 289.483 131.709 289.483 Q125.899 289.483 122.82 284.9 Q119.765 280.293 119.765 271.567 Q119.765 262.817 122.82 258.233 Q125.899 253.627 131.709 253.627 Z\" fill=\"#000000\" fill-rule=\"evenodd\" fill-opacity=\"1\" /><circle clip-path=\"url(#clip932)\" cx=\"241.157\" cy=\"1018.86\" r=\"14\" fill=\"#009af9\" fill-rule=\"evenodd\" fill-opacity=\"1\" stroke=\"#000000\" stroke-opacity=\"1\" stroke-width=\"3.2\"/>\n",
       "<circle clip-path=\"url(#clip932)\" cx=\"349.056\" cy=\"824.173\" r=\"14\" fill=\"#009af9\" fill-rule=\"evenodd\" fill-opacity=\"1\" stroke=\"#000000\" stroke-opacity=\"1\" stroke-width=\"3.2\"/>\n",
       "<circle clip-path=\"url(#clip932)\" cx=\"456.956\" cy=\"991.321\" r=\"14\" fill=\"#009af9\" fill-rule=\"evenodd\" fill-opacity=\"1\" stroke=\"#000000\" stroke-opacity=\"1\" stroke-width=\"3.2\"/>\n",
       "<circle clip-path=\"url(#clip932)\" cx=\"564.856\" cy=\"1231.62\" r=\"14\" fill=\"#009af9\" fill-rule=\"evenodd\" fill-opacity=\"1\" stroke=\"#000000\" stroke-opacity=\"1\" stroke-width=\"3.2\"/>\n",
       "<circle clip-path=\"url(#clip932)\" cx=\"672.756\" cy=\"1445.72\" r=\"14\" fill=\"#009af9\" fill-rule=\"evenodd\" fill-opacity=\"1\" stroke=\"#000000\" stroke-opacity=\"1\" stroke-width=\"3.2\"/>\n",
       "<circle clip-path=\"url(#clip932)\" cx=\"780.656\" cy=\"1329.62\" r=\"14\" fill=\"#009af9\" fill-rule=\"evenodd\" fill-opacity=\"1\" stroke=\"#000000\" stroke-opacity=\"1\" stroke-width=\"3.2\"/>\n",
       "<circle clip-path=\"url(#clip932)\" cx=\"888.555\" cy=\"1403.67\" r=\"14\" fill=\"#009af9\" fill-rule=\"evenodd\" fill-opacity=\"1\" stroke=\"#000000\" stroke-opacity=\"1\" stroke-width=\"3.2\"/>\n",
       "<circle clip-path=\"url(#clip932)\" cx=\"996.455\" cy=\"1156.48\" r=\"14\" fill=\"#009af9\" fill-rule=\"evenodd\" fill-opacity=\"1\" stroke=\"#000000\" stroke-opacity=\"1\" stroke-width=\"3.2\"/>\n",
       "<circle clip-path=\"url(#clip932)\" cx=\"1104.36\" cy=\"1023.73\" r=\"14\" fill=\"#009af9\" fill-rule=\"evenodd\" fill-opacity=\"1\" stroke=\"#000000\" stroke-opacity=\"1\" stroke-width=\"3.2\"/>\n",
       "<circle clip-path=\"url(#clip932)\" cx=\"1212.25\" cy=\"984.119\" r=\"14\" fill=\"#009af9\" fill-rule=\"evenodd\" fill-opacity=\"1\" stroke=\"#000000\" stroke-opacity=\"1\" stroke-width=\"3.2\"/>\n",
       "<circle clip-path=\"url(#clip932)\" cx=\"1320.15\" cy=\"648.658\" r=\"14\" fill=\"#009af9\" fill-rule=\"evenodd\" fill-opacity=\"1\" stroke=\"#000000\" stroke-opacity=\"1\" stroke-width=\"3.2\"/>\n",
       "<circle clip-path=\"url(#clip932)\" cx=\"1428.05\" cy=\"279.429\" r=\"14\" fill=\"#009af9\" fill-rule=\"evenodd\" fill-opacity=\"1\" stroke=\"#000000\" stroke-opacity=\"1\" stroke-width=\"3.2\"/>\n",
       "<circle clip-path=\"url(#clip932)\" cx=\"1535.95\" cy=\"234.309\" r=\"14\" fill=\"#009af9\" fill-rule=\"evenodd\" fill-opacity=\"1\" stroke=\"#000000\" stroke-opacity=\"1\" stroke-width=\"3.2\"/>\n",
       "<circle clip-path=\"url(#clip932)\" cx=\"1643.85\" cy=\"338.284\" r=\"14\" fill=\"#009af9\" fill-rule=\"evenodd\" fill-opacity=\"1\" stroke=\"#000000\" stroke-opacity=\"1\" stroke-width=\"3.2\"/>\n",
       "<circle clip-path=\"url(#clip932)\" cx=\"1751.75\" cy=\"211.394\" r=\"14\" fill=\"#009af9\" fill-rule=\"evenodd\" fill-opacity=\"1\" stroke=\"#000000\" stroke-opacity=\"1\" stroke-width=\"3.2\"/>\n",
       "<circle clip-path=\"url(#clip932)\" cx=\"1859.65\" cy=\"87.9763\" r=\"14\" fill=\"#009af9\" fill-rule=\"evenodd\" fill-opacity=\"1\" stroke=\"#000000\" stroke-opacity=\"1\" stroke-width=\"3.2\"/>\n",
       "<circle clip-path=\"url(#clip932)\" cx=\"1967.55\" cy=\"515.474\" r=\"14\" fill=\"#009af9\" fill-rule=\"evenodd\" fill-opacity=\"1\" stroke=\"#000000\" stroke-opacity=\"1\" stroke-width=\"3.2\"/>\n",
       "<circle clip-path=\"url(#clip932)\" cx=\"2075.45\" cy=\"595.965\" r=\"14\" fill=\"#009af9\" fill-rule=\"evenodd\" fill-opacity=\"1\" stroke=\"#000000\" stroke-opacity=\"1\" stroke-width=\"3.2\"/>\n",
       "<circle clip-path=\"url(#clip932)\" cx=\"2183.35\" cy=\"500.918\" r=\"14\" fill=\"#009af9\" fill-rule=\"evenodd\" fill-opacity=\"1\" stroke=\"#000000\" stroke-opacity=\"1\" stroke-width=\"3.2\"/>\n",
       "<circle clip-path=\"url(#clip932)\" cx=\"2291.25\" cy=\"580.301\" r=\"14\" fill=\"#009af9\" fill-rule=\"evenodd\" fill-opacity=\"1\" stroke=\"#000000\" stroke-opacity=\"1\" stroke-width=\"3.2\"/>\n",
       "<polyline clip-path=\"url(#clip932)\" style=\"stroke:#0000ff; stroke-width:4; stroke-opacity:1; fill:none\" stroke-dasharray=\"16, 10\" points=\"\n",
       "  241.157,815.583 246.295,824.15 251.433,832.715 256.571,841.275 261.709,849.83 266.847,858.376 271.985,866.911 277.123,875.433 282.261,883.941 287.399,892.431 \n",
       "  292.537,900.903 297.676,909.353 302.814,917.78 307.952,926.182 313.09,934.557 318.228,942.902 323.366,951.215 328.504,959.495 333.642,967.739 338.78,975.945 \n",
       "  343.918,984.111 349.056,992.236 354.194,1000.32 359.333,1008.35 364.471,1016.34 369.609,1024.28 374.747,1032.16 379.885,1039.99 385.023,1047.77 390.161,1055.49 \n",
       "  395.299,1063.15 400.437,1070.75 405.575,1078.28 410.713,1085.75 415.851,1093.15 420.99,1100.49 426.128,1107.75 431.266,1114.94 436.404,1122.06 441.542,1129.1 \n",
       "  446.68,1136.06 451.818,1142.94 456.956,1149.75 462.094,1156.47 467.232,1163.1 472.37,1169.65 477.509,1176.11 482.647,1182.48 487.785,1188.76 492.923,1194.95 \n",
       "  498.061,1201.04 503.199,1207.04 508.337,1212.94 513.475,1218.74 518.613,1224.45 523.751,1230.05 528.889,1235.55 534.027,1240.94 539.166,1246.23 544.304,1251.41 \n",
       "  549.442,1256.48 554.58,1261.45 559.718,1266.3 564.856,1271.04 569.994,1275.67 575.132,1280.19 580.27,1284.59 585.408,1288.87 590.546,1293.04 595.685,1297.09 \n",
       "  600.823,1301.01 605.961,1304.82 611.099,1308.51 616.237,1312.07 621.375,1315.52 626.513,1318.83 631.651,1322.03 636.789,1325.09 641.927,1328.03 647.065,1330.85 \n",
       "  652.203,1333.53 657.342,1336.09 662.48,1338.52 667.618,1340.82 672.756,1342.99 677.894,1345.02 683.032,1346.93 688.17,1348.7 693.308,1350.35 698.446,1351.86 \n",
       "  703.584,1353.23 708.722,1354.48 713.861,1355.59 718.999,1356.56 724.137,1357.41 729.275,1358.11 734.413,1358.69 739.551,1359.12 744.689,1359.43 749.827,1359.6 \n",
       "  754.965,1359.63 760.103,1359.53 765.241,1359.29 770.379,1358.92 775.518,1358.42 780.656,1357.78 785.794,1357 790.932,1356.09 796.07,1355.05 801.208,1353.87 \n",
       "  806.346,1352.56 811.484,1351.12 816.622,1349.54 821.76,1347.83 826.898,1345.99 832.036,1344.02 837.175,1341.92 842.313,1339.68 847.451,1337.32 852.589,1334.83 \n",
       "  857.727,1332.21 862.865,1329.46 868.003,1326.58 873.141,1323.58 878.279,1320.45 883.417,1317.19 888.555,1313.81 893.694,1310.31 898.832,1306.68 903.97,1302.93 \n",
       "  909.108,1299.07 914.246,1295.08 919.384,1290.97 924.522,1286.75 929.66,1282.4 934.798,1277.95 939.936,1273.37 945.074,1268.69 950.212,1263.89 955.351,1258.98 \n",
       "  960.489,1253.96 965.627,1248.83 970.765,1243.6 975.903,1238.26 981.041,1232.81 986.179,1227.26 991.317,1221.61 996.455,1215.85 1001.59,1210 1006.73,1204.05 \n",
       "  1011.87,1198.01 1017.01,1191.87 1022.15,1185.63 1027.28,1179.31 1032.42,1172.89 1037.56,1166.38 1042.7,1159.79 1047.84,1153.12 1052.97,1146.36 1058.11,1139.51 \n",
       "  1063.25,1132.59 1068.39,1125.59 1073.53,1118.51 1078.66,1111.36 1083.8,1104.13 1088.94,1096.83 1094.08,1089.46 1099.22,1082.03 1104.36,1074.52 1109.49,1066.96 \n",
       "  1114.63,1059.33 1119.77,1051.64 1124.91,1043.89 1130.05,1036.09 1135.18,1028.23 1140.32,1020.31 1145.46,1012.35 1150.6,1004.34 1155.74,996.282 1160.87,988.179 \n",
       "  1166.01,980.033 1171.15,971.847 1176.29,963.621 1181.43,955.359 1186.56,947.062 1191.7,938.733 1196.84,930.373 1201.98,921.985 1207.12,913.57 1212.25,905.131 \n",
       "  1217.39,896.67 1222.53,888.188 1227.67,879.689 1232.81,871.174 1237.95,862.645 1243.08,854.104 1248.22,845.554 1253.36,836.996 1258.5,828.433 1263.64,819.867 \n",
       "  1268.77,811.299 1273.91,802.733 1279.05,794.17 1284.19,785.612 1289.33,777.062 1294.46,768.521 1299.6,759.992 1304.74,751.477 1309.88,742.978 1315.02,734.496 \n",
       "  1320.15,726.035 1325.29,717.596 1330.43,709.181 1335.57,700.793 1340.71,692.433 1345.85,684.104 1350.98,675.807 1356.12,667.545 1361.26,659.319 1366.4,651.133 \n",
       "  1371.54,642.987 1376.67,634.884 1381.81,626.826 1386.95,618.814 1392.09,610.852 1397.23,602.94 1402.36,595.08 1407.5,587.276 1412.64,579.528 1417.78,571.839 \n",
       "  1422.92,564.21 1428.05,556.643 1433.19,549.141 1438.33,541.705 1443.47,534.336 1448.61,527.038 1453.74,519.811 1458.88,512.657 1464.02,505.578 1469.16,498.577 \n",
       "  1474.3,491.653 1479.44,484.811 1484.57,478.05 1489.71,471.373 1494.85,464.781 1499.99,458.276 1505.13,451.86 1510.26,445.534 1515.4,439.3 1520.54,433.159 \n",
       "  1525.68,427.113 1530.82,421.164 1535.95,415.312 1541.09,409.559 1546.23,403.907 1551.37,398.357 1556.51,392.911 1561.64,387.569 1566.78,382.334 1571.92,377.206 \n",
       "  1577.06,372.186 1582.2,367.277 1587.34,362.479 1592.47,357.793 1597.61,353.221 1602.75,348.763 1607.89,344.421 1613.03,340.196 1618.16,336.089 1623.3,332.1 \n",
       "  1628.44,328.232 1633.58,324.484 1638.72,320.859 1643.85,317.356 1648.99,313.976 1654.13,310.721 1659.27,307.591 1664.41,304.587 1669.54,301.71 1674.68,298.96 \n",
       "  1679.82,296.338 1684.96,293.845 1690.1,291.481 1695.23,289.248 1700.37,287.145 1705.51,285.172 1710.65,283.332 1715.79,281.623 1720.93,280.047 1726.06,278.604 \n",
       "  1731.2,277.294 1736.34,276.117 1741.48,275.074 1746.62,274.165 1751.75,273.39 1756.89,272.75 1762.03,272.244 1767.17,271.873 1772.31,271.637 1777.44,271.536 \n",
       "  1782.58,271.57 1787.72,271.739 1792.86,272.042 1798,272.48 1803.13,273.053 1808.27,273.761 1813.41,274.603 1818.55,275.579 1823.69,276.688 1828.83,277.932 \n",
       "  1833.96,279.309 1839.1,280.819 1844.24,282.461 1849.38,284.236 1854.52,286.142 1859.65,288.18 1864.79,290.348 1869.93,292.647 1875.07,295.075 1880.21,297.633 \n",
       "  1885.34,300.319 1890.48,303.132 1895.62,306.073 1900.76,309.14 1905.9,312.333 1911.03,315.65 1916.17,319.092 1921.31,322.656 1926.45,326.343 1931.59,330.151 \n",
       "  1936.73,334.08 1941.86,338.128 1947,342.294 1952.14,346.577 1957.28,350.977 1962.42,355.492 1967.55,360.122 1972.69,364.864 1977.83,369.718 1982.97,374.682 \n",
       "  1988.11,379.756 1993.24,384.938 1998.38,390.227 2003.52,395.621 2008.66,401.119 2013.8,406.72 2018.93,412.423 2024.07,418.225 2029.21,424.126 2034.35,430.124 \n",
       "  2039.49,436.218 2044.62,442.406 2049.76,448.686 2054.9,455.057 2060.04,461.518 2065.18,468.066 2070.32,474.701 2075.45,481.42 2080.59,488.222 2085.73,495.105 \n",
       "  2090.87,502.068 2096.01,509.108 2101.14,516.225 2106.28,523.415 2111.42,530.678 2116.56,538.012 2121.7,545.414 2126.83,552.884 2131.97,560.419 2137.11,568.017 \n",
       "  2142.25,575.676 2147.39,583.395 2152.52,591.171 2157.66,599.003 2162.8,606.889 2167.94,614.827 2173.08,622.814 2178.22,630.849 2183.35,638.93 2188.49,647.055 \n",
       "  2193.63,655.221 2198.77,663.427 2203.91,671.671 2209.04,679.951 2214.18,688.264 2219.32,696.609 2224.46,704.984 2229.6,713.386 2234.73,721.813 2239.87,730.263 \n",
       "  2245.01,738.735 2250.15,747.225 2255.29,755.733 2260.42,764.255 2265.56,772.79 2270.7,781.336 2275.84,789.891 2280.98,798.451 2286.11,807.016 2291.25,815.583 \n",
       "  \n",
       "  \"/>\n",
       "<polyline clip-path=\"url(#clip932)\" style=\"stroke:#ff0000; stroke-width:8; stroke-opacity:1; fill:none\" points=\"\n",
       "  241.157,792.633 246.295,806.381 251.433,819.92 256.571,833.25 261.709,846.373 266.847,859.29 271.985,872.001 277.123,884.508 282.261,896.812 287.399,908.914 \n",
       "  292.537,920.814 297.676,932.515 302.814,944.017 307.952,955.321 313.09,966.428 318.228,977.339 323.366,988.056 328.504,998.579 333.642,1008.91 338.78,1019.05 \n",
       "  343.918,1029 349.056,1038.76 354.194,1048.33 359.333,1057.71 364.471,1066.91 369.609,1075.92 374.747,1084.75 379.885,1093.39 385.023,1101.85 390.161,1110.14 \n",
       "  395.299,1118.24 400.437,1126.16 405.575,1133.91 410.713,1141.48 415.851,1148.87 420.99,1156.09 426.128,1163.13 431.266,1170.01 436.404,1176.71 441.542,1183.24 \n",
       "  446.68,1189.6 451.818,1195.79 456.956,1201.82 462.094,1207.68 467.232,1213.37 472.37,1218.9 477.509,1224.27 482.647,1229.48 487.785,1234.52 492.923,1239.41 \n",
       "  498.061,1244.13 503.199,1248.7 508.337,1253.11 513.475,1257.37 518.613,1261.47 523.751,1265.42 528.889,1269.22 534.027,1272.86 539.166,1276.36 544.304,1279.7 \n",
       "  549.442,1282.9 554.58,1285.95 559.718,1288.86 564.856,1291.62 569.994,1294.23 575.132,1296.71 580.27,1299.04 585.408,1301.23 590.546,1303.28 595.685,1305.19 \n",
       "  600.823,1306.96 605.961,1308.6 611.099,1310.1 616.237,1311.47 621.375,1312.71 626.513,1313.81 631.651,1314.78 636.789,1315.62 641.927,1316.33 647.065,1316.92 \n",
       "  652.203,1317.37 657.342,1317.7 662.48,1317.91 667.618,1317.99 672.756,1317.95 677.894,1317.79 683.032,1317.51 688.17,1317.11 693.308,1316.59 698.446,1315.95 \n",
       "  703.584,1315.19 708.722,1314.32 713.861,1313.34 718.999,1312.24 724.137,1311.03 729.275,1309.71 734.413,1308.28 739.551,1306.74 744.689,1305.09 749.827,1303.34 \n",
       "  754.965,1301.48 760.103,1299.51 765.241,1297.44 770.379,1295.27 775.518,1293 780.656,1290.62 785.794,1288.15 790.932,1285.58 796.07,1282.91 801.208,1280.15 \n",
       "  806.346,1277.29 811.484,1274.33 816.622,1271.28 821.76,1268.14 826.898,1264.91 832.036,1261.59 837.175,1258.18 842.313,1254.69 847.451,1251.1 852.589,1247.43 \n",
       "  857.727,1243.68 862.865,1239.84 868.003,1235.92 873.141,1231.92 878.279,1227.83 883.417,1223.67 888.555,1219.43 893.694,1215.11 898.832,1210.72 903.97,1206.25 \n",
       "  909.108,1201.71 914.246,1197.09 919.384,1192.4 924.522,1187.65 929.66,1182.82 934.798,1177.92 939.936,1172.95 945.074,1167.92 950.212,1162.82 955.351,1157.66 \n",
       "  960.489,1152.44 965.627,1147.15 970.765,1141.8 975.903,1136.39 981.041,1130.92 986.179,1125.39 991.317,1119.81 996.455,1114.17 1001.59,1108.47 1006.73,1102.73 \n",
       "  1011.87,1096.92 1017.01,1091.07 1022.15,1085.16 1027.28,1079.21 1032.42,1073.21 1037.56,1067.16 1042.7,1061.06 1047.84,1054.92 1052.97,1048.73 1058.11,1042.5 \n",
       "  1063.25,1036.22 1068.39,1029.91 1073.53,1023.56 1078.66,1017.16 1083.8,1010.73 1088.94,1004.26 1094.08,997.756 1099.22,991.216 1104.36,984.642 1109.49,978.036 \n",
       "  1114.63,971.397 1119.77,964.728 1124.91,958.03 1130.05,951.303 1135.18,944.548 1140.32,937.767 1145.46,930.96 1150.6,924.13 1155.74,917.275 1160.87,910.399 \n",
       "  1166.01,903.501 1171.15,896.584 1176.29,889.647 1181.43,882.692 1186.56,875.721 1191.7,868.733 1196.84,861.731 1201.98,854.715 1207.12,847.686 1212.25,840.645 \n",
       "  1217.39,833.594 1222.53,826.534 1227.67,819.465 1232.81,812.388 1237.95,805.305 1243.08,798.217 1248.22,791.125 1253.36,784.029 1258.5,776.932 1263.64,769.833 \n",
       "  1268.77,762.734 1273.91,755.636 1279.05,748.541 1284.19,741.448 1289.33,734.36 1294.46,727.277 1299.6,720.201 1304.74,713.131 1309.88,706.071 1315.02,699.019 \n",
       "  1320.15,691.979 1325.29,684.95 1330.43,677.933 1335.57,670.931 1340.71,663.943 1345.85,656.971 1350.98,650.016 1356.12,643.079 1361.26,636.161 1366.4,629.263 \n",
       "  1371.54,622.386 1376.67,615.532 1381.81,608.701 1386.95,601.894 1392.09,595.112 1397.23,588.357 1402.36,581.63 1407.5,574.931 1412.64,568.261 1417.78,561.622 \n",
       "  1422.92,555.015 1428.05,548.441 1433.19,541.901 1438.33,535.395 1443.47,528.926 1448.61,522.493 1453.74,516.099 1458.88,509.744 1464.02,503.429 1469.16,497.155 \n",
       "  1474.3,490.924 1479.44,484.735 1484.57,478.592 1489.71,472.494 1494.85,466.442 1499.99,460.438 1505.13,454.483 1510.26,448.577 1515.4,442.722 1520.54,436.919 \n",
       "  1525.68,431.169 1530.82,425.473 1535.95,419.832 1541.09,414.247 1546.23,408.719 1551.37,403.249 1556.51,397.838 1561.64,392.488 1566.78,387.199 1571.92,381.973 \n",
       "  1577.06,376.81 1582.2,371.711 1587.34,366.679 1592.47,361.712 1597.61,356.814 1602.75,351.984 1607.89,347.224 1613.03,342.535 1618.16,337.918 1623.3,333.374 \n",
       "  1628.44,328.904 1633.58,324.509 1638.72,320.191 1643.85,315.949 1648.99,311.786 1654.13,307.702 1659.27,303.699 1664.41,299.777 1669.54,295.937 1674.68,292.181 \n",
       "  1679.82,288.51 1684.96,284.925 1690.1,281.426 1695.23,278.015 1700.37,274.693 1705.51,271.461 1710.65,268.319 1715.79,265.27 1720.93,262.314 1726.06,259.452 \n",
       "  1731.2,256.686 1736.34,254.015 1741.48,251.442 1746.62,248.968 1751.75,246.592 1756.89,244.318 1762.03,242.145 1767.17,240.074 1772.31,238.107 1777.44,236.245 \n",
       "  1782.58,234.489 1787.72,232.84 1792.86,231.298 1798,229.866 1803.13,228.543 1808.27,227.332 1813.41,226.232 1818.55,225.246 1823.69,224.375 1828.83,223.618 \n",
       "  1833.96,222.978 1839.1,222.455 1844.24,222.051 1849.38,221.767 1854.52,221.603 1859.65,221.56 1864.79,221.641 1869.93,221.845 1875.07,222.174 1880.21,222.629 \n",
       "  1885.34,223.211 1890.48,223.921 1895.62,224.76 1900.76,225.729 1905.9,226.83 1911.03,228.062 1916.17,229.428 1921.31,230.928 1926.45,232.564 1931.59,234.336 \n",
       "  1936.73,236.246 1941.86,238.294 1947,240.482 1952.14,242.811 1957.28,245.282 1962.42,247.895 1967.55,250.652 1972.69,253.554 1977.83,256.603 1982.97,259.798 \n",
       "  1988.11,263.141 1993.24,266.634 1998.38,270.276 2003.52,274.071 2008.66,278.017 2013.8,282.117 2018.93,286.371 2024.07,290.781 2029.21,295.347 2034.35,300.072 \n",
       "  2039.49,304.954 2044.62,309.997 2049.76,315.2 2054.9,320.566 2060.04,326.094 2065.18,331.786 2070.32,337.643 2075.45,343.667 2080.59,349.857 2085.73,356.216 \n",
       "  2090.87,362.744 2096.01,369.442 2101.14,376.312 2106.28,383.354 2111.42,390.57 2116.56,397.96 2121.7,405.526 2126.83,413.269 2131.97,421.189 2137.11,429.288 \n",
       "  2142.25,437.568 2147.39,446.028 2152.52,454.67 2157.66,463.495 2162.8,472.504 2167.94,481.698 2173.08,491.078 2178.22,500.646 2183.35,510.402 2188.49,520.348 \n",
       "  2193.63,530.484 2198.77,540.811 2203.91,551.331 2209.04,562.045 2214.18,572.953 2219.32,584.057 2224.46,595.358 2229.6,606.857 2234.73,618.554 2239.87,630.452 \n",
       "  2245.01,642.55 2250.15,654.851 2255.29,667.355 2260.42,680.063 2265.56,692.976 2270.7,706.096 2275.84,719.423 2280.98,732.958 2286.11,746.703 2291.25,760.659 \n",
       "  \n",
       "  \"/>\n",
       "<path clip-path=\"url(#clip930)\" d=\"\n",
       "M252.09 337.138 L923.174 337.138 L923.174 95.2176 L252.09 95.2176  Z\n",
       "  \" fill=\"#ffffff\" fill-rule=\"evenodd\" fill-opacity=\"1\"/>\n",
       "<polyline clip-path=\"url(#clip930)\" style=\"stroke:#000000; stroke-width:4; stroke-opacity:1; fill:none\" points=\"\n",
       "  252.09,337.138 923.174,337.138 923.174,95.2176 252.09,95.2176 252.09,337.138 \n",
       "  \"/>\n",
       "<circle clip-path=\"url(#clip930)\" cx=\"348.673\" cy=\"155.698\" r=\"23\" fill=\"#009af9\" fill-rule=\"evenodd\" fill-opacity=\"1\" stroke=\"#000000\" stroke-opacity=\"1\" stroke-width=\"5.12\"/>\n",
       "<path clip-path=\"url(#clip930)\" d=\"M 0 0 M463.681 147.816 L463.681 151.843 Q461.875 150.917 459.931 150.455 Q457.986 149.992 455.903 149.992 Q452.732 149.992 451.135 150.964 Q449.561 151.936 449.561 153.88 Q449.561 155.362 450.695 156.218 Q451.829 157.052 455.255 157.816 L456.713 158.14 Q461.25 159.112 463.148 160.894 Q465.07 162.654 465.07 165.825 Q465.07 169.436 462.199 171.542 Q459.352 173.649 454.352 173.649 Q452.269 173.649 450 173.232 Q447.755 172.839 445.255 172.028 L445.255 167.63 Q447.616 168.857 449.908 169.482 Q452.199 170.084 454.445 170.084 Q457.454 170.084 459.074 169.066 Q460.695 168.024 460.695 166.149 Q460.695 164.413 459.514 163.487 Q458.357 162.561 454.399 161.704 L452.917 161.357 Q448.959 160.524 447.199 158.811 Q445.44 157.075 445.44 154.066 Q445.44 150.408 448.033 148.418 Q450.625 146.427 455.394 146.427 Q457.755 146.427 459.838 146.774 Q461.922 147.121 463.681 147.816 Z\" fill=\"#000000\" fill-rule=\"evenodd\" fill-opacity=\"1\" /><path clip-path=\"url(#clip930)\" d=\"M 0 0 M481.32 159.945 Q476.158 159.945 474.167 161.126 Q472.176 162.306 472.176 165.154 Q472.176 167.422 473.658 168.765 Q475.162 170.084 477.732 170.084 Q481.273 170.084 483.403 167.584 Q485.556 165.061 485.556 160.894 L485.556 159.945 L481.32 159.945 M489.815 158.186 L489.815 172.978 L485.556 172.978 L485.556 169.042 Q484.097 171.403 481.922 172.538 Q479.746 173.649 476.597 173.649 Q472.616 173.649 470.255 171.427 Q467.917 169.181 467.917 165.431 Q467.917 161.056 470.834 158.834 Q473.773 156.612 479.584 156.612 L485.556 156.612 L485.556 156.195 Q485.556 153.255 483.611 151.658 Q481.69 150.038 478.195 150.038 Q475.972 150.038 473.866 150.57 Q471.76 151.103 469.815 152.167 L469.815 148.232 Q472.153 147.33 474.352 146.89 Q476.551 146.427 478.635 146.427 Q484.259 146.427 487.037 149.343 Q489.815 152.26 489.815 158.186 Z\" fill=\"#000000\" fill-rule=\"evenodd\" fill-opacity=\"1\" /><path clip-path=\"url(#clip930)\" d=\"M 0 0 M514.468 152.029 Q516.065 149.158 518.287 147.793 Q520.509 146.427 523.519 146.427 Q527.569 146.427 529.768 149.274 Q531.968 152.098 531.968 157.329 L531.968 172.978 L527.685 172.978 L527.685 157.468 Q527.685 153.742 526.366 151.936 Q525.046 150.13 522.338 150.13 Q519.028 150.13 517.107 152.33 Q515.185 154.529 515.185 158.325 L515.185 172.978 L510.903 172.978 L510.903 157.468 Q510.903 153.718 509.583 151.936 Q508.264 150.13 505.509 150.13 Q502.245 150.13 500.324 152.353 Q498.403 154.552 498.403 158.325 L498.403 172.978 L494.121 172.978 L494.121 147.052 L498.403 147.052 L498.403 151.08 Q499.861 148.695 501.898 147.561 Q503.935 146.427 506.736 146.427 Q509.56 146.427 511.528 147.862 Q513.519 149.297 514.468 152.029 Z\" fill=\"#000000\" fill-rule=\"evenodd\" fill-opacity=\"1\" /><path clip-path=\"url(#clip930)\" d=\"M 0 0 M540.555 169.089 L540.555 182.839 L536.273 182.839 L536.273 147.052 L540.555 147.052 L540.555 150.987 Q541.898 148.672 543.935 147.561 Q545.995 146.427 548.842 146.427 Q553.565 146.427 556.504 150.177 Q559.467 153.927 559.467 160.038 Q559.467 166.149 556.504 169.899 Q553.565 173.649 548.842 173.649 Q545.995 173.649 543.935 172.538 Q541.898 171.403 540.555 169.089 M555.046 160.038 Q555.046 155.339 553.102 152.677 Q551.18 149.992 547.801 149.992 Q544.421 149.992 542.477 152.677 Q540.555 155.339 540.555 160.038 Q540.555 164.737 542.477 167.422 Q544.421 170.084 547.801 170.084 Q551.18 170.084 553.102 167.422 Q555.046 164.737 555.046 160.038 Z\" fill=\"#000000\" fill-rule=\"evenodd\" fill-opacity=\"1\" /><path clip-path=\"url(#clip930)\" d=\"M 0 0 M563.935 136.959 L568.194 136.959 L568.194 172.978 L563.935 172.978 L563.935 136.959 Z\" fill=\"#000000\" fill-rule=\"evenodd\" fill-opacity=\"1\" /><path clip-path=\"url(#clip930)\" d=\"M 0 0 M594.838 158.95 L594.838 161.033 L575.254 161.033 Q575.532 165.431 577.893 167.746 Q580.277 170.038 584.514 170.038 Q586.967 170.038 589.259 169.436 Q591.574 168.834 593.842 167.63 L593.842 171.658 Q591.551 172.63 589.143 173.14 Q586.736 173.649 584.259 173.649 Q578.055 173.649 574.421 170.038 Q570.81 166.427 570.81 160.269 Q570.81 153.904 574.236 150.177 Q577.685 146.427 583.518 146.427 Q588.75 146.427 591.782 149.806 Q594.838 153.163 594.838 158.95 M590.578 157.7 Q590.532 154.205 588.611 152.121 Q586.713 150.038 583.564 150.038 Q580 150.038 577.847 152.052 Q575.717 154.066 575.393 157.723 L590.578 157.7 Z\" fill=\"#000000\" fill-rule=\"evenodd\" fill-opacity=\"1\" /><polyline clip-path=\"url(#clip930)\" style=\"stroke:#0000ff; stroke-width:4; stroke-opacity:1; fill:none\" stroke-dasharray=\"16, 10\" points=\"\n",
       "  276.236,216.178 421.109,216.178 \n",
       "  \"/>\n",
       "<path clip-path=\"url(#clip930)\" d=\"M 0 0 M463.681 208.296 L463.681 212.323 Q461.875 211.397 459.931 210.935 Q457.986 210.472 455.903 210.472 Q452.732 210.472 451.135 211.444 Q449.561 212.416 449.561 214.36 Q449.561 215.842 450.695 216.698 Q451.829 217.532 455.255 218.296 L456.713 218.62 Q461.25 219.592 463.148 221.374 Q465.07 223.134 465.07 226.305 Q465.07 229.916 462.199 232.022 Q459.352 234.129 454.352 234.129 Q452.269 234.129 450 233.712 Q447.755 233.319 445.255 232.508 L445.255 228.11 Q447.616 229.337 449.908 229.962 Q452.199 230.564 454.445 230.564 Q457.454 230.564 459.074 229.546 Q460.695 228.504 460.695 226.629 Q460.695 224.893 459.514 223.967 Q458.357 223.041 454.399 222.184 L452.917 221.837 Q448.959 221.004 447.199 219.291 Q445.44 217.555 445.44 214.546 Q445.44 210.888 448.033 208.898 Q450.625 206.907 455.394 206.907 Q457.755 206.907 459.838 207.254 Q461.922 207.601 463.681 208.296 Z\" fill=\"#000000\" fill-rule=\"evenodd\" fill-opacity=\"1\" /><path clip-path=\"url(#clip930)\" d=\"M 0 0 M469.537 207.532 L473.797 207.532 L473.797 233.458 L469.537 233.458 L469.537 207.532 M469.537 197.439 L473.797 197.439 L473.797 202.833 L469.537 202.833 L469.537 197.439 Z\" fill=\"#000000\" fill-rule=\"evenodd\" fill-opacity=\"1\" /><path clip-path=\"url(#clip930)\" d=\"M 0 0 M499.815 217.809 L499.815 233.458 L495.556 233.458 L495.556 217.948 Q495.556 214.268 494.121 212.439 Q492.685 210.61 489.815 210.61 Q486.366 210.61 484.375 212.81 Q482.384 215.009 482.384 218.805 L482.384 233.458 L478.102 233.458 L478.102 207.532 L482.384 207.532 L482.384 211.56 Q483.912 209.222 485.972 208.064 Q488.056 206.907 490.764 206.907 Q495.232 206.907 497.523 209.685 Q499.815 212.439 499.815 217.809 Z\" fill=\"#000000\" fill-rule=\"evenodd\" fill-opacity=\"1\" /><path clip-path=\"url(#clip930)\" d=\"M 0 0 M514.514 197.486 Q511.412 202.81 509.907 208.018 Q508.403 213.226 508.403 218.573 Q508.403 223.921 509.907 229.175 Q511.435 234.407 514.514 239.708 L510.81 239.708 Q507.338 234.268 505.602 229.013 Q503.889 223.759 503.889 218.573 Q503.889 213.411 505.602 208.18 Q507.315 202.948 510.81 197.486 L514.514 197.486 Z\" fill=\"#000000\" fill-rule=\"evenodd\" fill-opacity=\"1\" /><path clip-path=\"url(#clip930)\" d=\"M 0 0 M540.532 207.532 L531.157 220.147 L541.018 233.458 L535.995 233.458 L528.449 223.272 L520.903 233.458 L515.88 233.458 L525.949 219.893 L516.736 207.532 L521.759 207.532 L528.634 216.768 L535.509 207.532 L540.532 207.532 Z\" fill=\"#000000\" fill-rule=\"evenodd\" fill-opacity=\"1\" /><path clip-path=\"url(#clip930)\" d=\"M 0 0 M544.815 197.486 L548.518 197.486 Q551.991 202.948 553.704 208.18 Q555.44 213.411 555.44 218.573 Q555.44 223.759 553.704 229.013 Q551.991 234.268 548.518 239.708 L544.815 239.708 Q547.893 234.407 549.398 229.175 Q550.926 223.921 550.926 218.573 Q550.926 213.226 549.398 208.018 Q547.893 202.81 544.815 197.486 Z\" fill=\"#000000\" fill-rule=\"evenodd\" fill-opacity=\"1\" /><polyline clip-path=\"url(#clip930)\" style=\"stroke:#ff0000; stroke-width:4; stroke-opacity:1; fill:none\" points=\"\n",
       "  276.236,276.658 421.109,276.658 \n",
       "  \"/>\n",
       "<path clip-path=\"url(#clip930)\" d=\"M 0 0 M464.167 271.947 L464.167 257.919 L468.426 257.919 L468.426 293.938 L464.167 293.938 L464.167 290.049 Q462.824 292.363 460.764 293.498 Q458.727 294.609 455.857 294.609 Q451.158 294.609 448.195 290.859 Q445.255 287.109 445.255 280.998 Q445.255 274.887 448.195 271.137 Q451.158 267.387 455.857 267.387 Q458.727 267.387 460.764 268.521 Q462.824 269.632 464.167 271.947 M449.653 280.998 Q449.653 285.697 451.574 288.382 Q453.519 291.044 456.899 291.044 Q460.278 291.044 462.223 288.382 Q464.167 285.697 464.167 280.998 Q464.167 276.299 462.223 273.637 Q460.278 270.952 456.899 270.952 Q453.519 270.952 451.574 273.637 Q449.653 276.299 449.653 280.998 Z\" fill=\"#000000\" fill-rule=\"evenodd\" fill-opacity=\"1\" /><path clip-path=\"url(#clip930)\" d=\"M 0 0 M495.07 279.91 L495.07 281.993 L475.486 281.993 Q475.764 286.391 478.125 288.706 Q480.509 290.998 484.746 290.998 Q487.199 290.998 489.491 290.396 Q491.806 289.794 494.074 288.59 L494.074 292.618 Q491.783 293.59 489.375 294.1 Q486.968 294.609 484.491 294.609 Q478.287 294.609 474.653 290.998 Q471.042 287.387 471.042 281.229 Q471.042 274.864 474.468 271.137 Q477.917 267.387 483.75 267.387 Q488.982 267.387 492.014 270.766 Q495.07 274.123 495.07 279.91 M490.81 278.66 Q490.764 275.165 488.843 273.081 Q486.945 270.998 483.797 270.998 Q480.232 270.998 478.079 273.012 Q475.949 275.026 475.625 278.683 L490.81 278.66 Z\" fill=\"#000000\" fill-rule=\"evenodd\" fill-opacity=\"1\" /><path clip-path=\"url(#clip930)\" d=\"M 0 0 M516.597 280.674 Q516.597 276.044 514.676 273.498 Q512.778 270.952 509.329 270.952 Q505.903 270.952 503.982 273.498 Q502.083 276.044 502.083 280.674 Q502.083 285.28 503.982 287.826 Q505.903 290.373 509.329 290.373 Q512.778 290.373 514.676 287.826 Q516.597 285.28 516.597 280.674 M520.856 290.72 Q520.856 297.34 517.917 300.558 Q514.977 303.799 508.912 303.799 Q506.667 303.799 504.676 303.451 Q502.685 303.127 500.81 302.433 L500.81 298.289 Q502.685 299.308 504.514 299.794 Q506.343 300.28 508.241 300.28 Q512.431 300.28 514.514 298.081 Q516.597 295.905 516.597 291.484 L516.597 289.377 Q515.278 291.669 513.218 292.803 Q511.157 293.938 508.287 293.938 Q503.519 293.938 500.602 290.303 Q497.685 286.669 497.685 280.674 Q497.685 274.655 500.602 271.021 Q503.519 267.387 508.287 267.387 Q511.157 267.387 513.218 268.521 Q515.278 269.655 516.597 271.947 L516.597 268.012 L520.856 268.012 L520.856 290.72 Z\" fill=\"#000000\" fill-rule=\"evenodd\" fill-opacity=\"1\" /><path clip-path=\"url(#clip930)\" d=\"M 0 0 M540.347 271.993 Q539.63 271.577 538.773 271.391 Q537.94 271.183 536.921 271.183 Q533.31 271.183 531.366 273.544 Q529.444 275.882 529.444 280.28 L529.444 293.938 L525.162 293.938 L525.162 268.012 L529.444 268.012 L529.444 272.04 Q530.787 269.678 532.94 268.544 Q535.093 267.387 538.171 267.387 Q538.611 267.387 539.143 267.456 Q539.676 267.503 540.324 267.618 L540.347 271.993 Z\" fill=\"#000000\" fill-rule=\"evenodd\" fill-opacity=\"1\" /><path clip-path=\"url(#clip930)\" d=\"M 0 0 M565.949 279.91 L565.949 281.993 L546.366 281.993 Q546.643 286.391 549.004 288.706 Q551.389 290.998 555.625 290.998 Q558.079 290.998 560.37 290.396 Q562.685 289.794 564.953 288.59 L564.953 292.618 Q562.662 293.59 560.254 294.1 Q557.847 294.609 555.37 294.609 Q549.167 294.609 545.532 290.998 Q541.921 287.387 541.921 281.229 Q541.921 274.864 545.347 271.137 Q548.796 267.387 554.629 267.387 Q559.861 267.387 562.893 270.766 Q565.949 274.123 565.949 279.91 M561.69 278.66 Q561.643 275.165 559.722 273.081 Q557.824 270.998 554.676 270.998 Q551.111 270.998 548.958 273.012 Q546.829 275.026 546.505 278.683 L561.69 278.66 Z\" fill=\"#000000\" fill-rule=\"evenodd\" fill-opacity=\"1\" /><path clip-path=\"url(#clip930)\" d=\"M 0 0 M592.592 279.91 L592.592 281.993 L573.009 281.993 Q573.287 286.391 575.648 288.706 Q578.032 290.998 582.268 290.998 Q584.722 290.998 587.014 290.396 Q589.328 289.794 591.597 288.59 L591.597 292.618 Q589.305 293.59 586.898 294.1 Q584.49 294.609 582.014 294.609 Q575.81 294.609 572.176 290.998 Q568.565 287.387 568.565 281.229 Q568.565 274.864 571.99 271.137 Q575.44 267.387 581.273 267.387 Q586.504 267.387 589.537 270.766 Q592.592 274.123 592.592 279.91 M588.333 278.66 Q588.287 275.165 586.365 273.081 Q584.467 270.998 581.319 270.998 Q577.754 270.998 575.602 273.012 Q573.472 275.026 573.148 278.683 L588.333 278.66 Z\" fill=\"#000000\" fill-rule=\"evenodd\" fill-opacity=\"1\" /><path clip-path=\"url(#clip930)\" d=\"M 0 0 M594.907 279.053 L607.384 279.053 L607.384 282.85 L594.907 282.85 L594.907 279.053 Z\" fill=\"#000000\" fill-rule=\"evenodd\" fill-opacity=\"1\" /><path clip-path=\"url(#clip930)\" d=\"M 0 0 M626.62 275.303 Q629.976 276.021 631.851 278.289 Q633.749 280.558 633.749 283.891 Q633.749 289.007 630.231 291.808 Q626.712 294.609 620.231 294.609 Q618.055 294.609 615.74 294.169 Q613.449 293.752 610.995 292.896 L610.995 288.382 Q612.939 289.516 615.254 290.095 Q617.569 290.674 620.092 290.674 Q624.49 290.674 626.782 288.938 Q629.097 287.201 629.097 283.891 Q629.097 280.836 626.944 279.123 Q624.814 277.387 620.995 277.387 L616.967 277.387 L616.967 273.544 L621.18 273.544 Q624.629 273.544 626.458 272.178 Q628.286 270.79 628.286 268.197 Q628.286 265.535 626.388 264.123 Q624.513 262.688 620.995 262.688 Q619.074 262.688 616.875 263.104 Q614.675 263.521 612.037 264.401 L612.037 260.234 Q614.699 259.493 617.013 259.123 Q619.351 258.753 621.412 258.753 Q626.736 258.753 629.837 261.183 Q632.939 263.59 632.939 267.711 Q632.939 270.581 631.296 272.572 Q629.652 274.54 626.62 275.303 Z\" fill=\"#000000\" fill-rule=\"evenodd\" fill-opacity=\"1\" /><path clip-path=\"url(#clip930)\" d=\"M 0 0 M657.407 290.049 L657.407 303.799 L653.124 303.799 L653.124 268.012 L657.407 268.012 L657.407 271.947 Q658.749 269.632 660.786 268.521 Q662.846 267.387 665.694 267.387 Q670.416 267.387 673.356 271.137 Q676.319 274.887 676.319 280.998 Q676.319 287.109 673.356 290.859 Q670.416 294.609 665.694 294.609 Q662.846 294.609 660.786 293.498 Q658.749 292.363 657.407 290.049 M671.897 280.998 Q671.897 276.299 669.953 273.637 Q668.032 270.952 664.652 270.952 Q661.272 270.952 659.328 273.637 Q657.407 276.299 657.407 280.998 Q657.407 285.697 659.328 288.382 Q661.272 291.044 664.652 291.044 Q668.032 291.044 669.953 288.382 Q671.897 285.697 671.897 280.998 Z\" fill=\"#000000\" fill-rule=\"evenodd\" fill-opacity=\"1\" /><path clip-path=\"url(#clip930)\" d=\"M 0 0 M690.832 270.998 Q687.407 270.998 685.416 273.683 Q683.425 276.345 683.425 280.998 Q683.425 285.651 685.393 288.336 Q687.383 290.998 690.832 290.998 Q694.235 290.998 696.226 288.313 Q698.217 285.627 698.217 280.998 Q698.217 276.391 696.226 273.706 Q694.235 270.998 690.832 270.998 M690.832 267.387 Q696.388 267.387 699.559 270.998 Q702.731 274.609 702.731 280.998 Q702.731 287.364 699.559 290.998 Q696.388 294.609 690.832 294.609 Q685.254 294.609 682.082 290.998 Q678.934 287.364 678.934 280.998 Q678.934 274.609 682.082 270.998 Q685.254 267.387 690.832 267.387 Z\" fill=\"#000000\" fill-rule=\"evenodd\" fill-opacity=\"1\" /><path clip-path=\"url(#clip930)\" d=\"M 0 0 M707.198 257.919 L711.457 257.919 L711.457 293.938 L707.198 293.938 L707.198 257.919 Z\" fill=\"#000000\" fill-rule=\"evenodd\" fill-opacity=\"1\" /><path clip-path=\"url(#clip930)\" d=\"M 0 0 M726.712 296.345 Q724.906 300.975 723.193 302.387 Q721.48 303.799 718.61 303.799 L715.207 303.799 L715.207 300.234 L717.707 300.234 Q719.467 300.234 720.439 299.4 Q721.411 298.567 722.592 295.465 L723.355 293.521 L712.869 268.012 L717.383 268.012 L725.485 288.289 L733.587 268.012 L738.101 268.012 L726.712 296.345 Z\" fill=\"#000000\" fill-rule=\"evenodd\" fill-opacity=\"1\" /><path clip-path=\"url(#clip930)\" d=\"M 0 0 M764.119 278.289 L764.119 293.938 L759.86 293.938 L759.86 278.428 Q759.86 274.748 758.425 272.919 Q756.989 271.09 754.119 271.09 Q750.67 271.09 748.679 273.29 Q746.689 275.489 746.689 279.285 L746.689 293.938 L742.406 293.938 L742.406 268.012 L746.689 268.012 L746.689 272.04 Q748.216 269.702 750.277 268.544 Q752.36 267.387 755.068 267.387 Q759.536 267.387 761.827 270.165 Q764.119 272.919 764.119 278.289 Z\" fill=\"#000000\" fill-rule=\"evenodd\" fill-opacity=\"1\" /><path clip-path=\"url(#clip930)\" d=\"M 0 0 M778.633 270.998 Q775.207 270.998 773.216 273.683 Q771.226 276.345 771.226 280.998 Q771.226 285.651 773.193 288.336 Q775.184 290.998 778.633 290.998 Q782.036 290.998 784.026 288.313 Q786.017 285.627 786.017 280.998 Q786.017 276.391 784.026 273.706 Q782.036 270.998 778.633 270.998 M778.633 267.387 Q784.188 267.387 787.36 270.998 Q790.531 274.609 790.531 280.998 Q790.531 287.364 787.36 290.998 Q784.188 294.609 778.633 294.609 Q773.054 294.609 769.883 290.998 Q766.735 287.364 766.735 280.998 Q766.735 274.609 769.883 270.998 Q773.054 267.387 778.633 267.387 Z\" fill=\"#000000\" fill-rule=\"evenodd\" fill-opacity=\"1\" /><path clip-path=\"url(#clip930)\" d=\"M 0 0 M815.184 272.989 Q816.781 270.118 819.003 268.753 Q821.225 267.387 824.235 267.387 Q828.285 267.387 830.484 270.234 Q832.684 273.058 832.684 278.289 L832.684 293.938 L828.401 293.938 L828.401 278.428 Q828.401 274.702 827.082 272.896 Q825.762 271.09 823.054 271.09 Q819.744 271.09 817.822 273.29 Q815.901 275.489 815.901 279.285 L815.901 293.938 L811.619 293.938 L811.619 278.428 Q811.619 274.678 810.299 272.896 Q808.98 271.09 806.225 271.09 Q802.961 271.09 801.04 273.313 Q799.119 275.512 799.119 279.285 L799.119 293.938 L794.837 293.938 L794.837 268.012 L799.119 268.012 L799.119 272.04 Q800.577 269.655 802.614 268.521 Q804.651 267.387 807.452 267.387 Q810.276 267.387 812.244 268.822 Q814.235 270.257 815.184 272.989 Z\" fill=\"#000000\" fill-rule=\"evenodd\" fill-opacity=\"1\" /><path clip-path=\"url(#clip930)\" d=\"M 0 0 M837.151 268.012 L841.41 268.012 L841.41 293.938 L837.151 293.938 L837.151 268.012 M837.151 257.919 L841.41 257.919 L841.41 263.313 L837.151 263.313 L837.151 257.919 Z\" fill=\"#000000\" fill-rule=\"evenodd\" fill-opacity=\"1\" /><path clip-path=\"url(#clip930)\" d=\"M 0 0 M857.66 280.905 Q852.498 280.905 850.508 282.086 Q848.517 283.266 848.517 286.114 Q848.517 288.382 849.998 289.725 Q851.503 291.044 854.072 291.044 Q857.614 291.044 859.744 288.544 Q861.896 286.021 861.896 281.854 L861.896 280.905 L857.66 280.905 M866.156 279.146 L866.156 293.938 L861.896 293.938 L861.896 290.002 Q860.438 292.363 858.262 293.498 Q856.086 294.609 852.938 294.609 Q848.957 294.609 846.595 292.387 Q844.258 290.141 844.258 286.391 Q844.258 282.016 847.174 279.794 Q850.114 277.572 855.924 277.572 L861.896 277.572 L861.896 277.155 Q861.896 274.215 859.952 272.618 Q858.031 270.998 854.535 270.998 Q852.313 270.998 850.207 271.53 Q848.1 272.063 846.156 273.127 L846.156 269.192 Q848.494 268.29 850.693 267.85 Q852.892 267.387 854.975 267.387 Q860.6 267.387 863.378 270.303 Q866.156 273.22 866.156 279.146 Z\" fill=\"#000000\" fill-rule=\"evenodd\" fill-opacity=\"1\" /><path clip-path=\"url(#clip930)\" d=\"M 0 0 M870.623 257.919 L874.882 257.919 L874.882 293.938 L870.623 293.938 L870.623 257.919 Z\" fill=\"#000000\" fill-rule=\"evenodd\" fill-opacity=\"1\" /></svg>\n"
      ]
     },
     "execution_count": 19,
     "metadata": {},
     "output_type": "execute_result"
    }
   ],
   "source": [
    "@teval (:block, \n",
    "    (:using, (:., :Plots)), \n",
    "    (:(=), :n, 20), \n",
    "    (:(=), :x, (:range, (:parameters, (:kw, :length, 20)), (:-, :π), :π)), \n",
    "    (:(=), :noise, (:*, 0.3, (:randn, :n))), \n",
    "    (:(=), :y, (:+, (:., :sin, (:tuple, :x)), :noise)), \n",
    "    (:(=), :X, \n",
    "        (:hcat, (:..., (:generator, (:call, :.^, :x, :k), (:(=), :k, (:(:), 0, 3)))))), \n",
    "    (:(=), :b, (:\\, :X, :y)), \n",
    "    (:(=), (:call, :f, :x), \n",
    "        (:sum, (:generator, (:*, (:ref, :b, (:+, :k, 1)), (:^, :x, :k)), \n",
    "            (:(=), :k, (:(:), 0, 3))))), \n",
    "    (:(=), :xs, (:range, (:parameters, (:kw, :length, 400)), (:-, :π), :π)), \n",
    "    (:plot, (:parameters, (:kw, :legend, QuoteNode(:topleft)))), \n",
    "    (:scatter!, (:parameters, (:kw, :label, \"sample\")), :x, :y), \n",
    "    (:plot!, (:parameters, \n",
    "            (:kw, :label, \"sin(x)\"), \n",
    "            (:kw, :color, QuoteNode(:blue)), \n",
    "            (:kw, :ls, QuoteNode(:dash))), \n",
    "        :xs, (:., :sin, (:tuple, :xs))), \n",
    "    (:plot!, (:parameters, \n",
    "            (:kw, :label, \"degree-3 polynomial\"), \n",
    "            (:kw, :color, QuoteNode(:red)), \n",
    "            (:kw, :lw, 2)), \n",
    "        :xs, (:., :f, (:tuple, :xs))))"
   ]
  },
  {
   "cell_type": "code",
   "execution_count": 20,
   "metadata": {},
   "outputs": [
    {
     "data": {
      "text/markdown": [
       "```julia\n",
       "begin\n",
       "    using Plots\n",
       "    n = 20\n",
       "    x = range(-π, π; length = 20)\n",
       "    noise = 0.3 * randn(n)\n",
       "    y = sin.(x) + noise\n",
       "    X = hcat((x .^ k for k = 0:3)...)\n",
       "    b = X \\ y\n",
       "    f(x) = sum((b[k + 1] * x ^ k for k = 0:3))\n",
       "    xs = range(-π, π; length = 400)\n",
       "    plot(; legend = :topleft)\n",
       "    scatter!(x, y; label = \"sample\")\n",
       "    plot!(xs, sin.(xs); label = \"sin(x)\", color = :blue, ls = :dash)\n",
       "    plot!(xs, f.(xs); label = \"degree-3 polynomial\", color = :red, lw = 2)\n",
       "end\n",
       "```"
      ]
     },
     "metadata": {},
     "output_type": "display_data"
    }
   ],
   "source": [
    "(:block, \n",
    "    (:using, (:., :Plots)), \n",
    "    (:(=), :n, 20), \n",
    "    (:(=), :x, (:range, (:parameters, (:kw, :length, 20)), (:-, :π), :π)), \n",
    "    (:(=), :noise, (:*, 0.3, (:randn, :n))), \n",
    "    (:(=), :y, (:+, (:., :sin, (:tuple, :x)), :noise)), \n",
    "    (:(=), :X, \n",
    "        (:hcat, (:..., (:generator, (:call, :.^, :x, :k), (:(=), :k, (:(:), 0, 3)))))), \n",
    "    (:(=), :b, (:\\, :X, :y)), \n",
    "    (:(=), (:call, :f, :x), \n",
    "        (:sum, (:generator, (:*, (:ref, :b, (:+, :k, 1)), (:^, :x, :k)), \n",
    "            (:(=), :k, (:(:), 0, 3))))), \n",
    "    (:(=), :xs, (:range, (:parameters, (:kw, :length, 400)), (:-, :π), :π)), \n",
    "    (:plot, (:parameters, (:kw, :legend, QuoteNode(:topleft)))), \n",
    "    (:scatter!, (:parameters, (:kw, :label, \"sample\")), :x, :y), \n",
    "    (:plot!, (:parameters, \n",
    "            (:kw, :label, \"sin(x)\"), \n",
    "            (:kw, :color, QuoteNode(:blue)), \n",
    "            (:kw, :ls, QuoteNode(:dash))), \n",
    "        :xs, (:., :sin, (:tuple, :xs))), \n",
    "    (:plot!, (:parameters, \n",
    "            (:kw, :label, \"degree-3 polynomial\"), \n",
    "            (:kw, :color, QuoteNode(:red)), \n",
    "            (:kw, :lw, 2)), \n",
    "        :xs, (:., :f, (:tuple, :xs)))) |> texpr2expr |> \n",
    "x -> display(\"text/markdown\", \"```julia\\n$x\\n```\")"
   ]
  },
  {
   "cell_type": "code",
   "execution_count": null,
   "metadata": {},
   "outputs": [],
   "source": []
  }
 ],
 "metadata": {
  "@webio": {
   "lastCommId": null,
   "lastKernelId": null
  },
  "jupytext": {
   "formats": "ipynb,md"
  },
  "kernelspec": {
   "display_name": "Julia MKL depwarn -O3 1.5.2",
   "language": "julia",
   "name": "julia-mkl-depwarn--o3-1.5"
  },
  "language_info": {
   "file_extension": ".jl",
   "mimetype": "application/julia",
   "name": "julia",
   "version": "1.5.2"
  },
  "toc": {
   "base_numbering": 1,
   "nav_menu": {},
   "number_sections": true,
   "sideBar": true,
   "skip_h1_title": false,
   "title_cell": "Table of Contents",
   "title_sidebar": "Contents",
   "toc_cell": false,
   "toc_position": {},
   "toc_section_display": true,
   "toc_window_display": false
  }
 },
 "nbformat": 4,
 "nbformat_minor": 4
}
